{
 "cells": [
  {
   "cell_type": "code",
   "execution_count": 25,
   "metadata": {},
   "outputs": [],
   "source": [
    "#---import libraries relating to data manipulation, visualization---------------------------------------------------\n",
    "import pandas as pd\n",
    "%matplotlib inline\n",
    "import warnings\n",
    "warnings.filterwarnings('ignore')\n",
    "import pickle\n",
    "\n",
    "\n",
    "pd.set_option('display.max_columns', None)\n",
    "pd.set_option(\"max_colwidth\", None)\n",
    "\n",
    "import sys\n",
    "sys.path.append('./src')  # Add the 'src' directory to the path\n",
    "\n",
    "#### Import Data Loading and Processing Functions<\n",
    "from multimodal.data_class import DataLoader\n",
    "from multimodal.helper_functions import  read_config, reproducible_comp, detect_peaks , get_acc_force_list, get_final_df\n",
    "\n",
    "reproducible_comp()\n"
   ]
  },
  {
   "cell_type": "code",
   "execution_count": 18,
   "metadata": {},
   "outputs": [],
   "source": [
    "if __name__ == \"__main__\":\n",
    "    # set path for new files\n",
    "    path = 'Merged'\n",
    "    # set segment size for peak windows\n",
    "    segment_size = 500\n",
    "    # get data from dataloader\n",
    "    dl_inner = DataLoader(meta_file=r\"..\\data\\\\raw_data\\Stamping_curves\\00_Versuchsdurchführung_Datensatz1.xlsx\",\n",
    "                    acc_data_folders=[r\"..\\data\\raw_data\\Stamping_curves\"], \n",
    "                    sheet_name_meta=\"VD_klein_bearbeitet\",\n",
    "                    sheet_name_curves=\"RawData_klein_bearbeitet\")\n",
    "    \n",
    "    dl_outer = DataLoader(meta_file=r\"..\\data\\raw_data\\Stamping_curves\\00_Versuchsdurchführung_Datensatz1.xlsx\",\n",
    "                    acc_data_folders=[r\"..\\data\\raw_data\\Stamping_curves\"], \n",
    "                    sheet_name_meta=\"VD_groß_bearbeitet\",\n",
    "                    sheet_name_curves=\"RawData_groß_bearbeitet\")    \n",
    "    "
   ]
  },
  {
   "cell_type": "code",
   "execution_count": 19,
   "metadata": {},
   "outputs": [],
   "source": [
    "tmpfnlist_inner, tmpacclist_inner = get_acc_force_list(dl_inner)\n",
    "tmpfnlist_outer, tmpacclist_outer = get_acc_force_list(dl_outer)\n"
   ]
  },
  {
   "cell_type": "code",
   "execution_count": 30,
   "metadata": {},
   "outputs": [],
   "source": [
    "# Save data to a pickle file\n",
    "data_list = [tmpfnlist_inner, tmpfnlist_outer, tmpacclist_inner, tmpacclist_outer]\n",
    "name_list = [\"force_inner\", \"force_outer\", \"acc_inner\", \"acc_outer\"]\n",
    "\n",
    "for idx, file in enumerate(data_list): \n",
    "    with open(f\"..//data/processed_data//{name_list[idx]}.pkl\", 'wb') as picklefile:\n",
    "        pickle.dump(file, picklefile)"
   ]
  },
  {
   "cell_type": "code",
   "execution_count": null,
   "metadata": {},
   "outputs": [],
   "source": [
    "\n",
    "features_acc_inner, category_acc_inner, df_acc_inner = get_final_df(tmpacclist_inner, is_acc_data=1, is_multiclass=1)\n",
    "features_force_inner, category_force_inner, df_force_inner = get_final_df(tmpfnlist_inner, is_acc_data=0, is_multiclass=1)\n",
    "\n",
    "features_acc_outer, category_acc_outer, df_acc_outer = get_final_df(tmpacclist_outer, is_acc_data=1, is_multiclass=1)\n",
    "features_force_outer, category_force_outer, df_force_outer = get_final_df(tmpfnlist_outer, is_acc_data=0, is_multiclass=1)"
   ]
  },
  {
   "cell_type": "code",
   "execution_count": 20,
   "metadata": {},
   "outputs": [
    {
     "name": "stdout",
     "output_type": "stream",
     "text": [
      "1350\n",
      "1350\n",
      "1330\n",
      "1330\n"
     ]
    }
   ],
   "source": [
    "print(len(features_acc_inner))\n",
    "print(len(features_force_inner))\n",
    "print(len(features_acc_outer))\n",
    "print(len(features_force_outer))"
   ]
  },
  {
   "cell_type": "markdown",
   "metadata": {},
   "source": [
    "# Thank You"
   ]
  }
 ],
 "metadata": {
  "kernelspec": {
   "display_name": ".aifaps",
   "language": "python",
   "name": "python3"
  },
  "language_info": {
   "codemirror_mode": {
    "name": "ipython",
    "version": 3
   },
   "file_extension": ".py",
   "mimetype": "text/x-python",
   "name": "python",
   "nbconvert_exporter": "python",
   "pygments_lexer": "ipython3",
   "version": "3.11.5"
  },
  "orig_nbformat": 4
 },
 "nbformat": 4,
 "nbformat_minor": 2
}
