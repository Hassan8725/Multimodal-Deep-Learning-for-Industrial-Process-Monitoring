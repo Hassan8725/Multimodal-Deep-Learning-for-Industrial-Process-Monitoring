{
 "cells": [
  {
   "cell_type": "code",
   "execution_count": 1,
   "metadata": {},
   "outputs": [],
   "source": [
    "#---import libraries relating to data manipulation, visualization---------------------------------------------------\n",
    "import pandas as pd\n",
    "pd.set_option('display.max_columns', None)\n",
    "pd.set_option(\"max_colwidth\", None)\n",
    "\n",
    "\n",
    "\n",
    "import warnings\n",
    "warnings.filterwarnings('ignore')\n",
    "import pickle\n",
    "\n",
    "import sys\n",
    "sys.path.append('../../src')  # Add the 'src' directory to the path"
   ]
  },
  {
   "cell_type": "code",
   "execution_count": 2,
   "metadata": {},
   "outputs": [],
   "source": [
    "# Read the dataset into a pandas DataFrame\n",
    "data = pd.read_excel(\"../data/raw_data/press_in/Versuchsdurchführung_Einpressdatensatz_Final_bearbeitet.xlsx\",\n",
    "                    sheet_name=\"RawData1_bearbeitet\")\n",
    "\n",
    "# Extract the 'category' column\n",
    "category_column = data['category']\n",
    "\n",
    "# Select and merge columns starting with 'Value'\n",
    "value_columns = data.filter(like='Value')\n",
    "\n",
    "# Merge the rows for each category into a single row with an array\n",
    "result = pd.concat([category_column, value_columns.apply(list, axis=1)], axis=1)\n",
    "\n",
    "# Rename the merged column to 'Merged_Values'\n",
    "result.rename(columns={0: 'Merged_Values'}, inplace=True)"
   ]
  },
  {
   "cell_type": "code",
   "execution_count": 3,
   "metadata": {},
   "outputs": [],
   "source": [
    "with open(f\"../data/processed_data/press_in_df.pkl\", 'wb') as picklefile:\n",
    "    pickle.dump(result, picklefile)"
   ]
  }
 ],
 "metadata": {
  "kernelspec": {
   "display_name": ".aifaps",
   "language": "python",
   "name": "python3"
  },
  "language_info": {
   "codemirror_mode": {
    "name": "ipython",
    "version": 3
   },
   "file_extension": ".py",
   "mimetype": "text/x-python",
   "name": "python",
   "nbconvert_exporter": "python",
   "pygments_lexer": "ipython3",
   "version": "3.11.6"
  }
 },
 "nbformat": 4,
 "nbformat_minor": 2
}
