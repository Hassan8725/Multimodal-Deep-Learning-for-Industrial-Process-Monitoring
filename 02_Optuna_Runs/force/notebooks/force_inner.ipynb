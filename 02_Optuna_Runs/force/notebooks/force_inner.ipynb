{
 "cells": [
  {
   "cell_type": "code",
   "execution_count": 30,
   "metadata": {},
   "outputs": [],
   "source": [
    "#---import libraries relating to data manipulation, visualization---------------------------------------------------\n",
    "import pandas as pd\n",
    "%matplotlib inline\n",
    "import numpy as np\n",
    "import json\n",
    "\n",
    "\n",
    "#-------import libraries to evaluate the deep learning model---------------------------------------------------------------\n",
    "from sklearn.model_selection import train_test_split\n",
    "\n",
    "\n",
    "import warnings\n",
    "warnings.filterwarnings('ignore')\n",
    "\n",
    "#------ import Deep Learning Libraries-------#\n",
    "\n",
    "import torch\n",
    "import torch.nn as nn\n",
    "import torch.optim as optim\n",
    "\n",
    "import optuna\n",
    "from optuna.trial import Trial\n",
    "\n",
    "import pickle\n",
    "\n",
    "\n",
    "pd.set_option('display.max_columns', None)\n",
    "pd.set_option(\"max_colwidth\", None)\n",
    "\n",
    "import sys\n",
    "sys.path.append('../../../src')  # Add the 'src' directory to the path\n",
    "\n",
    "#### Import Data Loading and Processing Functions\n",
    "from multimodal.helper_functions import   reproducible_comp,  get_final_df\n",
    "from multimodal.model_architecture import Generic1DCNN\n",
    "reproducible_comp()"
   ]
  },
  {
   "cell_type": "code",
   "execution_count": 33,
   "metadata": {},
   "outputs": [
    {
     "name": "stdout",
     "output_type": "stream",
     "text": [
      "Features Shape:  (1350, 1)\n",
      "Labels Shape:  (1350, 4)\n"
     ]
    }
   ],
   "source": [
    "file_path = \"../../../data/processed_data/force_inner.pkl\"\n",
    "with open(file_path, 'rb') as picklefile:\n",
    "    data = pickle.load(picklefile)\n",
    "\n",
    "features_force_inner, category_force_inner, category_names, df_force_inner = get_final_df(data, is_acc_data=0, is_multilabel=1)\n",
    "\n",
    "labels = category_force_inner.copy()\n",
    "features=features_force_inner.copy()\n",
    "print(\"Features Shape: \", features.shape)\n",
    "print(\"Labels Shape: \", labels.shape)"
   ]
  },
  {
   "cell_type": "code",
   "execution_count": 14,
   "metadata": {},
   "outputs": [
    {
     "name": "stdout",
     "output_type": "stream",
     "text": [
      "Updated Features Shape:  (1350, 150)\n"
     ]
    }
   ],
   "source": [
    "max_length = 150\n",
    "for i in range (len(features)):\n",
    "    if(len(features[i][0]<max_length)):\n",
    "        features[i][0]=np.pad(features[i][0], (0,max_length-len(features[i][0])), 'constant', constant_values=(0))\n",
    "feat= np.zeros(len(features) *max_length).reshape(-1, max_length)\n",
    "for i in range(len(features)):\n",
    "    feat[i]= np.concatenate((features[i][0]), axis=None)\n",
    "    \n",
    "\n",
    "print(\"Updated Features Shape: \", feat.shape)"
   ]
  },
  {
   "cell_type": "code",
   "execution_count": 15,
   "metadata": {},
   "outputs": [],
   "source": [
    "X_train, X_test, y_train, y_test = train_test_split(feat, labels, test_size=0.1, \n",
    "                                                    random_state=2, shuffle=True, stratify=labels)"
   ]
  },
  {
   "cell_type": "code",
   "execution_count": 16,
   "metadata": {},
   "outputs": [
    {
     "name": "stdout",
     "output_type": "stream",
     "text": [
      "(1215, 1, 150)\n",
      "(1215, 4)\n",
      "(135, 1, 150)\n",
      "(135, 4)\n"
     ]
    }
   ],
   "source": [
    "X_train = X_train.reshape(-1, 1, feat.shape[1])\n",
    "X_test = X_test.reshape(-1, 1, feat.shape[1])\n",
    "\n",
    "print(X_train.shape)\n",
    "print(y_train.shape)\n",
    "print(X_test.shape)\n",
    "print(y_test.shape)"
   ]
  },
  {
   "cell_type": "code",
   "execution_count": 23,
   "metadata": {},
   "outputs": [],
   "source": [
    "from torch.utils.data import DataLoader, TensorDataset\n",
    "\n",
    "# Convert your data to PyTorch tensors\n",
    "x_train = torch.tensor(X_train, dtype=torch.float32)\n",
    "y_train = torch.tensor(y_train, dtype=torch.long)\n",
    "\n",
    "input_channels = 1\n",
    "num_classes = 4\n",
    "\n",
    "device = torch.device(\"cuda\" if torch.cuda.is_available() else \"cpu\")\n",
    "\n",
    "# Define the objective function for hyperparameter optimization\n",
    "def objective(trial: Trial):\n",
    "    try:\n",
    "        # Define hyperparameters to search for\n",
    "        lr = trial.suggest_loguniform(\"lr\", 1e-5, 1e-2)  # Suggest a learning rate in log scale\n",
    "        dropout_prob = trial.suggest_float(\"dropout_prob\", 0.0, 0.5)\n",
    "        hidden_channels = trial.suggest_int(\"hidden_channels\", 16, 256)\n",
    "        n_layers = trial.suggest_int(\"n_layers\", 1, 7)\n",
    "        kernel_size = trial.suggest_int(\"kernel_size\", 3, 9)\n",
    "        stride = trial.suggest_int(\"stride\", 1, 7)\n",
    "        padding = trial.suggest_int(\"padding\", 1, 10)\n",
    "        pooling_type = trial.suggest_categorical(\"pooling_type\", [\"max\", \"avg\"])  \n",
    "        use_batch_norm = trial.suggest_categorical(\"use_batch_norm\", [True, False]) \n",
    "\n",
    "\n",
    "        # Split the data into training and validation sets\n",
    "        x_train_split, x_valid_split, y_train_split, y_valid_split = train_test_split(\n",
    "            x_train, y_train, test_size=0.2, random_state=42\n",
    "        )\n",
    "\n",
    "        train_dataset = TensorDataset(x_train_split, y_train_split)\n",
    "        valid_dataset = TensorDataset(x_valid_split, y_valid_split)\n",
    "\n",
    "        train_loader = DataLoader(train_dataset, batch_size=64, shuffle=True)\n",
    "        valid_loader = DataLoader(valid_dataset, batch_size=64, shuffle=False)\n",
    "\n",
    "        # Create the model with the suggested hyperparameters\n",
    "        model = Generic1DCNN(input_channels, num_classes, n_layers, kernel_size, stride, padding,\n",
    "                            hidden_channels, dropout_prob, pooling_type, use_batch_norm).to(device)\n",
    "\n",
    "        criterion = nn.BCEWithLogitsLoss()\n",
    "        optimizer = optim.Adam(model.parameters(), lr=lr)\n",
    "\n",
    "        num_epochs = 50\n",
    "\n",
    "        model.train()\n",
    "        for epoch in range(num_epochs):\n",
    "            # Training loop\n",
    "            running_loss = 0.0\n",
    "            for inputs, labels in train_loader:\n",
    "                inputs, labels = inputs.to(device), labels.to(device)\n",
    "\n",
    "                optimizer.zero_grad()\n",
    "\n",
    "                outputs = model(inputs)\n",
    "                loss = criterion(outputs, labels.float())\n",
    "                loss.backward()\n",
    "                optimizer.step()\n",
    "\n",
    "                running_loss += loss.item()\n",
    "\n",
    "            train_loss = running_loss / len(train_loader)\n",
    "\n",
    "            # Validation loss calculation (similar to training loop)\n",
    "            model.eval()\n",
    "            valid_loss = 0.0\n",
    "            with torch.no_grad():\n",
    "                for inputs_valid, labels_valid in valid_loader:\n",
    "                    inputs_valid, labels_valid = inputs_valid.to(device), labels_valid.to(device)\n",
    "                    outputs_valid = model(inputs_valid)\n",
    "                    loss_valid = criterion(outputs_valid, labels_valid.float())\n",
    "                    valid_loss += loss_valid.item()\n",
    "\n",
    "            valid_loss = valid_loss / len(valid_loader)\n",
    "            if (epoch + 1) % 10 == 0:\n",
    "                print(f\"Epoch {epoch + 1}/{num_epochs}, Training Loss: {train_loss}, Validation Loss: {valid_loss}\")\n",
    "\n",
    "        # Calculate and return the final validation loss\n",
    "        return valid_loss\n",
    "    \n",
    "    except Exception as e:\n",
    "        # Print the error for debugging purposes (optional)\n",
    "        print(f\"Trial failed with error: {e}\")\n",
    "\n",
    "        # Return a high validation loss to indicate failure\n",
    "        return 1.0  # High validation loss\n",
    "    \n"
   ]
  },
  {
   "cell_type": "code",
   "execution_count": 24,
   "metadata": {},
   "outputs": [
    {
     "name": "stderr",
     "output_type": "stream",
     "text": [
      "[I 2023-10-09 02:42:05,018] A new study created in RDB with name: Case#1: Force Inner\n",
      "[I 2023-10-09 02:42:08,498] Trial 0 finished with value: 1.0 and parameters: {'lr': 0.004142172754578139, 'dropout_prob': 0.17682934106212006, 'hidden_channels': 19, 'n_layers': 7, 'kernel_size': 5, 'stride': 6, 'padding': 2, 'pooling_type': 'max', 'use_batch_norm': False}. Best is trial 0 with value: 1.0.\n"
     ]
    },
    {
     "name": "stdout",
     "output_type": "stream",
     "text": [
      "Trial failed with error: Given input size: (19x1x1). Calculated output size: (19x1x0). Output size is too small\n",
      "Epoch 10/50, Training Loss: 0.627814307808876, Validation Loss: 0.6386155635118484\n",
      "Epoch 20/50, Training Loss: 0.6139178797602654, Validation Loss: 0.6248702704906464\n",
      "Epoch 30/50, Training Loss: 0.5190654117614031, Validation Loss: 0.5339046120643616\n",
      "Epoch 40/50, Training Loss: 0.4045169521123171, Validation Loss: 0.39792145788669586\n"
     ]
    },
    {
     "name": "stderr",
     "output_type": "stream",
     "text": [
      "[I 2023-10-09 02:42:13,598] Trial 1 finished with value: 0.3257243186235428 and parameters: {'lr': 0.0001697554862615658, 'dropout_prob': 0.13453233345703702, 'hidden_channels': 104, 'n_layers': 6, 'kernel_size': 3, 'stride': 4, 'padding': 9, 'pooling_type': 'avg', 'use_batch_norm': False}. Best is trial 1 with value: 0.3257243186235428.\n"
     ]
    },
    {
     "name": "stdout",
     "output_type": "stream",
     "text": [
      "Epoch 50/50, Training Loss: 0.3414702098816633, Validation Loss: 0.3257243186235428\n",
      "Epoch 10/50, Training Loss: 0.09028405556455255, Validation Loss: 0.062729905359447\n",
      "Epoch 20/50, Training Loss: 0.02905191230820492, Validation Loss: 0.040175887290388346\n",
      "Epoch 30/50, Training Loss: 0.01925289141945541, Validation Loss: 0.045288830529898405\n",
      "Epoch 40/50, Training Loss: 0.016525819766684435, Validation Loss: 0.03841713350266218\n"
     ]
    },
    {
     "name": "stderr",
     "output_type": "stream",
     "text": [
      "[I 2023-10-09 02:42:18,437] Trial 2 finished with value: 0.04237414291128516 and parameters: {'lr': 0.0013525404648470315, 'dropout_prob': 0.24743426607456803, 'hidden_channels': 219, 'n_layers': 5, 'kernel_size': 5, 'stride': 6, 'padding': 6, 'pooling_type': 'max', 'use_batch_norm': False}. Best is trial 2 with value: 0.04237414291128516.\n"
     ]
    },
    {
     "name": "stdout",
     "output_type": "stream",
     "text": [
      "Epoch 50/50, Training Loss: 0.016810713117592968, Validation Loss: 0.04237414291128516\n",
      "Epoch 10/50, Training Loss: 0.5792807303369045, Validation Loss: 0.5814635455608368\n",
      "Epoch 20/50, Training Loss: 0.47765589505434036, Validation Loss: 0.48906293511390686\n",
      "Epoch 30/50, Training Loss: 0.3997726943343878, Validation Loss: 0.4124225154519081\n",
      "Epoch 40/50, Training Loss: 0.3337926995009184, Validation Loss: 0.3488994389772415\n"
     ]
    },
    {
     "name": "stderr",
     "output_type": "stream",
     "text": [
      "[I 2023-10-09 02:42:22,093] Trial 3 finished with value: 0.29283544421195984 and parameters: {'lr': 1.825767635427625e-05, 'dropout_prob': 0.37215986657933753, 'hidden_channels': 144, 'n_layers': 2, 'kernel_size': 6, 'stride': 6, 'padding': 10, 'pooling_type': 'max', 'use_batch_norm': True}. Best is trial 2 with value: 0.04237414291128516.\n"
     ]
    },
    {
     "name": "stdout",
     "output_type": "stream",
     "text": [
      "Epoch 50/50, Training Loss: 0.2802229207009077, Validation Loss: 0.29283544421195984\n",
      "Epoch 10/50, Training Loss: 0.5115593243390322, Validation Loss: 0.4874279797077179\n",
      "Epoch 20/50, Training Loss: 0.06236450560390949, Validation Loss: 0.05837418418377638\n",
      "Epoch 30/50, Training Loss: 0.010519632487557828, Validation Loss: 0.030237796250730753\n",
      "Epoch 40/50, Training Loss: 0.001262178149772808, Validation Loss: 0.009846869681496173\n"
     ]
    },
    {
     "name": "stderr",
     "output_type": "stream",
     "text": [
      "[I 2023-10-09 02:42:29,062] Trial 4 finished with value: 0.004127274420170579 and parameters: {'lr': 0.0003671982217905085, 'dropout_prob': 0.04768713249001566, 'hidden_channels': 77, 'n_layers': 7, 'kernel_size': 5, 'stride': 4, 'padding': 5, 'pooling_type': 'max', 'use_batch_norm': True}. Best is trial 4 with value: 0.004127274420170579.\n"
     ]
    },
    {
     "name": "stdout",
     "output_type": "stream",
     "text": [
      "Epoch 50/50, Training Loss: 0.0009404224542777229, Validation Loss: 0.004127274420170579\n",
      "Epoch 10/50, Training Loss: 0.5279609858989716, Validation Loss: 0.5404237657785416\n",
      "Epoch 20/50, Training Loss: 0.4041282366961241, Validation Loss: 0.41907399892807007\n",
      "Epoch 30/50, Training Loss: 0.30637459456920624, Validation Loss: 0.3208979219198227\n",
      "Epoch 40/50, Training Loss: 0.22972914576530457, Validation Loss: 0.24589252471923828\n"
     ]
    },
    {
     "name": "stderr",
     "output_type": "stream",
     "text": [
      "[I 2023-10-09 02:42:32,170] Trial 5 finished with value: 0.1889633685350418 and parameters: {'lr': 0.0002704075001876157, 'dropout_prob': 0.33293899399663884, 'hidden_channels': 49, 'n_layers': 1, 'kernel_size': 6, 'stride': 6, 'padding': 2, 'pooling_type': 'max', 'use_batch_norm': True}. Best is trial 4 with value: 0.004127274420170579.\n"
     ]
    },
    {
     "name": "stdout",
     "output_type": "stream",
     "text": [
      "Epoch 50/50, Training Loss: 0.17645074427127838, Validation Loss: 0.1889633685350418\n",
      "Epoch 10/50, Training Loss: 0.6681810915470123, Validation Loss: 0.6675620973110199\n",
      "Epoch 20/50, Training Loss: 0.4377068169414997, Validation Loss: 0.44011740386486053\n",
      "Epoch 30/50, Training Loss: 0.23420852422714233, Validation Loss: 0.22463326156139374\n",
      "Epoch 40/50, Training Loss: 0.16289309225976467, Validation Loss: 0.15634271875023842\n"
     ]
    },
    {
     "name": "stderr",
     "output_type": "stream",
     "text": [
      "[I 2023-10-09 02:42:37,400] Trial 6 finished with value: 0.08436830062419176 and parameters: {'lr': 0.00012339722015143953, 'dropout_prob': 0.32886657266589747, 'hidden_channels': 68, 'n_layers': 5, 'kernel_size': 4, 'stride': 6, 'padding': 6, 'pooling_type': 'max', 'use_batch_norm': True}. Best is trial 4 with value: 0.004127274420170579.\n"
     ]
    },
    {
     "name": "stdout",
     "output_type": "stream",
     "text": [
      "Epoch 50/50, Training Loss: 0.07910913764499128, Validation Loss: 0.08436830062419176\n"
     ]
    },
    {
     "name": "stderr",
     "output_type": "stream",
     "text": [
      "[I 2023-10-09 02:42:38,232] Trial 7 finished with value: 1.0 and parameters: {'lr': 0.000230528814830666, 'dropout_prob': 0.4503735765663209, 'hidden_channels': 197, 'n_layers': 6, 'kernel_size': 4, 'stride': 7, 'padding': 2, 'pooling_type': 'avg', 'use_batch_norm': False}. Best is trial 4 with value: 0.004127274420170579.\n"
     ]
    },
    {
     "name": "stdout",
     "output_type": "stream",
     "text": [
      "Trial failed with error: Given input size: (197x1x1). Calculated output size: (197x1x0). Output size is too small\n",
      "Epoch 10/50, Training Loss: 0.7015368603169918, Validation Loss: 0.7026204764842987\n",
      "Epoch 20/50, Training Loss: 0.6944349221885204, Validation Loss: 0.6965813934803009\n",
      "Epoch 30/50, Training Loss: 0.6885190978646278, Validation Loss: 0.6906795799732208\n",
      "Epoch 40/50, Training Loss: 0.6818586774170399, Validation Loss: 0.6849090903997421\n"
     ]
    },
    {
     "name": "stderr",
     "output_type": "stream",
     "text": [
      "[I 2023-10-09 02:42:41,306] Trial 8 finished with value: 0.6791177541017532 and parameters: {'lr': 1.5207941349743883e-05, 'dropout_prob': 0.38636249423616, 'hidden_channels': 74, 'n_layers': 1, 'kernel_size': 5, 'stride': 2, 'padding': 9, 'pooling_type': 'max', 'use_batch_norm': False}. Best is trial 4 with value: 0.004127274420170579.\n"
     ]
    },
    {
     "name": "stdout",
     "output_type": "stream",
     "text": [
      "Epoch 50/50, Training Loss: 0.6752003692090511, Validation Loss: 0.6791177541017532\n",
      "Epoch 10/50, Training Loss: 0.6726321540772915, Validation Loss: 0.6735311299562454\n",
      "Epoch 20/50, Training Loss: 0.6576220765709877, Validation Loss: 0.6603433042764664\n",
      "Epoch 30/50, Training Loss: 0.64183159917593, Validation Loss: 0.6471877992153168\n",
      "Epoch 40/50, Training Loss: 0.6263933442533016, Validation Loss: 0.6340264230966568\n"
     ]
    },
    {
     "name": "stderr",
     "output_type": "stream",
     "text": [
      "[I 2023-10-09 02:42:44,403] Trial 9 finished with value: 0.6209488958120346 and parameters: {'lr': 1.827525522106098e-05, 'dropout_prob': 0.4926179350213312, 'hidden_channels': 87, 'n_layers': 1, 'kernel_size': 8, 'stride': 5, 'padding': 7, 'pooling_type': 'max', 'use_batch_norm': True}. Best is trial 4 with value: 0.004127274420170579.\n"
     ]
    },
    {
     "name": "stdout",
     "output_type": "stream",
     "text": [
      "Epoch 50/50, Training Loss: 0.6122943311929703, Validation Loss: 0.6209488958120346\n",
      "Epoch 10/50, Training Loss: 0.01140768700861372, Validation Loss: 0.006535788968903944\n",
      "Epoch 20/50, Training Loss: 0.0011366001072019571, Validation Loss: 0.0072835307619243395\n",
      "Epoch 30/50, Training Loss: 0.001894253763339293, Validation Loss: 0.0008833637803036254\n",
      "Epoch 40/50, Training Loss: 0.020452436797768314, Validation Loss: 0.002371215301536722\n"
     ]
    },
    {
     "name": "stderr",
     "output_type": "stream",
     "text": [
      "[I 2023-10-09 02:42:48,601] Trial 10 finished with value: 0.0001829849143177853 and parameters: {'lr': 0.008845247309273994, 'dropout_prob': 0.008799243824798499, 'hidden_channels': 146, 'n_layers': 3, 'kernel_size': 9, 'stride': 2, 'padding': 4, 'pooling_type': 'avg', 'use_batch_norm': True}. Best is trial 10 with value: 0.0001829849143177853.\n"
     ]
    },
    {
     "name": "stdout",
     "output_type": "stream",
     "text": [
      "Epoch 50/50, Training Loss: 3.0711465569766006e-05, Validation Loss: 0.0001829849143177853\n",
      "Epoch 10/50, Training Loss: 0.008765076532654348, Validation Loss: 0.008128946021315642\n",
      "Epoch 20/50, Training Loss: 0.01169332226163533, Validation Loss: 0.0060302447018329985\n",
      "Epoch 30/50, Training Loss: 9.251694007161859e-05, Validation Loss: 0.000962480359703477\n",
      "Epoch 40/50, Training Loss: 4.4257572199057904e-05, Validation Loss: 0.0006421216412491049\n"
     ]
    },
    {
     "name": "stderr",
     "output_type": "stream",
     "text": [
      "[I 2023-10-09 02:42:52,699] Trial 11 finished with value: 0.0006159375991501292 and parameters: {'lr': 0.009074655322305317, 'dropout_prob': 0.012205576449124844, 'hidden_channels': 148, 'n_layers': 3, 'kernel_size': 9, 'stride': 1, 'padding': 4, 'pooling_type': 'avg', 'use_batch_norm': True}. Best is trial 10 with value: 0.0001829849143177853.\n"
     ]
    },
    {
     "name": "stdout",
     "output_type": "stream",
     "text": [
      "Epoch 50/50, Training Loss: 2.67522758576888e-05, Validation Loss: 0.0006159375991501292\n",
      "Epoch 10/50, Training Loss: 0.008102388237603009, Validation Loss: 0.00870747200679034\n",
      "Epoch 20/50, Training Loss: 0.0013702184830890474, Validation Loss: 0.0033422932974644937\n",
      "Epoch 30/50, Training Loss: 0.006898929670569487, Validation Loss: 0.007904687867267057\n",
      "Epoch 40/50, Training Loss: 0.0002525202511378666, Validation Loss: 0.0033973545641856617\n"
     ]
    },
    {
     "name": "stderr",
     "output_type": "stream",
     "text": [
      "[I 2023-10-09 02:42:56,862] Trial 12 finished with value: 0.0026614351245370926 and parameters: {'lr': 0.008757271222547176, 'dropout_prob': 0.0234157995589752, 'hidden_channels': 159, 'n_layers': 3, 'kernel_size': 9, 'stride': 1, 'padding': 4, 'pooling_type': 'avg', 'use_batch_norm': True}. Best is trial 10 with value: 0.0001829849143177853.\n"
     ]
    },
    {
     "name": "stdout",
     "output_type": "stream",
     "text": [
      "Epoch 50/50, Training Loss: 3.0375022106454708e-05, Validation Loss: 0.0026614351245370926\n",
      "Epoch 10/50, Training Loss: 0.017340730715659447, Validation Loss: 0.008858266897732392\n",
      "Epoch 20/50, Training Loss: 0.00017001909736791276, Validation Loss: 0.0009230008399754297\n",
      "Epoch 30/50, Training Loss: 6.782893836998483e-05, Validation Loss: 0.0011834003416879568\n",
      "Epoch 40/50, Training Loss: 4.6215758914058824e-05, Validation Loss: 0.0012040016249557084\n"
     ]
    },
    {
     "name": "stderr",
     "output_type": "stream",
     "text": [
      "[I 2023-10-09 02:43:01,177] Trial 13 finished with value: 0.001121512117833845 and parameters: {'lr': 0.00836987190599637, 'dropout_prob': 0.014592521534882663, 'hidden_channels': 177, 'n_layers': 3, 'kernel_size': 8, 'stride': 2, 'padding': 4, 'pooling_type': 'avg', 'use_batch_norm': True}. Best is trial 10 with value: 0.0001829849143177853.\n"
     ]
    },
    {
     "name": "stdout",
     "output_type": "stream",
     "text": [
      "Epoch 50/50, Training Loss: 2.2656950307009538e-05, Validation Loss: 0.001121512117833845\n",
      "Epoch 10/50, Training Loss: 0.006427234620787203, Validation Loss: 0.03882581274956465\n",
      "Epoch 20/50, Training Loss: 0.001334954326011939, Validation Loss: 0.0035377340027480386\n",
      "Epoch 30/50, Training Loss: 0.0002831130402682902, Validation Loss: 0.002795270258502569\n",
      "Epoch 40/50, Training Loss: 0.00010404977058442455, Validation Loss: 0.0019301891370560043\n"
     ]
    },
    {
     "name": "stderr",
     "output_type": "stream",
     "text": [
      "[I 2023-10-09 02:43:05,407] Trial 14 finished with value: 0.0018287602379132295 and parameters: {'lr': 0.002795913645441044, 'dropout_prob': 0.09266987592790546, 'hidden_channels': 119, 'n_layers': 3, 'kernel_size': 9, 'stride': 1, 'padding': 4, 'pooling_type': 'avg', 'use_batch_norm': True}. Best is trial 10 with value: 0.0001829849143177853.\n"
     ]
    },
    {
     "name": "stdout",
     "output_type": "stream",
     "text": [
      "Epoch 50/50, Training Loss: 5.5814707366153016e-05, Validation Loss: 0.0018287602379132295\n"
     ]
    },
    {
     "name": "stderr",
     "output_type": "stream",
     "text": [
      "[I 2023-10-09 02:43:06,314] Trial 15 finished with value: 1.0 and parameters: {'lr': 0.009839484898397302, 'dropout_prob': 0.0031643128186730866, 'hidden_channels': 251, 'n_layers': 4, 'kernel_size': 8, 'stride': 3, 'padding': 1, 'pooling_type': 'avg', 'use_batch_norm': True}. Best is trial 10 with value: 0.0001829849143177853.\n"
     ]
    },
    {
     "name": "stdout",
     "output_type": "stream",
     "text": [
      "Trial failed with error: Calculated padded input size per channel: (5). Kernel size: (8). Kernel size can't be greater than actual input size\n"
     ]
    },
    {
     "name": "stderr",
     "output_type": "stream",
     "text": [
      "[I 2023-10-09 02:43:07,248] Trial 16 finished with value: 1.0 and parameters: {'lr': 0.00200769657824438, 'dropout_prob': 0.08466337179995106, 'hidden_channels': 125, 'n_layers': 4, 'kernel_size': 7, 'stride': 2, 'padding': 3, 'pooling_type': 'avg', 'use_batch_norm': True}. Best is trial 10 with value: 0.0001829849143177853.\n"
     ]
    },
    {
     "name": "stdout",
     "output_type": "stream",
     "text": [
      "Trial failed with error: Given input size: (125x1x1). Calculated output size: (125x1x0). Output size is too small\n",
      "Epoch 10/50, Training Loss: 0.0271526220603846, Validation Loss: 0.029633951373398304\n",
      "Epoch 20/50, Training Loss: 0.016682549350662157, Validation Loss: 0.014802134246565402\n",
      "Epoch 30/50, Training Loss: 0.008027573239814956, Validation Loss: 0.009774863021448255\n",
      "Epoch 40/50, Training Loss: 0.004477166075957939, Validation Loss: 0.00912499352125451\n"
     ]
    },
    {
     "name": "stderr",
     "output_type": "stream",
     "text": [
      "[I 2023-10-09 02:43:10,905] Trial 17 finished with value: 0.005089932354167104 and parameters: {'lr': 0.0009262936900960142, 'dropout_prob': 0.1641656419350843, 'hidden_channels': 168, 'n_layers': 2, 'kernel_size': 9, 'stride': 3, 'padding': 5, 'pooling_type': 'avg', 'use_batch_norm': True}. Best is trial 10 with value: 0.0001829849143177853.\n"
     ]
    },
    {
     "name": "stdout",
     "output_type": "stream",
     "text": [
      "Epoch 50/50, Training Loss: 0.0024266358850582037, Validation Loss: 0.005089932354167104\n",
      "Epoch 10/50, Training Loss: 0.009621703007724136, Validation Loss: 0.01580477930838242\n",
      "Epoch 20/50, Training Loss: 0.0025677636767795775, Validation Loss: 0.004093072289833799\n",
      "Epoch 30/50, Training Loss: 0.000626962233127415, Validation Loss: 0.0034844499750761315\n",
      "Epoch 40/50, Training Loss: 0.000248435619596421, Validation Loss: 0.0016407311995862983\n"
     ]
    },
    {
     "name": "stderr",
     "output_type": "stream",
     "text": [
      "[I 2023-10-09 02:43:14,568] Trial 18 finished with value: 0.0017027708399837138 and parameters: {'lr': 0.004919263843668847, 'dropout_prob': 0.07552367457613829, 'hidden_channels': 204, 'n_layers': 2, 'kernel_size': 7, 'stride': 1, 'padding': 7, 'pooling_type': 'avg', 'use_batch_norm': True}. Best is trial 10 with value: 0.0001829849143177853.\n"
     ]
    },
    {
     "name": "stdout",
     "output_type": "stream",
     "text": [
      "Epoch 50/50, Training Loss: 0.00015983830297727764, Validation Loss: 0.0017027708399837138\n",
      "Epoch 10/50, Training Loss: 0.011899315220944118, Validation Loss: 0.011790933203883469\n",
      "Epoch 20/50, Training Loss: 0.0006655175830019289, Validation Loss: 0.001954210572876036\n",
      "Epoch 30/50, Training Loss: 0.00014005976095177175, Validation Loss: 0.00104356232623104\n",
      "Epoch 40/50, Training Loss: 6.838951708232344e-05, Validation Loss: 0.0006933415770618012\n"
     ]
    },
    {
     "name": "stderr",
     "output_type": "stream",
     "text": [
      "[I 2023-10-09 02:43:18,874] Trial 19 finished with value: 0.000719015508366283 and parameters: {'lr': 0.004020206219296392, 'dropout_prob': 0.12298018296779317, 'hidden_channels': 143, 'n_layers': 3, 'kernel_size': 7, 'stride': 3, 'padding': 3, 'pooling_type': 'avg', 'use_batch_norm': True}. Best is trial 10 with value: 0.0001829849143177853.\n"
     ]
    },
    {
     "name": "stdout",
     "output_type": "stream",
     "text": [
      "Epoch 50/50, Training Loss: 6.96438202680838e-05, Validation Loss: 0.000719015508366283\n",
      "Epoch 10/50, Training Loss: 0.005037060185713926, Validation Loss: 0.007819152204319835\n",
      "Epoch 20/50, Training Loss: 0.002689418622139783, Validation Loss: 0.0010686132918635849\n",
      "Epoch 30/50, Training Loss: 0.07935744372662157, Validation Loss: 0.023726527695544064\n",
      "Epoch 40/50, Training Loss: 0.0014463585507655807, Validation Loss: 0.003167143167956965\n"
     ]
    },
    {
     "name": "stderr",
     "output_type": "stream",
     "text": [
      "[I 2023-10-09 02:43:24,221] Trial 20 finished with value: 0.004069877944857581 and parameters: {'lr': 0.0008659183042873758, 'dropout_prob': 0.0444837003147634, 'hidden_channels': 244, 'n_layers': 5, 'kernel_size': 8, 'stride': 2, 'padding': 7, 'pooling_type': 'avg', 'use_batch_norm': True}. Best is trial 10 with value: 0.0001829849143177853.\n"
     ]
    },
    {
     "name": "stdout",
     "output_type": "stream",
     "text": [
      "Epoch 50/50, Training Loss: 0.001081357263501559, Validation Loss: 0.004069877944857581\n",
      "Epoch 10/50, Training Loss: 0.006463822552177589, Validation Loss: 0.01041634991997853\n",
      "Epoch 20/50, Training Loss: 0.004073095149578876, Validation Loss: 0.0023895503545645624\n",
      "Epoch 30/50, Training Loss: 0.0001709280743398267, Validation Loss: 0.0018640697016962804\n",
      "Epoch 40/50, Training Loss: 4.183475641639234e-05, Validation Loss: 0.0014590144055546261\n"
     ]
    },
    {
     "name": "stderr",
     "output_type": "stream",
     "text": [
      "[I 2023-10-09 02:43:28,434] Trial 21 finished with value: 0.0013501332305168035 and parameters: {'lr': 0.004295336373500048, 'dropout_prob': 0.1175589012046928, 'hidden_channels': 148, 'n_layers': 3, 'kernel_size': 7, 'stride': 3, 'padding': 3, 'pooling_type': 'avg', 'use_batch_norm': True}. Best is trial 10 with value: 0.0001829849143177853.\n"
     ]
    },
    {
     "name": "stdout",
     "output_type": "stream",
     "text": [
      "Epoch 50/50, Training Loss: 2.578021963017818e-05, Validation Loss: 0.0013501332305168035\n"
     ]
    },
    {
     "name": "stderr",
     "output_type": "stream",
     "text": [
      "[I 2023-10-09 02:43:29,375] Trial 22 finished with value: 1.0 and parameters: {'lr': 0.005583167762803146, 'dropout_prob': 0.0017872958956428328, 'hidden_channels': 181, 'n_layers': 4, 'kernel_size': 9, 'stride': 3, 'padding': 3, 'pooling_type': 'avg', 'use_batch_norm': True}. Best is trial 10 with value: 0.0001829849143177853.\n"
     ]
    },
    {
     "name": "stdout",
     "output_type": "stream",
     "text": [
      "Trial failed with error: Given input size: (181x1x1). Calculated output size: (181x1x0). Output size is too small\n",
      "Epoch 10/50, Training Loss: 0.012176560674561188, Validation Loss: 0.01630933943670243\n",
      "Epoch 20/50, Training Loss: 0.004502564224821981, Validation Loss: 0.010131267132237554\n",
      "Epoch 30/50, Training Loss: 0.0010917558101937175, Validation Loss: 0.0053636774100596085\n",
      "Epoch 40/50, Training Loss: 0.0008462427203994594, Validation Loss: 0.004625579487765208\n"
     ]
    },
    {
     "name": "stderr",
     "output_type": "stream",
     "text": [
      "[I 2023-10-09 02:43:33,240] Trial 23 finished with value: 0.00392672168527497 and parameters: {'lr': 0.0026457750382783396, 'dropout_prob': 0.061773275198935274, 'hidden_channels': 130, 'n_layers': 2, 'kernel_size': 8, 'stride': 1, 'padding': 1, 'pooling_type': 'avg', 'use_batch_norm': True}. Best is trial 10 with value: 0.0001829849143177853.\n"
     ]
    },
    {
     "name": "stdout",
     "output_type": "stream",
     "text": [
      "Epoch 50/50, Training Loss: 0.0002839059352481854, Validation Loss: 0.00392672168527497\n",
      "Epoch 10/50, Training Loss: 0.011521141203047591, Validation Loss: 0.006430734385503456\n",
      "Epoch 20/50, Training Loss: 0.008792736396571854, Validation Loss: 0.025798974791541696\n",
      "Epoch 30/50, Training Loss: 9.751603602126124e-05, Validation Loss: 0.0013292975036165444\n",
      "Epoch 40/50, Training Loss: 3.893654570674698e-05, Validation Loss: 0.0008145984902512282\n"
     ]
    },
    {
     "name": "stderr",
     "output_type": "stream",
     "text": [
      "[I 2023-10-09 02:43:38,029] Trial 24 finished with value: 0.0006840430446573009 and parameters: {'lr': 0.009839962945158138, 'dropout_prob': 0.11824538107708436, 'hidden_channels': 107, 'n_layers': 4, 'kernel_size': 7, 'stride': 2, 'padding': 4, 'pooling_type': 'avg', 'use_batch_norm': True}. Best is trial 10 with value: 0.0001829849143177853.\n"
     ]
    },
    {
     "name": "stdout",
     "output_type": "stream",
     "text": [
      "Epoch 50/50, Training Loss: 2.209811610498491e-05, Validation Loss: 0.0006840430446573009\n",
      "Epoch 10/50, Training Loss: 0.009874905190372374, Validation Loss: 0.018497810699045658\n",
      "Epoch 20/50, Training Loss: 0.012202288151456742, Validation Loss: 0.004372580937342718\n",
      "Epoch 30/50, Training Loss: 0.7015157304704189, Validation Loss: 0.15610578283667564\n",
      "Epoch 40/50, Training Loss: 0.005621312320272409, Validation Loss: 0.006476261682109907\n"
     ]
    },
    {
     "name": "stderr",
     "output_type": "stream",
     "text": [
      "[I 2023-10-09 02:43:42,809] Trial 25 finished with value: 0.003144372414681129 and parameters: {'lr': 0.009467648106422354, 'dropout_prob': 0.05214753440402929, 'hidden_channels': 110, 'n_layers': 4, 'kernel_size': 9, 'stride': 2, 'padding': 5, 'pooling_type': 'avg', 'use_batch_norm': True}. Best is trial 10 with value: 0.0001829849143177853.\n"
     ]
    },
    {
     "name": "stdout",
     "output_type": "stream",
     "text": [
      "Epoch 50/50, Training Loss: 0.0004114300490982714, Validation Loss: 0.003144372414681129\n",
      "Epoch 10/50, Training Loss: 0.039235969248693436, Validation Loss: 0.03857830632477999\n",
      "Epoch 20/50, Training Loss: 0.0025739245911609032, Validation Loss: 0.005450033466331661\n",
      "Epoch 30/50, Training Loss: 0.010953046743452433, Validation Loss: 0.005736938328482211\n",
      "Epoch 40/50, Training Loss: 0.000566270546812575, Validation Loss: 0.002864423104256275\n"
     ]
    },
    {
     "name": "stderr",
     "output_type": "stream",
     "text": [
      "[I 2023-10-09 02:43:47,014] Trial 26 finished with value: 0.0006089745729696006 and parameters: {'lr': 0.0058649667937251985, 'dropout_prob': 0.035485874247470905, 'hidden_channels': 96, 'n_layers': 4, 'kernel_size': 8, 'stride': 1, 'padding': 4, 'pooling_type': 'avg', 'use_batch_norm': False}. Best is trial 10 with value: 0.0001829849143177853.\n"
     ]
    },
    {
     "name": "stdout",
     "output_type": "stream",
     "text": [
      "Epoch 50/50, Training Loss: 0.00021323575560927566, Validation Loss: 0.0006089745729696006\n",
      "Epoch 10/50, Training Loss: 0.014340395413455553, Validation Loss: 0.014493914670310915\n",
      "Epoch 20/50, Training Loss: 0.002150191390683176, Validation Loss: 0.004089425143320113\n",
      "Epoch 30/50, Training Loss: 0.0009042645779118175, Validation Loss: 0.0013910096386098303\n",
      "Epoch 40/50, Training Loss: 0.00043772202764102985, Validation Loss: 0.004185749530734029\n"
     ]
    },
    {
     "name": "stderr",
     "output_type": "stream",
     "text": [
      "[I 2023-10-09 02:43:50,955] Trial 27 finished with value: 0.0015762585330776346 and parameters: {'lr': 0.005862192507452756, 'dropout_prob': 0.0011456566569681328, 'hidden_channels': 161, 'n_layers': 3, 'kernel_size': 9, 'stride': 1, 'padding': 6, 'pooling_type': 'avg', 'use_batch_norm': False}. Best is trial 10 with value: 0.0001829849143177853.\n"
     ]
    },
    {
     "name": "stdout",
     "output_type": "stream",
     "text": [
      "Epoch 50/50, Training Loss: 4.383785528716544e-05, Validation Loss: 0.0015762585330776346\n",
      "Epoch 10/50, Training Loss: 0.02269774878732278, Validation Loss: 0.03471578052267432\n",
      "Epoch 20/50, Training Loss: 0.01204354758374393, Validation Loss: 0.021215911605395377\n",
      "Epoch 30/50, Training Loss: 0.017524508311907994, Validation Loss: 0.04417229210957885\n",
      "Epoch 40/50, Training Loss: 0.0021527978278754745, Validation Loss: 0.014872387699142564\n"
     ]
    },
    {
     "name": "stderr",
     "output_type": "stream",
     "text": [
      "[I 2023-10-09 02:43:55,726] Trial 28 finished with value: 0.00808072632571566 and parameters: {'lr': 0.0025123019246248673, 'dropout_prob': 0.04099841015900682, 'hidden_channels': 93, 'n_layers': 5, 'kernel_size': 8, 'stride': 1, 'padding': 5, 'pooling_type': 'avg', 'use_batch_norm': False}. Best is trial 10 with value: 0.0001829849143177853.\n"
     ]
    },
    {
     "name": "stdout",
     "output_type": "stream",
     "text": [
      "Epoch 50/50, Training Loss: 0.0016185226154448173, Validation Loss: 0.00808072632571566\n",
      "Epoch 10/50, Training Loss: 0.03270735265687108, Validation Loss: 0.03502094536088407\n",
      "Epoch 20/50, Training Loss: 0.012453319999622181, Validation Loss: 0.024126619333401322\n",
      "Epoch 30/50, Training Loss: 0.008146694926836062, Validation Loss: 0.011367109254933894\n",
      "Epoch 40/50, Training Loss: 0.006042513379725278, Validation Loss: 0.014078272855840623\n"
     ]
    },
    {
     "name": "stderr",
     "output_type": "stream",
     "text": [
      "[I 2023-10-09 02:43:58,999] Trial 29 finished with value: 0.016749893315136433 and parameters: {'lr': 0.004125446399212129, 'dropout_prob': 0.18891583380409446, 'hidden_channels': 24, 'n_layers': 2, 'kernel_size': 9, 'stride': 1, 'padding': 2, 'pooling_type': 'avg', 'use_batch_norm': False}. Best is trial 10 with value: 0.0001829849143177853.\n"
     ]
    },
    {
     "name": "stdout",
     "output_type": "stream",
     "text": [
      "Epoch 50/50, Training Loss: 0.010575125212199055, Validation Loss: 0.016749893315136433\n"
     ]
    },
    {
     "name": "stderr",
     "output_type": "stream",
     "text": [
      "[I 2023-10-09 02:43:59,890] Trial 30 finished with value: 1.0 and parameters: {'lr': 0.006808892490924936, 'dropout_prob': 0.07642737126749481, 'hidden_channels': 41, 'n_layers': 4, 'kernel_size': 8, 'stride': 5, 'padding': 4, 'pooling_type': 'avg', 'use_batch_norm': False}. Best is trial 10 with value: 0.0001829849143177853.\n"
     ]
    },
    {
     "name": "stdout",
     "output_type": "stream",
     "text": [
      "Trial failed with error: Given input size: (41x1x1). Calculated output size: (41x1x0). Output size is too small\n",
      "Epoch 10/50, Training Loss: 0.032438906346214935, Validation Loss: 0.02817748347297311\n",
      "Epoch 20/50, Training Loss: 0.00943510452634655, Validation Loss: 0.004590763710439205\n",
      "Epoch 30/50, Training Loss: 0.002284475766145988, Validation Loss: 0.0011761257774196565\n",
      "Epoch 40/50, Training Loss: 0.0001904548539641837, Validation Loss: 0.0006157956868264591\n"
     ]
    },
    {
     "name": "stderr",
     "output_type": "stream",
     "text": [
      "[I 2023-10-09 02:44:03,979] Trial 31 finished with value: 0.01590805232990533 and parameters: {'lr': 0.006187684053118951, 'dropout_prob': 0.027010709804742877, 'hidden_channels': 104, 'n_layers': 4, 'kernel_size': 7, 'stride': 2, 'padding': 4, 'pooling_type': 'avg', 'use_batch_norm': False}. Best is trial 10 with value: 0.0001829849143177853.\n"
     ]
    },
    {
     "name": "stdout",
     "output_type": "stream",
     "text": [
      "Epoch 50/50, Training Loss: 0.022864670818307786, Validation Loss: 0.01590805232990533\n"
     ]
    },
    {
     "name": "stderr",
     "output_type": "stream",
     "text": [
      "[I 2023-10-09 02:44:04,769] Trial 32 finished with value: 1.0 and parameters: {'lr': 0.009630931772939656, 'dropout_prob': 0.1035348799703619, 'hidden_channels': 122, 'n_layers': 4, 'kernel_size': 8, 'stride': 2, 'padding': 3, 'pooling_type': 'avg', 'use_batch_norm': False}. Best is trial 10 with value: 0.0001829849143177853.\n"
     ]
    },
    {
     "name": "stdout",
     "output_type": "stream",
     "text": [
      "Trial failed with error: Given input size: (122x1x1). Calculated output size: (122x1x0). Output size is too small\n",
      "Epoch 10/50, Training Loss: 0.016949159355135635, Validation Loss: 0.01276148995384574\n",
      "Epoch 20/50, Training Loss: 0.009876424614049029, Validation Loss: 0.01320074571412988\n",
      "Epoch 30/50, Training Loss: 0.06335735460743308, Validation Loss: 0.010646125534549356\n",
      "Epoch 40/50, Training Loss: 0.00035751285759033635, Validation Loss: 0.003151857852571993\n"
     ]
    },
    {
     "name": "stderr",
     "output_type": "stream",
     "text": [
      "[I 2023-10-09 02:44:09,384] Trial 33 finished with value: 0.003375947907443333 and parameters: {'lr': 0.003582591832986343, 'dropout_prob': 0.14816447363784754, 'hidden_channels': 94, 'n_layers': 5, 'kernel_size': 7, 'stride': 1, 'padding': 4, 'pooling_type': 'avg', 'use_batch_norm': False}. Best is trial 10 with value: 0.0001829849143177853.\n"
     ]
    },
    {
     "name": "stdout",
     "output_type": "stream",
     "text": [
      "Epoch 50/50, Training Loss: 6.158356484320393e-05, Validation Loss: 0.003375947907443333\n",
      "Epoch 10/50, Training Loss: 0.009317934222053736, Validation Loss: 0.009189080039504915\n",
      "Epoch 20/50, Training Loss: 0.0028856494850515446, Validation Loss: 0.007189138501416892\n",
      "Epoch 30/50, Training Loss: 0.00012144761285526329, Validation Loss: 0.002403737911663484\n",
      "Epoch 40/50, Training Loss: 6.856057200366195e-05, Validation Loss: 0.002137841287549236\n"
     ]
    },
    {
     "name": "stderr",
     "output_type": "stream",
     "text": [
      "[I 2023-10-09 02:44:13,622] Trial 34 finished with value: 0.002321848205610877 and parameters: {'lr': 0.005892494102431202, 'dropout_prob': 0.07279022574492885, 'hidden_channels': 135, 'n_layers': 3, 'kernel_size': 6, 'stride': 2, 'padding': 5, 'pooling_type': 'avg', 'use_batch_norm': True}. Best is trial 10 with value: 0.0001829849143177853.\n"
     ]
    },
    {
     "name": "stdout",
     "output_type": "stream",
     "text": [
      "Epoch 50/50, Training Loss: 0.0001789428263236914, Validation Loss: 0.002321848205610877\n",
      "Epoch 10/50, Training Loss: 0.014572126601706259, Validation Loss: 0.014872334781102836\n",
      "Epoch 20/50, Training Loss: 0.010261969970088103, Validation Loss: 0.005128932505613193\n",
      "Epoch 30/50, Training Loss: 0.0006982509826229943, Validation Loss: 0.0010390116949565709\n",
      "Epoch 40/50, Training Loss: 0.0004104805402675993, Validation Loss: 0.001125264934671577\n"
     ]
    },
    {
     "name": "stderr",
     "output_type": "stream",
     "text": [
      "[I 2023-10-09 02:44:19,444] Trial 35 finished with value: 0.0022682940943923313 and parameters: {'lr': 0.003343088923034082, 'dropout_prob': 0.03679560247705887, 'hidden_channels': 60, 'n_layers': 6, 'kernel_size': 9, 'stride': 4, 'padding': 6, 'pooling_type': 'avg', 'use_batch_norm': True}. Best is trial 10 with value: 0.0001829849143177853.\n"
     ]
    },
    {
     "name": "stdout",
     "output_type": "stream",
     "text": [
      "Epoch 50/50, Training Loss: 3.121823419860448e-05, Validation Loss: 0.0022682940943923313\n",
      "Epoch 10/50, Training Loss: 0.021851317578693852, Validation Loss: 0.0290881444234401\n",
      "Epoch 20/50, Training Loss: 0.011486792776850052, Validation Loss: 0.023973788367584348\n",
      "Epoch 30/50, Training Loss: 0.006252391489397269, Validation Loss: 0.01567289128433913\n",
      "Epoch 40/50, Training Loss: 0.005902666185647831, Validation Loss: 0.014702756074257195\n"
     ]
    },
    {
     "name": "stderr",
     "output_type": "stream",
     "text": [
      "[I 2023-10-09 02:44:23,259] Trial 36 finished with value: 0.01575896836584434 and parameters: {'lr': 0.0016355907463390074, 'dropout_prob': 0.11134400069759562, 'hidden_channels': 108, 'n_layers': 3, 'kernel_size': 6, 'stride': 1, 'padding': 3, 'pooling_type': 'avg', 'use_batch_norm': False}. Best is trial 10 with value: 0.0001829849143177853.\n"
     ]
    },
    {
     "name": "stdout",
     "output_type": "stream",
     "text": [
      "Epoch 50/50, Training Loss: 0.005167682646060712, Validation Loss: 0.01575896836584434\n",
      "Epoch 10/50, Training Loss: 0.005903602876969671, Validation Loss: 0.0032878601050470024\n",
      "Epoch 20/50, Training Loss: 0.00016233441147051053, Validation Loss: 0.0010976286357617937\n",
      "Epoch 30/50, Training Loss: 2.7341200961927825e-05, Validation Loss: 0.0009137436077253369\n",
      "Epoch 40/50, Training Loss: 2.1055696066696328e-05, Validation Loss: 0.000977364835307526\n"
     ]
    },
    {
     "name": "stderr",
     "output_type": "stream",
     "text": [
      "[I 2023-10-09 02:44:28,905] Trial 37 finished with value: 0.0007594801894583725 and parameters: {'lr': 0.006635931816997988, 'dropout_prob': 0.056960429189888584, 'hidden_channels': 146, 'n_layers': 5, 'kernel_size': 8, 'stride': 2, 'padding': 5, 'pooling_type': 'max', 'use_batch_norm': True}. Best is trial 10 with value: 0.0001829849143177853.\n"
     ]
    },
    {
     "name": "stdout",
     "output_type": "stream",
     "text": [
      "Epoch 50/50, Training Loss: 1.1587412103608585e-05, Validation Loss: 0.0007594801894583725\n"
     ]
    },
    {
     "name": "stderr",
     "output_type": "stream",
     "text": [
      "[I 2023-10-09 02:44:29,870] Trial 38 finished with value: 1.0 and parameters: {'lr': 0.004549559862005971, 'dropout_prob': 0.02588359571329006, 'hidden_channels': 188, 'n_layers': 4, 'kernel_size': 3, 'stride': 4, 'padding': 2, 'pooling_type': 'avg', 'use_batch_norm': True}. Best is trial 10 with value: 0.0001829849143177853.\n"
     ]
    },
    {
     "name": "stdout",
     "output_type": "stream",
     "text": [
      "Trial failed with error: Given input size: (188x1x1). Calculated output size: (188x1x0). Output size is too small\n",
      "Epoch 10/50, Training Loss: 0.024667840887559578, Validation Loss: 0.039428574964404106\n",
      "Epoch 20/50, Training Loss: 0.01383073505712673, Validation Loss: 0.013236959814094007\n",
      "Epoch 30/50, Training Loss: 0.0037881258176639676, Validation Loss: 0.006213958258740604\n",
      "Epoch 40/50, Training Loss: 0.002339202223083703, Validation Loss: 0.004103066283278167\n"
     ]
    },
    {
     "name": "stderr",
     "output_type": "stream",
     "text": [
      "[I 2023-10-09 02:44:33,377] Trial 39 finished with value: 0.003027595885214396 and parameters: {'lr': 0.0019648885733691925, 'dropout_prob': 0.20393865362920904, 'hidden_channels': 89, 'n_layers': 2, 'kernel_size': 9, 'stride': 1, 'padding': 6, 'pooling_type': 'max', 'use_batch_norm': False}. Best is trial 10 with value: 0.0001829849143177853.\n"
     ]
    },
    {
     "name": "stdout",
     "output_type": "stream",
     "text": [
      "Epoch 50/50, Training Loss: 0.001501061506132828, Validation Loss: 0.003027595885214396\n",
      "Epoch 10/50, Training Loss: 0.013683050805411767, Validation Loss: 0.027698254212737083\n",
      "Epoch 20/50, Training Loss: 0.0004070091752055305, Validation Loss: 0.003848016498523066\n",
      "Epoch 30/50, Training Loss: 3.485252699420016e-05, Validation Loss: 0.003123909348687448\n",
      "Epoch 40/50, Training Loss: 2.1532122559619893e-05, Validation Loss: 0.003174453443079983\n"
     ]
    },
    {
     "name": "stderr",
     "output_type": "stream",
     "text": [
      "[I 2023-10-09 02:44:38,757] Trial 40 finished with value: 0.0028850752878497588 and parameters: {'lr': 0.0030642645868815504, 'dropout_prob': 0.13075006025966485, 'hidden_channels': 208, 'n_layers': 5, 'kernel_size': 6, 'stride': 3, 'padding': 8, 'pooling_type': 'avg', 'use_batch_norm': True}. Best is trial 10 with value: 0.0001829849143177853.\n"
     ]
    },
    {
     "name": "stdout",
     "output_type": "stream",
     "text": [
      "Epoch 50/50, Training Loss: 1.1100001970021367e-05, Validation Loss: 0.0028850752878497588\n",
      "Epoch 10/50, Training Loss: 0.004324851985074929, Validation Loss: 0.004099676458281465\n",
      "Epoch 20/50, Training Loss: 0.0011911310866707936, Validation Loss: 0.005447455434477888\n",
      "Epoch 30/50, Training Loss: 0.007416000988541782, Validation Loss: 0.017373835216858424\n",
      "Epoch 40/50, Training Loss: 9.749763592026284e-05, Validation Loss: 0.00015330695714510512\n"
     ]
    },
    {
     "name": "stderr",
     "output_type": "stream",
     "text": [
      "[I 2023-10-09 02:44:42,979] Trial 41 finished with value: 0.00013890421269024955 and parameters: {'lr': 0.007171861963667305, 'dropout_prob': 0.12774313275225957, 'hidden_channels': 148, 'n_layers': 3, 'kernel_size': 7, 'stride': 3, 'padding': 3, 'pooling_type': 'avg', 'use_batch_norm': True}. Best is trial 41 with value: 0.00013890421269024955.\n"
     ]
    },
    {
     "name": "stdout",
     "output_type": "stream",
     "text": [
      "Epoch 50/50, Training Loss: 2.9674067434370954e-05, Validation Loss: 0.00013890421269024955\n",
      "Epoch 10/50, Training Loss: 0.010967725203954615, Validation Loss: 0.039183137472718954\n",
      "Epoch 20/50, Training Loss: 0.0031742655669404485, Validation Loss: 0.003559221098839771\n",
      "Epoch 30/50, Training Loss: 6.339803178434522e-05, Validation Loss: 0.001405615359544754\n",
      "Epoch 40/50, Training Loss: 3.5992747825730476e-05, Validation Loss: 0.001367592057249567\n"
     ]
    },
    {
     "name": "stderr",
     "output_type": "stream",
     "text": [
      "[I 2023-10-09 02:44:47,252] Trial 42 finished with value: 0.0011300924911665788 and parameters: {'lr': 0.007079619549600202, 'dropout_prob': 0.08698246861594541, 'hidden_channels': 162, 'n_layers': 3, 'kernel_size': 7, 'stride': 2, 'padding': 4, 'pooling_type': 'avg', 'use_batch_norm': True}. Best is trial 41 with value: 0.00013890421269024955.\n"
     ]
    },
    {
     "name": "stdout",
     "output_type": "stream",
     "text": [
      "Epoch 50/50, Training Loss: 2.3192051656906187e-05, Validation Loss: 0.0011300924911665788\n"
     ]
    },
    {
     "name": "stderr",
     "output_type": "stream",
     "text": [
      "[I 2023-10-09 02:44:48,151] Trial 43 finished with value: 1.0 and parameters: {'lr': 0.007470760078573036, 'dropout_prob': 0.14674766987046545, 'hidden_channels': 151, 'n_layers': 7, 'kernel_size': 8, 'stride': 3, 'padding': 3, 'pooling_type': 'avg', 'use_batch_norm': True}. Best is trial 41 with value: 0.00013890421269024955.\n"
     ]
    },
    {
     "name": "stdout",
     "output_type": "stream",
     "text": [
      "Trial failed with error: Given input size: (151x1x1). Calculated output size: (151x1x0). Output size is too small\n",
      "Epoch 10/50, Training Loss: 0.0002098808378150352, Validation Loss: 0.0007759913132758811\n",
      "Epoch 20/50, Training Loss: 3.4905717654964974e-05, Validation Loss: 0.000561246890356415\n",
      "Epoch 30/50, Training Loss: 1.584538512133804e-05, Validation Loss: 0.0005640089541429916\n",
      "Epoch 40/50, Training Loss: 8.73529843659071e-06, Validation Loss: 0.0004976433306183026\n"
     ]
    },
    {
     "name": "stderr",
     "output_type": "stream",
     "text": [
      "[I 2023-10-09 02:44:53,141] Trial 44 finished with value: 0.00043300626873588044 and parameters: {'lr': 0.00953472537268963, 'dropout_prob': 0.10526000150310333, 'hidden_channels': 115, 'n_layers': 4, 'kernel_size': 7, 'stride': 2, 'padding': 4, 'pooling_type': 'max', 'use_batch_norm': True}. Best is trial 41 with value: 0.00013890421269024955.\n"
     ]
    },
    {
     "name": "stdout",
     "output_type": "stream",
     "text": [
      "Epoch 50/50, Training Loss: 5.911020501514486e-06, Validation Loss: 0.00043300626873588044\n"
     ]
    },
    {
     "name": "stderr",
     "output_type": "stream",
     "text": [
      "[I 2023-10-09 02:44:54,089] Trial 45 finished with value: 1.0 and parameters: {'lr': 0.0051765184455041385, 'dropout_prob': 0.027748540548956313, 'hidden_channels': 173, 'n_layers': 3, 'kernel_size': 8, 'stride': 7, 'padding': 2, 'pooling_type': 'max', 'use_batch_norm': True}. Best is trial 41 with value: 0.00013890421269024955.\n"
     ]
    },
    {
     "name": "stdout",
     "output_type": "stream",
     "text": [
      "Trial failed with error: Given input size: (173x1x1). Calculated output size: (173x1x0). Output size is too small\n",
      "Epoch 10/50, Training Loss: 0.0036929523630533367, Validation Loss: 0.004539149202173576\n",
      "Epoch 20/50, Training Loss: 0.0004926847232127329, Validation Loss: 0.0013286561879795045\n",
      "Epoch 30/50, Training Loss: 0.00014813983398198616, Validation Loss: 0.0007354747049248544\n",
      "Epoch 40/50, Training Loss: 7.86199832418788e-05, Validation Loss: 0.0007425822113873437\n"
     ]
    },
    {
     "name": "stderr",
     "output_type": "stream",
     "text": [
      "[I 2023-10-09 02:44:57,926] Trial 46 finished with value: 0.00045290717571333516 and parameters: {'lr': 0.00740034698764948, 'dropout_prob': 0.04884332239890393, 'hidden_channels': 134, 'n_layers': 2, 'kernel_size': 6, 'stride': 2, 'padding': 4, 'pooling_type': 'max', 'use_batch_norm': True}. Best is trial 41 with value: 0.00013890421269024955.\n"
     ]
    },
    {
     "name": "stdout",
     "output_type": "stream",
     "text": [
      "Epoch 50/50, Training Loss: 0.00024198444225476123, Validation Loss: 0.00045290717571333516\n",
      "Epoch 10/50, Training Loss: 0.06688950769603252, Validation Loss: 0.07459825836122036\n",
      "Epoch 20/50, Training Loss: 0.024759614607319236, Validation Loss: 0.03492805827409029\n",
      "Epoch 30/50, Training Loss: 0.0169870899990201, Validation Loss: 0.0216968790628016\n",
      "Epoch 40/50, Training Loss: 0.012685509806033224, Validation Loss: 0.015346968546509743\n"
     ]
    },
    {
     "name": "stderr",
     "output_type": "stream",
     "text": [
      "[I 2023-10-09 02:45:01,085] Trial 47 finished with value: 0.011551557341590524 and parameters: {'lr': 0.0034535274356184142, 'dropout_prob': 0.09427689732978772, 'hidden_channels': 77, 'n_layers': 1, 'kernel_size': 5, 'stride': 4, 'padding': 10, 'pooling_type': 'max', 'use_batch_norm': True}. Best is trial 41 with value: 0.00013890421269024955.\n"
     ]
    },
    {
     "name": "stdout",
     "output_type": "stream",
     "text": [
      "Epoch 50/50, Training Loss: 0.009574926050845534, Validation Loss: 0.011551557341590524\n",
      "Epoch 10/50, Training Loss: 0.011084872021456249, Validation Loss: 0.017116954433731735\n",
      "Epoch 20/50, Training Loss: 0.002138213767466368, Validation Loss: 0.006745314167346805\n",
      "Epoch 30/50, Training Loss: 0.0030968308601586614, Validation Loss: 0.004041515348944813\n",
      "Epoch 40/50, Training Loss: 0.0003622059839472058, Validation Loss: 0.0027647140668705106\n"
     ]
    },
    {
     "name": "stderr",
     "output_type": "stream",
     "text": [
      "[I 2023-10-09 02:45:04,508] Trial 48 finished with value: 0.0020160731291980483 and parameters: {'lr': 0.0070290147620538385, 'dropout_prob': 0.054334811889354184, 'hidden_channels': 119, 'n_layers': 2, 'kernel_size': 6, 'stride': 3, 'padding': 5, 'pooling_type': 'max', 'use_batch_norm': False}. Best is trial 41 with value: 0.00013890421269024955.\n"
     ]
    },
    {
     "name": "stdout",
     "output_type": "stream",
     "text": [
      "Epoch 50/50, Training Loss: 0.0001589129283274815, Validation Loss: 0.0020160731291980483\n",
      "Epoch 10/50, Training Loss: 0.005604559239145601, Validation Loss: 0.008411439717747271\n",
      "Epoch 20/50, Training Loss: 0.0017797947352846677, Validation Loss: 0.003714565566042438\n",
      "Epoch 30/50, Training Loss: 0.00019073458952334477, Validation Loss: 0.0013097967312205583\n",
      "Epoch 40/50, Training Loss: 0.00010149568890938099, Validation Loss: 0.0011829759678221308\n"
     ]
    },
    {
     "name": "stderr",
     "output_type": "stream",
     "text": [
      "[I 2023-10-09 02:45:08,314] Trial 49 finished with value: 0.0011907601619896013 and parameters: {'lr': 0.005133135397335825, 'dropout_prob': 0.06523800289087928, 'hidden_channels': 134, 'n_layers': 2, 'kernel_size': 6, 'stride': 2, 'padding': 2, 'pooling_type': 'max', 'use_batch_norm': True}. Best is trial 41 with value: 0.00013890421269024955.\n"
     ]
    },
    {
     "name": "stdout",
     "output_type": "stream",
     "text": [
      "Epoch 50/50, Training Loss: 6.578278907909407e-05, Validation Loss: 0.0011907601619896013\n",
      "Epoch 10/50, Training Loss: 0.08438193332403898, Validation Loss: 0.08705234155058861\n",
      "Epoch 20/50, Training Loss: 0.028912274166941643, Validation Loss: 0.03499008622020483\n",
      "Epoch 30/50, Training Loss: 0.017984799400437623, Validation Loss: 0.022090564481914043\n",
      "Epoch 40/50, Training Loss: 0.014378427615156397, Validation Loss: 0.01583606330677867\n"
     ]
    },
    {
     "name": "stderr",
     "output_type": "stream",
     "text": [
      "[I 2023-10-09 02:45:11,537] Trial 50 finished with value: 0.011645684950053692 and parameters: {'lr': 0.0023428982669701035, 'dropout_prob': 0.09030087740227635, 'hidden_channels': 139, 'n_layers': 1, 'kernel_size': 5, 'stride': 4, 'padding': 3, 'pooling_type': 'max', 'use_batch_norm': True}. Best is trial 41 with value: 0.00013890421269024955.\n"
     ]
    },
    {
     "name": "stdout",
     "output_type": "stream",
     "text": [
      "Epoch 50/50, Training Loss: 0.011587277491344139, Validation Loss: 0.011645684950053692\n",
      "Epoch 10/50, Training Loss: 0.015038952507893555, Validation Loss: 0.008823703450616449\n",
      "Epoch 20/50, Training Loss: 0.00015628701589776028, Validation Loss: 0.0012764049461111426\n",
      "Epoch 30/50, Training Loss: 5.446286201049588e-05, Validation Loss: 0.0012941434360982385\n",
      "Epoch 40/50, Training Loss: 3.238306442199246e-05, Validation Loss: 0.0012580968591464625\n"
     ]
    },
    {
     "name": "stderr",
     "output_type": "stream",
     "text": [
      "[I 2023-10-09 02:45:15,942] Trial 51 finished with value: 0.0013032292213210894 and parameters: {'lr': 0.00826876561424696, 'dropout_prob': 0.020068694990822644, 'hidden_channels': 154, 'n_layers': 3, 'kernel_size': 7, 'stride': 1, 'padding': 4, 'pooling_type': 'max', 'use_batch_norm': True}. Best is trial 41 with value: 0.00013890421269024955.\n"
     ]
    },
    {
     "name": "stdout",
     "output_type": "stream",
     "text": [
      "Epoch 50/50, Training Loss: 2.1922514392258563e-05, Validation Loss: 0.0013032292213210894\n",
      "Epoch 10/50, Training Loss: 0.0024544810353290814, Validation Loss: 0.0014287163212429732\n",
      "Epoch 20/50, Training Loss: 0.00011061542227253085, Validation Loss: 0.0010141887541976757\n",
      "Epoch 30/50, Training Loss: 3.999330496640141e-05, Validation Loss: 0.0004030968248116551\n",
      "Epoch 40/50, Training Loss: 2.7668077791531687e-05, Validation Loss: 0.00033693713612592546\n"
     ]
    },
    {
     "name": "stderr",
     "output_type": "stream",
     "text": [
      "[I 2023-10-09 02:45:20,123] Trial 52 finished with value: 0.0002491855718744773 and parameters: {'lr': 0.007672912819349535, 'dropout_prob': 0.013563825213493516, 'hidden_channels': 116, 'n_layers': 3, 'kernel_size': 9, 'stride': 2, 'padding': 4, 'pooling_type': 'max', 'use_batch_norm': True}. Best is trial 41 with value: 0.00013890421269024955.\n"
     ]
    },
    {
     "name": "stdout",
     "output_type": "stream",
     "text": [
      "Epoch 50/50, Training Loss: 1.575887287685873e-05, Validation Loss: 0.0002491855718744773\n",
      "Epoch 10/50, Training Loss: 0.00654353645950323, Validation Loss: 0.007868278597015887\n",
      "Epoch 20/50, Training Loss: 0.0040799143389449455, Validation Loss: 0.006481163072749041\n",
      "Epoch 30/50, Training Loss: 0.0003836098085230333, Validation Loss: 0.002480317296431167\n",
      "Epoch 40/50, Training Loss: 0.00015415261668749736, Validation Loss: 0.0021665005515387747\n"
     ]
    },
    {
     "name": "stderr",
     "output_type": "stream",
     "text": [
      "[I 2023-10-09 02:45:23,821] Trial 53 finished with value: 0.001852182005677605 and parameters: {'lr': 0.004302919722841065, 'dropout_prob': 0.042272153529836154, 'hidden_channels': 117, 'n_layers': 2, 'kernel_size': 6, 'stride': 2, 'padding': 4, 'pooling_type': 'max', 'use_batch_norm': True}. Best is trial 41 with value: 0.00013890421269024955.\n"
     ]
    },
    {
     "name": "stdout",
     "output_type": "stream",
     "text": [
      "Epoch 50/50, Training Loss: 9.89931172625802e-05, Validation Loss: 0.001852182005677605\n"
     ]
    },
    {
     "name": "stderr",
     "output_type": "stream",
     "text": [
      "[I 2023-10-09 02:45:24,677] Trial 54 finished with value: 1.0 and parameters: {'lr': 0.009962564317932854, 'dropout_prob': 0.01329047404740034, 'hidden_channels': 100, 'n_layers': 4, 'kernel_size': 9, 'stride': 3, 'padding': 5, 'pooling_type': 'max', 'use_batch_norm': True}. Best is trial 41 with value: 0.00013890421269024955.\n"
     ]
    },
    {
     "name": "stdout",
     "output_type": "stream",
     "text": [
      "Trial failed with error: Given input size: (100x1x1). Calculated output size: (100x1x0). Output size is too small\n",
      "Epoch 10/50, Training Loss: 0.0016587413756496971, Validation Loss: 0.0031541688658762723\n",
      "Epoch 20/50, Training Loss: 0.004914032919714373, Validation Loss: 0.001219863406731747\n",
      "Epoch 30/50, Training Loss: 8.400532584573739e-05, Validation Loss: 0.00040637424262968125\n",
      "Epoch 40/50, Training Loss: 4.1055356120978104e-05, Validation Loss: 0.0002965425610454986\n"
     ]
    },
    {
     "name": "stderr",
     "output_type": "stream",
     "text": [
      "[I 2023-10-09 02:45:28,967] Trial 55 finished with value: 0.00026524330360189197 and parameters: {'lr': 0.00756535625363241, 'dropout_prob': 0.0007452120098953019, 'hidden_channels': 82, 'n_layers': 3, 'kernel_size': 7, 'stride': 2, 'padding': 4, 'pooling_type': 'max', 'use_batch_norm': True}. Best is trial 41 with value: 0.00013890421269024955.\n"
     ]
    },
    {
     "name": "stdout",
     "output_type": "stream",
     "text": [
      "Epoch 50/50, Training Loss: 1.857582850561812e-05, Validation Loss: 0.00026524330360189197\n",
      "Epoch 10/50, Training Loss: 0.009879035394988023, Validation Loss: 0.005772014614194632\n",
      "Epoch 20/50, Training Loss: 0.0033381757248207578, Validation Loss: 0.007125504896976054\n",
      "Epoch 30/50, Training Loss: 5.374781005684781e-05, Validation Loss: 0.005814730712700111\n",
      "Epoch 40/50, Training Loss: 2.4179750141684053e-05, Validation Loss: 0.005743183734011836\n"
     ]
    },
    {
     "name": "stderr",
     "output_type": "stream",
     "text": [
      "[I 2023-10-09 02:45:33,274] Trial 56 finished with value: 0.006036933357336238 and parameters: {'lr': 0.007259937757142667, 'dropout_prob': 0.006924049992994966, 'hidden_channels': 126, 'n_layers': 3, 'kernel_size': 4, 'stride': 3, 'padding': 3, 'pooling_type': 'max', 'use_batch_norm': True}. Best is trial 41 with value: 0.00013890421269024955.\n"
     ]
    },
    {
     "name": "stdout",
     "output_type": "stream",
     "text": [
      "Epoch 50/50, Training Loss: 1.4094606086700878e-05, Validation Loss: 0.006036933357336238\n",
      "Epoch 10/50, Training Loss: 0.002659293033502763, Validation Loss: 0.0038383787032216787\n",
      "Epoch 20/50, Training Loss: 0.0010713744877648423, Validation Loss: 0.00197287568153115\n",
      "Epoch 30/50, Training Loss: 0.00011637677971521043, Validation Loss: 0.0029645472459378652\n",
      "Epoch 40/50, Training Loss: 6.640494552812015e-05, Validation Loss: 0.0028168597673357\n"
     ]
    },
    {
     "name": "stderr",
     "output_type": "stream",
     "text": [
      "[I 2023-10-09 02:45:37,521] Trial 57 finished with value: 0.002825215987286356 and parameters: {'lr': 0.003778377524041435, 'dropout_prob': 0.06763702456976639, 'hidden_channels': 59, 'n_layers': 3, 'kernel_size': 5, 'stride': 2, 'padding': 3, 'pooling_type': 'max', 'use_batch_norm': True}. Best is trial 41 with value: 0.00013890421269024955.\n"
     ]
    },
    {
     "name": "stdout",
     "output_type": "stream",
     "text": [
      "Epoch 50/50, Training Loss: 3.554546080408727e-05, Validation Loss: 0.002825215987286356\n",
      "Epoch 10/50, Training Loss: 0.005339872484910302, Validation Loss: 0.00648032664321363\n",
      "Epoch 20/50, Training Loss: 0.001400967556037358, Validation Loss: 0.0033330334699712694\n",
      "Epoch 30/50, Training Loss: 0.0002774612748908112, Validation Loss: 0.002818468914483674\n",
      "Epoch 40/50, Training Loss: 0.00014898580229782965, Validation Loss: 0.0031037115259096026\n"
     ]
    },
    {
     "name": "stderr",
     "output_type": "stream",
     "text": [
      "[I 2023-10-09 02:45:41,377] Trial 58 finished with value: 0.0030946185979701113 and parameters: {'lr': 0.004989492759476423, 'dropout_prob': 0.0015193370150680917, 'hidden_channels': 82, 'n_layers': 2, 'kernel_size': 7, 'stride': 2, 'padding': 1, 'pooling_type': 'max', 'use_batch_norm': True}. Best is trial 41 with value: 0.00013890421269024955.\n"
     ]
    },
    {
     "name": "stdout",
     "output_type": "stream",
     "text": [
      "Epoch 50/50, Training Loss: 8.998555449579726e-05, Validation Loss: 0.0030946185979701113\n",
      "Epoch 10/50, Training Loss: 0.003950363661715528, Validation Loss: 0.0020688131917268038\n",
      "Epoch 20/50, Training Loss: 0.008585866135035758, Validation Loss: 0.0030565189954359084\n",
      "Epoch 30/50, Training Loss: 0.0003726585993035769, Validation Loss: 0.0010369717820140067\n",
      "Epoch 40/50, Training Loss: 2.4337222299664063e-05, Validation Loss: 0.0012285622060517198\n"
     ]
    },
    {
     "name": "stderr",
     "output_type": "stream",
     "text": [
      "[I 2023-10-09 02:45:45,641] Trial 59 finished with value: 0.0011883273982675746 and parameters: {'lr': 0.007730938354274784, 'dropout_prob': 0.05070461022274996, 'hidden_channels': 113, 'n_layers': 3, 'kernel_size': 6, 'stride': 3, 'padding': 4, 'pooling_type': 'max', 'use_batch_norm': True}. Best is trial 41 with value: 0.00013890421269024955.\n"
     ]
    },
    {
     "name": "stdout",
     "output_type": "stream",
     "text": [
      "Epoch 50/50, Training Loss: 1.656169865782431e-05, Validation Loss: 0.0011883273982675746\n",
      "Epoch 10/50, Training Loss: 0.006027567091223318, Validation Loss: 0.008278586727101356\n",
      "Epoch 20/50, Training Loss: 0.0035674722312251106, Validation Loss: 0.00930210980004631\n",
      "Epoch 30/50, Training Loss: 0.001507806913650711, Validation Loss: 0.001588381506735459\n",
      "Epoch 40/50, Training Loss: 0.0003936283778784855, Validation Loss: 0.0009500395608483814\n"
     ]
    },
    {
     "name": "stderr",
     "output_type": "stream",
     "text": [
      "[I 2023-10-09 02:45:49,381] Trial 60 finished with value: 0.0008879858323780354 and parameters: {'lr': 0.0030165133753050064, 'dropout_prob': 0.10604673773962328, 'hidden_channels': 131, 'n_layers': 2, 'kernel_size': 7, 'stride': 2, 'padding': 5, 'pooling_type': 'max', 'use_batch_norm': True}. Best is trial 41 with value: 0.00013890421269024955.\n"
     ]
    },
    {
     "name": "stdout",
     "output_type": "stream",
     "text": [
      "Epoch 50/50, Training Loss: 0.00017632199137551652, Validation Loss: 0.0008879858323780354\n",
      "Epoch 10/50, Training Loss: 0.0013550937023865117, Validation Loss: 0.005222138461249415\n",
      "Epoch 20/50, Training Loss: 0.0010067508469546738, Validation Loss: 0.0008484620921080932\n",
      "Epoch 30/50, Training Loss: 5.9006683386542136e-05, Validation Loss: 0.000541628720384324\n",
      "Epoch 40/50, Training Loss: 2.9609215516757104e-05, Validation Loss: 0.0005236911929387134\n"
     ]
    },
    {
     "name": "stderr",
     "output_type": "stream",
     "text": [
      "[I 2023-10-09 02:45:54,361] Trial 61 finished with value: 0.0004886311644440866 and parameters: {'lr': 0.00522498639006723, 'dropout_prob': 0.034128219724252395, 'hidden_channels': 97, 'n_layers': 4, 'kernel_size': 7, 'stride': 2, 'padding': 4, 'pooling_type': 'max', 'use_batch_norm': True}. Best is trial 41 with value: 0.00013890421269024955.\n"
     ]
    },
    {
     "name": "stdout",
     "output_type": "stream",
     "text": [
      "Epoch 50/50, Training Loss: 1.8664979961613426e-05, Validation Loss: 0.0004886311644440866\n",
      "Epoch 10/50, Training Loss: 0.01112636856851168, Validation Loss: 0.010720627498812973\n",
      "Epoch 20/50, Training Loss: 9.436298603304749e-05, Validation Loss: 0.00043209470095462166\n",
      "Epoch 30/50, Training Loss: 4.041184001835063e-05, Validation Loss: 0.00039560233381052967\n",
      "Epoch 40/50, Training Loss: 2.366606081949385e-05, Validation Loss: 0.00031371267778013134\n"
     ]
    },
    {
     "name": "stderr",
     "output_type": "stream",
     "text": [
      "[I 2023-10-09 02:45:58,750] Trial 62 finished with value: 0.0002586027837878646 and parameters: {'lr': 0.008070171321762664, 'dropout_prob': 0.022738613503912767, 'hidden_channels': 71, 'n_layers': 3, 'kernel_size': 7, 'stride': 2, 'padding': 4, 'pooling_type': 'max', 'use_batch_norm': True}. Best is trial 41 with value: 0.00013890421269024955.\n"
     ]
    },
    {
     "name": "stdout",
     "output_type": "stream",
     "text": [
      "Epoch 50/50, Training Loss: 1.6683647601212215e-05, Validation Loss: 0.0002586027837878646\n",
      "Epoch 10/50, Training Loss: 0.005020887332648272, Validation Loss: 0.009954626482794993\n",
      "Epoch 20/50, Training Loss: 0.0001104535124341055, Validation Loss: 0.0012395760204526596\n",
      "Epoch 30/50, Training Loss: 4.280703115000506e-05, Validation Loss: 0.0018309152328583878\n",
      "Epoch 40/50, Training Loss: 2.6387126808913308e-05, Validation Loss: 0.0017605277444090461\n"
     ]
    },
    {
     "name": "stderr",
     "output_type": "stream",
     "text": [
      "[I 2023-10-09 02:46:03,014] Trial 63 finished with value: 0.001650460861128522 and parameters: {'lr': 0.008167935236041188, 'dropout_prob': 0.016318971632524826, 'hidden_channels': 69, 'n_layers': 3, 'kernel_size': 7, 'stride': 2, 'padding': 3, 'pooling_type': 'max', 'use_batch_norm': True}. Best is trial 41 with value: 0.00013890421269024955.\n"
     ]
    },
    {
     "name": "stdout",
     "output_type": "stream",
     "text": [
      "Epoch 50/50, Training Loss: 1.6586352586500652e-05, Validation Loss: 0.001650460861128522\n",
      "Epoch 10/50, Training Loss: 0.005215682143898448, Validation Loss: 0.007499552171793766\n",
      "Epoch 20/50, Training Loss: 0.0006364830460370285, Validation Loss: 0.0030672647881146986\n",
      "Epoch 30/50, Training Loss: 7.03163208299884e-05, Validation Loss: 0.001150400418737263\n",
      "Epoch 40/50, Training Loss: 3.403840361215771e-05, Validation Loss: 0.0012685359242823324\n"
     ]
    },
    {
     "name": "stderr",
     "output_type": "stream",
     "text": [
      "[I 2023-10-09 02:46:07,219] Trial 64 finished with value: 0.001218252143189602 and parameters: {'lr': 0.00813454319588947, 'dropout_prob': 0.07485959161562797, 'hidden_channels': 38, 'n_layers': 3, 'kernel_size': 5, 'stride': 3, 'padding': 4, 'pooling_type': 'max', 'use_batch_norm': True}. Best is trial 41 with value: 0.00013890421269024955.\n"
     ]
    },
    {
     "name": "stdout",
     "output_type": "stream",
     "text": [
      "Epoch 50/50, Training Loss: 2.221393717150022e-05, Validation Loss: 0.001218252143189602\n",
      "Epoch 10/50, Training Loss: 0.0027089029681519605, Validation Loss: 0.00240503805980552\n",
      "Epoch 20/50, Training Loss: 0.0003146668907447747, Validation Loss: 0.0002293032594025135\n",
      "Epoch 30/50, Training Loss: 3.2346928890092386e-05, Validation Loss: 0.00022666147197014652\n",
      "Epoch 40/50, Training Loss: 1.9390402741237267e-05, Validation Loss: 0.00021631318213621853\n"
     ]
    },
    {
     "name": "stderr",
     "output_type": "stream",
     "text": [
      "[I 2023-10-09 02:46:11,600] Trial 65 finished with value: 0.00019706511784534086 and parameters: {'lr': 0.006355178191565953, 'dropout_prob': 0.05452569397547202, 'hidden_channels': 141, 'n_layers': 3, 'kernel_size': 6, 'stride': 2, 'padding': 5, 'pooling_type': 'max', 'use_batch_norm': True}. Best is trial 41 with value: 0.00013890421269024955.\n"
     ]
    },
    {
     "name": "stdout",
     "output_type": "stream",
     "text": [
      "Epoch 50/50, Training Loss: 1.6028457110905947e-05, Validation Loss: 0.00019706511784534086\n",
      "Epoch 10/50, Training Loss: 0.004007500414445531, Validation Loss: 0.003975862608058378\n",
      "Epoch 20/50, Training Loss: 0.0003209916535524826, Validation Loss: 0.002860851469449699\n",
      "Epoch 30/50, Training Loss: 0.00010359800626247306, Validation Loss: 0.0021411711677501444\n",
      "Epoch 40/50, Training Loss: 5.751120369268392e-05, Validation Loss: 0.0020051827741554007\n"
     ]
    },
    {
     "name": "stderr",
     "output_type": "stream",
     "text": [
      "[I 2023-10-09 02:46:15,864] Trial 66 finished with value: 0.0017418143106624484 and parameters: {'lr': 0.004275160985359807, 'dropout_prob': 0.02256485353324582, 'hidden_channels': 58, 'n_layers': 3, 'kernel_size': 7, 'stride': 3, 'padding': 5, 'pooling_type': 'max', 'use_batch_norm': True}. Best is trial 41 with value: 0.00013890421269024955.\n"
     ]
    },
    {
     "name": "stdout",
     "output_type": "stream",
     "text": [
      "Epoch 50/50, Training Loss: 4.560443449008744e-05, Validation Loss: 0.0017418143106624484\n",
      "Epoch 10/50, Training Loss: 0.002754624683802831, Validation Loss: 0.0007982278839335777\n",
      "Epoch 20/50, Training Loss: 0.000105068605876113, Validation Loss: 0.00025938476392184384\n",
      "Epoch 30/50, Training Loss: 5.079338171753989e-05, Validation Loss: 0.00011838957925647264\n",
      "Epoch 40/50, Training Loss: 2.246891847335064e-05, Validation Loss: 9.969568441192678e-05\n"
     ]
    },
    {
     "name": "stderr",
     "output_type": "stream",
     "text": [
      "[I 2023-10-09 02:46:20,261] Trial 67 finished with value: 7.874815059949469e-05 and parameters: {'lr': 0.009699553965574132, 'dropout_prob': 0.037758162341031874, 'hidden_channels': 71, 'n_layers': 3, 'kernel_size': 6, 'stride': 2, 'padding': 5, 'pooling_type': 'max', 'use_batch_norm': True}. Best is trial 67 with value: 7.874815059949469e-05.\n"
     ]
    },
    {
     "name": "stdout",
     "output_type": "stream",
     "text": [
      "Epoch 50/50, Training Loss: 1.5012445203410607e-05, Validation Loss: 7.874815059949469e-05\n",
      "Epoch 10/50, Training Loss: 0.002007704410061706, Validation Loss: 0.0038068246649345383\n",
      "Epoch 20/50, Training Loss: 0.001029194377224485, Validation Loss: 0.006861564184873714\n",
      "Epoch 30/50, Training Loss: 0.0017174595591313846, Validation Loss: 0.0011708644524333067\n",
      "Epoch 40/50, Training Loss: 7.427078867294767e-05, Validation Loss: 0.0008377825124625815\n"
     ]
    },
    {
     "name": "stderr",
     "output_type": "stream",
     "text": [
      "[I 2023-10-09 02:46:24,583] Trial 68 finished with value: 0.0006629390463785967 and parameters: {'lr': 0.005662347698785215, 'dropout_prob': 0.0010492000088212355, 'hidden_channels': 80, 'n_layers': 3, 'kernel_size': 6, 'stride': 2, 'padding': 6, 'pooling_type': 'max', 'use_batch_norm': True}. Best is trial 67 with value: 7.874815059949469e-05.\n"
     ]
    },
    {
     "name": "stdout",
     "output_type": "stream",
     "text": [
      "Epoch 50/50, Training Loss: 5.480295806137292e-05, Validation Loss: 0.0006629390463785967\n",
      "Epoch 10/50, Training Loss: 0.004673785119848617, Validation Loss: 0.007330194333917461\n",
      "Epoch 20/50, Training Loss: 8.549302424398775e-05, Validation Loss: 0.0014600255235563964\n",
      "Epoch 30/50, Training Loss: 4.658865657347633e-05, Validation Loss: 0.0012176072095826385\n",
      "Epoch 40/50, Training Loss: 2.4544477014387667e-05, Validation Loss: 0.0012269365042811842\n"
     ]
    },
    {
     "name": "stderr",
     "output_type": "stream",
     "text": [
      "[I 2023-10-09 02:46:28,814] Trial 69 finished with value: 0.001206666261623468 and parameters: {'lr': 0.00644403953350543, 'dropout_prob': 0.04060136633661604, 'hidden_channels': 65, 'n_layers': 3, 'kernel_size': 6, 'stride': 3, 'padding': 5, 'pooling_type': 'max', 'use_batch_norm': True}. Best is trial 67 with value: 7.874815059949469e-05.\n"
     ]
    },
    {
     "name": "stdout",
     "output_type": "stream",
     "text": [
      "Epoch 50/50, Training Loss: 1.616547194771556e-05, Validation Loss: 0.001206666261623468\n",
      "Epoch 10/50, Training Loss: 0.004289213567972183, Validation Loss: 0.007115208194591105\n",
      "Epoch 20/50, Training Loss: 0.00019451910907264391, Validation Loss: 0.0008958011021604761\n",
      "Epoch 30/50, Training Loss: 6.322283024928765e-05, Validation Loss: 0.0005898522977076937\n",
      "Epoch 40/50, Training Loss: 2.7590126848053842e-05, Validation Loss: 0.0005416364001575857\n"
     ]
    },
    {
     "name": "stderr",
     "output_type": "stream",
     "text": [
      "[I 2023-10-09 02:46:33,078] Trial 70 finished with value: 0.0004489396396820666 and parameters: {'lr': 0.009982370843870112, 'dropout_prob': 0.06100847437225344, 'hidden_channels': 53, 'n_layers': 3, 'kernel_size': 5, 'stride': 5, 'padding': 7, 'pooling_type': 'max', 'use_batch_norm': True}. Best is trial 67 with value: 7.874815059949469e-05.\n"
     ]
    },
    {
     "name": "stdout",
     "output_type": "stream",
     "text": [
      "Epoch 50/50, Training Loss: 1.8334951164433733e-05, Validation Loss: 0.0004489396396820666\n",
      "Epoch 10/50, Training Loss: 0.028951764421435655, Validation Loss: 0.022323666606098413\n",
      "Epoch 20/50, Training Loss: 0.00013089978995139973, Validation Loss: 0.000947719707255601\n",
      "Epoch 30/50, Training Loss: 3.902533143218534e-05, Validation Loss: 0.0006090314018365461\n",
      "Epoch 40/50, Training Loss: 2.3418317695700352e-05, Validation Loss: 0.00045183280326455133\n"
     ]
    },
    {
     "name": "stderr",
     "output_type": "stream",
     "text": [
      "[I 2023-10-09 02:46:37,991] Trial 71 finished with value: 0.0003866041258788755 and parameters: {'lr': 0.008431128536338527, 'dropout_prob': 0.02144996651175993, 'hidden_channels': 72, 'n_layers': 4, 'kernel_size': 7, 'stride': 2, 'padding': 5, 'pooling_type': 'max', 'use_batch_norm': True}. Best is trial 67 with value: 7.874815059949469e-05.\n"
     ]
    },
    {
     "name": "stdout",
     "output_type": "stream",
     "text": [
      "Epoch 50/50, Training Loss: 1.982598723770934e-05, Validation Loss: 0.0003866041258788755\n",
      "Epoch 10/50, Training Loss: 0.011877002874825848, Validation Loss: 0.005027128499932587\n",
      "Epoch 20/50, Training Loss: 0.00018972177167597692, Validation Loss: 0.0032414465113106417\n",
      "Epoch 30/50, Training Loss: 7.928394950340589e-05, Validation Loss: 0.00327437836676836\n",
      "Epoch 40/50, Training Loss: 3.891336626793418e-05, Validation Loss: 0.003512888468321762\n"
     ]
    },
    {
     "name": "stderr",
     "output_type": "stream",
     "text": [
      "[I 2023-10-09 02:46:42,247] Trial 72 finished with value: 0.0040587086098184955 and parameters: {'lr': 0.006141029583465444, 'dropout_prob': 0.020828929680546303, 'hidden_channels': 49, 'n_layers': 3, 'kernel_size': 6, 'stride': 2, 'padding': 6, 'pooling_type': 'max', 'use_batch_norm': True}. Best is trial 67 with value: 7.874815059949469e-05.\n"
     ]
    },
    {
     "name": "stdout",
     "output_type": "stream",
     "text": [
      "Epoch 50/50, Training Loss: 2.5782891469816605e-05, Validation Loss: 0.0040587086098184955\n",
      "Epoch 10/50, Training Loss: 0.009622894493077183, Validation Loss: 0.0294447282794863\n",
      "Epoch 20/50, Training Loss: 0.00020385879167861276, Validation Loss: 0.0016635856300126761\n",
      "Epoch 30/50, Training Loss: 7.585315665892267e-05, Validation Loss: 0.0016418310087829013\n",
      "Epoch 40/50, Training Loss: 4.61859330016523e-05, Validation Loss: 0.0014000730589032173\n"
     ]
    },
    {
     "name": "stderr",
     "output_type": "stream",
     "text": [
      "[I 2023-10-09 02:46:46,587] Trial 73 finished with value: 0.001403321707584837 and parameters: {'lr': 0.004677417162143358, 'dropout_prob': 0.03525809586351786, 'hidden_channels': 69, 'n_layers': 3, 'kernel_size': 4, 'stride': 2, 'padding': 5, 'pooling_type': 'max', 'use_batch_norm': True}. Best is trial 67 with value: 7.874815059949469e-05.\n"
     ]
    },
    {
     "name": "stdout",
     "output_type": "stream",
     "text": [
      "Epoch 50/50, Training Loss: 2.878376884041245e-05, Validation Loss: 0.001403321707584837\n",
      "Epoch 10/50, Training Loss: 0.0011156502996527706, Validation Loss: 0.0017448003418394364\n",
      "Epoch 20/50, Training Loss: 4.8455445778472495e-05, Validation Loss: 0.0012290030049371126\n",
      "Epoch 30/50, Training Loss: 4.812598427861303e-05, Validation Loss: 0.0012840083377341216\n",
      "Epoch 40/50, Training Loss: 1.265295807684197e-05, Validation Loss: 0.001076480184110551\n"
     ]
    },
    {
     "name": "stderr",
     "output_type": "stream",
     "text": [
      "[I 2023-10-09 02:46:51,675] Trial 74 finished with value: 0.001160634703865071 and parameters: {'lr': 0.008016415901806628, 'dropout_prob': 0.014558703498273252, 'hidden_channels': 87, 'n_layers': 4, 'kernel_size': 8, 'stride': 1, 'padding': 6, 'pooling_type': 'max', 'use_batch_norm': True}. Best is trial 67 with value: 7.874815059949469e-05.\n"
     ]
    },
    {
     "name": "stdout",
     "output_type": "stream",
     "text": [
      "Epoch 50/50, Training Loss: 8.427694581314427e-06, Validation Loss: 0.001160634703865071\n",
      "Epoch 10/50, Training Loss: 0.003569121812688536, Validation Loss: 0.005270825611660257\n",
      "Epoch 20/50, Training Loss: 0.0032718773145461455, Validation Loss: 0.005372117288061418\n",
      "Epoch 30/50, Training Loss: 7.735675524145336e-05, Validation Loss: 0.0013478651089826599\n",
      "Epoch 40/50, Training Loss: 4.054994894886477e-05, Validation Loss: 0.0013883676228942932\n"
     ]
    },
    {
     "name": "stderr",
     "output_type": "stream",
     "text": [
      "[I 2023-10-09 02:46:55,889] Trial 75 finished with value: 0.0012607773260242539 and parameters: {'lr': 0.0034830205161983582, 'dropout_prob': 0.049227309767929515, 'hidden_channels': 41, 'n_layers': 3, 'kernel_size': 9, 'stride': 2, 'padding': 5, 'pooling_type': 'max', 'use_batch_norm': True}. Best is trial 67 with value: 7.874815059949469e-05.\n"
     ]
    },
    {
     "name": "stdout",
     "output_type": "stream",
     "text": [
      "Epoch 50/50, Training Loss: 2.5736659836184117e-05, Validation Loss: 0.0012607773260242539\n",
      "Epoch 10/50, Training Loss: 0.004048857803354622, Validation Loss: 0.019377777352929115\n",
      "Epoch 20/50, Training Loss: 0.005186498625334934, Validation Loss: 0.012997631507460028\n",
      "Epoch 30/50, Training Loss: 6.165501497434889e-05, Validation Loss: 0.0006989032099227188\n",
      "Epoch 40/50, Training Loss: 2.8781715741388325e-05, Validation Loss: 0.0005333470312507416\n"
     ]
    },
    {
     "name": "stderr",
     "output_type": "stream",
     "text": [
      "[I 2023-10-09 02:47:00,819] Trial 76 finished with value: 0.0004263470598289132 and parameters: {'lr': 0.006059083223497415, 'dropout_prob': 0.029943504531469014, 'hidden_channels': 72, 'n_layers': 4, 'kernel_size': 7, 'stride': 2, 'padding': 4, 'pooling_type': 'max', 'use_batch_norm': True}. Best is trial 67 with value: 7.874815059949469e-05.\n"
     ]
    },
    {
     "name": "stdout",
     "output_type": "stream",
     "text": [
      "Epoch 50/50, Training Loss: 1.7550711078229142e-05, Validation Loss: 0.0004263470598289132\n",
      "Epoch 10/50, Training Loss: 0.005736326289479621, Validation Loss: 0.0037242696853354573\n",
      "Epoch 20/50, Training Loss: 0.00022795383802076685, Validation Loss: 0.0016489110021211673\n",
      "Epoch 30/50, Training Loss: 0.00011027013525222173, Validation Loss: 0.0021820476667926414\n",
      "Epoch 40/50, Training Loss: 4.743817351027246e-05, Validation Loss: 0.001973887876374647\n"
     ]
    },
    {
     "name": "stderr",
     "output_type": "stream",
     "text": [
      "[I 2023-10-09 02:47:05,008] Trial 77 finished with value: 0.0018865748525058734 and parameters: {'lr': 0.008531179052404024, 'dropout_prob': 0.07661783403349488, 'hidden_channels': 28, 'n_layers': 3, 'kernel_size': 6, 'stride': 1, 'padding': 5, 'pooling_type': 'max', 'use_batch_norm': True}. Best is trial 67 with value: 7.874815059949469e-05.\n"
     ]
    },
    {
     "name": "stdout",
     "output_type": "stream",
     "text": [
      "Epoch 50/50, Training Loss: 2.7921858048784998e-05, Validation Loss: 0.0018865748525058734\n"
     ]
    },
    {
     "name": "stderr",
     "output_type": "stream",
     "text": [
      "[I 2023-10-09 02:47:05,941] Trial 78 finished with value: 1.0 and parameters: {'lr': 0.004164754909639384, 'dropout_prob': 0.011679690317545602, 'hidden_channels': 157, 'n_layers': 4, 'kernel_size': 7, 'stride': 3, 'padding': 4, 'pooling_type': 'max', 'use_batch_norm': True}. Best is trial 67 with value: 7.874815059949469e-05.\n"
     ]
    },
    {
     "name": "stdout",
     "output_type": "stream",
     "text": [
      "Trial failed with error: Given input size: (157x1x1). Calculated output size: (157x1x0). Output size is too small\n",
      "Epoch 10/50, Training Loss: 0.0047718632777105086, Validation Loss: 0.007405938900774345\n",
      "Epoch 20/50, Training Loss: 0.00013264446124594542, Validation Loss: 0.0007750665317871608\n",
      "Epoch 30/50, Training Loss: 5.36827566293141e-05, Validation Loss: 0.0007413750472551328\n",
      "Epoch 40/50, Training Loss: 3.0379941790670273e-05, Validation Loss: 0.0006242747058422538\n"
     ]
    },
    {
     "name": "stderr",
     "output_type": "stream",
     "text": [
      "[I 2023-10-09 02:47:10,239] Trial 79 finished with value: 0.0005588960134446097 and parameters: {'lr': 0.005230133070251698, 'dropout_prob': 0.05474158076292962, 'hidden_channels': 141, 'n_layers': 3, 'kernel_size': 8, 'stride': 2, 'padding': 5, 'pooling_type': 'max', 'use_batch_norm': True}. Best is trial 67 with value: 7.874815059949469e-05.\n"
     ]
    },
    {
     "name": "stdout",
     "output_type": "stream",
     "text": [
      "Epoch 50/50, Training Loss: 2.039026847455716e-05, Validation Loss: 0.0005588960134446097\n",
      "Epoch 10/50, Training Loss: 0.004025832171464572, Validation Loss: 0.004110023466637358\n",
      "Epoch 20/50, Training Loss: 0.007134113837309997, Validation Loss: 0.0015785997966304421\n",
      "Epoch 30/50, Training Loss: 0.0001382905400078016, Validation Loss: 0.001233321898325812\n",
      "Epoch 40/50, Training Loss: 6.837183286734216e-05, Validation Loss: 0.0010072537061205367\n"
     ]
    },
    {
     "name": "stderr",
     "output_type": "stream",
     "text": [
      "[I 2023-10-09 02:47:13,944] Trial 80 finished with value: 0.0013821681750414427 and parameters: {'lr': 0.006561165648236063, 'dropout_prob': 0.000517966780786713, 'hidden_channels': 84, 'n_layers': 2, 'kernel_size': 8, 'stride': 2, 'padding': 3, 'pooling_type': 'max', 'use_batch_norm': True}. Best is trial 67 with value: 7.874815059949469e-05.\n"
     ]
    },
    {
     "name": "stdout",
     "output_type": "stream",
     "text": [
      "Epoch 50/50, Training Loss: 5.2128262041151174e-05, Validation Loss: 0.0013821681750414427\n",
      "Epoch 10/50, Training Loss: 0.003007958678608702, Validation Loss: 0.0010946320471703075\n",
      "Epoch 20/50, Training Loss: 7.232422638026037e-05, Validation Loss: 0.00017815474348026328\n",
      "Epoch 30/50, Training Loss: 2.208930590086311e-05, Validation Loss: 0.00010136568198504392\n",
      "Epoch 40/50, Training Loss: 1.14996742794915e-05, Validation Loss: 8.080491443251958e-05\n"
     ]
    },
    {
     "name": "stderr",
     "output_type": "stream",
     "text": [
      "[I 2023-10-09 02:47:18,991] Trial 81 finished with value: 6.592806153093989e-05 and parameters: {'lr': 0.006170767628576648, 'dropout_prob': 0.03377115813672493, 'hidden_channels': 73, 'n_layers': 4, 'kernel_size': 7, 'stride': 2, 'padding': 4, 'pooling_type': 'max', 'use_batch_norm': True}. Best is trial 81 with value: 6.592806153093989e-05.\n"
     ]
    },
    {
     "name": "stdout",
     "output_type": "stream",
     "text": [
      "Epoch 50/50, Training Loss: 7.546748037157158e-06, Validation Loss: 6.592806153093989e-05\n",
      "Epoch 10/50, Training Loss: 0.003869263837032122, Validation Loss: 0.0033552787572261877\n",
      "Epoch 20/50, Training Loss: 5.129415490046085e-05, Validation Loss: 0.0007896599900050205\n",
      "Epoch 30/50, Training Loss: 1.3972622951996527e-05, Validation Loss: 0.0005402721974405722\n",
      "Epoch 40/50, Training Loss: 8.802023849341367e-06, Validation Loss: 0.0005693386293046387\n"
     ]
    },
    {
     "name": "stderr",
     "output_type": "stream",
     "text": [
      "[I 2023-10-09 02:47:23,913] Trial 82 finished with value: 0.0005544092189779803 and parameters: {'lr': 0.009122448330514234, 'dropout_prob': 0.030345543195997644, 'hidden_channels': 168, 'n_layers': 4, 'kernel_size': 7, 'stride': 2, 'padding': 4, 'pooling_type': 'max', 'use_batch_norm': True}. Best is trial 81 with value: 6.592806153093989e-05.\n"
     ]
    },
    {
     "name": "stdout",
     "output_type": "stream",
     "text": [
      "Epoch 50/50, Training Loss: 5.635704766859817e-06, Validation Loss: 0.0005544092189779803\n",
      "Epoch 10/50, Training Loss: 0.014187293012582813, Validation Loss: 0.01697416475508362\n",
      "Epoch 20/50, Training Loss: 0.0005422150779850199, Validation Loss: 0.003202867356776551\n",
      "Epoch 30/50, Training Loss: 4.410146641475876e-05, Validation Loss: 0.0009588581715433975\n",
      "Epoch 40/50, Training Loss: 2.5367492867189867e-05, Validation Loss: 0.0009906352024700027\n"
     ]
    },
    {
     "name": "stderr",
     "output_type": "stream",
     "text": [
      "[I 2023-10-09 02:47:28,269] Trial 83 finished with value: 0.0009041367286499735 and parameters: {'lr': 0.007003977986236003, 'dropout_prob': 0.04205734277609521, 'hidden_channels': 75, 'n_layers': 3, 'kernel_size': 6, 'stride': 2, 'padding': 3, 'pooling_type': 'max', 'use_batch_norm': True}. Best is trial 81 with value: 6.592806153093989e-05.\n"
     ]
    },
    {
     "name": "stdout",
     "output_type": "stream",
     "text": [
      "Epoch 50/50, Training Loss: 1.4272010332661011e-05, Validation Loss: 0.0009041367286499735\n",
      "Epoch 10/50, Training Loss: 0.003406343788810773, Validation Loss: 0.0019144976831739768\n",
      "Epoch 20/50, Training Loss: 5.4984503208288515e-05, Validation Loss: 0.001591656892287574\n",
      "Epoch 30/50, Training Loss: 2.650430715789298e-05, Validation Loss: 0.0018606561438900826\n",
      "Epoch 40/50, Training Loss: 1.6209730617333662e-05, Validation Loss: 0.0018880460077070893\n"
     ]
    },
    {
     "name": "stderr",
     "output_type": "stream",
     "text": [
      "[I 2023-10-09 02:47:33,382] Trial 84 finished with value: 0.001989477540291773 and parameters: {'lr': 0.004747328317415925, 'dropout_prob': 0.02320800846834874, 'hidden_channels': 90, 'n_layers': 4, 'kernel_size': 7, 'stride': 1, 'padding': 4, 'pooling_type': 'max', 'use_batch_norm': True}. Best is trial 81 with value: 6.592806153093989e-05.\n"
     ]
    },
    {
     "name": "stdout",
     "output_type": "stream",
     "text": [
      "Epoch 50/50, Training Loss: 1.0982836695205833e-05, Validation Loss: 0.001989477540291773\n",
      "Epoch 10/50, Training Loss: 0.016158877067937283, Validation Loss: 0.05914638563990593\n",
      "Epoch 20/50, Training Loss: 0.008546888569981093, Validation Loss: 0.0064867736655287445\n",
      "Epoch 30/50, Training Loss: 1.3376856678348759e-05, Validation Loss: 0.0006132135699772334\n",
      "Epoch 40/50, Training Loss: 7.61603310195369e-06, Validation Loss: 0.0005557737100616578\n"
     ]
    },
    {
     "name": "stderr",
     "output_type": "stream",
     "text": [
      "[I 2023-10-09 02:47:39,470] Trial 85 finished with value: 0.00046047967731510653 and parameters: {'lr': 0.009942562101581998, 'dropout_prob': 0.017131096891054316, 'hidden_channels': 63, 'n_layers': 6, 'kernel_size': 9, 'stride': 2, 'padding': 5, 'pooling_type': 'max', 'use_batch_norm': True}. Best is trial 81 with value: 6.592806153093989e-05.\n"
     ]
    },
    {
     "name": "stdout",
     "output_type": "stream",
     "text": [
      "Epoch 50/50, Training Loss: 4.911066795898478e-06, Validation Loss: 0.00046047967731510653\n",
      "Epoch 10/50, Training Loss: 0.003953282372094691, Validation Loss: 0.005467325798235834\n",
      "Epoch 20/50, Training Loss: 0.00015373858286693576, Validation Loss: 0.0018638449000718538\n",
      "Epoch 30/50, Training Loss: 5.0943527526214893e-05, Validation Loss: 0.0011710167955243378\n",
      "Epoch 40/50, Training Loss: 2.8362297086914623e-05, Validation Loss: 0.001055526679920149\n"
     ]
    },
    {
     "name": "stderr",
     "output_type": "stream",
     "text": [
      "[I 2023-10-09 02:47:43,726] Trial 86 finished with value: 0.000931777236473863 and parameters: {'lr': 0.00568539929582691, 'dropout_prob': 0.061185213667479865, 'hidden_channels': 54, 'n_layers': 3, 'kernel_size': 7, 'stride': 3, 'padding': 6, 'pooling_type': 'max', 'use_batch_norm': True}. Best is trial 81 with value: 6.592806153093989e-05.\n"
     ]
    },
    {
     "name": "stdout",
     "output_type": "stream",
     "text": [
      "Epoch 50/50, Training Loss: 2.0705007329979708e-05, Validation Loss: 0.000931777236473863\n",
      "Epoch 10/50, Training Loss: 0.0006857968123767932, Validation Loss: 0.0014884981828799937\n",
      "Epoch 20/50, Training Loss: 6.37489916357481e-05, Validation Loss: 0.0017012374773912597\n",
      "Epoch 30/50, Training Loss: 3.364771637848207e-05, Validation Loss: 0.0017966561235880363\n",
      "Epoch 40/50, Training Loss: 1.771263477934326e-05, Validation Loss: 0.0018034170666396676\n"
     ]
    },
    {
     "name": "stderr",
     "output_type": "stream",
     "text": [
      "[I 2023-10-09 02:47:48,590] Trial 87 finished with value: 0.0014982637821958633 and parameters: {'lr': 0.0036628643877326603, 'dropout_prob': 0.08291691316490066, 'hidden_channels': 148, 'n_layers': 4, 'kernel_size': 7, 'stride': 1, 'padding': 4, 'pooling_type': 'max', 'use_batch_norm': True}. Best is trial 81 with value: 6.592806153093989e-05.\n"
     ]
    },
    {
     "name": "stdout",
     "output_type": "stream",
     "text": [
      "Epoch 50/50, Training Loss: 1.2819895175653073e-05, Validation Loss: 0.0014982637821958633\n",
      "Epoch 10/50, Training Loss: 0.01076717565956642, Validation Loss: 0.06055576528888196\n",
      "Epoch 20/50, Training Loss: 0.0027601828749084234, Validation Loss: 0.0031859447408351116\n",
      "Epoch 30/50, Training Loss: 0.4018193673400674, Validation Loss: 0.06886627804487944\n",
      "Epoch 40/50, Training Loss: 0.006959438770536508, Validation Loss: 0.0007122509850887582\n"
     ]
    },
    {
     "name": "stderr",
     "output_type": "stream",
     "text": [
      "[I 2023-10-09 02:47:54,102] Trial 88 finished with value: 0.0014653217895101989 and parameters: {'lr': 0.008192303938268534, 'dropout_prob': 0.06461890783567213, 'hidden_channels': 101, 'n_layers': 5, 'kernel_size': 6, 'stride': 2, 'padding': 5, 'pooling_type': 'avg', 'use_batch_norm': True}. Best is trial 81 with value: 6.592806153093989e-05.\n"
     ]
    },
    {
     "name": "stdout",
     "output_type": "stream",
     "text": [
      "Epoch 50/50, Training Loss: 0.00013588835275868405, Validation Loss: 0.0014653217895101989\n",
      "Epoch 10/50, Training Loss: 0.005429711844044505, Validation Loss: 0.0022218743397388607\n",
      "Epoch 20/50, Training Loss: 8.247482526257954e-05, Validation Loss: 0.0011809995230578352\n",
      "Epoch 30/50, Training Loss: 3.942004332202487e-05, Validation Loss: 0.0010753619490060373\n",
      "Epoch 40/50, Training Loss: 2.2763238064271718e-05, Validation Loss: 0.0010555078288234654\n"
     ]
    },
    {
     "name": "stderr",
     "output_type": "stream",
     "text": [
      "[I 2023-10-09 02:47:58,274] Trial 89 finished with value: 0.001059983006598486 and parameters: {'lr': 0.0064709293439854584, 'dropout_prob': 0.04152735559157114, 'hidden_channels': 45, 'n_layers': 3, 'kernel_size': 9, 'stride': 2, 'padding': 3, 'pooling_type': 'max', 'use_batch_norm': True}. Best is trial 81 with value: 6.592806153093989e-05.\n"
     ]
    },
    {
     "name": "stdout",
     "output_type": "stream",
     "text": [
      "Epoch 50/50, Training Loss: 1.5269942878148868e-05, Validation Loss: 0.001059983006598486\n"
     ]
    },
    {
     "name": "stderr",
     "output_type": "stream",
     "text": [
      "[I 2023-10-09 02:47:59,140] Trial 90 finished with value: 1.0 and parameters: {'lr': 0.0026177086319794838, 'dropout_prob': 0.03294363121011676, 'hidden_channels': 127, 'n_layers': 4, 'kernel_size': 8, 'stride': 3, 'padding': 4, 'pooling_type': 'avg', 'use_batch_norm': True}. Best is trial 81 with value: 6.592806153093989e-05.\n"
     ]
    },
    {
     "name": "stdout",
     "output_type": "stream",
     "text": [
      "Trial failed with error: Given input size: (127x1x1). Calculated output size: (127x1x0). Output size is too small\n",
      "Epoch 10/50, Training Loss: 0.021748142738942988, Validation Loss: 0.02022590138949454\n",
      "Epoch 20/50, Training Loss: 6.72643436701037e-05, Validation Loss: 0.0007757064659017487\n",
      "Epoch 30/50, Training Loss: 2.3348023830749298e-05, Validation Loss: 0.000998483803414274\n",
      "Epoch 40/50, Training Loss: 1.404340966359996e-05, Validation Loss: 0.0008686773180670571\n"
     ]
    },
    {
     "name": "stderr",
     "output_type": "stream",
     "text": [
      "[I 2023-10-09 02:48:03,962] Trial 91 finished with value: 0.0008744998240217683 and parameters: {'lr': 0.006010488190349897, 'dropout_prob': 0.028777585875669552, 'hidden_channels': 68, 'n_layers': 4, 'kernel_size': 7, 'stride': 2, 'padding': 4, 'pooling_type': 'max', 'use_batch_norm': True}. Best is trial 81 with value: 6.592806153093989e-05.\n"
     ]
    },
    {
     "name": "stdout",
     "output_type": "stream",
     "text": [
      "Epoch 50/50, Training Loss: 9.533617415513618e-06, Validation Loss: 0.0008744998240217683\n",
      "Epoch 10/50, Training Loss: 0.0033102904408224276, Validation Loss: 0.002871429329388775\n",
      "Epoch 20/50, Training Loss: 3.5273894582132925e-05, Validation Loss: 0.0008821579649520572\n",
      "Epoch 30/50, Training Loss: 1.6615710819678498e-05, Validation Loss: 0.0007396479909402842\n",
      "Epoch 40/50, Training Loss: 9.914981660585909e-06, Validation Loss: 0.0007327198222810694\n"
     ]
    },
    {
     "name": "stderr",
     "output_type": "stream",
     "text": [
      "[I 2023-10-09 02:48:08,950] Trial 92 finished with value: 0.000636366624121365 and parameters: {'lr': 0.007715284802325738, 'dropout_prob': 0.0054424482980145045, 'hidden_channels': 73, 'n_layers': 4, 'kernel_size': 7, 'stride': 2, 'padding': 4, 'pooling_type': 'max', 'use_batch_norm': True}. Best is trial 81 with value: 6.592806153093989e-05.\n"
     ]
    },
    {
     "name": "stdout",
     "output_type": "stream",
     "text": [
      "Epoch 50/50, Training Loss: 6.63171589110334e-06, Validation Loss: 0.000636366624121365\n",
      "Epoch 10/50, Training Loss: 0.0017012847561090894, Validation Loss: 0.00584903618437238\n",
      "Epoch 20/50, Training Loss: 0.00021518527046282543, Validation Loss: 0.0006867978408990894\n",
      "Epoch 30/50, Training Loss: 7.90976322377901e-05, Validation Loss: 0.00037275819340720773\n",
      "Epoch 40/50, Training Loss: 4.7903356573897327e-05, Validation Loss: 0.00027522816617420176\n"
     ]
    },
    {
     "name": "stderr",
     "output_type": "stream",
     "text": [
      "[I 2023-10-09 02:48:13,323] Trial 93 finished with value: 0.0002429439746265416 and parameters: {'lr': 0.005664208550570174, 'dropout_prob': 0.011526850770734544, 'hidden_channels': 74, 'n_layers': 3, 'kernel_size': 7, 'stride': 2, 'padding': 5, 'pooling_type': 'max', 'use_batch_norm': True}. Best is trial 81 with value: 6.592806153093989e-05.\n"
     ]
    },
    {
     "name": "stdout",
     "output_type": "stream",
     "text": [
      "Epoch 50/50, Training Loss: 2.2501453941004e-05, Validation Loss: 0.0002429439746265416\n",
      "Epoch 10/50, Training Loss: 0.002234487903479021, Validation Loss: 0.004200018251140136\n",
      "Epoch 20/50, Training Loss: 7.661510073830868e-05, Validation Loss: 0.0006864832148494315\n",
      "Epoch 30/50, Training Loss: 3.814154467818298e-05, Validation Loss: 0.0004892907709290739\n",
      "Epoch 40/50, Training Loss: 2.4513486920341165e-05, Validation Loss: 0.00031411810141435126\n"
     ]
    },
    {
     "name": "stderr",
     "output_type": "stream",
     "text": [
      "[I 2023-10-09 02:48:17,796] Trial 94 finished with value: 0.00042240893526468426 and parameters: {'lr': 0.00866402494098104, 'dropout_prob': 0.012020878768223999, 'hidden_channels': 79, 'n_layers': 3, 'kernel_size': 6, 'stride': 2, 'padding': 5, 'pooling_type': 'max', 'use_batch_norm': True}. Best is trial 81 with value: 6.592806153093989e-05.\n"
     ]
    },
    {
     "name": "stdout",
     "output_type": "stream",
     "text": [
      "Epoch 50/50, Training Loss: 1.4390590763468936e-05, Validation Loss: 0.00042240893526468426\n",
      "Epoch 10/50, Training Loss: 0.003795019389144727, Validation Loss: 0.00735613152210135\n",
      "Epoch 20/50, Training Loss: 9.07926896616118e-05, Validation Loss: 0.0005321147491486045\n",
      "Epoch 30/50, Training Loss: 4.0141838155705045e-05, Validation Loss: 0.0005569278373513953\n",
      "Epoch 40/50, Training Loss: 2.4629241693219228e-05, Validation Loss: 0.00039293208146773395\n"
     ]
    },
    {
     "name": "stderr",
     "output_type": "stream",
     "text": [
      "[I 2023-10-09 02:48:22,010] Trial 95 finished with value: 0.00033038882838809513 and parameters: {'lr': 0.00488434863444719, 'dropout_prob': 0.04715846081070375, 'hidden_channels': 144, 'n_layers': 3, 'kernel_size': 7, 'stride': 2, 'padding': 5, 'pooling_type': 'max', 'use_batch_norm': True}. Best is trial 81 with value: 6.592806153093989e-05.\n"
     ]
    },
    {
     "name": "stdout",
     "output_type": "stream",
     "text": [
      "Epoch 50/50, Training Loss: 1.628571000367174e-05, Validation Loss: 0.00033038882838809513\n",
      "Epoch 10/50, Training Loss: 0.004192055501334835, Validation Loss: 0.0019175006018485874\n",
      "Epoch 20/50, Training Loss: 0.00042664586248974956, Validation Loss: 0.001940094825840788\n",
      "Epoch 30/50, Training Loss: 0.014390424984867423, Validation Loss: 0.003933463885914534\n",
      "Epoch 40/50, Training Loss: 5.38441328785666e-05, Validation Loss: 0.0019048109925279277\n"
     ]
    },
    {
     "name": "stderr",
     "output_type": "stream",
     "text": [
      "[I 2023-10-09 02:48:26,282] Trial 96 finished with value: 0.001798378405510448 and parameters: {'lr': 0.004931581359444872, 'dropout_prob': 0.049459678005160365, 'hidden_channels': 142, 'n_layers': 3, 'kernel_size': 8, 'stride': 2, 'padding': 6, 'pooling_type': 'max', 'use_batch_norm': True}. Best is trial 81 with value: 6.592806153093989e-05.\n"
     ]
    },
    {
     "name": "stdout",
     "output_type": "stream",
     "text": [
      "Epoch 50/50, Training Loss: 3.1416916243642845e-05, Validation Loss: 0.001798378405510448\n",
      "Epoch 10/50, Training Loss: 0.004860235094383825, Validation Loss: 0.00892932788701728\n",
      "Epoch 20/50, Training Loss: 0.006960782706300961, Validation Loss: 0.001891354924737243\n",
      "Epoch 30/50, Training Loss: 6.669863205388538e-05, Validation Loss: 0.0007194261370386812\n",
      "Epoch 40/50, Training Loss: 4.182863324331265e-05, Validation Loss: 0.0008292779257317306\n"
     ]
    },
    {
     "name": "stderr",
     "output_type": "stream",
     "text": [
      "[I 2023-10-09 02:48:30,413] Trial 97 finished with value: 0.0005970457841613097 and parameters: {'lr': 0.004018566848203705, 'dropout_prob': 0.0727557420386811, 'hidden_channels': 160, 'n_layers': 3, 'kernel_size': 7, 'stride': 1, 'padding': 5, 'pooling_type': 'avg', 'use_batch_norm': True}. Best is trial 81 with value: 6.592806153093989e-05.\n"
     ]
    },
    {
     "name": "stdout",
     "output_type": "stream",
     "text": [
      "Epoch 50/50, Training Loss: 2.606295021223559e-05, Validation Loss: 0.0005970457841613097\n",
      "Epoch 10/50, Training Loss: 0.005949929234702722, Validation Loss: 0.007754370337352157\n",
      "Epoch 20/50, Training Loss: 0.0006012226681377797, Validation Loss: 0.0028713717401842587\n",
      "Epoch 30/50, Training Loss: 0.00023469786526675307, Validation Loss: 0.0014927695447113365\n",
      "Epoch 40/50, Training Loss: 9.4792637298724e-05, Validation Loss: 0.0013087699026073096\n"
     ]
    },
    {
     "name": "stderr",
     "output_type": "stream",
     "text": [
      "[I 2023-10-09 02:48:34,169] Trial 98 finished with value: 0.0014532084014717839 and parameters: {'lr': 0.006801335123023432, 'dropout_prob': 0.05814389202094134, 'hidden_channels': 184, 'n_layers': 2, 'kernel_size': 6, 'stride': 3, 'padding': 3, 'pooling_type': 'max', 'use_batch_norm': True}. Best is trial 81 with value: 6.592806153093989e-05.\n"
     ]
    },
    {
     "name": "stdout",
     "output_type": "stream",
     "text": [
      "Epoch 50/50, Training Loss: 5.856736163423193e-05, Validation Loss: 0.0014532084014717839\n",
      "Epoch 10/50, Training Loss: 0.005847896709383349, Validation Loss: 0.017683283789665438\n",
      "Epoch 20/50, Training Loss: 0.0005559271621677908, Validation Loss: 0.004284071970687364\n",
      "Epoch 30/50, Training Loss: 7.393779787889798e-05, Validation Loss: 0.0006425645951821934\n",
      "Epoch 40/50, Training Loss: 3.6342027499358664e-05, Validation Loss: 0.000499819445394678\n"
     ]
    },
    {
     "name": "stderr",
     "output_type": "stream",
     "text": [
      "[I 2023-10-09 02:48:38,633] Trial 99 finished with value: 0.00043938882072325214 and parameters: {'lr': 0.003059283758420686, 'dropout_prob': 0.010175605718229556, 'hidden_channels': 233, 'n_layers': 3, 'kernel_size': 7, 'stride': 2, 'padding': 2, 'pooling_type': 'max', 'use_batch_norm': True}. Best is trial 81 with value: 6.592806153093989e-05.\n"
     ]
    },
    {
     "name": "stdout",
     "output_type": "stream",
     "text": [
      "Epoch 50/50, Training Loss: 2.3368625420516764e-05, Validation Loss: 0.00043938882072325214\n"
     ]
    }
   ],
   "source": [
    "# Create an Optuna study with SQLite storage and TPE pruner\n",
    "study = optuna.create_study(\n",
    "    study_name=\"Case#1: Force Inner\",\n",
    "    direction=\"minimize\",  # Minimize final validation loss\n",
    "    storage=\"sqlite:///../../database_sqllite//db.sqlite3\",\n",
    "    pruner=optuna.pruners.MedianPruner(n_warmup_steps=5),  \n",
    ")\n",
    "\n",
    "# Define the number of trials (hyperparameter combinations) you want to search\n",
    "num_trials = 100  \n",
    "\n",
    "# Perform hyperparameter optimization\n",
    "study.optimize(objective, n_trials=num_trials, n_jobs=1)\n"
   ]
  },
  {
   "cell_type": "code",
   "execution_count": 25,
   "metadata": {},
   "outputs": [
    {
     "name": "stdout",
     "output_type": "stream",
     "text": [
      "Best hyperparameters:\n",
      "{'lr': 0.006170767628576648, 'dropout_prob': 0.03377115813672493, 'hidden_channels': 73, 'n_layers': 4, 'kernel_size': 7, 'stride': 2, 'padding': 4, 'pooling_type': 'max', 'use_batch_norm': True}\n",
      "Best final validation loss:\n",
      "6.592806153093989e-05\n"
     ]
    }
   ],
   "source": [
    "# Print the best hyperparameters and their associated final validation loss\n",
    "print(\"Best hyperparameters:\")\n",
    "print(study.best_params)\n",
    "print(\"Best final validation loss:\")\n",
    "print(study.best_value)"
   ]
  },
  {
   "cell_type": "code",
   "execution_count": 32,
   "metadata": {},
   "outputs": [],
   "source": [
    "# Specify the path where you want to save the JSON file\n",
    "config_file_path = \"../best_configs/force_inner_best_configs.json\"\n",
    "\n",
    "# Load the saved configuration\n",
    "with open(config_file_path, \"r\") as config_file:\n",
    "    saved_configs = json.load(config_file)\n",
    "\n",
    "# Compare the new best value with the saved one\n",
    "if study.best_value < saved_configs[\"best_value\"]:\n",
    "    print(\"New best value found. Replacing saved configuration.\")\n",
    "    saved_configs[\"best_params\"] = study.best_params\n",
    "    saved_configs[\"best_value\"] = study.best_value\n",
    "\n",
    "    # Update the saved configuration file\n",
    "    with open(config_file_path, \"w\") as config_file:\n",
    "        json.dump(saved_configs, config_file)"
   ]
  },
  {
   "cell_type": "code",
   "execution_count": 31,
   "metadata": {},
   "outputs": [],
   "source": [
    "# Save the best hyperparameters and validation loss to a JSON file\n",
    "best_configs = {\n",
    "    \"best_params\": study.best_params,\n",
    "    \"best_value\": study.best_value,\n",
    "}\n",
    "\n",
    "with open(config_file_path, \"w\") as config_file:\n",
    "    json.dump(best_configs, config_file)"
   ]
  },
  {
   "cell_type": "markdown",
   "metadata": {},
   "source": [
    "# Thank You"
   ]
  }
 ],
 "metadata": {
  "kernelspec": {
   "display_name": ".aifaps",
   "language": "python",
   "name": "python3"
  },
  "language_info": {
   "codemirror_mode": {
    "name": "ipython",
    "version": 3
   },
   "file_extension": ".py",
   "mimetype": "text/x-python",
   "name": "python",
   "nbconvert_exporter": "python",
   "pygments_lexer": "ipython3",
   "version": "3.11.4"
  },
  "orig_nbformat": 4
 },
 "nbformat": 4,
 "nbformat_minor": 2
}
