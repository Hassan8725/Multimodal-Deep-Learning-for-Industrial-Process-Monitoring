{
 "cells": [
  {
   "cell_type": "code",
   "execution_count": 1,
   "metadata": {},
   "outputs": [],
   "source": [
    "#---import libraries relating to data manipulation, visualization---------------------------------------------------\n",
    "import pandas as pd\n",
    "%matplotlib inline\n",
    "import numpy as np\n",
    "import json\n",
    "\n",
    "\n",
    "#-------import libraries to evaluate the deep learning model---------------------------------------------------------------\n",
    "from sklearn.model_selection import train_test_split\n",
    "from sklearn.preprocessing import MultiLabelBinarizer\n",
    "\n",
    "\n",
    "import warnings\n",
    "warnings.filterwarnings('ignore')\n",
    "\n",
    "#------ import Deep Learning Libraries-------#\n",
    "\n",
    "import torch\n",
    "import torch.nn as nn\n",
    "import torch.optim as optim\n",
    "\n",
    "import optuna\n",
    "from optuna.trial import Trial\n",
    "\n",
    "import pickle\n",
    "\n",
    "\n",
    "pd.set_option('display.max_columns', None)\n",
    "pd.set_option(\"max_colwidth\", None)\n",
    "\n",
    "import sys\n",
    "sys.path.append('../../../src')  # Add the 'src' directory to the path\n",
    "\n",
    "#### Import Data Loading and Processing Functions\n",
    "from multimodal.helper_functions import   reproducible_comp\n",
    "from multimodal.model_architecture import Generic1DCNN\n",
    "reproducible_comp()"
   ]
  },
  {
   "cell_type": "code",
   "execution_count": 2,
   "metadata": {},
   "outputs": [],
   "source": [
    "file_path = \"../../../data/processed_data/press_in_df.pkl\"\n",
    "with open(file_path, 'rb') as picklefile:\n",
    "    data = pickle.load(picklefile)"
   ]
  },
  {
   "cell_type": "code",
   "execution_count": 3,
   "metadata": {},
   "outputs": [
    {
     "name": "stdout",
     "output_type": "stream",
     "text": [
      "Features Shape:  (360, 1)\n",
      "Labels Shape:  (360,)\n"
     ]
    }
   ],
   "source": [
    "labels_raw = data.iloc[:,0].copy()\n",
    "features=data.iloc[:,1].values.reshape(-1,1).copy()\n",
    "print(\"Features Shape: \", features.shape)\n",
    "print(\"Labels Shape: \", labels_raw.shape)"
   ]
  },
  {
   "cell_type": "code",
   "execution_count": 4,
   "metadata": {},
   "outputs": [],
   "source": [
    "# Create a dictionary for the mapping\n",
    "mapping = {\n",
    "    'W': 'Worn',\n",
    "    'WP': 'Worn-Position',\n",
    "    'R': 'Referenz',\n",
    "    'D': 'Dünn',\n",
    "    'S': 'Slug',\n",
    "    'SW': 'Slug-Worn',\n",
    "    'SD': 'Slug-Dünn',\n",
    "    'WD': 'Worn-Dünn',\n",
    "    'SP': 'Slug-Position',\n",
    "    'SDP': 'Slug-Dünn-Position',\n",
    "    'WDP': 'Worn-Dünn-Position',\n",
    "    'SWP': 'Slug-Worn-Position',\n",
    "    'RV': 'Referenz-Offset',\n",
    "    'WV': 'Worn-Offset',\n",
    "    'SV': 'Slug-Offset',\n",
    "    'SDV': 'Slug-Dünn-Offset',\n",
    "    'WDV': 'Worn-Dünn-Offset',\n",
    "    'SWV': 'Slug-Worn-Offset'\n",
    "}\n",
    "\n",
    "\n",
    "labels_six = labels_raw.map(mapping)"
   ]
  },
  {
   "cell_type": "code",
   "execution_count": 5,
   "metadata": {},
   "outputs": [],
   "source": [
    "labels_four_mlb = labels_six.str.split('-')\n",
    "# Use MultiLabelBinarizer to create binary columns for multilabel classification\n",
    "mlb = MultiLabelBinarizer()\n",
    "labels_four_mlb = mlb.fit_transform(labels_four_mlb)\n",
    "category_names = list(mlb.classes_)"
   ]
  },
  {
   "cell_type": "code",
   "execution_count": 6,
   "metadata": {},
   "outputs": [
    {
     "name": "stdout",
     "output_type": "stream",
     "text": [
      "Features Shape:  (360, 1)\n",
      "Labels Shape:  (360, 6)\n"
     ]
    }
   ],
   "source": [
    "labels = labels_four_mlb.copy()\n",
    "features = features.copy()\n",
    "print(\"Features Shape: \", features.shape)\n",
    "print(\"Labels Shape: \", labels.shape)"
   ]
  },
  {
   "cell_type": "code",
   "execution_count": 7,
   "metadata": {},
   "outputs": [
    {
     "name": "stdout",
     "output_type": "stream",
     "text": [
      "Updated Features Shape:  (360, 350)\n"
     ]
    }
   ],
   "source": [
    "max_length = 350\n",
    "feat = np.array([np.pad(np.array(record), (0, max_length - len(record)), mode='constant', constant_values=(0)) for row in features for record in row])\n",
    "\n",
    "\n",
    "print(\"Updated Features Shape: \", feat.shape)"
   ]
  },
  {
   "cell_type": "code",
   "execution_count": 8,
   "metadata": {},
   "outputs": [],
   "source": [
    "X_train, X_test, y_train, y_test = train_test_split(feat, labels, test_size=0.1, \n",
    "                                                    random_state=2, shuffle=True, stratify=labels)"
   ]
  },
  {
   "cell_type": "code",
   "execution_count": 9,
   "metadata": {},
   "outputs": [
    {
     "name": "stdout",
     "output_type": "stream",
     "text": [
      "(324, 1, 350)\n",
      "(324, 6)\n",
      "(36, 1, 350)\n",
      "(36, 6)\n"
     ]
    }
   ],
   "source": [
    "X_train = X_train.reshape(-1, 1, feat.shape[1])\n",
    "X_test = X_test.reshape(-1, 1, feat.shape[1])\n",
    "\n",
    "print(X_train.shape)\n",
    "print(y_train.shape)\n",
    "print(X_test.shape)\n",
    "print(y_test.shape)"
   ]
  },
  {
   "cell_type": "code",
   "execution_count": 10,
   "metadata": {},
   "outputs": [],
   "source": [
    "from torch.utils.data import DataLoader, TensorDataset\n",
    "\n",
    "# Convert your data to PyTorch tensors\n",
    "x_train = torch.tensor(X_train, dtype=torch.float32)\n",
    "y_train = torch.tensor(y_train, dtype=torch.long)\n",
    "\n",
    "input_channels = 1\n",
    "num_classes = 6\n",
    "\n",
    "device = torch.device(\"cuda\" if torch.cuda.is_available() else \"cpu\")\n",
    "\n",
    "# Define the objective function for hyperparameter optimization\n",
    "def objective(trial: Trial):\n",
    "    try:\n",
    "        # Define hyperparameters to search for\n",
    "        lr = trial.suggest_loguniform(\"lr\", 1e-5, 1e-2)  # Suggest a learning rate in log scale\n",
    "        dropout_prob = trial.suggest_float(\"dropout_prob\", 0.0, 0.5)\n",
    "        hidden_channels = trial.suggest_int(\"hidden_channels\", 16, 256)\n",
    "        n_layers = trial.suggest_int(\"n_layers\", 1, 7)\n",
    "        kernel_size = trial.suggest_int(\"kernel_size\", 3, 9)\n",
    "        stride = trial.suggest_int(\"stride\", 1, 7)\n",
    "        padding = trial.suggest_int(\"padding\", 1, 10)\n",
    "        pooling_type = trial.suggest_categorical(\"pooling_type\", [\"max\", \"avg\"])  \n",
    "        use_batch_norm = trial.suggest_categorical(\"use_batch_norm\", [True, False]) \n",
    "\n",
    "\n",
    "        # Split the data into training and validation sets\n",
    "        x_train_split, x_valid_split, y_train_split, y_valid_split = train_test_split(\n",
    "            x_train, y_train, test_size=0.2, random_state=42\n",
    "        )\n",
    "\n",
    "        train_dataset = TensorDataset(x_train_split, y_train_split)\n",
    "        valid_dataset = TensorDataset(x_valid_split, y_valid_split)\n",
    "\n",
    "        train_loader = DataLoader(train_dataset, batch_size=64, shuffle=True)\n",
    "        valid_loader = DataLoader(valid_dataset, batch_size=64, shuffle=False)\n",
    "\n",
    "        # Create the model with the suggested hyperparameters\n",
    "        model = Generic1DCNN(input_channels, num_classes, n_layers, kernel_size, stride, padding,\n",
    "                            hidden_channels, dropout_prob, pooling_type, use_batch_norm).to(device)\n",
    "\n",
    "        criterion = nn.BCEWithLogitsLoss()\n",
    "        optimizer = optim.Adam(model.parameters(), lr=lr)\n",
    "\n",
    "        num_epochs = 50\n",
    "\n",
    "        model.train()\n",
    "        for epoch in range(num_epochs):\n",
    "            # Training loop\n",
    "            running_loss = 0.0\n",
    "            for inputs, labels in train_loader:\n",
    "                inputs, labels = inputs.to(device), labels.to(device)\n",
    "\n",
    "                optimizer.zero_grad()\n",
    "\n",
    "                outputs = model(inputs)\n",
    "                loss = criterion(outputs, labels.float())\n",
    "                loss.backward()\n",
    "                optimizer.step()\n",
    "\n",
    "                running_loss += loss.item()\n",
    "\n",
    "            train_loss = running_loss / len(train_loader)\n",
    "\n",
    "            # Validation loss calculation (similar to training loop)\n",
    "            model.eval()\n",
    "            valid_loss = 0.0\n",
    "            with torch.no_grad():\n",
    "                for inputs_valid, labels_valid in valid_loader:\n",
    "                    inputs_valid, labels_valid = inputs_valid.to(device), labels_valid.to(device)\n",
    "                    outputs_valid = model(inputs_valid)\n",
    "                    loss_valid = criterion(outputs_valid, labels_valid.float())\n",
    "                    valid_loss += loss_valid.item()\n",
    "\n",
    "            valid_loss = valid_loss / len(valid_loader)\n",
    "            if (epoch + 1) % 10 == 0:\n",
    "                print(f\"Epoch {epoch + 1}/{num_epochs}, Training Loss: {train_loss}, Validation Loss: {valid_loss}\")\n",
    "\n",
    "        # Calculate and return the final validation loss\n",
    "        return valid_loss\n",
    "    \n",
    "    except Exception as e:\n",
    "        # Print the error for debugging purposes (optional)\n",
    "        print(f\"Trial failed with error: {e}\")\n",
    "\n",
    "        # Return a high validation loss to indicate failure\n",
    "        return 1.0  # High validation loss\n",
    "    \n"
   ]
  },
  {
   "cell_type": "code",
   "execution_count": 11,
   "metadata": {},
   "outputs": [
    {
     "name": "stderr",
     "output_type": "stream",
     "text": [
      "[I 2024-06-04 15:11:41,917] A new study created in RDB with name: Case#11: Force Press In: Updated Clasees\n"
     ]
    },
    {
     "name": "stdout",
     "output_type": "stream",
     "text": [
      "Epoch 10/50, Training Loss: 0.6773626327514648, Validation Loss: 0.6674076318740845\n",
      "Epoch 20/50, Training Loss: 0.6667564868927002, Validation Loss: 0.6545446515083313\n",
      "Epoch 30/50, Training Loss: 0.656006121635437, Validation Loss: 0.6429637372493744\n",
      "Epoch 40/50, Training Loss: 0.6600508689880371, Validation Loss: 0.6327367722988129\n"
     ]
    },
    {
     "name": "stderr",
     "output_type": "stream",
     "text": [
      "[I 2024-06-04 15:11:43,891] Trial 0 finished with value: 0.623038113117218 and parameters: {'lr': 1.0613856699497563e-05, 'dropout_prob': 0.014830572678247889, 'hidden_channels': 112, 'n_layers': 2, 'kernel_size': 5, 'stride': 4, 'padding': 7, 'pooling_type': 'avg', 'use_batch_norm': False}. Best is trial 0 with value: 0.623038113117218.\n"
     ]
    },
    {
     "name": "stdout",
     "output_type": "stream",
     "text": [
      "Epoch 50/50, Training Loss: 0.6503868222236633, Validation Loss: 0.623038113117218\n",
      "Epoch 10/50, Training Loss: 0.5316418766975403, Validation Loss: 0.46667447686195374\n",
      "Epoch 20/50, Training Loss: 0.5034912288188934, Validation Loss: 0.4493418037891388\n",
      "Epoch 30/50, Training Loss: 0.4874648451805115, Validation Loss: 0.4612681567668915\n",
      "Epoch 40/50, Training Loss: 0.43948936462402344, Validation Loss: 0.49370817840099335\n"
     ]
    },
    {
     "name": "stderr",
     "output_type": "stream",
     "text": [
      "[I 2024-06-04 15:12:03,443] Trial 1 finished with value: 0.35036854445934296 and parameters: {'lr': 0.002509329138907062, 'dropout_prob': 0.269760735015655, 'hidden_channels': 134, 'n_layers': 5, 'kernel_size': 3, 'stride': 1, 'padding': 8, 'pooling_type': 'avg', 'use_batch_norm': True}. Best is trial 1 with value: 0.35036854445934296.\n"
     ]
    },
    {
     "name": "stdout",
     "output_type": "stream",
     "text": [
      "Epoch 50/50, Training Loss: 0.3299922406673431, Validation Loss: 0.35036854445934296\n"
     ]
    },
    {
     "name": "stderr",
     "output_type": "stream",
     "text": [
      "[I 2024-06-04 15:12:03,841] Trial 2 finished with value: 1.0 and parameters: {'lr': 0.0035644326588550853, 'dropout_prob': 0.2398297825863347, 'hidden_channels': 53, 'n_layers': 5, 'kernel_size': 9, 'stride': 4, 'padding': 1, 'pooling_type': 'max', 'use_batch_norm': True}. Best is trial 1 with value: 0.35036854445934296.\n"
     ]
    },
    {
     "name": "stdout",
     "output_type": "stream",
     "text": [
      "Trial failed with error: Calculated padded input size per channel: (7). Kernel size: (9). Kernel size can't be greater than actual input size\n",
      "Epoch 10/50, Training Loss: 0.7096312761306762, Validation Loss: 0.7081106007099152\n",
      "Epoch 20/50, Training Loss: 0.7031799674034118, Validation Loss: 0.695224791765213\n",
      "Epoch 30/50, Training Loss: 0.6902996301651001, Validation Loss: 0.6827818751335144\n",
      "Epoch 40/50, Training Loss: 0.6870494723320008, Validation Loss: 0.670760840177536\n"
     ]
    },
    {
     "name": "stderr",
     "output_type": "stream",
     "text": [
      "[I 2024-06-04 15:12:05,009] Trial 3 finished with value: 0.6599672436714172 and parameters: {'lr': 3.3228133133317976e-05, 'dropout_prob': 0.24519297515391358, 'hidden_channels': 106, 'n_layers': 1, 'kernel_size': 7, 'stride': 5, 'padding': 3, 'pooling_type': 'max', 'use_batch_norm': True}. Best is trial 1 with value: 0.35036854445934296.\n"
     ]
    },
    {
     "name": "stdout",
     "output_type": "stream",
     "text": [
      "Epoch 50/50, Training Loss: 0.6709713459014892, Validation Loss: 0.6599672436714172\n",
      "Epoch 10/50, Training Loss: 0.6083115100860595, Validation Loss: 0.5118137896060944\n",
      "Epoch 20/50, Training Loss: 0.5053340375423432, Validation Loss: 0.4497721344232559\n",
      "Epoch 30/50, Training Loss: 0.4762642741203308, Validation Loss: 0.47865526378154755\n",
      "Epoch 40/50, Training Loss: 0.4374759912490845, Validation Loss: 0.3677389770746231\n"
     ]
    },
    {
     "name": "stderr",
     "output_type": "stream",
     "text": [
      "[I 2024-06-04 15:12:08,526] Trial 4 finished with value: 0.39700330793857574 and parameters: {'lr': 0.0015261445854173657, 'dropout_prob': 0.3368082095633323, 'hidden_channels': 205, 'n_layers': 2, 'kernel_size': 7, 'stride': 4, 'padding': 1, 'pooling_type': 'avg', 'use_batch_norm': False}. Best is trial 1 with value: 0.35036854445934296.\n"
     ]
    },
    {
     "name": "stdout",
     "output_type": "stream",
     "text": [
      "Epoch 50/50, Training Loss: 0.42792308926582334, Validation Loss: 0.39700330793857574\n",
      "Epoch 10/50, Training Loss: 0.4915254294872284, Validation Loss: 0.3740930110216141\n",
      "Epoch 20/50, Training Loss: 0.41536625027656554, Validation Loss: 0.32146938145160675\n",
      "Epoch 30/50, Training Loss: 0.3050513505935669, Validation Loss: 0.2202167883515358\n",
      "Epoch 40/50, Training Loss: 0.39781237840652467, Validation Loss: 0.2958463579416275\n"
     ]
    },
    {
     "name": "stderr",
     "output_type": "stream",
     "text": [
      "[I 2024-06-04 15:12:26,126] Trial 5 finished with value: 0.1877165213227272 and parameters: {'lr': 0.0028976500934102113, 'dropout_prob': 0.4904859792284349, 'hidden_channels': 245, 'n_layers': 4, 'kernel_size': 9, 'stride': 2, 'padding': 6, 'pooling_type': 'max', 'use_batch_norm': False}. Best is trial 5 with value: 0.1877165213227272.\n"
     ]
    },
    {
     "name": "stdout",
     "output_type": "stream",
     "text": [
      "Epoch 50/50, Training Loss: 0.2802362322807312, Validation Loss: 0.1877165213227272\n",
      "Epoch 10/50, Training Loss: 0.6025328516960144, Validation Loss: 0.5290788114070892\n",
      "Epoch 20/50, Training Loss: 0.6210312366485595, Validation Loss: 0.539233922958374\n",
      "Epoch 30/50, Training Loss: 0.5947161436080932, Validation Loss: 0.5183377414941788\n",
      "Epoch 40/50, Training Loss: 0.5900291204452515, Validation Loss: 0.5378554463386536\n"
     ]
    },
    {
     "name": "stderr",
     "output_type": "stream",
     "text": [
      "[I 2024-06-04 15:12:27,998] Trial 6 finished with value: 0.5238137692213058 and parameters: {'lr': 0.0024065656680526274, 'dropout_prob': 0.4715036433775236, 'hidden_channels': 53, 'n_layers': 4, 'kernel_size': 3, 'stride': 7, 'padding': 6, 'pooling_type': 'avg', 'use_batch_norm': True}. Best is trial 5 with value: 0.1877165213227272.\n"
     ]
    },
    {
     "name": "stdout",
     "output_type": "stream",
     "text": [
      "Epoch 50/50, Training Loss: 0.5946983337402344, Validation Loss: 0.5238137692213058\n",
      "Epoch 10/50, Training Loss: 0.5698141932487488, Validation Loss: 0.4889637678861618\n",
      "Epoch 20/50, Training Loss: 0.5262903928756714, Validation Loss: 0.44020120799541473\n",
      "Epoch 30/50, Training Loss: 0.4480904102325439, Validation Loss: 0.37569886445999146\n",
      "Epoch 40/50, Training Loss: 0.449685138463974, Validation Loss: 0.38563692569732666\n"
     ]
    },
    {
     "name": "stderr",
     "output_type": "stream",
     "text": [
      "[I 2024-06-04 15:12:40,128] Trial 7 finished with value: 0.29268085956573486 and parameters: {'lr': 0.00018753972510943015, 'dropout_prob': 0.3415594360387593, 'hidden_channels': 223, 'n_layers': 3, 'kernel_size': 6, 'stride': 3, 'padding': 7, 'pooling_type': 'max', 'use_batch_norm': True}. Best is trial 5 with value: 0.1877165213227272.\n",
      "[I 2024-06-04 15:12:40,202] Trial 8 finished with value: 1.0 and parameters: {'lr': 0.007190243117709301, 'dropout_prob': 0.20197537775389646, 'hidden_channels': 123, 'n_layers': 6, 'kernel_size': 5, 'stride': 5, 'padding': 2, 'pooling_type': 'max', 'use_batch_norm': False}. Best is trial 5 with value: 0.1877165213227272.\n"
     ]
    },
    {
     "name": "stdout",
     "output_type": "stream",
     "text": [
      "Epoch 50/50, Training Loss: 0.4007629334926605, Validation Loss: 0.29268085956573486\n",
      "Trial failed with error: Given input size: (123x1x1). Calculated output size: (123x1x0). Output size is too small\n",
      "Epoch 10/50, Training Loss: 0.690990686416626, Validation Loss: 0.6970764100551605\n",
      "Epoch 20/50, Training Loss: 0.6898846507072449, Validation Loss: 0.692634254693985\n",
      "Epoch 30/50, Training Loss: 0.6847766399383545, Validation Loss: 0.6874765157699585\n",
      "Epoch 40/50, Training Loss: 0.6820770502090454, Validation Loss: 0.6802271604537964\n"
     ]
    },
    {
     "name": "stderr",
     "output_type": "stream",
     "text": [
      "[I 2024-06-04 15:12:56,745] Trial 9 finished with value: 0.6666525304317474 and parameters: {'lr': 1.599722402867555e-05, 'dropout_prob': 0.35546978760456577, 'hidden_channels': 232, 'n_layers': 5, 'kernel_size': 8, 'stride': 3, 'padding': 10, 'pooling_type': 'max', 'use_batch_norm': True}. Best is trial 5 with value: 0.1877165213227272.\n"
     ]
    },
    {
     "name": "stdout",
     "output_type": "stream",
     "text": [
      "Epoch 50/50, Training Loss: 0.6720299243927002, Validation Loss: 0.6666525304317474\n",
      "Epoch 10/50, Training Loss: 0.5956569790840149, Validation Loss: 0.4872144013643265\n",
      "Epoch 20/50, Training Loss: 0.6112684369087219, Validation Loss: 0.5475918352603912\n",
      "Epoch 30/50, Training Loss: 0.5998584389686584, Validation Loss: 0.5209688395261765\n",
      "Epoch 40/50, Training Loss: 0.5542438566684723, Validation Loss: 0.4694812595844269\n"
     ]
    },
    {
     "name": "stderr",
     "output_type": "stream",
     "text": [
      "[I 2024-06-04 15:13:28,512] Trial 10 finished with value: 0.37052538990974426 and parameters: {'lr': 0.0006773969681550902, 'dropout_prob': 0.48975195129577526, 'hidden_channels': 178, 'n_layers': 7, 'kernel_size': 9, 'stride': 1, 'padding': 4, 'pooling_type': 'max', 'use_batch_norm': False}. Best is trial 5 with value: 0.1877165213227272.\n"
     ]
    },
    {
     "name": "stdout",
     "output_type": "stream",
     "text": [
      "Epoch 50/50, Training Loss: 0.4907957911491394, Validation Loss: 0.37052538990974426\n",
      "Epoch 10/50, Training Loss: 0.605449891090393, Validation Loss: 0.5382894575595856\n",
      "Epoch 20/50, Training Loss: 0.5739510536193848, Validation Loss: 0.5206252932548523\n",
      "Epoch 30/50, Training Loss: 0.5459848165512085, Validation Loss: 0.450048565864563\n",
      "Epoch 40/50, Training Loss: 0.4742905795574188, Validation Loss: 0.3768995851278305\n"
     ]
    },
    {
     "name": "stderr",
     "output_type": "stream",
     "text": [
      "[I 2024-06-04 15:13:41,849] Trial 11 finished with value: 0.34033961594104767 and parameters: {'lr': 0.00016511450436305968, 'dropout_prob': 0.4231228426610308, 'hidden_channels': 256, 'n_layers': 3, 'kernel_size': 6, 'stride': 2, 'padding': 5, 'pooling_type': 'max', 'use_batch_norm': False}. Best is trial 5 with value: 0.1877165213227272.\n"
     ]
    },
    {
     "name": "stdout",
     "output_type": "stream",
     "text": [
      "Epoch 50/50, Training Loss: 0.4205284655094147, Validation Loss: 0.34033961594104767\n",
      "Epoch 10/50, Training Loss: 0.5635457277297974, Validation Loss: 0.4949870705604553\n",
      "Epoch 20/50, Training Loss: 0.5770363092422486, Validation Loss: 0.5011952370405197\n",
      "Epoch 30/50, Training Loss: 0.5793648004531861, Validation Loss: 0.4661235958337784\n",
      "Epoch 40/50, Training Loss: 0.5329728364944458, Validation Loss: 0.4763256907463074\n"
     ]
    },
    {
     "name": "stderr",
     "output_type": "stream",
     "text": [
      "[I 2024-06-04 15:13:52,297] Trial 12 finished with value: 0.4705236554145813 and parameters: {'lr': 0.00016092027189270537, 'dropout_prob': 0.4141598325640906, 'hidden_channels': 182, 'n_layers': 3, 'kernel_size': 5, 'stride': 2, 'padding': 9, 'pooling_type': 'max', 'use_batch_norm': True}. Best is trial 5 with value: 0.1877165213227272.\n"
     ]
    },
    {
     "name": "stdout",
     "output_type": "stream",
     "text": [
      "Epoch 50/50, Training Loss: 0.47350794672966, Validation Loss: 0.4705236554145813\n",
      "Epoch 10/50, Training Loss: 0.5951415777206421, Validation Loss: 0.5089836269617081\n",
      "Epoch 20/50, Training Loss: 0.4730043292045593, Validation Loss: 0.3978938162326813\n",
      "Epoch 30/50, Training Loss: 0.45327470302581785, Validation Loss: 0.44553135335445404\n",
      "Epoch 40/50, Training Loss: 0.40928578972816465, Validation Loss: 0.30261045694351196\n"
     ]
    },
    {
     "name": "stderr",
     "output_type": "stream",
     "text": [
      "[I 2024-06-04 15:14:05,481] Trial 13 finished with value: 0.36779220402240753 and parameters: {'lr': 0.0005188772688768208, 'dropout_prob': 0.38387176393623273, 'hidden_channels': 221, 'n_layers': 4, 'kernel_size': 7, 'stride': 2, 'padding': 6, 'pooling_type': 'max', 'use_batch_norm': False}. Best is trial 5 with value: 0.1877165213227272.\n"
     ]
    },
    {
     "name": "stdout",
     "output_type": "stream",
     "text": [
      "Epoch 50/50, Training Loss: 0.3756555438041687, Validation Loss: 0.36779220402240753\n",
      "Epoch 10/50, Training Loss: 0.40929303765296937, Validation Loss: 0.2779884859919548\n",
      "Epoch 20/50, Training Loss: 0.3449444115161896, Validation Loss: 0.2842433899641037\n",
      "Epoch 30/50, Training Loss: 0.2814047485589981, Validation Loss: 0.19338509812951088\n",
      "Epoch 40/50, Training Loss: 0.2450096368789673, Validation Loss: 0.1778222806751728\n"
     ]
    },
    {
     "name": "stderr",
     "output_type": "stream",
     "text": [
      "[I 2024-06-04 15:14:14,769] Trial 14 finished with value: 0.1986832693219185 and parameters: {'lr': 0.00910379166161046, 'dropout_prob': 0.49711841299525883, 'hidden_channels': 254, 'n_layers': 3, 'kernel_size': 6, 'stride': 3, 'padding': 8, 'pooling_type': 'max', 'use_batch_norm': True}. Best is trial 5 with value: 0.1877165213227272.\n"
     ]
    },
    {
     "name": "stdout",
     "output_type": "stream",
     "text": [
      "Epoch 50/50, Training Loss: 0.21780170798301696, Validation Loss: 0.1986832693219185\n",
      "Epoch 10/50, Training Loss: 0.5814223766326905, Validation Loss: 0.5194980502128601\n",
      "Epoch 20/50, Training Loss: 0.5088647425174713, Validation Loss: 0.4327126443386078\n",
      "Epoch 30/50, Training Loss: 0.408181756734848, Validation Loss: 0.3284703642129898\n",
      "Epoch 40/50, Training Loss: 0.3805787205696106, Validation Loss: 0.28800511360168457\n"
     ]
    },
    {
     "name": "stderr",
     "output_type": "stream",
     "text": [
      "[I 2024-06-04 15:14:16,826] Trial 15 finished with value: 0.3211205005645752 and parameters: {'lr': 0.009852999887963034, 'dropout_prob': 0.49829098761722074, 'hidden_channels': 254, 'n_layers': 1, 'kernel_size': 8, 'stride': 3, 'padding': 8, 'pooling_type': 'max', 'use_batch_norm': False}. Best is trial 5 with value: 0.1877165213227272.\n"
     ]
    },
    {
     "name": "stdout",
     "output_type": "stream",
     "text": [
      "Epoch 50/50, Training Loss: 0.389239901304245, Validation Loss: 0.3211205005645752\n",
      "Epoch 10/50, Training Loss: 0.5219535946846008, Validation Loss: 0.37628500163555145\n",
      "Epoch 20/50, Training Loss: 0.40810588002204895, Validation Loss: 0.33906783163547516\n",
      "Epoch 30/50, Training Loss: 0.4103344202041626, Validation Loss: 0.2665202468633652\n",
      "Epoch 40/50, Training Loss: 0.3542590975761414, Validation Loss: 0.28366032987833023\n"
     ]
    },
    {
     "name": "stderr",
     "output_type": "stream",
     "text": [
      "[I 2024-06-04 15:14:19,988] Trial 16 finished with value: 0.2382526993751526 and parameters: {'lr': 0.004573048577160762, 'dropout_prob': 0.4485370578117613, 'hidden_channels': 191, 'n_layers': 2, 'kernel_size': 4, 'stride': 6, 'padding': 10, 'pooling_type': 'max', 'use_batch_norm': False}. Best is trial 5 with value: 0.1877165213227272.\n"
     ]
    },
    {
     "name": "stdout",
     "output_type": "stream",
     "text": [
      "Epoch 50/50, Training Loss: 0.30521039962768554, Validation Loss: 0.2382526993751526\n",
      "Epoch 10/50, Training Loss: 0.5364173173904419, Validation Loss: 0.413254976272583\n",
      "Epoch 20/50, Training Loss: 0.5170749664306641, Validation Loss: 0.4236942529678345\n",
      "Epoch 30/50, Training Loss: 0.4127469062805176, Validation Loss: 0.3485569357872009\n",
      "Epoch 40/50, Training Loss: 0.4125268399715424, Validation Loss: 0.31934458762407303\n"
     ]
    },
    {
     "name": "stderr",
     "output_type": "stream",
     "text": [
      "[I 2024-06-04 15:14:28,799] Trial 17 finished with value: 0.18284213170409203 and parameters: {'lr': 0.009854613737079137, 'dropout_prob': 0.4461161350900995, 'hidden_channels': 159, 'n_layers': 4, 'kernel_size': 8, 'stride': 2, 'padding': 5, 'pooling_type': 'max', 'use_batch_norm': True}. Best is trial 17 with value: 0.18284213170409203.\n"
     ]
    },
    {
     "name": "stdout",
     "output_type": "stream",
     "text": [
      "Epoch 50/50, Training Loss: 0.27172987461090087, Validation Loss: 0.18284213170409203\n",
      "Epoch 10/50, Training Loss: 0.5553822994232178, Validation Loss: 0.4969218224287033\n",
      "Epoch 20/50, Training Loss: 0.4536850869655609, Validation Loss: 0.3266049325466156\n",
      "Epoch 30/50, Training Loss: 0.41623095273971555, Validation Loss: 0.46613283455371857\n",
      "Epoch 40/50, Training Loss: 0.35464322566986084, Validation Loss: 0.21996614336967468\n"
     ]
    },
    {
     "name": "stderr",
     "output_type": "stream",
     "text": [
      "[I 2024-06-04 15:14:49,366] Trial 18 finished with value: 0.30698099732398987 and parameters: {'lr': 0.001196208151964962, 'dropout_prob': 0.4396745742021493, 'hidden_channels': 159, 'n_layers': 4, 'kernel_size': 8, 'stride': 1, 'padding': 4, 'pooling_type': 'avg', 'use_batch_norm': False}. Best is trial 17 with value: 0.18284213170409203.\n"
     ]
    },
    {
     "name": "stdout",
     "output_type": "stream",
     "text": [
      "Epoch 50/50, Training Loss: 0.3543334186077118, Validation Loss: 0.30698099732398987\n",
      "Epoch 10/50, Training Loss: 0.6167577743530274, Validation Loss: 0.5623628497123718\n",
      "Epoch 20/50, Training Loss: 0.5254733324050903, Validation Loss: 0.4467432498931885\n",
      "Epoch 30/50, Training Loss: 0.41456311345100405, Validation Loss: 0.2899700552225113\n",
      "Epoch 40/50, Training Loss: 0.4201532185077667, Validation Loss: 0.2842993214726448\n"
     ]
    },
    {
     "name": "stderr",
     "output_type": "stream",
     "text": [
      "[I 2024-06-04 15:14:54,341] Trial 19 finished with value: 0.32678963243961334 and parameters: {'lr': 0.005638008288529956, 'dropout_prob': 0.40600107919673273, 'hidden_channels': 83, 'n_layers': 6, 'kernel_size': 9, 'stride': 2, 'padding': 5, 'pooling_type': 'max', 'use_batch_norm': True}. Best is trial 17 with value: 0.18284213170409203.\n"
     ]
    },
    {
     "name": "stdout",
     "output_type": "stream",
     "text": [
      "Epoch 50/50, Training Loss: 0.40187692642211914, Validation Loss: 0.32678963243961334\n",
      "Epoch 10/50, Training Loss: 0.6340851187705994, Validation Loss: 0.563749760389328\n",
      "Epoch 20/50, Training Loss: 0.6199661731719971, Validation Loss: 0.5540006756782532\n",
      "Epoch 30/50, Training Loss: 0.5600143432617187, Validation Loss: 0.5528929531574249\n",
      "Epoch 40/50, Training Loss: 0.5003751456737519, Validation Loss: 0.4257953613996506\n"
     ]
    },
    {
     "name": "stderr",
     "output_type": "stream",
     "text": [
      "[I 2024-06-04 15:14:57,500] Trial 20 finished with value: 0.41625766456127167 and parameters: {'lr': 0.003656549444720283, 'dropout_prob': 0.4547988992578726, 'hidden_channels': 24, 'n_layers': 6, 'kernel_size': 8, 'stride': 1, 'padding': 4, 'pooling_type': 'max', 'use_batch_norm': False}. Best is trial 17 with value: 0.18284213170409203.\n"
     ]
    },
    {
     "name": "stdout",
     "output_type": "stream",
     "text": [
      "Epoch 50/50, Training Loss: 0.4477449178695679, Validation Loss: 0.41625766456127167\n",
      "Epoch 10/50, Training Loss: 0.5016412019729615, Validation Loss: 0.31292370706796646\n",
      "Epoch 20/50, Training Loss: 0.35126425623893737, Validation Loss: 0.37396323680877686\n",
      "Epoch 30/50, Training Loss: 0.2298670157790184, Validation Loss: 0.17212964594364166\n",
      "Epoch 40/50, Training Loss: 0.26942520439624784, Validation Loss: 0.18793109897524118\n"
     ]
    },
    {
     "name": "stderr",
     "output_type": "stream",
     "text": [
      "[I 2024-06-04 15:15:04,342] Trial 21 finished with value: 0.1668827086687088 and parameters: {'lr': 0.009374408873276752, 'dropout_prob': 0.4810227503133002, 'hidden_channels': 155, 'n_layers': 4, 'kernel_size': 6, 'stride': 3, 'padding': 7, 'pooling_type': 'max', 'use_batch_norm': True}. Best is trial 21 with value: 0.1668827086687088.\n"
     ]
    },
    {
     "name": "stdout",
     "output_type": "stream",
     "text": [
      "Epoch 50/50, Training Loss: 0.23045361340045928, Validation Loss: 0.1668827086687088\n",
      "Epoch 10/50, Training Loss: 0.43995183110237124, Validation Loss: 0.3014928922057152\n",
      "Epoch 20/50, Training Loss: 0.3844716250896454, Validation Loss: 0.3019915372133255\n",
      "Epoch 30/50, Training Loss: 0.3552675783634186, Validation Loss: 0.1847551167011261\n",
      "Epoch 40/50, Training Loss: 0.2949466973543167, Validation Loss: 0.1728658564388752\n"
     ]
    },
    {
     "name": "stderr",
     "output_type": "stream",
     "text": [
      "[I 2024-06-04 15:15:21,310] Trial 22 finished with value: 0.3912954330444336 and parameters: {'lr': 0.005949549244280348, 'dropout_prob': 0.49770716954212885, 'hidden_channels': 154, 'n_layers': 4, 'kernel_size': 9, 'stride': 2, 'padding': 7, 'pooling_type': 'max', 'use_batch_norm': True}. Best is trial 21 with value: 0.1668827086687088.\n"
     ]
    },
    {
     "name": "stdout",
     "output_type": "stream",
     "text": [
      "Epoch 50/50, Training Loss: 0.32095525562763216, Validation Loss: 0.3912954330444336\n",
      "Epoch 10/50, Training Loss: 0.46112480759620667, Validation Loss: 0.348397433757782\n",
      "Epoch 20/50, Training Loss: 0.49951961636543274, Validation Loss: 0.31988754123449326\n",
      "Epoch 30/50, Training Loss: 0.36313351392745974, Validation Loss: 0.5061175972223282\n",
      "Epoch 40/50, Training Loss: 0.3565429985523224, Validation Loss: 0.22096846997737885\n"
     ]
    },
    {
     "name": "stderr",
     "output_type": "stream",
     "text": [
      "[I 2024-06-04 15:16:51,484] Trial 23 finished with value: 0.22281603515148163 and parameters: {'lr': 0.007945399386280883, 'dropout_prob': 0.42897353830368984, 'hidden_channels': 154, 'n_layers': 5, 'kernel_size': 7, 'stride': 3, 'padding': 6, 'pooling_type': 'max', 'use_batch_norm': True}. Best is trial 21 with value: 0.1668827086687088.\n"
     ]
    },
    {
     "name": "stdout",
     "output_type": "stream",
     "text": [
      "Epoch 50/50, Training Loss: 0.33738094568252563, Validation Loss: 0.22281603515148163\n",
      "Epoch 10/50, Training Loss: 0.47234838604927065, Validation Loss: 0.3588811755180359\n",
      "Epoch 20/50, Training Loss: 0.3934394896030426, Validation Loss: 0.33290712535381317\n",
      "Epoch 30/50, Training Loss: 0.3118494987487793, Validation Loss: 0.18214283883571625\n",
      "Epoch 40/50, Training Loss: 0.25217385292053224, Validation Loss: 0.20377767086029053\n"
     ]
    },
    {
     "name": "stderr",
     "output_type": "stream",
     "text": [
      "[I 2024-06-04 15:17:11,991] Trial 24 finished with value: 0.11209205910563469 and parameters: {'lr': 0.0027027086391409297, 'dropout_prob': 0.45718430173518243, 'hidden_channels': 88, 'n_layers': 4, 'kernel_size': 8, 'stride': 2, 'padding': 5, 'pooling_type': 'max', 'use_batch_norm': True}. Best is trial 24 with value: 0.11209205910563469.\n"
     ]
    },
    {
     "name": "stdout",
     "output_type": "stream",
     "text": [
      "Epoch 50/50, Training Loss: 0.1607449933886528, Validation Loss: 0.11209205910563469\n"
     ]
    },
    {
     "name": "stderr",
     "output_type": "stream",
     "text": [
      "[I 2024-06-04 15:17:12,220] Trial 25 finished with value: 1.0 and parameters: {'lr': 0.004941045874224201, 'dropout_prob': 0.38372009654273215, 'hidden_channels': 90, 'n_layers': 5, 'kernel_size': 7, 'stride': 3, 'padding': 3, 'pooling_type': 'max', 'use_batch_norm': True}. Best is trial 24 with value: 0.11209205910563469.\n"
     ]
    },
    {
     "name": "stdout",
     "output_type": "stream",
     "text": [
      "Trial failed with error: Given input size: (90x1x1). Calculated output size: (90x1x0). Output size is too small\n",
      "Epoch 10/50, Training Loss: 0.5965730547904968, Validation Loss: 0.5142530351877213\n",
      "Epoch 20/50, Training Loss: 0.5023480594158173, Validation Loss: 0.4475286155939102\n",
      "Epoch 30/50, Training Loss: 0.49292463064193726, Validation Loss: 0.4279870390892029\n",
      "Epoch 40/50, Training Loss: 0.45724045038223265, Validation Loss: 0.41418103873729706\n"
     ]
    },
    {
     "name": "stderr",
     "output_type": "stream",
     "text": [
      "[I 2024-06-04 15:18:13,461] Trial 26 finished with value: 0.3301227539777756 and parameters: {'lr': 0.0016945394422446284, 'dropout_prob': 0.452869474459737, 'hidden_channels': 74, 'n_layers': 3, 'kernel_size': 8, 'stride': 5, 'padding': 5, 'pooling_type': 'avg', 'use_batch_norm': True}. Best is trial 24 with value: 0.11209205910563469.\n"
     ]
    },
    {
     "name": "stdout",
     "output_type": "stream",
     "text": [
      "Epoch 50/50, Training Loss: 0.41337677240371706, Validation Loss: 0.3301227539777756\n",
      "Epoch 10/50, Training Loss: 0.47087443470954893, Validation Loss: 0.3866105377674103\n",
      "Epoch 20/50, Training Loss: 0.35177003741264345, Validation Loss: 0.3804955333471298\n",
      "Epoch 30/50, Training Loss: 0.251825350522995, Validation Loss: 0.1509933788329363\n",
      "Epoch 40/50, Training Loss: 0.15822308212518693, Validation Loss: 0.20034487545490265\n"
     ]
    },
    {
     "name": "stderr",
     "output_type": "stream",
     "text": [
      "[I 2024-06-04 15:19:35,991] Trial 27 finished with value: 0.1278451383113861 and parameters: {'lr': 0.008931744372511138, 'dropout_prob': 0.3894343193200815, 'hidden_channels': 134, 'n_layers': 4, 'kernel_size': 6, 'stride': 2, 'padding': 3, 'pooling_type': 'max', 'use_batch_norm': True}. Best is trial 24 with value: 0.11209205910563469.\n"
     ]
    },
    {
     "name": "stdout",
     "output_type": "stream",
     "text": [
      "Epoch 50/50, Training Loss: 0.19549778699874878, Validation Loss: 0.1278451383113861\n",
      "Epoch 10/50, Training Loss: 0.5034634828567505, Validation Loss: 0.4012116640806198\n",
      "Epoch 20/50, Training Loss: 0.4069277346134186, Validation Loss: 0.31364960968494415\n",
      "Epoch 30/50, Training Loss: 0.32897589206695554, Validation Loss: 0.28733934462070465\n",
      "Epoch 40/50, Training Loss: 0.3468117654323578, Validation Loss: 0.19127516075968742\n"
     ]
    },
    {
     "name": "stderr",
     "output_type": "stream",
     "text": [
      "[I 2024-06-04 15:20:12,514] Trial 28 finished with value: 0.163940891623497 and parameters: {'lr': 0.004507386511155529, 'dropout_prob': 0.3923219213231059, 'hidden_channels': 104, 'n_layers': 7, 'kernel_size': 4, 'stride': 1, 'padding': 3, 'pooling_type': 'max', 'use_batch_norm': True}. Best is trial 24 with value: 0.11209205910563469.\n"
     ]
    },
    {
     "name": "stdout",
     "output_type": "stream",
     "text": [
      "Epoch 50/50, Training Loss: 0.1819727212190628, Validation Loss: 0.163940891623497\n",
      "Epoch 10/50, Training Loss: 0.59956294298172, Validation Loss: 0.5506443977355957\n",
      "Epoch 20/50, Training Loss: 0.5483147501945496, Validation Loss: 0.5917579829692841\n",
      "Epoch 30/50, Training Loss: 0.45396568775177004, Validation Loss: 0.38240812718868256\n",
      "Epoch 40/50, Training Loss: 0.3902286887168884, Validation Loss: 0.25210507586598396\n"
     ]
    },
    {
     "name": "stderr",
     "output_type": "stream",
     "text": [
      "[I 2024-06-04 15:20:39,605] Trial 29 finished with value: 0.41954244673252106 and parameters: {'lr': 0.004196295095921763, 'dropout_prob': 0.31698273971266433, 'hidden_channels': 117, 'n_layers': 7, 'kernel_size': 4, 'stride': 1, 'padding': 3, 'pooling_type': 'avg', 'use_batch_norm': True}. Best is trial 24 with value: 0.11209205910563469.\n"
     ]
    },
    {
     "name": "stdout",
     "output_type": "stream",
     "text": [
      "Epoch 50/50, Training Loss: 0.6184576511383056, Validation Loss: 0.41954244673252106\n",
      "Epoch 10/50, Training Loss: 0.5029430329799652, Validation Loss: 0.3552452027797699\n",
      "Epoch 20/50, Training Loss: 0.41230382919311526, Validation Loss: 0.23578349873423576\n",
      "Epoch 30/50, Training Loss: 0.35114760398864747, Validation Loss: 0.33129454404115677\n",
      "Epoch 40/50, Training Loss: 0.224222032725811, Validation Loss: 0.153599270619452\n"
     ]
    },
    {
     "name": "stderr",
     "output_type": "stream",
     "text": [
      "[I 2024-06-04 15:21:02,065] Trial 30 finished with value: 0.20706600695848465 and parameters: {'lr': 0.0018849201706897872, 'dropout_prob': 0.39036977287827124, 'hidden_channels': 100, 'n_layers': 6, 'kernel_size': 4, 'stride': 1, 'padding': 2, 'pooling_type': 'max', 'use_batch_norm': True}. Best is trial 24 with value: 0.11209205910563469.\n"
     ]
    },
    {
     "name": "stdout",
     "output_type": "stream",
     "text": [
      "Epoch 50/50, Training Loss: 0.20580585300922394, Validation Loss: 0.20706600695848465\n"
     ]
    },
    {
     "name": "stderr",
     "output_type": "stream",
     "text": [
      "[I 2024-06-04 15:21:02,275] Trial 31 finished with value: 1.0 and parameters: {'lr': 0.0034671394670897078, 'dropout_prob': 0.3755517021814135, 'hidden_channels': 136, 'n_layers': 5, 'kernel_size': 6, 'stride': 2, 'padding': 2, 'pooling_type': 'max', 'use_batch_norm': True}. Best is trial 24 with value: 0.11209205910563469.\n"
     ]
    },
    {
     "name": "stdout",
     "output_type": "stream",
     "text": [
      "Trial failed with error: Calculated padded input size per channel: (5). Kernel size: (6). Kernel size can't be greater than actual input size\n",
      "Epoch 10/50, Training Loss: 0.5228047549724579, Validation Loss: 0.3960723876953125\n",
      "Epoch 20/50, Training Loss: 0.40371342897415163, Validation Loss: 0.2780136242508888\n",
      "Epoch 30/50, Training Loss: 0.2657392144203186, Validation Loss: 0.14365909434854984\n",
      "Epoch 40/50, Training Loss: 0.1698978900909424, Validation Loss: 0.24191467463970184\n"
     ]
    },
    {
     "name": "stderr",
     "output_type": "stream",
     "text": [
      "[I 2024-06-04 15:21:16,781] Trial 32 finished with value: 0.2478812299668789 and parameters: {'lr': 0.006091533637331855, 'dropout_prob': 0.42392778590370017, 'hidden_channels': 70, 'n_layers': 4, 'kernel_size': 5, 'stride': 1, 'padding': 7, 'pooling_type': 'max', 'use_batch_norm': True}. Best is trial 24 with value: 0.11209205910563469.\n"
     ]
    },
    {
     "name": "stdout",
     "output_type": "stream",
     "text": [
      "Epoch 50/50, Training Loss: 0.198323592543602, Validation Loss: 0.2478812299668789\n",
      "Epoch 10/50, Training Loss: 0.5073794901371003, Validation Loss: 0.4412701725959778\n",
      "Epoch 20/50, Training Loss: 0.3992436766624451, Validation Loss: 0.3729633390903473\n",
      "Epoch 30/50, Training Loss: 0.29341029524803164, Validation Loss: 0.255781814455986\n",
      "Epoch 40/50, Training Loss: 0.30088727474212645, Validation Loss: 0.27577535808086395\n"
     ]
    },
    {
     "name": "stderr",
     "output_type": "stream",
     "text": [
      "[I 2024-06-04 15:21:24,547] Trial 33 finished with value: 0.18044960498809814 and parameters: {'lr': 0.0032116152169026474, 'dropout_prob': 0.2982441062610441, 'hidden_channels': 134, 'n_layers': 3, 'kernel_size': 3, 'stride': 3, 'padding': 4, 'pooling_type': 'max', 'use_batch_norm': True}. Best is trial 24 with value: 0.11209205910563469.\n"
     ]
    },
    {
     "name": "stdout",
     "output_type": "stream",
     "text": [
      "Epoch 50/50, Training Loss: 0.29164967834949496, Validation Loss: 0.18044960498809814\n",
      "Trial failed with error: Given input size: (120x1x1). Calculated output size: (120x1x0). Output size is too small\n"
     ]
    },
    {
     "name": "stderr",
     "output_type": "stream",
     "text": [
      "[I 2024-06-04 15:21:24,738] Trial 34 finished with value: 1.0 and parameters: {'lr': 0.006303286467394, 'dropout_prob': 0.3642553783095775, 'hidden_channels': 120, 'n_layers': 5, 'kernel_size': 6, 'stride': 4, 'padding': 3, 'pooling_type': 'max', 'use_batch_norm': True}. Best is trial 24 with value: 0.11209205910563469.\n"
     ]
    },
    {
     "name": "stdout",
     "output_type": "stream",
     "text": [
      "Epoch 10/50, Training Loss: 0.5365102291107178, Validation Loss: 0.45806196331977844\n",
      "Epoch 20/50, Training Loss: 0.417780327796936, Validation Loss: 0.39823494851589203\n",
      "Epoch 30/50, Training Loss: 0.3677916765213013, Validation Loss: 0.28484976291656494\n",
      "Epoch 40/50, Training Loss: 0.34531367421150205, Validation Loss: 0.3487602770328522\n"
     ]
    },
    {
     "name": "stderr",
     "output_type": "stream",
     "text": [
      "[I 2024-06-04 15:21:38,835] Trial 35 finished with value: 0.2920337915420532 and parameters: {'lr': 0.0025228189569923383, 'dropout_prob': 0.4667858480332562, 'hidden_channels': 96, 'n_layers': 2, 'kernel_size': 4, 'stride': 1, 'padding': 1, 'pooling_type': 'avg', 'use_batch_norm': True}. Best is trial 24 with value: 0.11209205910563469.\n"
     ]
    },
    {
     "name": "stdout",
     "output_type": "stream",
     "text": [
      "Epoch 50/50, Training Loss: 0.29678161442279816, Validation Loss: 0.2920337915420532\n"
     ]
    },
    {
     "name": "stderr",
     "output_type": "stream",
     "text": [
      "[I 2024-06-04 15:21:39,051] Trial 36 finished with value: 1.0 and parameters: {'lr': 0.009763613688163211, 'dropout_prob': 0.40589945450357706, 'hidden_channels': 60, 'n_layers': 4, 'kernel_size': 5, 'stride': 4, 'padding': 2, 'pooling_type': 'max', 'use_batch_norm': True}. Best is trial 24 with value: 0.11209205910563469.\n"
     ]
    },
    {
     "name": "stdout",
     "output_type": "stream",
     "text": [
      "Trial failed with error: Given input size: (60x1x1). Calculated output size: (60x1x0). Output size is too small\n",
      "Epoch 10/50, Training Loss: 0.6120375394821167, Validation Loss: 0.5068108588457108\n",
      "Epoch 20/50, Training Loss: 0.5508098006248474, Validation Loss: 0.5918889045715332\n",
      "Epoch 30/50, Training Loss: 0.5041193485260009, Validation Loss: 0.6023779362440109\n",
      "Epoch 40/50, Training Loss: 0.4682775497436523, Validation Loss: 0.37464261054992676\n"
     ]
    },
    {
     "name": "stderr",
     "output_type": "stream",
     "text": [
      "[I 2024-06-04 15:22:20,443] Trial 37 finished with value: 0.3533550500869751 and parameters: {'lr': 0.004379308433668703, 'dropout_prob': 0.46879626739722435, 'hidden_channels': 31, 'n_layers': 7, 'kernel_size': 5, 'stride': 2, 'padding': 4, 'pooling_type': 'max', 'use_batch_norm': True}. Best is trial 24 with value: 0.11209205910563469.\n"
     ]
    },
    {
     "name": "stdout",
     "output_type": "stream",
     "text": [
      "Epoch 50/50, Training Loss: 0.45300914645195006, Validation Loss: 0.3533550500869751\n",
      "Epoch 10/50, Training Loss: 0.5725047588348389, Validation Loss: 0.5197550803422928\n",
      "Epoch 20/50, Training Loss: 0.4556662142276764, Validation Loss: 0.41449470818042755\n",
      "Epoch 30/50, Training Loss: 0.47053212523460386, Validation Loss: 0.37726932764053345\n",
      "Epoch 40/50, Training Loss: 0.3931517839431763, Validation Loss: 0.3566070646047592\n"
     ]
    },
    {
     "name": "stderr",
     "output_type": "stream",
     "text": [
      "[I 2024-06-04 15:22:30,099] Trial 38 finished with value: 0.33587074279785156 and parameters: {'lr': 0.002325449368353835, 'dropout_prob': 0.3351865101788013, 'hidden_channels': 109, 'n_layers': 4, 'kernel_size': 6, 'stride': 2, 'padding': 9, 'pooling_type': 'avg', 'use_batch_norm': True}. Best is trial 24 with value: 0.11209205910563469.\n",
      "[I 2024-06-04 15:22:30,250] Trial 39 finished with value: 1.0 and parameters: {'lr': 0.006686906735694074, 'dropout_prob': 0.4040787278007299, 'hidden_channels': 148, 'n_layers': 5, 'kernel_size': 3, 'stride': 4, 'padding': 1, 'pooling_type': 'max', 'use_batch_norm': True}. Best is trial 24 with value: 0.11209205910563469.\n"
     ]
    },
    {
     "name": "stdout",
     "output_type": "stream",
     "text": [
      "Epoch 50/50, Training Loss: 0.3988877534866333, Validation Loss: 0.33587074279785156\n",
      "Trial failed with error: Given input size: (148x1x1). Calculated output size: (148x1x0). Output size is too small\n",
      "Epoch 10/50, Training Loss: 0.47592971920967103, Validation Loss: 0.3957057595252991\n",
      "Epoch 20/50, Training Loss: 0.3840556085109711, Validation Loss: 0.27107568830251694\n",
      "Epoch 30/50, Training Loss: 0.301625257730484, Validation Loss: 0.2646002322435379\n",
      "Epoch 40/50, Training Loss: 0.3104111313819885, Validation Loss: 0.2523696944117546\n"
     ]
    },
    {
     "name": "stderr",
     "output_type": "stream",
     "text": [
      "[I 2024-06-04 15:22:37,791] Trial 40 finished with value: 0.18691281974315643 and parameters: {'lr': 0.0013209120126484537, 'dropout_prob': 0.27061368189009893, 'hidden_channels': 173, 'n_layers': 3, 'kernel_size': 7, 'stride': 3, 'padding': 3, 'pooling_type': 'max', 'use_batch_norm': True}. Best is trial 24 with value: 0.11209205910563469.\n"
     ]
    },
    {
     "name": "stdout",
     "output_type": "stream",
     "text": [
      "Epoch 50/50, Training Loss: 0.27463977932929995, Validation Loss: 0.18691281974315643\n",
      "Epoch 10/50, Training Loss: 0.514809787273407, Validation Loss: 0.5045801550149918\n",
      "Epoch 20/50, Training Loss: 0.44703511595726014, Validation Loss: 0.3245079964399338\n",
      "Epoch 30/50, Training Loss: 0.31007553040981295, Validation Loss: 0.21752584353089333\n",
      "Epoch 40/50, Training Loss: 0.32548182606697085, Validation Loss: 0.19156522676348686\n"
     ]
    },
    {
     "name": "stderr",
     "output_type": "stream",
     "text": [
      "[I 2024-06-04 15:22:44,027] Trial 41 finished with value: 0.17023228853940964 and parameters: {'lr': 0.003185918111848557, 'dropout_prob': 0.35959513199384197, 'hidden_channels': 135, 'n_layers': 3, 'kernel_size': 3, 'stride': 3, 'padding': 4, 'pooling_type': 'max', 'use_batch_norm': True}. Best is trial 24 with value: 0.11209205910563469.\n"
     ]
    },
    {
     "name": "stdout",
     "output_type": "stream",
     "text": [
      "Epoch 50/50, Training Loss: 0.2555797934532166, Validation Loss: 0.17023228853940964\n",
      "Epoch 10/50, Training Loss: 0.5020963311195373, Validation Loss: 0.4532248377799988\n",
      "Epoch 20/50, Training Loss: 0.4195189118385315, Validation Loss: 0.3566074073314667\n",
      "Epoch 30/50, Training Loss: 0.42585367560386655, Validation Loss: 0.36918850243091583\n",
      "Epoch 40/50, Training Loss: 0.4617914378643036, Validation Loss: 0.28075969964265823\n"
     ]
    },
    {
     "name": "stderr",
     "output_type": "stream",
     "text": [
      "[I 2024-06-04 15:22:48,605] Trial 42 finished with value: 0.24257680028676987 and parameters: {'lr': 0.0029455794532384297, 'dropout_prob': 0.3652791361824122, 'hidden_channels': 126, 'n_layers': 3, 'kernel_size': 3, 'stride': 3, 'padding': 3, 'pooling_type': 'max', 'use_batch_norm': True}. Best is trial 24 with value: 0.11209205910563469.\n"
     ]
    },
    {
     "name": "stdout",
     "output_type": "stream",
     "text": [
      "Epoch 50/50, Training Loss: 0.2835160195827484, Validation Loss: 0.24257680028676987\n",
      "Epoch 10/50, Training Loss: 0.4934491217136383, Validation Loss: 0.5265917032957077\n",
      "Epoch 20/50, Training Loss: 0.4037063419818878, Validation Loss: 0.3317735642194748\n",
      "Epoch 30/50, Training Loss: 0.37421396374702454, Validation Loss: 0.3609095364809036\n",
      "Epoch 40/50, Training Loss: 0.3121186137199402, Validation Loss: 0.3189605325460434\n"
     ]
    },
    {
     "name": "stderr",
     "output_type": "stream",
     "text": [
      "[I 2024-06-04 15:22:55,072] Trial 43 finished with value: 0.22550442069768906 and parameters: {'lr': 0.004747160699523057, 'dropout_prob': 0.47394714483086486, 'hidden_channels': 143, 'n_layers': 2, 'kernel_size': 3, 'stride': 2, 'padding': 6, 'pooling_type': 'max', 'use_batch_norm': True}. Best is trial 24 with value: 0.11209205910563469.\n"
     ]
    },
    {
     "name": "stdout",
     "output_type": "stream",
     "text": [
      "Epoch 50/50, Training Loss: 0.26276462376117704, Validation Loss: 0.22550442069768906\n",
      "Epoch 10/50, Training Loss: 0.44136773943901064, Validation Loss: 0.4791143536567688\n",
      "Epoch 20/50, Training Loss: 0.3646561563014984, Validation Loss: 0.23470915108919144\n",
      "Epoch 30/50, Training Loss: 0.38515318036079405, Validation Loss: 0.34338653087615967\n",
      "Epoch 40/50, Training Loss: 0.2842867523431778, Validation Loss: 0.1799120306968689\n"
     ]
    },
    {
     "name": "stderr",
     "output_type": "stream",
     "text": [
      "[I 2024-06-04 15:23:03,530] Trial 44 finished with value: 0.14867257792502642 and parameters: {'lr': 0.006745302494002774, 'dropout_prob': 0.43610254011564054, 'hidden_channels': 169, 'n_layers': 4, 'kernel_size': 4, 'stride': 4, 'padding': 5, 'pooling_type': 'max', 'use_batch_norm': True}. Best is trial 24 with value: 0.11209205910563469.\n"
     ]
    },
    {
     "name": "stdout",
     "output_type": "stream",
     "text": [
      "Epoch 50/50, Training Loss: 0.24781410694122313, Validation Loss: 0.14867257792502642\n",
      "Epoch 10/50, Training Loss: 0.5710961818695068, Validation Loss: 0.48740100860595703\n",
      "Epoch 20/50, Training Loss: 0.45585818886756896, Validation Loss: 0.3554934859275818\n",
      "Epoch 30/50, Training Loss: 0.3977894961833954, Validation Loss: 0.35722021758556366\n",
      "Epoch 40/50, Training Loss: 0.46617116332054137, Validation Loss: 0.31439997255802155\n"
     ]
    },
    {
     "name": "stderr",
     "output_type": "stream",
     "text": [
      "[I 2024-06-04 15:23:12,552] Trial 45 finished with value: 0.20745297893881798 and parameters: {'lr': 0.007156701019109474, 'dropout_prob': 0.42664228937190635, 'hidden_channels': 198, 'n_layers': 4, 'kernel_size': 4, 'stride': 5, 'padding': 5, 'pooling_type': 'max', 'use_batch_norm': True}. Best is trial 24 with value: 0.11209205910563469.\n"
     ]
    },
    {
     "name": "stdout",
     "output_type": "stream",
     "text": [
      "Epoch 50/50, Training Loss: 0.26093885228037833, Validation Loss: 0.20745297893881798\n",
      "Epoch 10/50, Training Loss: 0.5719827592372895, Validation Loss: 0.4912484437227249\n",
      "Epoch 20/50, Training Loss: 0.44616474509239196, Validation Loss: 0.3264523893594742\n",
      "Epoch 30/50, Training Loss: 0.3825681537389755, Validation Loss: 0.25461140275001526\n",
      "Epoch 40/50, Training Loss: 0.39794233441352844, Validation Loss: 0.27605508267879486\n"
     ]
    },
    {
     "name": "stderr",
     "output_type": "stream",
     "text": [
      "[I 2024-06-04 15:23:19,446] Trial 46 finished with value: 0.19900192692875862 and parameters: {'lr': 0.007470675342810331, 'dropout_prob': 0.4695335494492799, 'hidden_channels': 109, 'n_layers': 5, 'kernel_size': 5, 'stride': 4, 'padding': 7, 'pooling_type': 'max', 'use_batch_norm': True}. Best is trial 24 with value: 0.11209205910563469.\n"
     ]
    },
    {
     "name": "stdout",
     "output_type": "stream",
     "text": [
      "Epoch 50/50, Training Loss: 0.3140075147151947, Validation Loss: 0.19900192692875862\n",
      "Epoch 10/50, Training Loss: 0.47592231035232546, Validation Loss: 0.3963165581226349\n",
      "Epoch 20/50, Training Loss: 0.3657785952091217, Validation Loss: 0.18730555474758148\n",
      "Epoch 30/50, Training Loss: 0.337020555138588, Validation Loss: 0.172695929184556\n",
      "Epoch 40/50, Training Loss: 0.3750581979751587, Validation Loss: 0.23246191442012787\n"
     ]
    },
    {
     "name": "stderr",
     "output_type": "stream",
     "text": [
      "[I 2024-06-04 15:23:28,904] Trial 47 finished with value: 0.20751704275608063 and parameters: {'lr': 0.005094773793500083, 'dropout_prob': 0.4351146468933334, 'hidden_channels': 172, 'n_layers': 4, 'kernel_size': 6, 'stride': 5, 'padding': 6, 'pooling_type': 'max', 'use_batch_norm': True}. Best is trial 24 with value: 0.11209205910563469.\n"
     ]
    },
    {
     "name": "stdout",
     "output_type": "stream",
     "text": [
      "Epoch 50/50, Training Loss: 0.2687988251447678, Validation Loss: 0.20751704275608063\n",
      "Epoch 10/50, Training Loss: 0.5736207604408264, Validation Loss: 0.46311628818511963\n",
      "Epoch 20/50, Training Loss: 0.45823813080787656, Validation Loss: 0.4279167354106903\n",
      "Epoch 30/50, Training Loss: 0.41964303851127627, Validation Loss: 0.32915984094142914\n",
      "Epoch 40/50, Training Loss: 0.3776113450527191, Validation Loss: 0.20326883345842361\n"
     ]
    },
    {
     "name": "stderr",
     "output_type": "stream",
     "text": [
      "[I 2024-06-04 15:23:35,103] Trial 48 finished with value: 0.17022638767957687 and parameters: {'lr': 0.0022856956225199778, 'dropout_prob': 0.39038238011240445, 'hidden_channels': 40, 'n_layers': 5, 'kernel_size': 5, 'stride': 1, 'padding': 7, 'pooling_type': 'max', 'use_batch_norm': True}. Best is trial 24 with value: 0.11209205910563469.\n"
     ]
    },
    {
     "name": "stdout",
     "output_type": "stream",
     "text": [
      "Epoch 50/50, Training Loss: 0.25080153048038484, Validation Loss: 0.17022638767957687\n",
      "Epoch 10/50, Training Loss: 0.4803521454334259, Validation Loss: 0.47095271944999695\n",
      "Epoch 20/50, Training Loss: 0.4102356851100922, Validation Loss: 0.46399636566638947\n",
      "Epoch 30/50, Training Loss: 0.47690439224243164, Validation Loss: 0.3150975704193115\n",
      "Epoch 40/50, Training Loss: 0.37106187343597413, Validation Loss: 0.2677086815237999\n"
     ]
    },
    {
     "name": "stderr",
     "output_type": "stream",
     "text": [
      "[I 2024-06-04 15:23:38,909] Trial 49 finished with value: 0.26030542701482773 and parameters: {'lr': 0.008124964457896901, 'dropout_prob': 0.47969755402474484, 'hidden_channels': 86, 'n_layers': 4, 'kernel_size': 4, 'stride': 4, 'padding': 8, 'pooling_type': 'avg', 'use_batch_norm': True}. Best is trial 24 with value: 0.11209205910563469.\n"
     ]
    },
    {
     "name": "stdout",
     "output_type": "stream",
     "text": [
      "Epoch 50/50, Training Loss: 0.3360324829816818, Validation Loss: 0.26030542701482773\n",
      "Epoch 10/50, Training Loss: 0.4635190606117249, Validation Loss: 0.3613471984863281\n",
      "Epoch 20/50, Training Loss: 0.42843307852745055, Validation Loss: 0.3027331456542015\n",
      "Epoch 30/50, Training Loss: 0.33480780124664306, Validation Loss: 0.20970186591148376\n",
      "Epoch 40/50, Training Loss: 0.20938401520252228, Validation Loss: 0.16586156841367483\n"
     ]
    },
    {
     "name": "stderr",
     "output_type": "stream",
     "text": [
      "[I 2024-06-04 15:23:51,431] Trial 50 finished with value: 0.922414243221283 and parameters: {'lr': 0.004362961553544179, 'dropout_prob': 0.4516197198778464, 'hidden_channels': 186, 'n_layers': 4, 'kernel_size': 7, 'stride': 2, 'padding': 2, 'pooling_type': 'max', 'use_batch_norm': True}. Best is trial 24 with value: 0.11209205910563469.\n"
     ]
    },
    {
     "name": "stdout",
     "output_type": "stream",
     "text": [
      "Epoch 50/50, Training Loss: 0.24801611602306367, Validation Loss: 0.922414243221283\n",
      "Epoch 10/50, Training Loss: 0.5952535986900329, Validation Loss: 0.5438722372055054\n",
      "Epoch 20/50, Training Loss: 0.5498384296894073, Validation Loss: 0.4332117438316345\n",
      "Epoch 30/50, Training Loss: 0.4816862761974335, Validation Loss: 0.3833131194114685\n",
      "Epoch 40/50, Training Loss: 0.40224599838256836, Validation Loss: 0.3307070881128311\n"
     ]
    },
    {
     "name": "stderr",
     "output_type": "stream",
     "text": [
      "[I 2024-06-04 15:23:58,761] Trial 51 finished with value: 0.3539125919342041 and parameters: {'lr': 0.002093911313636488, 'dropout_prob': 0.40922674033508033, 'hidden_channels': 42, 'n_layers': 6, 'kernel_size': 5, 'stride': 1, 'padding': 8, 'pooling_type': 'max', 'use_batch_norm': True}. Best is trial 24 with value: 0.11209205910563469.\n"
     ]
    },
    {
     "name": "stdout",
     "output_type": "stream",
     "text": [
      "Epoch 50/50, Training Loss: 0.3824668288230896, Validation Loss: 0.3539125919342041\n",
      "Epoch 10/50, Training Loss: 0.5335193634033203, Validation Loss: 0.33640651404857635\n",
      "Epoch 20/50, Training Loss: 0.40570771098136904, Validation Loss: 0.2750095799565315\n",
      "Epoch 30/50, Training Loss: 0.3153132826089859, Validation Loss: 0.22222396731376648\n",
      "Epoch 40/50, Training Loss: 0.15749574899673463, Validation Loss: 0.1460939757525921\n"
     ]
    },
    {
     "name": "stderr",
     "output_type": "stream",
     "text": [
      "[I 2024-06-04 15:24:39,606] Trial 52 finished with value: 0.1438428983092308 and parameters: {'lr': 0.0025924131248981006, 'dropout_prob': 0.3926913361138767, 'hidden_channels': 167, 'n_layers': 5, 'kernel_size': 5, 'stride': 1, 'padding': 7, 'pooling_type': 'max', 'use_batch_norm': True}. Best is trial 24 with value: 0.11209205910563469.\n"
     ]
    },
    {
     "name": "stdout",
     "output_type": "stream",
     "text": [
      "Epoch 50/50, Training Loss: 0.22889768481254577, Validation Loss: 0.1438428983092308\n",
      "Epoch 10/50, Training Loss: 0.5922674059867858, Validation Loss: 0.5162408649921417\n",
      "Epoch 20/50, Training Loss: 0.47509064674377444, Validation Loss: 0.4012615829706192\n",
      "Epoch 30/50, Training Loss: 0.4941773533821106, Validation Loss: 0.47485390305519104\n",
      "Epoch 40/50, Training Loss: 0.473933082818985, Validation Loss: 0.47308608889579773\n"
     ]
    },
    {
     "name": "stderr",
     "output_type": "stream",
     "text": [
      "[I 2024-06-04 15:24:52,706] Trial 53 finished with value: 0.5550005435943604 and parameters: {'lr': 0.00361137495993986, 'dropout_prob': 0.34597579283788327, 'hidden_channels': 167, 'n_layers': 7, 'kernel_size': 6, 'stride': 6, 'padding': 9, 'pooling_type': 'max', 'use_batch_norm': True}. Best is trial 24 with value: 0.11209205910563469.\n"
     ]
    },
    {
     "name": "stdout",
     "output_type": "stream",
     "text": [
      "Epoch 50/50, Training Loss: 0.461497837305069, Validation Loss: 0.5550005435943604\n",
      "Epoch 10/50, Training Loss: 0.5660884141921997, Validation Loss: 0.3981925696134567\n",
      "Epoch 20/50, Training Loss: 0.4344889402389526, Validation Loss: 0.3325609713792801\n",
      "Epoch 30/50, Training Loss: 0.2583120346069336, Validation Loss: 0.3072161301970482\n",
      "Epoch 40/50, Training Loss: 0.25548880100250243, Validation Loss: 0.1586290095001459\n"
     ]
    },
    {
     "name": "stderr",
     "output_type": "stream",
     "text": [
      "[I 2024-06-04 15:25:39,912] Trial 54 finished with value: 0.20164294938149396 and parameters: {'lr': 0.007738024565665665, 'dropout_prob': 0.4329388545870456, 'hidden_channels': 204, 'n_layers': 5, 'kernel_size': 4, 'stride': 1, 'padding': 5, 'pooling_type': 'max', 'use_batch_norm': True}. Best is trial 24 with value: 0.11209205910563469.\n"
     ]
    },
    {
     "name": "stdout",
     "output_type": "stream",
     "text": [
      "Epoch 50/50, Training Loss: 0.20192841589450836, Validation Loss: 0.20164294938149396\n",
      "Epoch 10/50, Training Loss: 0.576040381193161, Validation Loss: 0.5089294761419296\n",
      "Epoch 20/50, Training Loss: 0.5069931447505951, Validation Loss: 0.45255064964294434\n",
      "Epoch 30/50, Training Loss: 0.42249929904937744, Validation Loss: 0.3254634141921997\n",
      "Epoch 40/50, Training Loss: 0.33546903133392336, Validation Loss: 0.20523874089121819\n"
     ]
    },
    {
     "name": "stderr",
     "output_type": "stream",
     "text": [
      "[I 2024-06-04 15:25:49,200] Trial 55 finished with value: 0.18197299540042877 and parameters: {'lr': 0.0010164457718169154, 'dropout_prob': 0.4150693855802746, 'hidden_channels': 146, 'n_layers': 4, 'kernel_size': 6, 'stride': 2, 'padding': 7, 'pooling_type': 'max', 'use_batch_norm': False}. Best is trial 24 with value: 0.11209205910563469.\n"
     ]
    },
    {
     "name": "stdout",
     "output_type": "stream",
     "text": [
      "Epoch 50/50, Training Loss: 0.3477878987789154, Validation Loss: 0.18197299540042877\n",
      "Epoch 10/50, Training Loss: 0.5174190163612366, Validation Loss: 0.421358659863472\n",
      "Epoch 20/50, Training Loss: 0.4575595438480377, Validation Loss: 0.4066566377878189\n",
      "Epoch 30/50, Training Loss: 0.7438577175140381, Validation Loss: 0.6590956747531891\n",
      "Epoch 40/50, Training Loss: 0.4217476904392242, Validation Loss: 0.3101935163140297\n"
     ]
    },
    {
     "name": "stderr",
     "output_type": "stream",
     "text": [
      "[I 2024-06-04 15:26:00,922] Trial 56 finished with value: 0.3013203740119934 and parameters: {'lr': 0.005486211247024881, 'dropout_prob': 0.48594431169390406, 'hidden_channels': 163, 'n_layers': 6, 'kernel_size': 5, 'stride': 2, 'padding': 6, 'pooling_type': 'max', 'use_batch_norm': True}. Best is trial 24 with value: 0.11209205910563469.\n"
     ]
    },
    {
     "name": "stdout",
     "output_type": "stream",
     "text": [
      "Epoch 50/50, Training Loss: 0.4429265558719635, Validation Loss: 0.3013203740119934\n",
      "Epoch 10/50, Training Loss: 0.4270726203918457, Validation Loss: 0.30368122458457947\n",
      "Epoch 20/50, Training Loss: 0.3632544159889221, Validation Loss: 0.2324245721101761\n",
      "Epoch 30/50, Training Loss: 0.21671389192342758, Validation Loss: 0.16881811618804932\n",
      "Epoch 40/50, Training Loss: 0.21316694021224974, Validation Loss: 0.14454043097794056\n",
      "Epoch 50/50, Training Loss: 0.1737385720014572, Validation Loss: 0.14521200209856033\n"
     ]
    },
    {
     "name": "stderr",
     "output_type": "stream",
     "text": [
      "[I 2024-06-04 15:26:17,549] Trial 57 finished with value: 0.14521200209856033 and parameters: {'lr': 0.009549252766808111, 'dropout_prob': 0.4519673195670522, 'hidden_channels': 129, 'n_layers': 3, 'kernel_size': 4, 'stride': 1, 'padding': 6, 'pooling_type': 'max', 'use_batch_norm': True}. Best is trial 24 with value: 0.11209205910563469.\n"
     ]
    },
    {
     "name": "stdout",
     "output_type": "stream",
     "text": [
      "Epoch 10/50, Training Loss: 0.569695794582367, Validation Loss: 0.512884110212326\n",
      "Epoch 20/50, Training Loss: 0.5430637001991272, Validation Loss: 0.5668935924768448\n",
      "Epoch 30/50, Training Loss: 0.5264702796936035, Validation Loss: 0.6445129364728928\n",
      "Epoch 40/50, Training Loss: 0.5259993970394135, Validation Loss: 0.7505195438861847\n"
     ]
    },
    {
     "name": "stderr",
     "output_type": "stream",
     "text": [
      "[I 2024-06-04 15:26:21,789] Trial 58 finished with value: 0.5350675135850906 and parameters: {'lr': 0.0026656730703445374, 'dropout_prob': 0.38830764680779256, 'hidden_channels': 127, 'n_layers': 3, 'kernel_size': 4, 'stride': 7, 'padding': 6, 'pooling_type': 'max', 'use_batch_norm': True}. Best is trial 24 with value: 0.11209205910563469.\n"
     ]
    },
    {
     "name": "stdout",
     "output_type": "stream",
     "text": [
      "Epoch 50/50, Training Loss: 0.5250069499015808, Validation Loss: 0.5350675135850906\n",
      "Epoch 10/50, Training Loss: 0.5775533676147461, Validation Loss: 0.5199106633663177\n",
      "Epoch 20/50, Training Loss: 0.5253209233283996, Validation Loss: 0.4515441209077835\n",
      "Epoch 30/50, Training Loss: 0.46206151247024535, Validation Loss: 0.42592182755470276\n",
      "Epoch 40/50, Training Loss: 0.43160215616226194, Validation Loss: 0.44679465889930725\n"
     ]
    },
    {
     "name": "stderr",
     "output_type": "stream",
     "text": [
      "[I 2024-06-04 15:26:30,270] Trial 59 finished with value: 0.2813505306839943 and parameters: {'lr': 0.0016937395953743697, 'dropout_prob': 0.4428156076539239, 'hidden_channels': 104, 'n_layers': 2, 'kernel_size': 4, 'stride': 1, 'padding': 5, 'pooling_type': 'max', 'use_batch_norm': False}. Best is trial 24 with value: 0.11209205910563469.\n"
     ]
    },
    {
     "name": "stdout",
     "output_type": "stream",
     "text": [
      "Epoch 50/50, Training Loss: 0.4032056570053101, Validation Loss: 0.2813505306839943\n",
      "Epoch 10/50, Training Loss: 0.5788293838500976, Validation Loss: 0.48401086032390594\n",
      "Epoch 20/50, Training Loss: 0.5550021171569824, Validation Loss: 0.4939146041870117\n",
      "Epoch 30/50, Training Loss: 0.5116293549537658, Validation Loss: 0.47820404171943665\n",
      "Epoch 40/50, Training Loss: 0.48881529569625853, Validation Loss: 0.42726628482341766\n"
     ]
    },
    {
     "name": "stderr",
     "output_type": "stream",
     "text": [
      "[I 2024-06-04 15:26:31,838] Trial 60 finished with value: 0.36111268401145935 and parameters: {'lr': 0.0037331137307461157, 'dropout_prob': 0.45566212306818554, 'hidden_channels': 221, 'n_layers': 1, 'kernel_size': 4, 'stride': 6, 'padding': 4, 'pooling_type': 'max', 'use_batch_norm': True}. Best is trial 24 with value: 0.11209205910563469.\n"
     ]
    },
    {
     "name": "stdout",
     "output_type": "stream",
     "text": [
      "Epoch 50/50, Training Loss: 0.4023672521114349, Validation Loss: 0.36111268401145935\n",
      "Epoch 10/50, Training Loss: 0.40560872554779054, Validation Loss: 0.19729957357048988\n",
      "Epoch 20/50, Training Loss: 0.3065959572792053, Validation Loss: 0.1533077536150813\n",
      "Epoch 30/50, Training Loss: 0.3144644320011139, Validation Loss: 0.2765071392059326\n",
      "Epoch 40/50, Training Loss: 0.2632711321115494, Validation Loss: 0.15053766407072544\n"
     ]
    },
    {
     "name": "stderr",
     "output_type": "stream",
     "text": [
      "[I 2024-06-04 15:26:58,209] Trial 61 finished with value: 0.18614884465932846 and parameters: {'lr': 0.009708621296854458, 'dropout_prob': 0.4838580732780204, 'hidden_channels': 152, 'n_layers': 4, 'kernel_size': 5, 'stride': 1, 'padding': 7, 'pooling_type': 'max', 'use_batch_norm': True}. Best is trial 24 with value: 0.11209205910563469.\n"
     ]
    },
    {
     "name": "stdout",
     "output_type": "stream",
     "text": [
      "Epoch 50/50, Training Loss: 0.15749794840812684, Validation Loss: 0.18614884465932846\n",
      "Epoch 10/50, Training Loss: 0.4295590579509735, Validation Loss: 0.2979196235537529\n",
      "Epoch 20/50, Training Loss: 0.28326340317726134, Validation Loss: 0.2237546518445015\n",
      "Epoch 30/50, Training Loss: 0.28931301832199097, Validation Loss: 0.18083788082003593\n",
      "Epoch 40/50, Training Loss: 0.1852312281727791, Validation Loss: 0.21059659868478775\n"
     ]
    },
    {
     "name": "stderr",
     "output_type": "stream",
     "text": [
      "[I 2024-06-04 15:27:16,491] Trial 62 finished with value: 0.2526479437947273 and parameters: {'lr': 0.0060502333526479025, 'dropout_prob': 0.46127095261035317, 'hidden_channels': 117, 'n_layers': 3, 'kernel_size': 5, 'stride': 1, 'padding': 6, 'pooling_type': 'max', 'use_batch_norm': True}. Best is trial 24 with value: 0.11209205910563469.\n"
     ]
    },
    {
     "name": "stdout",
     "output_type": "stream",
     "text": [
      "Epoch 50/50, Training Loss: 0.11023232266306877, Validation Loss: 0.2526479437947273\n",
      "Epoch 10/50, Training Loss: 0.4340884029865265, Validation Loss: 0.3002520054578781\n",
      "Epoch 20/50, Training Loss: 0.36620389819145205, Validation Loss: 0.25245916843414307\n",
      "Epoch 30/50, Training Loss: 0.32095068991184234, Validation Loss: 0.26189570873975754\n",
      "Epoch 40/50, Training Loss: 0.2268173724412918, Validation Loss: 0.14860290102660656\n"
     ]
    },
    {
     "name": "stderr",
     "output_type": "stream",
     "text": [
      "[I 2024-06-04 15:27:27,459] Trial 63 finished with value: 0.136896800249815 and parameters: {'lr': 0.008192968233061435, 'dropout_prob': 0.4322230863361333, 'hidden_channels': 143, 'n_layers': 3, 'kernel_size': 6, 'stride': 2, 'padding': 7, 'pooling_type': 'max', 'use_batch_norm': True}. Best is trial 24 with value: 0.11209205910563469.\n"
     ]
    },
    {
     "name": "stdout",
     "output_type": "stream",
     "text": [
      "Epoch 50/50, Training Loss: 0.1993688702583313, Validation Loss: 0.136896800249815\n",
      "Epoch 10/50, Training Loss: 0.3794722557067871, Validation Loss: 0.2626490518450737\n",
      "Epoch 20/50, Training Loss: 0.26673648953437806, Validation Loss: 0.19514714181423187\n",
      "Epoch 30/50, Training Loss: 0.22786218374967576, Validation Loss: 0.16357361897826195\n",
      "Epoch 40/50, Training Loss: 0.14902410358190538, Validation Loss: 0.16760309413075447\n"
     ]
    },
    {
     "name": "stderr",
     "output_type": "stream",
     "text": [
      "[I 2024-06-04 15:27:40,495] Trial 64 finished with value: 0.502073734998703 and parameters: {'lr': 0.00756711278215608, 'dropout_prob': 0.4198848256165856, 'hidden_channels': 75, 'n_layers': 3, 'kernel_size': 7, 'stride': 1, 'padding': 8, 'pooling_type': 'max', 'use_batch_norm': True}. Best is trial 24 with value: 0.11209205910563469.\n"
     ]
    },
    {
     "name": "stdout",
     "output_type": "stream",
     "text": [
      "Epoch 50/50, Training Loss: 0.14529314041137695, Validation Loss: 0.502073734998703\n",
      "Epoch 10/50, Training Loss: 0.4804779887199402, Validation Loss: 0.3966345638036728\n",
      "Epoch 20/50, Training Loss: 0.3695163011550903, Validation Loss: 0.21837105602025986\n",
      "Epoch 30/50, Training Loss: 0.3592844307422638, Validation Loss: 0.34256666898727417\n",
      "Epoch 40/50, Training Loss: 0.2540457010269165, Validation Loss: 0.20074587687849998\n"
     ]
    },
    {
     "name": "stderr",
     "output_type": "stream",
     "text": [
      "[I 2024-06-04 15:27:48,534] Trial 65 finished with value: 0.16404332779347897 and parameters: {'lr': 0.00531323260302717, 'dropout_prob': 0.4404401835852896, 'hidden_channels': 137, 'n_layers': 3, 'kernel_size': 4, 'stride': 2, 'padding': 5, 'pooling_type': 'max', 'use_batch_norm': True}. Best is trial 24 with value: 0.11209205910563469.\n"
     ]
    },
    {
     "name": "stdout",
     "output_type": "stream",
     "text": [
      "Epoch 50/50, Training Loss: 0.19955410957336425, Validation Loss: 0.16404332779347897\n",
      "Epoch 10/50, Training Loss: 0.47780469059944153, Validation Loss: 0.4502587914466858\n",
      "Epoch 20/50, Training Loss: 0.40715788006782533, Validation Loss: 0.35100090503692627\n",
      "Epoch 30/50, Training Loss: 0.3374613881111145, Validation Loss: 0.24088767915964127\n",
      "Epoch 40/50, Training Loss: 0.2968031525611877, Validation Loss: 0.2863196060061455\n"
     ]
    },
    {
     "name": "stderr",
     "output_type": "stream",
     "text": [
      "[I 2024-06-04 15:28:14,827] Trial 66 finished with value: 0.28176772594451904 and parameters: {'lr': 0.004119979186035541, 'dropout_prob': 0.39803237888159226, 'hidden_channels': 180, 'n_layers': 2, 'kernel_size': 6, 'stride': 1, 'padding': 6, 'pooling_type': 'avg', 'use_batch_norm': True}. Best is trial 24 with value: 0.11209205910563469.\n"
     ]
    },
    {
     "name": "stdout",
     "output_type": "stream",
     "text": [
      "Epoch 50/50, Training Loss: 0.2804859161376953, Validation Loss: 0.28176772594451904\n",
      "Epoch 10/50, Training Loss: 0.4178959667682648, Validation Loss: 0.2725020796060562\n",
      "Epoch 20/50, Training Loss: 0.3356042981147766, Validation Loss: 0.22838998213410378\n",
      "Epoch 30/50, Training Loss: 0.29368323385715484, Validation Loss: 0.3202813118696213\n",
      "Epoch 40/50, Training Loss: 0.2191751033067703, Validation Loss: 0.14980936562642455\n"
     ]
    },
    {
     "name": "stderr",
     "output_type": "stream",
     "text": [
      "[I 2024-06-04 15:28:22,524] Trial 67 finished with value: 0.19093646295368671 and parameters: {'lr': 0.009947359670548092, 'dropout_prob': 0.37670524791141485, 'hidden_channels': 130, 'n_layers': 3, 'kernel_size': 4, 'stride': 2, 'padding': 4, 'pooling_type': 'max', 'use_batch_norm': True}. Best is trial 24 with value: 0.11209205910563469.\n"
     ]
    },
    {
     "name": "stdout",
     "output_type": "stream",
     "text": [
      "Epoch 50/50, Training Loss: 0.2704522877931595, Validation Loss: 0.19093646295368671\n",
      "Epoch 10/50, Training Loss: 0.6191964507102966, Validation Loss: 0.5533322393894196\n",
      "Epoch 20/50, Training Loss: 0.5505820870399475, Validation Loss: 0.4558127522468567\n",
      "Epoch 30/50, Training Loss: 0.4317109167575836, Validation Loss: 0.2631508857011795\n",
      "Epoch 40/50, Training Loss: 0.4115235686302185, Validation Loss: 0.25918151438236237\n"
     ]
    },
    {
     "name": "stderr",
     "output_type": "stream",
     "text": [
      "[I 2024-06-04 15:28:38,206] Trial 68 finished with value: 0.2255951501429081 and parameters: {'lr': 0.006931130586222076, 'dropout_prob': 0.42583719687077154, 'hidden_channels': 98, 'n_layers': 7, 'kernel_size': 6, 'stride': 1, 'padding': 3, 'pooling_type': 'max', 'use_batch_norm': False}. Best is trial 24 with value: 0.11209205910563469.\n"
     ]
    },
    {
     "name": "stdout",
     "output_type": "stream",
     "text": [
      "Epoch 50/50, Training Loss: 0.344975072145462, Validation Loss: 0.2255951501429081\n",
      "Epoch 10/50, Training Loss: 0.5110736072063446, Validation Loss: 0.40698204934597015\n",
      "Epoch 20/50, Training Loss: 0.3762525856494904, Validation Loss: 0.25164078921079636\n",
      "Epoch 30/50, Training Loss: 0.32741660475730894, Validation Loss: 0.29107482731342316\n",
      "Epoch 40/50, Training Loss: 0.27314295172691344, Validation Loss: 0.18895427137613297\n"
     ]
    },
    {
     "name": "stderr",
     "output_type": "stream",
     "text": [
      "[I 2024-06-04 15:28:49,753] Trial 69 finished with value: 0.17459380626678467 and parameters: {'lr': 0.0028853418568123668, 'dropout_prob': 0.4055581849219974, 'hidden_channels': 142, 'n_layers': 4, 'kernel_size': 9, 'stride': 2, 'padding': 8, 'pooling_type': 'max', 'use_batch_norm': True}. Best is trial 24 with value: 0.11209205910563469.\n"
     ]
    },
    {
     "name": "stdout",
     "output_type": "stream",
     "text": [
      "Epoch 50/50, Training Loss: 0.26552735865116117, Validation Loss: 0.17459380626678467\n",
      "Epoch 10/50, Training Loss: 0.5292017757892609, Validation Loss: 0.4960654675960541\n",
      "Epoch 20/50, Training Loss: 0.44348959922790526, Validation Loss: 0.308341845870018\n",
      "Epoch 30/50, Training Loss: 0.5255625903606415, Validation Loss: 0.24259814620018005\n",
      "Epoch 40/50, Training Loss: 0.34035804569721223, Validation Loss: 0.226592767983675\n"
     ]
    },
    {
     "name": "stderr",
     "output_type": "stream",
     "text": [
      "[I 2024-06-04 15:29:14,968] Trial 70 finished with value: 0.4501665234565735 and parameters: {'lr': 0.005124083652401024, 'dropout_prob': 0.3754712404550375, 'hidden_channels': 112, 'n_layers': 6, 'kernel_size': 5, 'stride': 1, 'padding': 5, 'pooling_type': 'max', 'use_batch_norm': True}. Best is trial 24 with value: 0.11209205910563469.\n"
     ]
    },
    {
     "name": "stdout",
     "output_type": "stream",
     "text": [
      "Epoch 50/50, Training Loss: 0.4259299099445343, Validation Loss: 0.4501665234565735\n",
      "Epoch 10/50, Training Loss: 0.45971753597259524, Validation Loss: 0.30382219702005386\n",
      "Epoch 20/50, Training Loss: 0.3707372069358826, Validation Loss: 0.24853108823299408\n",
      "Epoch 30/50, Training Loss: 0.266305074095726, Validation Loss: 0.18652145937085152\n",
      "Epoch 40/50, Training Loss: 0.28639649152755736, Validation Loss: 0.2105593979358673\n"
     ]
    },
    {
     "name": "stderr",
     "output_type": "stream",
     "text": [
      "[I 2024-06-04 15:29:23,130] Trial 71 finished with value: 0.227813258767128 and parameters: {'lr': 0.006015774639948127, 'dropout_prob': 0.4383876836492606, 'hidden_channels': 139, 'n_layers': 3, 'kernel_size': 4, 'stride': 2, 'padding': 5, 'pooling_type': 'max', 'use_batch_norm': True}. Best is trial 24 with value: 0.11209205910563469.\n"
     ]
    },
    {
     "name": "stdout",
     "output_type": "stream",
     "text": [
      "Epoch 50/50, Training Loss: 0.19600403010845185, Validation Loss: 0.227813258767128\n",
      "Epoch 10/50, Training Loss: 0.43268542289733886, Validation Loss: 0.30724333226680756\n",
      "Epoch 20/50, Training Loss: 0.3613304316997528, Validation Loss: 0.25600651651620865\n",
      "Epoch 30/50, Training Loss: 0.2455578088760376, Validation Loss: 0.1751830019056797\n",
      "Epoch 40/50, Training Loss: 0.18594494313001633, Validation Loss: 0.15148357744328678\n"
     ]
    },
    {
     "name": "stderr",
     "output_type": "stream",
     "text": [
      "[I 2024-06-04 15:29:33,190] Trial 72 finished with value: 0.17932382598519325 and parameters: {'lr': 0.008311498600940739, 'dropout_prob': 0.4430342739737382, 'hidden_channels': 163, 'n_layers': 3, 'kernel_size': 4, 'stride': 2, 'padding': 7, 'pooling_type': 'max', 'use_batch_norm': True}. Best is trial 24 with value: 0.11209205910563469.\n"
     ]
    },
    {
     "name": "stdout",
     "output_type": "stream",
     "text": [
      "Epoch 50/50, Training Loss: 0.21129046976566315, Validation Loss: 0.17932382598519325\n",
      "Epoch 10/50, Training Loss: 0.4819375157356262, Validation Loss: 0.37051892280578613\n",
      "Epoch 20/50, Training Loss: 0.3760474264621735, Validation Loss: 0.2306787595152855\n",
      "Epoch 30/50, Training Loss: 0.2799259960651398, Validation Loss: 0.18493152223527431\n",
      "Epoch 40/50, Training Loss: 0.23146260976791383, Validation Loss: 0.21508918702602386\n"
     ]
    },
    {
     "name": "stderr",
     "output_type": "stream",
     "text": [
      "[I 2024-06-04 15:29:40,151] Trial 73 finished with value: 0.15859239734709263 and parameters: {'lr': 0.005233467486235387, 'dropout_prob': 0.4988459439088789, 'hidden_channels': 120, 'n_layers': 3, 'kernel_size': 3, 'stride': 2, 'padding': 6, 'pooling_type': 'max', 'use_batch_norm': True}. Best is trial 24 with value: 0.11209205910563469.\n"
     ]
    },
    {
     "name": "stdout",
     "output_type": "stream",
     "text": [
      "Epoch 50/50, Training Loss: 0.26959081590175626, Validation Loss: 0.15859239734709263\n",
      "Epoch 10/50, Training Loss: 0.48357356190681455, Validation Loss: 0.37472744286060333\n",
      "Epoch 20/50, Training Loss: 0.4213923454284668, Validation Loss: 0.3515351712703705\n",
      "Epoch 30/50, Training Loss: 0.3239792764186859, Validation Loss: 0.2198442593216896\n",
      "Epoch 40/50, Training Loss: 0.3783142566680908, Validation Loss: 0.27358318865299225\n"
     ]
    },
    {
     "name": "stderr",
     "output_type": "stream",
     "text": [
      "[I 2024-06-04 15:29:45,717] Trial 74 finished with value: 0.5089484751224518 and parameters: {'lr': 0.003930383883545764, 'dropout_prob': 0.4912762613127047, 'hidden_channels': 119, 'n_layers': 4, 'kernel_size': 3, 'stride': 3, 'padding': 6, 'pooling_type': 'max', 'use_batch_norm': True}. Best is trial 24 with value: 0.11209205910563469.\n"
     ]
    },
    {
     "name": "stdout",
     "output_type": "stream",
     "text": [
      "Epoch 50/50, Training Loss: 0.2954264312982559, Validation Loss: 0.5089484751224518\n",
      "Epoch 10/50, Training Loss: 0.4767008364200592, Validation Loss: 0.481377974152565\n",
      "Epoch 20/50, Training Loss: 0.4073328018188477, Validation Loss: 0.32718631625175476\n",
      "Epoch 30/50, Training Loss: 0.2943210303783417, Validation Loss: 0.25594548135995865\n",
      "Epoch 40/50, Training Loss: 0.22827422618865967, Validation Loss: 0.1867959164083004\n"
     ]
    },
    {
     "name": "stderr",
     "output_type": "stream",
     "text": [
      "[I 2024-06-04 15:29:57,137] Trial 75 finished with value: 0.14903517626225948 and parameters: {'lr': 0.006093186837752962, 'dropout_prob': 0.499419646696329, 'hidden_channels': 91, 'n_layers': 3, 'kernel_size': 3, 'stride': 1, 'padding': 6, 'pooling_type': 'max', 'use_batch_norm': True}. Best is trial 24 with value: 0.11209205910563469.\n"
     ]
    },
    {
     "name": "stdout",
     "output_type": "stream",
     "text": [
      "Epoch 50/50, Training Loss: 0.19356130361557006, Validation Loss: 0.14903517626225948\n",
      "Epoch 10/50, Training Loss: 0.46403207182884215, Validation Loss: 0.30443863570690155\n",
      "Epoch 20/50, Training Loss: 0.38548049330711365, Validation Loss: 0.2351563796401024\n",
      "Epoch 30/50, Training Loss: 0.2541526764631271, Validation Loss: 0.1677232664078474\n",
      "Epoch 40/50, Training Loss: 0.20544633120298386, Validation Loss: 0.12338988948613405\n"
     ]
    },
    {
     "name": "stderr",
     "output_type": "stream",
     "text": [
      "[I 2024-06-04 15:30:01,448] Trial 76 finished with value: 0.14121744222939014 and parameters: {'lr': 0.006441294536675918, 'dropout_prob': 0.493957626702735, 'hidden_channels': 92, 'n_layers': 3, 'kernel_size': 3, 'stride': 2, 'padding': 6, 'pooling_type': 'max', 'use_batch_norm': True}. Best is trial 24 with value: 0.11209205910563469.\n"
     ]
    },
    {
     "name": "stdout",
     "output_type": "stream",
     "text": [
      "Epoch 50/50, Training Loss: 0.23957170248031617, Validation Loss: 0.14121744222939014\n",
      "Epoch 10/50, Training Loss: 0.4708201825618744, Validation Loss: 0.4293062537908554\n",
      "Epoch 20/50, Training Loss: 0.38951072096824646, Validation Loss: 0.25538551807403564\n",
      "Epoch 30/50, Training Loss: 0.3476353406906128, Validation Loss: 0.3056759387254715\n",
      "Epoch 40/50, Training Loss: 0.2745918959379196, Validation Loss: 0.18351038917899132\n"
     ]
    },
    {
     "name": "stderr",
     "output_type": "stream",
     "text": [
      "[I 2024-06-04 15:30:06,006] Trial 77 finished with value: 0.25692759454250336 and parameters: {'lr': 0.008511718054739234, 'dropout_prob': 0.46603352571101414, 'hidden_channels': 64, 'n_layers': 2, 'kernel_size': 3, 'stride': 1, 'padding': 7, 'pooling_type': 'avg', 'use_batch_norm': True}. Best is trial 24 with value: 0.11209205910563469.\n"
     ]
    },
    {
     "name": "stdout",
     "output_type": "stream",
     "text": [
      "Epoch 50/50, Training Loss: 0.28322666585445405, Validation Loss: 0.25692759454250336\n",
      "Epoch 10/50, Training Loss: 0.5659602284431458, Validation Loss: 0.4857477694749832\n",
      "Epoch 20/50, Training Loss: 0.443008291721344, Validation Loss: 0.3126760497689247\n",
      "Epoch 30/50, Training Loss: 0.3877066195011139, Validation Loss: 0.22646992653608322\n",
      "Epoch 40/50, Training Loss: 0.31692231595516207, Validation Loss: 0.3037165179848671\n"
     ]
    },
    {
     "name": "stderr",
     "output_type": "stream",
     "text": [
      "[I 2024-06-04 15:30:09,950] Trial 78 finished with value: 0.44068528711795807 and parameters: {'lr': 0.006664677202039743, 'dropout_prob': 0.4574617035085445, 'hidden_channels': 81, 'n_layers': 4, 'kernel_size': 3, 'stride': 3, 'padding': 6, 'pooling_type': 'max', 'use_batch_norm': True}. Best is trial 24 with value: 0.11209205910563469.\n"
     ]
    },
    {
     "name": "stdout",
     "output_type": "stream",
     "text": [
      "Epoch 50/50, Training Loss: 0.41582980155944826, Validation Loss: 0.44068528711795807\n",
      "Epoch 10/50, Training Loss: 0.4850383222103119, Validation Loss: 0.39967919886112213\n",
      "Epoch 20/50, Training Loss: 0.3771724462509155, Validation Loss: 0.22110042721033096\n",
      "Epoch 30/50, Training Loss: 0.3588161766529083, Validation Loss: 0.20144376158714294\n",
      "Epoch 40/50, Training Loss: 0.34743566513061525, Validation Loss: 0.1887618862092495\n"
     ]
    },
    {
     "name": "stderr",
     "output_type": "stream",
     "text": [
      "[I 2024-06-04 15:30:13,150] Trial 79 finished with value: 0.21048980578780174 and parameters: {'lr': 0.006420118355787085, 'dropout_prob': 0.47136672265673374, 'hidden_channels': 91, 'n_layers': 2, 'kernel_size': 3, 'stride': 2, 'padding': 7, 'pooling_type': 'max', 'use_batch_norm': True}. Best is trial 24 with value: 0.11209205910563469.\n"
     ]
    },
    {
     "name": "stdout",
     "output_type": "stream",
     "text": [
      "Epoch 50/50, Training Loss: 0.26484003067016604, Validation Loss: 0.21048980578780174\n",
      "Epoch 10/50, Training Loss: 0.5887633085250854, Validation Loss: 0.5280321836471558\n",
      "Epoch 20/50, Training Loss: 0.3817551493644714, Validation Loss: 0.28263362497091293\n",
      "Epoch 30/50, Training Loss: 0.40322768688201904, Validation Loss: 0.3383488953113556\n",
      "Epoch 40/50, Training Loss: 0.34520872235298156, Validation Loss: 0.26696451753377914\n"
     ]
    },
    {
     "name": "stderr",
     "output_type": "stream",
     "text": [
      "[I 2024-06-04 15:30:40,795] Trial 80 finished with value: 0.21639315783977509 and parameters: {'lr': 0.0033262801926028087, 'dropout_prob': 0.48826916096606193, 'hidden_channels': 189, 'n_layers': 3, 'kernel_size': 3, 'stride': 1, 'padding': 6, 'pooling_type': 'max', 'use_batch_norm': False}. Best is trial 24 with value: 0.11209205910563469.\n"
     ]
    },
    {
     "name": "stdout",
     "output_type": "stream",
     "text": [
      "Epoch 50/50, Training Loss: 0.2730226546525955, Validation Loss: 0.21639315783977509\n",
      "Epoch 10/50, Training Loss: 0.43577517867088317, Validation Loss: 0.37632182240486145\n",
      "Epoch 20/50, Training Loss: 0.40229483842849734, Validation Loss: 0.22798197716474533\n",
      "Epoch 30/50, Training Loss: 0.29788380265235903, Validation Loss: 0.22422503679990768\n",
      "Epoch 40/50, Training Loss: 0.30093437135219575, Validation Loss: 0.17339809238910675\n"
     ]
    },
    {
     "name": "stderr",
     "output_type": "stream",
     "text": [
      "[I 2024-06-04 15:30:44,856] Trial 81 finished with value: 0.19692714884877205 and parameters: {'lr': 0.005471007460418674, 'dropout_prob': 0.4960568439396194, 'hidden_channels': 90, 'n_layers': 3, 'kernel_size': 3, 'stride': 2, 'padding': 6, 'pooling_type': 'max', 'use_batch_norm': True}. Best is trial 24 with value: 0.11209205910563469.\n"
     ]
    },
    {
     "name": "stdout",
     "output_type": "stream",
     "text": [
      "Epoch 50/50, Training Loss: 0.3468913048505783, Validation Loss: 0.19692714884877205\n",
      "Epoch 10/50, Training Loss: 0.45934162139892576, Validation Loss: 0.3071543201804161\n",
      "Epoch 20/50, Training Loss: 0.366521480679512, Validation Loss: 0.18852943181991577\n",
      "Epoch 30/50, Training Loss: 0.25042215287685393, Validation Loss: 0.20385359227657318\n",
      "Epoch 40/50, Training Loss: 0.20007043033838273, Validation Loss: 0.17342841252684593\n"
     ]
    },
    {
     "name": "stderr",
     "output_type": "stream",
     "text": [
      "[I 2024-06-04 15:30:51,986] Trial 82 finished with value: 0.14455056376755238 and parameters: {'lr': 0.008539346090543291, 'dropout_prob': 0.4986845076564417, 'hidden_channels': 130, 'n_layers': 3, 'kernel_size': 3, 'stride': 2, 'padding': 6, 'pooling_type': 'max', 'use_batch_norm': True}. Best is trial 24 with value: 0.11209205910563469.\n"
     ]
    },
    {
     "name": "stdout",
     "output_type": "stream",
     "text": [
      "Epoch 50/50, Training Loss: 0.18569208085536956, Validation Loss: 0.14455056376755238\n",
      "Epoch 10/50, Training Loss: 0.39906038641929625, Validation Loss: 0.24081438779830933\n",
      "Epoch 20/50, Training Loss: 0.3132070958614349, Validation Loss: 0.18742064759135246\n",
      "Epoch 30/50, Training Loss: 0.35193085074424746, Validation Loss: 0.16375593282282352\n",
      "Epoch 40/50, Training Loss: 0.2907353609800339, Validation Loss: 0.2163836620748043\n"
     ]
    },
    {
     "name": "stderr",
     "output_type": "stream",
     "text": [
      "[I 2024-06-04 15:31:01,409] Trial 83 finished with value: 0.18919633980840445 and parameters: {'lr': 0.008379332520221727, 'dropout_prob': 0.47621214788736865, 'hidden_channels': 174, 'n_layers': 3, 'kernel_size': 3, 'stride': 2, 'padding': 5, 'pooling_type': 'max', 'use_batch_norm': True}. Best is trial 24 with value: 0.11209205910563469.\n"
     ]
    },
    {
     "name": "stdout",
     "output_type": "stream",
     "text": [
      "Epoch 50/50, Training Loss: 0.26348642706871034, Validation Loss: 0.18919633980840445\n",
      "Epoch 10/50, Training Loss: 0.5187839984893798, Validation Loss: 0.44452159106731415\n",
      "Epoch 20/50, Training Loss: 0.42547926902770994, Validation Loss: 0.30293937772512436\n",
      "Epoch 30/50, Training Loss: 0.3620556712150574, Validation Loss: 0.3588494658470154\n",
      "Epoch 40/50, Training Loss: 0.30442936420440675, Validation Loss: 0.3071070611476898\n"
     ]
    },
    {
     "name": "stderr",
     "output_type": "stream",
     "text": [
      "[I 2024-06-04 15:31:08,929] Trial 84 finished with value: 0.25626271218061447 and parameters: {'lr': 0.008483546651639275, 'dropout_prob': 0.46131442919747434, 'hidden_channels': 151, 'n_layers': 4, 'kernel_size': 3, 'stride': 3, 'padding': 7, 'pooling_type': 'max', 'use_batch_norm': True}. Best is trial 24 with value: 0.11209205910563469.\n"
     ]
    },
    {
     "name": "stdout",
     "output_type": "stream",
     "text": [
      "Epoch 50/50, Training Loss: 0.35694554448127747, Validation Loss: 0.25626271218061447\n",
      "Epoch 10/50, Training Loss: 0.44578045010566714, Validation Loss: 0.3592570126056671\n",
      "Epoch 20/50, Training Loss: 0.24866212606430055, Validation Loss: 0.1559940930455923\n",
      "Epoch 30/50, Training Loss: 0.2717791527509689, Validation Loss: 0.5511595904827118\n",
      "Epoch 40/50, Training Loss: 0.18822355717420577, Validation Loss: 0.24470581859350204\n"
     ]
    },
    {
     "name": "stderr",
     "output_type": "stream",
     "text": [
      "[I 2024-06-04 15:31:30,439] Trial 85 finished with value: 0.3884104713797569 and parameters: {'lr': 0.004518595579698708, 'dropout_prob': 0.48073206401470847, 'hidden_channels': 132, 'n_layers': 3, 'kernel_size': 8, 'stride': 1, 'padding': 6, 'pooling_type': 'max', 'use_batch_norm': True}. Best is trial 24 with value: 0.11209205910563469.\n"
     ]
    },
    {
     "name": "stdout",
     "output_type": "stream",
     "text": [
      "Epoch 50/50, Training Loss: 0.13322032392024993, Validation Loss: 0.3884104713797569\n",
      "Epoch 10/50, Training Loss: 0.45335025191307066, Validation Loss: 0.4278617203235626\n",
      "Epoch 20/50, Training Loss: 0.35195879340171815, Validation Loss: 0.2988293990492821\n",
      "Epoch 30/50, Training Loss: 0.27989027202129363, Validation Loss: 0.16179378516972065\n",
      "Epoch 40/50, Training Loss: 0.24558825492858888, Validation Loss: 0.25957443565130234\n"
     ]
    },
    {
     "name": "stderr",
     "output_type": "stream",
     "text": [
      "[I 2024-06-04 15:31:39,676] Trial 86 finished with value: 0.21774030476808548 and parameters: {'lr': 0.007007914726791669, 'dropout_prob': 0.45049666028936897, 'hidden_channels': 158, 'n_layers': 3, 'kernel_size': 6, 'stride': 2, 'padding': 5, 'pooling_type': 'max', 'use_batch_norm': True}. Best is trial 24 with value: 0.11209205910563469.\n"
     ]
    },
    {
     "name": "stdout",
     "output_type": "stream",
     "text": [
      "Epoch 50/50, Training Loss: 0.2515494763851166, Validation Loss: 0.21774030476808548\n",
      "Epoch 10/50, Training Loss: 0.4059742033481598, Validation Loss: 0.371981218457222\n",
      "Epoch 20/50, Training Loss: 0.3225757718086243, Validation Loss: 0.18197107687592506\n",
      "Epoch 30/50, Training Loss: 0.27045887112617495, Validation Loss: 0.18249740824103355\n",
      "Epoch 40/50, Training Loss: 0.23344958424568177, Validation Loss: 0.20246131718158722\n"
     ]
    },
    {
     "name": "stderr",
     "output_type": "stream",
     "text": [
      "[I 2024-06-04 15:31:43,486] Trial 87 finished with value: 0.16349150985479355 and parameters: {'lr': 0.008692925241202878, 'dropout_prob': 0.42378108431463335, 'hidden_channels': 76, 'n_layers': 2, 'kernel_size': 7, 'stride': 2, 'padding': 7, 'pooling_type': 'max', 'use_batch_norm': True}. Best is trial 24 with value: 0.11209205910563469.\n"
     ]
    },
    {
     "name": "stdout",
     "output_type": "stream",
     "text": [
      "Epoch 50/50, Training Loss: 0.19147499203681945, Validation Loss: 0.16349150985479355\n",
      "Epoch 10/50, Training Loss: 0.5371015667915344, Validation Loss: 0.47288474440574646\n",
      "Epoch 20/50, Training Loss: 0.5198890089988708, Validation Loss: 0.31279532611370087\n",
      "Epoch 30/50, Training Loss: 0.3739849328994751, Validation Loss: 0.3512589931488037\n",
      "Epoch 40/50, Training Loss: 0.3582945287227631, Validation Loss: 0.2078833170235157\n"
     ]
    },
    {
     "name": "stderr",
     "output_type": "stream",
     "text": [
      "[I 2024-06-04 15:31:48,712] Trial 88 finished with value: 0.31241171061992645 and parameters: {'lr': 0.006239256188328207, 'dropout_prob': 0.4761564372634188, 'hidden_channels': 112, 'n_layers': 4, 'kernel_size': 3, 'stride': 3, 'padding': 6, 'pooling_type': 'max', 'use_batch_norm': True}. Best is trial 24 with value: 0.11209205910563469.\n"
     ]
    },
    {
     "name": "stdout",
     "output_type": "stream",
     "text": [
      "Epoch 50/50, Training Loss: 0.27907913029193876, Validation Loss: 0.31241171061992645\n",
      "Epoch 10/50, Training Loss: 0.5429831802845001, Validation Loss: 0.684221625328064\n",
      "Epoch 20/50, Training Loss: 0.4993151962757111, Validation Loss: 0.4173029065132141\n",
      "Epoch 30/50, Training Loss: 0.4124681532382965, Validation Loss: 0.4160754084587097\n",
      "Epoch 40/50, Training Loss: 0.42196454405784606, Validation Loss: 0.37647056579589844\n"
     ]
    },
    {
     "name": "stderr",
     "output_type": "stream",
     "text": [
      "[I 2024-06-04 15:31:54,844] Trial 89 finished with value: 0.2967238575220108 and parameters: {'lr': 0.00391650624776779, 'dropout_prob': 0.4517132488637008, 'hidden_channels': 56, 'n_layers': 4, 'kernel_size': 3, 'stride': 1, 'padding': 8, 'pooling_type': 'avg', 'use_batch_norm': True}. Best is trial 24 with value: 0.11209205910563469.\n"
     ]
    },
    {
     "name": "stdout",
     "output_type": "stream",
     "text": [
      "Epoch 50/50, Training Loss: 0.3520683884620667, Validation Loss: 0.2967238575220108\n",
      "Epoch 10/50, Training Loss: 0.4518425703048706, Validation Loss: 0.4311915189027786\n",
      "Epoch 20/50, Training Loss: 0.4918341994285583, Validation Loss: 0.41390493512153625\n",
      "Epoch 30/50, Training Loss: 0.3783183157444, Validation Loss: 0.31235043704509735\n",
      "Epoch 40/50, Training Loss: 0.444328761100769, Validation Loss: 0.3293534517288208\n"
     ]
    },
    {
     "name": "stderr",
     "output_type": "stream",
     "text": [
      "[I 2024-06-04 15:32:04,555] Trial 90 finished with value: 0.3857554644346237 and parameters: {'lr': 0.009743991158926752, 'dropout_prob': 0.4119382265847112, 'hidden_channels': 125, 'n_layers': 5, 'kernel_size': 7, 'stride': 2, 'padding': 5, 'pooling_type': 'max', 'use_batch_norm': True}. Best is trial 24 with value: 0.11209205910563469.\n"
     ]
    },
    {
     "name": "stdout",
     "output_type": "stream",
     "text": [
      "Epoch 50/50, Training Loss: 0.3851334273815155, Validation Loss: 0.3857554644346237\n",
      "Epoch 10/50, Training Loss: 0.4497907221317291, Validation Loss: 0.3734414279460907\n",
      "Epoch 20/50, Training Loss: 0.39713982343673704, Validation Loss: 0.298200860619545\n",
      "Epoch 30/50, Training Loss: 0.3773383557796478, Validation Loss: 0.2180473580956459\n",
      "Epoch 40/50, Training Loss: 0.24687175452709198, Validation Loss: 0.17012863419950008\n"
     ]
    },
    {
     "name": "stderr",
     "output_type": "stream",
     "text": [
      "[I 2024-06-04 15:32:10,485] Trial 91 finished with value: 0.15444914530962706 and parameters: {'lr': 0.005739148863631495, 'dropout_prob': 0.49736618171824004, 'hidden_channels': 101, 'n_layers': 3, 'kernel_size': 3, 'stride': 2, 'padding': 6, 'pooling_type': 'max', 'use_batch_norm': True}. Best is trial 24 with value: 0.11209205910563469.\n"
     ]
    },
    {
     "name": "stdout",
     "output_type": "stream",
     "text": [
      "Epoch 50/50, Training Loss: 0.1964390680193901, Validation Loss: 0.15444914530962706\n",
      "Epoch 10/50, Training Loss: 0.49887730479240416, Validation Loss: 0.436874657869339\n",
      "Epoch 20/50, Training Loss: 0.3810138463973999, Validation Loss: 0.3156575560569763\n",
      "Epoch 30/50, Training Loss: 0.3287719011306763, Validation Loss: 0.17698867619037628\n",
      "Epoch 40/50, Training Loss: 0.31190376728773117, Validation Loss: 0.19446838274598122\n"
     ]
    },
    {
     "name": "stderr",
     "output_type": "stream",
     "text": [
      "[I 2024-06-04 15:32:13,994] Trial 92 finished with value: 0.16908539831638336 and parameters: {'lr': 0.006984552711860003, 'dropout_prob': 0.49579936140586706, 'hidden_channels': 68, 'n_layers': 3, 'kernel_size': 3, 'stride': 2, 'padding': 6, 'pooling_type': 'max', 'use_batch_norm': True}. Best is trial 24 with value: 0.11209205910563469.\n"
     ]
    },
    {
     "name": "stdout",
     "output_type": "stream",
     "text": [
      "Epoch 50/50, Training Loss: 0.26815799474716184, Validation Loss: 0.16908539831638336\n",
      "Epoch 10/50, Training Loss: 0.4435979902744293, Validation Loss: 0.3586537837982178\n",
      "Epoch 20/50, Training Loss: 0.3949874758720398, Validation Loss: 0.23259903490543365\n",
      "Epoch 30/50, Training Loss: 0.2676044195890427, Validation Loss: 0.18829651549458504\n",
      "Epoch 40/50, Training Loss: 0.2691636949777603, Validation Loss: 0.15576503239572048\n"
     ]
    },
    {
     "name": "stderr",
     "output_type": "stream",
     "text": [
      "[I 2024-06-04 15:32:18,396] Trial 93 finished with value: 0.15472020208835602 and parameters: {'lr': 0.004685276404073078, 'dropout_prob': 0.4654174015413597, 'hidden_channels': 97, 'n_layers': 3, 'kernel_size': 3, 'stride': 2, 'padding': 7, 'pooling_type': 'max', 'use_batch_norm': True}. Best is trial 24 with value: 0.11209205910563469.\n"
     ]
    },
    {
     "name": "stdout",
     "output_type": "stream",
     "text": [
      "Epoch 50/50, Training Loss: 0.22498846650123597, Validation Loss: 0.15472020208835602\n",
      "Epoch 10/50, Training Loss: 0.5114907920360565, Validation Loss: 0.4620521068572998\n",
      "Epoch 20/50, Training Loss: 0.401300972700119, Validation Loss: 0.29596059769392014\n",
      "Epoch 30/50, Training Loss: 0.35823860168457033, Validation Loss: 0.3566577881574631\n",
      "Epoch 40/50, Training Loss: 0.3142228990793228, Validation Loss: 0.19517123326659203\n"
     ]
    },
    {
     "name": "stderr",
     "output_type": "stream",
     "text": [
      "[I 2024-06-04 15:32:32,680] Trial 94 finished with value: 0.22491397708654404 and parameters: {'lr': 0.0029020241952051533, 'dropout_prob': 0.4813554733066481, 'hidden_channels': 104, 'n_layers': 3, 'kernel_size': 3, 'stride': 1, 'padding': 7, 'pooling_type': 'max', 'use_batch_norm': True}. Best is trial 24 with value: 0.11209205910563469.\n"
     ]
    },
    {
     "name": "stdout",
     "output_type": "stream",
     "text": [
      "Epoch 50/50, Training Loss: 0.2723566681146622, Validation Loss: 0.22491397708654404\n",
      "Epoch 10/50, Training Loss: 0.4578676581382751, Validation Loss: 0.3664361238479614\n",
      "Epoch 20/50, Training Loss: 0.35205023884773257, Validation Loss: 0.22122753411531448\n",
      "Epoch 30/50, Training Loss: 0.33794017434120177, Validation Loss: 0.24892152845859528\n",
      "Epoch 40/50, Training Loss: 0.31449830532073975, Validation Loss: 0.20551399141550064\n"
     ]
    },
    {
     "name": "stderr",
     "output_type": "stream",
     "text": [
      "[I 2024-06-04 15:32:36,674] Trial 95 finished with value: 0.2040671817958355 and parameters: {'lr': 0.005748558208150453, 'dropout_prob': 0.43597210944819953, 'hidden_channels': 92, 'n_layers': 3, 'kernel_size': 6, 'stride': 5, 'padding': 6, 'pooling_type': 'max', 'use_batch_norm': True}. Best is trial 24 with value: 0.11209205910563469.\n"
     ]
    },
    {
     "name": "stdout",
     "output_type": "stream",
     "text": [
      "Epoch 50/50, Training Loss: 0.20795610696077346, Validation Loss: 0.2040671817958355\n",
      "Epoch 10/50, Training Loss: 0.46784005761146547, Validation Loss: 0.38868848979473114\n",
      "Epoch 20/50, Training Loss: 0.4407819271087646, Validation Loss: 0.33459168672561646\n",
      "Epoch 30/50, Training Loss: 0.2723007142543793, Validation Loss: 0.17206894606351852\n",
      "Epoch 40/50, Training Loss: 0.4118794620037079, Validation Loss: 0.26614759862422943\n"
     ]
    },
    {
     "name": "stderr",
     "output_type": "stream",
     "text": [
      "[I 2024-06-04 15:32:41,467] Trial 96 finished with value: 0.18065091036260128 and parameters: {'lr': 0.0074928967173235545, 'dropout_prob': 0.4993103926739403, 'hidden_channels': 82, 'n_layers': 4, 'kernel_size': 4, 'stride': 2, 'padding': 5, 'pooling_type': 'max', 'use_batch_norm': True}. Best is trial 24 with value: 0.11209205910563469.\n"
     ]
    },
    {
     "name": "stdout",
     "output_type": "stream",
     "text": [
      "Epoch 50/50, Training Loss: 0.2896192193031311, Validation Loss: 0.18065091036260128\n",
      "Epoch 10/50, Training Loss: 0.48731849789619447, Validation Loss: 0.4799765646457672\n",
      "Epoch 20/50, Training Loss: 0.364447283744812, Validation Loss: 0.22885432839393616\n",
      "Epoch 30/50, Training Loss: 0.363375386595726, Validation Loss: 0.19427752867341042\n",
      "Epoch 40/50, Training Loss: 0.3248138725757599, Validation Loss: 0.3117849975824356\n"
     ]
    },
    {
     "name": "stderr",
     "output_type": "stream",
     "text": [
      "[I 2024-06-04 15:32:50,170] Trial 97 finished with value: 0.14931069873273373 and parameters: {'lr': 0.009981406317060376, 'dropout_prob': 0.4844679832996136, 'hidden_channels': 147, 'n_layers': 4, 'kernel_size': 5, 'stride': 3, 'padding': 6, 'pooling_type': 'max', 'use_batch_norm': True}. Best is trial 24 with value: 0.11209205910563469.\n"
     ]
    },
    {
     "name": "stdout",
     "output_type": "stream",
     "text": [
      "Epoch 50/50, Training Loss: 0.2767592340707779, Validation Loss: 0.14931069873273373\n",
      "Epoch 10/50, Training Loss: 0.510171365737915, Validation Loss: 0.3399292081594467\n",
      "Epoch 20/50, Training Loss: 0.41324399709701537, Validation Loss: 0.34380170702934265\n",
      "Epoch 30/50, Training Loss: 0.42012616991996765, Validation Loss: 0.3240659534931183\n",
      "Epoch 40/50, Training Loss: 0.33857416212558744, Validation Loss: 0.25059614330530167\n"
     ]
    },
    {
     "name": "stderr",
     "output_type": "stream",
     "text": [
      "[I 2024-06-04 15:32:57,369] Trial 98 finished with value: 0.29076844453811646 and parameters: {'lr': 0.00998291287825386, 'dropout_prob': 0.44565689940354536, 'hidden_channels': 171, 'n_layers': 4, 'kernel_size': 5, 'stride': 4, 'padding': 4, 'pooling_type': 'max', 'use_batch_norm': True}. Best is trial 24 with value: 0.11209205910563469.\n"
     ]
    },
    {
     "name": "stdout",
     "output_type": "stream",
     "text": [
      "Epoch 50/50, Training Loss: 0.3856714963912964, Validation Loss: 0.29076844453811646\n",
      "Epoch 10/50, Training Loss: 0.560694795846939, Validation Loss: 0.4049019068479538\n",
      "Epoch 20/50, Training Loss: 0.48152571320533755, Validation Loss: 0.33831748366355896\n",
      "Epoch 30/50, Training Loss: 0.39571828842163087, Validation Loss: 0.23809681460261345\n",
      "Epoch 40/50, Training Loss: 0.4637687087059021, Validation Loss: 0.33175236731767654\n"
     ]
    },
    {
     "name": "stderr",
     "output_type": "stream",
     "text": [
      "[I 2024-06-04 15:33:06,758] Trial 99 finished with value: 0.3481798395514488 and parameters: {'lr': 0.007645722744081645, 'dropout_prob': 0.4679224910840059, 'hidden_channels': 145, 'n_layers': 5, 'kernel_size': 5, 'stride': 3, 'padding': 7, 'pooling_type': 'max', 'use_batch_norm': False}. Best is trial 24 with value: 0.11209205910563469.\n"
     ]
    },
    {
     "name": "stdout",
     "output_type": "stream",
     "text": [
      "Epoch 50/50, Training Loss: 0.43611483573913573, Validation Loss: 0.3481798395514488\n"
     ]
    }
   ],
   "source": [
    "# Create an Optuna study with SQLite storage and TPE pruner\n",
    "study = optuna.create_study(\n",
    "    study_name=\"Case#11: Force Press In: Updated Clasees\",\n",
    "    direction=\"minimize\",  # Minimize final validation loss\n",
    "    storage=\"sqlite:///../../database_sqllite//db.sqlite3\",\n",
    "    pruner=optuna.pruners.MedianPruner(n_warmup_steps=5),  \n",
    ")\n",
    "\n",
    "# Define the number of trials (hyperparameter combinations) you want to search\n",
    "num_trials = 100  \n",
    "\n",
    "# Perform hyperparameter optimization\n",
    "study.optimize(objective, n_trials=num_trials, n_jobs=1)\n"
   ]
  },
  {
   "cell_type": "code",
   "execution_count": 12,
   "metadata": {},
   "outputs": [
    {
     "name": "stdout",
     "output_type": "stream",
     "text": [
      "Best hyperparameters:\n",
      "{'lr': 0.0027027086391409297, 'dropout_prob': 0.45718430173518243, 'hidden_channels': 88, 'n_layers': 4, 'kernel_size': 8, 'stride': 2, 'padding': 5, 'pooling_type': 'max', 'use_batch_norm': True}\n",
      "Best final validation loss:\n",
      "0.11209205910563469\n"
     ]
    }
   ],
   "source": [
    "# Print the best hyperparameters and their associated final validation loss\n",
    "print(\"Best hyperparameters:\")\n",
    "print(study.best_params)\n",
    "print(\"Best final validation loss:\")\n",
    "print(study.best_value)"
   ]
  },
  {
   "cell_type": "code",
   "execution_count": 14,
   "metadata": {},
   "outputs": [],
   "source": [
    "# Specify the path where you want to save the JSON file\n",
    "config_file_path = \"../best_configs/force_press_in_best_configs_updated_classes.json\"\n"
   ]
  },
  {
   "cell_type": "code",
   "execution_count": 16,
   "metadata": {},
   "outputs": [],
   "source": [
    "\n",
    "# Load the saved configuration\n",
    "with open(config_file_path, \"r\") as config_file:\n",
    "    saved_configs = json.load(config_file)\n",
    "\n",
    "# Compare the new best value with the saved one\n",
    "if study.best_value < saved_configs[\"best_value\"]:\n",
    "    print(\"New best value found. Replacing saved configuration.\")\n",
    "    saved_configs[\"best_params\"] = study.best_params\n",
    "    saved_configs[\"best_value\"] = study.best_value\n",
    "\n",
    "    # Update the saved configuration file\n",
    "    with open(config_file_path, \"w\") as config_file:\n",
    "        json.dump(saved_configs, config_file)"
   ]
  },
  {
   "cell_type": "code",
   "execution_count": 15,
   "metadata": {},
   "outputs": [],
   "source": [
    "# Save the best hyperparameters and validation loss to a JSON file\n",
    "best_configs = {\n",
    "    \"best_params\": study.best_params,\n",
    "    \"best_value\": study.best_value,\n",
    "}\n",
    "\n",
    "with open(config_file_path, \"w\") as config_file:\n",
    "    json.dump(best_configs, config_file)"
   ]
  },
  {
   "cell_type": "markdown",
   "metadata": {},
   "source": [
    "# Thank You"
   ]
  }
 ],
 "metadata": {
  "kernelspec": {
   "display_name": ".aifaps",
   "language": "python",
   "name": "python3"
  },
  "language_info": {
   "codemirror_mode": {
    "name": "ipython",
    "version": 3
   },
   "file_extension": ".py",
   "mimetype": "text/x-python",
   "name": "python",
   "nbconvert_exporter": "python",
   "pygments_lexer": "ipython3",
   "version": "3.11.9"
  },
  "orig_nbformat": 4
 },
 "nbformat": 4,
 "nbformat_minor": 2
}
