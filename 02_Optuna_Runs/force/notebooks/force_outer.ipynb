{
 "cells": [
  {
   "cell_type": "code",
   "execution_count": 2,
   "metadata": {},
   "outputs": [],
   "source": [
    "#---import libraries relating to data manipulation, visualization---------------------------------------------------\n",
    "import pandas as pd\n",
    "%matplotlib inline\n",
    "import numpy as np\n",
    "import json\n",
    "\n",
    "\n",
    "#-------import libraries to evaluate the deep learning model---------------------------------------------------------------\n",
    "from sklearn.model_selection import train_test_split\n",
    "\n",
    "\n",
    "import warnings\n",
    "warnings.filterwarnings('ignore')\n",
    "\n",
    "#------ import Deep Learning Libraries-------#\n",
    "\n",
    "import torch\n",
    "import torch.nn as nn\n",
    "import torch.optim as optim\n",
    "\n",
    "import optuna\n",
    "from optuna.trial import Trial\n",
    "\n",
    "import pickle\n",
    "\n",
    "\n",
    "pd.set_option('display.max_columns', None)\n",
    "pd.set_option(\"max_colwidth\", None)\n",
    "\n",
    "import sys\n",
    "sys.path.append('../../../src')  # Add the 'src' directory to the path\n",
    "\n",
    "#### Import Data Loading and Processing Functions\n",
    "from multimodal.helper_functions import   reproducible_comp, get_final_df\n",
    "from multimodal.model_architecture import Generic1DCNN\n",
    "reproducible_comp()"
   ]
  },
  {
   "cell_type": "code",
   "execution_count": 4,
   "metadata": {},
   "outputs": [
    {
     "name": "stdout",
     "output_type": "stream",
     "text": [
      "Features Shape:  (1330, 1)\n",
      "Labels Shape:  (1330, 4)\n"
     ]
    }
   ],
   "source": [
    "file_path = \"../../../data/processed_data/force_outer.pkl\"\n",
    "with open(file_path, 'rb') as picklefile:\n",
    "    data = pickle.load(picklefile)\n",
    "\n",
    "features_force_outer, category_force_outer, category_names, df_force_outer = get_final_df(data, is_acc_data=0, is_multilabel=1)\n",
    "\n",
    "labels = category_force_outer.copy()\n",
    "features=features_force_outer.copy()\n",
    "print(\"Features Shape: \", features.shape)\n",
    "print(\"Labels Shape: \", labels.shape)"
   ]
  },
  {
   "cell_type": "code",
   "execution_count": 5,
   "metadata": {},
   "outputs": [
    {
     "name": "stdout",
     "output_type": "stream",
     "text": [
      "Updated Features Shape:  (1330, 150)\n"
     ]
    }
   ],
   "source": [
    "max_length = 150\n",
    "for i in range (len(features)):\n",
    "    if(len(features[i][0]<max_length)):\n",
    "        features[i][0]=np.pad(features[i][0], (0,max_length-len(features[i][0])), 'constant', constant_values=(0))\n",
    "feat= np.zeros(len(features) *max_length).reshape(-1, max_length)\n",
    "for i in range(len(features)):\n",
    "    feat[i]= np.concatenate((features[i][0]), axis=None)\n",
    "    \n",
    "\n",
    "print(\"Updated Features Shape: \", feat.shape)"
   ]
  },
  {
   "cell_type": "code",
   "execution_count": 6,
   "metadata": {},
   "outputs": [],
   "source": [
    "X_train, X_test, y_train, y_test = train_test_split(feat, labels, test_size=0.1, \n",
    "                                                    random_state=2, shuffle=True, stratify=labels)"
   ]
  },
  {
   "cell_type": "code",
   "execution_count": 7,
   "metadata": {},
   "outputs": [
    {
     "name": "stdout",
     "output_type": "stream",
     "text": [
      "(1197, 1, 150)\n",
      "(1197, 4)\n",
      "(133, 1, 150)\n",
      "(133, 4)\n"
     ]
    }
   ],
   "source": [
    "X_train = X_train.reshape(-1, 1, feat.shape[1])\n",
    "X_test = X_test.reshape(-1, 1, feat.shape[1])\n",
    "\n",
    "print(X_train.shape)\n",
    "print(y_train.shape)\n",
    "print(X_test.shape)\n",
    "print(y_test.shape)"
   ]
  },
  {
   "cell_type": "code",
   "execution_count": 8,
   "metadata": {},
   "outputs": [],
   "source": [
    "from torch.utils.data import DataLoader, TensorDataset\n",
    "\n",
    "# Convert your data to PyTorch tensors\n",
    "x_train = torch.tensor(X_train, dtype=torch.float32)\n",
    "y_train = torch.tensor(y_train, dtype=torch.long)\n",
    "\n",
    "input_channels = 1\n",
    "num_classes = 4\n",
    "\n",
    "device = torch.device(\"cuda\" if torch.cuda.is_available() else \"cpu\")\n",
    "\n",
    "# Define the objective function for hyperparameter optimization\n",
    "def objective(trial: Trial):\n",
    "    try:\n",
    "        # Define hyperparameters to search for\n",
    "        lr = trial.suggest_loguniform(\"lr\", 1e-5, 1e-2)  # Suggest a learning rate in log scale\n",
    "        dropout_prob = trial.suggest_float(\"dropout_prob\", 0.0, 0.5)\n",
    "        hidden_channels = trial.suggest_int(\"hidden_channels\", 16, 256)\n",
    "        n_layers = trial.suggest_int(\"n_layers\", 1, 7)\n",
    "        kernel_size = trial.suggest_int(\"kernel_size\", 3, 9)\n",
    "        stride = trial.suggest_int(\"stride\", 1, 7)\n",
    "        padding = trial.suggest_int(\"padding\", 1, 10)\n",
    "        pooling_type = trial.suggest_categorical(\"pooling_type\", [\"max\", \"avg\"])  \n",
    "        use_batch_norm = trial.suggest_categorical(\"use_batch_norm\", [True, False]) \n",
    "\n",
    "\n",
    "        # Split the data into training and validation sets\n",
    "        x_train_split, x_valid_split, y_train_split, y_valid_split = train_test_split(\n",
    "            x_train, y_train, test_size=0.2, random_state=42\n",
    "        )\n",
    "\n",
    "        train_dataset = TensorDataset(x_train_split, y_train_split)\n",
    "        valid_dataset = TensorDataset(x_valid_split, y_valid_split)\n",
    "\n",
    "        train_loader = DataLoader(train_dataset, batch_size=64, shuffle=True)\n",
    "        valid_loader = DataLoader(valid_dataset, batch_size=64, shuffle=False)\n",
    "\n",
    "        # Create the model with the suggested hyperparameters\n",
    "        model = Generic1DCNN(input_channels, num_classes, n_layers, kernel_size, stride, padding,\n",
    "                            hidden_channels, dropout_prob, pooling_type, use_batch_norm).to(device)\n",
    "\n",
    "        criterion = nn.BCEWithLogitsLoss()\n",
    "        optimizer = optim.Adam(model.parameters(), lr=lr)\n",
    "\n",
    "        num_epochs = 50\n",
    "\n",
    "        model.train()\n",
    "        for epoch in range(num_epochs):\n",
    "            # Training loop\n",
    "            running_loss = 0.0\n",
    "            for inputs, labels in train_loader:\n",
    "                inputs, labels = inputs.to(device), labels.to(device)\n",
    "\n",
    "                optimizer.zero_grad()\n",
    "\n",
    "                outputs = model(inputs)\n",
    "                loss = criterion(outputs, labels.float())\n",
    "                loss.backward()\n",
    "                optimizer.step()\n",
    "\n",
    "                running_loss += loss.item()\n",
    "\n",
    "            train_loss = running_loss / len(train_loader)\n",
    "\n",
    "            # Validation loss calculation (similar to training loop)\n",
    "            model.eval()\n",
    "            valid_loss = 0.0\n",
    "            with torch.no_grad():\n",
    "                for inputs_valid, labels_valid in valid_loader:\n",
    "                    inputs_valid, labels_valid = inputs_valid.to(device), labels_valid.to(device)\n",
    "                    outputs_valid = model(inputs_valid)\n",
    "                    loss_valid = criterion(outputs_valid, labels_valid.float())\n",
    "                    valid_loss += loss_valid.item()\n",
    "\n",
    "            valid_loss = valid_loss / len(valid_loader)\n",
    "            if (epoch + 1) % 10 == 0:\n",
    "                print(f\"Epoch {epoch + 1}/{num_epochs}, Training Loss: {train_loss}, Validation Loss: {valid_loss}\")\n",
    "\n",
    "        # Calculate and return the final validation loss\n",
    "        return valid_loss\n",
    "    \n",
    "    except Exception as e:\n",
    "        # Print the error for debugging purposes (optional)\n",
    "        print(f\"Trial failed with error: {e}\")\n",
    "\n",
    "        # Return a high validation loss to indicate failure\n",
    "        return 1.0  # High validation loss\n",
    "    \n"
   ]
  },
  {
   "cell_type": "code",
   "execution_count": 10,
   "metadata": {},
   "outputs": [
    {
     "name": "stderr",
     "output_type": "stream",
     "text": [
      "[I 2023-10-09 03:40:19,711] A new study created in RDB with name: Case#2: Force Outer\n"
     ]
    },
    {
     "name": "stdout",
     "output_type": "stream",
     "text": [
      "Epoch 10/50, Training Loss: 0.6538609027862549, Validation Loss: 0.6508051156997681\n",
      "Epoch 20/50, Training Loss: 0.6294435103734334, Validation Loss: 0.6275395601987839\n",
      "Epoch 30/50, Training Loss: 0.6285265326499939, Validation Loss: 0.626141294836998\n",
      "Epoch 40/50, Training Loss: 0.6285502235094707, Validation Loss: 0.6259065270423889\n"
     ]
    },
    {
     "name": "stderr",
     "output_type": "stream",
     "text": [
      "[I 2023-10-09 03:40:46,803] Trial 0 finished with value: 0.6259816288948059 and parameters: {'lr': 0.00035041330149065004, 'dropout_prob': 0.18706466857294485, 'hidden_channels': 131, 'n_layers': 7, 'kernel_size': 4, 'stride': 7, 'padding': 10, 'pooling_type': 'avg', 'use_batch_norm': True}. Best is trial 0 with value: 0.6259816288948059.\n"
     ]
    },
    {
     "name": "stdout",
     "output_type": "stream",
     "text": [
      "Epoch 50/50, Training Loss: 0.6285241842269897, Validation Loss: 0.6259816288948059\n",
      "Epoch 10/50, Training Loss: 0.6955217242240905, Validation Loss: 0.6865777373313904\n",
      "Epoch 20/50, Training Loss: 0.6865099390347799, Validation Loss: 0.6773219108581543\n",
      "Epoch 30/50, Training Loss: 0.6780013759930928, Validation Loss: 0.6687121540307999\n",
      "Epoch 40/50, Training Loss: 0.6700621008872986, Validation Loss: 0.6606368720531464\n"
     ]
    },
    {
     "name": "stderr",
     "output_type": "stream",
     "text": [
      "[I 2023-10-09 03:40:49,732] Trial 1 finished with value: 0.6530462950468063 and parameters: {'lr': 1.2862187543451002e-05, 'dropout_prob': 0.011449780355891559, 'hidden_channels': 63, 'n_layers': 1, 'kernel_size': 4, 'stride': 2, 'padding': 7, 'pooling_type': 'avg', 'use_batch_norm': False}. Best is trial 0 with value: 0.6259816288948059.\n"
     ]
    },
    {
     "name": "stdout",
     "output_type": "stream",
     "text": [
      "Epoch 50/50, Training Loss: 0.6625962138175965, Validation Loss: 0.6530462950468063\n"
     ]
    },
    {
     "name": "stderr",
     "output_type": "stream",
     "text": [
      "[I 2023-10-09 03:40:50,589] Trial 2 finished with value: 1.0 and parameters: {'lr': 0.000589504127312721, 'dropout_prob': 0.37862952991969573, 'hidden_channels': 233, 'n_layers': 4, 'kernel_size': 4, 'stride': 6, 'padding': 1, 'pooling_type': 'max', 'use_batch_norm': False}. Best is trial 0 with value: 0.6259816288948059.\n"
     ]
    },
    {
     "name": "stdout",
     "output_type": "stream",
     "text": [
      "Trial failed with error: Calculated padded input size per channel: (3). Kernel size: (4). Kernel size can't be greater than actual input size\n"
     ]
    },
    {
     "name": "stderr",
     "output_type": "stream",
     "text": [
      "[I 2023-10-09 03:40:51,322] Trial 3 finished with value: 1.0 and parameters: {'lr': 0.0005548634850001181, 'dropout_prob': 0.03138389821819976, 'hidden_channels': 147, 'n_layers': 6, 'kernel_size': 5, 'stride': 4, 'padding': 2, 'pooling_type': 'max', 'use_batch_norm': False}. Best is trial 0 with value: 0.6259816288948059.\n"
     ]
    },
    {
     "name": "stdout",
     "output_type": "stream",
     "text": [
      "Trial failed with error: max_pool1d() Invalid computed output size: 0\n",
      "Epoch 10/50, Training Loss: 0.012348258293544252, Validation Loss: 0.005719780747313052\n",
      "Epoch 20/50, Training Loss: 0.004314713614682357, Validation Loss: 0.008963703759945929\n",
      "Epoch 30/50, Training Loss: 0.004235657207027543, Validation Loss: 0.007148884702473879\n",
      "Epoch 40/50, Training Loss: 0.002466283038908538, Validation Loss: 0.00040866433118935674\n"
     ]
    },
    {
     "name": "stderr",
     "output_type": "stream",
     "text": [
      "[I 2023-10-09 03:41:13,276] Trial 4 finished with value: 0.0002563411835581064 and parameters: {'lr': 0.00307649554155128, 'dropout_prob': 0.2644689774177157, 'hidden_channels': 175, 'n_layers': 3, 'kernel_size': 9, 'stride': 1, 'padding': 8, 'pooling_type': 'avg', 'use_batch_norm': True}. Best is trial 4 with value: 0.0002563411835581064.\n"
     ]
    },
    {
     "name": "stdout",
     "output_type": "stream",
     "text": [
      "Epoch 50/50, Training Loss: 0.0019708881988966215, Validation Loss: 0.0002563411835581064\n",
      "Epoch 10/50, Training Loss: 0.11201762234171232, Validation Loss: 0.141462879255414\n",
      "Epoch 20/50, Training Loss: 0.023878358645985524, Validation Loss: 0.03886505158152431\n",
      "Epoch 30/50, Training Loss: 0.006940602239531775, Validation Loss: 0.006390581707819365\n",
      "Epoch 40/50, Training Loss: 8.814998824770252e-05, Validation Loss: 0.009208868657879066\n"
     ]
    },
    {
     "name": "stderr",
     "output_type": "stream",
     "text": [
      "[I 2023-10-09 03:41:27,874] Trial 5 finished with value: 0.010293372557043767 and parameters: {'lr': 0.00218084647216094, 'dropout_prob': 0.1124589690677199, 'hidden_channels': 151, 'n_layers': 7, 'kernel_size': 7, 'stride': 4, 'padding': 5, 'pooling_type': 'max', 'use_batch_norm': False}. Best is trial 4 with value: 0.0002563411835581064.\n"
     ]
    },
    {
     "name": "stdout",
     "output_type": "stream",
     "text": [
      "Epoch 50/50, Training Loss: 4.020534155036633e-05, Validation Loss: 0.010293372557043767\n"
     ]
    },
    {
     "name": "stderr",
     "output_type": "stream",
     "text": [
      "[I 2023-10-09 03:41:28,698] Trial 6 finished with value: 1.0 and parameters: {'lr': 3.0385585726013025e-05, 'dropout_prob': 0.3518983854671804, 'hidden_channels': 246, 'n_layers': 4, 'kernel_size': 3, 'stride': 3, 'padding': 1, 'pooling_type': 'avg', 'use_batch_norm': True}. Best is trial 4 with value: 0.0002563411835581064.\n"
     ]
    },
    {
     "name": "stdout",
     "output_type": "stream",
     "text": [
      "Trial failed with error: Given input size: (246x1x1). Calculated output size: (246x1x0). Output size is too small\n"
     ]
    },
    {
     "name": "stderr",
     "output_type": "stream",
     "text": [
      "[I 2023-10-09 03:41:29,474] Trial 7 finished with value: 1.0 and parameters: {'lr': 0.0003165777357766772, 'dropout_prob': 0.4115248879936553, 'hidden_channels': 99, 'n_layers': 4, 'kernel_size': 8, 'stride': 2, 'padding': 2, 'pooling_type': 'avg', 'use_batch_norm': False}. Best is trial 4 with value: 0.0002563411835581064.\n"
     ]
    },
    {
     "name": "stdout",
     "output_type": "stream",
     "text": [
      "Trial failed with error: Calculated padded input size per channel: (5). Kernel size: (8). Kernel size can't be greater than actual input size\n",
      "Epoch 10/50, Training Loss: 0.6369069258371989, Validation Loss: 0.6348734647035599\n",
      "Epoch 20/50, Training Loss: 0.5339095433553059, Validation Loss: 0.5249046832323074\n",
      "Epoch 30/50, Training Loss: 0.3659376084804535, Validation Loss: 0.35027775168418884\n",
      "Epoch 40/50, Training Loss: 0.22615720629692077, Validation Loss: 0.2050669975578785\n"
     ]
    },
    {
     "name": "stderr",
     "output_type": "stream",
     "text": [
      "[I 2023-10-09 03:41:52,051] Trial 8 finished with value: 0.12360572814941406 and parameters: {'lr': 1.4975437957479776e-05, 'dropout_prob': 0.40783978392922987, 'hidden_channels': 70, 'n_layers': 5, 'kernel_size': 8, 'stride': 1, 'padding': 10, 'pooling_type': 'max', 'use_batch_norm': True}. Best is trial 4 with value: 0.0002563411835581064.\n"
     ]
    },
    {
     "name": "stdout",
     "output_type": "stream",
     "text": [
      "Epoch 50/50, Training Loss: 0.14429962486028672, Validation Loss: 0.12360572814941406\n",
      "Epoch 10/50, Training Loss: 0.11429316401481629, Validation Loss: 0.08277605660259724\n",
      "Epoch 20/50, Training Loss: 0.0548350028693676, Validation Loss: 0.08039398770779371\n",
      "Epoch 30/50, Training Loss: 0.03333224343756835, Validation Loss: 0.027988091576844454\n",
      "Epoch 40/50, Training Loss: 0.02116937724252542, Validation Loss: 0.019563178764656186\n"
     ]
    },
    {
     "name": "stderr",
     "output_type": "stream",
     "text": [
      "[I 2023-10-09 03:41:58,322] Trial 9 finished with value: 0.014356968109495938 and parameters: {'lr': 0.006790282356238565, 'dropout_prob': 0.45332353897701194, 'hidden_channels': 161, 'n_layers': 1, 'kernel_size': 9, 'stride': 3, 'padding': 6, 'pooling_type': 'avg', 'use_batch_norm': False}. Best is trial 4 with value: 0.0002563411835581064.\n"
     ]
    },
    {
     "name": "stdout",
     "output_type": "stream",
     "text": [
      "Epoch 50/50, Training Loss: 0.017952941016604503, Validation Loss: 0.014356968109495938\n",
      "Epoch 10/50, Training Loss: 0.05246937290454904, Validation Loss: 0.01113635825458914\n",
      "Epoch 20/50, Training Loss: 0.0037772697241355976, Validation Loss: 0.0006230752769624814\n",
      "Epoch 30/50, Training Loss: 0.0055850333301350474, Validation Loss: 0.001005374375381507\n",
      "Epoch 40/50, Training Loss: 0.004212041772552766, Validation Loss: 0.0018139727762900293\n"
     ]
    },
    {
     "name": "stderr",
     "output_type": "stream",
     "text": [
      "[I 2023-10-09 03:42:28,222] Trial 10 finished with value: 0.0003653078638308216 and parameters: {'lr': 0.008898137480610207, 'dropout_prob': 0.2716454765651642, 'hidden_channels': 199, 'n_layers': 2, 'kernel_size': 6, 'stride': 1, 'padding': 8, 'pooling_type': 'avg', 'use_batch_norm': True}. Best is trial 4 with value: 0.0002563411835581064.\n"
     ]
    },
    {
     "name": "stdout",
     "output_type": "stream",
     "text": [
      "Epoch 50/50, Training Loss: 0.003214666219234156, Validation Loss: 0.0003653078638308216\n",
      "Epoch 10/50, Training Loss: 0.013455415439481536, Validation Loss: 0.008615492843091488\n",
      "Epoch 20/50, Training Loss: 0.031435625379284224, Validation Loss: 0.0030556101992260665\n",
      "Epoch 30/50, Training Loss: 0.006390665972139687, Validation Loss: 0.009828457317780703\n",
      "Epoch 40/50, Training Loss: 0.0035376830278740575, Validation Loss: 0.00012378960764181102\n"
     ]
    },
    {
     "name": "stderr",
     "output_type": "stream",
     "text": [
      "[I 2023-10-09 03:42:58,203] Trial 11 finished with value: 0.003602717799367383 and parameters: {'lr': 0.009715473194823127, 'dropout_prob': 0.27284799132624815, 'hidden_channels': 198, 'n_layers': 2, 'kernel_size': 7, 'stride': 1, 'padding': 8, 'pooling_type': 'avg', 'use_batch_norm': True}. Best is trial 4 with value: 0.0002563411835581064.\n"
     ]
    },
    {
     "name": "stdout",
     "output_type": "stream",
     "text": [
      "Epoch 50/50, Training Loss: 0.0017068754411108482, Validation Loss: 0.003602717799367383\n",
      "Epoch 10/50, Training Loss: 0.006974186631850898, Validation Loss: 0.0075686516356654465\n",
      "Epoch 20/50, Training Loss: 0.0066434713973042864, Validation Loss: 0.0013462062634062022\n",
      "Epoch 30/50, Training Loss: 0.0035760935890721155, Validation Loss: 0.001621564559172839\n",
      "Epoch 40/50, Training Loss: 0.0015406765004930397, Validation Loss: 0.0006020223518135026\n"
     ]
    },
    {
     "name": "stderr",
     "output_type": "stream",
     "text": [
      "[I 2023-10-09 03:43:37,185] Trial 12 finished with value: 0.0037145728420000523 and parameters: {'lr': 0.0030127253384366775, 'dropout_prob': 0.28044267050659877, 'hidden_channels': 198, 'n_layers': 3, 'kernel_size': 6, 'stride': 1, 'padding': 8, 'pooling_type': 'avg', 'use_batch_norm': True}. Best is trial 4 with value: 0.0002563411835581064.\n"
     ]
    },
    {
     "name": "stdout",
     "output_type": "stream",
     "text": [
      "Epoch 50/50, Training Loss: 0.005029907045051611, Validation Loss: 0.0037145728420000523\n",
      "Epoch 10/50, Training Loss: 0.024206804111599922, Validation Loss: 0.01813860540278256\n",
      "Epoch 20/50, Training Loss: 0.006494500472520788, Validation Loss: 0.009196098428219557\n",
      "Epoch 30/50, Training Loss: 0.003844651102554053, Validation Loss: 0.0028077033784938976\n",
      "Epoch 40/50, Training Loss: 0.010321525639543931, Validation Loss: 0.004444069883902557\n"
     ]
    },
    {
     "name": "stderr",
     "output_type": "stream",
     "text": [
      "[I 2023-10-09 03:43:47,403] Trial 13 finished with value: 0.00046607701369794086 and parameters: {'lr': 0.0023798529496335446, 'dropout_prob': 0.19401726374883216, 'hidden_channels': 198, 'n_layers': 2, 'kernel_size': 6, 'stride': 2, 'padding': 5, 'pooling_type': 'avg', 'use_batch_norm': True}. Best is trial 4 with value: 0.0002563411835581064.\n"
     ]
    },
    {
     "name": "stdout",
     "output_type": "stream",
     "text": [
      "Epoch 50/50, Training Loss: 0.0013896294947092732, Validation Loss: 0.00046607701369794086\n",
      "Epoch 10/50, Training Loss: 0.017752571993817887, Validation Loss: 0.01902674022130668\n",
      "Epoch 20/50, Training Loss: 0.010859594967526694, Validation Loss: 0.002838437634636648\n",
      "Epoch 30/50, Training Loss: 0.006363286330209424, Validation Loss: 0.008301161113195121\n",
      "Epoch 40/50, Training Loss: 0.009042539627989754, Validation Loss: 0.0037099860928719863\n"
     ]
    },
    {
     "name": "stderr",
     "output_type": "stream",
     "text": [
      "[I 2023-10-09 03:43:51,234] Trial 14 finished with value: 0.0036394663748069433 and parameters: {'lr': 0.008538020467289529, 'dropout_prob': 0.33103102654165417, 'hidden_channels': 17, 'n_layers': 3, 'kernel_size': 9, 'stride': 5, 'padding': 8, 'pooling_type': 'avg', 'use_batch_norm': True}. Best is trial 4 with value: 0.0002563411835581064.\n"
     ]
    },
    {
     "name": "stdout",
     "output_type": "stream",
     "text": [
      "Epoch 50/50, Training Loss: 0.00213420340733137, Validation Loss: 0.0036394663748069433\n",
      "Epoch 10/50, Training Loss: 0.04204942298432191, Validation Loss: 0.03224180266261101\n",
      "Epoch 20/50, Training Loss: 0.013125500796983639, Validation Loss: 0.011179329943843186\n",
      "Epoch 30/50, Training Loss: 0.006983556202612817, Validation Loss: 0.005133879836648703\n",
      "Epoch 40/50, Training Loss: 0.009452616050839423, Validation Loss: 0.015260513173416257\n"
     ]
    },
    {
     "name": "stderr",
     "output_type": "stream",
     "text": [
      "[I 2023-10-09 03:44:08,374] Trial 15 finished with value: 0.002961691963719204 and parameters: {'lr': 0.001253700338453323, 'dropout_prob': 0.49146193082157014, 'hidden_channels': 178, 'n_layers': 2, 'kernel_size': 7, 'stride': 3, 'padding': 9, 'pooling_type': 'avg', 'use_batch_norm': True}. Best is trial 4 with value: 0.0002563411835581064.\n"
     ]
    },
    {
     "name": "stdout",
     "output_type": "stream",
     "text": [
      "Epoch 50/50, Training Loss: 0.004875477995180215, Validation Loss: 0.002961691963719204\n",
      "Epoch 10/50, Training Loss: 0.01128824648912996, Validation Loss: 0.004500018956605345\n",
      "Epoch 20/50, Training Loss: 0.006338068117232373, Validation Loss: 0.0009787997842067853\n",
      "Epoch 30/50, Training Loss: 0.024132835833976667, Validation Loss: 0.005817956989631057\n",
      "Epoch 40/50, Training Loss: 0.004138954996597022, Validation Loss: 0.000709242289303802\n"
     ]
    },
    {
     "name": "stderr",
     "output_type": "stream",
     "text": [
      "[I 2023-10-09 03:44:50,863] Trial 16 finished with value: 0.003100123314652592 and parameters: {'lr': 0.005174356443876302, 'dropout_prob': 0.2188757841139342, 'hidden_channels': 225, 'n_layers': 3, 'kernel_size': 5, 'stride': 1, 'padding': 6, 'pooling_type': 'avg', 'use_batch_norm': True}. Best is trial 4 with value: 0.0002563411835581064.\n"
     ]
    },
    {
     "name": "stdout",
     "output_type": "stream",
     "text": [
      "Epoch 50/50, Training Loss: 0.03466906004274885, Validation Loss: 0.003100123314652592\n",
      "Epoch 10/50, Training Loss: 0.03554646425570051, Validation Loss: 0.07358095375820994\n",
      "Epoch 20/50, Training Loss: 0.003994899578780557, Validation Loss: 0.0027920325301238336\n",
      "Epoch 30/50, Training Loss: 0.006601361243519932, Validation Loss: 0.0030206411465769634\n",
      "Epoch 40/50, Training Loss: 0.001267482697342833, Validation Loss: 0.0009003824816318229\n"
     ]
    },
    {
     "name": "stderr",
     "output_type": "stream",
     "text": [
      "[I 2023-10-09 03:45:07,703] Trial 17 finished with value: 0.0016289286159008043 and parameters: {'lr': 0.0010811872367272257, 'dropout_prob': 0.30222478691507676, 'hidden_channels': 111, 'n_layers': 5, 'kernel_size': 8, 'stride': 2, 'padding': 7, 'pooling_type': 'avg', 'use_batch_norm': True}. Best is trial 4 with value: 0.0002563411835581064.\n"
     ]
    },
    {
     "name": "stdout",
     "output_type": "stream",
     "text": [
      "Epoch 50/50, Training Loss: 0.00012214283293966824, Validation Loss: 0.0016289286159008043\n",
      "Epoch 10/50, Training Loss: 0.013185245885203282, Validation Loss: 0.009110768209211528\n",
      "Epoch 20/50, Training Loss: 0.007154942109870414, Validation Loss: 0.007606336352182552\n",
      "Epoch 30/50, Training Loss: 0.003929732949472964, Validation Loss: 0.010186095896642655\n",
      "Epoch 40/50, Training Loss: 0.002275424654362723, Validation Loss: 0.0066047654108842835\n",
      "Epoch 50/50, Training Loss: 0.0013300357231249412, Validation Loss: 0.005409477551438613\n"
     ]
    },
    {
     "name": "stderr",
     "output_type": "stream",
     "text": [
      "[I 2023-10-09 03:45:12,666] Trial 18 finished with value: 0.005409477551438613 and parameters: {'lr': 0.0041272610431081005, 'dropout_prob': 0.24099275594162073, 'hidden_channels': 175, 'n_layers': 2, 'kernel_size': 5, 'stride': 5, 'padding': 4, 'pooling_type': 'max', 'use_batch_norm': True}. Best is trial 4 with value: 0.0002563411835581064.\n"
     ]
    },
    {
     "name": "stdout",
     "output_type": "stream",
     "text": [
      "Epoch 10/50, Training Loss: 0.09975819538036983, Validation Loss: 0.07585202530026436\n",
      "Epoch 20/50, Training Loss: 0.0459618969509999, Validation Loss: 0.037446504924446344\n",
      "Epoch 30/50, Training Loss: 0.024963237221042316, Validation Loss: 0.021064062137156725\n",
      "Epoch 40/50, Training Loss: 0.016883029167850814, Validation Loss: 0.018694082158617675\n"
     ]
    },
    {
     "name": "stderr",
     "output_type": "stream",
     "text": [
      "[I 2023-10-09 03:45:16,862] Trial 19 finished with value: 0.010540518094785511 and parameters: {'lr': 0.004627439557053136, 'dropout_prob': 0.31482976967929455, 'hidden_channels': 221, 'n_layers': 1, 'kernel_size': 6, 'stride': 3, 'padding': 9, 'pooling_type': 'avg', 'use_batch_norm': True}. Best is trial 4 with value: 0.0002563411835581064.\n"
     ]
    },
    {
     "name": "stdout",
     "output_type": "stream",
     "text": [
      "Epoch 50/50, Training Loss: 0.011300518612066905, Validation Loss: 0.010540518094785511\n",
      "Epoch 10/50, Training Loss: 0.013612988373885552, Validation Loss: 0.008849356905557215\n",
      "Epoch 20/50, Training Loss: 0.0044032199773937465, Validation Loss: 0.0031907240336295217\n",
      "Epoch 30/50, Training Loss: 0.007335835214083393, Validation Loss: 0.03932606475427747\n",
      "Epoch 40/50, Training Loss: 0.0024533924263475154, Validation Loss: 0.0014766503663850017\n"
     ]
    },
    {
     "name": "stderr",
     "output_type": "stream",
     "text": [
      "[I 2023-10-09 03:45:46,133] Trial 20 finished with value: 0.0025359602223034017 and parameters: {'lr': 0.00167313442405387, 'dropout_prob': 0.24287589642022717, 'hidden_channels': 254, 'n_layers': 3, 'kernel_size': 9, 'stride': 1, 'padding': 4, 'pooling_type': 'avg', 'use_batch_norm': True}. Best is trial 4 with value: 0.0002563411835581064.\n"
     ]
    },
    {
     "name": "stdout",
     "output_type": "stream",
     "text": [
      "Epoch 50/50, Training Loss: 0.00218571448106862, Validation Loss: 0.0025359602223034017\n",
      "Epoch 10/50, Training Loss: 0.021374473969141643, Validation Loss: 0.016411612974479795\n",
      "Epoch 20/50, Training Loss: 0.007406324148178101, Validation Loss: 0.003622680756961927\n",
      "Epoch 30/50, Training Loss: 0.00853813833091408, Validation Loss: 0.0015612378483638167\n",
      "Epoch 40/50, Training Loss: 0.0022608226417408636, Validation Loss: 0.0008654118137201294\n"
     ]
    },
    {
     "name": "stderr",
     "output_type": "stream",
     "text": [
      "[I 2023-10-09 03:45:56,530] Trial 21 finished with value: 0.0012441964863683097 and parameters: {'lr': 0.002980178532434437, 'dropout_prob': 0.19015854288579698, 'hidden_channels': 200, 'n_layers': 2, 'kernel_size': 6, 'stride': 2, 'padding': 5, 'pooling_type': 'avg', 'use_batch_norm': True}. Best is trial 4 with value: 0.0002563411835581064.\n"
     ]
    },
    {
     "name": "stdout",
     "output_type": "stream",
     "text": [
      "Epoch 50/50, Training Loss: 0.0009372469057173778, Validation Loss: 0.0012441964863683097\n",
      "Epoch 10/50, Training Loss: 0.02934457709391912, Validation Loss: 0.030103315599262714\n",
      "Epoch 20/50, Training Loss: 0.008666807506233453, Validation Loss: 0.004925001761876047\n",
      "Epoch 30/50, Training Loss: 0.003977856792819996, Validation Loss: 0.002673267910722643\n",
      "Epoch 40/50, Training Loss: 0.005882813133454571, Validation Loss: 0.0035784741048701108\n"
     ]
    },
    {
     "name": "stderr",
     "output_type": "stream",
     "text": [
      "[I 2023-10-09 03:46:12,469] Trial 22 finished with value: 0.0016597362700849771 and parameters: {'lr': 0.0024364344591631605, 'dropout_prob': 0.1649650026899998, 'hidden_channels': 181, 'n_layers': 2, 'kernel_size': 6, 'stride': 2, 'padding': 7, 'pooling_type': 'avg', 'use_batch_norm': True}. Best is trial 4 with value: 0.0002563411835581064.\n"
     ]
    },
    {
     "name": "stdout",
     "output_type": "stream",
     "text": [
      "Epoch 50/50, Training Loss: 0.0020999746726981052, Validation Loss: 0.0016597362700849771\n",
      "Epoch 10/50, Training Loss: 0.013836136048970124, Validation Loss: 0.013243263820186257\n",
      "Epoch 20/50, Training Loss: 0.005959221643085281, Validation Loss: 0.004478055132494774\n",
      "Epoch 30/50, Training Loss: 0.010781347920419649, Validation Loss: 0.0026475706545170397\n",
      "Epoch 40/50, Training Loss: 0.0074617240500325956, Validation Loss: 0.001857151321019046\n"
     ]
    },
    {
     "name": "stderr",
     "output_type": "stream",
     "text": [
      "[I 2023-10-09 03:47:00,017] Trial 23 finished with value: 7.942831052787369e-05 and parameters: {'lr': 0.009462194252797016, 'dropout_prob': 0.26677255105863307, 'hidden_channels': 211, 'n_layers': 3, 'kernel_size': 7, 'stride': 1, 'padding': 9, 'pooling_type': 'avg', 'use_batch_norm': True}. Best is trial 23 with value: 7.942831052787369e-05.\n"
     ]
    },
    {
     "name": "stdout",
     "output_type": "stream",
     "text": [
      "Epoch 50/50, Training Loss: 0.004397579269910541, Validation Loss: 7.942831052787369e-05\n",
      "Epoch 10/50, Training Loss: 0.006812566293713947, Validation Loss: 0.0019533208396751434\n",
      "Epoch 20/50, Training Loss: 0.003356561344116926, Validation Loss: 0.001099299510315177\n",
      "Epoch 30/50, Training Loss: 0.02048155782977119, Validation Loss: 0.004517770488746464\n",
      "Epoch 40/50, Training Loss: 0.004430978523062853, Validation Loss: 0.0011051358669647016\n"
     ]
    },
    {
     "name": "stderr",
     "output_type": "stream",
     "text": [
      "[I 2023-10-09 03:47:51,048] Trial 24 finished with value: 4.231342154525919e-05 and parameters: {'lr': 0.008653109922588331, 'dropout_prob': 0.2900853017037202, 'hidden_channels': 220, 'n_layers': 3, 'kernel_size': 7, 'stride': 1, 'padding': 9, 'pooling_type': 'avg', 'use_batch_norm': True}. Best is trial 24 with value: 4.231342154525919e-05.\n"
     ]
    },
    {
     "name": "stdout",
     "output_type": "stream",
     "text": [
      "Epoch 50/50, Training Loss: 0.0009344414776326933, Validation Loss: 4.231342154525919e-05\n",
      "Epoch 10/50, Training Loss: 0.012260815307187537, Validation Loss: 0.009104506694711745\n",
      "Epoch 20/50, Training Loss: 0.004832060332410038, Validation Loss: 0.0010718086268752813\n",
      "Epoch 30/50, Training Loss: 0.005481510256261876, Validation Loss: 0.001004908190225251\n",
      "Epoch 40/50, Training Loss: 0.0031589437761188797, Validation Loss: 9.641596625442617e-05\n"
     ]
    },
    {
     "name": "stderr",
     "output_type": "stream",
     "text": [
      "[I 2023-10-09 03:49:19,088] Trial 25 finished with value: 0.03889497765339911 and parameters: {'lr': 0.004890678655848679, 'dropout_prob': 0.3273702740669491, 'hidden_channels': 224, 'n_layers': 5, 'kernel_size': 8, 'stride': 1, 'padding': 9, 'pooling_type': 'avg', 'use_batch_norm': True}. Best is trial 24 with value: 4.231342154525919e-05.\n"
     ]
    },
    {
     "name": "stdout",
     "output_type": "stream",
     "text": [
      "Epoch 50/50, Training Loss: 0.008181857754243538, Validation Loss: 0.03889497765339911\n",
      "Epoch 10/50, Training Loss: 0.0065709739224985245, Validation Loss: 0.0008947855094447732\n",
      "Epoch 20/50, Training Loss: 0.0010992514745642743, Validation Loss: 0.0005369367245293688\n",
      "Epoch 30/50, Training Loss: 0.01021541337298307, Validation Loss: 0.0009236807964043692\n",
      "Epoch 40/50, Training Loss: 0.0008747183387943854, Validation Loss: 0.0006360092265822459\n"
     ]
    },
    {
     "name": "stderr",
     "output_type": "stream",
     "text": [
      "[I 2023-10-09 03:49:51,034] Trial 26 finished with value: 0.02154691139003262 and parameters: {'lr': 0.00936838898392466, 'dropout_prob': 0.28577197687195827, 'hidden_channels': 210, 'n_layers': 3, 'kernel_size': 7, 'stride': 2, 'padding': 10, 'pooling_type': 'max', 'use_batch_norm': True}. Best is trial 24 with value: 4.231342154525919e-05.\n"
     ]
    },
    {
     "name": "stdout",
     "output_type": "stream",
     "text": [
      "Epoch 50/50, Training Loss: 0.002382045232419235, Validation Loss: 0.02154691139003262\n",
      "Epoch 10/50, Training Loss: 0.004749625824236621, Validation Loss: 0.0006575865118065849\n",
      "Epoch 20/50, Training Loss: 0.028919109158838788, Validation Loss: 0.007731019897619262\n",
      "Epoch 30/50, Training Loss: 0.02061687818010493, Validation Loss: 0.0025035013095475733\n",
      "Epoch 40/50, Training Loss: 0.003648576315754326, Validation Loss: 0.00384901138022542\n"
     ]
    },
    {
     "name": "stderr",
     "output_type": "stream",
     "text": [
      "[I 2023-10-09 03:50:27,870] Trial 27 finished with value: 0.0022088757050369168 and parameters: {'lr': 0.00494199108470958, 'dropout_prob': 0.3572251722944836, 'hidden_channels': 129, 'n_layers': 4, 'kernel_size': 8, 'stride': 1, 'padding': 9, 'pooling_type': 'avg', 'use_batch_norm': True}. Best is trial 24 with value: 4.231342154525919e-05.\n"
     ]
    },
    {
     "name": "stdout",
     "output_type": "stream",
     "text": [
      "Epoch 50/50, Training Loss: 0.0034759395489648644, Validation Loss: 0.0022088757050369168\n",
      "Epoch 10/50, Training Loss: 0.012879764253739268, Validation Loss: 0.0008935964287957177\n",
      "Epoch 20/50, Training Loss: 0.05663695063752432, Validation Loss: 0.008063509943895042\n",
      "Epoch 30/50, Training Loss: 0.00383847652701661, Validation Loss: 0.0022669576574116945\n",
      "Epoch 40/50, Training Loss: 0.0029351751300055184, Validation Loss: 0.002872805933293421\n"
     ]
    },
    {
     "name": "stderr",
     "output_type": "stream",
     "text": [
      "[I 2023-10-09 03:51:02,157] Trial 28 finished with value: 0.005346681682567578 and parameters: {'lr': 0.00574386642026875, 'dropout_prob': 0.24732213084385923, 'hidden_channels': 244, 'n_layers': 3, 'kernel_size': 7, 'stride': 3, 'padding': 10, 'pooling_type': 'avg', 'use_batch_norm': True}. Best is trial 24 with value: 4.231342154525919e-05.\n"
     ]
    },
    {
     "name": "stdout",
     "output_type": "stream",
     "text": [
      "Epoch 50/50, Training Loss: 0.0027970523351541488, Validation Loss: 0.005346681682567578\n",
      "Epoch 10/50, Training Loss: 0.012459104042500257, Validation Loss: 0.023886588402092457\n",
      "Epoch 20/50, Training Loss: 0.004718626981290678, Validation Loss: 0.004501537518081022\n",
      "Epoch 30/50, Training Loss: 0.006691519074956886, Validation Loss: 0.006612441487959586\n",
      "Epoch 40/50, Training Loss: 0.001840469387631553, Validation Loss: 0.004458531648197095\n"
     ]
    },
    {
     "name": "stderr",
     "output_type": "stream",
     "text": [
      "[I 2023-10-09 03:51:37,775] Trial 29 finished with value: 0.001088933102437295 and parameters: {'lr': 0.0034882982665879986, 'dropout_prob': 0.2969697397965951, 'hidden_channels': 170, 'n_layers': 4, 'kernel_size': 9, 'stride': 6, 'padding': 10, 'pooling_type': 'avg', 'use_batch_norm': True}. Best is trial 24 with value: 4.231342154525919e-05.\n"
     ]
    },
    {
     "name": "stdout",
     "output_type": "stream",
     "text": [
      "Epoch 50/50, Training Loss: 0.002980079276797672, Validation Loss: 0.001088933102437295\n",
      "Epoch 10/50, Training Loss: 0.005510304018389434, Validation Loss: 0.0031760670826770365\n",
      "Epoch 20/50, Training Loss: 0.007917337007044504, Validation Loss: 0.0016465548396809027\n",
      "Epoch 30/50, Training Loss: 0.006764460556829969, Validation Loss: 0.0026434268365846947\n",
      "Epoch 40/50, Training Loss: 0.004814644877721245, Validation Loss: 0.02010402362793684\n"
     ]
    },
    {
     "name": "stderr",
     "output_type": "stream",
     "text": [
      "[I 2023-10-09 03:52:00,537] Trial 30 finished with value: 0.00013959786201667157 and parameters: {'lr': 0.006341198478227024, 'dropout_prob': 0.15240410562081985, 'hidden_channels': 183, 'n_layers': 3, 'kernel_size': 8, 'stride': 7, 'padding': 9, 'pooling_type': 'avg', 'use_batch_norm': True}. Best is trial 24 with value: 4.231342154525919e-05.\n"
     ]
    },
    {
     "name": "stdout",
     "output_type": "stream",
     "text": [
      "Epoch 50/50, Training Loss: 0.0017583655695489141, Validation Loss: 0.00013959786201667157\n",
      "Epoch 10/50, Training Loss: 0.013031819423971077, Validation Loss: 0.002117162657668814\n",
      "Epoch 20/50, Training Loss: 0.06864754074874023, Validation Loss: 0.023587791481986642\n",
      "Epoch 30/50, Training Loss: 0.006051313042310842, Validation Loss: 0.00039516248580184765\n",
      "Epoch 40/50, Training Loss: 0.00014500159910918836, Validation Loss: 8.106499308269122e-05\n"
     ]
    },
    {
     "name": "stderr",
     "output_type": "stream",
     "text": [
      "[I 2023-10-09 03:52:19,574] Trial 31 finished with value: 0.007164664595620707 and parameters: {'lr': 0.006441762490185516, 'dropout_prob': 0.14871749541424042, 'hidden_channels': 136, 'n_layers': 3, 'kernel_size': 8, 'stride': 7, 'padding': 9, 'pooling_type': 'avg', 'use_batch_norm': True}. Best is trial 24 with value: 4.231342154525919e-05.\n"
     ]
    },
    {
     "name": "stdout",
     "output_type": "stream",
     "text": [
      "Epoch 50/50, Training Loss: 0.0067757818986137865, Validation Loss: 0.007164664595620707\n",
      "Epoch 10/50, Training Loss: 0.007382816557462017, Validation Loss: 0.011402105184970424\n",
      "Epoch 20/50, Training Loss: 0.07408915578077237, Validation Loss: 0.025400474900379777\n",
      "Epoch 30/50, Training Loss: 0.010602303854345034, Validation Loss: 0.04702095309039578\n",
      "Epoch 40/50, Training Loss: 0.002363945339554145, Validation Loss: 0.0004837109809159301\n"
     ]
    },
    {
     "name": "stderr",
     "output_type": "stream",
     "text": [
      "[I 2023-10-09 03:52:35,497] Trial 32 finished with value: 3.84540601316985e-05 and parameters: {'lr': 0.009637047530151996, 'dropout_prob': 0.22074009963596744, 'hidden_channels': 183, 'n_layers': 4, 'kernel_size': 9, 'stride': 5, 'padding': 7, 'pooling_type': 'avg', 'use_batch_norm': True}. Best is trial 32 with value: 3.84540601316985e-05.\n"
     ]
    },
    {
     "name": "stdout",
     "output_type": "stream",
     "text": [
      "Epoch 50/50, Training Loss: 3.579096625495974e-05, Validation Loss: 3.84540601316985e-05\n",
      "Epoch 10/50, Training Loss: 0.051282820167640845, Validation Loss: 0.013407580787315965\n",
      "Epoch 20/50, Training Loss: 0.009219022335795064, Validation Loss: 0.0012404643493937328\n",
      "Epoch 30/50, Training Loss: 0.03378034682633976, Validation Loss: 0.014417167287319899\n",
      "Epoch 40/50, Training Loss: 0.006389451443586343, Validation Loss: 0.0004370591414044611\n"
     ]
    },
    {
     "name": "stderr",
     "output_type": "stream",
     "text": [
      "[I 2023-10-09 03:53:16,732] Trial 33 finished with value: 0.001269866646907758 and parameters: {'lr': 0.006887255251799815, 'dropout_prob': 0.2054061602746502, 'hidden_channels': 234, 'n_layers': 4, 'kernel_size': 7, 'stride': 7, 'padding': 7, 'pooling_type': 'avg', 'use_batch_norm': True}. Best is trial 32 with value: 3.84540601316985e-05.\n"
     ]
    },
    {
     "name": "stdout",
     "output_type": "stream",
     "text": [
      "Epoch 50/50, Training Loss: 0.007558041050409277, Validation Loss: 0.001269866646907758\n",
      "Epoch 10/50, Training Loss: 0.0927614430586497, Validation Loss: 0.16423657536506653\n",
      "Epoch 20/50, Training Loss: 0.01832261656721433, Validation Loss: 0.005942131509073079\n",
      "Epoch 30/50, Training Loss: 0.01201727082322274, Validation Loss: 0.02430584072135389\n",
      "Epoch 40/50, Training Loss: 0.0044295017602659454, Validation Loss: 0.0003331570369482506\n"
     ]
    },
    {
     "name": "stderr",
     "output_type": "stream",
     "text": [
      "[I 2023-10-09 03:54:08,130] Trial 34 finished with value: 0.007499070605263114 and parameters: {'lr': 0.00979236115507329, 'dropout_prob': 0.224610569203154, 'hidden_channels': 217, 'n_layers': 5, 'kernel_size': 8, 'stride': 6, 'padding': 9, 'pooling_type': 'avg', 'use_batch_norm': False}. Best is trial 32 with value: 3.84540601316985e-05.\n"
     ]
    },
    {
     "name": "stdout",
     "output_type": "stream",
     "text": [
      "Epoch 50/50, Training Loss: 0.00900479876048242, Validation Loss: 0.007499070605263114\n",
      "Epoch 10/50, Training Loss: 0.011090737158277382, Validation Loss: 0.0011352259825798683\n",
      "Epoch 20/50, Training Loss: 0.012968745777228226, Validation Loss: 0.0040689159141038544\n",
      "Epoch 30/50, Training Loss: 0.003697712241652577, Validation Loss: 0.0006114116695243865\n",
      "Epoch 40/50, Training Loss: 0.0004887152157607488, Validation Loss: 0.00020961353311577113\n"
     ]
    },
    {
     "name": "stderr",
     "output_type": "stream",
     "text": [
      "[I 2023-10-09 03:54:23,838] Trial 35 finished with value: 3.756659134523943e-05 and parameters: {'lr': 0.004234276056684888, 'dropout_prob': 0.13154903778221755, 'hidden_channels': 187, 'n_layers': 4, 'kernel_size': 9, 'stride': 5, 'padding': 8, 'pooling_type': 'max', 'use_batch_norm': True}. Best is trial 35 with value: 3.756659134523943e-05.\n"
     ]
    },
    {
     "name": "stdout",
     "output_type": "stream",
     "text": [
      "Epoch 50/50, Training Loss: 2.8425477103155573e-05, Validation Loss: 3.756659134523943e-05\n"
     ]
    },
    {
     "name": "stderr",
     "output_type": "stream",
     "text": [
      "[I 2023-10-09 03:54:24,743] Trial 36 finished with value: 1.0 and parameters: {'lr': 0.004180387193290531, 'dropout_prob': 0.12176648635144804, 'hidden_channels': 154, 'n_layers': 6, 'kernel_size': 9, 'stride': 5, 'padding': 6, 'pooling_type': 'max', 'use_batch_norm': False}. Best is trial 35 with value: 3.756659134523943e-05.\n"
     ]
    },
    {
     "name": "stdout",
     "output_type": "stream",
     "text": [
      "Trial failed with error: max_pool1d() Invalid computed output size: 0\n",
      "Epoch 10/50, Training Loss: 0.6295671224594116, Validation Loss: 0.6292452812194824\n",
      "Epoch 20/50, Training Loss: 0.628913938999176, Validation Loss: 0.6266789436340332\n",
      "Epoch 30/50, Training Loss: 0.62958691517512, Validation Loss: 0.6277010142803192\n",
      "Epoch 40/50, Training Loss: 0.6292740265528362, Validation Loss: 0.6268778741359711\n"
     ]
    },
    {
     "name": "stderr",
     "output_type": "stream",
     "text": [
      "[I 2023-10-09 03:54:47,020] Trial 37 finished with value: 0.6271516680717468 and parameters: {'lr': 0.00159519560151623, 'dropout_prob': 0.06717845302593539, 'hidden_channels': 211, 'n_layers': 4, 'kernel_size': 3, 'stride': 5, 'padding': 7, 'pooling_type': 'max', 'use_batch_norm': True}. Best is trial 35 with value: 3.756659134523943e-05.\n"
     ]
    },
    {
     "name": "stdout",
     "output_type": "stream",
     "text": [
      "Epoch 50/50, Training Loss: 0.6292613824208577, Validation Loss: 0.6271516680717468\n",
      "Epoch 10/50, Training Loss: 0.009370131674222648, Validation Loss: 0.023765183985233307\n",
      "Epoch 20/50, Training Loss: 0.007722896985554447, Validation Loss: 0.013974331406643614\n",
      "Epoch 30/50, Training Loss: 0.004011692393881579, Validation Loss: 0.0006340515246847644\n",
      "Epoch 40/50, Training Loss: 0.04000585120326529, Validation Loss: 0.00854992342647165\n"
     ]
    },
    {
     "name": "stderr",
     "output_type": "stream",
     "text": [
      "[I 2023-10-09 03:55:11,891] Trial 38 finished with value: 6.472215682151727e-05 and parameters: {'lr': 0.000866079501562961, 'dropout_prob': 0.22017421265240134, 'hidden_channels': 237, 'n_layers': 6, 'kernel_size': 9, 'stride': 4, 'padding': 8, 'pooling_type': 'max', 'use_batch_norm': True}. Best is trial 35 with value: 3.756659134523943e-05.\n"
     ]
    },
    {
     "name": "stdout",
     "output_type": "stream",
     "text": [
      "Epoch 50/50, Training Loss: 8.843356481520459e-05, Validation Loss: 6.472215682151727e-05\n",
      "Epoch 10/50, Training Loss: 0.22827689250310262, Validation Loss: 0.15316418558359146\n",
      "Epoch 20/50, Training Loss: 0.024647459480911495, Validation Loss: 0.03595817927271128\n",
      "Epoch 30/50, Training Loss: 0.01559335741524895, Validation Loss: 0.02791261754464358\n",
      "Epoch 40/50, Training Loss: 0.02037026829396685, Validation Loss: 0.01777824037708342\n"
     ]
    },
    {
     "name": "stderr",
     "output_type": "stream",
     "text": [
      "[I 2023-10-09 03:55:42,071] Trial 39 finished with value: 0.007357532893365715 and parameters: {'lr': 0.0007160160472432312, 'dropout_prob': 0.22555740978904615, 'hidden_channels': 242, 'n_layers': 7, 'kernel_size': 9, 'stride': 4, 'padding': 8, 'pooling_type': 'max', 'use_batch_norm': False}. Best is trial 35 with value: 3.756659134523943e-05.\n"
     ]
    },
    {
     "name": "stdout",
     "output_type": "stream",
     "text": [
      "Epoch 50/50, Training Loss: 0.0009720612123298148, Validation Loss: 0.007357532893365715\n",
      "Epoch 10/50, Training Loss: 0.1722772886355718, Validation Loss: 0.12439269758760929\n",
      "Epoch 20/50, Training Loss: 0.0442338681469361, Validation Loss: 0.02879553916864097\n",
      "Epoch 30/50, Training Loss: 0.01576031179477771, Validation Loss: 0.04685985576361418\n",
      "Epoch 40/50, Training Loss: 0.011405205462748806, Validation Loss: 0.014944180962629616\n"
     ]
    },
    {
     "name": "stderr",
     "output_type": "stream",
     "text": [
      "[I 2023-10-09 03:56:04,442] Trial 40 finished with value: 0.0423965968657285 and parameters: {'lr': 0.00044573171439365246, 'dropout_prob': 0.17032756414663314, 'hidden_channels': 235, 'n_layers': 6, 'kernel_size': 9, 'stride': 6, 'padding': 8, 'pooling_type': 'max', 'use_batch_norm': False}. Best is trial 35 with value: 3.756659134523943e-05.\n"
     ]
    },
    {
     "name": "stdout",
     "output_type": "stream",
     "text": [
      "Epoch 50/50, Training Loss: 0.006916221231222153, Validation Loss: 0.0423965968657285\n",
      "Epoch 10/50, Training Loss: 0.010550535780688127, Validation Loss: 0.006623535751714371\n",
      "Epoch 20/50, Training Loss: 0.013106912475389738, Validation Loss: 0.026316276023862883\n",
      "Epoch 30/50, Training Loss: 0.0012339155463754045, Validation Loss: 0.0013518704490707023\n",
      "Epoch 40/50, Training Loss: 0.007255376079895844, Validation Loss: 0.003672805425594561\n"
     ]
    },
    {
     "name": "stderr",
     "output_type": "stream",
     "text": [
      "[I 2023-10-09 03:56:37,678] Trial 41 finished with value: 0.0014133350703104952 and parameters: {'lr': 0.003729794071353311, 'dropout_prob': 0.264145511486896, 'hidden_channels': 210, 'n_layers': 5, 'kernel_size': 4, 'stride': 4, 'padding': 7, 'pooling_type': 'max', 'use_batch_norm': True}. Best is trial 35 with value: 3.756659134523943e-05.\n"
     ]
    },
    {
     "name": "stdout",
     "output_type": "stream",
     "text": [
      "Epoch 50/50, Training Loss: 0.0001743749188790389, Validation Loss: 0.0014133350703104952\n",
      "Epoch 10/50, Training Loss: 0.0037375103333033622, Validation Loss: 0.008971937117166817\n",
      "Epoch 20/50, Training Loss: 0.004707877788556895, Validation Loss: 0.0056919859343906865\n",
      "Epoch 30/50, Training Loss: 0.013714269836782478, Validation Loss: 0.024280515499413013\n",
      "Epoch 40/50, Training Loss: 0.0072955528408177395, Validation Loss: 0.00038946075437706895\n"
     ]
    },
    {
     "name": "stderr",
     "output_type": "stream",
     "text": [
      "[I 2023-10-09 03:56:53,994] Trial 42 finished with value: 0.007636006313987309 and parameters: {'lr': 0.006978382906665364, 'dropout_prob': 0.19219409613433058, 'hidden_channels': 189, 'n_layers': 4, 'kernel_size': 9, 'stride': 5, 'padding': 7, 'pooling_type': 'max', 'use_batch_norm': True}. Best is trial 35 with value: 3.756659134523943e-05.\n"
     ]
    },
    {
     "name": "stdout",
     "output_type": "stream",
     "text": [
      "Epoch 50/50, Training Loss: 0.00943150590270913, Validation Loss: 0.007636006313987309\n",
      "Epoch 10/50, Training Loss: 0.03496209979057312, Validation Loss: 0.030794708989560604\n",
      "Epoch 20/50, Training Loss: 0.007651364834358295, Validation Loss: 0.00541736010927707\n",
      "Epoch 30/50, Training Loss: 0.0029701679712161424, Validation Loss: 0.002424392179818824\n",
      "Epoch 40/50, Training Loss: 0.002295900935617586, Validation Loss: 0.0012292399915168062\n"
     ]
    },
    {
     "name": "stderr",
     "output_type": "stream",
     "text": [
      "[I 2023-10-09 03:57:24,858] Trial 43 finished with value: 0.0006321641994873062 and parameters: {'lr': 0.000271970148255261, 'dropout_prob': 0.2533827208958776, 'hidden_channels': 166, 'n_layers': 4, 'kernel_size': 8, 'stride': 4, 'padding': 8, 'pooling_type': 'max', 'use_batch_norm': True}. Best is trial 35 with value: 3.756659134523943e-05.\n"
     ]
    },
    {
     "name": "stdout",
     "output_type": "stream",
     "text": [
      "Epoch 50/50, Training Loss: 0.0008924876514356583, Validation Loss: 0.0006321641994873062\n",
      "Epoch 10/50, Training Loss: 0.03573653680893282, Validation Loss: 0.04557451093569398\n",
      "Epoch 20/50, Training Loss: 0.0035574035272778323, Validation Loss: 0.003841532103251666\n",
      "Epoch 30/50, Training Loss: 0.10798501844207446, Validation Loss: 0.5295373871922493\n",
      "Epoch 40/50, Training Loss: 0.02903314623981714, Validation Loss: 0.008195844769943506\n"
     ]
    },
    {
     "name": "stderr",
     "output_type": "stream",
     "text": [
      "[I 2023-10-09 03:59:03,055] Trial 44 finished with value: 0.002140892120223725 and parameters: {'lr': 0.009658236236306437, 'dropout_prob': 0.2120672080684534, 'hidden_channels': 252, 'n_layers': 6, 'kernel_size': 9, 'stride': 4, 'padding': 10, 'pooling_type': 'max', 'use_batch_norm': True}. Best is trial 35 with value: 3.756659134523943e-05.\n"
     ]
    },
    {
     "name": "stdout",
     "output_type": "stream",
     "text": [
      "Epoch 50/50, Training Loss: 0.008041564320834974, Validation Loss: 0.002140892120223725\n",
      "Epoch 10/50, Training Loss: 0.005976395188675572, Validation Loss: 0.002550230063206982\n",
      "Epoch 20/50, Training Loss: 0.03283704242979487, Validation Loss: 0.016942999558523297\n",
      "Epoch 30/50, Training Loss: 0.0014486660899516817, Validation Loss: 0.0004652053758036345\n",
      "Epoch 40/50, Training Loss: 0.0020303915817445764, Validation Loss: 0.0015220811328617856\n"
     ]
    },
    {
     "name": "stderr",
     "output_type": "stream",
     "text": [
      "[I 2023-10-09 03:59:23,001] Trial 45 finished with value: 0.000625771761406213 and parameters: {'lr': 0.0032292523119404, 'dropout_prob': 0.28268631716076204, 'hidden_channels': 231, 'n_layers': 5, 'kernel_size': 8, 'stride': 5, 'padding': 6, 'pooling_type': 'max', 'use_batch_norm': True}. Best is trial 35 with value: 3.756659134523943e-05.\n"
     ]
    },
    {
     "name": "stdout",
     "output_type": "stream",
     "text": [
      "Epoch 50/50, Training Loss: 0.0118595133125685, Validation Loss: 0.000625771761406213\n",
      "Epoch 10/50, Training Loss: 0.012506856784845392, Validation Loss: 0.0006214589484443422\n",
      "Epoch 20/50, Training Loss: 0.055853976264673595, Validation Loss: 0.01188331434968859\n",
      "Epoch 30/50, Training Loss: 0.004277366270131703, Validation Loss: 0.0016413879111496499\n",
      "Epoch 40/50, Training Loss: 0.00711852184710248, Validation Loss: 0.0005867132713319734\n"
     ]
    },
    {
     "name": "stderr",
     "output_type": "stream",
     "text": [
      "[I 2023-10-09 03:59:54,247] Trial 46 finished with value: 0.00027528491614248196 and parameters: {'lr': 0.0063236731791015514, 'dropout_prob': 0.235274008546963, 'hidden_channels': 189, 'n_layers': 4, 'kernel_size': 7, 'stride': 6, 'padding': 8, 'pooling_type': 'max', 'use_batch_norm': True}. Best is trial 35 with value: 3.756659134523943e-05.\n"
     ]
    },
    {
     "name": "stdout",
     "output_type": "stream",
     "text": [
      "Epoch 50/50, Training Loss: 4.332784683356294e-05, Validation Loss: 0.00027528491614248196\n",
      "Epoch 10/50, Training Loss: 0.17090111697713534, Validation Loss: 0.09602943621575832\n",
      "Epoch 20/50, Training Loss: 0.0362465662881732, Validation Loss: 0.019525180337950587\n",
      "Epoch 30/50, Training Loss: 0.013833401420076068, Validation Loss: 0.0019527143413142767\n",
      "Epoch 40/50, Training Loss: 0.028520532856540135, Validation Loss: 0.011157677858136594\n"
     ]
    },
    {
     "name": "stderr",
     "output_type": "stream",
     "text": [
      "[I 2023-10-09 04:01:13,798] Trial 47 finished with value: 0.13146888092160225 and parameters: {'lr': 0.007466479576500993, 'dropout_prob': 0.25661586491460037, 'hidden_channels': 207, 'n_layers': 7, 'kernel_size': 9, 'stride': 6, 'padding': 9, 'pooling_type': 'max', 'use_batch_norm': True}. Best is trial 35 with value: 3.756659134523943e-05.\n"
     ]
    },
    {
     "name": "stdout",
     "output_type": "stream",
     "text": [
      "Epoch 50/50, Training Loss: 0.06347571797668934, Validation Loss: 0.13146888092160225\n",
      "Epoch 10/50, Training Loss: 0.0076642523791330555, Validation Loss: 0.0033597707224544138\n",
      "Epoch 20/50, Training Loss: 0.0038744437391869725, Validation Loss: 0.00031452105758944526\n",
      "Epoch 30/50, Training Loss: 0.0019778068584855647, Validation Loss: 0.00015080773482623044\n",
      "Epoch 40/50, Training Loss: 0.02415806397330016, Validation Loss: 0.0039045779267325997\n"
     ]
    },
    {
     "name": "stderr",
     "output_type": "stream",
     "text": [
      "[I 2023-10-09 04:01:39,690] Trial 48 finished with value: 0.0007791823445586488 and parameters: {'lr': 0.002248002866982667, 'dropout_prob': 0.176787117651986, 'hidden_channels': 144, 'n_layers': 4, 'kernel_size': 7, 'stride': 5, 'padding': 8, 'pooling_type': 'max', 'use_batch_norm': True}. Best is trial 35 with value: 3.756659134523943e-05.\n"
     ]
    },
    {
     "name": "stdout",
     "output_type": "stream",
     "text": [
      "Epoch 50/50, Training Loss: 0.0024573714203143028, Validation Loss: 0.0007791823445586488\n",
      "Epoch 10/50, Training Loss: 0.04578475368519624, Validation Loss: 0.033040725626051426\n",
      "Epoch 20/50, Training Loss: 0.07577629217412322, Validation Loss: 0.23685896024107933\n",
      "Epoch 30/50, Training Loss: 0.00693735359236598, Validation Loss: 0.006498345697764307\n",
      "Epoch 40/50, Training Loss: 0.0017708918496888752, Validation Loss: 0.0033841913391370326\n"
     ]
    },
    {
     "name": "stderr",
     "output_type": "stream",
     "text": [
      "[I 2023-10-09 04:01:52,131] Trial 49 finished with value: 0.0027462497673695907 and parameters: {'lr': 0.005212941907779353, 'dropout_prob': 0.2124227106766301, 'hidden_channels': 162, 'n_layers': 3, 'kernel_size': 4, 'stride': 4, 'padding': 7, 'pooling_type': 'avg', 'use_batch_norm': False}. Best is trial 35 with value: 3.756659134523943e-05.\n"
     ]
    },
    {
     "name": "stdout",
     "output_type": "stream",
     "text": [
      "Epoch 50/50, Training Loss: 0.0009703654456340397, Validation Loss: 0.0027462497673695907\n",
      "Epoch 10/50, Training Loss: 0.005357954763652136, Validation Loss: 0.004244848169037141\n",
      "Epoch 20/50, Training Loss: 0.01201171136344783, Validation Loss: 0.0013143909891368821\n",
      "Epoch 30/50, Training Loss: 0.010679530570147715, Validation Loss: 0.11968582356348634\n",
      "Epoch 40/50, Training Loss: 0.009100867885475357, Validation Loss: 0.0004376242868602276\n"
     ]
    },
    {
     "name": "stderr",
     "output_type": "stream",
     "text": [
      "[I 2023-10-09 04:02:04,397] Trial 50 finished with value: 7.969224498083349e-05 and parameters: {'lr': 0.007833799222348559, 'dropout_prob': 0.3072801321010102, 'hidden_channels': 52, 'n_layers': 5, 'kernel_size': 9, 'stride': 2, 'padding': 10, 'pooling_type': 'max', 'use_batch_norm': True}. Best is trial 35 with value: 3.756659134523943e-05.\n"
     ]
    },
    {
     "name": "stdout",
     "output_type": "stream",
     "text": [
      "Epoch 50/50, Training Loss: 0.0035624907332627723, Validation Loss: 7.969224498083349e-05\n",
      "Epoch 10/50, Training Loss: 0.013854663368935387, Validation Loss: 0.002050703260465525\n",
      "Epoch 20/50, Training Loss: 0.013583101898742218, Validation Loss: 0.0011742963397409767\n",
      "Epoch 30/50, Training Loss: 0.003959800469359228, Validation Loss: 0.0008544763732061256\n",
      "Epoch 40/50, Training Loss: 0.001441472342412453, Validation Loss: 0.0006474700867329375\n"
     ]
    },
    {
     "name": "stderr",
     "output_type": "stream",
     "text": [
      "[I 2023-10-09 04:02:15,874] Trial 51 finished with value: 0.0009809941748244455 and parameters: {'lr': 0.007770767608691929, 'dropout_prob': 0.3021832606410886, 'hidden_channels': 41, 'n_layers': 6, 'kernel_size': 9, 'stride': 2, 'padding': 10, 'pooling_type': 'max', 'use_batch_norm': True}. Best is trial 35 with value: 3.756659134523943e-05.\n"
     ]
    },
    {
     "name": "stdout",
     "output_type": "stream",
     "text": [
      "Epoch 50/50, Training Loss: 0.00014906054238963406, Validation Loss: 0.0009809941748244455\n",
      "Epoch 10/50, Training Loss: 0.02517594169670095, Validation Loss: 0.002498202142305672\n",
      "Epoch 20/50, Training Loss: 0.008459375637661045, Validation Loss: 0.0024879777047317475\n",
      "Epoch 30/50, Training Loss: 0.0019852069875923918, Validation Loss: 0.00038356536606443115\n",
      "Epoch 40/50, Training Loss: 0.00424800587000694, Validation Loss: 0.00013582889278040966\n"
     ]
    },
    {
     "name": "stderr",
     "output_type": "stream",
     "text": [
      "[I 2023-10-09 04:02:36,721] Trial 52 finished with value: 5.526663699129131e-05 and parameters: {'lr': 0.009924906096876993, 'dropout_prob': 0.2763012182501433, 'hidden_channels': 69, 'n_layers': 5, 'kernel_size': 9, 'stride': 1, 'padding': 9, 'pooling_type': 'max', 'use_batch_norm': True}. Best is trial 35 with value: 3.756659134523943e-05.\n"
     ]
    },
    {
     "name": "stdout",
     "output_type": "stream",
     "text": [
      "Epoch 50/50, Training Loss: 7.051905552846923e-05, Validation Loss: 5.526663699129131e-05\n",
      "Epoch 10/50, Training Loss: 0.018829083380599815, Validation Loss: 0.0011345959064783528\n",
      "Epoch 20/50, Training Loss: 0.008394377546695371, Validation Loss: 0.0004171200307609979\n",
      "Epoch 30/50, Training Loss: 0.0026719365487224422, Validation Loss: 0.0016455893783131614\n",
      "Epoch 40/50, Training Loss: 0.017065766020095907, Validation Loss: 0.01916531164715707\n"
     ]
    },
    {
     "name": "stderr",
     "output_type": "stream",
     "text": [
      "[I 2023-10-09 04:03:12,215] Trial 53 finished with value: 0.0028346804829197936 and parameters: {'lr': 0.009739397205152663, 'dropout_prob': 0.2633268366965023, 'hidden_channels': 86, 'n_layers': 6, 'kernel_size': 8, 'stride': 1, 'padding': 9, 'pooling_type': 'max', 'use_batch_norm': True}. Best is trial 35 with value: 3.756659134523943e-05.\n"
     ]
    },
    {
     "name": "stdout",
     "output_type": "stream",
     "text": [
      "Epoch 50/50, Training Loss: 0.018747752827281753, Validation Loss: 0.0028346804829197936\n",
      "Epoch 10/50, Training Loss: 0.010555153448755543, Validation Loss: 0.021255261031910777\n",
      "Epoch 20/50, Training Loss: 0.004440687884925865, Validation Loss: 0.00024258620032924227\n",
      "Epoch 30/50, Training Loss: 0.0018506344138586428, Validation Loss: 0.00011246653502894333\n",
      "Epoch 40/50, Training Loss: 0.0017776746230083519, Validation Loss: 7.21459064152441e-05\n"
     ]
    },
    {
     "name": "stderr",
     "output_type": "stream",
     "text": [
      "[I 2023-10-09 04:03:33,767] Trial 54 finished with value: 0.00046190794091671705 and parameters: {'lr': 0.0040200842165642415, 'dropout_prob': 0.2837309884990563, 'hidden_channels': 106, 'n_layers': 5, 'kernel_size': 9, 'stride': 1, 'padding': 8, 'pooling_type': 'max', 'use_batch_norm': True}. Best is trial 35 with value: 3.756659134523943e-05.\n"
     ]
    },
    {
     "name": "stdout",
     "output_type": "stream",
     "text": [
      "Epoch 50/50, Training Loss: 0.006974133895710111, Validation Loss: 0.00046190794091671705\n",
      "Epoch 10/50, Training Loss: 0.0117936640434588, Validation Loss: 0.002098275348544121\n",
      "Epoch 20/50, Training Loss: 0.004503223820938729, Validation Loss: 0.0009316019641119055\n",
      "Epoch 30/50, Training Loss: 0.004428635005994389, Validation Loss: 0.00035779824247583747\n",
      "Epoch 40/50, Training Loss: 0.0015573457814753056, Validation Loss: 0.0002720868869801052\n"
     ]
    },
    {
     "name": "stderr",
     "output_type": "stream",
     "text": [
      "[I 2023-10-09 04:03:41,143] Trial 55 finished with value: 0.00027833108106278814 and parameters: {'lr': 0.005428603319282654, 'dropout_prob': 0.2303679143252788, 'hidden_channels': 29, 'n_layers': 3, 'kernel_size': 9, 'stride': 1, 'padding': 9, 'pooling_type': 'avg', 'use_batch_norm': True}. Best is trial 35 with value: 3.756659134523943e-05.\n"
     ]
    },
    {
     "name": "stdout",
     "output_type": "stream",
     "text": [
      "Epoch 50/50, Training Loss: 0.002220511168707162, Validation Loss: 0.00027833108106278814\n",
      "Epoch 10/50, Training Loss: 0.012344061202990511, Validation Loss: 0.0028817450220230967\n",
      "Epoch 20/50, Training Loss: 0.0017481862426696655, Validation Loss: 0.0025800204821280204\n",
      "Epoch 30/50, Training Loss: 0.010587634831123675, Validation Loss: 0.007114677908248268\n",
      "Epoch 40/50, Training Loss: 0.0003016068115054319, Validation Loss: 0.0018287276134287822\n"
     ]
    },
    {
     "name": "stderr",
     "output_type": "stream",
     "text": [
      "[I 2023-10-09 04:03:52,971] Trial 56 finished with value: 0.0016431494925654988 and parameters: {'lr': 0.0028219711742843395, 'dropout_prob': 0.19982306166581, 'hidden_channels': 78, 'n_layers': 5, 'kernel_size': 8, 'stride': 3, 'padding': 8, 'pooling_type': 'max', 'use_batch_norm': True}. Best is trial 35 with value: 3.756659134523943e-05.\n"
     ]
    },
    {
     "name": "stdout",
     "output_type": "stream",
     "text": [
      "Epoch 50/50, Training Loss: 2.642725642848139e-05, Validation Loss: 0.0016431494925654988\n",
      "Epoch 10/50, Training Loss: 0.009482890095872184, Validation Loss: 0.0046053751721046865\n",
      "Epoch 20/50, Training Loss: 0.007142381191564103, Validation Loss: 0.002210843456850853\n",
      "Epoch 30/50, Training Loss: 0.000396426104028554, Validation Loss: 0.0009345240023321821\n",
      "Epoch 40/50, Training Loss: 7.076544534356799e-05, Validation Loss: 0.0031708388451079372\n"
     ]
    },
    {
     "name": "stderr",
     "output_type": "stream",
     "text": [
      "[I 2023-10-09 04:04:11,035] Trial 57 finished with value: 0.004048000789225625 and parameters: {'lr': 0.007957632518460675, 'dropout_prob': 0.3257463735216909, 'hidden_channels': 127, 'n_layers': 4, 'kernel_size': 5, 'stride': 5, 'padding': 9, 'pooling_type': 'avg', 'use_batch_norm': True}. Best is trial 35 with value: 3.756659134523943e-05.\n"
     ]
    },
    {
     "name": "stdout",
     "output_type": "stream",
     "text": [
      "Epoch 50/50, Training Loss: 3.104142318382704e-05, Validation Loss: 0.004048000789225625\n",
      "Epoch 10/50, Training Loss: 0.011822192813269794, Validation Loss: 0.0027205701626371592\n",
      "Epoch 20/50, Training Loss: 0.0006857412057191444, Validation Loss: 0.00014001844101585448\n",
      "Epoch 30/50, Training Loss: 0.02394817857906067, Validation Loss: 0.003191585681634024\n",
      "Epoch 40/50, Training Loss: 0.004199501633896337, Validation Loss: 0.01204452058300376\n"
     ]
    },
    {
     "name": "stderr",
     "output_type": "stream",
     "text": [
      "[I 2023-10-09 04:05:33,919] Trial 58 finished with value: 8.143313698383281e-05 and parameters: {'lr': 0.003812428922381945, 'dropout_prob': 0.2676422929038336, 'hidden_channels': 191, 'n_layers': 6, 'kernel_size': 8, 'stride': 1, 'padding': 8, 'pooling_type': 'max', 'use_batch_norm': True}. Best is trial 35 with value: 3.756659134523943e-05.\n"
     ]
    },
    {
     "name": "stdout",
     "output_type": "stream",
     "text": [
      "Epoch 50/50, Training Loss: 0.0011652402637992055, Validation Loss: 8.143313698383281e-05\n",
      "Epoch 10/50, Training Loss: 0.0055370704542535044, Validation Loss: 0.0008128494009724818\n",
      "Epoch 20/50, Training Loss: 0.008247940673997315, Validation Loss: 0.001793051982531324\n",
      "Epoch 30/50, Training Loss: 0.008161892173181211, Validation Loss: 0.003633195810834877\n",
      "Epoch 40/50, Training Loss: 0.010153119359650494, Validation Loss: 0.0007351290814767708\n"
     ]
    },
    {
     "name": "stderr",
     "output_type": "stream",
     "text": [
      "[I 2023-10-09 04:05:53,714] Trial 59 finished with value: 0.00015613991308782715 and parameters: {'lr': 0.005554197062927137, 'dropout_prob': 0.34775904230388377, 'hidden_channels': 117, 'n_layers': 4, 'kernel_size': 6, 'stride': 2, 'padding': 9, 'pooling_type': 'avg', 'use_batch_norm': True}. Best is trial 35 with value: 3.756659134523943e-05.\n"
     ]
    },
    {
     "name": "stdout",
     "output_type": "stream",
     "text": [
      "Epoch 50/50, Training Loss: 0.0007740210644745578, Validation Loss: 0.00015613991308782715\n",
      "Epoch 10/50, Training Loss: 0.013186064766099055, Validation Loss: 0.0030815197969786823\n",
      "Epoch 20/50, Training Loss: 0.002207776940485928, Validation Loss: 0.000695478796842508\n",
      "Epoch 30/50, Training Loss: 0.002823279128642753, Validation Loss: 0.0006507230100396555\n",
      "Epoch 40/50, Training Loss: 0.000616158528040008, Validation Loss: 0.00011670864751067711\n"
     ]
    },
    {
     "name": "stderr",
     "output_type": "stream",
     "text": [
      "[I 2023-10-09 04:06:11,020] Trial 60 finished with value: 0.02443360211327672 and parameters: {'lr': 0.009758737637642893, 'dropout_prob': 0.24077461908639963, 'hidden_channels': 217, 'n_layers': 3, 'kernel_size': 7, 'stride': 1, 'padding': 2, 'pooling_type': 'avg', 'use_batch_norm': True}. Best is trial 35 with value: 3.756659134523943e-05.\n"
     ]
    },
    {
     "name": "stdout",
     "output_type": "stream",
     "text": [
      "Epoch 50/50, Training Loss: 0.016497639106819405, Validation Loss: 0.02443360211327672\n",
      "Epoch 10/50, Training Loss: 0.014615670496520275, Validation Loss: 0.016148154973052442\n",
      "Epoch 20/50, Training Loss: 0.009970399999292567, Validation Loss: 0.004225042997859418\n",
      "Epoch 30/50, Training Loss: 0.005416087795068355, Validation Loss: 0.0020631617808248848\n",
      "Epoch 40/50, Training Loss: 0.0021448139343798783, Validation Loss: 0.00039525343891000375\n"
     ]
    },
    {
     "name": "stderr",
     "output_type": "stream",
     "text": [
      "[I 2023-10-09 04:06:21,213] Trial 61 finished with value: 0.00013694760127691552 and parameters: {'lr': 0.007728605355389448, 'dropout_prob': 0.3084469010311483, 'hidden_channels': 39, 'n_layers': 5, 'kernel_size': 9, 'stride': 2, 'padding': 10, 'pooling_type': 'max', 'use_batch_norm': True}. Best is trial 35 with value: 3.756659134523943e-05.\n"
     ]
    },
    {
     "name": "stdout",
     "output_type": "stream",
     "text": [
      "Epoch 50/50, Training Loss: 0.0026201016290239446, Validation Loss: 0.00013694760127691552\n",
      "Epoch 10/50, Training Loss: 0.013504780720298488, Validation Loss: 0.0011100150150014088\n",
      "Epoch 20/50, Training Loss: 0.04596190835970144, Validation Loss: 0.01939267967827618\n",
      "Epoch 30/50, Training Loss: 0.00751247404065604, Validation Loss: 9.745585975906579e-05\n",
      "Epoch 40/50, Training Loss: 0.003480734109568099, Validation Loss: 0.00015550401803920977\n"
     ]
    },
    {
     "name": "stderr",
     "output_type": "stream",
     "text": [
      "[I 2023-10-09 04:06:34,122] Trial 62 finished with value: 0.00020474583834584337 and parameters: {'lr': 0.004570774536851874, 'dropout_prob': 0.29733552035824484, 'hidden_channels': 46, 'n_layers': 5, 'kernel_size': 9, 'stride': 1, 'padding': 10, 'pooling_type': 'max', 'use_batch_norm': True}. Best is trial 35 with value: 3.756659134523943e-05.\n"
     ]
    },
    {
     "name": "stdout",
     "output_type": "stream",
     "text": [
      "Epoch 50/50, Training Loss: 0.001925823575584218, Validation Loss: 0.00020474583834584337\n",
      "Epoch 10/50, Training Loss: 0.0053704225632827726, Validation Loss: 0.0004250700367265381\n",
      "Epoch 20/50, Training Loss: 0.007329507467026512, Validation Loss: 0.00041461357614025474\n",
      "Epoch 30/50, Training Loss: 0.036640502791851756, Validation Loss: 0.004820333298994228\n",
      "Epoch 40/50, Training Loss: 0.022426405744530104, Validation Loss: 0.005765549227362499\n"
     ]
    },
    {
     "name": "stderr",
     "output_type": "stream",
     "text": [
      "[I 2023-10-09 04:06:48,293] Trial 63 finished with value: 2.2227082126846653e-05 and parameters: {'lr': 0.007475899752138241, 'dropout_prob': 0.27703988267741997, 'hidden_channels': 59, 'n_layers': 5, 'kernel_size': 9, 'stride': 2, 'padding': 10, 'pooling_type': 'max', 'use_batch_norm': True}. Best is trial 63 with value: 2.2227082126846653e-05.\n"
     ]
    },
    {
     "name": "stdout",
     "output_type": "stream",
     "text": [
      "Epoch 50/50, Training Loss: 4.460399638143523e-05, Validation Loss: 2.2227082126846653e-05\n",
      "Epoch 10/50, Training Loss: 0.3004608457287153, Validation Loss: 0.0841378103941679\n",
      "Epoch 20/50, Training Loss: 0.03408509120345116, Validation Loss: 0.01484976417850703\n",
      "Epoch 30/50, Training Loss: 0.006667657130553077, Validation Loss: 0.0005338642149581574\n",
      "Epoch 40/50, Training Loss: 0.0063251813563207785, Validation Loss: 0.002501586393918842\n"
     ]
    },
    {
     "name": "stderr",
     "output_type": "stream",
     "text": [
      "[I 2023-10-09 04:07:09,339] Trial 64 finished with value: 0.0022780025992688024 and parameters: {'lr': 0.006193692264742146, 'dropout_prob': 0.25349668252539026, 'hidden_channels': 76, 'n_layers': 6, 'kernel_size': 9, 'stride': 3, 'padding': 9, 'pooling_type': 'max', 'use_batch_norm': True}. Best is trial 63 with value: 2.2227082126846653e-05.\n"
     ]
    },
    {
     "name": "stdout",
     "output_type": "stream",
     "text": [
      "Epoch 50/50, Training Loss: 0.004110401852813084, Validation Loss: 0.0022780025992688024\n",
      "Epoch 10/50, Training Loss: 0.0069355136714875695, Validation Loss: 0.004926373367197812\n",
      "Epoch 20/50, Training Loss: 0.0074451292438122135, Validation Loss: 0.0007619079115102068\n",
      "Epoch 30/50, Training Loss: 0.010302605557565887, Validation Loss: 0.0266434361692518\n",
      "Epoch 40/50, Training Loss: 0.0016530045661056648, Validation Loss: 0.0001959573646672652\n"
     ]
    },
    {
     "name": "stderr",
     "output_type": "stream",
     "text": [
      "[I 2023-10-09 04:07:43,821] Trial 65 finished with value: 0.00013702301930607064 and parameters: {'lr': 0.009972463800864188, 'dropout_prob': 0.27564189852968435, 'hidden_channels': 203, 'n_layers': 2, 'kernel_size': 8, 'stride': 1, 'padding': 10, 'pooling_type': 'max', 'use_batch_norm': True}. Best is trial 63 with value: 2.2227082126846653e-05.\n"
     ]
    },
    {
     "name": "stdout",
     "output_type": "stream",
     "text": [
      "Epoch 50/50, Training Loss: 0.004948770383877369, Validation Loss: 0.00013702301930607064\n",
      "Epoch 10/50, Training Loss: 0.007790068661173185, Validation Loss: 0.0026237762067466974\n",
      "Epoch 20/50, Training Loss: 0.007701968865391488, Validation Loss: 0.001684782444499433\n",
      "Epoch 30/50, Training Loss: 0.007202866846152271, Validation Loss: 0.0007922629465610953\n",
      "Epoch 40/50, Training Loss: 0.004126467776222853, Validation Loss: 0.00026589779736241326\n"
     ]
    },
    {
     "name": "stderr",
     "output_type": "stream",
     "text": [
      "[I 2023-10-09 04:08:03,463] Trial 66 finished with value: 0.0032012069586926373 and parameters: {'lr': 0.00496027774686163, 'dropout_prob': 0.2211303715156951, 'hidden_channels': 66, 'n_layers': 4, 'kernel_size': 9, 'stride': 1, 'padding': 9, 'pooling_type': 'avg', 'use_batch_norm': True}. Best is trial 63 with value: 2.2227082126846653e-05.\n"
     ]
    },
    {
     "name": "stdout",
     "output_type": "stream",
     "text": [
      "Epoch 50/50, Training Loss: 0.009538275200369147, Validation Loss: 0.0032012069586926373\n",
      "Epoch 10/50, Training Loss: 0.03954315297305584, Validation Loss: 0.05797849502414465\n",
      "Epoch 20/50, Training Loss: 0.012601851378955567, Validation Loss: 0.023721089237369597\n",
      "Epoch 30/50, Training Loss: 0.009982628126939138, Validation Loss: 0.0023615995014552027\n",
      "Epoch 40/50, Training Loss: 0.022404252163444955, Validation Loss: 0.007952963816933334\n"
     ]
    },
    {
     "name": "stderr",
     "output_type": "stream",
     "text": [
      "[I 2023-10-09 04:08:21,813] Trial 67 finished with value: 0.5099626556038857 and parameters: {'lr': 0.007424131232189759, 'dropout_prob': 0.2847631640969394, 'hidden_channels': 91, 'n_layers': 7, 'kernel_size': 9, 'stride': 2, 'padding': 8, 'pooling_type': 'avg', 'use_batch_norm': True}. Best is trial 63 with value: 2.2227082126846653e-05.\n"
     ]
    },
    {
     "name": "stdout",
     "output_type": "stream",
     "text": [
      "Epoch 50/50, Training Loss: 0.26416774342457455, Validation Loss: 0.5099626556038857\n",
      "Epoch 10/50, Training Loss: 0.014682053541764616, Validation Loss: 0.01740575407166034\n",
      "Epoch 20/50, Training Loss: 0.008819594727052996, Validation Loss: 0.004721061704913154\n",
      "Epoch 30/50, Training Loss: 0.004158679599640891, Validation Loss: 0.004119410630664788\n",
      "Epoch 40/50, Training Loss: 5.043306882726029e-05, Validation Loss: 0.00011144015252284589\n"
     ]
    },
    {
     "name": "stderr",
     "output_type": "stream",
     "text": [
      "[I 2023-10-09 04:08:37,029] Trial 68 finished with value: 0.00010486551309440983 and parameters: {'lr': 0.0028519380699839115, 'dropout_prob': 0.23901033135400301, 'hidden_channels': 228, 'n_layers': 3, 'kernel_size': 8, 'stride': 3, 'padding': 4, 'pooling_type': 'max', 'use_batch_norm': False}. Best is trial 63 with value: 2.2227082126846653e-05.\n"
     ]
    },
    {
     "name": "stdout",
     "output_type": "stream",
     "text": [
      "Epoch 50/50, Training Loss: 3.462098999686229e-05, Validation Loss: 0.00010486551309440983\n",
      "Epoch 10/50, Training Loss: 0.0073216233460698275, Validation Loss: 0.004005878319730982\n",
      "Epoch 20/50, Training Loss: 0.015507423970848321, Validation Loss: 0.014456219389103353\n",
      "Epoch 30/50, Training Loss: 0.006020004370172197, Validation Loss: 0.002827180695021525\n",
      "Epoch 40/50, Training Loss: 0.002146071522777978, Validation Loss: 0.003673242492368445\n"
     ]
    },
    {
     "name": "stderr",
     "output_type": "stream",
     "text": [
      "[I 2023-10-09 04:08:57,183] Trial 69 finished with value: 0.011153373401612043 and parameters: {'lr': 0.00640795610597845, 'dropout_prob': 0.18656858929770828, 'hidden_channels': 217, 'n_layers': 4, 'kernel_size': 9, 'stride': 2, 'padding': 8, 'pooling_type': 'avg', 'use_batch_norm': True}. Best is trial 63 with value: 2.2227082126846653e-05.\n"
     ]
    },
    {
     "name": "stdout",
     "output_type": "stream",
     "text": [
      "Epoch 50/50, Training Loss: 0.007803487348913525, Validation Loss: 0.011153373401612043\n",
      "Epoch 10/50, Training Loss: 0.012524990896539141, Validation Loss: 0.023852186743170023\n",
      "Epoch 20/50, Training Loss: 0.007823320572303298, Validation Loss: 0.012497101197368465\n",
      "Epoch 30/50, Training Loss: 0.0021153681009309366, Validation Loss: 0.0007898171425040346\n",
      "Epoch 40/50, Training Loss: 0.0013563124909220885, Validation Loss: 0.0004408462309584138\n"
     ]
    },
    {
     "name": "stderr",
     "output_type": "stream",
     "text": [
      "[I 2023-10-09 04:09:26,489] Trial 70 finished with value: 4.749268691739417e-05 and parameters: {'lr': 0.0038212743464778325, 'dropout_prob': 0.2030615986462797, 'hidden_channels': 238, 'n_layers': 3, 'kernel_size': 6, 'stride': 5, 'padding': 7, 'pooling_type': 'max', 'use_batch_norm': True}. Best is trial 63 with value: 2.2227082126846653e-05.\n"
     ]
    },
    {
     "name": "stdout",
     "output_type": "stream",
     "text": [
      "Epoch 50/50, Training Loss: 0.0006287581704479332, Validation Loss: 4.749268691739417e-05\n",
      "Epoch 10/50, Training Loss: 0.01255079695644478, Validation Loss: 0.005001254670787603\n",
      "Epoch 20/50, Training Loss: 0.00881850307341665, Validation Loss: 0.007634719619090902\n",
      "Epoch 30/50, Training Loss: 0.003985161018014575, Validation Loss: 0.0017246696297661401\n",
      "Epoch 40/50, Training Loss: 0.0019133538153255358, Validation Loss: 0.0011506618466228247\n"
     ]
    },
    {
     "name": "stderr",
     "output_type": "stream",
     "text": [
      "[I 2023-10-09 04:09:56,329] Trial 71 finished with value: 0.0001661547810272168 and parameters: {'lr': 0.00426313296631725, 'dropout_prob': 0.20403681620530245, 'hidden_channels': 240, 'n_layers': 3, 'kernel_size': 6, 'stride': 5, 'padding': 7, 'pooling_type': 'max', 'use_batch_norm': True}. Best is trial 63 with value: 2.2227082126846653e-05.\n"
     ]
    },
    {
     "name": "stdout",
     "output_type": "stream",
     "text": [
      "Epoch 50/50, Training Loss: 4.776695750479121e-05, Validation Loss: 0.0001661547810272168\n",
      "Epoch 10/50, Training Loss: 0.014435011326956253, Validation Loss: 0.0028599554498214275\n",
      "Epoch 20/50, Training Loss: 0.012291799113154412, Validation Loss: 0.0009972268162528053\n",
      "Epoch 30/50, Training Loss: 0.006987423567140164, Validation Loss: 0.0025077530881389976\n",
      "Epoch 40/50, Training Loss: 0.004163008298564819, Validation Loss: 0.0004234609441482462\n"
     ]
    },
    {
     "name": "stderr",
     "output_type": "stream",
     "text": [
      "[I 2023-10-09 04:10:02,659] Trial 72 finished with value: 0.08999084832612425 and parameters: {'lr': 0.008178943204065845, 'dropout_prob': 0.26982573100759283, 'hidden_channels': 60, 'n_layers': 3, 'kernel_size': 6, 'stride': 5, 'padding': 7, 'pooling_type': 'max', 'use_batch_norm': True}. Best is trial 63 with value: 2.2227082126846653e-05.\n"
     ]
    },
    {
     "name": "stdout",
     "output_type": "stream",
     "text": [
      "Epoch 50/50, Training Loss: 0.04217179024126381, Validation Loss: 0.08999084832612425\n",
      "Epoch 10/50, Training Loss: 0.009336341370362789, Validation Loss: 0.010194938513450325\n",
      "Epoch 20/50, Training Loss: 0.0075650885701179504, Validation Loss: 0.002475495290127583\n",
      "Epoch 30/50, Training Loss: 0.01104031329935727, Validation Loss: 0.006858713104520575\n",
      "Epoch 40/50, Training Loss: 0.001654999926298236, Validation Loss: 0.004571806681269663\n"
     ]
    },
    {
     "name": "stderr",
     "output_type": "stream",
     "text": [
      "[I 2023-10-09 04:10:09,246] Trial 73 finished with value: 0.0022435168848460307 and parameters: {'lr': 0.005640136839503271, 'dropout_prob': 0.24880471246202926, 'hidden_channels': 256, 'n_layers': 2, 'kernel_size': 6, 'stride': 6, 'padding': 3, 'pooling_type': 'max', 'use_batch_norm': True}. Best is trial 63 with value: 2.2227082126846653e-05.\n"
     ]
    },
    {
     "name": "stdout",
     "output_type": "stream",
     "text": [
      "Epoch 50/50, Training Loss: 0.0014715434537113956, Validation Loss: 0.0022435168848460307\n",
      "Epoch 10/50, Training Loss: 0.011389720207080244, Validation Loss: 0.011176896106917411\n",
      "Epoch 20/50, Training Loss: 0.0054115406703203915, Validation Loss: 0.0026738492779259104\n",
      "Epoch 30/50, Training Loss: 0.00033656924109285076, Validation Loss: 0.00039596777605765965\n",
      "Epoch 40/50, Training Loss: 9.276656686173131e-05, Validation Loss: 0.00018296419966645772\n"
     ]
    },
    {
     "name": "stderr",
     "output_type": "stream",
     "text": [
      "[I 2023-10-09 04:10:34,745] Trial 74 finished with value: 0.00014111698578744836 and parameters: {'lr': 0.0033869077256995935, 'dropout_prob': 0.23134604355605792, 'hidden_channels': 248, 'n_layers': 3, 'kernel_size': 5, 'stride': 4, 'padding': 6, 'pooling_type': 'max', 'use_batch_norm': True}. Best is trial 63 with value: 2.2227082126846653e-05.\n"
     ]
    },
    {
     "name": "stdout",
     "output_type": "stream",
     "text": [
      "Epoch 50/50, Training Loss: 6.093184795948522e-05, Validation Loss: 0.00014111698578744836\n",
      "Epoch 10/50, Training Loss: 0.006463603557009871, Validation Loss: 0.0004448474555829307\n",
      "Epoch 20/50, Training Loss: 0.004803322713511685, Validation Loss: 0.005969440680928528\n",
      "Epoch 30/50, Training Loss: 0.0016017974451339493, Validation Loss: 0.0013224553113104776\n",
      "Epoch 40/50, Training Loss: 0.0006422069758021584, Validation Loss: 0.0006436781404772773\n"
     ]
    },
    {
     "name": "stderr",
     "output_type": "stream",
     "text": [
      "[I 2023-10-09 04:11:15,421] Trial 75 finished with value: 1.943814652349829e-05 and parameters: {'lr': 0.00435612106373003, 'dropout_prob': 0.21769773768647277, 'hidden_channels': 223, 'n_layers': 4, 'kernel_size': 7, 'stride': 5, 'padding': 9, 'pooling_type': 'max', 'use_batch_norm': True}. Best is trial 75 with value: 1.943814652349829e-05.\n"
     ]
    },
    {
     "name": "stdout",
     "output_type": "stream",
     "text": [
      "Epoch 50/50, Training Loss: 0.001610033168647836, Validation Loss: 1.943814652349829e-05\n",
      "Epoch 10/50, Training Loss: 0.019302472293687364, Validation Loss: 0.010117815516423434\n",
      "Epoch 20/50, Training Loss: 0.012440395341642822, Validation Loss: 0.003157358369207941\n",
      "Epoch 30/50, Training Loss: 0.22871496747247874, Validation Loss: 0.08215562719851732\n",
      "Epoch 40/50, Training Loss: 0.00936193755963662, Validation Loss: 0.012401820626109838\n"
     ]
    },
    {
     "name": "stderr",
     "output_type": "stream",
     "text": [
      "[I 2023-10-09 04:11:51,658] Trial 76 finished with value: 0.0009995271884690737 and parameters: {'lr': 0.0038931532165181614, 'dropout_prob': 0.21625315972010783, 'hidden_channels': 237, 'n_layers': 4, 'kernel_size': 5, 'stride': 5, 'padding': 6, 'pooling_type': 'max', 'use_batch_norm': True}. Best is trial 75 with value: 1.943814652349829e-05.\n"
     ]
    },
    {
     "name": "stdout",
     "output_type": "stream",
     "text": [
      "Epoch 50/50, Training Loss: 0.0011995502475959559, Validation Loss: 0.0009995271884690737\n",
      "Epoch 10/50, Training Loss: 0.014496949549842006, Validation Loss: 0.01263367140199989\n",
      "Epoch 20/50, Training Loss: 0.003975703084142879, Validation Loss: 0.006987119013501797\n",
      "Epoch 30/50, Training Loss: 0.010085912452389796, Validation Loss: 0.0002796227217913838\n",
      "Epoch 40/50, Training Loss: 0.007401565041679229, Validation Loss: 0.0022445383247031714\n"
     ]
    },
    {
     "name": "stderr",
     "output_type": "stream",
     "text": [
      "[I 2023-10-09 04:12:55,293] Trial 77 finished with value: 3.065471923946461e-05 and parameters: {'lr': 0.0025900967805645315, 'dropout_prob': 0.1786675137548116, 'hidden_channels': 226, 'n_layers': 5, 'kernel_size': 9, 'stride': 5, 'padding': 9, 'pooling_type': 'max', 'use_batch_norm': True}. Best is trial 75 with value: 1.943814652349829e-05.\n"
     ]
    },
    {
     "name": "stdout",
     "output_type": "stream",
     "text": [
      "Epoch 50/50, Training Loss: 3.241975621979994e-05, Validation Loss: 3.065471923946461e-05\n",
      "Epoch 10/50, Training Loss: 0.00421351931290701, Validation Loss: 0.020880173600744456\n",
      "Epoch 20/50, Training Loss: 0.021336353799172987, Validation Loss: 0.014057864580536261\n",
      "Epoch 30/50, Training Loss: 0.0009316835785284638, Validation Loss: 0.001427035364031326\n",
      "Epoch 40/50, Training Loss: 0.0010353491990827024, Validation Loss: 0.002399240767772426\n"
     ]
    },
    {
     "name": "stderr",
     "output_type": "stream",
     "text": [
      "[I 2023-10-09 04:13:47,734] Trial 78 finished with value: 0.0013667606544913724 and parameters: {'lr': 0.0046913347756520635, 'dropout_prob': 0.1531532000620847, 'hidden_channels': 224, 'n_layers': 5, 'kernel_size': 7, 'stride': 5, 'padding': 10, 'pooling_type': 'max', 'use_batch_norm': True}. Best is trial 75 with value: 1.943814652349829e-05.\n"
     ]
    },
    {
     "name": "stdout",
     "output_type": "stream",
     "text": [
      "Epoch 50/50, Training Loss: 0.0006569394817537007, Validation Loss: 0.0013667606544913724\n",
      "Epoch 10/50, Training Loss: 0.025598225191545983, Validation Loss: 0.010778762516565621\n",
      "Epoch 20/50, Training Loss: 0.005279404829101016, Validation Loss: 0.003028952211025171\n",
      "Epoch 30/50, Training Loss: 0.002376081416150555, Validation Loss: 0.006713157883496024\n",
      "Epoch 40/50, Training Loss: 0.008739080004549276, Validation Loss: 0.007223194377729669\n"
     ]
    },
    {
     "name": "stderr",
     "output_type": "stream",
     "text": [
      "[I 2023-10-09 04:14:26,959] Trial 79 finished with value: 0.004379284227070457 and parameters: {'lr': 0.0019469954129612715, 'dropout_prob': 0.17659147331252614, 'hidden_channels': 196, 'n_layers': 5, 'kernel_size': 6, 'stride': 6, 'padding': 9, 'pooling_type': 'max', 'use_batch_norm': True}. Best is trial 75 with value: 1.943814652349829e-05.\n"
     ]
    },
    {
     "name": "stdout",
     "output_type": "stream",
     "text": [
      "Epoch 50/50, Training Loss: 0.0018891349757420054, Validation Loss: 0.004379284227070457\n",
      "Epoch 10/50, Training Loss: 0.04722251643737157, Validation Loss: 0.017578017665073276\n",
      "Epoch 20/50, Training Loss: 0.016206487733870744, Validation Loss: 0.0357132637873292\n",
      "Epoch 30/50, Training Loss: 0.004099527736737703, Validation Loss: 0.12289984337985516\n",
      "Epoch 40/50, Training Loss: 0.02211444564939787, Validation Loss: 0.01113514049211517\n"
     ]
    },
    {
     "name": "stderr",
     "output_type": "stream",
     "text": [
      "[I 2023-10-09 04:15:00,163] Trial 80 finished with value: 0.005184904512134381 and parameters: {'lr': 0.0026703598334060575, 'dropout_prob': 0.135721951824366, 'hidden_channels': 176, 'n_layers': 4, 'kernel_size': 9, 'stride': 5, 'padding': 9, 'pooling_type': 'max', 'use_batch_norm': False}. Best is trial 75 with value: 1.943814652349829e-05.\n"
     ]
    },
    {
     "name": "stdout",
     "output_type": "stream",
     "text": [
      "Epoch 50/50, Training Loss: 0.003238068456509306, Validation Loss: 0.005184904512134381\n",
      "Epoch 10/50, Training Loss: 0.03250431494476894, Validation Loss: 0.012184378516394645\n",
      "Epoch 20/50, Training Loss: 0.005469308732426725, Validation Loss: 0.0002562217068771133\n",
      "Epoch 30/50, Training Loss: 0.03916263535308341, Validation Loss: 0.04136063577607274\n",
      "Epoch 40/50, Training Loss: 0.001584316105193769, Validation Loss: 0.0004475370551517699\n"
     ]
    },
    {
     "name": "stderr",
     "output_type": "stream",
     "text": [
      "[I 2023-10-09 04:15:21,509] Trial 81 finished with value: 0.0007675047445445671 and parameters: {'lr': 0.0032096376951027835, 'dropout_prob': 0.19358199933890355, 'hidden_channels': 229, 'n_layers': 5, 'kernel_size': 9, 'stride': 4, 'padding': 8, 'pooling_type': 'max', 'use_batch_norm': True}. Best is trial 75 with value: 1.943814652349829e-05.\n"
     ]
    },
    {
     "name": "stdout",
     "output_type": "stream",
     "text": [
      "Epoch 50/50, Training Loss: 3.9126017933692005e-05, Validation Loss: 0.0007675047445445671\n",
      "Epoch 10/50, Training Loss: 0.006100586918182671, Validation Loss: 0.004537551518296823\n",
      "Epoch 20/50, Training Loss: 0.01781000681221485, Validation Loss: 0.07285172957926989\n",
      "Epoch 30/50, Training Loss: 0.001787088413402671, Validation Loss: 0.001086498214135645\n",
      "Epoch 40/50, Training Loss: 0.054540048353374004, Validation Loss: 0.00849349400959909\n"
     ]
    },
    {
     "name": "stderr",
     "output_type": "stream",
     "text": [
      "[I 2023-10-09 04:15:39,798] Trial 82 finished with value: 0.00024658736492710887 and parameters: {'lr': 0.006253458728733655, 'dropout_prob': 0.20748191087442822, 'hidden_channels': 244, 'n_layers': 4, 'kernel_size': 9, 'stride': 5, 'padding': 8, 'pooling_type': 'max', 'use_batch_norm': True}. Best is trial 75 with value: 1.943814652349829e-05.\n"
     ]
    },
    {
     "name": "stdout",
     "output_type": "stream",
     "text": [
      "Epoch 50/50, Training Loss: 0.0011958211223827675, Validation Loss: 0.00024658736492710887\n"
     ]
    },
    {
     "name": "stderr",
     "output_type": "stream",
     "text": [
      "[I 2023-10-09 04:15:40,719] Trial 83 finished with value: 1.0 and parameters: {'lr': 0.0022084969592908606, 'dropout_prob': 0.16299703959043804, 'hidden_channels': 217, 'n_layers': 5, 'kernel_size': 9, 'stride': 5, 'padding': 5, 'pooling_type': 'max', 'use_batch_norm': True}. Best is trial 75 with value: 1.943814652349829e-05.\n"
     ]
    },
    {
     "name": "stdout",
     "output_type": "stream",
     "text": [
      "Trial failed with error: max_pool1d() Invalid computed output size: 0\n",
      "Epoch 10/50, Training Loss: 0.004705470410408452, Validation Loss: 0.0010264444463246036\n",
      "Epoch 20/50, Training Loss: 0.006432322480638201, Validation Loss: 0.002615300996694714\n",
      "Epoch 30/50, Training Loss: 0.0025457433997265375, Validation Loss: 0.000809586483228486\n",
      "Epoch 40/50, Training Loss: 3.916390530018058e-05, Validation Loss: 4.973731506652257e-05\n"
     ]
    },
    {
     "name": "stderr",
     "output_type": "stream",
     "text": [
      "[I 2023-10-09 04:16:33,030] Trial 84 finished with value: 2.5544090874518588e-05 and parameters: {'lr': 0.0034915796815204515, 'dropout_prob': 0.22498438212278357, 'hidden_channels': 248, 'n_layers': 4, 'kernel_size': 8, 'stride': 4, 'padding': 9, 'pooling_type': 'max', 'use_batch_norm': True}. Best is trial 75 with value: 1.943814652349829e-05.\n"
     ]
    },
    {
     "name": "stdout",
     "output_type": "stream",
     "text": [
      "Epoch 50/50, Training Loss: 2.1934955172279538e-05, Validation Loss: 2.5544090874518588e-05\n",
      "Epoch 10/50, Training Loss: 0.01852644017781131, Validation Loss: 0.030902276514098048\n",
      "Epoch 20/50, Training Loss: 0.03854400238487869, Validation Loss: 0.010098040802404284\n",
      "Epoch 30/50, Training Loss: 0.002053319036834485, Validation Loss: 0.0012865466642324463\n",
      "Epoch 40/50, Training Loss: 0.0007471488371569042, Validation Loss: 0.0014124066292424686\n"
     ]
    },
    {
     "name": "stderr",
     "output_type": "stream",
     "text": [
      "[I 2023-10-09 04:17:20,926] Trial 85 finished with value: 0.00307595866615884 and parameters: {'lr': 0.005016272344742055, 'dropout_prob': 0.18685362361217894, 'hidden_channels': 248, 'n_layers': 4, 'kernel_size': 7, 'stride': 6, 'padding': 10, 'pooling_type': 'max', 'use_batch_norm': True}. Best is trial 75 with value: 1.943814652349829e-05.\n"
     ]
    },
    {
     "name": "stdout",
     "output_type": "stream",
     "text": [
      "Epoch 50/50, Training Loss: 0.019645431729077244, Validation Loss: 0.00307595866615884\n",
      "Epoch 10/50, Training Loss: 0.017855878733098508, Validation Loss: 0.003904415847500786\n",
      "Epoch 20/50, Training Loss: 0.003389952317229472, Validation Loss: 0.007049152365652844\n",
      "Epoch 30/50, Training Loss: 0.0033230365074511307, Validation Loss: 0.0024264174280688167\n",
      "Epoch 40/50, Training Loss: 0.0027453020880784606, Validation Loss: 0.00011348700490998453\n"
     ]
    },
    {
     "name": "stderr",
     "output_type": "stream",
     "text": [
      "[I 2023-10-09 04:18:07,671] Trial 86 finished with value: 0.00024695763113413705 and parameters: {'lr': 0.0036579128071526014, 'dropout_prob': 0.2457856823938559, 'hidden_channels': 223, 'n_layers': 4, 'kernel_size': 8, 'stride': 5, 'padding': 9, 'pooling_type': 'max', 'use_batch_norm': True}. Best is trial 75 with value: 1.943814652349829e-05.\n"
     ]
    },
    {
     "name": "stdout",
     "output_type": "stream",
     "text": [
      "Epoch 50/50, Training Loss: 0.002708225024495429, Validation Loss: 0.00024695763113413705\n"
     ]
    },
    {
     "name": "stderr",
     "output_type": "stream",
     "text": [
      "[I 2023-10-09 04:18:08,653] Trial 87 finished with value: 1.0 and parameters: {'lr': 0.008490322785189753, 'dropout_prob': 0.23373484095819924, 'hidden_channels': 233, 'n_layers': 4, 'kernel_size': 8, 'stride': 4, 'padding': 1, 'pooling_type': 'max', 'use_batch_norm': True}. Best is trial 75 with value: 1.943814652349829e-05.\n"
     ]
    },
    {
     "name": "stdout",
     "output_type": "stream",
     "text": [
      "Trial failed with error: Calculated padded input size per channel: (4). Kernel size: (8). Kernel size can't be greater than actual input size\n",
      "Epoch 10/50, Training Loss: 0.006561131123453379, Validation Loss: 0.0033129962830571458\n",
      "Epoch 20/50, Training Loss: 0.06170588110884031, Validation Loss: 0.04959298064932227\n",
      "Epoch 30/50, Training Loss: 0.015720243689914544, Validation Loss: 0.0031231273751473054\n",
      "Epoch 40/50, Training Loss: 0.006185057721935058, Validation Loss: 0.00043337328042980516\n"
     ]
    },
    {
     "name": "stderr",
     "output_type": "stream",
     "text": [
      "[I 2023-10-09 04:18:59,797] Trial 88 finished with value: 0.001667207914579194 and parameters: {'lr': 0.006798278341190559, 'dropout_prob': 0.20229392523743567, 'hidden_channels': 204, 'n_layers': 5, 'kernel_size': 8, 'stride': 5, 'padding': 9, 'pooling_type': 'max', 'use_batch_norm': True}. Best is trial 75 with value: 1.943814652349829e-05.\n"
     ]
    },
    {
     "name": "stdout",
     "output_type": "stream",
     "text": [
      "Epoch 50/50, Training Loss: 0.0033872162718277346, Validation Loss: 0.001667207914579194\n",
      "Epoch 10/50, Training Loss: 0.012507202045526356, Validation Loss: 0.005031687847804278\n",
      "Epoch 20/50, Training Loss: 0.01050507671898231, Validation Loss: 0.018641863658558577\n",
      "Epoch 30/50, Training Loss: 0.0076341457422434665, Validation Loss: 0.0025902831002895255\n",
      "Epoch 40/50, Training Loss: 0.00152831705151281, Validation Loss: 0.004012433913885616\n"
     ]
    },
    {
     "name": "stderr",
     "output_type": "stream",
     "text": [
      "[I 2023-10-09 04:19:47,002] Trial 89 finished with value: 0.0007613845762080018 and parameters: {'lr': 0.0058056265841992276, 'dropout_prob': 0.22151788014590845, 'hidden_channels': 239, 'n_layers': 4, 'kernel_size': 7, 'stride': 6, 'padding': 10, 'pooling_type': 'max', 'use_batch_norm': True}. Best is trial 75 with value: 1.943814652349829e-05.\n"
     ]
    },
    {
     "name": "stdout",
     "output_type": "stream",
     "text": [
      "Epoch 50/50, Training Loss: 5.1808699633208256e-05, Validation Loss: 0.0007613845762080018\n",
      "Epoch 10/50, Training Loss: 0.026687642101508875, Validation Loss: 0.0008156257572409231\n",
      "Epoch 20/50, Training Loss: 0.015278867254770982, Validation Loss: 0.01808462681947276\n",
      "Epoch 30/50, Training Loss: 0.005920120458904421, Validation Loss: 0.0027476878312882036\n",
      "Epoch 40/50, Training Loss: 0.04904683422646485, Validation Loss: 0.012723560794256628\n"
     ]
    },
    {
     "name": "stderr",
     "output_type": "stream",
     "text": [
      "[I 2023-10-09 04:20:03,182] Trial 90 finished with value: 4.389705918583786e-05 and parameters: {'lr': 0.004426290230222113, 'dropout_prob': 0.2912669993983817, 'hidden_channels': 144, 'n_layers': 5, 'kernel_size': 9, 'stride': 5, 'padding': 7, 'pooling_type': 'max', 'use_batch_norm': True}. Best is trial 75 with value: 1.943814652349829e-05.\n"
     ]
    },
    {
     "name": "stdout",
     "output_type": "stream",
     "text": [
      "Epoch 50/50, Training Loss: 8.310951258560332e-05, Validation Loss: 4.389705918583786e-05\n",
      "Epoch 10/50, Training Loss: 0.03759708289677898, Validation Loss: 0.0027444933366496116\n",
      "Epoch 20/50, Training Loss: 0.01601211127708666, Validation Loss: 0.000644362808088772\n",
      "Epoch 30/50, Training Loss: 0.00692532957327785, Validation Loss: 0.004140875189477811\n",
      "Epoch 40/50, Training Loss: 0.002290948976466704, Validation Loss: 0.0008778375195106491\n"
     ]
    },
    {
     "name": "stderr",
     "output_type": "stream",
     "text": [
      "[I 2023-10-09 04:20:16,566] Trial 91 finished with value: 0.00556578044552225 and parameters: {'lr': 0.004329956560928006, 'dropout_prob': 0.2949885312151307, 'hidden_channels': 150, 'n_layers': 5, 'kernel_size': 9, 'stride': 5, 'padding': 7, 'pooling_type': 'max', 'use_batch_norm': True}. Best is trial 75 with value: 1.943814652349829e-05.\n"
     ]
    },
    {
     "name": "stdout",
     "output_type": "stream",
     "text": [
      "Epoch 50/50, Training Loss: 0.00018015718087553977, Validation Loss: 0.00556578044552225\n",
      "Epoch 10/50, Training Loss: 0.010748976663065454, Validation Loss: 0.0025856968422885984\n",
      "Epoch 20/50, Training Loss: 0.004280817262285078, Validation Loss: 0.005808293499285355\n",
      "Epoch 30/50, Training Loss: 0.024032159560980895, Validation Loss: 0.011734482133761048\n",
      "Epoch 40/50, Training Loss: 0.0017600318203524997, Validation Loss: 0.0010233895955025218\n"
     ]
    },
    {
     "name": "stderr",
     "output_type": "stream",
     "text": [
      "[I 2023-10-09 04:20:32,463] Trial 92 finished with value: 2.4224023036367726e-05 and parameters: {'lr': 0.002702407341128738, 'dropout_prob': 0.26055229931544666, 'hidden_channels': 141, 'n_layers': 5, 'kernel_size': 9, 'stride': 5, 'padding': 7, 'pooling_type': 'max', 'use_batch_norm': True}. Best is trial 75 with value: 1.943814652349829e-05.\n"
     ]
    },
    {
     "name": "stdout",
     "output_type": "stream",
     "text": [
      "Epoch 50/50, Training Loss: 0.00021175534590535486, Validation Loss: 2.4224023036367726e-05\n",
      "Epoch 10/50, Training Loss: 0.033737037889659406, Validation Loss: 0.0037983095389790833\n",
      "Epoch 20/50, Training Loss: 0.01613369363573535, Validation Loss: 0.0004897501348750666\n",
      "Epoch 30/50, Training Loss: 0.004761403987746841, Validation Loss: 0.00017809222845244221\n",
      "Epoch 40/50, Training Loss: 0.0008321492818746871, Validation Loss: 9.164413677353878e-05\n"
     ]
    },
    {
     "name": "stderr",
     "output_type": "stream",
     "text": [
      "[I 2023-10-09 04:20:44,307] Trial 93 finished with value: 0.001379798643029062 and parameters: {'lr': 0.0026332581357270215, 'dropout_prob': 0.25830863339820986, 'hidden_channels': 158, 'n_layers': 4, 'kernel_size': 9, 'stride': 5, 'padding': 7, 'pooling_type': 'max', 'use_batch_norm': True}. Best is trial 75 with value: 1.943814652349829e-05.\n"
     ]
    },
    {
     "name": "stdout",
     "output_type": "stream",
     "text": [
      "Epoch 50/50, Training Loss: 0.002668378864321615, Validation Loss: 0.001379798643029062\n",
      "Epoch 10/50, Training Loss: 0.005452798974389831, Validation Loss: 0.002800653863232583\n",
      "Epoch 20/50, Training Loss: 0.011547908276164283, Validation Loss: 0.00257087790305377\n",
      "Epoch 30/50, Training Loss: 0.0074751981650479134, Validation Loss: 0.0008342844812432304\n",
      "Epoch 40/50, Training Loss: 0.00142485398852538, Validation Loss: 0.0007410381367662922\n"
     ]
    },
    {
     "name": "stderr",
     "output_type": "stream",
     "text": [
      "[I 2023-10-09 04:20:58,855] Trial 94 finished with value: 0.0007866069790907204 and parameters: {'lr': 0.001805327873025809, 'dropout_prob': 0.3176809566065546, 'hidden_channels': 136, 'n_layers': 5, 'kernel_size': 9, 'stride': 5, 'padding': 7, 'pooling_type': 'max', 'use_batch_norm': True}. Best is trial 75 with value: 1.943814652349829e-05.\n"
     ]
    },
    {
     "name": "stdout",
     "output_type": "stream",
     "text": [
      "Epoch 50/50, Training Loss: 0.0037269509101558167, Validation Loss: 0.0007866069790907204\n",
      "Epoch 10/50, Training Loss: 0.008005706806822369, Validation Loss: 0.010589528392301872\n",
      "Epoch 20/50, Training Loss: 0.002906963075414145, Validation Loss: 0.0005422944959718734\n",
      "Epoch 30/50, Training Loss: 0.007196117409815391, Validation Loss: 0.0009958263444787008\n",
      "Epoch 40/50, Training Loss: 0.006621331845720609, Validation Loss: 0.0022193880286067724\n"
     ]
    },
    {
     "name": "stderr",
     "output_type": "stream",
     "text": [
      "[I 2023-10-09 04:21:13,484] Trial 95 finished with value: 0.0007701913418713957 and parameters: {'lr': 0.0031657376010780524, 'dropout_prob': 0.25106987671417613, 'hidden_channels': 144, 'n_layers': 5, 'kernel_size': 8, 'stride': 4, 'padding': 6, 'pooling_type': 'max', 'use_batch_norm': True}. Best is trial 75 with value: 1.943814652349829e-05.\n"
     ]
    },
    {
     "name": "stdout",
     "output_type": "stream",
     "text": [
      "Epoch 50/50, Training Loss: 0.00999746716406662, Validation Loss: 0.0007701913418713957\n",
      "Epoch 10/50, Training Loss: 0.010794806255338093, Validation Loss: 0.0015741918177809566\n",
      "Epoch 20/50, Training Loss: 0.003973473201040178, Validation Loss: 0.0022773268683522474\n",
      "Epoch 30/50, Training Loss: 0.012971547851338982, Validation Loss: 0.0018537083233240992\n",
      "Epoch 40/50, Training Loss: 0.00020582360763607237, Validation Loss: 0.0002384556228207657\n"
     ]
    },
    {
     "name": "stderr",
     "output_type": "stream",
     "text": [
      "[I 2023-10-09 04:21:23,598] Trial 96 finished with value: 0.00012584203113874537 and parameters: {'lr': 0.0025364465338439876, 'dropout_prob': 0.2120236191550495, 'hidden_channels': 169, 'n_layers': 3, 'kernel_size': 9, 'stride': 5, 'padding': 6, 'pooling_type': 'max', 'use_batch_norm': True}. Best is trial 75 with value: 1.943814652349829e-05.\n"
     ]
    },
    {
     "name": "stdout",
     "output_type": "stream",
     "text": [
      "Epoch 50/50, Training Loss: 9.034057560105187e-05, Validation Loss: 0.00012584203113874537\n",
      "Epoch 10/50, Training Loss: 0.03816642006859183, Validation Loss: 0.019042352912947536\n",
      "Epoch 20/50, Training Loss: 0.010633766709361225, Validation Loss: 0.029739525052718818\n",
      "Epoch 30/50, Training Loss: 0.07915557010564953, Validation Loss: 0.018717590486630797\n",
      "Epoch 40/50, Training Loss: 0.0030146733256212126, Validation Loss: 0.0010510661613807315\n"
     ]
    },
    {
     "name": "stderr",
     "output_type": "stream",
     "text": [
      "[I 2023-10-09 04:21:33,734] Trial 97 finished with value: 0.0006085487048039795 and parameters: {'lr': 0.0035672749374407973, 'dropout_prob': 0.1836362961276829, 'hidden_channels': 122, 'n_layers': 4, 'kernel_size': 9, 'stride': 5, 'padding': 7, 'pooling_type': 'max', 'use_batch_norm': False}. Best is trial 75 with value: 1.943814652349829e-05.\n"
     ]
    },
    {
     "name": "stdout",
     "output_type": "stream",
     "text": [
      "Epoch 50/50, Training Loss: 0.0006102788157780499, Validation Loss: 0.0006085487048039795\n",
      "Epoch 10/50, Training Loss: 0.010940518125426024, Validation Loss: 0.0023757539493090007\n",
      "Epoch 20/50, Training Loss: 0.006184109684545547, Validation Loss: 0.006125386571511626\n",
      "Epoch 30/50, Training Loss: 0.00017350168879299115, Validation Loss: 0.00028579708828146977\n",
      "Epoch 40/50, Training Loss: 2.5736299357959068e-05, Validation Loss: 0.0007772434840944697\n"
     ]
    },
    {
     "name": "stderr",
     "output_type": "stream",
     "text": [
      "[I 2023-10-09 04:21:46,009] Trial 98 finished with value: 0.0008121513620835685 and parameters: {'lr': 0.004464368212321376, 'dropout_prob': 0.23122089154240288, 'hidden_channels': 185, 'n_layers': 4, 'kernel_size': 8, 'stride': 6, 'padding': 7, 'pooling_type': 'max', 'use_batch_norm': True}. Best is trial 75 with value: 1.943814652349829e-05.\n"
     ]
    },
    {
     "name": "stdout",
     "output_type": "stream",
     "text": [
      "Epoch 50/50, Training Loss: 1.6242548720886892e-05, Validation Loss: 0.0008121513620835685\n",
      "Epoch 10/50, Training Loss: 0.016988670577605565, Validation Loss: 0.024114715633913875\n",
      "Epoch 20/50, Training Loss: 0.004595679882913828, Validation Loss: 0.005639554132358171\n",
      "Epoch 30/50, Training Loss: 0.008294080562579135, Validation Loss: 0.04440965736284852\n",
      "Epoch 40/50, Training Loss: 0.0016722764521546196, Validation Loss: 0.026794276433065534\n"
     ]
    },
    {
     "name": "stderr",
     "output_type": "stream",
     "text": [
      "[I 2023-10-09 04:22:07,131] Trial 99 finished with value: 0.00766369748453144 and parameters: {'lr': 0.001554464081698639, 'dropout_prob': 0.2616769743949508, 'hidden_channels': 211, 'n_layers': 5, 'kernel_size': 9, 'stride': 5, 'padding': 8, 'pooling_type': 'avg', 'use_batch_norm': True}. Best is trial 75 with value: 1.943814652349829e-05.\n"
     ]
    },
    {
     "name": "stdout",
     "output_type": "stream",
     "text": [
      "Epoch 50/50, Training Loss: 0.012263689128061136, Validation Loss: 0.00766369748453144\n"
     ]
    }
   ],
   "source": [
    "# Create an Optuna study with SQLite storage and TPE pruner\n",
    "study = optuna.create_study(\n",
    "    study_name=\"Case#2: Force Outer\",\n",
    "    direction=\"minimize\",  # Minimize final validation loss\n",
    "    storage=\"sqlite:///../../database_sqllite//db.sqlite3\",\n",
    "    pruner=optuna.pruners.MedianPruner(n_warmup_steps=5),  \n",
    ")\n",
    "\n",
    "# Define the number of trials (hyperparameter combinations) you want to search\n",
    "num_trials = 100  \n",
    "\n",
    "# Perform hyperparameter optimization\n",
    "study.optimize(objective, n_trials=num_trials, n_jobs=1)\n"
   ]
  },
  {
   "cell_type": "code",
   "execution_count": 11,
   "metadata": {},
   "outputs": [
    {
     "name": "stdout",
     "output_type": "stream",
     "text": [
      "Best hyperparameters:\n",
      "{'lr': 0.00435612106373003, 'dropout_prob': 0.21769773768647277, 'hidden_channels': 223, 'n_layers': 4, 'kernel_size': 7, 'stride': 5, 'padding': 9, 'pooling_type': 'max', 'use_batch_norm': True}\n",
      "Best final validation loss:\n",
      "1.943814652349829e-05\n"
     ]
    }
   ],
   "source": [
    "# Print the best hyperparameters and their associated final validation loss\n",
    "print(\"Best hyperparameters:\")\n",
    "print(study.best_params)\n",
    "print(\"Best final validation loss:\")\n",
    "print(study.best_value)"
   ]
  },
  {
   "cell_type": "code",
   "execution_count": 12,
   "metadata": {},
   "outputs": [],
   "source": [
    "# Specify the path where you want to save the JSON file\n",
    "config_file_path = \"../best_configs/force_outer_best_configs.json\""
   ]
  },
  {
   "cell_type": "code",
   "execution_count": 14,
   "metadata": {},
   "outputs": [],
   "source": [
    "\n",
    "# Load the saved configuration\n",
    "with open(config_file_path, \"r\") as config_file:\n",
    "    saved_configs = json.load(config_file)\n",
    "\n",
    "# Compare the new best value with the saved one\n",
    "if study.best_value < saved_configs[\"best_value\"]:\n",
    "    print(\"New best value found. Replacing saved configuration.\")\n",
    "    saved_configs[\"best_params\"] = study.best_params\n",
    "    saved_configs[\"best_value\"] = study.best_value\n",
    "\n",
    "    # Update the saved configuration file\n",
    "    with open(config_file_path, \"w\") as config_file:\n",
    "        json.dump(saved_configs, config_file)"
   ]
  },
  {
   "cell_type": "code",
   "execution_count": 13,
   "metadata": {},
   "outputs": [],
   "source": [
    "# Save the best hyperparameters and validation loss to a JSON file\n",
    "best_configs = {\n",
    "    \"best_params\": study.best_params,\n",
    "    \"best_value\": study.best_value,\n",
    "}\n",
    "\n",
    "with open(config_file_path, \"w\") as config_file:\n",
    "    json.dump(best_configs, config_file)"
   ]
  },
  {
   "cell_type": "markdown",
   "metadata": {},
   "source": [
    "# Thank You"
   ]
  }
 ],
 "metadata": {
  "kernelspec": {
   "display_name": ".aifaps",
   "language": "python",
   "name": "python3"
  },
  "language_info": {
   "codemirror_mode": {
    "name": "ipython",
    "version": 3
   },
   "file_extension": ".py",
   "mimetype": "text/x-python",
   "name": "python",
   "nbconvert_exporter": "python",
   "pygments_lexer": "ipython3",
   "version": "3.11.4"
  },
  "orig_nbformat": 4
 },
 "nbformat": 4,
 "nbformat_minor": 2
}
