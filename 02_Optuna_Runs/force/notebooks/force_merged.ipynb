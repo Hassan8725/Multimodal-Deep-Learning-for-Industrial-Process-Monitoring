{
 "cells": [
  {
   "cell_type": "code",
   "execution_count": 2,
   "metadata": {},
   "outputs": [],
   "source": [
    "#---import libraries relating to data manipulation, visualization---------------------------------------------------\n",
    "import pandas as pd\n",
    "%matplotlib inline\n",
    "import numpy as np\n",
    "import json\n",
    "\n",
    "\n",
    "#-------import libraries to evaluate the deep learning model---------------------------------------------------------------\n",
    "from sklearn.model_selection import train_test_split\n",
    "\n",
    "\n",
    "import warnings\n",
    "warnings.filterwarnings('ignore')\n",
    "\n",
    "#------ import Deep Learning Libraries-------#\n",
    "\n",
    "import torch\n",
    "import torch.nn as nn\n",
    "import torch.optim as optim\n",
    "\n",
    "import optuna\n",
    "from optuna.trial import Trial\n",
    "\n",
    "import pickle\n",
    "\n",
    "\n",
    "pd.set_option('display.max_columns', None)\n",
    "pd.set_option(\"max_colwidth\", None)\n",
    "\n",
    "import sys\n",
    "sys.path.append('../../../src')  # Add the 'src' directory to the path\n",
    "\n",
    "#### Import Data Loading and Processing Functions\n",
    "from multimodal.helper_functions import reproducible_comp, get_final_df\n",
    "from multimodal.model_architecture import Generic1DCNN\n",
    "reproducible_comp()"
   ]
  },
  {
   "cell_type": "code",
   "execution_count": 4,
   "metadata": {},
   "outputs": [
    {
     "name": "stdout",
     "output_type": "stream",
     "text": [
      "Features Shape:  (2680, 1)\n",
      "Labels Shape:  (2680, 4)\n"
     ]
    }
   ],
   "source": [
    "file_path = \"../../../data/processed_data/force_inner.pkl\"\n",
    "with open(file_path, 'rb') as picklefile:\n",
    "    data = pickle.load(picklefile)\n",
    "\n",
    "features_force_inner, category_force_inner, category_names, df_force_inner = get_final_df(data, is_acc_data=0, is_multilabel=1)\n",
    "\n",
    "file_path = \"../../../data/processed_data/force_outer.pkl\"\n",
    "with open(file_path, 'rb') as picklefile:\n",
    "    data = pickle.load(picklefile)\n",
    "\n",
    "features_force_outer, category_force_outer, category_names, df_force_outer = get_final_df(data, is_acc_data=0, is_multilabel=1)\n",
    "\n",
    "merged_features_force = np.concatenate((features_force_inner,features_force_outer), axis=0)\n",
    "merged_category_force = np.concatenate((category_force_inner,category_force_outer), axis=0)\n",
    "\n",
    "labels = merged_category_force.copy()\n",
    "features=merged_features_force.copy()\n",
    "print(\"Features Shape: \", features.shape)\n",
    "print(\"Labels Shape: \", labels.shape)"
   ]
  },
  {
   "cell_type": "code",
   "execution_count": 5,
   "metadata": {},
   "outputs": [
    {
     "name": "stdout",
     "output_type": "stream",
     "text": [
      "Updated Features Shape:  (2680, 150)\n"
     ]
    }
   ],
   "source": [
    "max_length = 150\n",
    "for i in range (len(features)):\n",
    "    if(len(features[i][0]<max_length)):\n",
    "        features[i][0]=np.pad(features[i][0], (0,max_length-len(features[i][0])), 'constant', constant_values=(0))\n",
    "feat= np.zeros(len(features) *max_length).reshape(-1, max_length)\n",
    "for i in range(len(features)):\n",
    "    feat[i]= np.concatenate((features[i][0]), axis=None)\n",
    "    \n",
    "\n",
    "print(\"Updated Features Shape: \", feat.shape)"
   ]
  },
  {
   "cell_type": "code",
   "execution_count": 6,
   "metadata": {},
   "outputs": [],
   "source": [
    "X_train, X_test, y_train, y_test = train_test_split(feat, labels, test_size=0.1, \n",
    "                                                    random_state=2, shuffle=True, stratify=labels)"
   ]
  },
  {
   "cell_type": "code",
   "execution_count": 7,
   "metadata": {},
   "outputs": [
    {
     "name": "stdout",
     "output_type": "stream",
     "text": [
      "(2412, 1, 150)\n",
      "(2412, 4)\n",
      "(268, 1, 150)\n",
      "(268, 4)\n"
     ]
    }
   ],
   "source": [
    "X_train = X_train.reshape(-1, 1, feat.shape[1])\n",
    "X_test = X_test.reshape(-1, 1, feat.shape[1])\n",
    "\n",
    "print(X_train.shape)\n",
    "print(y_train.shape)\n",
    "print(X_test.shape)\n",
    "print(y_test.shape)"
   ]
  },
  {
   "cell_type": "code",
   "execution_count": 8,
   "metadata": {},
   "outputs": [],
   "source": [
    "from torch.utils.data import DataLoader, TensorDataset\n",
    "\n",
    "# Convert your data to PyTorch tensors\n",
    "x_train = torch.tensor(X_train, dtype=torch.float32)\n",
    "y_train = torch.tensor(y_train, dtype=torch.long)\n",
    "\n",
    "input_channels = 1\n",
    "num_classes = 4\n",
    "\n",
    "device = torch.device(\"cuda\" if torch.cuda.is_available() else \"cpu\")\n",
    "\n",
    "# Define the objective function for hyperparameter optimization\n",
    "def objective(trial: Trial):\n",
    "    try:\n",
    "        # Define hyperparameters to search for\n",
    "        lr = trial.suggest_loguniform(\"lr\", 1e-5, 1e-2)  # Suggest a learning rate in log scale\n",
    "        dropout_prob = trial.suggest_float(\"dropout_prob\", 0.0, 0.5)\n",
    "        hidden_channels = trial.suggest_int(\"hidden_channels\", 16, 256)\n",
    "        n_layers = trial.suggest_int(\"n_layers\", 1, 7)\n",
    "        kernel_size = trial.suggest_int(\"kernel_size\", 3, 9)\n",
    "        stride = trial.suggest_int(\"stride\", 1, 7)\n",
    "        padding = trial.suggest_int(\"padding\", 1, 10)\n",
    "        pooling_type = trial.suggest_categorical(\"pooling_type\", [\"max\", \"avg\"])  \n",
    "        use_batch_norm = trial.suggest_categorical(\"use_batch_norm\", [True, False]) \n",
    "\n",
    "\n",
    "        # Split the data into training and validation sets\n",
    "        x_train_split, x_valid_split, y_train_split, y_valid_split = train_test_split(\n",
    "            x_train, y_train, test_size=0.2, random_state=42\n",
    "        )\n",
    "\n",
    "        train_dataset = TensorDataset(x_train_split, y_train_split)\n",
    "        valid_dataset = TensorDataset(x_valid_split, y_valid_split)\n",
    "\n",
    "        train_loader = DataLoader(train_dataset, batch_size=64, shuffle=True)\n",
    "        valid_loader = DataLoader(valid_dataset, batch_size=64, shuffle=False)\n",
    "\n",
    "        # Create the model with the suggested hyperparameters\n",
    "        model = Generic1DCNN(input_channels, num_classes, n_layers, kernel_size, stride, padding,\n",
    "                            hidden_channels, dropout_prob, pooling_type, use_batch_norm).to(device)\n",
    "\n",
    "        criterion = nn.BCEWithLogitsLoss()\n",
    "        optimizer = optim.Adam(model.parameters(), lr=lr)\n",
    "\n",
    "        num_epochs = 50\n",
    "\n",
    "        model.train()\n",
    "        for epoch in range(num_epochs):\n",
    "            # Training loop\n",
    "            running_loss = 0.0\n",
    "            for inputs, labels in train_loader:\n",
    "                inputs, labels = inputs.to(device), labels.to(device)\n",
    "\n",
    "                optimizer.zero_grad()\n",
    "\n",
    "                outputs = model(inputs)\n",
    "                loss = criterion(outputs, labels.float())\n",
    "                loss.backward()\n",
    "                optimizer.step()\n",
    "\n",
    "                running_loss += loss.item()\n",
    "\n",
    "            train_loss = running_loss / len(train_loader)\n",
    "\n",
    "            # Validation loss calculation (similar to training loop)\n",
    "            model.eval()\n",
    "            valid_loss = 0.0\n",
    "            with torch.no_grad():\n",
    "                for inputs_valid, labels_valid in valid_loader:\n",
    "                    inputs_valid, labels_valid = inputs_valid.to(device), labels_valid.to(device)\n",
    "                    outputs_valid = model(inputs_valid)\n",
    "                    loss_valid = criterion(outputs_valid, labels_valid.float())\n",
    "                    valid_loss += loss_valid.item()\n",
    "\n",
    "            valid_loss = valid_loss / len(valid_loader)\n",
    "            if (epoch + 1) % 10 == 0:\n",
    "                print(f\"Epoch {epoch + 1}/{num_epochs}, Training Loss: {train_loss}, Validation Loss: {valid_loss}\")\n",
    "\n",
    "        # Calculate and return the final validation loss\n",
    "        return valid_loss\n",
    "    \n",
    "    except Exception as e:\n",
    "        # Print the error for debugging purposes (optional)\n",
    "        print(f\"Trial failed with error: {e}\")\n",
    "\n",
    "        # Return a high validation loss to indicate failure\n",
    "        return 1.0  # High validation loss\n",
    "    \n"
   ]
  },
  {
   "cell_type": "code",
   "execution_count": 9,
   "metadata": {},
   "outputs": [
    {
     "name": "stderr",
     "output_type": "stream",
     "text": [
      "[I 2023-10-09 04:47:51,536] A new study created in RDB with name: Case#3: Force Merged\n",
      "[I 2023-10-09 04:47:52,641] Trial 0 finished with value: 1.0 and parameters: {'lr': 0.0010964549524828137, 'dropout_prob': 0.46112021000191755, 'hidden_channels': 40, 'n_layers': 3, 'kernel_size': 8, 'stride': 6, 'padding': 5, 'pooling_type': 'avg', 'use_batch_norm': True}. Best is trial 0 with value: 1.0.\n"
     ]
    },
    {
     "name": "stdout",
     "output_type": "stream",
     "text": [
      "Trial failed with error: Given input size: (40x1x1). Calculated output size: (40x1x0). Output size is too small\n"
     ]
    },
    {
     "name": "stderr",
     "output_type": "stream",
     "text": [
      "[I 2023-10-09 04:47:53,537] Trial 1 finished with value: 1.0 and parameters: {'lr': 4.797642831959844e-05, 'dropout_prob': 0.1309842737255531, 'hidden_channels': 152, 'n_layers': 6, 'kernel_size': 8, 'stride': 3, 'padding': 1, 'pooling_type': 'avg', 'use_batch_norm': False}. Best is trial 0 with value: 1.0.\n"
     ]
    },
    {
     "name": "stdout",
     "output_type": "stream",
     "text": [
      "Trial failed with error: Calculated padded input size per channel: (5). Kernel size: (8). Kernel size can't be greater than actual input size\n",
      "Epoch 10/50, Training Loss: 0.5922164618968964, Validation Loss: 0.5909198522567749\n",
      "Epoch 20/50, Training Loss: 0.3501712622181062, Validation Loss: 0.342895045876503\n",
      "Epoch 30/50, Training Loss: 0.30493964687470465, Validation Loss: 0.28010986000299454\n",
      "Epoch 40/50, Training Loss: 0.26274382779675143, Validation Loss: 0.2599780857563019\n"
     ]
    },
    {
     "name": "stderr",
     "output_type": "stream",
     "text": [
      "[I 2023-10-09 04:49:54,011] Trial 2 finished with value: 0.21936751529574394 and parameters: {'lr': 1.6966978060123207e-05, 'dropout_prob': 0.10444288167130766, 'hidden_channels': 144, 'n_layers': 7, 'kernel_size': 7, 'stride': 1, 'padding': 10, 'pooling_type': 'avg', 'use_batch_norm': False}. Best is trial 2 with value: 0.21936751529574394.\n"
     ]
    },
    {
     "name": "stdout",
     "output_type": "stream",
     "text": [
      "Epoch 50/50, Training Loss: 0.24262333877625003, Validation Loss: 0.21936751529574394\n",
      "Epoch 10/50, Training Loss: 0.0651177889517238, Validation Loss: 0.061953949742019176\n",
      "Epoch 20/50, Training Loss: 0.03124038688838482, Validation Loss: 0.05490516358986497\n",
      "Epoch 30/50, Training Loss: 0.019843695670246117, Validation Loss: 0.031674610916525126\n",
      "Epoch 40/50, Training Loss: 0.01255017670712644, Validation Loss: 0.0226323856622912\n"
     ]
    },
    {
     "name": "stderr",
     "output_type": "stream",
     "text": [
      "[I 2023-10-09 04:53:18,541] Trial 3 finished with value: 0.019552341735106893 and parameters: {'lr': 0.0004481053865546101, 'dropout_prob': 0.27220984308988916, 'hidden_channels': 197, 'n_layers': 3, 'kernel_size': 5, 'stride': 2, 'padding': 2, 'pooling_type': 'avg', 'use_batch_norm': False}. Best is trial 3 with value: 0.019552341735106893.\n"
     ]
    },
    {
     "name": "stdout",
     "output_type": "stream",
     "text": [
      "Epoch 50/50, Training Loss: 0.01164331326952144, Validation Loss: 0.019552341735106893\n"
     ]
    },
    {
     "name": "stderr",
     "output_type": "stream",
     "text": [
      "[I 2023-10-09 04:53:19,449] Trial 4 finished with value: 1.0 and parameters: {'lr': 0.006242345863439037, 'dropout_prob': 0.36810388032970165, 'hidden_channels': 141, 'n_layers': 5, 'kernel_size': 7, 'stride': 1, 'padding': 1, 'pooling_type': 'max', 'use_batch_norm': True}. Best is trial 3 with value: 0.019552341735106893.\n"
     ]
    },
    {
     "name": "stdout",
     "output_type": "stream",
     "text": [
      "Trial failed with error: max_pool1d() Invalid computed output size: 0\n",
      "Epoch 10/50, Training Loss: 0.0317216535970088, Validation Loss: 0.028649523854255676\n",
      "Epoch 20/50, Training Loss: 0.009923981712950815, Validation Loss: 0.014215250092092901\n",
      "Epoch 30/50, Training Loss: 0.005450145739521231, Validation Loss: 0.013955668138805777\n",
      "Epoch 40/50, Training Loss: 0.003888706351825667, Validation Loss: 0.012366893439320847\n"
     ]
    },
    {
     "name": "stderr",
     "output_type": "stream",
     "text": [
      "[I 2023-10-09 04:53:41,753] Trial 5 finished with value: 0.01105350449506659 and parameters: {'lr': 0.0001053841714636572, 'dropout_prob': 0.4500140777752376, 'hidden_channels': 208, 'n_layers': 3, 'kernel_size': 6, 'stride': 3, 'padding': 4, 'pooling_type': 'avg', 'use_batch_norm': True}. Best is trial 5 with value: 0.01105350449506659.\n"
     ]
    },
    {
     "name": "stdout",
     "output_type": "stream",
     "text": [
      "Epoch 50/50, Training Loss: 0.003021145425361371, Validation Loss: 0.01105350449506659\n",
      "Epoch 10/50, Training Loss: 0.02803422858931064, Validation Loss: 0.02268317900598049\n",
      "Epoch 20/50, Training Loss: 0.00011960318114424515, Validation Loss: 0.007622562214237405\n",
      "Epoch 30/50, Training Loss: 2.838624183618043e-05, Validation Loss: 0.009601552296317095\n",
      "Epoch 40/50, Training Loss: 1.3748713091709145e-05, Validation Loss: 0.01038033388238091\n"
     ]
    },
    {
     "name": "stderr",
     "output_type": "stream",
     "text": [
      "[I 2023-10-09 04:54:03,446] Trial 6 finished with value: 0.010967757545643053 and parameters: {'lr': 0.0023399490659259943, 'dropout_prob': 0.07084250200508546, 'hidden_channels': 31, 'n_layers': 6, 'kernel_size': 7, 'stride': 6, 'padding': 10, 'pooling_type': 'max', 'use_batch_norm': True}. Best is trial 6 with value: 0.010967757545643053.\n"
     ]
    },
    {
     "name": "stdout",
     "output_type": "stream",
     "text": [
      "Epoch 50/50, Training Loss: 7.922896429590764e-06, Validation Loss: 0.010967757545643053\n",
      "Epoch 10/50, Training Loss: 0.44363315451529717, Validation Loss: 0.4434616230428219\n",
      "Epoch 20/50, Training Loss: 0.3177781835679085, Validation Loss: 0.32057399675250053\n",
      "Epoch 30/50, Training Loss: 0.23964671021507633, Validation Loss: 0.24500431306660175\n",
      "Epoch 40/50, Training Loss: 0.1919452052923941, Validation Loss: 0.19651431404054165\n"
     ]
    },
    {
     "name": "stderr",
     "output_type": "stream",
     "text": [
      "[I 2023-10-09 04:54:14,590] Trial 7 finished with value: 0.15953006595373154 and parameters: {'lr': 0.00041990745382886475, 'dropout_prob': 0.34025018351725067, 'hidden_channels': 203, 'n_layers': 1, 'kernel_size': 6, 'stride': 2, 'padding': 8, 'pooling_type': 'avg', 'use_batch_norm': False}. Best is trial 6 with value: 0.010967757545643053.\n"
     ]
    },
    {
     "name": "stdout",
     "output_type": "stream",
     "text": [
      "Epoch 50/50, Training Loss: 0.1544623975792239, Validation Loss: 0.15953006595373154\n",
      "Epoch 10/50, Training Loss: 0.013603501485645651, Validation Loss: 0.004204905104415957\n",
      "Epoch 20/50, Training Loss: 0.014886766692319314, Validation Loss: 0.03692946524824947\n",
      "Epoch 30/50, Training Loss: 0.003095305463771623, Validation Loss: 0.005139742847859452\n",
      "Epoch 40/50, Training Loss: 0.001478057405150931, Validation Loss: 0.010264914362778654\n"
     ]
    },
    {
     "name": "stderr",
     "output_type": "stream",
     "text": [
      "[I 2023-10-09 04:54:54,731] Trial 8 finished with value: 0.005053666639923904 and parameters: {'lr': 0.009990187465301064, 'dropout_prob': 0.17801491987570867, 'hidden_channels': 243, 'n_layers': 2, 'kernel_size': 8, 'stride': 7, 'padding': 8, 'pooling_type': 'avg', 'use_batch_norm': True}. Best is trial 8 with value: 0.005053666639923904.\n"
     ]
    },
    {
     "name": "stdout",
     "output_type": "stream",
     "text": [
      "Epoch 50/50, Training Loss: 0.001933101434265301, Validation Loss: 0.005053666639923904\n",
      "Epoch 10/50, Training Loss: 0.06085861588437711, Validation Loss: 0.05350704584270716\n",
      "Epoch 20/50, Training Loss: 0.028356533813019915, Validation Loss: 0.02938401256687939\n",
      "Epoch 30/50, Training Loss: 0.024360868982189605, Validation Loss: 0.023133008158765733\n",
      "Epoch 40/50, Training Loss: 0.01528665910835468, Validation Loss: 0.01931951503502205\n"
     ]
    },
    {
     "name": "stderr",
     "output_type": "stream",
     "text": [
      "[I 2023-10-09 04:55:34,598] Trial 9 finished with value: 0.018328452919377014 and parameters: {'lr': 0.0012791976301956918, 'dropout_prob': 0.23071845214618447, 'hidden_channels': 187, 'n_layers': 4, 'kernel_size': 3, 'stride': 3, 'padding': 8, 'pooling_type': 'avg', 'use_batch_norm': False}. Best is trial 8 with value: 0.005053666639923904.\n"
     ]
    },
    {
     "name": "stdout",
     "output_type": "stream",
     "text": [
      "Epoch 50/50, Training Loss: 0.009958594661927032, Validation Loss: 0.018328452919377014\n",
      "Epoch 10/50, Training Loss: 0.016702759154741804, Validation Loss: 0.015001383027993143\n",
      "Epoch 20/50, Training Loss: 0.010151259860234154, Validation Loss: 0.009849042282439768\n",
      "Epoch 30/50, Training Loss: 0.002825605506528049, Validation Loss: 0.008564936149923597\n",
      "Epoch 40/50, Training Loss: 0.0030082602958915934, Validation Loss: 0.00625556552404305\n"
     ]
    },
    {
     "name": "stderr",
     "output_type": "stream",
     "text": [
      "[I 2023-10-09 04:55:44,001] Trial 10 finished with value: 0.0038061888226366136 and parameters: {'lr': 0.00789358364972977, 'dropout_prob': 0.018784537648941946, 'hidden_channels': 247, 'n_layers': 1, 'kernel_size': 9, 'stride': 7, 'padding': 7, 'pooling_type': 'max', 'use_batch_norm': True}. Best is trial 10 with value: 0.0038061888226366136.\n"
     ]
    },
    {
     "name": "stdout",
     "output_type": "stream",
     "text": [
      "Epoch 50/50, Training Loss: 0.0008525364138486405, Validation Loss: 0.0038061888226366136\n",
      "Epoch 10/50, Training Loss: 0.012673470026422893, Validation Loss: 0.012541500618681312\n",
      "Epoch 20/50, Training Loss: 0.0075549880162842815, Validation Loss: 0.0071435221179854125\n",
      "Epoch 30/50, Training Loss: 0.004074673686597136, Validation Loss: 0.004558120999718085\n",
      "Epoch 40/50, Training Loss: 0.0035140572712876864, Validation Loss: 0.0033697397375362925\n"
     ]
    },
    {
     "name": "stderr",
     "output_type": "stream",
     "text": [
      "[I 2023-10-09 04:55:53,086] Trial 11 finished with value: 0.004630979456123896 and parameters: {'lr': 0.009615165737496257, 'dropout_prob': 0.012601084658515532, 'hidden_channels': 255, 'n_layers': 1, 'kernel_size': 9, 'stride': 7, 'padding': 7, 'pooling_type': 'max', 'use_batch_norm': True}. Best is trial 10 with value: 0.0038061888226366136.\n"
     ]
    },
    {
     "name": "stdout",
     "output_type": "stream",
     "text": [
      "Epoch 50/50, Training Loss: 0.000693163441141106, Validation Loss: 0.004630979456123896\n",
      "Epoch 10/50, Training Loss: 0.03177602402865887, Validation Loss: 0.036228109849616885\n",
      "Epoch 20/50, Training Loss: 0.012088599967800321, Validation Loss: 0.03741608979180455\n",
      "Epoch 30/50, Training Loss: 0.008245883562091378, Validation Loss: 0.014729646674823016\n",
      "Epoch 40/50, Training Loss: 0.003899412762914454, Validation Loss: 0.009522181731881574\n"
     ]
    },
    {
     "name": "stderr",
     "output_type": "stream",
     "text": [
      "[I 2023-10-09 04:56:02,272] Trial 12 finished with value: 0.012568324222229421 and parameters: {'lr': 0.003999817089676708, 'dropout_prob': 0.001447566963023672, 'hidden_channels': 256, 'n_layers': 1, 'kernel_size': 9, 'stride': 7, 'padding': 6, 'pooling_type': 'max', 'use_batch_norm': True}. Best is trial 10 with value: 0.0038061888226366136.\n"
     ]
    },
    {
     "name": "stdout",
     "output_type": "stream",
     "text": [
      "Epoch 50/50, Training Loss: 0.004784898593976733, Validation Loss: 0.012568324222229421\n",
      "Epoch 10/50, Training Loss: 0.016205507135319132, Validation Loss: 0.017637605662457645\n",
      "Epoch 20/50, Training Loss: 0.0051721020079698535, Validation Loss: 0.013555309444200248\n",
      "Epoch 30/50, Training Loss: 0.0026145982349501744, Validation Loss: 0.009678938164142892\n",
      "Epoch 40/50, Training Loss: 0.0030370637874922624, Validation Loss: 0.008498016992234625\n"
     ]
    },
    {
     "name": "stderr",
     "output_type": "stream",
     "text": [
      "[I 2023-10-09 04:56:11,800] Trial 13 finished with value: 0.03979376843199134 and parameters: {'lr': 0.009942014777400867, 'dropout_prob': 0.01696816007681905, 'hidden_channels': 84, 'n_layers': 1, 'kernel_size': 9, 'stride': 5, 'padding': 6, 'pooling_type': 'max', 'use_batch_norm': True}. Best is trial 10 with value: 0.0038061888226366136.\n"
     ]
    },
    {
     "name": "stdout",
     "output_type": "stream",
     "text": [
      "Epoch 50/50, Training Loss: 0.008993194820152806, Validation Loss: 0.03979376843199134\n",
      "Epoch 10/50, Training Loss: 0.002781837153428745, Validation Loss: 0.011377854090824258\n",
      "Epoch 20/50, Training Loss: 0.00042859757658950386, Validation Loss: 0.011261422330790083\n",
      "Epoch 30/50, Training Loss: 0.00468256751604889, Validation Loss: 0.012164658535766648\n",
      "Epoch 40/50, Training Loss: 6.784818634191799e-05, Validation Loss: 0.011715246126641432\n"
     ]
    },
    {
     "name": "stderr",
     "output_type": "stream",
     "text": [
      "[I 2023-10-09 04:56:29,698] Trial 14 finished with value: 0.012187779883561234 and parameters: {'lr': 0.0026637673496617068, 'dropout_prob': 0.06892930376196207, 'hidden_channels': 232, 'n_layers': 2, 'kernel_size': 9, 'stride': 5, 'padding': 7, 'pooling_type': 'max', 'use_batch_norm': True}. Best is trial 10 with value: 0.0038061888226366136.\n"
     ]
    },
    {
     "name": "stdout",
     "output_type": "stream",
     "text": [
      "Epoch 50/50, Training Loss: 4.288261372435485e-05, Validation Loss: 0.012187779883561234\n",
      "Epoch 10/50, Training Loss: 0.04042421353440131, Validation Loss: 0.02713174861855805\n",
      "Epoch 20/50, Training Loss: 0.011763585333321844, Validation Loss: 0.021303628076566383\n",
      "Epoch 30/50, Training Loss: 0.009992590973730155, Validation Loss: 0.02294739852368366\n",
      "Epoch 40/50, Training Loss: 0.010529921326275555, Validation Loss: 0.013756641470536124\n"
     ]
    },
    {
     "name": "stderr",
     "output_type": "stream",
     "text": [
      "[I 2023-10-09 04:56:40,015] Trial 15 finished with value: 0.012229021085659042 and parameters: {'lr': 0.004514980406721038, 'dropout_prob': 0.0037035573529657743, 'hidden_channels': 92, 'n_layers': 2, 'kernel_size': 4, 'stride': 6, 'padding': 4, 'pooling_type': 'max', 'use_batch_norm': True}. Best is trial 10 with value: 0.0038061888226366136.\n"
     ]
    },
    {
     "name": "stdout",
     "output_type": "stream",
     "text": [
      "Epoch 50/50, Training Loss: 0.010557799463933934, Validation Loss: 0.012229021085659042\n",
      "Epoch 10/50, Training Loss: 0.08021657913923264, Validation Loss: 0.07373042032122612\n",
      "Epoch 20/50, Training Loss: 0.03429055868858291, Validation Loss: 0.030164167750626802\n",
      "Epoch 30/50, Training Loss: 0.020584958950958906, Validation Loss: 0.019138980424031615\n",
      "Epoch 40/50, Training Loss: 0.012925717739328262, Validation Loss: 0.01541546854423359\n"
     ]
    },
    {
     "name": "stderr",
     "output_type": "stream",
     "text": [
      "[I 2023-10-09 04:56:48,935] Trial 16 finished with value: 0.012274449865799397 and parameters: {'lr': 0.0014778891198845407, 'dropout_prob': 0.14753466494038775, 'hidden_channels': 224, 'n_layers': 1, 'kernel_size': 9, 'stride': 7, 'padding': 9, 'pooling_type': 'max', 'use_batch_norm': True}. Best is trial 10 with value: 0.0038061888226366136.\n"
     ]
    },
    {
     "name": "stdout",
     "output_type": "stream",
     "text": [
      "Epoch 50/50, Training Loss: 0.008851299257648567, Validation Loss: 0.012274449865799397\n",
      "Epoch 10/50, Training Loss: 0.004661763615008714, Validation Loss: 0.03287037210793642\n",
      "Epoch 20/50, Training Loss: 2.5281948667050586e-05, Validation Loss: 0.024015054801566293\n",
      "Epoch 30/50, Training Loss: 1.1526247179414983e-05, Validation Loss: 0.02592600972050718\n",
      "Epoch 40/50, Training Loss: 6.1202263480246924e-06, Validation Loss: 0.027172926157419397\n"
     ]
    },
    {
     "name": "stderr",
     "output_type": "stream",
     "text": [
      "[I 2023-10-09 04:57:15,810] Trial 17 finished with value: 0.027886797586610612 and parameters: {'lr': 0.00483050492869577, 'dropout_prob': 0.06178654235222408, 'hidden_channels': 171, 'n_layers': 4, 'kernel_size': 8, 'stride': 5, 'padding': 7, 'pooling_type': 'max', 'use_batch_norm': True}. Best is trial 10 with value: 0.0038061888226366136.\n"
     ]
    },
    {
     "name": "stdout",
     "output_type": "stream",
     "text": [
      "Epoch 50/50, Training Loss: 3.9794454004726096e-06, Validation Loss: 0.027886797586610612\n",
      "Epoch 10/50, Training Loss: 0.012376830101974549, Validation Loss: 0.011924865830224007\n",
      "Epoch 20/50, Training Loss: 0.009127206687304762, Validation Loss: 0.015014074801001698\n",
      "Epoch 30/50, Training Loss: 0.0014138822040084989, Validation Loss: 0.0050852874701377004\n",
      "Epoch 40/50, Training Loss: 0.0010730376253054747, Validation Loss: 0.004475958234252175\n"
     ]
    },
    {
     "name": "stderr",
     "output_type": "stream",
     "text": [
      "[I 2023-10-09 04:57:26,728] Trial 18 finished with value: 0.004105192212591646 and parameters: {'lr': 0.0009365499937177405, 'dropout_prob': 0.17016684684924221, 'hidden_channels': 104, 'n_layers': 2, 'kernel_size': 5, 'stride': 4, 'padding': 4, 'pooling_type': 'max', 'use_batch_norm': True}. Best is trial 10 with value: 0.0038061888226366136.\n"
     ]
    },
    {
     "name": "stdout",
     "output_type": "stream",
     "text": [
      "Epoch 50/50, Training Loss: 0.00045074987968790435, Validation Loss: 0.004105192212591646\n",
      "Epoch 10/50, Training Loss: 0.013004983835402996, Validation Loss: 0.014453252777457237\n",
      "Epoch 20/50, Training Loss: 0.004365848484373982, Validation Loss: 0.010048516516690142\n",
      "Epoch 30/50, Training Loss: 0.0017994795794478587, Validation Loss: 0.01011778243992012\n",
      "Epoch 40/50, Training Loss: 0.0014370828298964507, Validation Loss: 0.011783497313444968\n"
     ]
    },
    {
     "name": "stderr",
     "output_type": "stream",
     "text": [
      "[I 2023-10-09 04:57:39,202] Trial 19 finished with value: 0.009918985299009364 and parameters: {'lr': 0.0008109387507705632, 'dropout_prob': 0.18499009876706995, 'hidden_channels': 109, 'n_layers': 2, 'kernel_size': 5, 'stride': 4, 'padding': 3, 'pooling_type': 'max', 'use_batch_norm': True}. Best is trial 10 with value: 0.0038061888226366136.\n"
     ]
    },
    {
     "name": "stdout",
     "output_type": "stream",
     "text": [
      "Epoch 50/50, Training Loss: 0.0005554163428549204, Validation Loss: 0.009918985299009364\n",
      "Epoch 10/50, Training Loss: 0.10367467038093074, Validation Loss: 0.09727686457335949\n",
      "Epoch 20/50, Training Loss: 0.027415284406273596, Validation Loss: 0.03609989630058408\n",
      "Epoch 30/50, Training Loss: 0.015399494839291419, Validation Loss: 0.024632691056467593\n",
      "Epoch 40/50, Training Loss: 0.011787557358583134, Validation Loss: 0.023561134818010032\n"
     ]
    },
    {
     "name": "stderr",
     "output_type": "stream",
     "text": [
      "[I 2023-10-09 04:57:51,238] Trial 20 finished with value: 0.019602777058025822 and parameters: {'lr': 0.00016437913465906797, 'dropout_prob': 0.1111317718170916, 'hidden_channels': 63, 'n_layers': 3, 'kernel_size': 3, 'stride': 4, 'padding': 5, 'pooling_type': 'max', 'use_batch_norm': True}. Best is trial 10 with value: 0.0038061888226366136.\n"
     ]
    },
    {
     "name": "stdout",
     "output_type": "stream",
     "text": [
      "Epoch 50/50, Training Loss: 0.008273517224757422, Validation Loss: 0.019602777058025822\n",
      "Epoch 10/50, Training Loss: 0.07839926860986217, Validation Loss: 0.07845607912167907\n",
      "Epoch 20/50, Training Loss: 0.04084272571508923, Validation Loss: 0.04304800846148282\n",
      "Epoch 30/50, Training Loss: 0.025167028359588114, Validation Loss: 0.033743542968295515\n",
      "Epoch 40/50, Training Loss: 0.018665787493509632, Validation Loss: 0.02566213352838531\n"
     ]
    },
    {
     "name": "stderr",
     "output_type": "stream",
     "text": [
      "[I 2023-10-09 04:57:59,507] Trial 21 finished with value: 0.025619413936510682 and parameters: {'lr': 0.0023593546173929, 'dropout_prob': 0.06736571183855757, 'hidden_channels': 112, 'n_layers': 1, 'kernel_size': 5, 'stride': 6, 'padding': 7, 'pooling_type': 'max', 'use_batch_norm': True}. Best is trial 10 with value: 0.0038061888226366136.\n"
     ]
    },
    {
     "name": "stdout",
     "output_type": "stream",
     "text": [
      "Epoch 50/50, Training Loss: 0.01573630498962537, Validation Loss: 0.025619413936510682\n",
      "Epoch 10/50, Training Loss: 0.02863693929037019, Validation Loss: 0.017785487580113113\n",
      "Epoch 20/50, Training Loss: 0.005717211759709302, Validation Loss: 0.020138754858635366\n",
      "Epoch 30/50, Training Loss: 0.00385755374079435, Validation Loss: 0.013588086672825739\n",
      "Epoch 40/50, Training Loss: 0.002296717778071686, Validation Loss: 0.019935159190936247\n"
     ]
    },
    {
     "name": "stderr",
     "output_type": "stream",
     "text": [
      "[I 2023-10-09 04:58:14,173] Trial 22 finished with value: 0.03571181195002282 and parameters: {'lr': 0.008826443964570907, 'dropout_prob': 0.03434537577486864, 'hidden_channels': 119, 'n_layers': 2, 'kernel_size': 4, 'stride': 7, 'padding': 4, 'pooling_type': 'max', 'use_batch_norm': True}. Best is trial 10 with value: 0.0038061888226366136.\n"
     ]
    },
    {
     "name": "stdout",
     "output_type": "stream",
     "text": [
      "Epoch 50/50, Training Loss: 0.004520255917844723, Validation Loss: 0.03571181195002282\n",
      "Epoch 10/50, Training Loss: 0.06126416474580765, Validation Loss: 0.054591257125139236\n",
      "Epoch 20/50, Training Loss: 0.027381067885266196, Validation Loss: 0.03261083387769759\n",
      "Epoch 30/50, Training Loss: 0.016259142377924536, Validation Loss: 0.024937988026067615\n",
      "Epoch 40/50, Training Loss: 0.010190988199845437, Validation Loss: 0.016757346282247454\n"
     ]
    },
    {
     "name": "stderr",
     "output_type": "stream",
     "text": [
      "[I 2023-10-09 04:58:23,918] Trial 23 finished with value: 0.013946444494649768 and parameters: {'lr': 0.0031383692956242827, 'dropout_prob': 0.0954849600128804, 'hidden_channels': 254, 'n_layers': 1, 'kernel_size': 4, 'stride': 5, 'padding': 6, 'pooling_type': 'max', 'use_batch_norm': True}. Best is trial 10 with value: 0.0038061888226366136.\n"
     ]
    },
    {
     "name": "stdout",
     "output_type": "stream",
     "text": [
      "Epoch 50/50, Training Loss: 0.0076104815778953415, Validation Loss: 0.013946444494649768\n",
      "Epoch 10/50, Training Loss: 0.0018852614021236678, Validation Loss: 0.0037888529368501622\n",
      "Epoch 20/50, Training Loss: 0.004446954217142305, Validation Loss: 0.010058122756163357\n",
      "Epoch 30/50, Training Loss: 6.685968066683986e-05, Validation Loss: 0.004382928931818242\n",
      "Epoch 40/50, Training Loss: 3.483425946122283e-05, Validation Loss: 0.004994265114078189\n"
     ]
    },
    {
     "name": "stderr",
     "output_type": "stream",
     "text": [
      "[I 2023-10-09 04:58:36,054] Trial 24 finished with value: 0.005486626918013826 and parameters: {'lr': 0.0048808671007239506, 'dropout_prob': 0.04018581426572808, 'hidden_channels': 166, 'n_layers': 2, 'kernel_size': 7, 'stride': 4, 'padding': 3, 'pooling_type': 'max', 'use_batch_norm': True}. Best is trial 10 with value: 0.0038061888226366136.\n"
     ]
    },
    {
     "name": "stdout",
     "output_type": "stream",
     "text": [
      "Epoch 50/50, Training Loss: 2.573959465089795e-05, Validation Loss: 0.005486626918013826\n",
      "Epoch 10/50, Training Loss: 0.2192958761607447, Validation Loss: 0.21746964193880558\n",
      "Epoch 20/50, Training Loss: 0.10848692732472573, Validation Loss: 0.11132711730897427\n",
      "Epoch 30/50, Training Loss: 0.07158223131010609, Validation Loss: 0.07370407413691282\n",
      "Epoch 40/50, Training Loss: 0.052289999180263086, Validation Loss: 0.05635703541338444\n"
     ]
    },
    {
     "name": "stderr",
     "output_type": "stream",
     "text": [
      "[I 2023-10-09 04:58:45,422] Trial 25 finished with value: 0.04273563832975924 and parameters: {'lr': 0.0006978112986277118, 'dropout_prob': 0.0017810125400011256, 'hidden_channels': 226, 'n_layers': 1, 'kernel_size': 6, 'stride': 6, 'padding': 5, 'pooling_type': 'max', 'use_batch_norm': True}. Best is trial 10 with value: 0.0038061888226366136.\n"
     ]
    },
    {
     "name": "stdout",
     "output_type": "stream",
     "text": [
      "Epoch 50/50, Training Loss: 0.03971985210814784, Validation Loss: 0.04273563832975924\n",
      "Epoch 10/50, Training Loss: 0.042402885403604276, Validation Loss: 0.038693821523338556\n",
      "Epoch 20/50, Training Loss: 0.017653469687267657, Validation Loss: 0.018918547953944653\n",
      "Epoch 30/50, Training Loss: 0.010332740636752737, Validation Loss: 0.015708431601524353\n",
      "Epoch 40/50, Training Loss: 0.009179172363327515, Validation Loss: 0.01809822820359841\n"
     ]
    },
    {
     "name": "stderr",
     "output_type": "stream",
     "text": [
      "[I 2023-10-09 04:58:54,983] Trial 26 finished with value: 0.018575142850750126 and parameters: {'lr': 0.0018652127025381156, 'dropout_prob': 0.15217222338351563, 'hidden_channels': 63, 'n_layers': 2, 'kernel_size': 9, 'stride': 7, 'padding': 9, 'pooling_type': 'max', 'use_batch_norm': False}. Best is trial 10 with value: 0.0038061888226366136.\n"
     ]
    },
    {
     "name": "stdout",
     "output_type": "stream",
     "text": [
      "Epoch 50/50, Training Loss: 0.005363083991875512, Validation Loss: 0.018575142850750126\n",
      "Epoch 10/50, Training Loss: 0.0026013042107449784, Validation Loss: 0.010746052781541948\n",
      "Epoch 20/50, Training Loss: 0.0028723926938724735, Validation Loss: 0.02000971407687757\n",
      "Epoch 30/50, Training Loss: 6.782492789258663e-05, Validation Loss: 0.02586392112749536\n",
      "Epoch 40/50, Training Loss: 1.8977837902228556e-05, Validation Loss: 0.026121167750289942\n"
     ]
    },
    {
     "name": "stderr",
     "output_type": "stream",
     "text": [
      "[I 2023-10-09 04:59:15,279] Trial 27 finished with value: 0.02670070053470397 and parameters: {'lr': 0.005942996461875057, 'dropout_prob': 0.04681847041277434, 'hidden_channels': 179, 'n_layers': 3, 'kernel_size': 8, 'stride': 5, 'padding': 7, 'pooling_type': 'max', 'use_batch_norm': True}. Best is trial 10 with value: 0.0038061888226366136.\n"
     ]
    },
    {
     "name": "stdout",
     "output_type": "stream",
     "text": [
      "Epoch 50/50, Training Loss: 1.2270918571835687e-05, Validation Loss: 0.02670070053470397\n",
      "Epoch 10/50, Training Loss: 0.0579900266903062, Validation Loss: 0.05549888592213392\n",
      "Epoch 20/50, Training Loss: 0.027084589605369875, Validation Loss: 0.024428633274510503\n",
      "Epoch 30/50, Training Loss: 0.01571192024576087, Validation Loss: 0.014458507066592574\n",
      "Epoch 40/50, Training Loss: 0.010101838232648949, Validation Loss: 0.00967513263458386\n"
     ]
    },
    {
     "name": "stderr",
     "output_type": "stream",
     "text": [
      "[I 2023-10-09 04:59:23,875] Trial 28 finished with value: 0.006963395222555846 and parameters: {'lr': 0.003073003705834102, 'dropout_prob': 0.0901649901152254, 'hidden_channels': 220, 'n_layers': 1, 'kernel_size': 5, 'stride': 6, 'padding': 6, 'pooling_type': 'max', 'use_batch_norm': True}. Best is trial 10 with value: 0.0038061888226366136.\n"
     ]
    },
    {
     "name": "stdout",
     "output_type": "stream",
     "text": [
      "Epoch 50/50, Training Loss: 0.006561884303547202, Validation Loss: 0.006963395222555846\n"
     ]
    },
    {
     "name": "stderr",
     "output_type": "stream",
     "text": [
      "[I 2023-10-09 04:59:24,847] Trial 29 finished with value: 1.0 and parameters: {'lr': 0.0008770534034727936, 'dropout_prob': 0.03643327561095505, 'hidden_channels': 57, 'n_layers': 3, 'kernel_size': 6, 'stride': 6, 'padding': 3, 'pooling_type': 'max', 'use_batch_norm': True}. Best is trial 10 with value: 0.0038061888226366136.\n"
     ]
    },
    {
     "name": "stdout",
     "output_type": "stream",
     "text": [
      "Trial failed with error: max_pool1d() Invalid computed output size: 0\n"
     ]
    },
    {
     "name": "stderr",
     "output_type": "stream",
     "text": [
      "[I 2023-10-09 04:59:25,772] Trial 30 finished with value: 1.0 and parameters: {'lr': 0.0014935497850099436, 'dropout_prob': 0.11296088926939535, 'hidden_channels': 126, 'n_layers': 5, 'kernel_size': 8, 'stride': 4, 'padding': 5, 'pooling_type': 'max', 'use_batch_norm': True}. Best is trial 10 with value: 0.0038061888226366136.\n"
     ]
    },
    {
     "name": "stdout",
     "output_type": "stream",
     "text": [
      "Trial failed with error: max_pool1d() Invalid computed output size: 0\n",
      "Epoch 10/50, Training Loss: 0.011839768654974778, Validation Loss: 0.00486414381157374\n",
      "Epoch 20/50, Training Loss: 0.0048923401515029614, Validation Loss: 0.0031089703807083424\n",
      "Epoch 30/50, Training Loss: 0.0014473326531691372, Validation Loss: 0.0022759277480872697\n",
      "Epoch 40/50, Training Loss: 0.00027142939407278916, Validation Loss: 0.0025986095643020235\n"
     ]
    },
    {
     "name": "stderr",
     "output_type": "stream",
     "text": [
      "[I 2023-10-09 05:00:05,563] Trial 31 finished with value: 0.0025783920636968105 and parameters: {'lr': 0.007591398692004643, 'dropout_prob': 0.17541396534245998, 'hidden_channels': 241, 'n_layers': 2, 'kernel_size': 8, 'stride': 7, 'padding': 8, 'pooling_type': 'avg', 'use_batch_norm': True}. Best is trial 31 with value: 0.0025783920636968105.\n"
     ]
    },
    {
     "name": "stdout",
     "output_type": "stream",
     "text": [
      "Epoch 50/50, Training Loss: 0.00016743549476374146, Validation Loss: 0.0025783920636968105\n",
      "Epoch 10/50, Training Loss: 0.005896861952233819, Validation Loss: 0.014467418790445663\n",
      "Epoch 20/50, Training Loss: 0.010603636405580947, Validation Loss: 0.0034594399767229334\n",
      "Epoch 30/50, Training Loss: 0.003096792814880422, Validation Loss: 0.00133968436421128\n",
      "Epoch 40/50, Training Loss: 0.0033558223997040898, Validation Loss: 0.007540581267676316\n"
     ]
    },
    {
     "name": "stderr",
     "output_type": "stream",
     "text": [
      "[I 2023-10-09 05:00:49,770] Trial 32 finished with value: 0.000655298406854854 and parameters: {'lr': 0.007627005052174794, 'dropout_prob': 0.19669513427545204, 'hidden_channels': 242, 'n_layers': 2, 'kernel_size': 9, 'stride': 7, 'padding': 9, 'pooling_type': 'avg', 'use_batch_norm': True}. Best is trial 32 with value: 0.000655298406854854.\n"
     ]
    },
    {
     "name": "stdout",
     "output_type": "stream",
     "text": [
      "Epoch 50/50, Training Loss: 0.0007782305686657398, Validation Loss: 0.000655298406854854\n",
      "Epoch 10/50, Training Loss: 0.0036734979291776974, Validation Loss: 0.002908504771767184\n",
      "Epoch 20/50, Training Loss: 0.020325830864514442, Validation Loss: 0.010244069399050204\n",
      "Epoch 30/50, Training Loss: 9.039735695912367e-05, Validation Loss: 0.0006298328353295801\n",
      "Epoch 40/50, Training Loss: 5.519274400871983e-05, Validation Loss: 0.0006437517636186385\n"
     ]
    },
    {
     "name": "stderr",
     "output_type": "stream",
     "text": [
      "[I 2023-10-09 05:01:31,004] Trial 33 finished with value: 0.0005593324262918031 and parameters: {'lr': 0.006342405894946024, 'dropout_prob': 0.20759215845943663, 'hidden_channels': 238, 'n_layers': 2, 'kernel_size': 8, 'stride': 7, 'padding': 9, 'pooling_type': 'avg', 'use_batch_norm': True}. Best is trial 33 with value: 0.0005593324262918031.\n"
     ]
    },
    {
     "name": "stdout",
     "output_type": "stream",
     "text": [
      "Epoch 50/50, Training Loss: 2.7716925395056492e-05, Validation Loss: 0.0005593324262918031\n",
      "Epoch 10/50, Training Loss: 0.00801063576270075, Validation Loss: 0.00835431760060601\n",
      "Epoch 20/50, Training Loss: 0.000648971847817114, Validation Loss: 0.0014563639015250374\n",
      "Epoch 30/50, Training Loss: 0.0002830354328506796, Validation Loss: 0.0022054544474485738\n",
      "Epoch 40/50, Training Loss: 0.0023113598491040794, Validation Loss: 0.0025371123815602914\n"
     ]
    },
    {
     "name": "stderr",
     "output_type": "stream",
     "text": [
      "[I 2023-10-09 05:02:39,931] Trial 34 finished with value: 0.0004163870631828104 and parameters: {'lr': 0.006780637977518086, 'dropout_prob': 0.2192170613629412, 'hidden_channels': 240, 'n_layers': 3, 'kernel_size': 8, 'stride': 7, 'padding': 9, 'pooling_type': 'avg', 'use_batch_norm': False}. Best is trial 34 with value: 0.0004163870631828104.\n"
     ]
    },
    {
     "name": "stdout",
     "output_type": "stream",
     "text": [
      "Epoch 50/50, Training Loss: 3.297421736284201e-05, Validation Loss: 0.0004163870631828104\n",
      "Epoch 10/50, Training Loss: 0.021013857413744255, Validation Loss: 0.017461177543736994\n",
      "Epoch 20/50, Training Loss: 0.006303943487094535, Validation Loss: 0.007851532485801727\n",
      "Epoch 30/50, Training Loss: 0.001007994774314988, Validation Loss: 0.0031851700696279295\n",
      "Epoch 40/50, Training Loss: 0.002152223755171778, Validation Loss: 0.0021061919678686536\n"
     ]
    },
    {
     "name": "stderr",
     "output_type": "stream",
     "text": [
      "[I 2023-10-09 05:03:30,725] Trial 35 finished with value: 0.0023011575528926187 and parameters: {'lr': 0.0062320361258168325, 'dropout_prob': 0.22644021681824417, 'hidden_channels': 210, 'n_layers': 3, 'kernel_size': 7, 'stride': 7, 'padding': 9, 'pooling_type': 'avg', 'use_batch_norm': False}. Best is trial 34 with value: 0.0004163870631828104.\n"
     ]
    },
    {
     "name": "stdout",
     "output_type": "stream",
     "text": [
      "Epoch 50/50, Training Loss: 5.412921575865063e-05, Validation Loss: 0.0023011575528926187\n",
      "Epoch 10/50, Training Loss: 0.018918944950846416, Validation Loss: 0.018079385597957298\n",
      "Epoch 20/50, Training Loss: 0.0077944590527969865, Validation Loss: 0.005467899405630305\n",
      "Epoch 30/50, Training Loss: 0.0025522715753346172, Validation Loss: 0.00421299474692205\n",
      "Epoch 40/50, Training Loss: 0.002683911675933726, Validation Loss: 0.0035649654255394125\n"
     ]
    },
    {
     "name": "stderr",
     "output_type": "stream",
     "text": [
      "[I 2023-10-09 05:04:24,614] Trial 36 finished with value: 0.0034784347326421994 and parameters: {'lr': 0.0037731485621508923, 'dropout_prob': 0.21913593932358671, 'hidden_channels': 215, 'n_layers': 3, 'kernel_size': 7, 'stride': 6, 'padding': 10, 'pooling_type': 'avg', 'use_batch_norm': False}. Best is trial 34 with value: 0.0004163870631828104.\n"
     ]
    },
    {
     "name": "stdout",
     "output_type": "stream",
     "text": [
      "Epoch 50/50, Training Loss: 0.00039928992156356184, Validation Loss: 0.0034784347326421994\n",
      "Epoch 10/50, Training Loss: 0.019300008207679756, Validation Loss: 0.009884683197014965\n",
      "Epoch 20/50, Training Loss: 0.060793110888616574, Validation Loss: 0.017372687463648617\n",
      "Epoch 30/50, Training Loss: 0.0008574241746241422, Validation Loss: 0.001214832765981555\n",
      "Epoch 40/50, Training Loss: 0.0002297280205370513, Validation Loss: 0.002059781673779071\n"
     ]
    },
    {
     "name": "stderr",
     "output_type": "stream",
     "text": [
      "[I 2023-10-09 05:05:34,281] Trial 37 finished with value: 0.0011917317362986068 and parameters: {'lr': 0.006153354749128614, 'dropout_prob': 0.2665776997806636, 'hidden_channels': 193, 'n_layers': 4, 'kernel_size': 8, 'stride': 7, 'padding': 9, 'pooling_type': 'avg', 'use_batch_norm': False}. Best is trial 34 with value: 0.0004163870631828104.\n"
     ]
    },
    {
     "name": "stdout",
     "output_type": "stream",
     "text": [
      "Epoch 50/50, Training Loss: 4.075947418318866e-05, Validation Loss: 0.0011917317362986068\n",
      "Epoch 10/50, Training Loss: 0.017523633894480525, Validation Loss: 0.029598732944577932\n",
      "Epoch 20/50, Training Loss: 0.01021753077352074, Validation Loss: 0.06031498505035415\n",
      "Epoch 30/50, Training Loss: 0.0026746494432670935, Validation Loss: 0.007190764845290687\n",
      "Epoch 40/50, Training Loss: 0.0001739708053308629, Validation Loss: 0.007299705308469129\n"
     ]
    },
    {
     "name": "stderr",
     "output_type": "stream",
     "text": [
      "[I 2023-10-09 05:06:48,583] Trial 38 finished with value: 0.007535976383564957 and parameters: {'lr': 0.005686999483472832, 'dropout_prob': 0.26798114687056757, 'hidden_channels': 196, 'n_layers': 4, 'kernel_size': 8, 'stride': 6, 'padding': 10, 'pooling_type': 'avg', 'use_batch_norm': False}. Best is trial 34 with value: 0.0004163870631828104.\n"
     ]
    },
    {
     "name": "stdout",
     "output_type": "stream",
     "text": [
      "Epoch 50/50, Training Loss: 4.17010048969983e-05, Validation Loss: 0.007535976383564957\n",
      "Epoch 10/50, Training Loss: 0.09034934057103049, Validation Loss: 0.06856239400804043\n",
      "Epoch 20/50, Training Loss: 0.030591029223174818, Validation Loss: 0.058366572950035334\n",
      "Epoch 30/50, Training Loss: 0.0066087485719171744, Validation Loss: 0.008247593301348388\n",
      "Epoch 40/50, Training Loss: 0.001411200676586539, Validation Loss: 0.007145477073208895\n"
     ]
    },
    {
     "name": "stderr",
     "output_type": "stream",
     "text": [
      "[I 2023-10-09 05:07:52,361] Trial 39 finished with value: 0.006001450368785299 and parameters: {'lr': 0.0020275349892111163, 'dropout_prob': 0.2986742101478819, 'hidden_channels': 155, 'n_layers': 5, 'kernel_size': 8, 'stride': 7, 'padding': 9, 'pooling_type': 'avg', 'use_batch_norm': False}. Best is trial 34 with value: 0.0004163870631828104.\n"
     ]
    },
    {
     "name": "stdout",
     "output_type": "stream",
     "text": [
      "Epoch 50/50, Training Loss: 0.0030034982783329342, Validation Loss: 0.006001450368785299\n",
      "Epoch 10/50, Training Loss: 0.6318256605056024, Validation Loss: 0.6281318590044975\n",
      "Epoch 20/50, Training Loss: 0.6292041982373884, Validation Loss: 0.6285895630717278\n",
      "Epoch 30/50, Training Loss: 0.6294585389475669, Validation Loss: 0.628848597407341\n",
      "Epoch 40/50, Training Loss: 0.6282522409192978, Validation Loss: 0.628775343298912\n"
     ]
    },
    {
     "name": "stderr",
     "output_type": "stream",
     "text": [
      "[I 2023-10-09 05:11:05,606] Trial 40 finished with value: 0.6286416128277779 and parameters: {'lr': 0.003312338081575101, 'dropout_prob': 0.19595590828454995, 'hidden_channels': 236, 'n_layers': 7, 'kernel_size': 8, 'stride': 2, 'padding': 9, 'pooling_type': 'avg', 'use_batch_norm': False}. Best is trial 34 with value: 0.0004163870631828104.\n"
     ]
    },
    {
     "name": "stdout",
     "output_type": "stream",
     "text": [
      "Epoch 50/50, Training Loss: 0.6293673342274081, Validation Loss: 0.6286416128277779\n",
      "Epoch 10/50, Training Loss: 0.011066608968371104, Validation Loss: 0.009412550964043476\n",
      "Epoch 20/50, Training Loss: 0.003530552612632633, Validation Loss: 0.0026011744230345357\n",
      "Epoch 30/50, Training Loss: 0.0010461234527493588, Validation Loss: 0.0031322870252097346\n",
      "Epoch 40/50, Training Loss: 0.00011913192200506361, Validation Loss: 0.002137097690592782\n"
     ]
    },
    {
     "name": "stderr",
     "output_type": "stream",
     "text": [
      "[I 2023-10-09 05:11:55,845] Trial 41 finished with value: 0.0023804157125368874 and parameters: {'lr': 0.005698081290069976, 'dropout_prob': 0.23978280762939141, 'hidden_channels': 206, 'n_layers': 3, 'kernel_size': 7, 'stride': 7, 'padding': 9, 'pooling_type': 'avg', 'use_batch_norm': False}. Best is trial 34 with value: 0.0004163870631828104.\n"
     ]
    },
    {
     "name": "stdout",
     "output_type": "stream",
     "text": [
      "Epoch 50/50, Training Loss: 5.253284378399727e-05, Validation Loss: 0.0023804157125368874\n",
      "Epoch 10/50, Training Loss: 0.034161364900008324, Validation Loss: 0.03872883366420865\n",
      "Epoch 20/50, Training Loss: 0.010606195879048638, Validation Loss: 0.03090137825347483\n",
      "Epoch 30/50, Training Loss: 0.009109103093637274, Validation Loss: 0.008338682338944636\n",
      "Epoch 40/50, Training Loss: 0.0017253269593751493, Validation Loss: 0.009540528673824156\n"
     ]
    },
    {
     "name": "stderr",
     "output_type": "stream",
     "text": [
      "[I 2023-10-09 05:13:13,176] Trial 42 finished with value: 0.006888168321552257 and parameters: {'lr': 0.006660460001161975, 'dropout_prob': 0.20260864684692878, 'hidden_channels': 213, 'n_layers': 4, 'kernel_size': 7, 'stride': 7, 'padding': 10, 'pooling_type': 'avg', 'use_batch_norm': False}. Best is trial 34 with value: 0.0004163870631828104.\n"
     ]
    },
    {
     "name": "stdout",
     "output_type": "stream",
     "text": [
      "Epoch 50/50, Training Loss: 5.323488747880249e-05, Validation Loss: 0.006888168321552257\n",
      "Epoch 10/50, Training Loss: 0.025669199414551258, Validation Loss: 0.018375124607700855\n",
      "Epoch 20/50, Training Loss: 0.013381170728544315, Validation Loss: 0.010856721026357263\n",
      "Epoch 30/50, Training Loss: 0.0184884175748354, Validation Loss: 0.03250967932399362\n",
      "Epoch 40/50, Training Loss: 0.0010061196903587834, Validation Loss: 0.006018250193392305\n"
     ]
    },
    {
     "name": "stderr",
     "output_type": "stream",
     "text": [
      "[I 2023-10-09 05:14:03,178] Trial 43 finished with value: 0.005460263450004277 and parameters: {'lr': 0.006741569158451366, 'dropout_prob': 0.25863135758431066, 'hidden_channels': 194, 'n_layers': 3, 'kernel_size': 8, 'stride': 7, 'padding': 8, 'pooling_type': 'avg', 'use_batch_norm': False}. Best is trial 34 with value: 0.0004163870631828104.\n"
     ]
    },
    {
     "name": "stdout",
     "output_type": "stream",
     "text": [
      "Epoch 50/50, Training Loss: 0.0021447341773197085, Validation Loss: 0.005460263450004277\n",
      "Epoch 10/50, Training Loss: 0.024703173139583198, Validation Loss: 0.024499007733538747\n",
      "Epoch 20/50, Training Loss: 0.006209274906488586, Validation Loss: 0.009446214593481272\n",
      "Epoch 30/50, Training Loss: 0.005587045815885968, Validation Loss: 0.002912262232712237\n",
      "Epoch 40/50, Training Loss: 0.001361836299991175, Validation Loss: 0.0041183914872817695\n"
     ]
    },
    {
     "name": "stderr",
     "output_type": "stream",
     "text": [
      "[I 2023-10-09 05:15:31,665] Trial 44 finished with value: 0.0017096612505156372 and parameters: {'lr': 0.00410459417931888, 'dropout_prob': 0.2183898349585416, 'hidden_channels': 234, 'n_layers': 4, 'kernel_size': 7, 'stride': 6, 'padding': 9, 'pooling_type': 'avg', 'use_batch_norm': False}. Best is trial 34 with value: 0.0004163870631828104.\n"
     ]
    },
    {
     "name": "stdout",
     "output_type": "stream",
     "text": [
      "Epoch 50/50, Training Loss: 9.873070631593075e-05, Validation Loss: 0.0017096612505156372\n",
      "Epoch 10/50, Training Loss: 0.11043782048528233, Validation Loss: 0.10794709669426084\n",
      "Epoch 20/50, Training Loss: 0.005143326833457386, Validation Loss: 0.017134121031631366\n",
      "Epoch 30/50, Training Loss: 0.00033499313905204257, Validation Loss: 0.008070745835539128\n",
      "Epoch 40/50, Training Loss: 5.899048541792699e-05, Validation Loss: 0.008936508666920417\n"
     ]
    },
    {
     "name": "stderr",
     "output_type": "stream",
     "text": [
      "[I 2023-10-09 05:17:50,694] Trial 45 finished with value: 0.009246622264981852 and parameters: {'lr': 0.0037305495295307865, 'dropout_prob': 0.2945187239148611, 'hidden_channels': 233, 'n_layers': 5, 'kernel_size': 9, 'stride': 6, 'padding': 10, 'pooling_type': 'avg', 'use_batch_norm': False}. Best is trial 34 with value: 0.0004163870631828104.\n"
     ]
    },
    {
     "name": "stdout",
     "output_type": "stream",
     "text": [
      "Epoch 50/50, Training Loss: 3.0534622539797113e-05, Validation Loss: 0.009246622264981852\n",
      "Epoch 10/50, Training Loss: 0.013633700763626445, Validation Loss: 0.01198443365865387\n",
      "Epoch 20/50, Training Loss: 0.007995408467738139, Validation Loss: 0.030222085886634886\n",
      "Epoch 30/50, Training Loss: 0.0057729537865886795, Validation Loss: 0.08990296558476985\n",
      "Epoch 40/50, Training Loss: 0.040956374745057415, Validation Loss: 0.010230093379504979\n"
     ]
    },
    {
     "name": "stderr",
     "output_type": "stream",
     "text": [
      "[I 2023-10-09 05:19:19,380] Trial 46 finished with value: 0.006499083278185935 and parameters: {'lr': 0.0047509028797738505, 'dropout_prob': 0.21614991125834931, 'hidden_channels': 245, 'n_layers': 4, 'kernel_size': 7, 'stride': 6, 'padding': 8, 'pooling_type': 'avg', 'use_batch_norm': False}. Best is trial 34 with value: 0.0004163870631828104.\n"
     ]
    },
    {
     "name": "stdout",
     "output_type": "stream",
     "text": [
      "Epoch 50/50, Training Loss: 4.983866031785334e-05, Validation Loss: 0.006499083278185935\n",
      "Epoch 10/50, Training Loss: 0.057628704475299004, Validation Loss: 0.045862891944125295\n",
      "Epoch 20/50, Training Loss: 0.012855860693830877, Validation Loss: 0.00957055710023269\n",
      "Epoch 30/50, Training Loss: 0.011872996814594033, Validation Loss: 0.01509664518016507\n",
      "Epoch 40/50, Training Loss: 0.00357442883978365, Validation Loss: 0.009834776603383943\n"
     ]
    },
    {
     "name": "stderr",
     "output_type": "stream",
     "text": [
      "[I 2023-10-09 05:20:25,239] Trial 47 finished with value: 0.0054173136813915335 and parameters: {'lr': 0.002449722728033975, 'dropout_prob': 0.23576765830760477, 'hidden_channels': 184, 'n_layers': 4, 'kernel_size': 8, 'stride': 7, 'padding': 9, 'pooling_type': 'avg', 'use_batch_norm': False}. Best is trial 34 with value: 0.0004163870631828104.\n"
     ]
    },
    {
     "name": "stdout",
     "output_type": "stream",
     "text": [
      "Epoch 50/50, Training Loss: 0.0007670599173457783, Validation Loss: 0.0054173136813915335\n",
      "Epoch 10/50, Training Loss: 0.048685926493377454, Validation Loss: 0.04518702166387811\n",
      "Epoch 20/50, Training Loss: 0.05782783086291484, Validation Loss: 0.021378091536462307\n",
      "Epoch 30/50, Training Loss: 0.007995065800177174, Validation Loss: 0.021947435256151948\n",
      "Epoch 40/50, Training Loss: 0.020773040049994786, Validation Loss: 0.01974399562459439\n"
     ]
    },
    {
     "name": "stderr",
     "output_type": "stream",
     "text": [
      "[I 2023-10-09 05:21:11,130] Trial 48 finished with value: 0.01677797413094595 and parameters: {'lr': 0.009864150008317625, 'dropout_prob': 0.2520028073198442, 'hidden_channels': 222, 'n_layers': 6, 'kernel_size': 9, 'stride': 6, 'padding': 8, 'pooling_type': 'avg', 'use_batch_norm': False}. Best is trial 34 with value: 0.0004163870631828104.\n"
     ]
    },
    {
     "name": "stdout",
     "output_type": "stream",
     "text": [
      "Epoch 50/50, Training Loss: 0.00012268066031186122, Validation Loss: 0.01677797413094595\n",
      "Epoch 10/50, Training Loss: 0.012343740571410425, Validation Loss: 0.014365135022671893\n",
      "Epoch 20/50, Training Loss: 0.011721516778174366, Validation Loss: 0.01210077284486033\n",
      "Epoch 30/50, Training Loss: 0.00016683855063738225, Validation Loss: 0.010893078420849633\n",
      "Epoch 40/50, Training Loss: 4.550021697380749e-05, Validation Loss: 0.012131045205023838\n"
     ]
    },
    {
     "name": "stderr",
     "output_type": "stream",
     "text": [
      "[I 2023-10-09 05:22:50,523] Trial 49 finished with value: 0.012342741685415604 and parameters: {'lr': 0.00401461900065915, 'dropout_prob': 0.2085882857003026, 'hidden_channels': 246, 'n_layers': 4, 'kernel_size': 8, 'stride': 7, 'padding': 10, 'pooling_type': 'avg', 'use_batch_norm': False}. Best is trial 34 with value: 0.0004163870631828104.\n"
     ]
    },
    {
     "name": "stdout",
     "output_type": "stream",
     "text": [
      "Epoch 50/50, Training Loss: 4.279190857085914e-05, Validation Loss: 0.012342741685415604\n",
      "Epoch 10/50, Training Loss: 0.02709866081544709, Validation Loss: 0.030434640357270837\n",
      "Epoch 20/50, Training Loss: 0.015725002180965196, Validation Loss: 0.011078584007918835\n",
      "Epoch 30/50, Training Loss: 0.011590144267463456, Validation Loss: 0.009087236074265093\n",
      "Epoch 40/50, Training Loss: 0.048031065631808055, Validation Loss: 0.05846236273646355\n"
     ]
    },
    {
     "name": "stderr",
     "output_type": "stream",
     "text": [
      "[I 2023-10-09 05:26:05,994] Trial 50 finished with value: 0.00860361225932138 and parameters: {'lr': 0.008268456671717071, 'dropout_prob': 0.27614245371554497, 'hidden_channels': 231, 'n_layers': 5, 'kernel_size': 9, 'stride': 1, 'padding': 9, 'pooling_type': 'avg', 'use_batch_norm': False}. Best is trial 34 with value: 0.0004163870631828104.\n"
     ]
    },
    {
     "name": "stdout",
     "output_type": "stream",
     "text": [
      "Epoch 50/50, Training Loss: 0.012457372034869848, Validation Loss: 0.00860361225932138\n",
      "Epoch 10/50, Training Loss: 0.016343663656903852, Validation Loss: 0.011916486037080176\n",
      "Epoch 20/50, Training Loss: 0.0025972434455217163, Validation Loss: 0.006497937974927481\n",
      "Epoch 30/50, Training Loss: 0.020542236407861986, Validation Loss: 0.04525021005247254\n",
      "Epoch 40/50, Training Loss: 0.0006721751854075269, Validation Loss: 0.002458244334320625\n"
     ]
    },
    {
     "name": "stderr",
     "output_type": "stream",
     "text": [
      "[I 2023-10-09 05:26:55,903] Trial 51 finished with value: 0.002429805876545288 and parameters: {'lr': 0.00681745244327453, 'dropout_prob': 0.2270626389120821, 'hidden_channels': 203, 'n_layers': 3, 'kernel_size': 7, 'stride': 7, 'padding': 9, 'pooling_type': 'avg', 'use_batch_norm': False}. Best is trial 34 with value: 0.0004163870631828104.\n"
     ]
    },
    {
     "name": "stdout",
     "output_type": "stream",
     "text": [
      "Epoch 50/50, Training Loss: 0.00010069113373432512, Validation Loss: 0.002429805876545288\n",
      "Epoch 10/50, Training Loss: 0.07540241274381837, Validation Loss: 0.05359038105234504\n",
      "Epoch 20/50, Training Loss: 0.030226513097483303, Validation Loss: 0.023041705368086696\n",
      "Epoch 30/50, Training Loss: 0.010775890734587465, Validation Loss: 0.019975083210738376\n",
      "Epoch 40/50, Training Loss: 0.01251515892950157, Validation Loss: 0.011607031396124512\n"
     ]
    },
    {
     "name": "stderr",
     "output_type": "stream",
     "text": [
      "[I 2023-10-09 05:28:14,454] Trial 52 finished with value: 0.019280488457297906 and parameters: {'lr': 0.005261318730405602, 'dropout_prob': 0.20008680174390486, 'hidden_channels': 238, 'n_layers': 4, 'kernel_size': 6, 'stride': 7, 'padding': 8, 'pooling_type': 'avg', 'use_batch_norm': False}. Best is trial 34 with value: 0.0004163870631828104.\n"
     ]
    },
    {
     "name": "stdout",
     "output_type": "stream",
     "text": [
      "Epoch 50/50, Training Loss: 0.016060425645968456, Validation Loss: 0.019280488457297906\n",
      "Epoch 10/50, Training Loss: 0.011868800562355787, Validation Loss: 0.023542238253867254\n",
      "Epoch 20/50, Training Loss: 0.007434371680926321, Validation Loss: 0.014577605827071238\n",
      "Epoch 30/50, Training Loss: 0.0002758109359063148, Validation Loss: 0.008529481881851098\n",
      "Epoch 40/50, Training Loss: 0.009193109652598298, Validation Loss: 0.04058653686661273\n"
     ]
    },
    {
     "name": "stderr",
     "output_type": "stream",
     "text": [
      "[I 2023-10-09 05:29:05,338] Trial 53 finished with value: 0.009015524410642684 and parameters: {'lr': 0.0072957343538120785, 'dropout_prob': 0.24558960042548153, 'hidden_channels': 212, 'n_layers': 3, 'kernel_size': 7, 'stride': 7, 'padding': 10, 'pooling_type': 'avg', 'use_batch_norm': False}. Best is trial 34 with value: 0.0004163870631828104.\n"
     ]
    },
    {
     "name": "stdout",
     "output_type": "stream",
     "text": [
      "Epoch 50/50, Training Loss: 0.0012411830637340186, Validation Loss: 0.009015524410642684\n",
      "Epoch 10/50, Training Loss: 0.049171183558721694, Validation Loss: 0.059939038241282105\n",
      "Epoch 20/50, Training Loss: 0.031048000219368165, Validation Loss: 0.04295376059599221\n",
      "Epoch 30/50, Training Loss: 0.022813895552028573, Validation Loss: 0.030715162632986903\n",
      "Epoch 40/50, Training Loss: 0.016235460962859855, Validation Loss: 0.018303463730262592\n"
     ]
    },
    {
     "name": "stderr",
     "output_type": "stream",
     "text": [
      "[I 2023-10-09 05:29:41,918] Trial 54 finished with value: 0.01768118847394362 and parameters: {'lr': 0.0028852307689447203, 'dropout_prob': 0.15951586993931502, 'hidden_channels': 255, 'n_layers': 2, 'kernel_size': 6, 'stride': 7, 'padding': 9, 'pooling_type': 'avg', 'use_batch_norm': False}. Best is trial 34 with value: 0.0004163870631828104.\n"
     ]
    },
    {
     "name": "stdout",
     "output_type": "stream",
     "text": [
      "Epoch 50/50, Training Loss: 0.014602164480639923, Validation Loss: 0.01768118847394362\n"
     ]
    },
    {
     "name": "stderr",
     "output_type": "stream",
     "text": [
      "[I 2023-10-09 05:29:42,767] Trial 55 finished with value: 1.0 and parameters: {'lr': 0.004233228830615027, 'dropout_prob': 0.18841862898239103, 'hidden_channels': 224, 'n_layers': 3, 'kernel_size': 7, 'stride': 7, 'padding': 1, 'pooling_type': 'avg', 'use_batch_norm': False}. Best is trial 34 with value: 0.0004163870631828104.\n"
     ]
    },
    {
     "name": "stdout",
     "output_type": "stream",
     "text": [
      "Trial failed with error: Given input size: (224x1x1). Calculated output size: (224x1x0). Output size is too small\n",
      "Epoch 10/50, Training Loss: 0.03916856862469426, Validation Loss: 0.09426207933574915\n",
      "Epoch 20/50, Training Loss: 0.0034804973007750606, Validation Loss: 0.0016454683755000588\n",
      "Epoch 30/50, Training Loss: 0.05899392675435651, Validation Loss: 0.03468194144079462\n",
      "Epoch 40/50, Training Loss: 0.00191963619199082, Validation Loss: 0.00488895432499703\n"
     ]
    },
    {
     "name": "stderr",
     "output_type": "stream",
     "text": [
      "[I 2023-10-09 05:30:54,702] Trial 56 finished with value: 0.013065973149423371 and parameters: {'lr': 0.00978694702505355, 'dropout_prob': 0.22042077004878707, 'hidden_channels': 191, 'n_layers': 4, 'kernel_size': 8, 'stride': 6, 'padding': 8, 'pooling_type': 'avg', 'use_batch_norm': False}. Best is trial 34 with value: 0.0004163870631828104.\n"
     ]
    },
    {
     "name": "stdout",
     "output_type": "stream",
     "text": [
      "Epoch 50/50, Training Loss: 0.017058181016886186, Validation Loss: 0.013065973149423371\n",
      "Epoch 10/50, Training Loss: 0.013908721701872925, Validation Loss: 0.022897856135386974\n",
      "Epoch 20/50, Training Loss: 0.0056429948608931755, Validation Loss: 0.011359140742570162\n",
      "Epoch 30/50, Training Loss: 0.0014178096786171437, Validation Loss: 0.009586371008481365\n",
      "Epoch 40/50, Training Loss: 0.00030101100269201844, Validation Loss: 0.009729107623570599\n"
     ]
    },
    {
     "name": "stderr",
     "output_type": "stream",
     "text": [
      "[I 2023-10-09 05:31:24,585] Trial 57 finished with value: 0.009804636226363073 and parameters: {'lr': 0.005748159872716567, 'dropout_prob': 0.1450045509373823, 'hidden_channels': 206, 'n_layers': 2, 'kernel_size': 7, 'stride': 7, 'padding': 9, 'pooling_type': 'avg', 'use_batch_norm': False}. Best is trial 34 with value: 0.0004163870631828104.\n"
     ]
    },
    {
     "name": "stdout",
     "output_type": "stream",
     "text": [
      "Epoch 50/50, Training Loss: 0.00020353637175444858, Validation Loss: 0.009804636226363073\n",
      "Epoch 10/50, Training Loss: 0.042837807615738244, Validation Loss: 0.016215368174016476\n",
      "Epoch 20/50, Training Loss: 0.005554435598183303, Validation Loss: 0.025801537980441935\n",
      "Epoch 30/50, Training Loss: 0.00014091938805171184, Validation Loss: 0.005034708953417066\n",
      "Epoch 40/50, Training Loss: 2.7484245302114304e-05, Validation Loss: 0.006298614062245633\n"
     ]
    },
    {
     "name": "stderr",
     "output_type": "stream",
     "text": [
      "[I 2023-10-09 05:33:36,869] Trial 58 finished with value: 0.006676207603788953 and parameters: {'lr': 0.007703733231857858, 'dropout_prob': 0.17379680018397392, 'hidden_channels': 248, 'n_layers': 5, 'kernel_size': 8, 'stride': 6, 'padding': 10, 'pooling_type': 'avg', 'use_batch_norm': False}. Best is trial 34 with value: 0.0004163870631828104.\n"
     ]
    },
    {
     "name": "stdout",
     "output_type": "stream",
     "text": [
      "Epoch 50/50, Training Loss: 1.2339810298051876e-05, Validation Loss: 0.006676207603788953\n",
      "Epoch 10/50, Training Loss: 0.0338927882032529, Validation Loss: 0.09106116788461804\n",
      "Epoch 20/50, Training Loss: 0.0062784393010060155, Validation Loss: 0.020080320100532845\n",
      "Epoch 30/50, Training Loss: 0.017721743731301337, Validation Loss: 0.05328744510188699\n",
      "Epoch 40/50, Training Loss: 0.001587993961537347, Validation Loss: 0.01630820216905704\n"
     ]
    },
    {
     "name": "stderr",
     "output_type": "stream",
     "text": [
      "[I 2023-10-09 05:34:02,563] Trial 59 finished with value: 0.01722680481657335 and parameters: {'lr': 0.0033652056629096443, 'dropout_prob': 0.22925266826548463, 'hidden_channels': 229, 'n_layers': 3, 'kernel_size': 9, 'stride': 5, 'padding': 8, 'pooling_type': 'avg', 'use_batch_norm': False}. Best is trial 34 with value: 0.0004163870631828104.\n"
     ]
    },
    {
     "name": "stdout",
     "output_type": "stream",
     "text": [
      "Epoch 50/50, Training Loss: 0.00013053587328261442, Validation Loss: 0.01722680481657335\n",
      "Epoch 10/50, Training Loss: 0.028464935449582916, Validation Loss: 0.024302942445501685\n",
      "Epoch 20/50, Training Loss: 0.011259259475815681, Validation Loss: 0.012591910664923489\n",
      "Epoch 30/50, Training Loss: 0.006250004400499165, Validation Loss: 0.007056016424030531\n",
      "Epoch 40/50, Training Loss: 0.022864105803291162, Validation Loss: 0.020443148678168654\n"
     ]
    },
    {
     "name": "stderr",
     "output_type": "stream",
     "text": [
      "[I 2023-10-09 05:34:38,463] Trial 60 finished with value: 0.004416013722220669 and parameters: {'lr': 0.0025835006145128146, 'dropout_prob': 0.189253722178423, 'hidden_channels': 218, 'n_layers': 2, 'kernel_size': 9, 'stride': 7, 'padding': 9, 'pooling_type': 'avg', 'use_batch_norm': False}. Best is trial 34 with value: 0.0004163870631828104.\n"
     ]
    },
    {
     "name": "stdout",
     "output_type": "stream",
     "text": [
      "Epoch 50/50, Training Loss: 0.0032210827738444713, Validation Loss: 0.004416013722220669\n",
      "Epoch 10/50, Training Loss: 0.012175938531365846, Validation Loss: 0.03640022478066385\n",
      "Epoch 20/50, Training Loss: 0.00832939821937602, Validation Loss: 0.01305979845346883\n",
      "Epoch 30/50, Training Loss: 0.01348346058019219, Validation Loss: 0.028243737331649754\n",
      "Epoch 40/50, Training Loss: 0.0012086354777385432, Validation Loss: 0.005578961894570966\n"
     ]
    },
    {
     "name": "stderr",
     "output_type": "stream",
     "text": [
      "[I 2023-10-09 05:35:27,299] Trial 61 finished with value: 0.005054086313066364 and parameters: {'lr': 0.005286609854462873, 'dropout_prob': 0.2411727572036527, 'hidden_channels': 201, 'n_layers': 3, 'kernel_size': 7, 'stride': 7, 'padding': 9, 'pooling_type': 'avg', 'use_batch_norm': False}. Best is trial 34 with value: 0.0004163870631828104.\n"
     ]
    },
    {
     "name": "stdout",
     "output_type": "stream",
     "text": [
      "Epoch 50/50, Training Loss: 0.00011848775108275379, Validation Loss: 0.005054086313066364\n",
      "Epoch 10/50, Training Loss: 0.0190824365596317, Validation Loss: 0.018600374867673963\n",
      "Epoch 20/50, Training Loss: 0.006811042504024601, Validation Loss: 0.007209541610791348\n",
      "Epoch 30/50, Training Loss: 0.019701650621549736, Validation Loss: 0.04411835700739175\n",
      "Epoch 40/50, Training Loss: 0.011738768337489736, Validation Loss: 0.010057668572699185\n"
     ]
    },
    {
     "name": "stderr",
     "output_type": "stream",
     "text": [
      "[I 2023-10-09 05:36:07,410] Trial 62 finished with value: 0.006619837444304721 and parameters: {'lr': 0.005931364538550681, 'dropout_prob': 0.21195595374045534, 'hidden_channels': 174, 'n_layers': 3, 'kernel_size': 7, 'stride': 7, 'padding': 9, 'pooling_type': 'avg', 'use_batch_norm': False}. Best is trial 34 with value: 0.0004163870631828104.\n"
     ]
    },
    {
     "name": "stdout",
     "output_type": "stream",
     "text": [
      "Epoch 50/50, Training Loss: 9.231398488032761e-05, Validation Loss: 0.006619837444304721\n",
      "Epoch 10/50, Training Loss: 0.05118073045366233, Validation Loss: 0.05681306729093194\n",
      "Epoch 20/50, Training Loss: 0.00966308614794886, Validation Loss: 0.016455415010568686\n",
      "Epoch 30/50, Training Loss: 0.020262706108511455, Validation Loss: 0.025247074954677373\n",
      "Epoch 40/50, Training Loss: 0.004319409594186694, Validation Loss: 0.018129979674085916\n"
     ]
    },
    {
     "name": "stderr",
     "output_type": "stream",
     "text": [
      "[I 2023-10-09 05:37:27,891] Trial 63 finished with value: 0.019320440902447444 and parameters: {'lr': 0.004650354574190546, 'dropout_prob': 0.24463233308487603, 'hidden_channels': 239, 'n_layers': 4, 'kernel_size': 6, 'stride': 7, 'padding': 10, 'pooling_type': 'avg', 'use_batch_norm': False}. Best is trial 34 with value: 0.0004163870631828104.\n"
     ]
    },
    {
     "name": "stdout",
     "output_type": "stream",
     "text": [
      "Epoch 50/50, Training Loss: 0.0024866739157944047, Validation Loss: 0.019320440902447444\n",
      "Epoch 10/50, Training Loss: 0.02065568658403091, Validation Loss: 0.0211748827714473\n",
      "Epoch 20/50, Training Loss: 0.025075391498244098, Validation Loss: 0.01262925923219882\n",
      "Epoch 30/50, Training Loss: 0.00589830971101389, Validation Loss: 0.013423985357803758\n",
      "Epoch 40/50, Training Loss: 0.004551420969590019, Validation Loss: 0.013151620922144502\n"
     ]
    },
    {
     "name": "stderr",
     "output_type": "stream",
     "text": [
      "[I 2023-10-09 05:38:02,871] Trial 64 finished with value: 0.016157263686181977 and parameters: {'lr': 0.007665152804667265, 'dropout_prob': 0.26260656980028146, 'hidden_channels': 151, 'n_layers': 3, 'kernel_size': 7, 'stride': 7, 'padding': 8, 'pooling_type': 'avg', 'use_batch_norm': False}. Best is trial 34 with value: 0.0004163870631828104.\n"
     ]
    },
    {
     "name": "stdout",
     "output_type": "stream",
     "text": [
      "Epoch 50/50, Training Loss: 0.00627178002163888, Validation Loss: 0.016157263686181977\n",
      "Epoch 10/50, Training Loss: 0.004537255841217214, Validation Loss: 0.008023620837775525\n",
      "Epoch 20/50, Training Loss: 0.0006173776008278853, Validation Loss: 0.006468796815170208\n",
      "Epoch 30/50, Training Loss: 0.0006607335967747795, Validation Loss: 0.004452165614566184\n",
      "Epoch 40/50, Training Loss: 0.00017107824169215746, Validation Loss: 0.0046353858215297805\n"
     ]
    },
    {
     "name": "stderr",
     "output_type": "stream",
     "text": [
      "[I 2023-10-09 05:38:35,927] Trial 65 finished with value: 0.0049644492148672725 and parameters: {'lr': 0.003937735529145823, 'dropout_prob': 0.28521528466822144, 'hidden_channels': 208, 'n_layers': 2, 'kernel_size': 8, 'stride': 6, 'padding': 9, 'pooling_type': 'avg', 'use_batch_norm': True}. Best is trial 34 with value: 0.0004163870631828104.\n"
     ]
    },
    {
     "name": "stdout",
     "output_type": "stream",
     "text": [
      "Epoch 50/50, Training Loss: 9.827475344448635e-05, Validation Loss: 0.0049644492148672725\n",
      "Epoch 10/50, Training Loss: 0.015914409008297707, Validation Loss: 0.028294857125729322\n",
      "Epoch 20/50, Training Loss: 0.007004853175585008, Validation Loss: 0.015562657848931849\n",
      "Epoch 30/50, Training Loss: 0.0031507431070372884, Validation Loss: 0.008146939562720945\n",
      "Epoch 40/50, Training Loss: 0.005512022561649041, Validation Loss: 0.006402340730346623\n"
     ]
    },
    {
     "name": "stderr",
     "output_type": "stream",
     "text": [
      "[I 2023-10-09 05:39:34,909] Trial 66 finished with value: 0.03551169816637412 and parameters: {'lr': 0.00984351045545572, 'dropout_prob': 0.30860512996437145, 'hidden_channels': 228, 'n_layers': 3, 'kernel_size': 7, 'stride': 7, 'padding': 8, 'pooling_type': 'avg', 'use_batch_norm': False}. Best is trial 34 with value: 0.0004163870631828104.\n"
     ]
    },
    {
     "name": "stdout",
     "output_type": "stream",
     "text": [
      "Epoch 50/50, Training Loss: 0.03880291893860446, Validation Loss: 0.03551169816637412\n",
      "Epoch 10/50, Training Loss: 0.010561170203859107, Validation Loss: 0.21431360859423876\n",
      "Epoch 20/50, Training Loss: 0.0025166971366660062, Validation Loss: 0.004432317406553921\n",
      "Epoch 30/50, Training Loss: 0.01438672594808703, Validation Loss: 0.007467671122867614\n",
      "Epoch 40/50, Training Loss: 7.533680277007196e-05, Validation Loss: 0.00812096761274006\n"
     ]
    },
    {
     "name": "stderr",
     "output_type": "stream",
     "text": [
      "[I 2023-10-09 05:40:15,186] Trial 67 finished with value: 0.008313609721426474 and parameters: {'lr': 0.006038241672407425, 'dropout_prob': 0.23432534445658307, 'hidden_channels': 249, 'n_layers': 4, 'kernel_size': 8, 'stride': 3, 'padding': 7, 'pooling_type': 'avg', 'use_batch_norm': True}. Best is trial 34 with value: 0.0004163870631828104.\n"
     ]
    },
    {
     "name": "stdout",
     "output_type": "stream",
     "text": [
      "Epoch 50/50, Training Loss: 3.0012889437198134e-05, Validation Loss: 0.008313609721426474\n",
      "Epoch 10/50, Training Loss: 0.03237021182693781, Validation Loss: 0.02550011413404718\n",
      "Epoch 20/50, Training Loss: 0.00940852634601235, Validation Loss: 0.010133116491488181\n",
      "Epoch 30/50, Training Loss: 0.0035515714938106437, Validation Loss: 0.009362797296489589\n",
      "Epoch 40/50, Training Loss: 0.0008918928985123432, Validation Loss: 0.009363392044178909\n"
     ]
    },
    {
     "name": "stderr",
     "output_type": "stream",
     "text": [
      "[I 2023-10-09 05:40:44,192] Trial 68 finished with value: 0.009197046418194077 and parameters: {'lr': 0.004494201070849975, 'dropout_prob': 0.2597440601842262, 'hidden_channels': 217, 'n_layers': 2, 'kernel_size': 6, 'stride': 6, 'padding': 10, 'pooling_type': 'avg', 'use_batch_norm': False}. Best is trial 34 with value: 0.0004163870631828104.\n"
     ]
    },
    {
     "name": "stdout",
     "output_type": "stream",
     "text": [
      "Epoch 50/50, Training Loss: 0.0006220094601303572, Validation Loss: 0.009197046418194077\n",
      "Epoch 10/50, Training Loss: 0.00486972791822477, Validation Loss: 0.007245759479701519\n",
      "Epoch 20/50, Training Loss: 0.00449200583135544, Validation Loss: 0.0073583848898124415\n",
      "Epoch 30/50, Training Loss: 0.000198476969437193, Validation Loss: 0.005596441734041946\n",
      "Epoch 40/50, Training Loss: 4.1837358455062886e-05, Validation Loss: 0.006286556510303853\n"
     ]
    },
    {
     "name": "stderr",
     "output_type": "stream",
     "text": [
      "[I 2023-10-09 05:41:34,711] Trial 69 finished with value: 0.005624409665870189 and parameters: {'lr': 0.0017864763639394254, 'dropout_prob': 0.16452949987552418, 'hidden_channels': 187, 'n_layers': 3, 'kernel_size': 8, 'stride': 7, 'padding': 9, 'pooling_type': 'avg', 'use_batch_norm': True}. Best is trial 34 with value: 0.0004163870631828104.\n"
     ]
    },
    {
     "name": "stdout",
     "output_type": "stream",
     "text": [
      "Epoch 50/50, Training Loss: 2.1494496503428016e-05, Validation Loss: 0.005624409665870189\n",
      "Epoch 10/50, Training Loss: 0.09068344124863224, Validation Loss: 0.09215866308659315\n",
      "Epoch 20/50, Training Loss: 0.042743791720920035, Validation Loss: 0.03943945374339819\n",
      "Epoch 30/50, Training Loss: 0.03052298192896189, Validation Loss: 0.0384356586728245\n",
      "Epoch 40/50, Training Loss: 0.016035604846453475, Validation Loss: 0.01942457229597494\n"
     ]
    },
    {
     "name": "stderr",
     "output_type": "stream",
     "text": [
      "[I 2023-10-09 05:41:46,062] Trial 70 finished with value: 0.015459660964552313 and parameters: {'lr': 0.002909952877832472, 'dropout_prob': 0.18667886252793725, 'hidden_channels': 18, 'n_layers': 2, 'kernel_size': 7, 'stride': 6, 'padding': 2, 'pooling_type': 'avg', 'use_batch_norm': False}. Best is trial 34 with value: 0.0004163870631828104.\n"
     ]
    },
    {
     "name": "stdout",
     "output_type": "stream",
     "text": [
      "Epoch 50/50, Training Loss: 0.012319138589044732, Validation Loss: 0.015459660964552313\n",
      "Epoch 10/50, Training Loss: 0.018312259487086726, Validation Loss: 0.03727732558036223\n",
      "Epoch 20/50, Training Loss: 0.013037817407166585, Validation Loss: 0.013503969526936999\n",
      "Epoch 30/50, Training Loss: 0.0009370555691871672, Validation Loss: 0.005402365865847969\n",
      "Epoch 40/50, Training Loss: 9.545280400127541e-05, Validation Loss: 0.0050745810085572884\n"
     ]
    },
    {
     "name": "stderr",
     "output_type": "stream",
     "text": [
      "[I 2023-10-09 05:42:36,879] Trial 71 finished with value: 0.005231799704517925 and parameters: {'lr': 0.006647755315863798, 'dropout_prob': 0.22440219234530134, 'hidden_channels': 207, 'n_layers': 3, 'kernel_size': 7, 'stride': 7, 'padding': 9, 'pooling_type': 'avg', 'use_batch_norm': False}. Best is trial 34 with value: 0.0004163870631828104.\n"
     ]
    },
    {
     "name": "stdout",
     "output_type": "stream",
     "text": [
      "Epoch 50/50, Training Loss: 4.7101918572743966e-05, Validation Loss: 0.005231799704517925\n",
      "Epoch 10/50, Training Loss: 0.011666703394674245, Validation Loss: 0.015728460770333186\n",
      "Epoch 20/50, Training Loss: 0.013550923193941989, Validation Loss: 0.015081075660418719\n",
      "Epoch 30/50, Training Loss: 0.00020688288837376485, Validation Loss: 0.004300625520272661\n",
      "Epoch 40/50, Training Loss: 0.018713635965410032, Validation Loss: 0.04132306738756597\n"
     ]
    },
    {
     "name": "stderr",
     "output_type": "stream",
     "text": [
      "[I 2023-10-09 05:43:37,242] Trial 72 finished with value: 0.002694377742272991 and parameters: {'lr': 0.008259579087025697, 'dropout_prob': 0.20597481187729005, 'hidden_channels': 238, 'n_layers': 3, 'kernel_size': 7, 'stride': 7, 'padding': 9, 'pooling_type': 'avg', 'use_batch_norm': False}. Best is trial 34 with value: 0.0004163870631828104.\n"
     ]
    },
    {
     "name": "stdout",
     "output_type": "stream",
     "text": [
      "Epoch 50/50, Training Loss: 5.859207747914385e-05, Validation Loss: 0.002694377742272991\n",
      "Epoch 10/50, Training Loss: 0.03806418519947798, Validation Loss: 0.051007493399083614\n",
      "Epoch 20/50, Training Loss: 0.025898673842030186, Validation Loss: 0.028869435045635328\n",
      "Epoch 30/50, Training Loss: 0.017905883517326606, Validation Loss: 0.04118175571784377\n",
      "Epoch 40/50, Training Loss: 0.014108726450602615, Validation Loss: 0.03711693920195103\n"
     ]
    },
    {
     "name": "stderr",
     "output_type": "stream",
     "text": [
      "[I 2023-10-09 05:44:40,103] Trial 73 finished with value: 0.03635149293404538 and parameters: {'lr': 0.006899622718901572, 'dropout_prob': 0.2227159500632218, 'hidden_channels': 200, 'n_layers': 4, 'kernel_size': 6, 'stride': 7, 'padding': 9, 'pooling_type': 'avg', 'use_batch_norm': False}. Best is trial 34 with value: 0.0004163870631828104.\n"
     ]
    },
    {
     "name": "stdout",
     "output_type": "stream",
     "text": [
      "Epoch 50/50, Training Loss: 0.010524993886299912, Validation Loss: 0.03635149293404538\n",
      "Epoch 10/50, Training Loss: 0.009319659570352204, Validation Loss: 0.018847436251235195\n",
      "Epoch 20/50, Training Loss: 0.0032281727805140337, Validation Loss: 0.0060595284867304144\n",
      "Epoch 30/50, Training Loss: 0.0006425211855281716, Validation Loss: 0.007710482945185504\n",
      "Epoch 40/50, Training Loss: 0.00010183937956753653, Validation Loss: 0.009577350563176878\n"
     ]
    },
    {
     "name": "stderr",
     "output_type": "stream",
     "text": [
      "[I 2023-10-09 05:45:42,780] Trial 74 finished with value: 0.009855182416004027 and parameters: {'lr': 0.005042334204855129, 'dropout_prob': 0.24723899605778368, 'hidden_channels': 224, 'n_layers': 3, 'kernel_size': 8, 'stride': 7, 'padding': 10, 'pooling_type': 'avg', 'use_batch_norm': False}. Best is trial 34 with value: 0.0004163870631828104.\n"
     ]
    },
    {
     "name": "stdout",
     "output_type": "stream",
     "text": [
      "Epoch 50/50, Training Loss: 4.533109416027606e-05, Validation Loss: 0.009855182416004027\n",
      "Epoch 10/50, Training Loss: 0.019437394384670282, Validation Loss: 0.011582295577682089\n",
      "Epoch 20/50, Training Loss: 0.0018870730997854657, Validation Loss: 0.009447843113775889\n",
      "Epoch 30/50, Training Loss: 0.0005053808047617372, Validation Loss: 0.0035863612620232743\n",
      "Epoch 40/50, Training Loss: 0.005980996678831176, Validation Loss: 0.002947590925032273\n"
     ]
    },
    {
     "name": "stderr",
     "output_type": "stream",
     "text": [
      "[I 2023-10-09 05:46:46,998] Trial 75 finished with value: 0.0029913685750670993 and parameters: {'lr': 0.0033801319518546947, 'dropout_prob': 0.1997579855186784, 'hidden_channels': 165, 'n_layers': 4, 'kernel_size': 9, 'stride': 7, 'padding': 9, 'pooling_type': 'avg', 'use_batch_norm': True}. Best is trial 34 with value: 0.0004163870631828104.\n"
     ]
    },
    {
     "name": "stdout",
     "output_type": "stream",
     "text": [
      "Epoch 50/50, Training Loss: 0.0005995068515344869, Validation Loss: 0.0029913685750670993\n",
      "Epoch 10/50, Training Loss: 0.014725802552645965, Validation Loss: 0.012555473804241046\n",
      "Epoch 20/50, Training Loss: 0.005745740991363662, Validation Loss: 0.01381313012825558\n",
      "Epoch 30/50, Training Loss: 0.0020117094944937216, Validation Loss: 0.009891506386338733\n",
      "Epoch 40/50, Training Loss: 0.001071998459425935, Validation Loss: 0.011289478171192968\n"
     ]
    },
    {
     "name": "stderr",
     "output_type": "stream",
     "text": [
      "[I 2023-10-09 05:47:17,346] Trial 76 finished with value: 0.008751367715376546 and parameters: {'lr': 0.005628792004941189, 'dropout_prob': 0.22666297605861663, 'hidden_channels': 132, 'n_layers': 3, 'kernel_size': 8, 'stride': 6, 'padding': 8, 'pooling_type': 'avg', 'use_batch_norm': False}. Best is trial 34 with value: 0.0004163870631828104.\n"
     ]
    },
    {
     "name": "stdout",
     "output_type": "stream",
     "text": [
      "Epoch 50/50, Training Loss: 0.0007884934261270364, Validation Loss: 0.008751367715376546\n",
      "Epoch 10/50, Training Loss: 0.017795586680632927, Validation Loss: 0.013263171800645068\n",
      "Epoch 20/50, Training Loss: 0.005552987435704938, Validation Loss: 0.012386306741973385\n",
      "Epoch 30/50, Training Loss: 0.0006713330648997198, Validation Loss: 0.012136286175518762\n",
      "Epoch 40/50, Training Loss: 0.00022133230924091844, Validation Loss: 0.011036008809242048\n"
     ]
    },
    {
     "name": "stderr",
     "output_type": "stream",
     "text": [
      "[I 2023-10-09 05:47:54,049] Trial 77 finished with value: 0.01135367744609539 and parameters: {'lr': 0.008525694616915628, 'dropout_prob': 0.17927952075157183, 'hidden_channels': 232, 'n_layers': 2, 'kernel_size': 7, 'stride': 7, 'padding': 10, 'pooling_type': 'avg', 'use_batch_norm': False}. Best is trial 34 with value: 0.0004163870631828104.\n"
     ]
    },
    {
     "name": "stdout",
     "output_type": "stream",
     "text": [
      "Epoch 50/50, Training Loss: 0.00011589438139297624, Validation Loss: 0.01135367744609539\n",
      "Epoch 10/50, Training Loss: 0.010994567006315676, Validation Loss: 0.022600778698688373\n",
      "Epoch 20/50, Training Loss: 0.012540451430287513, Validation Loss: 0.05055315588833764\n",
      "Epoch 30/50, Training Loss: 0.0029245400151158983, Validation Loss: 0.015630698827408196\n",
      "Epoch 40/50, Training Loss: 5.2979600622488616e-05, Validation Loss: 0.0034248233826019714\n"
     ]
    },
    {
     "name": "stderr",
     "output_type": "stream",
     "text": [
      "[I 2023-10-09 05:49:30,746] Trial 78 finished with value: 0.002752086204253601 and parameters: {'lr': 0.007008248751569173, 'dropout_prob': 0.2734525820719303, 'hidden_channels': 182, 'n_layers': 6, 'kernel_size': 7, 'stride': 7, 'padding': 9, 'pooling_type': 'avg', 'use_batch_norm': True}. Best is trial 34 with value: 0.0004163870631828104.\n"
     ]
    },
    {
     "name": "stdout",
     "output_type": "stream",
     "text": [
      "Epoch 50/50, Training Loss: 1.6125248370988102e-05, Validation Loss: 0.002752086204253601\n",
      "Epoch 10/50, Training Loss: 0.03615767244369753, Validation Loss: 0.04469472810160369\n",
      "Epoch 20/50, Training Loss: 0.00794684148446146, Validation Loss: 0.0245822465949459\n",
      "Epoch 30/50, Training Loss: 0.018825278351751847, Validation Loss: 0.03628699640830746\n",
      "Epoch 40/50, Training Loss: 0.007100705240455065, Validation Loss: 0.034065424115397036\n"
     ]
    },
    {
     "name": "stderr",
     "output_type": "stream",
     "text": [
      "[I 2023-10-09 05:50:51,911] Trial 79 finished with value: 0.04167790649808012 and parameters: {'lr': 0.002281303857778292, 'dropout_prob': 0.2405492478082934, 'hidden_channels': 212, 'n_layers': 4, 'kernel_size': 8, 'stride': 5, 'padding': 8, 'pooling_type': 'avg', 'use_batch_norm': False}. Best is trial 34 with value: 0.0004163870631828104.\n"
     ]
    },
    {
     "name": "stdout",
     "output_type": "stream",
     "text": [
      "Epoch 50/50, Training Loss: 0.0038034822709666896, Validation Loss: 0.04167790649808012\n",
      "Epoch 10/50, Training Loss: 0.04695087671279907, Validation Loss: 0.04034287855029106\n",
      "Epoch 20/50, Training Loss: 0.021942571166061586, Validation Loss: 0.026019919314421713\n",
      "Epoch 30/50, Training Loss: 0.012556055846113351, Validation Loss: 0.01531043031718582\n",
      "Epoch 40/50, Training Loss: 0.008327499903257816, Validation Loss: 0.01281689028837718\n"
     ]
    },
    {
     "name": "stderr",
     "output_type": "stream",
     "text": [
      "[I 2023-10-09 05:51:01,622] Trial 80 finished with value: 0.010073670709971339 and parameters: {'lr': 0.004119338504927929, 'dropout_prob': 0.20661232770586418, 'hidden_channels': 251, 'n_layers': 1, 'kernel_size': 6, 'stride': 6, 'padding': 10, 'pooling_type': 'avg', 'use_batch_norm': True}. Best is trial 34 with value: 0.0004163870631828104.\n"
     ]
    },
    {
     "name": "stdout",
     "output_type": "stream",
     "text": [
      "Epoch 50/50, Training Loss: 0.006009116915294961, Validation Loss: 0.010073670709971339\n",
      "Epoch 10/50, Training Loss: 0.003251485190459437, Validation Loss: 0.005520457474631257\n",
      "Epoch 20/50, Training Loss: 0.0017725796665951248, Validation Loss: 0.00451119077479234\n",
      "Epoch 30/50, Training Loss: 7.024187916906686e-05, Validation Loss: 0.002609995058264758\n",
      "Epoch 40/50, Training Loss: 3.766187979459984e-05, Validation Loss: 0.0028508891055025742\n"
     ]
    },
    {
     "name": "stderr",
     "output_type": "stream",
     "text": [
      "[I 2023-10-09 05:51:46,189] Trial 81 finished with value: 0.003083853800490033 and parameters: {'lr': 0.007710724765359461, 'dropout_prob': 0.17241513905969494, 'hidden_channels': 245, 'n_layers': 2, 'kernel_size': 8, 'stride': 7, 'padding': 9, 'pooling_type': 'avg', 'use_batch_norm': True}. Best is trial 34 with value: 0.0004163870631828104.\n"
     ]
    },
    {
     "name": "stdout",
     "output_type": "stream",
     "text": [
      "Epoch 50/50, Training Loss: 2.2011116885228296e-05, Validation Loss: 0.003083853800490033\n",
      "Epoch 10/50, Training Loss: 0.006268220170656399, Validation Loss: 0.005196286176214926\n",
      "Epoch 20/50, Training Loss: 0.0015433598538595928, Validation Loss: 0.002268851045300835\n",
      "Epoch 30/50, Training Loss: 8.188892802389737e-05, Validation Loss: 0.0022524917612827267\n",
      "Epoch 40/50, Training Loss: 3.925788340922971e-05, Validation Loss: 0.002722589725635771\n"
     ]
    },
    {
     "name": "stderr",
     "output_type": "stream",
     "text": [
      "[I 2023-10-09 05:52:00,498] Trial 82 finished with value: 0.0029776561544849756 and parameters: {'lr': 0.006540547533718189, 'dropout_prob': 0.1871003596216954, 'hidden_channels': 237, 'n_layers': 2, 'kernel_size': 9, 'stride': 7, 'padding': 8, 'pooling_type': 'avg', 'use_batch_norm': True}. Best is trial 34 with value: 0.0004163870631828104.\n"
     ]
    },
    {
     "name": "stdout",
     "output_type": "stream",
     "text": [
      "Epoch 50/50, Training Loss: 2.5739652924570573e-05, Validation Loss: 0.0029776561544849756\n",
      "Epoch 10/50, Training Loss: 0.004173759528766236, Validation Loss: 0.008805800433037803\n",
      "Epoch 20/50, Training Loss: 0.0009532733379127157, Validation Loss: 0.002471340249030618\n",
      "Epoch 30/50, Training Loss: 0.00013965262998329221, Validation Loss: 0.0016527305569979944\n",
      "Epoch 40/50, Training Loss: 6.203220683317105e-05, Validation Loss: 0.0016225644581027154\n"
     ]
    },
    {
     "name": "stderr",
     "output_type": "stream",
     "text": [
      "[I 2023-10-09 05:52:42,193] Trial 83 finished with value: 0.0017603632368263789 and parameters: {'lr': 0.004803100711374429, 'dropout_prob': 0.2110583038591286, 'hidden_channels': 243, 'n_layers': 2, 'kernel_size': 8, 'stride': 7, 'padding': 9, 'pooling_type': 'avg', 'use_batch_norm': True}. Best is trial 34 with value: 0.0004163870631828104.\n"
     ]
    },
    {
     "name": "stdout",
     "output_type": "stream",
     "text": [
      "Epoch 50/50, Training Loss: 4.063657882896575e-05, Validation Loss: 0.0017603632368263789\n",
      "Epoch 10/50, Training Loss: 0.004955054475313744, Validation Loss: 0.004078624464455061\n",
      "Epoch 20/50, Training Loss: 0.0011517060746911974, Validation Loss: 0.004371876391815022\n",
      "Epoch 30/50, Training Loss: 0.00021448350631661953, Validation Loss: 0.0034196467167930678\n",
      "Epoch 40/50, Training Loss: 9.311512862510543e-05, Validation Loss: 0.003679320652736351\n"
     ]
    },
    {
     "name": "stderr",
     "output_type": "stream",
     "text": [
      "[I 2023-10-09 05:53:12,973] Trial 84 finished with value: 0.0039290279974011355 and parameters: {'lr': 0.004531653392941715, 'dropout_prob': 0.21394424764087908, 'hidden_channels': 195, 'n_layers': 2, 'kernel_size': 8, 'stride': 7, 'padding': 9, 'pooling_type': 'avg', 'use_batch_norm': True}. Best is trial 34 with value: 0.0004163870631828104.\n"
     ]
    },
    {
     "name": "stdout",
     "output_type": "stream",
     "text": [
      "Epoch 50/50, Training Loss: 5.80030159800381e-05, Validation Loss: 0.0039290279974011355\n",
      "Epoch 10/50, Training Loss: 0.012158701584989867, Validation Loss: 0.0253924949975044\n",
      "Epoch 20/50, Training Loss: 0.00037447274289368053, Validation Loss: 0.0025522116957290564\n",
      "Epoch 30/50, Training Loss: 5.53865787174624e-05, Validation Loss: 0.002577049029241607\n",
      "Epoch 40/50, Training Loss: 2.9568023716907895e-05, Validation Loss: 0.0025379285143571906\n"
     ]
    },
    {
     "name": "stderr",
     "output_type": "stream",
     "text": [
      "[I 2023-10-09 05:54:22,197] Trial 85 finished with value: 0.0026115659268270974 and parameters: {'lr': 0.003746900898256046, 'dropout_prob': 0.2532610151775545, 'hidden_channels': 256, 'n_layers': 3, 'kernel_size': 7, 'stride': 7, 'padding': 9, 'pooling_type': 'avg', 'use_batch_norm': True}. Best is trial 34 with value: 0.0004163870631828104.\n"
     ]
    },
    {
     "name": "stdout",
     "output_type": "stream",
     "text": [
      "Epoch 50/50, Training Loss: 2.0820662374746696e-05, Validation Loss: 0.0026115659268270974\n",
      "Epoch 10/50, Training Loss: 0.005631588247319263, Validation Loss: 0.006065410467272159\n",
      "Epoch 20/50, Training Loss: 0.07701556156239202, Validation Loss: 0.019485425058519468\n",
      "Epoch 30/50, Training Loss: 0.00021263501795117684, Validation Loss: 0.007040647411031387\n",
      "Epoch 40/50, Training Loss: 0.0001202887517006128, Validation Loss: 0.008085565688702445\n"
     ]
    },
    {
     "name": "stderr",
     "output_type": "stream",
     "text": [
      "[I 2023-10-09 05:55:27,181] Trial 86 finished with value: 0.0075602128543437175 and parameters: {'lr': 0.008495783511565916, 'dropout_prob': 0.23314447897001697, 'hidden_channels': 220, 'n_layers': 3, 'kernel_size': 8, 'stride': 6, 'padding': 10, 'pooling_type': 'avg', 'use_batch_norm': False}. Best is trial 34 with value: 0.0004163870631828104.\n"
     ]
    },
    {
     "name": "stdout",
     "output_type": "stream",
     "text": [
      "Epoch 50/50, Training Loss: 2.8163446762435696e-05, Validation Loss: 0.0075602128543437175\n",
      "Epoch 10/50, Training Loss: 0.04300861090662018, Validation Loss: 0.04087395407259464\n",
      "Epoch 20/50, Training Loss: 0.01760377981249363, Validation Loss: 0.015709230327047408\n",
      "Epoch 30/50, Training Loss: 0.00837318021653881, Validation Loss: 0.010810585576109588\n",
      "Epoch 40/50, Training Loss: 0.005316139593149626, Validation Loss: 0.007823055580956861\n"
     ]
    },
    {
     "name": "stderr",
     "output_type": "stream",
     "text": [
      "[I 2023-10-09 05:55:36,616] Trial 87 finished with value: 0.008482845878461376 and parameters: {'lr': 0.005176341754549078, 'dropout_prob': 0.19623336008760614, 'hidden_channels': 232, 'n_layers': 1, 'kernel_size': 7, 'stride': 7, 'padding': 7, 'pooling_type': 'avg', 'use_batch_norm': True}. Best is trial 34 with value: 0.0004163870631828104.\n"
     ]
    },
    {
     "name": "stdout",
     "output_type": "stream",
     "text": [
      "Epoch 50/50, Training Loss: 0.003356295035055448, Validation Loss: 0.008482845878461376\n",
      "Epoch 10/50, Training Loss: 0.01727682241659251, Validation Loss: 0.014964832516852766\n",
      "Epoch 20/50, Training Loss: 0.003921071955353968, Validation Loss: 0.01512227974308189\n",
      "Epoch 30/50, Training Loss: 0.002250712202024466, Validation Loss: 0.015795468869328033\n",
      "Epoch 40/50, Training Loss: 0.08026552300784275, Validation Loss: 0.033363030990585685\n"
     ]
    },
    {
     "name": "stderr",
     "output_type": "stream",
     "text": [
      "[I 2023-10-09 05:55:59,922] Trial 88 finished with value: 0.012316988128077355 and parameters: {'lr': 0.005986168376422126, 'dropout_prob': 0.25463737261350616, 'hidden_channels': 244, 'n_layers': 2, 'kernel_size': 9, 'stride': 2, 'padding': 8, 'pooling_type': 'avg', 'use_batch_norm': False}. Best is trial 34 with value: 0.0004163870631828104.\n"
     ]
    },
    {
     "name": "stdout",
     "output_type": "stream",
     "text": [
      "Epoch 50/50, Training Loss: 0.0005882270921692027, Validation Loss: 0.012316988128077355\n",
      "Epoch 10/50, Training Loss: 0.0032379740756192815, Validation Loss: 0.0019468102982500568\n",
      "Epoch 20/50, Training Loss: 0.0002784838320475237, Validation Loss: 0.002750211482634768\n",
      "Epoch 30/50, Training Loss: 3.190816530531588e-05, Validation Loss: 0.002055738674755503\n",
      "Epoch 40/50, Training Loss: 1.5029971864937725e-05, Validation Loss: 0.0021608096855061376\n"
     ]
    },
    {
     "name": "stderr",
     "output_type": "stream",
     "text": [
      "[I 2023-10-09 05:57:18,802] Trial 89 finished with value: 0.002260030169594529 and parameters: {'lr': 0.0029033153773737165, 'dropout_prob': 0.21979912503630328, 'hidden_channels': 203, 'n_layers': 4, 'kernel_size': 8, 'stride': 7, 'padding': 9, 'pooling_type': 'avg', 'use_batch_norm': True}. Best is trial 34 with value: 0.0004163870631828104.\n"
     ]
    },
    {
     "name": "stdout",
     "output_type": "stream",
     "text": [
      "Epoch 50/50, Training Loss: 8.92247712433727e-06, Validation Loss: 0.002260030169594529\n",
      "Epoch 10/50, Training Loss: 0.0035104896505213073, Validation Loss: 0.005894911141695047\n",
      "Epoch 20/50, Training Loss: 0.001790487876214977, Validation Loss: 0.0016805659506644588\n",
      "Epoch 30/50, Training Loss: 2.145674221948514e-05, Validation Loss: 0.002303642958679575\n",
      "Epoch 40/50, Training Loss: 1.1764040422232e-05, Validation Loss: 0.0024520089909856324\n"
     ]
    },
    {
     "name": "stderr",
     "output_type": "stream",
     "text": [
      "[I 2023-10-09 05:58:50,937] Trial 90 finished with value: 0.0025514912740618456 and parameters: {'lr': 0.003352694930031852, 'dropout_prob': 0.2122803076443845, 'hidden_channels': 226, 'n_layers': 4, 'kernel_size': 8, 'stride': 7, 'padding': 9, 'pooling_type': 'avg', 'use_batch_norm': True}. Best is trial 34 with value: 0.0004163870631828104.\n"
     ]
    },
    {
     "name": "stdout",
     "output_type": "stream",
     "text": [
      "Epoch 50/50, Training Loss: 7.222542469589239e-06, Validation Loss: 0.0025514912740618456\n",
      "Epoch 10/50, Training Loss: 0.015389593077763435, Validation Loss: 0.013670771237229928\n",
      "Epoch 20/50, Training Loss: 0.0006436534256115392, Validation Loss: 0.004474661318113249\n",
      "Epoch 30/50, Training Loss: 4.1360876762595465e-05, Validation Loss: 0.0038878344912518514\n",
      "Epoch 40/50, Training Loss: 1.5122271656031032e-05, Validation Loss: 0.0039685235309434574\n"
     ]
    },
    {
     "name": "stderr",
     "output_type": "stream",
     "text": [
      "[I 2023-10-09 06:00:10,089] Trial 91 finished with value: 0.004074770155796159 and parameters: {'lr': 0.00505385704585555, 'dropout_prob': 0.23208490432609744, 'hidden_channels': 203, 'n_layers': 4, 'kernel_size': 8, 'stride': 7, 'padding': 9, 'pooling_type': 'avg', 'use_batch_norm': True}. Best is trial 34 with value: 0.0004163870631828104.\n"
     ]
    },
    {
     "name": "stdout",
     "output_type": "stream",
     "text": [
      "Epoch 50/50, Training Loss: 8.728657759650471e-06, Validation Loss: 0.004074770155796159\n",
      "Epoch 10/50, Training Loss: 0.11711787809092071, Validation Loss: 0.23786415252834558\n",
      "Epoch 20/50, Training Loss: 0.00028621229029663335, Validation Loss: 0.0030642640367659624\n",
      "Epoch 30/50, Training Loss: 3.84742678790879e-05, Validation Loss: 0.0036121887376339146\n",
      "Epoch 40/50, Training Loss: 1.975762867709085e-05, Validation Loss: 0.003975199761839576\n"
     ]
    },
    {
     "name": "stderr",
     "output_type": "stream",
     "text": [
      "[I 2023-10-09 06:01:21,601] Trial 92 finished with value: 0.004173470438331606 and parameters: {'lr': 0.0027900371322542115, 'dropout_prob': 0.2188968294715529, 'hidden_channels': 190, 'n_layers': 4, 'kernel_size': 8, 'stride': 7, 'padding': 9, 'pooling_type': 'avg', 'use_batch_norm': True}. Best is trial 34 with value: 0.0004163870631828104.\n"
     ]
    },
    {
     "name": "stdout",
     "output_type": "stream",
     "text": [
      "Epoch 50/50, Training Loss: 1.2256552406230889e-05, Validation Loss: 0.004173470438331606\n",
      "Epoch 10/50, Training Loss: 0.0077304491837088376, Validation Loss: 0.020260545908968197\n",
      "Epoch 20/50, Training Loss: 0.10771918745951788, Validation Loss: 0.1773439864628017\n",
      "Epoch 30/50, Training Loss: 0.004302791689922507, Validation Loss: 0.013223301688412903\n",
      "Epoch 40/50, Training Loss: 7.988282328780417e-05, Validation Loss: 0.010978002395290787\n"
     ]
    },
    {
     "name": "stderr",
     "output_type": "stream",
     "text": [
      "[I 2023-10-09 06:03:03,496] Trial 93 finished with value: 0.012954968634460329 and parameters: {'lr': 0.006311042000299645, 'dropout_prob': 0.26549444794405486, 'hidden_channels': 213, 'n_layers': 5, 'kernel_size': 7, 'stride': 7, 'padding': 10, 'pooling_type': 'avg', 'use_batch_norm': True}. Best is trial 34 with value: 0.0004163870631828104.\n"
     ]
    },
    {
     "name": "stdout",
     "output_type": "stream",
     "text": [
      "Epoch 50/50, Training Loss: 1.34782897974571e-05, Validation Loss: 0.012954968634460329\n",
      "Epoch 10/50, Training Loss: 0.0063971995189222655, Validation Loss: 0.0059689862609957345\n",
      "Epoch 20/50, Training Loss: 0.0016912608069457834, Validation Loss: 0.005774452687546727\n",
      "Epoch 30/50, Training Loss: 0.0005897462918167753, Validation Loss: 0.0031392356986543746\n",
      "Epoch 40/50, Training Loss: 0.0021436544455120327, Validation Loss: 0.007872744696214795\n"
     ]
    },
    {
     "name": "stderr",
     "output_type": "stream",
     "text": [
      "[I 2023-10-09 06:03:57,112] Trial 94 finished with value: 0.002193569637938708 and parameters: {'lr': 0.0042357877510328275, 'dropout_prob': 0.20577517657020372, 'hidden_channels': 201, 'n_layers': 3, 'kernel_size': 8, 'stride': 7, 'padding': 8, 'pooling_type': 'avg', 'use_batch_norm': True}. Best is trial 34 with value: 0.0004163870631828104.\n"
     ]
    },
    {
     "name": "stdout",
     "output_type": "stream",
     "text": [
      "Epoch 50/50, Training Loss: 0.00016926593604782078, Validation Loss: 0.002193569637938708\n",
      "Epoch 10/50, Training Loss: 0.005969529671053733, Validation Loss: 0.006965630025661085\n",
      "Epoch 20/50, Training Loss: 0.002006648066819781, Validation Loss: 0.005777554315500311\n",
      "Epoch 30/50, Training Loss: 0.0019378047110817974, Validation Loss: 0.004594328767780098\n",
      "Epoch 40/50, Training Loss: 9.207267357264607e-05, Validation Loss: 0.008080056025619342\n"
     ]
    },
    {
     "name": "stderr",
     "output_type": "stream",
     "text": [
      "[I 2023-10-09 06:05:07,917] Trial 95 finished with value: 0.007789850208723692 and parameters: {'lr': 0.00425049210456523, 'dropout_prob': 0.1922327861911107, 'hidden_channels': 240, 'n_layers': 3, 'kernel_size': 8, 'stride': 7, 'padding': 8, 'pooling_type': 'avg', 'use_batch_norm': True}. Best is trial 34 with value: 0.0004163870631828104.\n"
     ]
    },
    {
     "name": "stdout",
     "output_type": "stream",
     "text": [
      "Epoch 50/50, Training Loss: 1.7348135953955448e-05, Validation Loss: 0.007789850208723692\n",
      "Epoch 10/50, Training Loss: 0.008010882773012254, Validation Loss: 0.011090012136264704\n",
      "Epoch 20/50, Training Loss: 0.019605916215016717, Validation Loss: 0.014616768807172775\n",
      "Epoch 30/50, Training Loss: 3.7860222135115634e-05, Validation Loss: 0.011705376828672343\n",
      "Epoch 40/50, Training Loss: 1.607970291535176e-05, Validation Loss: 0.01279790899312161\n"
     ]
    },
    {
     "name": "stderr",
     "output_type": "stream",
     "text": [
      "[I 2023-10-09 06:05:39,639] Trial 96 finished with value: 0.013512688585493038 and parameters: {'lr': 0.003569456385738482, 'dropout_prob': 0.2008663142131643, 'hidden_channels': 174, 'n_layers': 5, 'kernel_size': 9, 'stride': 6, 'padding': 8, 'pooling_type': 'avg', 'use_batch_norm': True}. Best is trial 34 with value: 0.0004163870631828104.\n"
     ]
    },
    {
     "name": "stdout",
     "output_type": "stream",
     "text": [
      "Epoch 50/50, Training Loss: 7.368163103878502e-06, Validation Loss: 0.013512688585493038\n",
      "Epoch 10/50, Training Loss: 0.006236608209644234, Validation Loss: 0.023117915814509615\n",
      "Epoch 20/50, Training Loss: 0.0005598041757513138, Validation Loss: 0.000998034336589626\n",
      "Epoch 30/50, Training Loss: 3.8209828583222264e-05, Validation Loss: 0.001038277643147012\n",
      "Epoch 40/50, Training Loss: 1.842348212683705e-05, Validation Loss: 0.0011063893741720676\n"
     ]
    },
    {
     "name": "stderr",
     "output_type": "stream",
     "text": [
      "[I 2023-10-09 06:06:53,618] Trial 97 finished with value: 0.0010669447069062699 and parameters: {'lr': 0.002987314862239275, 'dropout_prob': 0.16119679291638533, 'hidden_channels': 198, 'n_layers': 4, 'kernel_size': 8, 'stride': 7, 'padding': 9, 'pooling_type': 'avg', 'use_batch_norm': True}. Best is trial 34 with value: 0.0004163870631828104.\n"
     ]
    },
    {
     "name": "stdout",
     "output_type": "stream",
     "text": [
      "Epoch 50/50, Training Loss: 1.156720510710241e-05, Validation Loss: 0.0010669447069062699\n",
      "Epoch 10/50, Training Loss: 0.004113026694188105, Validation Loss: 0.01793076370813651\n",
      "Epoch 20/50, Training Loss: 0.0016528185947062147, Validation Loss: 0.014423150912080018\n",
      "Epoch 30/50, Training Loss: 3.3052750437021926e-05, Validation Loss: 0.010157334298810383\n",
      "Epoch 40/50, Training Loss: 1.46918855314711e-05, Validation Loss: 0.010880053265282186\n"
     ]
    },
    {
     "name": "stderr",
     "output_type": "stream",
     "text": [
      "[I 2023-10-09 06:08:21,728] Trial 98 finished with value: 0.011240609463584406 and parameters: {'lr': 0.0029247061499720435, 'dropout_prob': 0.15850865197672087, 'hidden_channels': 220, 'n_layers': 4, 'kernel_size': 8, 'stride': 7, 'padding': 10, 'pooling_type': 'avg', 'use_batch_norm': True}. Best is trial 34 with value: 0.0004163870631828104.\n"
     ]
    },
    {
     "name": "stdout",
     "output_type": "stream",
     "text": [
      "Epoch 50/50, Training Loss: 9.004657818701573e-06, Validation Loss: 0.011240609463584406\n",
      "Epoch 10/50, Training Loss: 0.006608782421549662, Validation Loss: 0.003228861194656929\n",
      "Epoch 20/50, Training Loss: 0.006299887292815613, Validation Loss: 0.002619928160129348\n",
      "Epoch 30/50, Training Loss: 0.004576442233032609, Validation Loss: 0.0007070340852806112\n",
      "Epoch 40/50, Training Loss: 0.0027577193634662706, Validation Loss: 0.0015778911993038491\n"
     ]
    },
    {
     "name": "stderr",
     "output_type": "stream",
     "text": [
      "[I 2023-10-09 06:09:33,802] Trial 99 finished with value: 0.005285043177991611 and parameters: {'lr': 0.0024314274465931612, 'dropout_prob': 0.17701541884786703, 'hidden_channels': 180, 'n_layers': 4, 'kernel_size': 9, 'stride': 7, 'padding': 9, 'pooling_type': 'avg', 'use_batch_norm': True}. Best is trial 34 with value: 0.0004163870631828104.\n"
     ]
    },
    {
     "name": "stdout",
     "output_type": "stream",
     "text": [
      "Epoch 50/50, Training Loss: 0.0046614365547288945, Validation Loss: 0.005285043177991611\n"
     ]
    }
   ],
   "source": [
    "# Create an Optuna study with SQLite storage and TPE pruner\n",
    "study = optuna.create_study(\n",
    "    study_name=\"Case#3: Force Merged\",\n",
    "    direction=\"minimize\",  # Minimize final validation loss\n",
    "    storage=\"sqlite:///../../database_sqllite//db.sqlite3\",\n",
    "    pruner=optuna.pruners.MedianPruner(n_warmup_steps=5),  \n",
    ")\n",
    "\n",
    "# Define the number of trials (hyperparameter combinations) you want to search\n",
    "num_trials = 100  \n",
    "\n",
    "# Perform hyperparameter optimization\n",
    "study.optimize(objective, n_trials=num_trials, n_jobs=1)\n"
   ]
  },
  {
   "cell_type": "code",
   "execution_count": 10,
   "metadata": {},
   "outputs": [
    {
     "name": "stdout",
     "output_type": "stream",
     "text": [
      "Best hyperparameters:\n",
      "{'lr': 0.006780637977518086, 'dropout_prob': 0.2192170613629412, 'hidden_channels': 240, 'n_layers': 3, 'kernel_size': 8, 'stride': 7, 'padding': 9, 'pooling_type': 'avg', 'use_batch_norm': False}\n",
      "Best final validation loss:\n",
      "0.0004163870631828104\n"
     ]
    }
   ],
   "source": [
    "# Print the best hyperparameters and their associated final validation loss\n",
    "print(\"Best hyperparameters:\")\n",
    "print(study.best_params)\n",
    "print(\"Best final validation loss:\")\n",
    "print(study.best_value)"
   ]
  },
  {
   "cell_type": "code",
   "execution_count": 11,
   "metadata": {},
   "outputs": [],
   "source": [
    "# Specify the path where you want to save the JSON file\n",
    "config_file_path = \"../best_configs/force_merged_best_configs.json\""
   ]
  },
  {
   "cell_type": "code",
   "execution_count": 13,
   "metadata": {},
   "outputs": [],
   "source": [
    "\n",
    "# Load the saved configuration\n",
    "with open(config_file_path, \"r\") as config_file:\n",
    "    saved_configs = json.load(config_file)\n",
    "\n",
    "# Compare the new best value with the saved one\n",
    "if study.best_value < saved_configs[\"best_value\"]:\n",
    "    print(\"New best value found. Replacing saved configuration.\")\n",
    "    saved_configs[\"best_params\"] = study.best_params\n",
    "    saved_configs[\"best_value\"] = study.best_value\n",
    "\n",
    "    # Update the saved configuration file\n",
    "    with open(config_file_path, \"w\") as config_file:\n",
    "        json.dump(saved_configs, config_file)"
   ]
  },
  {
   "cell_type": "code",
   "execution_count": 12,
   "metadata": {},
   "outputs": [],
   "source": [
    "# Save the best hyperparameters and validation loss to a JSON file\n",
    "best_configs = {\n",
    "    \"best_params\": study.best_params,\n",
    "    \"best_value\": study.best_value,\n",
    "}\n",
    "\n",
    "with open(config_file_path, \"w\") as config_file:\n",
    "    json.dump(best_configs, config_file)"
   ]
  },
  {
   "cell_type": "markdown",
   "metadata": {},
   "source": [
    "# Thank You"
   ]
  }
 ],
 "metadata": {
  "kernelspec": {
   "display_name": ".aifaps",
   "language": "python",
   "name": "python3"
  },
  "language_info": {
   "codemirror_mode": {
    "name": "ipython",
    "version": 3
   },
   "file_extension": ".py",
   "mimetype": "text/x-python",
   "name": "python",
   "nbconvert_exporter": "python",
   "pygments_lexer": "ipython3",
   "version": "3.11.4"
  },
  "orig_nbformat": 4
 },
 "nbformat": 4,
 "nbformat_minor": 2
}
