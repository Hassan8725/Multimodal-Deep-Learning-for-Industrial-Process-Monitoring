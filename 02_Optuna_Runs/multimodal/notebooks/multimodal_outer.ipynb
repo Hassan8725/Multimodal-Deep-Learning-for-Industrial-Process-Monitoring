{
 "cells": [
  {
   "cell_type": "code",
   "execution_count": 1,
   "metadata": {},
   "outputs": [
    {
     "name": "stderr",
     "output_type": "stream",
     "text": [
      "2023-10-10 23:01:51.289758: E tensorflow/compiler/xla/stream_executor/cuda/cuda_dnn.cc:9342] Unable to register cuDNN factory: Attempting to register factory for plugin cuDNN when one has already been registered\n",
      "2023-10-10 23:01:51.289799: E tensorflow/compiler/xla/stream_executor/cuda/cuda_fft.cc:609] Unable to register cuFFT factory: Attempting to register factory for plugin cuFFT when one has already been registered\n",
      "2023-10-10 23:01:51.289821: E tensorflow/compiler/xla/stream_executor/cuda/cuda_blas.cc:1518] Unable to register cuBLAS factory: Attempting to register factory for plugin cuBLAS when one has already been registered\n",
      "2023-10-10 23:01:51.296715: I tensorflow/core/platform/cpu_feature_guard.cc:182] This TensorFlow binary is optimized to use available CPU instructions in performance-critical operations.\n",
      "To enable the following instructions: AVX2 FMA, in other operations, rebuild TensorFlow with the appropriate compiler flags.\n",
      "2023-10-10 23:01:51.968502: W tensorflow/compiler/tf2tensorrt/utils/py_utils.cc:38] TF-TRT Warning: Could not find TensorRT\n"
     ]
    }
   ],
   "source": [
    "#---import libraries relating to data manipulation, visualization---------------------------------------------------\n",
    "import pandas as pd\n",
    "pd.set_option('display.max_columns', None)\n",
    "pd.set_option(\"max_colwidth\", None)\n",
    "\n",
    "import numpy as np\n",
    "import json\n",
    "\n",
    "#-------import libraries to evaluate the deep learning model---------------------------------------------------------------\n",
    "from sklearn.model_selection import train_test_split\n",
    "\n",
    "import warnings\n",
    "warnings.filterwarnings('ignore')\n",
    "\n",
    "#------ import Deep Learning Libraries-------#\n",
    "\n",
    "import torch\n",
    "import torch.nn as nn\n",
    "import torch.optim as optim\n",
    "\n",
    "\n",
    "import optuna\n",
    "from optuna.trial import Trial\n",
    "import pickle\n",
    "\n",
    "\n",
    "import sys\n",
    "sys.path.append('../../../src')  # Add the 'src' directory to the path\n",
    "\n",
    "#### Import Data Loading and Processing Functions<\n",
    "from multimodal.helper_functions import reproducible_comp, get_final_df\n",
    "from multimodal.model_architecture import MultimodalModel\n",
    "\n",
    "reproducible_comp()"
   ]
  },
  {
   "cell_type": "code",
   "execution_count": 3,
   "metadata": {},
   "outputs": [],
   "source": [
    "file_path = \"../../../data/processed_data/force_outer.pkl\"\n",
    "with open(file_path, 'rb') as picklefile:\n",
    "    data = pickle.load(picklefile)\n",
    "\n",
    "features_force_outer, category_force_outer, category_names, df_force_outer = get_final_df(data, is_acc_data=0, is_multilabel=1)\n",
    "\n",
    "file_path = \"../../../data/processed_data/acc_outer.pkl\"\n",
    "with open(file_path, 'rb') as picklefile:\n",
    "    data = pickle.load(picklefile)\n",
    "\n",
    "features_acc_outer, category_acc_outer, category_names, df_acc_outer = get_final_df(data, is_acc_data=1, is_multilabel=1)"
   ]
  },
  {
   "cell_type": "code",
   "execution_count": 4,
   "metadata": {},
   "outputs": [
    {
     "name": "stdout",
     "output_type": "stream",
     "text": [
      "Force Features Shape:  (1330, 1)\n",
      "Force Labels Shape:  (1330, 4)\n",
      "Acceleration Features Shape:  (1330, 3)\n",
      "Acceleration Labels Shape:  (1330, 4)\n"
     ]
    }
   ],
   "source": [
    "labels_force = category_force_outer.copy()\n",
    "features_force = features_force_outer.copy()\n",
    "print(\"Force Features Shape: \", features_force.shape)\n",
    "print(\"Force Labels Shape: \", labels_force.shape)\n",
    "\n",
    "labels_acc = category_acc_outer.copy()\n",
    "features_acc = features_acc_outer.copy()\n",
    "print(\"Acceleration Features Shape: \", features_acc.shape)\n",
    "print(\"Acceleration Labels Shape: \", labels_acc.shape)"
   ]
  },
  {
   "cell_type": "markdown",
   "metadata": {},
   "source": [
    "#### For Force"
   ]
  },
  {
   "cell_type": "code",
   "execution_count": 5,
   "metadata": {},
   "outputs": [
    {
     "name": "stdout",
     "output_type": "stream",
     "text": [
      "Updated Features Shape:  (1330, 150)\n"
     ]
    }
   ],
   "source": [
    "max_length = 150\n",
    "for i in range (len(features_force)):\n",
    "    if(len(features_force[i][0]<max_length)):\n",
    "        features_force[i][0]=np.pad(features_force[i][0], (0,max_length-len(features_force[i][0])), 'constant', constant_values=(0))\n",
    "feat_force= np.zeros(len(features_force) *max_length).reshape(-1, max_length)\n",
    "for i in range(len(features_force)):\n",
    "    feat_force[i]= np.concatenate((features_force[i][0]), axis=None)\n",
    "    \n",
    "\n",
    "print(\"Updated Features Shape: \", feat_force.shape)"
   ]
  },
  {
   "cell_type": "markdown",
   "metadata": {},
   "source": [
    "#### For Acceleration"
   ]
  },
  {
   "cell_type": "code",
   "execution_count": 6,
   "metadata": {},
   "outputs": [
    {
     "name": "stdout",
     "output_type": "stream",
     "text": [
      "Updated Features_acc Shape:  (1330, 1500)\n"
     ]
    }
   ],
   "source": [
    "max_length = 500\n",
    "\n",
    "for i in range (len(features_acc)):\n",
    "    if(len(features_acc[i][0]<max_length)):\n",
    "        features_acc[i][0]=np.pad(features_acc[i][0], (0,max_length-len(features_acc[i][0])), 'constant', constant_values=(0))\n",
    "        \n",
    "    if(len(features_acc[i][1]<max_length)):\n",
    "        features_acc[i][1]=np.pad(features_acc[i][1], (0,max_length-len(features_acc[i][1])), 'constant', constant_values=(0))\n",
    "    \n",
    "    if(len(features_acc[i][2]<max_length)):\n",
    "        features_acc[i][2]=np.pad(features_acc[i][2], (0,max_length-len(features_acc[i][2])), 'constant', constant_values=(0))\n",
    "\n",
    "feat_acc = np.zeros(len(features_acc)*3*max_length).reshape(-1, 3*max_length)\n",
    "for i in range(len(features_acc)):\n",
    "    feat_acc[i]= np.concatenate((features_acc[i][0],features_acc[i][1], features_acc[i][2]), axis=None)\n",
    "    \n",
    "\n",
    "print(\"Updated Features_acc Shape: \", feat_acc.shape)"
   ]
  },
  {
   "cell_type": "code",
   "execution_count": 7,
   "metadata": {},
   "outputs": [],
   "source": [
    "X_train_force, X_test_force, y_train_force, y_test_force = train_test_split(feat_force, labels_force, test_size=0.1, \n",
    "                                                    random_state=2, shuffle=True, stratify=labels_force)\n",
    "\n",
    "X_train_acc, X_test_acc, y_train_acc, y_test_acc = train_test_split(feat_acc, labels_acc, test_size=0.1, \n",
    "                                                    random_state=2, shuffle=True, stratify=labels_acc)                                                   "
   ]
  },
  {
   "cell_type": "code",
   "execution_count": 8,
   "metadata": {},
   "outputs": [
    {
     "name": "stdout",
     "output_type": "stream",
     "text": [
      "(1197, 1, 150)\n",
      "(1197, 4)\n",
      "(133, 1, 150)\n",
      "(133, 4)\n",
      "(1197, 1, 1500)\n",
      "(1197, 4)\n",
      "(133, 1, 1500)\n",
      "(133, 4)\n"
     ]
    }
   ],
   "source": [
    "X_train_force = X_train_force.reshape(-1, 1, feat_force.shape[1])\n",
    "X_test_force = X_test_force.reshape(-1, 1, feat_force.shape[1])\n",
    "\n",
    "X_train_acc = X_train_acc.reshape(-1, 1, feat_acc.shape[1])\n",
    "X_test_acc = X_test_acc.reshape(-1, 1, feat_acc.shape[1])\n",
    "\n",
    "print(X_train_force.shape)\n",
    "print(y_train_force.shape)\n",
    "print(X_test_force.shape)\n",
    "print(y_test_acc.shape)\n",
    "\n",
    "print(X_train_acc.shape)\n",
    "print(y_train_acc.shape)\n",
    "print(X_test_acc.shape)\n",
    "print(y_test_acc.shape)"
   ]
  },
  {
   "cell_type": "code",
   "execution_count": 9,
   "metadata": {},
   "outputs": [],
   "source": [
    "from torch.utils.data import DataLoader, TensorDataset\n",
    "\n",
    "input_channels = 1\n",
    "num_classes = 4\n",
    "\n",
    "device = torch.device(\"cuda\" if torch.cuda.is_available() else \"cpu\")\n",
    "\n",
    "# Load your multimodal data and labels for both modalities\n",
    "x_train_force = torch.tensor(X_train_force, dtype=torch.float32)\n",
    "y_train_force = torch.tensor(y_train_force, dtype=torch.float32)\n",
    "\n",
    "x_train_acc = torch.tensor(X_train_acc, dtype=torch.float32)\n",
    "y_train_acc = torch.tensor(y_train_acc, dtype=torch.float32)\n",
    "\n",
    "# Define the objective function for hyperparameter optimization\n",
    "def multimodal_objective(trial: Trial):\n",
    "    try:\n",
    "        # Define hyperparameters to search for\n",
    "        lr = trial.suggest_loguniform(\"lr\", 1e-5, 1e-2)  # Suggest a learning rate in log scale\n",
    "        dropout_prob = trial.suggest_float(\"dropout_prob\", 0.0, 0.5)\n",
    "        force_n_layers = trial.suggest_int(\"force_n_layers\", 1, 7)\n",
    "        force_kernel_size = trial.suggest_int(\"force_kernel_size\", 3, 9)\n",
    "        force_stride = trial.suggest_int(\"force_stride\", 1, 7)\n",
    "        force_padding = trial.suggest_int(\"force_padding\", 1, 10)\n",
    "        force_hidden_channels = trial.suggest_int(\"force_hidden_channels\", 16, 256)\n",
    "        force_pooling_type = trial.suggest_categorical(\"force_pooling_type\", [\"max\", \"avg\"])\n",
    "        force_use_batch_norm = trial.suggest_categorical(\"force_use_batch_norm\", [True, False])\n",
    "\n",
    "        acc_n_layers = trial.suggest_int(\"acc_n_layers\", 1, 7)\n",
    "        acc_kernel_size = trial.suggest_int(\"acc_kernel_size\", 3, 9)\n",
    "        acc_stride = trial.suggest_int(\"acc_stride\", 1, 7)\n",
    "        acc_padding = trial.suggest_int(\"acc_padding\", 1, 10)\n",
    "        acc_hidden_channels = trial.suggest_int(\"acc_hidden_channels\", 16, 256)\n",
    "        acc_pooling_type = trial.suggest_categorical(\"acc_pooling_type\", [\"max\", \"avg\"])\n",
    "        acc_use_batch_norm = trial.suggest_categorical(\"acc_use_batch_norm\", [True, False])\n",
    "\n",
    "\n",
    "        # Split the data into training and validation sets\n",
    "        x_train_split_force, x_valid_split_force, y_train_split_force, y_valid_split_force = train_test_split(\n",
    "            x_train_force, y_train_force, test_size=0.2, random_state=42\n",
    "        )\n",
    "        x_train_split_acc, x_valid_split_acc, y_train_split_acc, y_valid_split_acc = train_test_split(\n",
    "            x_train_acc, y_train_acc, test_size=0.2, random_state=42\n",
    "        )\n",
    "\n",
    "        # Create datasets and data loaders for both modalities\n",
    "        train_dataset_force = TensorDataset(x_train_split_force, y_train_split_force)\n",
    "        valid_dataset_force = TensorDataset(x_valid_split_force, y_valid_split_force)\n",
    "\n",
    "        train_dataset_acc = TensorDataset(x_train_split_acc, y_train_split_acc)\n",
    "        valid_dataset_acc = TensorDataset(x_valid_split_acc, y_valid_split_acc)\n",
    "\n",
    "        train_loader_force = DataLoader(train_dataset_force, batch_size=64, shuffle=True)\n",
    "        valid_loader_force = DataLoader(valid_dataset_force, batch_size=64, shuffle=False)\n",
    "\n",
    "        train_loader_acc = DataLoader(train_dataset_acc, batch_size=64, shuffle=True)\n",
    "        valid_loader_acc = DataLoader(valid_dataset_acc, batch_size=64, shuffle=False)\n",
    "\n",
    "        # Create the multimodal model with the suggested hyperparameters\n",
    "        model = MultimodalModel(input_channels, num_classes, \n",
    "                 force_n_layers, force_kernel_size, force_stride, force_padding, force_hidden_channels,\n",
    "                 force_pooling_type, force_use_batch_norm,\n",
    "                 acc_n_layers, acc_kernel_size, acc_stride, acc_padding, acc_hidden_channels,\n",
    "                 acc_pooling_type, acc_use_batch_norm, dropout_prob).to(device)\n",
    "\n",
    "        criterion = nn.BCEWithLogitsLoss()\n",
    "        optimizer = optim.Adam(model.parameters(), lr=lr)\n",
    "\n",
    "        num_epochs = 50\n",
    "\n",
    "        model.train()\n",
    "        for epoch in range(num_epochs):\n",
    "            # Training loop\n",
    "            running_loss = 0.0\n",
    "            for (inputs_acc, labels), (inputs_force,lab) in zip(train_loader_acc, train_loader_force):\n",
    "                inputs_acc, labels, inputs_force = inputs_acc.to(device), labels.to(device), inputs_force.to(device)\n",
    "\n",
    "                optimizer.zero_grad()\n",
    "\n",
    "                outputs = model(inputs_force, inputs_acc)\n",
    "                loss = criterion(outputs, labels.float())\n",
    "                loss.backward()\n",
    "                optimizer.step()\n",
    "\n",
    "                running_loss += loss.item()\n",
    "\n",
    "            train_loss = running_loss / len(train_loader_acc)\n",
    "\n",
    "            # Validation loss calculation (similar to training loop)\n",
    "            model.eval()\n",
    "            valid_loss = 0.0\n",
    "            with torch.no_grad():\n",
    "                for (inputs_acc_valid, labels_valid), (inputs_force_valid,lab) in zip(valid_loader_acc, valid_loader_force):\n",
    "                    inputs_acc_valid, labels_valid, inputs_force_valid = inputs_acc_valid.to(device), labels_valid.to(device), inputs_force_valid.to(device)\n",
    "                    outputs_valid = model(inputs_force_valid, inputs_acc_valid)\n",
    "                    loss_valid = criterion(outputs_valid, labels_valid.float())\n",
    "                    valid_loss += loss_valid.item()\n",
    "\n",
    "            valid_loss = valid_loss / len(valid_loader_acc)\n",
    "            if (epoch + 1) % 10 == 0:\n",
    "                print(f\"Epoch {epoch + 1}/{num_epochs}, Training Loss: {train_loss}, Validation Loss: {valid_loss}\")\n",
    "\n",
    "        # Calculate and return the final validation loss\n",
    "        return valid_loss\n",
    "    \n",
    "    except Exception as e:\n",
    "        # Print the error for debugging purposes (optional)\n",
    "        print(f\"Trial failed with error: {e}\")\n",
    "\n",
    "        # Return a high validation loss to indicate failure\n",
    "        return 1.0  # High validation loss\n"
   ]
  },
  {
   "cell_type": "code",
   "execution_count": 10,
   "metadata": {},
   "outputs": [
    {
     "name": "stderr",
     "output_type": "stream",
     "text": [
      "[I 2023-10-10 23:03:32,003] A new study created in RDB with name: Case#8: Multi Modal Outer\n"
     ]
    },
    {
     "name": "stdout",
     "output_type": "stream",
     "text": [
      "Epoch 10/50, Training Loss: 0.2350373923778534, Validation Loss: 0.29982420057058334\n",
      "Epoch 20/50, Training Loss: 0.15302783052126567, Validation Loss: 0.37698909640312195\n",
      "Epoch 30/50, Training Loss: 0.10591483761866888, Validation Loss: 0.7381678596138954\n",
      "Epoch 40/50, Training Loss: 0.04545615961154302, Validation Loss: 0.8121242821216583\n"
     ]
    },
    {
     "name": "stderr",
     "output_type": "stream",
     "text": [
      "[I 2023-10-10 23:07:03,680] Trial 0 finished with value: 1.144541174173355 and parameters: {'lr': 0.004635776945813943, 'dropout_prob': 0.4326538137174691, 'force_n_layers': 1, 'force_kernel_size': 9, 'force_stride': 6, 'force_padding': 8, 'force_hidden_channels': 189, 'force_pooling_type': 'max', 'force_use_batch_norm': False, 'acc_n_layers': 3, 'acc_kernel_size': 8, 'acc_stride': 1, 'acc_padding': 6, 'acc_hidden_channels': 213, 'acc_pooling_type': 'max', 'acc_use_batch_norm': False}. Best is trial 0 with value: 1.144541174173355.\n"
     ]
    },
    {
     "name": "stdout",
     "output_type": "stream",
     "text": [
      "Epoch 50/50, Training Loss: 0.013726228817055623, Validation Loss: 1.144541174173355\n"
     ]
    },
    {
     "name": "stderr",
     "output_type": "stream",
     "text": [
      "[I 2023-10-10 23:07:05,098] Trial 1 finished with value: 1.0 and parameters: {'lr': 0.005659013824908527, 'dropout_prob': 0.16041616887491572, 'force_n_layers': 5, 'force_kernel_size': 5, 'force_stride': 5, 'force_padding': 4, 'force_hidden_channels': 134, 'force_pooling_type': 'max', 'force_use_batch_norm': True, 'acc_n_layers': 6, 'acc_kernel_size': 6, 'acc_stride': 2, 'acc_padding': 7, 'acc_hidden_channels': 248, 'acc_pooling_type': 'max', 'acc_use_batch_norm': True}. Best is trial 1 with value: 1.0.\n"
     ]
    },
    {
     "name": "stdout",
     "output_type": "stream",
     "text": [
      "Trial failed with error: max_pool1d() Invalid computed output size: 0\n"
     ]
    },
    {
     "name": "stderr",
     "output_type": "stream",
     "text": [
      "[I 2023-10-10 23:07:06,420] Trial 2 finished with value: 1.0 and parameters: {'lr': 0.00419165833370633, 'dropout_prob': 0.12709727303249374, 'force_n_layers': 4, 'force_kernel_size': 5, 'force_stride': 7, 'force_padding': 2, 'force_hidden_channels': 78, 'force_pooling_type': 'max', 'force_use_batch_norm': True, 'acc_n_layers': 7, 'acc_kernel_size': 3, 'acc_stride': 5, 'acc_padding': 5, 'acc_hidden_channels': 33, 'acc_pooling_type': 'max', 'acc_use_batch_norm': False}. Best is trial 1 with value: 1.0.\n"
     ]
    },
    {
     "name": "stdout",
     "output_type": "stream",
     "text": [
      "Trial failed with error: max_pool1d() Invalid computed output size: 0\n",
      "Epoch 10/50, Training Loss: 0.6311479091644288, Validation Loss: 0.6319608241319656\n",
      "Epoch 20/50, Training Loss: 0.6285011649131775, Validation Loss: 0.6279633641242981\n",
      "Epoch 30/50, Training Loss: 0.6289224465688069, Validation Loss: 0.6275212913751602\n",
      "Epoch 40/50, Training Loss: 0.6288082083066304, Validation Loss: 0.6241260766983032\n"
     ]
    },
    {
     "name": "stderr",
     "output_type": "stream",
     "text": [
      "[I 2023-10-10 23:08:06,177] Trial 3 finished with value: 0.6241025775671005 and parameters: {'lr': 0.0005714987790389473, 'dropout_prob': 0.49632685124494025, 'force_n_layers': 2, 'force_kernel_size': 4, 'force_stride': 5, 'force_padding': 2, 'force_hidden_channels': 68, 'force_pooling_type': 'max', 'force_use_batch_norm': False, 'acc_n_layers': 7, 'acc_kernel_size': 3, 'acc_stride': 5, 'acc_padding': 4, 'acc_hidden_channels': 239, 'acc_pooling_type': 'avg', 'acc_use_batch_norm': False}. Best is trial 3 with value: 0.6241025775671005.\n"
     ]
    },
    {
     "name": "stdout",
     "output_type": "stream",
     "text": [
      "Epoch 50/50, Training Loss: 0.6283893426259358, Validation Loss: 0.6241025775671005\n",
      "Epoch 10/50, Training Loss: 0.4571389615535736, Validation Loss: 0.4390862286090851\n",
      "Epoch 20/50, Training Loss: 0.3249866525332133, Validation Loss: 0.3904624730348587\n",
      "Epoch 30/50, Training Loss: 0.183113823334376, Validation Loss: 0.4169638976454735\n",
      "Epoch 40/50, Training Loss: 0.06400269741813341, Validation Loss: 0.7426369041204453\n"
     ]
    },
    {
     "name": "stderr",
     "output_type": "stream",
     "text": [
      "[I 2023-10-10 23:09:07,379] Trial 4 finished with value: 0.8640939444303513 and parameters: {'lr': 0.0010259858676289332, 'dropout_prob': 0.2169144632693607, 'force_n_layers': 4, 'force_kernel_size': 8, 'force_stride': 4, 'force_padding': 8, 'force_hidden_channels': 77, 'force_pooling_type': 'max', 'force_use_batch_norm': True, 'acc_n_layers': 6, 'acc_kernel_size': 6, 'acc_stride': 7, 'acc_padding': 10, 'acc_hidden_channels': 180, 'acc_pooling_type': 'avg', 'acc_use_batch_norm': True}. Best is trial 3 with value: 0.6241025775671005.\n"
     ]
    },
    {
     "name": "stdout",
     "output_type": "stream",
     "text": [
      "Epoch 50/50, Training Loss: 0.009862820462634167, Validation Loss: 0.8640939444303513\n",
      "Epoch 10/50, Training Loss: 0.21320627629756927, Validation Loss: 0.2815886437892914\n",
      "Epoch 20/50, Training Loss: 0.06979770039518675, Validation Loss: 0.34664568305015564\n",
      "Epoch 30/50, Training Loss: 0.04395068207134803, Validation Loss: 0.4995855689048767\n",
      "Epoch 40/50, Training Loss: 0.00020872135064564645, Validation Loss: 0.7865126132965088\n"
     ]
    },
    {
     "name": "stderr",
     "output_type": "stream",
     "text": [
      "[I 2023-10-10 23:09:36,803] Trial 5 finished with value: 0.8412970304489136 and parameters: {'lr': 0.008397139771591082, 'dropout_prob': 0.22254996403410982, 'force_n_layers': 1, 'force_kernel_size': 7, 'force_stride': 7, 'force_padding': 5, 'force_hidden_channels': 195, 'force_pooling_type': 'max', 'force_use_batch_norm': True, 'acc_n_layers': 4, 'acc_kernel_size': 6, 'acc_stride': 2, 'acc_padding': 6, 'acc_hidden_channels': 79, 'acc_pooling_type': 'avg', 'acc_use_batch_norm': True}. Best is trial 3 with value: 0.6241025775671005.\n"
     ]
    },
    {
     "name": "stdout",
     "output_type": "stream",
     "text": [
      "Epoch 50/50, Training Loss: 9.261774369709505e-05, Validation Loss: 0.8412970304489136\n"
     ]
    },
    {
     "name": "stderr",
     "output_type": "stream",
     "text": [
      "[I 2023-10-10 23:09:38,294] Trial 6 finished with value: 1.0 and parameters: {'lr': 2.173795941134654e-05, 'dropout_prob': 0.23373374770045496, 'force_n_layers': 5, 'force_kernel_size': 3, 'force_stride': 5, 'force_padding': 1, 'force_hidden_channels': 45, 'force_pooling_type': 'max', 'force_use_batch_norm': True, 'acc_n_layers': 3, 'acc_kernel_size': 6, 'acc_stride': 2, 'acc_padding': 8, 'acc_hidden_channels': 210, 'acc_pooling_type': 'avg', 'acc_use_batch_norm': True}. Best is trial 3 with value: 0.6241025775671005.\n"
     ]
    },
    {
     "name": "stdout",
     "output_type": "stream",
     "text": [
      "Trial failed with error: max_pool1d() Invalid computed output size: 0\n"
     ]
    },
    {
     "name": "stderr",
     "output_type": "stream",
     "text": [
      "[I 2023-10-10 23:09:39,611] Trial 7 finished with value: 1.0 and parameters: {'lr': 1.935830403433503e-05, 'dropout_prob': 0.032780955008510304, 'force_n_layers': 3, 'force_kernel_size': 4, 'force_stride': 7, 'force_padding': 2, 'force_hidden_channels': 19, 'force_pooling_type': 'avg', 'force_use_batch_norm': False, 'acc_n_layers': 4, 'acc_kernel_size': 5, 'acc_stride': 6, 'acc_padding': 1, 'acc_hidden_channels': 189, 'acc_pooling_type': 'max', 'acc_use_batch_norm': True}. Best is trial 3 with value: 0.6241025775671005.\n"
     ]
    },
    {
     "name": "stdout",
     "output_type": "stream",
     "text": [
      "Trial failed with error: Given input size: (19x1x1). Calculated output size: (19x1x0). Output size is too small\n",
      "Epoch 10/50, Training Loss: 0.649944027264913, Validation Loss: 0.6488016247749329\n",
      "Epoch 20/50, Training Loss: 0.6263450741767883, Validation Loss: 0.6250339150428772\n",
      "Epoch 30/50, Training Loss: 0.6167033712069193, Validation Loss: 0.6145474314689636\n",
      "Epoch 40/50, Training Loss: 0.6084294557571411, Validation Loss: 0.606797605752945\n"
     ]
    },
    {
     "name": "stderr",
     "output_type": "stream",
     "text": [
      "[I 2023-10-10 23:10:04,403] Trial 8 finished with value: 0.5967896431684494 and parameters: {'lr': 2.0101705913195742e-05, 'dropout_prob': 0.017408016284976235, 'force_n_layers': 2, 'force_kernel_size': 7, 'force_stride': 5, 'force_padding': 1, 'force_hidden_channels': 207, 'force_pooling_type': 'avg', 'force_use_batch_norm': False, 'acc_n_layers': 2, 'acc_kernel_size': 3, 'acc_stride': 7, 'acc_padding': 4, 'acc_hidden_channels': 245, 'acc_pooling_type': 'avg', 'acc_use_batch_norm': True}. Best is trial 8 with value: 0.5967896431684494.\n"
     ]
    },
    {
     "name": "stdout",
     "output_type": "stream",
     "text": [
      "Epoch 50/50, Training Loss: 0.5975184400876363, Validation Loss: 0.5967896431684494\n"
     ]
    },
    {
     "name": "stderr",
     "output_type": "stream",
     "text": [
      "[I 2023-10-10 23:10:05,677] Trial 9 finished with value: 1.0 and parameters: {'lr': 0.0095626072785087, 'dropout_prob': 0.3557194965025678, 'force_n_layers': 5, 'force_kernel_size': 6, 'force_stride': 6, 'force_padding': 4, 'force_hidden_channels': 37, 'force_pooling_type': 'max', 'force_use_batch_norm': False, 'acc_n_layers': 2, 'acc_kernel_size': 3, 'acc_stride': 7, 'acc_padding': 5, 'acc_hidden_channels': 200, 'acc_pooling_type': 'avg', 'acc_use_batch_norm': False}. Best is trial 8 with value: 0.5967896431684494.\n"
     ]
    },
    {
     "name": "stdout",
     "output_type": "stream",
     "text": [
      "Trial failed with error: max_pool1d() Invalid computed output size: 0\n",
      "Epoch 10/50, Training Loss: 0.6264387567838033, Validation Loss: 0.6239606738090515\n",
      "Epoch 20/50, Training Loss: 0.6250146349271138, Validation Loss: 0.6223655939102173\n",
      "Epoch 30/50, Training Loss: 0.6234662254651387, Validation Loss: 0.6216444671154022\n",
      "Epoch 40/50, Training Loss: 0.6215908726056417, Validation Loss: 0.619166374206543\n"
     ]
    },
    {
     "name": "stderr",
     "output_type": "stream",
     "text": [
      "[I 2023-10-10 23:11:58,799] Trial 10 finished with value: 0.6173829287290573 and parameters: {'lr': 9.359399837805781e-05, 'dropout_prob': 0.00955788510256883, 'force_n_layers': 7, 'force_kernel_size': 7, 'force_stride': 2, 'force_padding': 10, 'force_hidden_channels': 256, 'force_pooling_type': 'avg', 'force_use_batch_norm': False, 'acc_n_layers': 1, 'acc_kernel_size': 9, 'acc_stride': 4, 'acc_padding': 2, 'acc_hidden_channels': 133, 'acc_pooling_type': 'avg', 'acc_use_batch_norm': True}. Best is trial 8 with value: 0.5967896431684494.\n"
     ]
    },
    {
     "name": "stdout",
     "output_type": "stream",
     "text": [
      "Epoch 50/50, Training Loss: 0.6197927514712016, Validation Loss: 0.6173829287290573\n",
      "Epoch 10/50, Training Loss: 0.6266351819038392, Validation Loss: 0.6238698214292526\n",
      "Epoch 20/50, Training Loss: 0.6254826982816061, Validation Loss: 0.6223965585231781\n",
      "Epoch 30/50, Training Loss: 0.6246451576550801, Validation Loss: 0.6217080354690552\n",
      "Epoch 40/50, Training Loss: 0.6238311092058818, Validation Loss: 0.6209186464548111\n"
     ]
    },
    {
     "name": "stderr",
     "output_type": "stream",
     "text": [
      "[I 2023-10-10 23:14:21,484] Trial 11 finished with value: 0.6201526075601578 and parameters: {'lr': 7.103857177500604e-05, 'dropout_prob': 0.004153043959731642, 'force_n_layers': 7, 'force_kernel_size': 7, 'force_stride': 1, 'force_padding': 10, 'force_hidden_channels': 251, 'force_pooling_type': 'avg', 'force_use_batch_norm': False, 'acc_n_layers': 1, 'acc_kernel_size': 9, 'acc_stride': 4, 'acc_padding': 2, 'acc_hidden_channels': 127, 'acc_pooling_type': 'avg', 'acc_use_batch_norm': True}. Best is trial 8 with value: 0.5967896431684494.\n"
     ]
    },
    {
     "name": "stdout",
     "output_type": "stream",
     "text": [
      "Epoch 50/50, Training Loss: 0.6219047506650289, Validation Loss: 0.6201526075601578\n",
      "Epoch 10/50, Training Loss: 0.6297076145807902, Validation Loss: 0.6254381537437439\n",
      "Epoch 20/50, Training Loss: 0.6259770870208741, Validation Loss: 0.6238486617803574\n",
      "Epoch 30/50, Training Loss: 0.624082605044047, Validation Loss: 0.6216116398572922\n",
      "Epoch 40/50, Training Loss: 0.6231439510981241, Validation Loss: 0.6203342229127884\n"
     ]
    },
    {
     "name": "stderr",
     "output_type": "stream",
     "text": [
      "[I 2023-10-10 23:16:14,988] Trial 12 finished with value: 0.6184516847133636 and parameters: {'lr': 7.804658072710286e-05, 'dropout_prob': 0.07446483300892598, 'force_n_layers': 7, 'force_kernel_size': 7, 'force_stride': 2, 'force_padding': 7, 'force_hidden_channels': 254, 'force_pooling_type': 'avg', 'force_use_batch_norm': False, 'acc_n_layers': 1, 'acc_kernel_size': 8, 'acc_stride': 4, 'acc_padding': 3, 'acc_hidden_channels': 136, 'acc_pooling_type': 'avg', 'acc_use_batch_norm': True}. Best is trial 8 with value: 0.5967896431684494.\n"
     ]
    },
    {
     "name": "stdout",
     "output_type": "stream",
     "text": [
      "Epoch 50/50, Training Loss: 0.6216411312421163, Validation Loss: 0.6184516847133636\n",
      "Epoch 10/50, Training Loss: 0.6708817680676779, Validation Loss: 0.6711895614862442\n",
      "Epoch 20/50, Training Loss: 0.6315582315127055, Validation Loss: 0.6363753974437714\n",
      "Epoch 30/50, Training Loss: 0.6291966517766316, Validation Loss: 0.6281912177801132\n",
      "Epoch 40/50, Training Loss: 0.627663238843282, Validation Loss: 0.6253697723150253\n"
     ]
    },
    {
     "name": "stderr",
     "output_type": "stream",
     "text": [
      "[I 2023-10-10 23:17:00,067] Trial 13 finished with value: 0.6224785298109055 and parameters: {'lr': 1.0759244710972609e-05, 'dropout_prob': 0.08569629147266536, 'force_n_layers': 3, 'force_kernel_size': 9, 'force_stride': 3, 'force_padding': 10, 'force_hidden_channels': 200, 'force_pooling_type': 'avg', 'force_use_batch_norm': False, 'acc_n_layers': 2, 'acc_kernel_size': 4, 'acc_stride': 3, 'acc_padding': 3, 'acc_hidden_channels': 102, 'acc_pooling_type': 'avg', 'acc_use_batch_norm': True}. Best is trial 8 with value: 0.5967896431684494.\n"
     ]
    },
    {
     "name": "stdout",
     "output_type": "stream",
     "text": [
      "Epoch 50/50, Training Loss: 0.6266752203305562, Validation Loss: 0.6224785298109055\n",
      "Epoch 10/50, Training Loss: 0.591093901793162, Validation Loss: 0.586007609963417\n",
      "Epoch 20/50, Training Loss: 0.5032491683959961, Validation Loss: 0.5043633207678795\n",
      "Epoch 30/50, Training Loss: 0.4560404777526855, Validation Loss: 0.45861273258924484\n",
      "Epoch 40/50, Training Loss: 0.4298710326353709, Validation Loss: 0.4316827654838562\n"
     ]
    },
    {
     "name": "stderr",
     "output_type": "stream",
     "text": [
      "[I 2023-10-10 23:17:38,286] Trial 14 finished with value: 0.4109392985701561 and parameters: {'lr': 0.00011962260054448549, 'dropout_prob': 0.002053458898058684, 'force_n_layers': 6, 'force_kernel_size': 8, 'force_stride': 3, 'force_padding': 6, 'force_hidden_channels': 218, 'force_pooling_type': 'avg', 'force_use_batch_norm': False, 'acc_n_layers': 2, 'acc_kernel_size': 8, 'acc_stride': 5, 'acc_padding': 1, 'acc_hidden_channels': 160, 'acc_pooling_type': 'avg', 'acc_use_batch_norm': True}. Best is trial 14 with value: 0.4109392985701561.\n"
     ]
    },
    {
     "name": "stdout",
     "output_type": "stream",
     "text": [
      "Epoch 50/50, Training Loss: 0.4083264688650767, Validation Loss: 0.4109392985701561\n"
     ]
    },
    {
     "name": "stderr",
     "output_type": "stream",
     "text": [
      "[I 2023-10-10 23:17:39,767] Trial 15 finished with value: 1.0 and parameters: {'lr': 0.00017837415506662005, 'dropout_prob': 0.08115517445128446, 'force_n_layers': 6, 'force_kernel_size': 8, 'force_stride': 3, 'force_padding': 6, 'force_hidden_channels': 153, 'force_pooling_type': 'avg', 'force_use_batch_norm': False, 'acc_n_layers': 3, 'acc_kernel_size': 8, 'acc_stride': 6, 'acc_padding': 1, 'acc_hidden_channels': 165, 'acc_pooling_type': 'avg', 'acc_use_batch_norm': True}. Best is trial 14 with value: 0.4109392985701561.\n"
     ]
    },
    {
     "name": "stdout",
     "output_type": "stream",
     "text": [
      "Trial failed with error: Given input size: (165x1x1). Calculated output size: (165x1x0). Output size is too small\n",
      "Epoch 10/50, Training Loss: 0.6320653120676677, Validation Loss: 0.6276054382324219\n",
      "Epoch 20/50, Training Loss: 0.6284677584966024, Validation Loss: 0.6253058016300201\n",
      "Epoch 30/50, Training Loss: 0.6232279856999715, Validation Loss: 0.6207144856452942\n",
      "Epoch 40/50, Training Loss: 0.6153295993804931, Validation Loss: 0.6122784912586212\n"
     ]
    },
    {
     "name": "stderr",
     "output_type": "stream",
     "text": [
      "[I 2023-10-10 23:17:54,294] Trial 16 finished with value: 0.6015467941761017 and parameters: {'lr': 3.805673060316649e-05, 'dropout_prob': 0.13254611479892364, 'force_n_layers': 2, 'force_kernel_size': 8, 'force_stride': 4, 'force_padding': 4, 'force_hidden_channels': 216, 'force_pooling_type': 'avg', 'force_use_batch_norm': False, 'acc_n_layers': 2, 'acc_kernel_size': 7, 'acc_stride': 6, 'acc_padding': 4, 'acc_hidden_channels': 58, 'acc_pooling_type': 'avg', 'acc_use_batch_norm': True}. Best is trial 14 with value: 0.4109392985701561.\n"
     ]
    },
    {
     "name": "stdout",
     "output_type": "stream",
     "text": [
      "Epoch 50/50, Training Loss: 0.6038301984469095, Validation Loss: 0.6015467941761017\n",
      "Epoch 10/50, Training Loss: 0.6293492078781128, Validation Loss: 0.6295502632856369\n",
      "Epoch 20/50, Training Loss: 0.6269327203432719, Validation Loss: 0.6254367083311081\n",
      "Epoch 30/50, Training Loss: 0.46120060086250303, Validation Loss: 0.45852048695087433\n",
      "Epoch 40/50, Training Loss: 0.43350637356440225, Validation Loss: 0.43977174907922745\n"
     ]
    },
    {
     "name": "stderr",
     "output_type": "stream",
     "text": [
      "[I 2023-10-10 23:19:03,568] Trial 17 finished with value: 0.4083491191267967 and parameters: {'lr': 0.00020662057339884297, 'dropout_prob': 0.04795524006121311, 'force_n_layers': 6, 'force_kernel_size': 6, 'force_stride': 3, 'force_padding': 6, 'force_hidden_channels': 151, 'force_pooling_type': 'avg', 'force_use_batch_norm': False, 'acc_n_layers': 5, 'acc_kernel_size': 5, 'acc_stride': 5, 'acc_padding': 8, 'acc_hidden_channels': 164, 'acc_pooling_type': 'avg', 'acc_use_batch_norm': True}. Best is trial 17 with value: 0.4083491191267967.\n"
     ]
    },
    {
     "name": "stdout",
     "output_type": "stream",
     "text": [
      "Epoch 50/50, Training Loss: 0.4102270265420278, Validation Loss: 0.4083491191267967\n",
      "Epoch 10/50, Training Loss: 0.4619340737660726, Validation Loss: 0.4666100814938545\n",
      "Epoch 20/50, Training Loss: 0.4210316518942515, Validation Loss: 0.4102458730340004\n",
      "Epoch 30/50, Training Loss: 0.3864279051621755, Validation Loss: 0.40402916073799133\n",
      "Epoch 40/50, Training Loss: 0.36380618015925087, Validation Loss: 0.3762880116701126\n"
     ]
    },
    {
     "name": "stderr",
     "output_type": "stream",
     "text": [
      "[I 2023-10-10 23:20:10,047] Trial 18 finished with value: 0.3849896490573883 and parameters: {'lr': 0.0002861278019079219, 'dropout_prob': 0.29619270132288983, 'force_n_layers': 6, 'force_kernel_size': 6, 'force_stride': 3, 'force_padding': 6, 'force_hidden_channels': 128, 'force_pooling_type': 'avg', 'force_use_batch_norm': False, 'acc_n_layers': 5, 'acc_kernel_size': 7, 'acc_stride': 5, 'acc_padding': 9, 'acc_hidden_channels': 161, 'acc_pooling_type': 'max', 'acc_use_batch_norm': False}. Best is trial 18 with value: 0.3849896490573883.\n"
     ]
    },
    {
     "name": "stdout",
     "output_type": "stream",
     "text": [
      "Epoch 50/50, Training Loss: 0.352551676829656, Validation Loss: 0.3849896490573883\n",
      "Epoch 10/50, Training Loss: 0.40953842401504514, Validation Loss: 0.42615971714258194\n",
      "Epoch 20/50, Training Loss: 0.3220558663209279, Validation Loss: 0.34829654544591904\n",
      "Epoch 30/50, Training Loss: 0.280121722817421, Validation Loss: 0.3192654699087143\n",
      "Epoch 40/50, Training Loss: 0.25371161103248596, Validation Loss: 0.31262046098709106\n"
     ]
    },
    {
     "name": "stderr",
     "output_type": "stream",
     "text": [
      "[I 2023-10-10 23:20:57,133] Trial 19 finished with value: 0.32423993945121765 and parameters: {'lr': 0.00039379879751708964, 'dropout_prob': 0.2878643210023214, 'force_n_layers': 6, 'force_kernel_size': 6, 'force_stride': 2, 'force_padding': 8, 'force_hidden_channels': 120, 'force_pooling_type': 'avg', 'force_use_batch_norm': False, 'acc_n_layers': 5, 'acc_kernel_size': 5, 'acc_stride': 3, 'acc_padding': 10, 'acc_hidden_channels': 106, 'acc_pooling_type': 'max', 'acc_use_batch_norm': False}. Best is trial 19 with value: 0.32423993945121765.\n"
     ]
    },
    {
     "name": "stdout",
     "output_type": "stream",
     "text": [
      "Epoch 50/50, Training Loss: 0.23831811149915058, Validation Loss: 0.32423993945121765\n",
      "Epoch 10/50, Training Loss: 0.4317100743452708, Validation Loss: 0.41934796422719955\n",
      "Epoch 20/50, Training Loss: 0.36702314813931786, Validation Loss: 0.37744341790676117\n",
      "Epoch 30/50, Training Loss: 0.3045875211556753, Validation Loss: 0.3345474600791931\n",
      "Epoch 40/50, Training Loss: 0.2895588835080465, Validation Loss: 0.29920854046940804\n"
     ]
    },
    {
     "name": "stderr",
     "output_type": "stream",
     "text": [
      "[I 2023-10-10 23:21:36,833] Trial 20 finished with value: 0.3037608563899994 and parameters: {'lr': 0.00038811838744698244, 'dropout_prob': 0.2882830558028888, 'force_n_layers': 6, 'force_kernel_size': 5, 'force_stride': 1, 'force_padding': 8, 'force_hidden_channels': 110, 'force_pooling_type': 'avg', 'force_use_batch_norm': False, 'acc_n_layers': 5, 'acc_kernel_size': 5, 'acc_stride': 3, 'acc_padding': 10, 'acc_hidden_channels': 98, 'acc_pooling_type': 'max', 'acc_use_batch_norm': False}. Best is trial 20 with value: 0.3037608563899994.\n"
     ]
    },
    {
     "name": "stdout",
     "output_type": "stream",
     "text": [
      "Epoch 50/50, Training Loss: 0.2637562721967697, Validation Loss: 0.3037608563899994\n",
      "Epoch 10/50, Training Loss: 0.42082812388737995, Validation Loss: 0.4122096076607704\n",
      "Epoch 20/50, Training Loss: 0.33529443939526876, Validation Loss: 0.334195114672184\n",
      "Epoch 30/50, Training Loss: 0.2981605072816213, Validation Loss: 0.30788806453347206\n",
      "Epoch 40/50, Training Loss: 0.2802133580048879, Validation Loss: 0.3145694360136986\n"
     ]
    },
    {
     "name": "stderr",
     "output_type": "stream",
     "text": [
      "[I 2023-10-10 23:22:23,574] Trial 21 finished with value: 0.2936726361513138 and parameters: {'lr': 0.0004015530216201154, 'dropout_prob': 0.29718576347969444, 'force_n_layers': 6, 'force_kernel_size': 5, 'force_stride': 1, 'force_padding': 8, 'force_hidden_channels': 108, 'force_pooling_type': 'avg', 'force_use_batch_norm': False, 'acc_n_layers': 5, 'acc_kernel_size': 5, 'acc_stride': 3, 'acc_padding': 10, 'acc_hidden_channels': 98, 'acc_pooling_type': 'max', 'acc_use_batch_norm': False}. Best is trial 21 with value: 0.2936726361513138.\n"
     ]
    },
    {
     "name": "stdout",
     "output_type": "stream",
     "text": [
      "Epoch 50/50, Training Loss: 0.2601241399844488, Validation Loss: 0.2936726361513138\n",
      "Epoch 10/50, Training Loss: 0.4019951860109965, Validation Loss: 0.3994695916771889\n",
      "Epoch 20/50, Training Loss: 0.310799652338028, Validation Loss: 0.3309778720140457\n",
      "Epoch 30/50, Training Loss: 0.2788701742887497, Validation Loss: 0.3201308436691761\n",
      "Epoch 40/50, Training Loss: 0.2714663654565811, Validation Loss: 0.2952423579990864\n"
     ]
    },
    {
     "name": "stderr",
     "output_type": "stream",
     "text": [
      "[I 2023-10-10 23:23:03,507] Trial 22 finished with value: 0.3012915626168251 and parameters: {'lr': 0.0005683825012012051, 'dropout_prob': 0.2975137128874178, 'force_n_layers': 5, 'force_kernel_size': 5, 'force_stride': 1, 'force_padding': 8, 'force_hidden_channels': 107, 'force_pooling_type': 'avg', 'force_use_batch_norm': False, 'acc_n_layers': 5, 'acc_kernel_size': 5, 'acc_stride': 3, 'acc_padding': 10, 'acc_hidden_channels': 89, 'acc_pooling_type': 'max', 'acc_use_batch_norm': False}. Best is trial 21 with value: 0.2936726361513138.\n"
     ]
    },
    {
     "name": "stdout",
     "output_type": "stream",
     "text": [
      "Epoch 50/50, Training Loss: 0.2399099518855413, Validation Loss: 0.3012915626168251\n",
      "Epoch 10/50, Training Loss: 0.42820380528767904, Validation Loss: 0.4340980798006058\n",
      "Epoch 20/50, Training Loss: 0.3246024151643117, Validation Loss: 0.3281974568963051\n",
      "Epoch 30/50, Training Loss: 0.28279119233290356, Validation Loss: 0.30271274968981743\n",
      "Epoch 40/50, Training Loss: 0.26102672616640726, Validation Loss: 0.32975100353360176\n"
     ]
    },
    {
     "name": "stderr",
     "output_type": "stream",
     "text": [
      "[I 2023-10-10 23:23:40,109] Trial 23 finished with value: 0.32419852167367935 and parameters: {'lr': 0.0008382688134298063, 'dropout_prob': 0.33699804076389506, 'force_n_layers': 5, 'force_kernel_size': 5, 'force_stride': 1, 'force_padding': 9, 'force_hidden_channels': 104, 'force_pooling_type': 'avg', 'force_use_batch_norm': False, 'acc_n_layers': 6, 'acc_kernel_size': 4, 'acc_stride': 3, 'acc_padding': 9, 'acc_hidden_channels': 74, 'acc_pooling_type': 'max', 'acc_use_batch_norm': False}. Best is trial 21 with value: 0.2936726361513138.\n"
     ]
    },
    {
     "name": "stdout",
     "output_type": "stream",
     "text": [
      "Epoch 50/50, Training Loss: 0.2292797972758611, Validation Loss: 0.32419852167367935\n",
      "Epoch 10/50, Training Loss: 0.4829321543375651, Validation Loss: 0.47912465035915375\n",
      "Epoch 20/50, Training Loss: 0.41218275427818296, Validation Loss: 0.4078870639204979\n",
      "Epoch 30/50, Training Loss: 0.3722845355669657, Validation Loss: 0.3711460307240486\n",
      "Epoch 40/50, Training Loss: 0.3326640526453654, Validation Loss: 0.33797379583120346\n"
     ]
    },
    {
     "name": "stderr",
     "output_type": "stream",
     "text": [
      "[I 2023-10-10 23:24:09,107] Trial 24 finished with value: 0.3251498229801655 and parameters: {'lr': 0.0009601649868827057, 'dropout_prob': 0.2657966166455434, 'force_n_layers': 5, 'force_kernel_size': 4, 'force_stride': 1, 'force_padding': 9, 'force_hidden_channels': 103, 'force_pooling_type': 'avg', 'force_use_batch_norm': False, 'acc_n_layers': 5, 'acc_kernel_size': 4, 'acc_stride': 3, 'acc_padding': 9, 'acc_hidden_channels': 19, 'acc_pooling_type': 'max', 'acc_use_batch_norm': False}. Best is trial 21 with value: 0.2936726361513138.\n"
     ]
    },
    {
     "name": "stdout",
     "output_type": "stream",
     "text": [
      "Epoch 50/50, Training Loss: 0.30475490490595497, Validation Loss: 0.3251498229801655\n",
      "Epoch 10/50, Training Loss: 0.31613598664601644, Validation Loss: 0.33029673993587494\n",
      "Epoch 20/50, Training Loss: 0.2354313681523005, Validation Loss: 0.30849427357316017\n",
      "Epoch 30/50, Training Loss: 0.20047914187113444, Validation Loss: 0.2953902557492256\n",
      "Epoch 40/50, Training Loss: 0.1613136813044548, Validation Loss: 0.31824882328510284\n"
     ]
    },
    {
     "name": "stderr",
     "output_type": "stream",
     "text": [
      "[I 2023-10-10 23:26:33,398] Trial 25 finished with value: 0.33949919044971466 and parameters: {'lr': 0.001733897757069964, 'dropout_prob': 0.33536350088240896, 'force_n_layers': 7, 'force_kernel_size': 5, 'force_stride': 1, 'force_padding': 7, 'force_hidden_channels': 167, 'force_pooling_type': 'avg', 'force_use_batch_norm': False, 'acc_n_layers': 4, 'acc_kernel_size': 5, 'acc_stride': 1, 'acc_padding': 10, 'acc_hidden_channels': 104, 'acc_pooling_type': 'max', 'acc_use_batch_norm': False}. Best is trial 21 with value: 0.2936726361513138.\n"
     ]
    },
    {
     "name": "stdout",
     "output_type": "stream",
     "text": [
      "Epoch 50/50, Training Loss: 0.13152880767981212, Validation Loss: 0.33949919044971466\n",
      "Epoch 10/50, Training Loss: 0.46169922947883607, Validation Loss: 0.4493769630789757\n",
      "Epoch 20/50, Training Loss: 0.3709392428398132, Validation Loss: 0.35046932101249695\n",
      "Epoch 30/50, Training Loss: 0.31985245943069457, Validation Loss: 0.31097523123025894\n",
      "Epoch 40/50, Training Loss: 0.29533978501955666, Validation Loss: 0.29172464460134506\n"
     ]
    },
    {
     "name": "stderr",
     "output_type": "stream",
     "text": [
      "[I 2023-10-10 23:26:57,732] Trial 26 finished with value: 0.29319746419787407 and parameters: {'lr': 0.000436177432052485, 'dropout_prob': 0.38455687332058625, 'force_n_layers': 4, 'force_kernel_size': 3, 'force_stride': 2, 'force_padding': 9, 'force_hidden_channels': 100, 'force_pooling_type': 'avg', 'force_use_batch_norm': True, 'acc_n_layers': 6, 'acc_kernel_size': 4, 'acc_stride': 2, 'acc_padding': 8, 'acc_hidden_channels': 51, 'acc_pooling_type': 'max', 'acc_use_batch_norm': False}. Best is trial 26 with value: 0.29319746419787407.\n"
     ]
    },
    {
     "name": "stdout",
     "output_type": "stream",
     "text": [
      "Epoch 50/50, Training Loss: 0.2811618725458781, Validation Loss: 0.29319746419787407\n",
      "Epoch 10/50, Training Loss: 0.31774259408315025, Validation Loss: 0.3035584017634392\n",
      "Epoch 20/50, Training Loss: 0.2535382926464081, Validation Loss: 0.27701399847865105\n",
      "Epoch 30/50, Training Loss: 0.21064599653085073, Validation Loss: 0.31861287355422974\n",
      "Epoch 40/50, Training Loss: 0.17415887614091238, Validation Loss: 0.35143423080444336\n"
     ]
    },
    {
     "name": "stderr",
     "output_type": "stream",
     "text": [
      "[I 2023-10-10 23:27:21,593] Trial 27 finished with value: 0.42518743872642517 and parameters: {'lr': 0.0019908163243155283, 'dropout_prob': 0.3847411261061606, 'force_n_layers': 4, 'force_kernel_size': 3, 'force_stride': 2, 'force_padding': 9, 'force_hidden_channels': 90, 'force_pooling_type': 'avg', 'force_use_batch_norm': True, 'acc_n_layers': 6, 'acc_kernel_size': 4, 'acc_stride': 2, 'acc_padding': 8, 'acc_hidden_channels': 51, 'acc_pooling_type': 'max', 'acc_use_batch_norm': False}. Best is trial 26 with value: 0.29319746419787407.\n"
     ]
    },
    {
     "name": "stdout",
     "output_type": "stream",
     "text": [
      "Epoch 50/50, Training Loss: 0.12324812163909277, Validation Loss: 0.42518743872642517\n",
      "Epoch 10/50, Training Loss: 0.39592485030492147, Validation Loss: 0.3797522261738777\n",
      "Epoch 20/50, Training Loss: 0.2972200175126394, Validation Loss: 0.35050325840711594\n",
      "Epoch 30/50, Training Loss: 0.26051005323727927, Validation Loss: 0.3488883450627327\n",
      "Epoch 40/50, Training Loss: 0.22878542443116506, Validation Loss: 0.2887593060731888\n"
     ]
    },
    {
     "name": "stderr",
     "output_type": "stream",
     "text": [
      "[I 2023-10-10 23:28:24,295] Trial 28 finished with value: 0.2938639111816883 and parameters: {'lr': 0.000526023923672955, 'dropout_prob': 0.3956070825726051, 'force_n_layers': 4, 'force_kernel_size': 3, 'force_stride': 2, 'force_padding': 7, 'force_hidden_channels': 60, 'force_pooling_type': 'avg', 'force_use_batch_norm': True, 'acc_n_layers': 7, 'acc_kernel_size': 4, 'acc_stride': 1, 'acc_padding': 7, 'acc_hidden_channels': 74, 'acc_pooling_type': 'max', 'acc_use_batch_norm': False}. Best is trial 26 with value: 0.29319746419787407.\n"
     ]
    },
    {
     "name": "stdout",
     "output_type": "stream",
     "text": [
      "Epoch 50/50, Training Loss: 0.20620813965797424, Validation Loss: 0.2938639111816883\n",
      "Epoch 10/50, Training Loss: 0.43221888939539593, Validation Loss: 0.4225507974624634\n",
      "Epoch 20/50, Training Loss: 0.35230001211166384, Validation Loss: 0.3479762002825737\n",
      "Epoch 30/50, Training Loss: 0.3164918859799703, Validation Loss: 0.33945465087890625\n",
      "Epoch 40/50, Training Loss: 0.27983173032601677, Validation Loss: 0.3045334815979004\n"
     ]
    },
    {
     "name": "stderr",
     "output_type": "stream",
     "text": [
      "[I 2023-10-10 23:29:10,707] Trial 29 finished with value: 0.31057313829660416 and parameters: {'lr': 0.00020989093417681496, 'dropout_prob': 0.4217494801391655, 'force_n_layers': 3, 'force_kernel_size': 3, 'force_stride': 2, 'force_padding': 7, 'force_hidden_channels': 63, 'force_pooling_type': 'avg', 'force_use_batch_norm': True, 'acc_n_layers': 7, 'acc_kernel_size': 4, 'acc_stride': 1, 'acc_padding': 7, 'acc_hidden_channels': 57, 'acc_pooling_type': 'max', 'acc_use_batch_norm': False}. Best is trial 26 with value: 0.29319746419787407.\n"
     ]
    },
    {
     "name": "stdout",
     "output_type": "stream",
     "text": [
      "Epoch 50/50, Training Loss: 0.2610005031029383, Validation Loss: 0.31057313829660416\n",
      "Epoch 10/50, Training Loss: 0.429951290289561, Validation Loss: 0.4256211072206497\n",
      "Epoch 20/50, Training Loss: 0.3193363517522812, Validation Loss: 0.3134375736117363\n",
      "Epoch 30/50, Training Loss: 0.29700524111588794, Validation Loss: 0.29748886823654175\n",
      "Epoch 40/50, Training Loss: 0.27410171926021576, Validation Loss: 0.29707109928131104\n"
     ]
    },
    {
     "name": "stderr",
     "output_type": "stream",
     "text": [
      "[I 2023-10-10 23:29:45,894] Trial 30 finished with value: 0.3016404062509537 and parameters: {'lr': 0.0003364422339337696, 'dropout_prob': 0.40861950573914174, 'force_n_layers': 3, 'force_kernel_size': 4, 'force_stride': 2, 'force_padding': 9, 'force_hidden_channels': 46, 'force_pooling_type': 'avg', 'force_use_batch_norm': True, 'acc_n_layers': 7, 'acc_kernel_size': 4, 'acc_stride': 1, 'acc_padding': 7, 'acc_hidden_channels': 39, 'acc_pooling_type': 'max', 'acc_use_batch_norm': False}. Best is trial 26 with value: 0.29319746419787407.\n"
     ]
    },
    {
     "name": "stdout",
     "output_type": "stream",
     "text": [
      "Epoch 50/50, Training Loss: 0.26918247242768606, Validation Loss: 0.3016404062509537\n",
      "Epoch 10/50, Training Loss: 0.363264807065328, Validation Loss: 0.32712069898843765\n",
      "Epoch 20/50, Training Loss: 0.2811689078807831, Validation Loss: 0.273775365203619\n",
      "Epoch 30/50, Training Loss: 0.24980287551879882, Validation Loss: 0.2594088017940521\n",
      "Epoch 40/50, Training Loss: 0.23002981543540954, Validation Loss: 0.2803979925811291\n"
     ]
    },
    {
     "name": "stderr",
     "output_type": "stream",
     "text": [
      "[I 2023-10-10 23:30:19,399] Trial 31 finished with value: 0.2728074714541435 and parameters: {'lr': 0.0006257544252900912, 'dropout_prob': 0.4465214049463666, 'force_n_layers': 4, 'force_kernel_size': 3, 'force_stride': 1, 'force_padding': 8, 'force_hidden_channels': 91, 'force_pooling_type': 'avg', 'force_use_batch_norm': True, 'acc_n_layers': 6, 'acc_kernel_size': 5, 'acc_stride': 2, 'acc_padding': 9, 'acc_hidden_channels': 76, 'acc_pooling_type': 'max', 'acc_use_batch_norm': False}. Best is trial 31 with value: 0.2728074714541435.\n"
     ]
    },
    {
     "name": "stdout",
     "output_type": "stream",
     "text": [
      "Epoch 50/50, Training Loss: 0.20220593214035035, Validation Loss: 0.2728074714541435\n",
      "Epoch 10/50, Training Loss: 0.38878448605537413, Validation Loss: 0.3500455319881439\n",
      "Epoch 20/50, Training Loss: 0.3029330929120382, Validation Loss: 0.3135327324271202\n",
      "Epoch 30/50, Training Loss: 0.2752619653940201, Validation Loss: 0.2629476748406887\n",
      "Epoch 40/50, Training Loss: 0.2558328847090403, Validation Loss: 0.27424563094973564\n"
     ]
    },
    {
     "name": "stderr",
     "output_type": "stream",
     "text": [
      "[I 2023-10-10 23:30:50,329] Trial 32 finished with value: 0.2977816313505173 and parameters: {'lr': 0.0005916493093619812, 'dropout_prob': 0.44726613270096255, 'force_n_layers': 4, 'force_kernel_size': 3, 'force_stride': 1, 'force_padding': 7, 'force_hidden_channels': 95, 'force_pooling_type': 'avg', 'force_use_batch_norm': True, 'acc_n_layers': 6, 'acc_kernel_size': 4, 'acc_stride': 2, 'acc_padding': 7, 'acc_hidden_channels': 66, 'acc_pooling_type': 'max', 'acc_use_batch_norm': False}. Best is trial 31 with value: 0.2728074714541435.\n"
     ]
    },
    {
     "name": "stdout",
     "output_type": "stream",
     "text": [
      "Epoch 50/50, Training Loss: 0.2263665517171224, Validation Loss: 0.2977816313505173\n",
      "Epoch 10/50, Training Loss: 0.297118204832077, Validation Loss: 0.29227904230356216\n",
      "Epoch 20/50, Training Loss: 0.18538369735081991, Validation Loss: 0.32373980805277824\n",
      "Epoch 30/50, Training Loss: 0.13316247860590616, Validation Loss: 0.3542495518922806\n",
      "Epoch 40/50, Training Loss: 0.15054983546336492, Validation Loss: 0.428080216050148\n"
     ]
    },
    {
     "name": "stderr",
     "output_type": "stream",
     "text": [
      "[I 2023-10-10 23:33:05,927] Trial 33 finished with value: 0.6314975023269653 and parameters: {'lr': 0.0014492862874717401, 'dropout_prob': 0.4484593118417843, 'force_n_layers': 4, 'force_kernel_size': 3, 'force_stride': 2, 'force_padding': 9, 'force_hidden_channels': 84, 'force_pooling_type': 'avg', 'force_use_batch_norm': True, 'acc_n_layers': 6, 'acc_kernel_size': 5, 'acc_stride': 1, 'acc_padding': 8, 'acc_hidden_channels': 118, 'acc_pooling_type': 'max', 'acc_use_batch_norm': False}. Best is trial 31 with value: 0.2728074714541435.\n"
     ]
    },
    {
     "name": "stdout",
     "output_type": "stream",
     "text": [
      "Epoch 50/50, Training Loss: 0.028323043634494147, Validation Loss: 0.6314975023269653\n",
      "Epoch 10/50, Training Loss: 0.4550447821617126, Validation Loss: 0.4418687969446182\n",
      "Epoch 20/50, Training Loss: 0.39950445493062336, Validation Loss: 0.3912338837981224\n",
      "Epoch 30/50, Training Loss: 0.35376031597455343, Validation Loss: 0.33302225172519684\n",
      "Epoch 40/50, Training Loss: 0.3109536439180374, Validation Loss: 0.3399879261851311\n"
     ]
    },
    {
     "name": "stderr",
     "output_type": "stream",
     "text": [
      "[I 2023-10-10 23:33:33,659] Trial 34 finished with value: 0.31551288068294525 and parameters: {'lr': 0.0005223843877870417, 'dropout_prob': 0.3807436344666914, 'force_n_layers': 4, 'force_kernel_size': 4, 'force_stride': 1, 'force_padding': 8, 'force_hidden_channels': 62, 'force_pooling_type': 'avg', 'force_use_batch_norm': True, 'acc_n_layers': 7, 'acc_kernel_size': 3, 'acc_stride': 2, 'acc_padding': 9, 'acc_hidden_channels': 39, 'acc_pooling_type': 'max', 'acc_use_batch_norm': False}. Best is trial 31 with value: 0.2728074714541435.\n"
     ]
    },
    {
     "name": "stdout",
     "output_type": "stream",
     "text": [
      "Epoch 50/50, Training Loss: 0.2988517045974731, Validation Loss: 0.31551288068294525\n",
      "Epoch 10/50, Training Loss: 0.29327449897925056, Validation Loss: 0.32677507773041725\n",
      "Epoch 20/50, Training Loss: 0.23738023738066355, Validation Loss: 0.3381224572658539\n",
      "Epoch 30/50, Training Loss: 0.1035631666580836, Validation Loss: 0.3880290202796459\n",
      "Epoch 40/50, Training Loss: 0.058630658934513726, Validation Loss: 0.6949001997709274\n"
     ]
    },
    {
     "name": "stderr",
     "output_type": "stream",
     "text": [
      "[I 2023-10-10 23:34:18,671] Trial 35 finished with value: 0.8188525438308716 and parameters: {'lr': 0.003287353414304974, 'dropout_prob': 0.4818051213834478, 'force_n_layers': 4, 'force_kernel_size': 4, 'force_stride': 2, 'force_padding': 7, 'force_hidden_channels': 121, 'force_pooling_type': 'max', 'force_use_batch_norm': True, 'acc_n_layers': 7, 'acc_kernel_size': 6, 'acc_stride': 2, 'acc_padding': 6, 'acc_hidden_channels': 81, 'acc_pooling_type': 'max', 'acc_use_batch_norm': False}. Best is trial 31 with value: 0.2728074714541435.\n"
     ]
    },
    {
     "name": "stdout",
     "output_type": "stream",
     "text": [
      "Epoch 50/50, Training Loss: 0.013173606029401224, Validation Loss: 0.8188525438308716\n",
      "Epoch 10/50, Training Loss: 0.41643114884694415, Validation Loss: 0.40667200833559036\n",
      "Epoch 20/50, Training Loss: 0.31075488130251566, Validation Loss: 0.3314449265599251\n",
      "Epoch 30/50, Training Loss: 0.2785622517267863, Validation Loss: 0.30224934220314026\n",
      "Epoch 40/50, Training Loss: 0.2618791162967682, Validation Loss: 0.2899404764175415\n"
     ]
    },
    {
     "name": "stderr",
     "output_type": "stream",
     "text": [
      "[I 2023-10-10 23:34:40,826] Trial 36 finished with value: 0.28197677433490753 and parameters: {'lr': 0.000659170298658055, 'dropout_prob': 0.39982528422378016, 'force_n_layers': 3, 'force_kernel_size': 3, 'force_stride': 4, 'force_padding': 5, 'force_hidden_channels': 70, 'force_pooling_type': 'avg', 'force_use_batch_norm': True, 'acc_n_layers': 6, 'acc_kernel_size': 7, 'acc_stride': 1, 'acc_padding': 7, 'acc_hidden_channels': 17, 'acc_pooling_type': 'max', 'acc_use_batch_norm': False}. Best is trial 31 with value: 0.2728074714541435.\n"
     ]
    },
    {
     "name": "stdout",
     "output_type": "stream",
     "text": [
      "Epoch 50/50, Training Loss: 0.24907133877277374, Validation Loss: 0.28197677433490753\n",
      "Epoch 10/50, Training Loss: 0.40334692200024924, Validation Loss: 0.3739185631275177\n",
      "Epoch 20/50, Training Loss: 0.3033532430728277, Validation Loss: 0.30288412421941757\n",
      "Epoch 30/50, Training Loss: 0.273457999030749, Validation Loss: 0.2824809178709984\n",
      "Epoch 40/50, Training Loss: 0.24602108498414357, Validation Loss: 0.2837895005941391\n"
     ]
    },
    {
     "name": "stderr",
     "output_type": "stream",
     "text": [
      "[I 2023-10-10 23:35:00,756] Trial 37 finished with value: 0.3069346845149994 and parameters: {'lr': 0.0009065645586263304, 'dropout_prob': 0.427190540252151, 'force_n_layers': 3, 'force_kernel_size': 3, 'force_stride': 4, 'force_padding': 5, 'force_hidden_channels': 77, 'force_pooling_type': 'max', 'force_use_batch_norm': True, 'acc_n_layers': 6, 'acc_kernel_size': 7, 'acc_stride': 2, 'acc_padding': 9, 'acc_hidden_channels': 28, 'acc_pooling_type': 'max', 'acc_use_batch_norm': False}. Best is trial 31 with value: 0.2728074714541435.\n"
     ]
    },
    {
     "name": "stdout",
     "output_type": "stream",
     "text": [
      "Epoch 50/50, Training Loss: 0.22402823170026143, Validation Loss: 0.3069346845149994\n",
      "Epoch 10/50, Training Loss: 0.6062786062558492, Validation Loss: 0.5916063487529755\n",
      "Epoch 20/50, Training Loss: 0.42908902565638224, Validation Loss: 0.4133985713124275\n",
      "Epoch 30/50, Training Loss: 0.37001160184542337, Validation Loss: 0.35682155191898346\n",
      "Epoch 40/50, Training Loss: 0.3395343581835429, Validation Loss: 0.34362131357192993\n"
     ]
    },
    {
     "name": "stderr",
     "output_type": "stream",
     "text": [
      "[I 2023-10-10 23:35:20,868] Trial 38 finished with value: 0.333495557308197 and parameters: {'lr': 0.0002786848714876144, 'dropout_prob': 0.47046069670159363, 'force_n_layers': 1, 'force_kernel_size': 4, 'force_stride': 6, 'force_padding': 5, 'force_hidden_channels': 143, 'force_pooling_type': 'avg', 'force_use_batch_norm': True, 'acc_n_layers': 6, 'acc_kernel_size': 6, 'acc_stride': 1, 'acc_padding': 8, 'acc_hidden_channels': 16, 'acc_pooling_type': 'max', 'acc_use_batch_norm': False}. Best is trial 31 with value: 0.2728074714541435.\n"
     ]
    },
    {
     "name": "stdout",
     "output_type": "stream",
     "text": [
      "Epoch 50/50, Training Loss: 0.3241162975629171, Validation Loss: 0.333495557308197\n",
      "Epoch 10/50, Training Loss: 0.35924623409907025, Validation Loss: 0.3436240330338478\n",
      "Epoch 20/50, Training Loss: 0.28323934674263, Validation Loss: 0.30335719138383865\n",
      "Epoch 30/50, Training Loss: 0.2486077109972636, Validation Loss: 0.28810901939868927\n",
      "Epoch 40/50, Training Loss: 0.22426447868347169, Validation Loss: 0.2991120517253876\n"
     ]
    },
    {
     "name": "stderr",
     "output_type": "stream",
     "text": [
      "[I 2023-10-10 23:35:39,139] Trial 39 finished with value: 0.29218152165412903 and parameters: {'lr': 0.0007266773212582518, 'dropout_prob': 0.3672224389231389, 'force_n_layers': 2, 'force_kernel_size': 3, 'force_stride': 5, 'force_padding': 3, 'force_hidden_channels': 19, 'force_pooling_type': 'max', 'force_use_batch_norm': True, 'acc_n_layers': 4, 'acc_kernel_size': 7, 'acc_stride': 2, 'acc_padding': 6, 'acc_hidden_channels': 48, 'acc_pooling_type': 'max', 'acc_use_batch_norm': False}. Best is trial 31 with value: 0.2728074714541435.\n"
     ]
    },
    {
     "name": "stdout",
     "output_type": "stream",
     "text": [
      "Epoch 50/50, Training Loss: 0.20156853099664052, Validation Loss: 0.29218152165412903\n",
      "Epoch 10/50, Training Loss: 0.34954912662506105, Validation Loss: 0.34657635539770126\n",
      "Epoch 20/50, Training Loss: 0.28661146958669026, Validation Loss: 0.2982572764158249\n",
      "Epoch 30/50, Training Loss: 0.25151198407014214, Validation Loss: 0.2930581271648407\n",
      "Epoch 40/50, Training Loss: 0.21978614032268523, Validation Loss: 0.35581596195697784\n"
     ]
    },
    {
     "name": "stderr",
     "output_type": "stream",
     "text": [
      "[I 2023-10-10 23:36:10,754] Trial 40 finished with value: 0.32788141816854477 and parameters: {'lr': 0.001237276040574198, 'dropout_prob': 0.4985180662921177, 'force_n_layers': 2, 'force_kernel_size': 3, 'force_stride': 5, 'force_padding': 3, 'force_hidden_channels': 20, 'force_pooling_type': 'max', 'force_use_batch_norm': True, 'acc_n_layers': 4, 'acc_kernel_size': 7, 'acc_stride': 1, 'acc_padding': 6, 'acc_hidden_channels': 46, 'acc_pooling_type': 'max', 'acc_use_batch_norm': False}. Best is trial 31 with value: 0.2728074714541435.\n"
     ]
    },
    {
     "name": "stdout",
     "output_type": "stream",
     "text": [
      "Epoch 50/50, Training Loss: 0.1967254549264908, Validation Loss: 0.32788141816854477\n",
      "Epoch 10/50, Training Loss: 0.3870249569416046, Validation Loss: 0.3606608659029007\n",
      "Epoch 20/50, Training Loss: 0.29795945684115094, Validation Loss: 0.2849125899374485\n",
      "Epoch 30/50, Training Loss: 0.2712415417035421, Validation Loss: 0.2856588140130043\n",
      "Epoch 40/50, Training Loss: 0.2528662254412969, Validation Loss: 0.2786228470504284\n"
     ]
    },
    {
     "name": "stderr",
     "output_type": "stream",
     "text": [
      "[I 2023-10-10 23:36:27,800] Trial 41 finished with value: 0.29336507618427277 and parameters: {'lr': 0.0007675218724442506, 'dropout_prob': 0.37564119732434115, 'force_n_layers': 2, 'force_kernel_size': 3, 'force_stride': 5, 'force_padding': 3, 'force_hidden_channels': 40, 'force_pooling_type': 'max', 'force_use_batch_norm': True, 'acc_n_layers': 4, 'acc_kernel_size': 7, 'acc_stride': 2, 'acc_padding': 5, 'acc_hidden_channels': 30, 'acc_pooling_type': 'max', 'acc_use_batch_norm': False}. Best is trial 31 with value: 0.2728074714541435.\n"
     ]
    },
    {
     "name": "stdout",
     "output_type": "stream",
     "text": [
      "Epoch 50/50, Training Loss: 0.24575738509496053, Validation Loss: 0.29336507618427277\n",
      "Epoch 10/50, Training Loss: 0.40771356225013733, Validation Loss: 0.38222143799066544\n",
      "Epoch 20/50, Training Loss: 0.3196397384007772, Validation Loss: 0.31556811183691025\n",
      "Epoch 30/50, Training Loss: 0.28391810655593874, Validation Loss: 0.2935148850083351\n",
      "Epoch 40/50, Training Loss: 0.26032039026419324, Validation Loss: 0.2845628224313259\n"
     ]
    },
    {
     "name": "stderr",
     "output_type": "stream",
     "text": [
      "[I 2023-10-10 23:36:41,633] Trial 42 finished with value: 0.2778148502111435 and parameters: {'lr': 0.0007131050621768422, 'dropout_prob': 0.40470337751724716, 'force_n_layers': 2, 'force_kernel_size': 3, 'force_stride': 5, 'force_padding': 2, 'force_hidden_channels': 33, 'force_pooling_type': 'max', 'force_use_batch_norm': True, 'acc_n_layers': 4, 'acc_kernel_size': 7, 'acc_stride': 2, 'acc_padding': 5, 'acc_hidden_channels': 29, 'acc_pooling_type': 'max', 'acc_use_batch_norm': False}. Best is trial 31 with value: 0.2728074714541435.\n"
     ]
    },
    {
     "name": "stdout",
     "output_type": "stream",
     "text": [
      "Epoch 50/50, Training Loss: 0.24045427838961284, Validation Loss: 0.2778148502111435\n",
      "Epoch 10/50, Training Loss: 0.4221942444642385, Validation Loss: 0.4039608836174011\n",
      "Epoch 20/50, Training Loss: 0.3135367870330811, Validation Loss: 0.30910295248031616\n",
      "Epoch 30/50, Training Loss: 0.2792977352937063, Validation Loss: 0.30165280401706696\n",
      "Epoch 40/50, Training Loss: 0.261570405960083, Validation Loss: 0.2924756854772568\n"
     ]
    },
    {
     "name": "stderr",
     "output_type": "stream",
     "text": [
      "[I 2023-10-10 23:36:55,241] Trial 43 finished with value: 0.2873135358095169 and parameters: {'lr': 0.0006889570684989062, 'dropout_prob': 0.4100721510707835, 'force_n_layers': 2, 'force_kernel_size': 4, 'force_stride': 4, 'force_padding': 2, 'force_hidden_channels': 29, 'force_pooling_type': 'max', 'force_use_batch_norm': True, 'acc_n_layers': 4, 'acc_kernel_size': 7, 'acc_stride': 2, 'acc_padding': 6, 'acc_hidden_channels': 26, 'acc_pooling_type': 'max', 'acc_use_batch_norm': False}. Best is trial 31 with value: 0.2728074714541435.\n"
     ]
    },
    {
     "name": "stdout",
     "output_type": "stream",
     "text": [
      "Epoch 50/50, Training Loss: 0.2456486980120341, Validation Loss: 0.2873135358095169\n",
      "Epoch 10/50, Training Loss: 0.4321872850259145, Validation Loss: 0.4187348186969757\n",
      "Epoch 20/50, Training Loss: 0.34390639662742617, Validation Loss: 0.33286867290735245\n",
      "Epoch 30/50, Training Loss: 0.2997462193171183, Validation Loss: 0.3105998858809471\n",
      "Epoch 40/50, Training Loss: 0.27526557942231494, Validation Loss: 0.29595140367746353\n"
     ]
    },
    {
     "name": "stderr",
     "output_type": "stream",
     "text": [
      "[I 2023-10-10 23:37:09,708] Trial 44 finished with value: 0.29574279487133026 and parameters: {'lr': 0.0007465348454712323, 'dropout_prob': 0.410856206807163, 'force_n_layers': 1, 'force_kernel_size': 4, 'force_stride': 4, 'force_padding': 2, 'force_hidden_channels': 28, 'force_pooling_type': 'max', 'force_use_batch_norm': True, 'acc_n_layers': 3, 'acc_kernel_size': 7, 'acc_stride': 2, 'acc_padding': 5, 'acc_hidden_channels': 29, 'acc_pooling_type': 'max', 'acc_use_batch_norm': False}. Best is trial 31 with value: 0.2728074714541435.\n"
     ]
    },
    {
     "name": "stdout",
     "output_type": "stream",
     "text": [
      "Epoch 50/50, Training Loss: 0.2625418782234192, Validation Loss: 0.29574279487133026\n",
      "Epoch 10/50, Training Loss: 0.39650325775146483, Validation Loss: 0.3944164291024208\n",
      "Epoch 20/50, Training Loss: 0.3088790953159332, Validation Loss: 0.30768517404794693\n",
      "Epoch 30/50, Training Loss: 0.27287864486376445, Validation Loss: 0.3029223829507828\n",
      "Epoch 40/50, Training Loss: 0.2548465391000112, Validation Loss: 0.30433594435453415\n"
     ]
    },
    {
     "name": "stderr",
     "output_type": "stream",
     "text": [
      "[I 2023-10-10 23:37:28,006] Trial 45 finished with value: 0.3292006179690361 and parameters: {'lr': 0.0011463531316530692, 'dropout_prob': 0.45222614751960394, 'force_n_layers': 2, 'force_kernel_size': 3, 'force_stride': 5, 'force_padding': 3, 'force_hidden_channels': 50, 'force_pooling_type': 'max', 'force_use_batch_norm': True, 'acc_n_layers': 4, 'acc_kernel_size': 6, 'acc_stride': 1, 'acc_padding': 6, 'acc_hidden_channels': 16, 'acc_pooling_type': 'max', 'acc_use_batch_norm': False}. Best is trial 31 with value: 0.2728074714541435.\n"
     ]
    },
    {
     "name": "stdout",
     "output_type": "stream",
     "text": [
      "Epoch 50/50, Training Loss: 0.23985783060391744, Validation Loss: 0.3292006179690361\n",
      "Epoch 10/50, Training Loss: 0.3099387268225352, Validation Loss: 0.3038523457944393\n",
      "Epoch 20/50, Training Loss: 0.2570032626390457, Validation Loss: 0.29059288650751114\n",
      "Epoch 30/50, Training Loss: 0.21817737619082134, Validation Loss: 0.28126411885023117\n",
      "Epoch 40/50, Training Loss: 0.1839543064435323, Validation Loss: 0.26652347296476364\n"
     ]
    },
    {
     "name": "stderr",
     "output_type": "stream",
     "text": [
      "[I 2023-10-10 23:37:42,155] Trial 46 finished with value: 0.27829667180776596 and parameters: {'lr': 0.0020855844148071397, 'dropout_prob': 0.4386099554683148, 'force_n_layers': 2, 'force_kernel_size': 4, 'force_stride': 6, 'force_padding': 1, 'force_hidden_channels': 29, 'force_pooling_type': 'max', 'force_use_batch_norm': True, 'acc_n_layers': 3, 'acc_kernel_size': 8, 'acc_stride': 2, 'acc_padding': 4, 'acc_hidden_channels': 43, 'acc_pooling_type': 'max', 'acc_use_batch_norm': False}. Best is trial 31 with value: 0.2728074714541435.\n"
     ]
    },
    {
     "name": "stdout",
     "output_type": "stream",
     "text": [
      "Epoch 50/50, Training Loss: 0.14581826627254485, Validation Loss: 0.27829667180776596\n"
     ]
    },
    {
     "name": "stderr",
     "output_type": "stream",
     "text": [
      "[I 2023-10-10 23:37:43,620] Trial 47 finished with value: 1.0 and parameters: {'lr': 0.0026192068829428215, 'dropout_prob': 0.4343472951728159, 'force_n_layers': 3, 'force_kernel_size': 4, 'force_stride': 7, 'force_padding': 1, 'force_hidden_channels': 33, 'force_pooling_type': 'max', 'force_use_batch_norm': True, 'acc_n_layers': 3, 'acc_kernel_size': 8, 'acc_stride': 2, 'acc_padding': 3, 'acc_hidden_channels': 38, 'acc_pooling_type': 'max', 'acc_use_batch_norm': False}. Best is trial 31 with value: 0.2728074714541435.\n"
     ]
    },
    {
     "name": "stdout",
     "output_type": "stream",
     "text": [
      "Trial failed with error: Calculated padded input size per channel: (3). Kernel size: (4). Kernel size can't be greater than actual input size\n",
      "Epoch 10/50, Training Loss: 0.3077109634876251, Validation Loss: 0.30715475231409073\n",
      "Epoch 20/50, Training Loss: 0.246568500995636, Validation Loss: 0.2783118337392807\n",
      "Epoch 30/50, Training Loss: 0.2126395603020986, Validation Loss: 0.2927484028041363\n",
      "Epoch 40/50, Training Loss: 0.18927218814690908, Validation Loss: 0.2975960485637188\n"
     ]
    },
    {
     "name": "stderr",
     "output_type": "stream",
     "text": [
      "[I 2023-10-10 23:38:14,992] Trial 48 finished with value: 0.3265932574868202 and parameters: {'lr': 0.0014444190028490799, 'dropout_prob': 0.45801367610006893, 'force_n_layers': 1, 'force_kernel_size': 4, 'force_stride': 6, 'force_padding': 2, 'force_hidden_channels': 53, 'force_pooling_type': 'max', 'force_use_batch_norm': True, 'acc_n_layers': 3, 'acc_kernel_size': 8, 'acc_stride': 1, 'acc_padding': 4, 'acc_hidden_channels': 64, 'acc_pooling_type': 'max', 'acc_use_batch_norm': False}. Best is trial 31 with value: 0.2728074714541435.\n"
     ]
    },
    {
     "name": "stdout",
     "output_type": "stream",
     "text": [
      "Epoch 50/50, Training Loss: 0.16386089821656544, Validation Loss: 0.3265932574868202\n"
     ]
    },
    {
     "name": "stderr",
     "output_type": "stream",
     "text": [
      "[I 2023-10-10 23:38:16,491] Trial 49 finished with value: 1.0 and parameters: {'lr': 0.005038545811479122, 'dropout_prob': 0.4077675919550244, 'force_n_layers': 3, 'force_kernel_size': 4, 'force_stride': 6, 'force_padding': 1, 'force_hidden_channels': 71, 'force_pooling_type': 'max', 'force_use_batch_norm': True, 'acc_n_layers': 3, 'acc_kernel_size': 9, 'acc_stride': 2, 'acc_padding': 5, 'acc_hidden_channels': 25, 'acc_pooling_type': 'max', 'acc_use_batch_norm': False}. Best is trial 31 with value: 0.2728074714541435.\n"
     ]
    },
    {
     "name": "stdout",
     "output_type": "stream",
     "text": [
      "Trial failed with error: Calculated padded input size per channel: (3). Kernel size: (4). Kernel size can't be greater than actual input size\n"
     ]
    },
    {
     "name": "stderr",
     "output_type": "stream",
     "text": [
      "[I 2023-10-10 23:38:17,998] Trial 50 finished with value: 1.0 and parameters: {'lr': 0.00205892089737994, 'dropout_prob': 0.4716311541572694, 'force_n_layers': 2, 'force_kernel_size': 4, 'force_stride': 4, 'force_padding': 1, 'force_hidden_channels': 31, 'force_pooling_type': 'max', 'force_use_batch_norm': True, 'acc_n_layers': 4, 'acc_kernel_size': 8, 'acc_stride': 4, 'acc_padding': 4, 'acc_hidden_channels': 39, 'acc_pooling_type': 'max', 'acc_use_batch_norm': False}. Best is trial 31 with value: 0.2728074714541435.\n"
     ]
    },
    {
     "name": "stdout",
     "output_type": "stream",
     "text": [
      "Trial failed with error: max_pool1d() Invalid computed output size: 0\n",
      "Epoch 10/50, Training Loss: 0.36836987137794497, Validation Loss: 0.351383276283741\n",
      "Epoch 20/50, Training Loss: 0.2977152824401855, Validation Loss: 0.2992634102702141\n",
      "Epoch 30/50, Training Loss: 0.27768457134564717, Validation Loss: 0.29599253833293915\n",
      "Epoch 40/50, Training Loss: 0.2603438585996628, Validation Loss: 0.28103697299957275\n"
     ]
    },
    {
     "name": "stderr",
     "output_type": "stream",
     "text": [
      "[I 2023-10-10 23:38:36,353] Trial 51 finished with value: 0.27784546837210655 and parameters: {'lr': 0.0007247248135752404, 'dropout_prob': 0.43103177126454606, 'force_n_layers': 2, 'force_kernel_size': 3, 'force_stride': 5, 'force_padding': 2, 'force_hidden_channels': 16, 'force_pooling_type': 'max', 'force_use_batch_norm': True, 'acc_n_layers': 4, 'acc_kernel_size': 7, 'acc_stride': 2, 'acc_padding': 6, 'acc_hidden_channels': 46, 'acc_pooling_type': 'max', 'acc_use_batch_norm': False}. Best is trial 31 with value: 0.2728074714541435.\n"
     ]
    },
    {
     "name": "stdout",
     "output_type": "stream",
     "text": [
      "Epoch 50/50, Training Loss: 0.2401954581340154, Validation Loss: 0.27784546837210655\n",
      "Epoch 10/50, Training Loss: 0.2943804999192556, Validation Loss: 0.288613960146904\n",
      "Epoch 20/50, Training Loss: 0.22395423352718352, Validation Loss: 0.26554231345653534\n",
      "Epoch 30/50, Training Loss: 0.16873111426830292, Validation Loss: 0.2791901305317879\n",
      "Epoch 40/50, Training Loss: 0.11173504342635472, Validation Loss: 0.3135504946112633\n"
     ]
    },
    {
     "name": "stderr",
     "output_type": "stream",
     "text": [
      "[I 2023-10-10 23:39:10,241] Trial 52 finished with value: 0.38782578706741333 and parameters: {'lr': 0.0011254966496346496, 'dropout_prob': 0.4332462721258801, 'force_n_layers': 1, 'force_kernel_size': 3, 'force_stride': 4, 'force_padding': 2, 'force_hidden_channels': 25, 'force_pooling_type': 'max', 'force_use_batch_norm': True, 'acc_n_layers': 3, 'acc_kernel_size': 6, 'acc_stride': 3, 'acc_padding': 5, 'acc_hidden_channels': 234, 'acc_pooling_type': 'max', 'acc_use_batch_norm': False}. Best is trial 31 with value: 0.2728074714541435.\n"
     ]
    },
    {
     "name": "stdout",
     "output_type": "stream",
     "text": [
      "Epoch 50/50, Training Loss: 0.07129654760162035, Validation Loss: 0.38782578706741333\n",
      "Epoch 10/50, Training Loss: 0.306059867143631, Validation Loss: 0.30615056306123734\n",
      "Epoch 20/50, Training Loss: 0.2582975496848424, Validation Loss: 0.26786716282367706\n",
      "Epoch 30/50, Training Loss: 0.2264049549897512, Validation Loss: 0.27593572437763214\n",
      "Epoch 40/50, Training Loss: 0.1828753838936488, Validation Loss: 0.2942052595317364\n"
     ]
    },
    {
     "name": "stderr",
     "output_type": "stream",
     "text": [
      "[I 2023-10-10 23:39:30,836] Trial 53 finished with value: 0.3165224716067314 and parameters: {'lr': 0.0010085921351702441, 'dropout_prob': 0.4785218049972749, 'force_n_layers': 2, 'force_kernel_size': 3, 'force_stride': 7, 'force_padding': 4, 'force_hidden_channels': 37, 'force_pooling_type': 'max', 'force_use_batch_norm': True, 'acc_n_layers': 4, 'acc_kernel_size': 7, 'acc_stride': 2, 'acc_padding': 4, 'acc_hidden_channels': 63, 'acc_pooling_type': 'max', 'acc_use_batch_norm': False}. Best is trial 31 with value: 0.2728074714541435.\n"
     ]
    },
    {
     "name": "stdout",
     "output_type": "stream",
     "text": [
      "Epoch 50/50, Training Loss: 0.17172484298547108, Validation Loss: 0.3165224716067314\n",
      "Epoch 10/50, Training Loss: 0.4383761346340179, Validation Loss: 0.4278785213828087\n",
      "Epoch 20/50, Training Loss: 0.3566344499588013, Validation Loss: 0.36117471754550934\n",
      "Epoch 30/50, Training Loss: 0.3185186247030894, Validation Loss: 0.32423819601535797\n",
      "Epoch 40/50, Training Loss: 0.29363162914911906, Validation Loss: 0.31563396006822586\n"
     ]
    },
    {
     "name": "stderr",
     "output_type": "stream",
     "text": [
      "[I 2023-10-10 23:39:48,184] Trial 54 finished with value: 0.3106800243258476 and parameters: {'lr': 0.0006693009697920932, 'dropout_prob': 0.3990697993669805, 'force_n_layers': 2, 'force_kernel_size': 3, 'force_stride': 6, 'force_padding': 2, 'force_hidden_channels': 17, 'force_pooling_type': 'max', 'force_use_batch_norm': True, 'acc_n_layers': 3, 'acc_kernel_size': 7, 'acc_stride': 1, 'acc_padding': 6, 'acc_hidden_channels': 26, 'acc_pooling_type': 'max', 'acc_use_batch_norm': False}. Best is trial 31 with value: 0.2728074714541435.\n"
     ]
    },
    {
     "name": "stdout",
     "output_type": "stream",
     "text": [
      "Epoch 50/50, Training Loss: 0.2799799869457881, Validation Loss: 0.3106800243258476\n"
     ]
    },
    {
     "name": "stderr",
     "output_type": "stream",
     "text": [
      "[I 2023-10-10 23:39:49,658] Trial 55 finished with value: 1.0 and parameters: {'lr': 0.006221012640666132, 'dropout_prob': 0.43029644213990104, 'force_n_layers': 3, 'force_kernel_size': 4, 'force_stride': 5, 'force_padding': 1, 'force_hidden_channels': 50, 'force_pooling_type': 'max', 'force_use_batch_norm': True, 'acc_n_layers': 5, 'acc_kernel_size': 8, 'acc_stride': 2, 'acc_padding': 7, 'acc_hidden_channels': 44, 'acc_pooling_type': 'max', 'acc_use_batch_norm': False}. Best is trial 31 with value: 0.2728074714541435.\n"
     ]
    },
    {
     "name": "stdout",
     "output_type": "stream",
     "text": [
      "Trial failed with error: Calculated padded input size per channel: (3). Kernel size: (4). Kernel size can't be greater than actual input size\n",
      "Epoch 10/50, Training Loss: 0.3449145456155141, Validation Loss: 0.3435192108154297\n",
      "Epoch 20/50, Training Loss: 0.2623637686173121, Validation Loss: 0.2880704700946808\n",
      "Epoch 30/50, Training Loss: 0.22160998185475667, Validation Loss: 0.27243340015411377\n",
      "Epoch 40/50, Training Loss: 0.19143820603688558, Validation Loss: 0.2732809968292713\n"
     ]
    },
    {
     "name": "stderr",
     "output_type": "stream",
     "text": [
      "[I 2023-10-10 23:40:02,059] Trial 56 finished with value: 0.36918457970023155 and parameters: {'lr': 0.0016070427370480987, 'dropout_prob': 0.35539498442703243, 'force_n_layers': 2, 'force_kernel_size': 3, 'force_stride': 6, 'force_padding': 2, 'force_hidden_channels': 41, 'force_pooling_type': 'max', 'force_use_batch_norm': True, 'acc_n_layers': 4, 'acc_kernel_size': 6, 'acc_stride': 3, 'acc_padding': 5, 'acc_hidden_channels': 34, 'acc_pooling_type': 'max', 'acc_use_batch_norm': False}. Best is trial 31 with value: 0.2728074714541435.\n"
     ]
    },
    {
     "name": "stdout",
     "output_type": "stream",
     "text": [
      "Epoch 50/50, Training Loss: 0.15814050287008286, Validation Loss: 0.36918457970023155\n"
     ]
    },
    {
     "name": "stderr",
     "output_type": "stream",
     "text": [
      "[I 2023-10-10 23:40:03,600] Trial 57 finished with value: 1.0 and parameters: {'lr': 0.0004845919442594359, 'dropout_prob': 0.4928110177187737, 'force_n_layers': 1, 'force_kernel_size': 9, 'force_stride': 5, 'force_padding': 4, 'force_hidden_channels': 72, 'force_pooling_type': 'max', 'force_use_batch_norm': True, 'acc_n_layers': 5, 'acc_kernel_size': 9, 'acc_stride': 3, 'acc_padding': 3, 'acc_hidden_channels': 56, 'acc_pooling_type': 'max', 'acc_use_batch_norm': False}. Best is trial 31 with value: 0.2728074714541435.\n"
     ]
    },
    {
     "name": "stdout",
     "output_type": "stream",
     "text": [
      "Trial failed with error: Calculated padded input size per channel: (7). Kernel size: (9). Kernel size can't be greater than actual input size\n",
      "Epoch 10/50, Training Loss: 0.4414795458316803, Validation Loss: 0.4509281665086746\n",
      "Epoch 20/50, Training Loss: 0.350558070341746, Validation Loss: 0.36633555591106415\n",
      "Epoch 30/50, Training Loss: 0.2752856324116389, Validation Loss: 0.3251437023282051\n",
      "Epoch 40/50, Training Loss: 0.2242850293715795, Validation Loss: 0.3159472495317459\n"
     ]
    },
    {
     "name": "stderr",
     "output_type": "stream",
     "text": [
      "[I 2023-10-10 23:40:53,493] Trial 58 finished with value: 0.3248646855354309 and parameters: {'lr': 0.0006533140921752733, 'dropout_prob': 0.46319707527357334, 'force_n_layers': 3, 'force_kernel_size': 5, 'force_stride': 4, 'force_padding': 3, 'force_hidden_channels': 55, 'force_pooling_type': 'max', 'force_use_batch_norm': True, 'acc_n_layers': 2, 'acc_kernel_size': 8, 'acc_stride': 1, 'acc_padding': 6, 'acc_hidden_channels': 85, 'acc_pooling_type': 'max', 'acc_use_batch_norm': True}. Best is trial 31 with value: 0.2728074714541435.\n"
     ]
    },
    {
     "name": "stdout",
     "output_type": "stream",
     "text": [
      "Epoch 50/50, Training Loss: 0.18632721900939941, Validation Loss: 0.3248646855354309\n"
     ]
    },
    {
     "name": "stderr",
     "output_type": "stream",
     "text": [
      "[I 2023-10-10 23:40:55,058] Trial 59 finished with value: 1.0 and parameters: {'lr': 0.0009745997635637721, 'dropout_prob': 0.4426882608133141, 'force_n_layers': 2, 'force_kernel_size': 4, 'force_stride': 3, 'force_padding': 1, 'force_hidden_channels': 27, 'force_pooling_type': 'max', 'force_use_batch_norm': True, 'acc_n_layers': 4, 'acc_kernel_size': 7, 'acc_stride': 4, 'acc_padding': 2, 'acc_hidden_channels': 69, 'acc_pooling_type': 'avg', 'acc_use_batch_norm': False}. Best is trial 31 with value: 0.2728074714541435.\n"
     ]
    },
    {
     "name": "stdout",
     "output_type": "stream",
     "text": [
      "Trial failed with error: Given input size: (69x1x1). Calculated output size: (69x1x0). Output size is too small\n",
      "Epoch 10/50, Training Loss: 0.33376640478769937, Validation Loss: 0.33509062975645065\n",
      "Epoch 20/50, Training Loss: 0.25959863563378655, Validation Loss: 0.2849952131509781\n",
      "Epoch 30/50, Training Loss: 0.21547092497348785, Validation Loss: 0.3025823011994362\n",
      "Epoch 40/50, Training Loss: 0.183916840950648, Validation Loss: 0.32076725363731384\n"
     ]
    },
    {
     "name": "stderr",
     "output_type": "stream",
     "text": [
      "[I 2023-10-10 23:41:07,317] Trial 60 finished with value: 0.37560607492923737 and parameters: {'lr': 0.002393088955301953, 'dropout_prob': 0.42080939705073683, 'force_n_layers': 3, 'force_kernel_size': 3, 'force_stride': 4, 'force_padding': 2, 'force_hidden_channels': 83, 'force_pooling_type': 'max', 'force_use_batch_norm': True, 'acc_n_layers': 3, 'acc_kernel_size': 7, 'acc_stride': 3, 'acc_padding': 4, 'acc_hidden_channels': 22, 'acc_pooling_type': 'max', 'acc_use_batch_norm': False}. Best is trial 31 with value: 0.2728074714541435.\n"
     ]
    },
    {
     "name": "stdout",
     "output_type": "stream",
     "text": [
      "Epoch 50/50, Training Loss: 0.16175496379534404, Validation Loss: 0.37560607492923737\n",
      "Epoch 10/50, Training Loss: 0.3930726865927378, Validation Loss: 0.3674059063196182\n",
      "Epoch 20/50, Training Loss: 0.28809240261713664, Validation Loss: 0.2891234755516052\n",
      "Epoch 30/50, Training Loss: 0.25222943127155306, Validation Loss: 0.2778815068304539\n",
      "Epoch 40/50, Training Loss: 0.23120244840780893, Validation Loss: 0.297402024269104\n"
     ]
    },
    {
     "name": "stderr",
     "output_type": "stream",
     "text": [
      "[I 2023-10-10 23:41:26,573] Trial 61 finished with value: 0.3029443025588989 and parameters: {'lr': 0.0007596322118874278, 'dropout_prob': 0.41673950129489296, 'force_n_layers': 2, 'force_kernel_size': 3, 'force_stride': 5, 'force_padding': 3, 'force_hidden_channels': 20, 'force_pooling_type': 'max', 'force_use_batch_norm': True, 'acc_n_layers': 4, 'acc_kernel_size': 7, 'acc_stride': 2, 'acc_padding': 6, 'acc_hidden_channels': 45, 'acc_pooling_type': 'max', 'acc_use_batch_norm': False}. Best is trial 31 with value: 0.2728074714541435.\n"
     ]
    },
    {
     "name": "stdout",
     "output_type": "stream",
     "text": [
      "Epoch 50/50, Training Loss: 0.21790707409381865, Validation Loss: 0.3029443025588989\n",
      "Epoch 10/50, Training Loss: 0.38193005323410034, Validation Loss: 0.3521980121731758\n",
      "Epoch 20/50, Training Loss: 0.3054677903652191, Validation Loss: 0.31094058603048325\n",
      "Epoch 30/50, Training Loss: 0.2713916132847468, Validation Loss: 0.29775895550847054\n",
      "Epoch 40/50, Training Loss: 0.2617056260506312, Validation Loss: 0.2864764370024204\n"
     ]
    },
    {
     "name": "stderr",
     "output_type": "stream",
     "text": [
      "[I 2023-10-10 23:41:45,168] Trial 62 finished with value: 0.2866242788732052 and parameters: {'lr': 0.0006510986387363971, 'dropout_prob': 0.36709115002205567, 'force_n_layers': 2, 'force_kernel_size': 3, 'force_stride': 5, 'force_padding': 3, 'force_hidden_channels': 34, 'force_pooling_type': 'max', 'force_use_batch_norm': True, 'acc_n_layers': 4, 'acc_kernel_size': 6, 'acc_stride': 2, 'acc_padding': 5, 'acc_hidden_channels': 50, 'acc_pooling_type': 'max', 'acc_use_batch_norm': False}. Best is trial 31 with value: 0.2728074714541435.\n"
     ]
    },
    {
     "name": "stdout",
     "output_type": "stream",
     "text": [
      "Epoch 50/50, Training Loss: 0.2285413751999537, Validation Loss: 0.2866242788732052\n",
      "Epoch 10/50, Training Loss: 0.3354359070460002, Validation Loss: 0.30642690509557724\n",
      "Epoch 20/50, Training Loss: 0.2891963392496109, Validation Loss: 0.2931515648961067\n",
      "Epoch 30/50, Training Loss: 0.22001432577768962, Validation Loss: 0.2699676752090454\n",
      "Epoch 40/50, Training Loss: 0.18020615379015606, Validation Loss: 0.2742091417312622\n"
     ]
    },
    {
     "name": "stderr",
     "output_type": "stream",
     "text": [
      "[I 2023-10-10 23:42:29,650] Trial 63 finished with value: 0.29598356038331985 and parameters: {'lr': 0.0004543440294817014, 'dropout_prob': 0.39349124807364183, 'force_n_layers': 1, 'force_kernel_size': 3, 'force_stride': 6, 'force_padding': 2, 'force_hidden_channels': 36, 'force_pooling_type': 'max', 'force_use_batch_norm': True, 'acc_n_layers': 5, 'acc_kernel_size': 6, 'acc_stride': 2, 'acc_padding': 5, 'acc_hidden_channels': 148, 'acc_pooling_type': 'max', 'acc_use_batch_norm': False}. Best is trial 31 with value: 0.2728074714541435.\n"
     ]
    },
    {
     "name": "stdout",
     "output_type": "stream",
     "text": [
      "Epoch 50/50, Training Loss: 0.15190402865409852, Validation Loss: 0.29598356038331985\n",
      "Epoch 10/50, Training Loss: 0.31949538787206017, Validation Loss: 0.31797411292791367\n",
      "Epoch 20/50, Training Loss: 0.25668245553970337, Validation Loss: 0.2913256287574768\n",
      "Epoch 30/50, Training Loss: 0.2120070348183314, Validation Loss: 0.2877003736793995\n",
      "Epoch 40/50, Training Loss: 0.179872061808904, Validation Loss: 0.2977776788175106\n"
     ]
    },
    {
     "name": "stderr",
     "output_type": "stream",
     "text": [
      "[I 2023-10-10 23:42:48,978] Trial 64 finished with value: 0.30001121014356613 and parameters: {'lr': 0.001283635751428784, 'dropout_prob': 0.40183891893756096, 'force_n_layers': 2, 'force_kernel_size': 3, 'force_stride': 5, 'force_padding': 1, 'force_hidden_channels': 27, 'force_pooling_type': 'max', 'force_use_batch_norm': True, 'acc_n_layers': 4, 'acc_kernel_size': 6, 'acc_stride': 2, 'acc_padding': 4, 'acc_hidden_channels': 54, 'acc_pooling_type': 'max', 'acc_use_batch_norm': False}. Best is trial 31 with value: 0.2728074714541435.\n"
     ]
    },
    {
     "name": "stdout",
     "output_type": "stream",
     "text": [
      "Epoch 50/50, Training Loss: 0.1519955615202586, Validation Loss: 0.30001121014356613\n",
      "Epoch 10/50, Training Loss: 0.44570178389549253, Validation Loss: 0.43564968556165695\n",
      "Epoch 20/50, Training Loss: 0.3608534872531891, Validation Loss: 0.3526725545525551\n",
      "Epoch 30/50, Training Loss: 0.30721864302953084, Validation Loss: 0.3269621953368187\n",
      "Epoch 40/50, Training Loss: 0.2785187691450119, Validation Loss: 0.31895705312490463\n"
     ]
    },
    {
     "name": "stderr",
     "output_type": "stream",
     "text": [
      "[I 2023-10-10 23:43:11,880] Trial 65 finished with value: 0.30078282952308655 and parameters: {'lr': 0.00033423862745979245, 'dropout_prob': 0.4598248240120437, 'force_n_layers': 2, 'force_kernel_size': 4, 'force_stride': 4, 'force_padding': 2, 'force_hidden_channels': 44, 'force_pooling_type': 'max', 'force_use_batch_norm': True, 'acc_n_layers': 4, 'acc_kernel_size': 8, 'acc_stride': 1, 'acc_padding': 7, 'acc_hidden_channels': 33, 'acc_pooling_type': 'max', 'acc_use_batch_norm': False}. Best is trial 31 with value: 0.2728074714541435.\n"
     ]
    },
    {
     "name": "stdout",
     "output_type": "stream",
     "text": [
      "Epoch 50/50, Training Loss: 0.2655158827702204, Validation Loss: 0.30078282952308655\n",
      "Epoch 10/50, Training Loss: 0.3647862434387207, Validation Loss: 0.4119366556406021\n",
      "Epoch 20/50, Training Loss: 0.18672762513160707, Validation Loss: 0.2588184140622616\n",
      "Epoch 30/50, Training Loss: 0.07264996493856112, Validation Loss: 0.3537903018295765\n",
      "Epoch 40/50, Training Loss: 0.007139004301279783, Validation Loss: 0.5337829068303108\n"
     ]
    },
    {
     "name": "stderr",
     "output_type": "stream",
     "text": [
      "[I 2023-10-10 23:43:40,305] Trial 66 finished with value: 0.6795182824134827 and parameters: {'lr': 0.0006555778125781418, 'dropout_prob': 0.43467545732422846, 'force_n_layers': 3, 'force_kernel_size': 3, 'force_stride': 5, 'force_padding': 4, 'force_hidden_channels': 67, 'force_pooling_type': 'max', 'force_use_batch_norm': True, 'acc_n_layers': 5, 'acc_kernel_size': 6, 'acc_stride': 3, 'acc_padding': 5, 'acc_hidden_channels': 92, 'acc_pooling_type': 'max', 'acc_use_batch_norm': True}. Best is trial 31 with value: 0.2728074714541435.\n"
     ]
    },
    {
     "name": "stdout",
     "output_type": "stream",
     "text": [
      "Epoch 50/50, Training Loss: 0.0012258772389031948, Validation Loss: 0.6795182824134827\n",
      "Epoch 10/50, Training Loss: 0.3921201785405477, Validation Loss: 0.36356909573078156\n",
      "Epoch 20/50, Training Loss: 0.29588828881581625, Validation Loss: 0.31754007190465927\n",
      "Epoch 30/50, Training Loss: 0.27729338804880777, Validation Loss: 0.2905099615454674\n",
      "Epoch 40/50, Training Loss: 0.25784180959065756, Validation Loss: 0.279098954051733\n"
     ]
    },
    {
     "name": "stderr",
     "output_type": "stream",
     "text": [
      "[I 2023-10-10 23:44:03,007] Trial 67 finished with value: 0.2993197441101074 and parameters: {'lr': 0.0008740343218110391, 'dropout_prob': 0.3495523867804048, 'force_n_layers': 2, 'force_kernel_size': 3, 'force_stride': 7, 'force_padding': 3, 'force_hidden_channels': 58, 'force_pooling_type': 'max', 'force_use_batch_norm': True, 'acc_n_layers': 3, 'acc_kernel_size': 7, 'acc_stride': 2, 'acc_padding': 6, 'acc_hidden_channels': 75, 'acc_pooling_type': 'avg', 'acc_use_batch_norm': False}. Best is trial 31 with value: 0.2728074714541435.\n"
     ]
    },
    {
     "name": "stdout",
     "output_type": "stream",
     "text": [
      "Epoch 50/50, Training Loss: 0.2460013856490453, Validation Loss: 0.2993197441101074\n",
      "Epoch 10/50, Training Loss: 0.5009894112745921, Validation Loss: 0.4938328117132187\n",
      "Epoch 20/50, Training Loss: 0.41555192867914836, Validation Loss: 0.41666600853204727\n",
      "Epoch 30/50, Training Loss: 0.3806590457757314, Validation Loss: 0.3821147531270981\n",
      "Epoch 40/50, Training Loss: 0.34812840819358826, Validation Loss: 0.3524871692061424\n"
     ]
    },
    {
     "name": "stderr",
     "output_type": "stream",
     "text": [
      "[I 2023-10-10 23:44:14,917] Trial 68 finished with value: 0.3304624632000923 and parameters: {'lr': 0.0005701157045697856, 'dropout_prob': 0.36932869194049645, 'force_n_layers': 1, 'force_kernel_size': 5, 'force_stride': 6, 'force_padding': 5, 'force_hidden_channels': 45, 'force_pooling_type': 'max', 'force_use_batch_norm': True, 'acc_n_layers': 2, 'acc_kernel_size': 8, 'acc_stride': 4, 'acc_padding': 7, 'acc_hidden_channels': 59, 'acc_pooling_type': 'max', 'acc_use_batch_norm': False}. Best is trial 31 with value: 0.2728074714541435.\n"
     ]
    },
    {
     "name": "stdout",
     "output_type": "stream",
     "text": [
      "Epoch 50/50, Training Loss: 0.31180654764175414, Validation Loss: 0.3304624632000923\n"
     ]
    },
    {
     "name": "stderr",
     "output_type": "stream",
     "text": [
      "[I 2023-10-10 23:44:16,399] Trial 69 finished with value: 1.0 and parameters: {'lr': 0.00048523220958301977, 'dropout_prob': 0.3884232220536765, 'force_n_layers': 3, 'force_kernel_size': 4, 'force_stride': 3, 'force_padding': 1, 'force_hidden_channels': 174, 'force_pooling_type': 'max', 'force_use_batch_norm': True, 'acc_n_layers': 4, 'acc_kernel_size': 9, 'acc_stride': 1, 'acc_padding': 5, 'acc_hidden_channels': 22, 'acc_pooling_type': 'max', 'acc_use_batch_norm': False}. Best is trial 31 with value: 0.2728074714541435.\n"
     ]
    },
    {
     "name": "stdout",
     "output_type": "stream",
     "text": [
      "Trial failed with error: max_pool1d() Invalid computed output size: 0\n",
      "Epoch 10/50, Training Loss: 0.30037549436092376, Validation Loss: 0.3124025911092758\n",
      "Epoch 20/50, Training Loss: 0.22592113316059112, Validation Loss: 0.269808366894722\n",
      "Epoch 30/50, Training Loss: 0.15859103699525198, Validation Loss: 0.3342257887125015\n",
      "Epoch 40/50, Training Loss: 0.10546513398488362, Validation Loss: 0.345673069357872\n"
     ]
    },
    {
     "name": "stderr",
     "output_type": "stream",
     "text": [
      "[I 2023-10-10 23:44:59,082] Trial 70 finished with value: 0.5017738118767738 and parameters: {'lr': 0.0012549105499601908, 'dropout_prob': 0.41225040505694927, 'force_n_layers': 2, 'force_kernel_size': 6, 'force_stride': 4, 'force_padding': 2, 'force_hidden_channels': 16, 'force_pooling_type': 'max', 'force_use_batch_norm': True, 'acc_n_layers': 5, 'acc_kernel_size': 7, 'acc_stride': 2, 'acc_padding': 3, 'acc_hidden_channels': 115, 'acc_pooling_type': 'max', 'acc_use_batch_norm': False}. Best is trial 31 with value: 0.2728074714541435.\n"
     ]
    },
    {
     "name": "stdout",
     "output_type": "stream",
     "text": [
      "Epoch 50/50, Training Loss: 0.04589594999949138, Validation Loss: 0.5017738118767738\n",
      "Epoch 10/50, Training Loss: 0.36484943826993305, Validation Loss: 0.34234824031591415\n",
      "Epoch 20/50, Training Loss: 0.2960272282361984, Validation Loss: 0.2977331206202507\n",
      "Epoch 30/50, Training Loss: 0.26116707821687063, Validation Loss: 0.28369196504354477\n",
      "Epoch 40/50, Training Loss: 0.23919249475002288, Validation Loss: 0.278958760201931\n"
     ]
    },
    {
     "name": "stderr",
     "output_type": "stream",
     "text": [
      "[I 2023-10-10 23:45:16,071] Trial 71 finished with value: 0.2876881919801235 and parameters: {'lr': 0.0007152973854851416, 'dropout_prob': 0.3730458642160378, 'force_n_layers': 2, 'force_kernel_size': 3, 'force_stride': 5, 'force_padding': 3, 'force_hidden_channels': 24, 'force_pooling_type': 'max', 'force_use_batch_norm': True, 'acc_n_layers': 4, 'acc_kernel_size': 7, 'acc_stride': 2, 'acc_padding': 6, 'acc_hidden_channels': 48, 'acc_pooling_type': 'max', 'acc_use_batch_norm': False}. Best is trial 31 with value: 0.2728074714541435.\n"
     ]
    },
    {
     "name": "stdout",
     "output_type": "stream",
     "text": [
      "Epoch 50/50, Training Loss: 0.21467214425404865, Validation Loss: 0.2876881919801235\n",
      "Epoch 10/50, Training Loss: 0.3588522791862488, Validation Loss: 0.3399421125650406\n",
      "Epoch 20/50, Training Loss: 0.2967032293478648, Validation Loss: 0.2820427604019642\n",
      "Epoch 30/50, Training Loss: 0.27018440663814547, Validation Loss: 0.2878595367074013\n",
      "Epoch 40/50, Training Loss: 0.24702513019243877, Validation Loss: 0.2795264273881912\n"
     ]
    },
    {
     "name": "stderr",
     "output_type": "stream",
     "text": [
      "[I 2023-10-10 23:45:35,434] Trial 72 finished with value: 0.27241842076182365 and parameters: {'lr': 0.0008562982971777093, 'dropout_prob': 0.44199688453727565, 'force_n_layers': 2, 'force_kernel_size': 3, 'force_stride': 5, 'force_padding': 3, 'force_hidden_channels': 32, 'force_pooling_type': 'max', 'force_use_batch_norm': True, 'acc_n_layers': 4, 'acc_kernel_size': 7, 'acc_stride': 2, 'acc_padding': 5, 'acc_hidden_channels': 43, 'acc_pooling_type': 'max', 'acc_use_batch_norm': False}. Best is trial 72 with value: 0.27241842076182365.\n"
     ]
    },
    {
     "name": "stdout",
     "output_type": "stream",
     "text": [
      "Epoch 50/50, Training Loss: 0.2291799455881119, Validation Loss: 0.27241842076182365\n",
      "Epoch 10/50, Training Loss: 0.3751519858837128, Validation Loss: 0.36234723031520844\n",
      "Epoch 20/50, Training Loss: 0.29466991623242694, Validation Loss: 0.29076000303030014\n",
      "Epoch 30/50, Training Loss: 0.2700551837682724, Validation Loss: 0.2954265847802162\n",
      "Epoch 40/50, Training Loss: 0.25107866724332173, Validation Loss: 0.271305613219738\n"
     ]
    },
    {
     "name": "stderr",
     "output_type": "stream",
     "text": [
      "[I 2023-10-10 23:45:49,714] Trial 73 finished with value: 0.26868293806910515 and parameters: {'lr': 0.0009171755571116779, 'dropout_prob': 0.4454297867812725, 'force_n_layers': 2, 'force_kernel_size': 3, 'force_stride': 5, 'force_padding': 4, 'force_hidden_channels': 32, 'force_pooling_type': 'max', 'force_use_batch_norm': True, 'acc_n_layers': 4, 'acc_kernel_size': 6, 'acc_stride': 2, 'acc_padding': 5, 'acc_hidden_channels': 35, 'acc_pooling_type': 'max', 'acc_use_batch_norm': False}. Best is trial 73 with value: 0.26868293806910515.\n"
     ]
    },
    {
     "name": "stdout",
     "output_type": "stream",
     "text": [
      "Epoch 50/50, Training Loss: 0.2343445599079132, Validation Loss: 0.26868293806910515\n",
      "Epoch 10/50, Training Loss: 0.42660386363665265, Validation Loss: 0.41980862617492676\n",
      "Epoch 20/50, Training Loss: 0.3423337757587433, Validation Loss: 0.3529787063598633\n",
      "Epoch 30/50, Training Loss: 0.2980472574631373, Validation Loss: 0.30915533751249313\n",
      "Epoch 40/50, Training Loss: 0.2775145302216212, Validation Loss: 0.3037920594215393\n"
     ]
    },
    {
     "name": "stderr",
     "output_type": "stream",
     "text": [
      "[I 2023-10-10 23:46:03,138] Trial 74 finished with value: 0.29252292588353157 and parameters: {'lr': 0.0009303877419773014, 'dropout_prob': 0.4501586963204394, 'force_n_layers': 1, 'force_kernel_size': 3, 'force_stride': 5, 'force_padding': 4, 'force_hidden_channels': 35, 'force_pooling_type': 'max', 'force_use_batch_norm': True, 'acc_n_layers': 3, 'acc_kernel_size': 5, 'acc_stride': 3, 'acc_padding': 4, 'acc_hidden_channels': 37, 'acc_pooling_type': 'max', 'acc_use_batch_norm': False}. Best is trial 73 with value: 0.26868293806910515.\n"
     ]
    },
    {
     "name": "stdout",
     "output_type": "stream",
     "text": [
      "Epoch 50/50, Training Loss: 0.26728031436602273, Validation Loss: 0.29252292588353157\n",
      "Epoch 10/50, Training Loss: 0.3525794247786204, Validation Loss: 0.35312993079423904\n",
      "Epoch 20/50, Training Loss: 0.2674230913321177, Validation Loss: 0.28862594813108444\n",
      "Epoch 30/50, Training Loss: 0.2319235364596049, Validation Loss: 0.33413872867822647\n",
      "Epoch 40/50, Training Loss: 0.18400616347789764, Validation Loss: 0.3305950053036213\n"
     ]
    },
    {
     "name": "stderr",
     "output_type": "stream",
     "text": [
      "[I 2023-10-10 23:46:34,463] Trial 75 finished with value: 0.39512091130018234 and parameters: {'lr': 0.0017399376590785723, 'dropout_prob': 0.43846640699105477, 'force_n_layers': 3, 'force_kernel_size': 3, 'force_stride': 5, 'force_padding': 5, 'force_hidden_channels': 245, 'force_pooling_type': 'avg', 'force_use_batch_norm': True, 'acc_n_layers': 5, 'acc_kernel_size': 6, 'acc_stride': 3, 'acc_padding': 5, 'acc_hidden_channels': 43, 'acc_pooling_type': 'max', 'acc_use_batch_norm': False}. Best is trial 73 with value: 0.26868293806910515.\n"
     ]
    },
    {
     "name": "stdout",
     "output_type": "stream",
     "text": [
      "Epoch 50/50, Training Loss: 0.13704576442639033, Validation Loss: 0.39512091130018234\n",
      "Epoch 10/50, Training Loss: 0.3645696500937144, Validation Loss: 0.3577091321349144\n",
      "Epoch 20/50, Training Loss: 0.2775260299444199, Validation Loss: 0.3128702864050865\n",
      "Epoch 30/50, Training Loss: 0.2326283226410548, Validation Loss: 0.2876002974808216\n",
      "Epoch 40/50, Training Loss: 0.1925188054641088, Validation Loss: 0.2845129556953907\n"
     ]
    },
    {
     "name": "stderr",
     "output_type": "stream",
     "text": [
      "[I 2023-10-10 23:47:17,236] Trial 76 finished with value: 0.29574278369545937 and parameters: {'lr': 0.00038472086443166336, 'dropout_prob': 0.4856761031806221, 'force_n_layers': 2, 'force_kernel_size': 3, 'force_stride': 6, 'force_padding': 4, 'force_hidden_channels': 45, 'force_pooling_type': 'max', 'force_use_batch_norm': True, 'acc_n_layers': 4, 'acc_kernel_size': 6, 'acc_stride': 1, 'acc_padding': 4, 'acc_hidden_channels': 70, 'acc_pooling_type': 'max', 'acc_use_batch_norm': True}. Best is trial 73 with value: 0.26868293806910515.\n"
     ]
    },
    {
     "name": "stdout",
     "output_type": "stream",
     "text": [
      "Epoch 50/50, Training Loss: 0.1548308660586675, Validation Loss: 0.29574278369545937\n",
      "Epoch 10/50, Training Loss: 0.6212404847145081, Validation Loss: 0.615212932229042\n",
      "Epoch 20/50, Training Loss: 0.42538400491078693, Validation Loss: 0.4102896600961685\n",
      "Epoch 30/50, Training Loss: 0.3098451574643453, Validation Loss: 0.3016824349761009\n",
      "Epoch 40/50, Training Loss: 0.28843255738417306, Validation Loss: 0.2896178402006626\n"
     ]
    },
    {
     "name": "stderr",
     "output_type": "stream",
     "text": [
      "[I 2023-10-10 23:47:42,629] Trial 77 finished with value: 0.29748253524303436 and parameters: {'lr': 0.0008622874455835928, 'dropout_prob': 0.47325045191804815, 'force_n_layers': 3, 'force_kernel_size': 3, 'force_stride': 6, 'force_padding': 6, 'force_hidden_channels': 38, 'force_pooling_type': 'avg', 'force_use_batch_norm': True, 'acc_n_layers': 6, 'acc_kernel_size': 5, 'acc_stride': 2, 'acc_padding': 5, 'acc_hidden_channels': 52, 'acc_pooling_type': 'avg', 'acc_use_batch_norm': False}. Best is trial 73 with value: 0.26868293806910515.\n"
     ]
    },
    {
     "name": "stdout",
     "output_type": "stream",
     "text": [
      "Epoch 50/50, Training Loss: 0.27673036356767017, Validation Loss: 0.29748253524303436\n",
      "Epoch 10/50, Training Loss: 0.43100763161977135, Validation Loss: 0.4167305752635002\n",
      "Epoch 20/50, Training Loss: 0.31967418392499286, Validation Loss: 0.29484906792640686\n",
      "Epoch 30/50, Training Loss: 0.2822693924109141, Validation Loss: 0.269372396171093\n",
      "Epoch 40/50, Training Loss: 0.2607710282007853, Validation Loss: 0.25791196152567863\n"
     ]
    },
    {
     "name": "stderr",
     "output_type": "stream",
     "text": [
      "[I 2023-10-10 23:47:56,278] Trial 78 finished with value: 0.25265607982873917 and parameters: {'lr': 0.0005452723485761036, 'dropout_prob': 0.42333881966763554, 'force_n_layers': 2, 'force_kernel_size': 3, 'force_stride': 5, 'force_padding': 4, 'force_hidden_channels': 65, 'force_pooling_type': 'max', 'force_use_batch_norm': True, 'acc_n_layers': 4, 'acc_kernel_size': 6, 'acc_stride': 2, 'acc_padding': 5, 'acc_hidden_channels': 33, 'acc_pooling_type': 'max', 'acc_use_batch_norm': False}. Best is trial 78 with value: 0.25265607982873917.\n"
     ]
    },
    {
     "name": "stdout",
     "output_type": "stream",
     "text": [
      "Epoch 50/50, Training Loss: 0.23764432569344837, Validation Loss: 0.25265607982873917\n",
      "Epoch 10/50, Training Loss: 0.4304936150709788, Validation Loss: 0.41434837132692337\n",
      "Epoch 20/50, Training Loss: 0.34683051109313967, Validation Loss: 0.3496188670396805\n",
      "Epoch 30/50, Training Loss: 0.31317906379699706, Validation Loss: 0.3071209564805031\n",
      "Epoch 40/50, Training Loss: 0.2958000699679057, Validation Loss: 0.2997337505221367\n"
     ]
    },
    {
     "name": "stderr",
     "output_type": "stream",
     "text": [
      "[I 2023-10-10 23:48:07,646] Trial 79 finished with value: 0.2931857258081436 and parameters: {'lr': 0.0011056529027719923, 'dropout_prob': 0.44809420579290143, 'force_n_layers': 2, 'force_kernel_size': 3, 'force_stride': 5, 'force_padding': 5, 'force_hidden_channels': 92, 'force_pooling_type': 'avg', 'force_use_batch_norm': True, 'acc_n_layers': 3, 'acc_kernel_size': 6, 'acc_stride': 7, 'acc_padding': 4, 'acc_hidden_channels': 34, 'acc_pooling_type': 'max', 'acc_use_batch_norm': False}. Best is trial 78 with value: 0.25265607982873917.\n"
     ]
    },
    {
     "name": "stdout",
     "output_type": "stream",
     "text": [
      "Epoch 50/50, Training Loss: 0.27675411899884544, Validation Loss: 0.2931857258081436\n",
      "Epoch 10/50, Training Loss: 0.45009437998135887, Validation Loss: 0.44335099309682846\n",
      "Epoch 20/50, Training Loss: 0.34262025554974873, Validation Loss: 0.35235966742038727\n",
      "Epoch 30/50, Training Loss: 0.2958169678846995, Validation Loss: 0.32003023475408554\n",
      "Epoch 40/50, Training Loss: 0.2758368641138077, Validation Loss: 0.3133937120437622\n"
     ]
    },
    {
     "name": "stderr",
     "output_type": "stream",
     "text": [
      "[I 2023-10-10 23:48:36,003] Trial 80 finished with value: 0.30697333812713623 and parameters: {'lr': 0.0005142859182209529, 'dropout_prob': 0.4642655075311207, 'force_n_layers': 5, 'force_kernel_size': 3, 'force_stride': 6, 'force_padding': 4, 'force_hidden_channels': 67, 'force_pooling_type': 'max', 'force_use_batch_norm': True, 'acc_n_layers': 5, 'acc_kernel_size': 7, 'acc_stride': 1, 'acc_padding': 5, 'acc_hidden_channels': 19, 'acc_pooling_type': 'max', 'acc_use_batch_norm': False}. Best is trial 78 with value: 0.25265607982873917.\n"
     ]
    },
    {
     "name": "stdout",
     "output_type": "stream",
     "text": [
      "Epoch 50/50, Training Loss: 0.26119940479596454, Validation Loss: 0.30697333812713623\n",
      "Epoch 10/50, Training Loss: 0.4141738633314768, Validation Loss: 0.3940649554133415\n",
      "Epoch 20/50, Training Loss: 0.3147134403387705, Validation Loss: 0.3057597726583481\n",
      "Epoch 30/50, Training Loss: 0.27640277445316314, Validation Loss: 0.2913717180490494\n",
      "Epoch 40/50, Training Loss: 0.264981664220492, Validation Loss: 0.2890443317592144\n"
     ]
    },
    {
     "name": "stderr",
     "output_type": "stream",
     "text": [
      "[I 2023-10-10 23:48:53,208] Trial 81 finished with value: 0.2878333702683449 and parameters: {'lr': 0.0005693860211710556, 'dropout_prob': 0.42184235238577433, 'force_n_layers': 2, 'force_kernel_size': 3, 'force_stride': 5, 'force_padding': 3, 'force_hidden_channels': 51, 'force_pooling_type': 'max', 'force_use_batch_norm': True, 'acc_n_layers': 4, 'acc_kernel_size': 6, 'acc_stride': 2, 'acc_padding': 5, 'acc_hidden_channels': 31, 'acc_pooling_type': 'max', 'acc_use_batch_norm': False}. Best is trial 78 with value: 0.25265607982873917.\n"
     ]
    },
    {
     "name": "stdout",
     "output_type": "stream",
     "text": [
      "Epoch 50/50, Training Loss: 0.2469664881626765, Validation Loss: 0.2878333702683449\n",
      "Epoch 10/50, Training Loss: 0.4085196554660797, Validation Loss: 0.39340078085660934\n",
      "Epoch 20/50, Training Loss: 0.3141305834054947, Validation Loss: 0.3044753074645996\n",
      "Epoch 30/50, Training Loss: 0.2827097773551941, Validation Loss: 0.29438479244709015\n",
      "Epoch 40/50, Training Loss: 0.2690320432186127, Validation Loss: 0.28476085886359215\n"
     ]
    },
    {
     "name": "stderr",
     "output_type": "stream",
     "text": [
      "[I 2023-10-10 23:49:12,897] Trial 82 finished with value: 0.28147054463624954 and parameters: {'lr': 0.00039338846576941565, 'dropout_prob': 0.39546335009488315, 'force_n_layers': 2, 'force_kernel_size': 3, 'force_stride': 5, 'force_padding': 4, 'force_hidden_channels': 81, 'force_pooling_type': 'max', 'force_use_batch_norm': True, 'acc_n_layers': 4, 'acc_kernel_size': 5, 'acc_stride': 2, 'acc_padding': 5, 'acc_hidden_channels': 60, 'acc_pooling_type': 'max', 'acc_use_batch_norm': False}. Best is trial 78 with value: 0.25265607982873917.\n"
     ]
    },
    {
     "name": "stdout",
     "output_type": "stream",
     "text": [
      "Epoch 50/50, Training Loss: 0.25945004522800447, Validation Loss: 0.28147054463624954\n",
      "Epoch 10/50, Training Loss: 0.4295239488283793, Validation Loss: 0.4161674529314041\n",
      "Epoch 20/50, Training Loss: 0.3494830787181854, Validation Loss: 0.34657833725214005\n",
      "Epoch 30/50, Training Loss: 0.31413973967234293, Validation Loss: 0.32334890216588974\n",
      "Epoch 40/50, Training Loss: 0.29245923658212025, Validation Loss: 0.3018200993537903\n"
     ]
    },
    {
     "name": "stderr",
     "output_type": "stream",
     "text": [
      "[I 2023-10-10 23:49:31,701] Trial 83 finished with value: 0.28942861407995224 and parameters: {'lr': 0.00039956777014839295, 'dropout_prob': 0.39699660983559193, 'force_n_layers': 1, 'force_kernel_size': 3, 'force_stride': 5, 'force_padding': 4, 'force_hidden_channels': 98, 'force_pooling_type': 'max', 'force_use_batch_norm': True, 'acc_n_layers': 4, 'acc_kernel_size': 5, 'acc_stride': 2, 'acc_padding': 5, 'acc_hidden_channels': 59, 'acc_pooling_type': 'max', 'acc_use_batch_norm': False}. Best is trial 78 with value: 0.25265607982873917.\n"
     ]
    },
    {
     "name": "stdout",
     "output_type": "stream",
     "text": [
      "Epoch 50/50, Training Loss: 0.2742599775393804, Validation Loss: 0.28942861407995224\n",
      "Epoch 10/50, Training Loss: 0.38880937894185386, Validation Loss: 0.3785431534051895\n",
      "Epoch 20/50, Training Loss: 0.2761045902967453, Validation Loss: 0.27652356401085854\n",
      "Epoch 30/50, Training Loss: 0.2522917846838633, Validation Loss: 0.27342749014496803\n",
      "Epoch 40/50, Training Loss: 0.23198083738485972, Validation Loss: 0.26187416911125183\n"
     ]
    },
    {
     "name": "stderr",
     "output_type": "stream",
     "text": [
      "[I 2023-10-10 23:49:49,308] Trial 84 finished with value: 0.27630509436130524 and parameters: {'lr': 0.0008277105203790591, 'dropout_prob': 0.4214617938758682, 'force_n_layers': 2, 'force_kernel_size': 3, 'force_stride': 5, 'force_padding': 5, 'force_hidden_channels': 86, 'force_pooling_type': 'max', 'force_use_batch_norm': True, 'acc_n_layers': 4, 'acc_kernel_size': 5, 'acc_stride': 2, 'acc_padding': 6, 'acc_hidden_channels': 41, 'acc_pooling_type': 'max', 'acc_use_batch_norm': False}. Best is trial 78 with value: 0.25265607982873917.\n"
     ]
    },
    {
     "name": "stdout",
     "output_type": "stream",
     "text": [
      "Epoch 50/50, Training Loss: 0.21864561239878336, Validation Loss: 0.27630509436130524\n",
      "Epoch 10/50, Training Loss: 0.3754421313603719, Validation Loss: 0.3692648187279701\n",
      "Epoch 20/50, Training Loss: 0.28502423167228697, Validation Loss: 0.2978181540966034\n",
      "Epoch 30/50, Training Loss: 0.24974558254082999, Validation Loss: 0.304590679705143\n",
      "Epoch 40/50, Training Loss: 0.22531751692295074, Validation Loss: 0.30372244864702225\n"
     ]
    },
    {
     "name": "stderr",
     "output_type": "stream",
     "text": [
      "[I 2023-10-10 23:50:07,203] Trial 85 finished with value: 0.2977520674467087 and parameters: {'lr': 0.0008387647325487202, 'dropout_prob': 0.42475620479450876, 'force_n_layers': 2, 'force_kernel_size': 3, 'force_stride': 5, 'force_padding': 4, 'force_hidden_channels': 82, 'force_pooling_type': 'max', 'force_use_batch_norm': True, 'acc_n_layers': 4, 'acc_kernel_size': 5, 'acc_stride': 2, 'acc_padding': 6, 'acc_hidden_channels': 41, 'acc_pooling_type': 'max', 'acc_use_batch_norm': False}. Best is trial 78 with value: 0.25265607982873917.\n"
     ]
    },
    {
     "name": "stdout",
     "output_type": "stream",
     "text": [
      "Epoch 50/50, Training Loss: 0.1944122552871704, Validation Loss: 0.2977520674467087\n",
      "Epoch 10/50, Training Loss: 0.47191726565361025, Validation Loss: 0.4589906632900238\n",
      "Epoch 20/50, Training Loss: 0.3718319098154704, Validation Loss: 0.36503423005342484\n",
      "Epoch 30/50, Training Loss: 0.32281651298205055, Validation Loss: 0.3269791975617409\n",
      "Epoch 40/50, Training Loss: 0.2978863795598348, Validation Loss: 0.30793222039937973\n"
     ]
    },
    {
     "name": "stderr",
     "output_type": "stream",
     "text": [
      "[I 2023-10-10 23:50:27,052] Trial 86 finished with value: 0.29524774849414825 and parameters: {'lr': 0.0002966252970567852, 'dropout_prob': 0.4426252701235052, 'force_n_layers': 1, 'force_kernel_size': 4, 'force_stride': 5, 'force_padding': 5, 'force_hidden_channels': 113, 'force_pooling_type': 'max', 'force_use_batch_norm': True, 'acc_n_layers': 4, 'acc_kernel_size': 5, 'acc_stride': 2, 'acc_padding': 3, 'acc_hidden_channels': 63, 'acc_pooling_type': 'max', 'acc_use_batch_norm': False}. Best is trial 78 with value: 0.25265607982873917.\n"
     ]
    },
    {
     "name": "stdout",
     "output_type": "stream",
     "text": [
      "Epoch 50/50, Training Loss: 0.2799503535032272, Validation Loss: 0.29524774849414825\n",
      "Epoch 10/50, Training Loss: 0.40666671593983966, Validation Loss: 0.39482657611370087\n",
      "Epoch 20/50, Training Loss: 0.32953825990358987, Validation Loss: 0.3915940374135971\n",
      "Epoch 30/50, Training Loss: 0.2933918704589208, Validation Loss: 0.3362157493829727\n",
      "Epoch 40/50, Training Loss: 0.27018062174320223, Validation Loss: 0.309689536690712\n"
     ]
    },
    {
     "name": "stderr",
     "output_type": "stream",
     "text": [
      "[I 2023-10-10 23:50:38,676] Trial 87 finished with value: 0.3444586433470249 and parameters: {'lr': 0.0014399398272498382, 'dropout_prob': 0.45681191798955756, 'force_n_layers': 2, 'force_kernel_size': 3, 'force_stride': 5, 'force_padding': 6, 'force_hidden_channels': 75, 'force_pooling_type': 'max', 'force_use_batch_norm': True, 'acc_n_layers': 3, 'acc_kernel_size': 5, 'acc_stride': 6, 'acc_padding': 4, 'acc_hidden_channels': 44, 'acc_pooling_type': 'max', 'acc_use_batch_norm': False}. Best is trial 78 with value: 0.25265607982873917.\n"
     ]
    },
    {
     "name": "stdout",
     "output_type": "stream",
     "text": [
      "Epoch 50/50, Training Loss: 0.25549791554609935, Validation Loss: 0.3444586433470249\n",
      "Epoch 10/50, Training Loss: 0.2884762038787206, Validation Loss: 0.29123129695653915\n",
      "Epoch 20/50, Training Loss: 0.23863392372926076, Validation Loss: 0.2694554626941681\n",
      "Epoch 30/50, Training Loss: 0.17663869361082712, Validation Loss: 0.28757523745298386\n",
      "Epoch 40/50, Training Loss: 0.12807088444630305, Validation Loss: 0.29697901755571365\n"
     ]
    },
    {
     "name": "stderr",
     "output_type": "stream",
     "text": [
      "[I 2023-10-10 23:53:25,865] Trial 88 finished with value: 0.3817640617489815 and parameters: {'lr': 0.0010228691053982921, 'dropout_prob': 0.4844068913240568, 'force_n_layers': 2, 'force_kernel_size': 3, 'force_stride': 5, 'force_padding': 10, 'force_hidden_channels': 64, 'force_pooling_type': 'max', 'force_use_batch_norm': True, 'acc_n_layers': 4, 'acc_kernel_size': 5, 'acc_stride': 2, 'acc_padding': 4, 'acc_hidden_channels': 200, 'acc_pooling_type': 'max', 'acc_use_batch_norm': False}. Best is trial 78 with value: 0.25265607982873917.\n"
     ]
    },
    {
     "name": "stdout",
     "output_type": "stream",
     "text": [
      "Epoch 50/50, Training Loss: 0.07990410303076108, Validation Loss: 0.3817640617489815\n",
      "Epoch 10/50, Training Loss: 0.39981170097986857, Validation Loss: 0.3809541165828705\n",
      "Epoch 20/50, Training Loss: 0.2680582940578461, Validation Loss: 0.2750442139804363\n",
      "Epoch 30/50, Training Loss: 0.22864208221435547, Validation Loss: 0.2833552360534668\n",
      "Epoch 40/50, Training Loss: 0.1852998544772466, Validation Loss: 0.2899637371301651\n"
     ]
    },
    {
     "name": "stderr",
     "output_type": "stream",
     "text": [
      "[I 2023-10-10 23:53:47,558] Trial 89 finished with value: 0.3262978047132492 and parameters: {'lr': 0.00045323651284859517, 'dropout_prob': 0.4270071998594623, 'force_n_layers': 2, 'force_kernel_size': 4, 'force_stride': 4, 'force_padding': 4, 'force_hidden_channels': 132, 'force_pooling_type': 'max', 'force_use_batch_norm': True, 'acc_n_layers': 4, 'acc_kernel_size': 5, 'acc_stride': 3, 'acc_padding': 6, 'acc_hidden_channels': 76, 'acc_pooling_type': 'max', 'acc_use_batch_norm': True}. Best is trial 78 with value: 0.25265607982873917.\n"
     ]
    },
    {
     "name": "stdout",
     "output_type": "stream",
     "text": [
      "Epoch 50/50, Training Loss: 0.1461724986632665, Validation Loss: 0.3262978047132492\n",
      "Epoch 10/50, Training Loss: 0.6199533899625143, Validation Loss: 0.6171519309282303\n",
      "Epoch 20/50, Training Loss: 0.479142838716507, Validation Loss: 0.4853799268603325\n",
      "Epoch 30/50, Training Loss: 0.42991469701131185, Validation Loss: 0.4377804175019264\n",
      "Epoch 40/50, Training Loss: 0.39750216801961263, Validation Loss: 0.40488459914922714\n"
     ]
    },
    {
     "name": "stderr",
     "output_type": "stream",
     "text": [
      "[I 2023-10-10 23:54:01,875] Trial 90 finished with value: 0.38074515014886856 and parameters: {'lr': 0.0002688272566024984, 'dropout_prob': 0.46584414521571105, 'force_n_layers': 1, 'force_kernel_size': 3, 'force_stride': 5, 'force_padding': 3, 'force_hidden_channels': 59, 'force_pooling_type': 'max', 'force_use_batch_norm': False, 'acc_n_layers': 3, 'acc_kernel_size': 5, 'acc_stride': 2, 'acc_padding': 5, 'acc_hidden_channels': 35, 'acc_pooling_type': 'avg', 'acc_use_batch_norm': False}. Best is trial 78 with value: 0.25265607982873917.\n"
     ]
    },
    {
     "name": "stdout",
     "output_type": "stream",
     "text": [
      "Epoch 50/50, Training Loss: 0.3744167149066925, Validation Loss: 0.38074515014886856\n",
      "Epoch 10/50, Training Loss: 0.4397479931513468, Validation Loss: 0.4185236170887947\n",
      "Epoch 20/50, Training Loss: 0.33334583838780724, Validation Loss: 0.3109697178006172\n",
      "Epoch 30/50, Training Loss: 0.2852161486943563, Validation Loss: 0.275774784386158\n",
      "Epoch 40/50, Training Loss: 0.2738980084657669, Validation Loss: 0.2793456092476845\n"
     ]
    },
    {
     "name": "stderr",
     "output_type": "stream",
     "text": [
      "[I 2023-10-10 23:54:20,362] Trial 91 finished with value: 0.277355432510376 and parameters: {'lr': 0.00054098527946474, 'dropout_prob': 0.41006583351128234, 'force_n_layers': 3, 'force_kernel_size': 3, 'force_stride': 5, 'force_padding': 5, 'force_hidden_channels': 88, 'force_pooling_type': 'avg', 'force_use_batch_norm': True, 'acc_n_layers': 5, 'acc_kernel_size': 6, 'acc_stride': 2, 'acc_padding': 8, 'acc_hidden_channels': 24, 'acc_pooling_type': 'max', 'acc_use_batch_norm': False}. Best is trial 78 with value: 0.25265607982873917.\n"
     ]
    },
    {
     "name": "stdout",
     "output_type": "stream",
     "text": [
      "Epoch 50/50, Training Loss: 0.26768193145593006, Validation Loss: 0.277355432510376\n",
      "Epoch 10/50, Training Loss: 0.4213394641876221, Validation Loss: 0.407820887863636\n",
      "Epoch 20/50, Training Loss: 0.32403564453125, Validation Loss: 0.3072497397661209\n",
      "Epoch 30/50, Training Loss: 0.2807110697031021, Validation Loss: 0.28403087705373764\n",
      "Epoch 40/50, Training Loss: 0.2640024642149607, Validation Loss: 0.2877470552921295\n"
     ]
    },
    {
     "name": "stderr",
     "output_type": "stream",
     "text": [
      "[I 2023-10-10 23:54:39,194] Trial 92 finished with value: 0.2838680148124695 and parameters: {'lr': 0.0005854971705948637, 'dropout_prob': 0.41657902759451604, 'force_n_layers': 2, 'force_kernel_size': 3, 'force_stride': 5, 'force_padding': 5, 'force_hidden_channels': 87, 'force_pooling_type': 'max', 'force_use_batch_norm': True, 'acc_n_layers': 5, 'acc_kernel_size': 6, 'acc_stride': 2, 'acc_padding': 9, 'acc_hidden_channels': 27, 'acc_pooling_type': 'max', 'acc_use_batch_norm': False}. Best is trial 78 with value: 0.25265607982873917.\n"
     ]
    },
    {
     "name": "stdout",
     "output_type": "stream",
     "text": [
      "Epoch 50/50, Training Loss: 0.2499760429064433, Validation Loss: 0.2838680148124695\n",
      "Epoch 10/50, Training Loss: 0.48147775133450826, Validation Loss: 0.4711798131465912\n",
      "Epoch 20/50, Training Loss: 0.36095823645591735, Validation Loss: 0.3510604649782181\n",
      "Epoch 30/50, Training Loss: 0.3112366755803426, Validation Loss: 0.3033198192715645\n",
      "Epoch 40/50, Training Loss: 0.2874074290196101, Validation Loss: 0.2866475284099579\n"
     ]
    },
    {
     "name": "stderr",
     "output_type": "stream",
     "text": [
      "[I 2023-10-10 23:54:57,181] Trial 93 finished with value: 0.2824959233403206 and parameters: {'lr': 0.0003811854158833781, 'dropout_prob': 0.43362411572207243, 'force_n_layers': 3, 'force_kernel_size': 3, 'force_stride': 5, 'force_padding': 5, 'force_hidden_channels': 114, 'force_pooling_type': 'avg', 'force_use_batch_norm': True, 'acc_n_layers': 4, 'acc_kernel_size': 6, 'acc_stride': 2, 'acc_padding': 10, 'acc_hidden_channels': 22, 'acc_pooling_type': 'max', 'acc_use_batch_norm': False}. Best is trial 78 with value: 0.25265607982873917.\n"
     ]
    },
    {
     "name": "stdout",
     "output_type": "stream",
     "text": [
      "Epoch 50/50, Training Loss: 0.27557743291060127, Validation Loss: 0.2824959233403206\n",
      "Epoch 10/50, Training Loss: 0.6046323458353678, Validation Loss: 0.6055107563734055\n",
      "Epoch 20/50, Training Loss: 0.5471695780754089, Validation Loss: 0.5424311310052872\n",
      "Epoch 30/50, Training Loss: 0.5049468437830608, Validation Loss: 0.5097789764404297\n",
      "Epoch 40/50, Training Loss: 0.4837132136027018, Validation Loss: 0.4924051910638809\n"
     ]
    },
    {
     "name": "stderr",
     "output_type": "stream",
     "text": [
      "[I 2023-10-10 23:55:38,972] Trial 94 finished with value: 0.4809733107686043 and parameters: {'lr': 0.0007570655124311592, 'dropout_prob': 0.38304760973512425, 'force_n_layers': 2, 'force_kernel_size': 7, 'force_stride': 6, 'force_padding': 6, 'force_hidden_channels': 78, 'force_pooling_type': 'max', 'force_use_batch_norm': True, 'acc_n_layers': 1, 'acc_kernel_size': 6, 'acc_stride': 2, 'acc_padding': 8, 'acc_hidden_channels': 180, 'acc_pooling_type': 'max', 'acc_use_batch_norm': False}. Best is trial 78 with value: 0.25265607982873917.\n"
     ]
    },
    {
     "name": "stdout",
     "output_type": "stream",
     "text": [
      "Epoch 50/50, Training Loss: 0.4689878980318705, Validation Loss: 0.4809733107686043\n",
      "Epoch 10/50, Training Loss: 0.4708229740460714, Validation Loss: 0.4751396179199219\n",
      "Epoch 20/50, Training Loss: 0.37121930917104085, Validation Loss: 0.373319536447525\n",
      "Epoch 30/50, Training Loss: 0.31993021766344704, Validation Loss: 0.3354632779955864\n",
      "Epoch 40/50, Training Loss: 0.29098600645860034, Validation Loss: 0.3268566206097603\n"
     ]
    },
    {
     "name": "stderr",
     "output_type": "stream",
     "text": [
      "[I 2023-10-10 23:55:59,025] Trial 95 finished with value: 0.31489722430706024 and parameters: {'lr': 0.0005261507835917755, 'dropout_prob': 0.4060564501318839, 'force_n_layers': 5, 'force_kernel_size': 3, 'force_stride': 5, 'force_padding': 5, 'force_hidden_channels': 91, 'force_pooling_type': 'max', 'force_use_batch_norm': True, 'acc_n_layers': 4, 'acc_kernel_size': 4, 'acc_stride': 3, 'acc_padding': 9, 'acc_hidden_channels': 48, 'acc_pooling_type': 'max', 'acc_use_batch_norm': False}. Best is trial 78 with value: 0.25265607982873917.\n"
     ]
    },
    {
     "name": "stdout",
     "output_type": "stream",
     "text": [
      "Epoch 50/50, Training Loss: 0.2742874433596929, Validation Loss: 0.31489722430706024\n",
      "Epoch 10/50, Training Loss: 0.35693228244781494, Validation Loss: 0.346448689699173\n",
      "Epoch 20/50, Training Loss: 0.2833041936159134, Validation Loss: 0.2888532988727093\n",
      "Epoch 30/50, Training Loss: 0.2550621539354324, Validation Loss: 0.3004014194011688\n",
      "Epoch 40/50, Training Loss: 0.2414903849363327, Validation Loss: 0.28187042474746704\n"
     ]
    },
    {
     "name": "stderr",
     "output_type": "stream",
     "text": [
      "[I 2023-10-10 23:56:24,801] Trial 96 finished with value: 0.3257458582520485 and parameters: {'lr': 0.0008262458060910968, 'dropout_prob': 0.44223897864801437, 'force_n_layers': 4, 'force_kernel_size': 3, 'force_stride': 5, 'force_padding': 4, 'force_hidden_channels': 101, 'force_pooling_type': 'avg', 'force_use_batch_norm': True, 'acc_n_layers': 4, 'acc_kernel_size': 5, 'acc_stride': 2, 'acc_padding': 8, 'acc_hidden_channels': 54, 'acc_pooling_type': 'max', 'acc_use_batch_norm': False}. Best is trial 78 with value: 0.25265607982873917.\n"
     ]
    },
    {
     "name": "stdout",
     "output_type": "stream",
     "text": [
      "Epoch 50/50, Training Loss: 0.21392876009146372, Validation Loss: 0.3257458582520485\n",
      "Epoch 10/50, Training Loss: 0.3419292906920115, Validation Loss: 0.3126904368400574\n",
      "Epoch 20/50, Training Loss: 0.27612858613332114, Validation Loss: 0.27040860429406166\n",
      "Epoch 30/50, Training Loss: 0.2313707838455836, Validation Loss: 0.2645907364785671\n",
      "Epoch 40/50, Training Loss: 0.19138674636681874, Validation Loss: 0.28385595232248306\n"
     ]
    },
    {
     "name": "stderr",
     "output_type": "stream",
     "text": [
      "[I 2023-10-10 23:56:44,889] Trial 97 finished with value: 0.30273299664258957 and parameters: {'lr': 0.0010327054546644637, 'dropout_prob': 0.4560218854021788, 'force_n_layers': 3, 'force_kernel_size': 3, 'force_stride': 6, 'force_padding': 6, 'force_hidden_channels': 22, 'force_pooling_type': 'max', 'force_use_batch_norm': True, 'acc_n_layers': 5, 'acc_kernel_size': 6, 'acc_stride': 2, 'acc_padding': 5, 'acc_hidden_channels': 40, 'acc_pooling_type': 'max', 'acc_use_batch_norm': False}. Best is trial 78 with value: 0.25265607982873917.\n"
     ]
    },
    {
     "name": "stdout",
     "output_type": "stream",
     "text": [
      "Epoch 50/50, Training Loss: 0.1606434871753057, Validation Loss: 0.30273299664258957\n",
      "Epoch 10/50, Training Loss: 0.45205814838409425, Validation Loss: 0.4600832313299179\n",
      "Epoch 20/50, Training Loss: 0.36119861404101056, Validation Loss: 0.3788316026329994\n",
      "Epoch 30/50, Training Loss: 0.3170362035433451, Validation Loss: 0.32002098113298416\n",
      "Epoch 40/50, Training Loss: 0.2981421520312627, Validation Loss: 0.312234491109848\n"
     ]
    },
    {
     "name": "stderr",
     "output_type": "stream",
     "text": [
      "[I 2023-10-10 23:57:01,896] Trial 98 finished with value: 0.2980876713991165 and parameters: {'lr': 0.0004536106482138332, 'dropout_prob': 0.3946138614206577, 'force_n_layers': 2, 'force_kernel_size': 4, 'force_stride': 5, 'force_padding': 4, 'force_hidden_channels': 30, 'force_pooling_type': 'max', 'force_use_batch_norm': True, 'acc_n_layers': 4, 'acc_kernel_size': 6, 'acc_stride': 2, 'acc_padding': 6, 'acc_hidden_channels': 30, 'acc_pooling_type': 'max', 'acc_use_batch_norm': False}. Best is trial 78 with value: 0.25265607982873917.\n"
     ]
    },
    {
     "name": "stdout",
     "output_type": "stream",
     "text": [
      "Epoch 50/50, Training Loss: 0.28747320572535195, Validation Loss: 0.2980876713991165\n",
      "Epoch 10/50, Training Loss: 0.40621379017829895, Validation Loss: 0.3764975517988205\n",
      "Epoch 20/50, Training Loss: 0.29997085928916933, Validation Loss: 0.31615206599235535\n",
      "Epoch 30/50, Training Loss: 0.2705411007006963, Validation Loss: 0.2954057976603508\n",
      "Epoch 40/50, Training Loss: 0.2499145895242691, Validation Loss: 0.2746793329715729\n"
     ]
    },
    {
     "name": "stderr",
     "output_type": "stream",
     "text": [
      "[I 2023-10-10 23:57:24,015] Trial 99 finished with value: 0.29955538362264633 and parameters: {'lr': 0.0005957706728047546, 'dropout_prob': 0.41454358326700197, 'force_n_layers': 2, 'force_kernel_size': 3, 'force_stride': 6, 'force_padding': 5, 'force_hidden_channels': 123, 'force_pooling_type': 'avg', 'force_use_batch_norm': True, 'acc_n_layers': 5, 'acc_kernel_size': 5, 'acc_stride': 2, 'acc_padding': 4, 'acc_hidden_channels': 61, 'acc_pooling_type': 'max', 'acc_use_batch_norm': False}. Best is trial 78 with value: 0.25265607982873917.\n"
     ]
    },
    {
     "name": "stdout",
     "output_type": "stream",
     "text": [
      "Epoch 50/50, Training Loss: 0.22780882815519968, Validation Loss: 0.29955538362264633\n",
      "Epoch 10/50, Training Loss: 0.30343269407749174, Validation Loss: 0.3031196892261505\n",
      "Epoch 20/50, Training Loss: 0.24691175123055775, Validation Loss: 0.2862291745841503\n",
      "Epoch 30/50, Training Loss: 0.2013518840074539, Validation Loss: 0.3108678124845028\n",
      "Epoch 40/50, Training Loss: 0.15092053810755413, Validation Loss: 0.31665490940213203\n"
     ]
    },
    {
     "name": "stderr",
     "output_type": "stream",
     "text": [
      "[I 2023-10-10 23:57:41,586] Trial 100 finished with value: 0.37858492881059647 and parameters: {'lr': 0.0013404105678277902, 'dropout_prob': 0.47549759663512564, 'force_n_layers': 2, 'force_kernel_size': 4, 'force_stride': 4, 'force_padding': 3, 'force_hidden_channels': 86, 'force_pooling_type': 'max', 'force_use_batch_norm': True, 'acc_n_layers': 4, 'acc_kernel_size': 6, 'acc_stride': 3, 'acc_padding': 9, 'acc_hidden_channels': 69, 'acc_pooling_type': 'max', 'acc_use_batch_norm': False}. Best is trial 78 with value: 0.25265607982873917.\n"
     ]
    },
    {
     "name": "stdout",
     "output_type": "stream",
     "text": [
      "Epoch 50/50, Training Loss: 0.11039470334847769, Validation Loss: 0.37858492881059647\n",
      "Epoch 10/50, Training Loss: 0.4413917462031047, Validation Loss: 0.4242921769618988\n",
      "Epoch 20/50, Training Loss: 0.3598257799943288, Validation Loss: 0.3601887673139572\n",
      "Epoch 30/50, Training Loss: 0.30880648295084634, Validation Loss: 0.3254399448633194\n",
      "Epoch 40/50, Training Loss: 0.28205124139785764, Validation Loss: 0.3064376562833786\n"
     ]
    },
    {
     "name": "stderr",
     "output_type": "stream",
     "text": [
      "[I 2023-10-10 23:58:08,137] Trial 101 finished with value: 0.2971407622098923 and parameters: {'lr': 0.0006553644983640914, 'dropout_prob': 0.40057110467339885, 'force_n_layers': 3, 'force_kernel_size': 3, 'force_stride': 4, 'force_padding': 5, 'force_hidden_channels': 80, 'force_pooling_type': 'avg', 'force_use_batch_norm': True, 'acc_n_layers': 6, 'acc_kernel_size': 7, 'acc_stride': 1, 'acc_padding': 7, 'acc_hidden_channels': 19, 'acc_pooling_type': 'max', 'acc_use_batch_norm': False}. Best is trial 78 with value: 0.25265607982873917.\n"
     ]
    },
    {
     "name": "stdout",
     "output_type": "stream",
     "text": [
      "Epoch 50/50, Training Loss: 0.2681356777747472, Validation Loss: 0.2971407622098923\n",
      "Epoch 10/50, Training Loss: 0.3185732861359914, Validation Loss: 0.31228067725896835\n",
      "Epoch 20/50, Training Loss: 0.25804250737031303, Validation Loss: 0.2806737422943115\n",
      "Epoch 30/50, Training Loss: 0.234390327334404, Validation Loss: 0.2939106337726116\n",
      "Epoch 40/50, Training Loss: 0.20577336549758912, Validation Loss: 0.31291257590055466\n"
     ]
    },
    {
     "name": "stderr",
     "output_type": "stream",
     "text": [
      "[I 2023-10-10 23:58:35,570] Trial 102 finished with value: 0.30358103662729263 and parameters: {'lr': 0.0011650909968433495, 'dropout_prob': 0.44329729683578634, 'force_n_layers': 2, 'force_kernel_size': 3, 'force_stride': 7, 'force_padding': 4, 'force_hidden_channels': 74, 'force_pooling_type': 'avg', 'force_use_batch_norm': True, 'acc_n_layers': 6, 'acc_kernel_size': 7, 'acc_stride': 1, 'acc_padding': 7, 'acc_hidden_channels': 26, 'acc_pooling_type': 'max', 'acc_use_batch_norm': False}. Best is trial 78 with value: 0.25265607982873917.\n"
     ]
    },
    {
     "name": "stdout",
     "output_type": "stream",
     "text": [
      "Epoch 50/50, Training Loss: 0.17899276713530224, Validation Loss: 0.30358103662729263\n",
      "Epoch 10/50, Training Loss: 0.4634643713633219, Validation Loss: 0.46031247079372406\n",
      "Epoch 20/50, Training Loss: 0.3599860151608785, Validation Loss: 0.33107105642557144\n",
      "Epoch 30/50, Training Loss: 0.3227955420811971, Validation Loss: 0.30696552991867065\n",
      "Epoch 40/50, Training Loss: 0.28976393938064576, Validation Loss: 0.29955948144197464\n"
     ]
    },
    {
     "name": "stderr",
     "output_type": "stream",
     "text": [
      "[I 2023-10-10 23:58:55,574] Trial 103 finished with value: 0.28972800076007843 and parameters: {'lr': 0.0008038340639627688, 'dropout_prob': 0.4311076331613605, 'force_n_layers': 4, 'force_kernel_size': 3, 'force_stride': 5, 'force_padding': 5, 'force_hidden_channels': 96, 'force_pooling_type': 'avg', 'force_use_batch_norm': True, 'acc_n_layers': 6, 'acc_kernel_size': 7, 'acc_stride': 2, 'acc_padding': 8, 'acc_hidden_channels': 16, 'acc_pooling_type': 'max', 'acc_use_batch_norm': False}. Best is trial 78 with value: 0.25265607982873917.\n"
     ]
    },
    {
     "name": "stdout",
     "output_type": "stream",
     "text": [
      "Epoch 50/50, Training Loss: 0.27112308343251545, Validation Loss: 0.28972800076007843\n",
      "Epoch 10/50, Training Loss: 0.4344589034716288, Validation Loss: 0.40977245569229126\n",
      "Epoch 20/50, Training Loss: 0.31497105161348976, Validation Loss: 0.31876910477876663\n",
      "Epoch 30/50, Training Loss: 0.28105294207731885, Validation Loss: 0.2986392602324486\n",
      "Epoch 40/50, Training Loss: 0.25360131164391836, Validation Loss: 0.2814597450196743\n"
     ]
    },
    {
     "name": "stderr",
     "output_type": "stream",
     "text": [
      "[I 2023-10-10 23:59:14,954] Trial 104 finished with value: 0.28497835993766785 and parameters: {'lr': 0.0009183468461846218, 'dropout_prob': 0.42176092177428615, 'force_n_layers': 3, 'force_kernel_size': 3, 'force_stride': 5, 'force_padding': 4, 'force_hidden_channels': 41, 'force_pooling_type': 'avg', 'force_use_batch_norm': True, 'acc_n_layers': 6, 'acc_kernel_size': 8, 'acc_stride': 2, 'acc_padding': 6, 'acc_hidden_channels': 35, 'acc_pooling_type': 'max', 'acc_use_batch_norm': False}. Best is trial 78 with value: 0.25265607982873917.\n"
     ]
    },
    {
     "name": "stdout",
     "output_type": "stream",
     "text": [
      "Epoch 50/50, Training Loss: 0.21820922692616782, Validation Loss: 0.28497835993766785\n",
      "Epoch 10/50, Training Loss: 0.40539159178733825, Validation Loss: 0.384282223880291\n",
      "Epoch 20/50, Training Loss: 0.32757079203923545, Validation Loss: 0.3498876690864563\n",
      "Epoch 30/50, Training Loss: 0.2847627460956573, Validation Loss: 0.3150738477706909\n",
      "Epoch 40/50, Training Loss: 0.2700717757145564, Validation Loss: 0.3311355262994766\n"
     ]
    },
    {
     "name": "stderr",
     "output_type": "stream",
     "text": [
      "[I 2023-10-10 23:59:50,106] Trial 105 finished with value: 0.298209585249424 and parameters: {'lr': 0.00033863912806653124, 'dropout_prob': 0.3909030859787027, 'force_n_layers': 2, 'force_kernel_size': 3, 'force_stride': 5, 'force_padding': 2, 'force_hidden_channels': 55, 'force_pooling_type': 'avg', 'force_use_batch_norm': True, 'acc_n_layers': 7, 'acc_kernel_size': 7, 'acc_stride': 1, 'acc_padding': 7, 'acc_hidden_channels': 42, 'acc_pooling_type': 'max', 'acc_use_batch_norm': False}. Best is trial 78 with value: 0.25265607982873917.\n"
     ]
    },
    {
     "name": "stdout",
     "output_type": "stream",
     "text": [
      "Epoch 50/50, Training Loss: 0.2444331149260203, Validation Loss: 0.298209585249424\n"
     ]
    },
    {
     "name": "stderr",
     "output_type": "stream",
     "text": [
      "[I 2023-10-10 23:59:51,722] Trial 106 finished with value: 1.0 and parameters: {'lr': 0.0005065578577196886, 'dropout_prob': 0.4031705785470666, 'force_n_layers': 3, 'force_kernel_size': 3, 'force_stride': 4, 'force_padding': 1, 'force_hidden_channels': 70, 'force_pooling_type': 'max', 'force_use_batch_norm': True, 'acc_n_layers': 4, 'acc_kernel_size': 7, 'acc_stride': 2, 'acc_padding': 5, 'acc_hidden_channels': 23, 'acc_pooling_type': 'max', 'acc_use_batch_norm': False}. Best is trial 78 with value: 0.25265607982873917.\n"
     ]
    },
    {
     "name": "stdout",
     "output_type": "stream",
     "text": [
      "Trial failed with error: max_pool1d() Invalid computed output size: 0\n",
      "Epoch 10/50, Training Loss: 0.3789925515651703, Validation Loss: 0.37035636603832245\n",
      "Epoch 20/50, Training Loss: 0.29998941719532013, Validation Loss: 0.32689618319272995\n",
      "Epoch 30/50, Training Loss: 0.27217335800329845, Validation Loss: 0.28738364577293396\n",
      "Epoch 40/50, Training Loss: 0.262397825717926, Validation Loss: 0.29716580361127853\n"
     ]
    },
    {
     "name": "stderr",
     "output_type": "stream",
     "text": [
      "[I 2023-10-11 00:00:05,594] Trial 107 finished with value: 0.28914110362529755 and parameters: {'lr': 0.0006940408366770527, 'dropout_prob': 0.4523660745695825, 'force_n_layers': 2, 'force_kernel_size': 3, 'force_stride': 6, 'force_padding': 6, 'force_hidden_channels': 47, 'force_pooling_type': 'max', 'force_use_batch_norm': False, 'acc_n_layers': 4, 'acc_kernel_size': 6, 'acc_stride': 2, 'acc_padding': 8, 'acc_hidden_channels': 30, 'acc_pooling_type': 'max', 'acc_use_batch_norm': False}. Best is trial 78 with value: 0.25265607982873917.\n"
     ]
    },
    {
     "name": "stdout",
     "output_type": "stream",
     "text": [
      "Epoch 50/50, Training Loss: 0.24415249625841776, Validation Loss: 0.28914110362529755\n",
      "Epoch 10/50, Training Loss: 0.21142570873101552, Validation Loss: 0.2697810232639313\n",
      "Epoch 20/50, Training Loss: 0.08509238436818123, Validation Loss: 0.30024056881666183\n",
      "Epoch 30/50, Training Loss: 0.015088683863480886, Validation Loss: 0.4491746202111244\n",
      "Epoch 40/50, Training Loss: 0.00048228478796469667, Validation Loss: 0.5658078044652939\n"
     ]
    },
    {
     "name": "stderr",
     "output_type": "stream",
     "text": [
      "[I 2023-10-11 00:04:46,204] Trial 108 finished with value: 0.6099269017577171 and parameters: {'lr': 0.0004376557349912565, 'dropout_prob': 0.3822690711368273, 'force_n_layers': 2, 'force_kernel_size': 4, 'force_stride': 5, 'force_padding': 5, 'force_hidden_channels': 16, 'force_pooling_type': 'avg', 'force_use_batch_norm': True, 'acc_n_layers': 5, 'acc_kernel_size': 8, 'acc_stride': 1, 'acc_padding': 6, 'acc_hidden_channels': 255, 'acc_pooling_type': 'max', 'acc_use_batch_norm': True}. Best is trial 78 with value: 0.25265607982873917.\n"
     ]
    },
    {
     "name": "stdout",
     "output_type": "stream",
     "text": [
      "Epoch 50/50, Training Loss: 0.0001876624475698918, Validation Loss: 0.6099269017577171\n"
     ]
    },
    {
     "name": "stderr",
     "output_type": "stream",
     "text": [
      "[I 2023-10-11 00:04:47,695] Trial 109 finished with value: 1.0 and parameters: {'lr': 0.0005913534060137266, 'dropout_prob': 0.4065709903831277, 'force_n_layers': 4, 'force_kernel_size': 3, 'force_stride': 6, 'force_padding': 3, 'force_hidden_channels': 62, 'force_pooling_type': 'max', 'force_use_batch_norm': True, 'acc_n_layers': 5, 'acc_kernel_size': 4, 'acc_stride': 3, 'acc_padding': 5, 'acc_hidden_channels': 51, 'acc_pooling_type': 'max', 'acc_use_batch_norm': False}. Best is trial 78 with value: 0.25265607982873917.\n"
     ]
    },
    {
     "name": "stdout",
     "output_type": "stream",
     "text": [
      "Trial failed with error: max_pool1d() Invalid computed output size: 0\n",
      "Epoch 10/50, Training Loss: 0.37343616485595704, Validation Loss: 0.3463483229279518\n",
      "Epoch 20/50, Training Loss: 0.2856477608283361, Validation Loss: 0.2869292199611664\n",
      "Epoch 30/50, Training Loss: 0.272879762450854, Validation Loss: 0.2671920694410801\n",
      "Epoch 40/50, Training Loss: 0.2516397615273794, Validation Loss: 0.2853057011961937\n"
     ]
    },
    {
     "name": "stderr",
     "output_type": "stream",
     "text": [
      "[I 2023-10-11 00:05:06,550] Trial 110 finished with value: 0.2630814425647259 and parameters: {'lr': 0.0010943195878411651, 'dropout_prob': 0.43898298623810983, 'force_n_layers': 2, 'force_kernel_size': 3, 'force_stride': 4, 'force_padding': 4, 'force_hidden_channels': 32, 'force_pooling_type': 'max', 'force_use_batch_norm': True, 'acc_n_layers': 4, 'acc_kernel_size': 7, 'acc_stride': 2, 'acc_padding': 6, 'acc_hidden_channels': 46, 'acc_pooling_type': 'avg', 'acc_use_batch_norm': False}. Best is trial 78 with value: 0.25265607982873917.\n"
     ]
    },
    {
     "name": "stdout",
     "output_type": "stream",
     "text": [
      "Epoch 50/50, Training Loss: 0.23537498116493225, Validation Loss: 0.2630814425647259\n",
      "Epoch 10/50, Training Loss: 0.38906342585881554, Validation Loss: 0.3670831620693207\n",
      "Epoch 20/50, Training Loss: 0.29316484928131104, Validation Loss: 0.27817313373088837\n",
      "Epoch 30/50, Training Loss: 0.2716064631938934, Validation Loss: 0.2645486667752266\n",
      "Epoch 40/50, Training Loss: 0.2615734169880549, Validation Loss: 0.27886082231998444\n"
     ]
    },
    {
     "name": "stderr",
     "output_type": "stream",
     "text": [
      "[I 2023-10-11 00:05:24,721] Trial 111 finished with value: 0.27554792910814285 and parameters: {'lr': 0.0010153123806129988, 'dropout_prob': 0.43833745792187045, 'force_n_layers': 2, 'force_kernel_size': 3, 'force_stride': 3, 'force_padding': 4, 'force_hidden_channels': 24, 'force_pooling_type': 'max', 'force_use_batch_norm': True, 'acc_n_layers': 4, 'acc_kernel_size': 7, 'acc_stride': 2, 'acc_padding': 6, 'acc_hidden_channels': 36, 'acc_pooling_type': 'avg', 'acc_use_batch_norm': False}. Best is trial 78 with value: 0.25265607982873917.\n"
     ]
    },
    {
     "name": "stdout",
     "output_type": "stream",
     "text": [
      "Epoch 50/50, Training Loss: 0.2464636872212092, Validation Loss: 0.27554792910814285\n",
      "Epoch 10/50, Training Loss: 0.3923098603884379, Validation Loss: 0.35861334204673767\n",
      "Epoch 20/50, Training Loss: 0.29056524435679115, Validation Loss: 0.300755150616169\n",
      "Epoch 30/50, Training Loss: 0.259514985481898, Validation Loss: 0.27373041957616806\n",
      "Epoch 40/50, Training Loss: 0.2496926377216975, Validation Loss: 0.2653125785291195\n"
     ]
    },
    {
     "name": "stderr",
     "output_type": "stream",
     "text": [
      "[I 2023-10-11 00:05:42,910] Trial 112 finished with value: 0.27495524659752846 and parameters: {'lr': 0.0011476697723183295, 'dropout_prob': 0.4325544437072901, 'force_n_layers': 2, 'force_kernel_size': 3, 'force_stride': 3, 'force_padding': 4, 'force_hidden_channels': 23, 'force_pooling_type': 'max', 'force_use_batch_norm': True, 'acc_n_layers': 4, 'acc_kernel_size': 7, 'acc_stride': 2, 'acc_padding': 6, 'acc_hidden_channels': 46, 'acc_pooling_type': 'avg', 'acc_use_batch_norm': False}. Best is trial 78 with value: 0.25265607982873917.\n"
     ]
    },
    {
     "name": "stdout",
     "output_type": "stream",
     "text": [
      "Epoch 50/50, Training Loss: 0.22803130547205608, Validation Loss: 0.27495524659752846\n",
      "Epoch 10/50, Training Loss: 0.3958636303742727, Validation Loss: 0.36755476146936417\n",
      "Epoch 20/50, Training Loss: 0.2939221898714701, Validation Loss: 0.2869362607598305\n",
      "Epoch 30/50, Training Loss: 0.2739451279242833, Validation Loss: 0.2730335369706154\n",
      "Epoch 40/50, Training Loss: 0.2583764652411143, Validation Loss: 0.27628717944025993\n"
     ]
    },
    {
     "name": "stderr",
     "output_type": "stream",
     "text": [
      "[I 2023-10-11 00:06:01,300] Trial 113 finished with value: 0.2784828580915928 and parameters: {'lr': 0.0010544357166012675, 'dropout_prob': 0.4658457899062633, 'force_n_layers': 2, 'force_kernel_size': 3, 'force_stride': 3, 'force_padding': 4, 'force_hidden_channels': 32, 'force_pooling_type': 'max', 'force_use_batch_norm': True, 'acc_n_layers': 4, 'acc_kernel_size': 7, 'acc_stride': 2, 'acc_padding': 6, 'acc_hidden_channels': 38, 'acc_pooling_type': 'avg', 'acc_use_batch_norm': False}. Best is trial 78 with value: 0.25265607982873917.\n"
     ]
    },
    {
     "name": "stdout",
     "output_type": "stream",
     "text": [
      "Epoch 50/50, Training Loss: 0.25065944691499076, Validation Loss: 0.2784828580915928\n",
      "Epoch 10/50, Training Loss: 0.35876498421033226, Validation Loss: 0.34738413989543915\n",
      "Epoch 20/50, Training Loss: 0.27956080238024394, Validation Loss: 0.2839372605085373\n",
      "Epoch 30/50, Training Loss: 0.25647744337717693, Validation Loss: 0.28710219264030457\n",
      "Epoch 40/50, Training Loss: 0.24527649978796642, Validation Loss: 0.3380213528871536\n"
     ]
    },
    {
     "name": "stderr",
     "output_type": "stream",
     "text": [
      "[I 2023-10-11 00:06:19,687] Trial 114 finished with value: 0.2769583500921726 and parameters: {'lr': 0.0015755250148509197, 'dropout_prob': 0.43715998038184495, 'force_n_layers': 2, 'force_kernel_size': 3, 'force_stride': 3, 'force_padding': 3, 'force_hidden_channels': 21, 'force_pooling_type': 'max', 'force_use_batch_norm': True, 'acc_n_layers': 4, 'acc_kernel_size': 7, 'acc_stride': 2, 'acc_padding': 6, 'acc_hidden_channels': 45, 'acc_pooling_type': 'avg', 'acc_use_batch_norm': False}. Best is trial 78 with value: 0.25265607982873917.\n"
     ]
    },
    {
     "name": "stdout",
     "output_type": "stream",
     "text": [
      "Epoch 50/50, Training Loss: 0.22243632276852926, Validation Loss: 0.2769583500921726\n",
      "Epoch 10/50, Training Loss: 0.3125785191853841, Validation Loss: 0.32768664509058\n",
      "Epoch 20/50, Training Loss: 0.2756856809059779, Validation Loss: 0.26908961310982704\n",
      "Epoch 30/50, Training Loss: 0.2543588568766912, Validation Loss: 0.27451010793447495\n",
      "Epoch 40/50, Training Loss: 0.23258483409881592, Validation Loss: 0.27301904559135437\n"
     ]
    },
    {
     "name": "stderr",
     "output_type": "stream",
     "text": [
      "[I 2023-10-11 00:06:39,750] Trial 115 finished with value: 0.26966213807463646 and parameters: {'lr': 0.0016117401796002617, 'dropout_prob': 0.45225952546418385, 'force_n_layers': 2, 'force_kernel_size': 3, 'force_stride': 3, 'force_padding': 3, 'force_hidden_channels': 22, 'force_pooling_type': 'max', 'force_use_batch_norm': True, 'acc_n_layers': 4, 'acc_kernel_size': 7, 'acc_stride': 2, 'acc_padding': 6, 'acc_hidden_channels': 55, 'acc_pooling_type': 'avg', 'acc_use_batch_norm': False}. Best is trial 78 with value: 0.25265607982873917.\n"
     ]
    },
    {
     "name": "stdout",
     "output_type": "stream",
     "text": [
      "Epoch 50/50, Training Loss: 0.19925215740998586, Validation Loss: 0.26966213807463646\n",
      "Epoch 10/50, Training Loss: 0.3710924247900645, Validation Loss: 0.3430800661444664\n",
      "Epoch 20/50, Training Loss: 0.2862934947013855, Validation Loss: 0.27963778376579285\n",
      "Epoch 30/50, Training Loss: 0.26693211992581684, Validation Loss: 0.26800743862986565\n",
      "Epoch 40/50, Training Loss: 0.24251050849755604, Validation Loss: 0.2665271759033203\n"
     ]
    },
    {
     "name": "stderr",
     "output_type": "stream",
     "text": [
      "[I 2023-10-11 00:06:59,687] Trial 116 finished with value: 0.28043121099472046 and parameters: {'lr': 0.0015802135833800153, 'dropout_prob': 0.45444079627172906, 'force_n_layers': 2, 'force_kernel_size': 3, 'force_stride': 3, 'force_padding': 3, 'force_hidden_channels': 24, 'force_pooling_type': 'max', 'force_use_batch_norm': True, 'acc_n_layers': 4, 'acc_kernel_size': 7, 'acc_stride': 2, 'acc_padding': 6, 'acc_hidden_channels': 48, 'acc_pooling_type': 'avg', 'acc_use_batch_norm': False}. Best is trial 78 with value: 0.25265607982873917.\n"
     ]
    },
    {
     "name": "stdout",
     "output_type": "stream",
     "text": [
      "Epoch 50/50, Training Loss: 0.22326761881510418, Validation Loss: 0.28043121099472046\n",
      "Epoch 10/50, Training Loss: 0.46126126845677695, Validation Loss: 0.46665072441101074\n",
      "Epoch 20/50, Training Loss: 0.34484610160191853, Validation Loss: 0.3368387147784233\n",
      "Epoch 30/50, Training Loss: 0.3078707685073217, Validation Loss: 0.3113267868757248\n",
      "Epoch 40/50, Training Loss: 0.29109208087126415, Validation Loss: 0.29591868072748184\n"
     ]
    },
    {
     "name": "stderr",
     "output_type": "stream",
     "text": [
      "[I 2023-10-11 00:07:14,229] Trial 117 finished with value: 0.30805230885744095 and parameters: {'lr': 0.001245581643987451, 'dropout_prob': 0.4936371638773102, 'force_n_layers': 2, 'force_kernel_size': 3, 'force_stride': 3, 'force_padding': 3, 'force_hidden_channels': 24, 'force_pooling_type': 'max', 'force_use_batch_norm': True, 'acc_n_layers': 4, 'acc_kernel_size': 7, 'acc_stride': 5, 'acc_padding': 6, 'acc_hidden_channels': 33, 'acc_pooling_type': 'avg', 'acc_use_batch_norm': False}. Best is trial 78 with value: 0.25265607982873917.\n"
     ]
    },
    {
     "name": "stdout",
     "output_type": "stream",
     "text": [
      "Epoch 50/50, Training Loss: 0.2766415615876516, Validation Loss: 0.30805230885744095\n",
      "Epoch 10/50, Training Loss: 0.33648402293523155, Validation Loss: 0.3098937198519707\n",
      "Epoch 20/50, Training Loss: 0.2804567883412043, Validation Loss: 0.2664952762424946\n",
      "Epoch 30/50, Training Loss: 0.25797836581865946, Validation Loss: 0.27075889334082603\n",
      "Epoch 40/50, Training Loss: 0.22546866436799368, Validation Loss: 0.2650299035012722\n"
     ]
    },
    {
     "name": "stderr",
     "output_type": "stream",
     "text": [
      "[I 2023-10-11 00:07:34,642] Trial 118 finished with value: 0.2599169425666332 and parameters: {'lr': 0.0018332241597835868, 'dropout_prob': 0.4389475091248547, 'force_n_layers': 2, 'force_kernel_size': 3, 'force_stride': 3, 'force_padding': 4, 'force_hidden_channels': 33, 'force_pooling_type': 'max', 'force_use_batch_norm': True, 'acc_n_layers': 4, 'acc_kernel_size': 7, 'acc_stride': 2, 'acc_padding': 6, 'acc_hidden_channels': 56, 'acc_pooling_type': 'avg', 'acc_use_batch_norm': False}. Best is trial 78 with value: 0.25265607982873917.\n"
     ]
    },
    {
     "name": "stdout",
     "output_type": "stream",
     "text": [
      "Epoch 50/50, Training Loss: 0.1984189420938492, Validation Loss: 0.2599169425666332\n",
      "Epoch 10/50, Training Loss: 0.31172140737374626, Validation Loss: 0.3010483384132385\n",
      "Epoch 20/50, Training Loss: 0.270737628142039, Validation Loss: 0.2801230661571026\n",
      "Epoch 30/50, Training Loss: 0.2576863447825114, Validation Loss: 0.2871892601251602\n",
      "Epoch 40/50, Training Loss: 0.23240748743216197, Validation Loss: 0.27771059051156044\n"
     ]
    },
    {
     "name": "stderr",
     "output_type": "stream",
     "text": [
      "[I 2023-10-11 00:07:55,411] Trial 119 finished with value: 0.27815939113497734 and parameters: {'lr': 0.0018218304254905148, 'dropout_prob': 0.4734373131192341, 'force_n_layers': 2, 'force_kernel_size': 3, 'force_stride': 3, 'force_padding': 4, 'force_hidden_channels': 21, 'force_pooling_type': 'max', 'force_use_batch_norm': True, 'acc_n_layers': 4, 'acc_kernel_size': 7, 'acc_stride': 2, 'acc_padding': 6, 'acc_hidden_channels': 55, 'acc_pooling_type': 'avg', 'acc_use_batch_norm': False}. Best is trial 78 with value: 0.25265607982873917.\n"
     ]
    },
    {
     "name": "stdout",
     "output_type": "stream",
     "text": [
      "Epoch 50/50, Training Loss: 0.1938044935464859, Validation Loss: 0.27815939113497734\n",
      "Epoch 10/50, Training Loss: 0.31111006339391073, Validation Loss: 0.28315432369709015\n",
      "Epoch 20/50, Training Loss: 0.27207821905612944, Validation Loss: 0.26497741788625717\n",
      "Epoch 30/50, Training Loss: 0.2640806198120117, Validation Loss: 0.2984999194741249\n",
      "Epoch 40/50, Training Loss: 0.2505858033895493, Validation Loss: 0.2567540407180786\n"
     ]
    },
    {
     "name": "stderr",
     "output_type": "stream",
     "text": [
      "[I 2023-10-11 00:08:18,955] Trial 120 finished with value: 0.253389086574316 and parameters: {'lr': 0.00154150450758144, 'dropout_prob': 0.4451191182849538, 'force_n_layers': 1, 'force_kernel_size': 3, 'force_stride': 3, 'force_padding': 4, 'force_hidden_channels': 40, 'force_pooling_type': 'max', 'force_use_batch_norm': True, 'acc_n_layers': 4, 'acc_kernel_size': 7, 'acc_stride': 2, 'acc_padding': 6, 'acc_hidden_channels': 65, 'acc_pooling_type': 'avg', 'acc_use_batch_norm': False}. Best is trial 78 with value: 0.25265607982873917.\n"
     ]
    },
    {
     "name": "stdout",
     "output_type": "stream",
     "text": [
      "Epoch 50/50, Training Loss: 0.21279581189155578, Validation Loss: 0.253389086574316\n",
      "Epoch 10/50, Training Loss: 0.3283038973808289, Validation Loss: 0.30337829142808914\n",
      "Epoch 20/50, Training Loss: 0.27212379972139994, Validation Loss: 0.2735195904970169\n",
      "Epoch 30/50, Training Loss: 0.248467289408048, Validation Loss: 0.27342987805604935\n",
      "Epoch 40/50, Training Loss: 0.22141664624214172, Validation Loss: 0.2768715173006058\n"
     ]
    },
    {
     "name": "stderr",
     "output_type": "stream",
     "text": [
      "[I 2023-10-11 00:08:40,382] Trial 121 finished with value: 0.28605885803699493 and parameters: {'lr': 0.0015187955259859168, 'dropout_prob': 0.4441881746277671, 'force_n_layers': 1, 'force_kernel_size': 3, 'force_stride': 3, 'force_padding': 4, 'force_hidden_channels': 39, 'force_pooling_type': 'max', 'force_use_batch_norm': True, 'acc_n_layers': 4, 'acc_kernel_size': 7, 'acc_stride': 2, 'acc_padding': 6, 'acc_hidden_channels': 66, 'acc_pooling_type': 'avg', 'acc_use_batch_norm': False}. Best is trial 78 with value: 0.25265607982873917.\n"
     ]
    },
    {
     "name": "stdout",
     "output_type": "stream",
     "text": [
      "Epoch 50/50, Training Loss: 0.19357827802499136, Validation Loss: 0.28605885803699493\n",
      "Epoch 10/50, Training Loss: 0.3479744891325633, Validation Loss: 0.32582901418209076\n",
      "Epoch 20/50, Training Loss: 0.28964002629121144, Validation Loss: 0.29508446156978607\n",
      "Epoch 30/50, Training Loss: 0.2624463607867559, Validation Loss: 0.2735745869576931\n",
      "Epoch 40/50, Training Loss: 0.238834082086881, Validation Loss: 0.291141152381897\n"
     ]
    },
    {
     "name": "stderr",
     "output_type": "stream",
     "text": [
      "[I 2023-10-11 00:08:59,979] Trial 122 finished with value: 0.2872963845729828 and parameters: {'lr': 0.0014480792028504132, 'dropout_prob': 0.4364942142121304, 'force_n_layers': 1, 'force_kernel_size': 3, 'force_stride': 3, 'force_padding': 4, 'force_hidden_channels': 29, 'force_pooling_type': 'max', 'force_use_batch_norm': True, 'acc_n_layers': 4, 'acc_kernel_size': 7, 'acc_stride': 2, 'acc_padding': 6, 'acc_hidden_channels': 52, 'acc_pooling_type': 'avg', 'acc_use_batch_norm': False}. Best is trial 78 with value: 0.25265607982873917.\n"
     ]
    },
    {
     "name": "stdout",
     "output_type": "stream",
     "text": [
      "Epoch 50/50, Training Loss: 0.2130657861630122, Validation Loss: 0.2872963845729828\n",
      "Epoch 10/50, Training Loss: 0.29755200147628785, Validation Loss: 0.28837934881448746\n",
      "Epoch 20/50, Training Loss: 0.26547942658265433, Validation Loss: 0.28999392688274384\n",
      "Epoch 30/50, Training Loss: 0.22802062332630157, Validation Loss: 0.2956923507153988\n",
      "Epoch 40/50, Training Loss: 0.20044020016988118, Validation Loss: 0.31370343640446663\n"
     ]
    },
    {
     "name": "stderr",
     "output_type": "stream",
     "text": [
      "[I 2023-10-11 00:09:27,246] Trial 123 finished with value: 0.3205217868089676 and parameters: {'lr': 0.0019523009660166602, 'dropout_prob': 0.42420125011973187, 'force_n_layers': 1, 'force_kernel_size': 3, 'force_stride': 3, 'force_padding': 3, 'force_hidden_channels': 34, 'force_pooling_type': 'max', 'force_use_batch_norm': True, 'acc_n_layers': 4, 'acc_kernel_size': 7, 'acc_stride': 2, 'acc_padding': 7, 'acc_hidden_channels': 81, 'acc_pooling_type': 'avg', 'acc_use_batch_norm': False}. Best is trial 78 with value: 0.25265607982873917.\n"
     ]
    },
    {
     "name": "stdout",
     "output_type": "stream",
     "text": [
      "Epoch 50/50, Training Loss: 0.15282759765783946, Validation Loss: 0.3205217868089676\n",
      "Epoch 10/50, Training Loss: 0.3665060738722483, Validation Loss: 0.34148454666137695\n",
      "Epoch 20/50, Training Loss: 0.28645436962445575, Validation Loss: 0.295127734541893\n",
      "Epoch 30/50, Training Loss: 0.2667695095141729, Validation Loss: 0.26872433349490166\n",
      "Epoch 40/50, Training Loss: 0.239933584133784, Validation Loss: 0.26053912565112114\n"
     ]
    },
    {
     "name": "stderr",
     "output_type": "stream",
     "text": [
      "[I 2023-10-11 00:09:47,933] Trial 124 finished with value: 0.27595964446663857 and parameters: {'lr': 0.0013127891521061512, 'dropout_prob': 0.45294174763469686, 'force_n_layers': 2, 'force_kernel_size': 3, 'force_stride': 2, 'force_padding': 4, 'force_hidden_channels': 43, 'force_pooling_type': 'max', 'force_use_batch_norm': True, 'acc_n_layers': 4, 'acc_kernel_size': 7, 'acc_stride': 2, 'acc_padding': 6, 'acc_hidden_channels': 55, 'acc_pooling_type': 'avg', 'acc_use_batch_norm': False}. Best is trial 78 with value: 0.25265607982873917.\n"
     ]
    },
    {
     "name": "stdout",
     "output_type": "stream",
     "text": [
      "Epoch 50/50, Training Loss: 0.20931825836499532, Validation Loss: 0.27595964446663857\n",
      "Epoch 10/50, Training Loss: 0.35376551151275637, Validation Loss: 0.3384064808487892\n",
      "Epoch 20/50, Training Loss: 0.2921425799528758, Validation Loss: 0.2763870358467102\n",
      "Epoch 30/50, Training Loss: 0.2534588356812795, Validation Loss: 0.26680151373147964\n",
      "Epoch 40/50, Training Loss: 0.2344265619913737, Validation Loss: 0.26465412229299545\n"
     ]
    },
    {
     "name": "stderr",
     "output_type": "stream",
     "text": [
      "[I 2023-10-11 00:10:09,643] Trial 125 finished with value: 0.2585904262959957 and parameters: {'lr': 0.0016571217606251864, 'dropout_prob': 0.4666741073878501, 'force_n_layers': 2, 'force_kernel_size': 3, 'force_stride': 3, 'force_padding': 4, 'force_hidden_channels': 41, 'force_pooling_type': 'max', 'force_use_batch_norm': True, 'acc_n_layers': 4, 'acc_kernel_size': 7, 'acc_stride': 2, 'acc_padding': 6, 'acc_hidden_channels': 57, 'acc_pooling_type': 'avg', 'acc_use_batch_norm': False}. Best is trial 78 with value: 0.25265607982873917.\n"
     ]
    },
    {
     "name": "stdout",
     "output_type": "stream",
     "text": [
      "Epoch 50/50, Training Loss: 0.213729323943456, Validation Loss: 0.2585904262959957\n",
      "Epoch 10/50, Training Loss: 0.297853684425354, Validation Loss: 0.28101636096835136\n",
      "Epoch 20/50, Training Loss: 0.2786177446444829, Validation Loss: 0.2706269584596157\n",
      "Epoch 30/50, Training Loss: 0.23890933990478516, Validation Loss: 0.2736981734633446\n",
      "Epoch 40/50, Training Loss: 0.21112146774927776, Validation Loss: 0.2805846408009529\n"
     ]
    },
    {
     "name": "stderr",
     "output_type": "stream",
     "text": [
      "[I 2023-10-11 00:10:34,842] Trial 126 finished with value: 0.318425253033638 and parameters: {'lr': 0.002265736193276462, 'dropout_prob': 0.4625092826776058, 'force_n_layers': 2, 'force_kernel_size': 6, 'force_stride': 2, 'force_padding': 4, 'force_hidden_channels': 43, 'force_pooling_type': 'max', 'force_use_batch_norm': True, 'acc_n_layers': 4, 'acc_kernel_size': 7, 'acc_stride': 2, 'acc_padding': 6, 'acc_hidden_channels': 72, 'acc_pooling_type': 'avg', 'acc_use_batch_norm': False}. Best is trial 78 with value: 0.25265607982873917.\n"
     ]
    },
    {
     "name": "stdout",
     "output_type": "stream",
     "text": [
      "Epoch 50/50, Training Loss: 0.17694541215896606, Validation Loss: 0.318425253033638\n",
      "Epoch 10/50, Training Loss: 0.3891463359196981, Validation Loss: 0.3556383550167084\n",
      "Epoch 20/50, Training Loss: 0.2891379733880361, Validation Loss: 0.2901279777288437\n",
      "Epoch 30/50, Training Loss: 0.25627625187238057, Validation Loss: 0.30045849084854126\n",
      "Epoch 40/50, Training Loss: 0.23338426351547242, Validation Loss: 0.2810576558113098\n"
     ]
    },
    {
     "name": "stderr",
     "output_type": "stream",
     "text": [
      "[I 2023-10-11 00:11:04,751] Trial 127 finished with value: 0.3057645261287689 and parameters: {'lr': 0.0013416732981049793, 'dropout_prob': 0.4846421009236368, 'force_n_layers': 7, 'force_kernel_size': 3, 'force_stride': 2, 'force_padding': 4, 'force_hidden_channels': 48, 'force_pooling_type': 'max', 'force_use_batch_norm': True, 'acc_n_layers': 4, 'acc_kernel_size': 7, 'acc_stride': 2, 'acc_padding': 7, 'acc_hidden_channels': 57, 'acc_pooling_type': 'avg', 'acc_use_batch_norm': False}. Best is trial 78 with value: 0.25265607982873917.\n"
     ]
    },
    {
     "name": "stdout",
     "output_type": "stream",
     "text": [
      "Epoch 50/50, Training Loss: 0.22131211757659913, Validation Loss: 0.3057645261287689\n",
      "Epoch 10/50, Training Loss: 0.37191402316093447, Validation Loss: 0.3566795513033867\n",
      "Epoch 20/50, Training Loss: 0.2815889745950699, Validation Loss: 0.2730282209813595\n",
      "Epoch 30/50, Training Loss: 0.2559702157974243, Validation Loss: 0.26440341770648956\n",
      "Epoch 40/50, Training Loss: 0.24247712393601736, Validation Loss: 0.28349370136857033\n"
     ]
    },
    {
     "name": "stderr",
     "output_type": "stream",
     "text": [
      "[I 2023-10-11 00:11:25,331] Trial 128 finished with value: 0.31874557584524155 and parameters: {'lr': 0.0011709591148936084, 'dropout_prob': 0.452111365085085, 'force_n_layers': 2, 'force_kernel_size': 3, 'force_stride': 3, 'force_padding': 4, 'force_hidden_channels': 38, 'force_pooling_type': 'max', 'force_use_batch_norm': False, 'acc_n_layers': 4, 'acc_kernel_size': 7, 'acc_stride': 2, 'acc_padding': 6, 'acc_hidden_channels': 63, 'acc_pooling_type': 'avg', 'acc_use_batch_norm': False}. Best is trial 78 with value: 0.25265607982873917.\n"
     ]
    },
    {
     "name": "stdout",
     "output_type": "stream",
     "text": [
      "Epoch 50/50, Training Loss: 0.24785831272602082, Validation Loss: 0.31874557584524155\n",
      "Epoch 10/50, Training Loss: 0.322131085395813, Validation Loss: 0.30703407526016235\n",
      "Epoch 20/50, Training Loss: 0.2737891564766566, Validation Loss: 0.28268835693597794\n",
      "Epoch 30/50, Training Loss: 0.250417023897171, Validation Loss: 0.278852216899395\n",
      "Epoch 40/50, Training Loss: 0.22993791500727337, Validation Loss: 0.3123667314648628\n"
     ]
    },
    {
     "name": "stderr",
     "output_type": "stream",
     "text": [
      "[I 2023-10-11 00:11:47,226] Trial 129 finished with value: 0.3057907521724701 and parameters: {'lr': 0.0017660891173763421, 'dropout_prob': 0.49895600983826865, 'force_n_layers': 1, 'force_kernel_size': 3, 'force_stride': 2, 'force_padding': 4, 'force_hidden_channels': 54, 'force_pooling_type': 'max', 'force_use_batch_norm': True, 'acc_n_layers': 4, 'acc_kernel_size': 7, 'acc_stride': 2, 'acc_padding': 6, 'acc_hidden_channels': 66, 'acc_pooling_type': 'avg', 'acc_use_batch_norm': False}. Best is trial 78 with value: 0.25265607982873917.\n"
     ]
    },
    {
     "name": "stdout",
     "output_type": "stream",
     "text": [
      "Epoch 50/50, Training Loss: 0.20651861131191254, Validation Loss: 0.3057907521724701\n",
      "Epoch 10/50, Training Loss: 0.24812599122524262, Validation Loss: 0.2593831829726696\n",
      "Epoch 20/50, Training Loss: 0.08126663813988368, Validation Loss: 0.32374654337763786\n",
      "Epoch 30/50, Training Loss: 0.022597678191959857, Validation Loss: 0.44161196798086166\n",
      "Epoch 40/50, Training Loss: 0.0005377224083834638, Validation Loss: 0.6230423301458359\n"
     ]
    },
    {
     "name": "stderr",
     "output_type": "stream",
     "text": [
      "[I 2023-10-11 00:12:19,062] Trial 130 finished with value: 0.6849632412195206 and parameters: {'lr': 0.0027085780248918122, 'dropout_prob': 0.47051737026521107, 'force_n_layers': 2, 'force_kernel_size': 3, 'force_stride': 3, 'force_padding': 4, 'force_hidden_channels': 27, 'force_pooling_type': 'max', 'force_use_batch_norm': True, 'acc_n_layers': 4, 'acc_kernel_size': 7, 'acc_stride': 2, 'acc_padding': 6, 'acc_hidden_channels': 90, 'acc_pooling_type': 'avg', 'acc_use_batch_norm': True}. Best is trial 78 with value: 0.25265607982873917.\n"
     ]
    },
    {
     "name": "stdout",
     "output_type": "stream",
     "text": [
      "Epoch 50/50, Training Loss: 0.0002454371346781651, Validation Loss: 0.6849632412195206\n",
      "Epoch 10/50, Training Loss: 0.34665075143178303, Validation Loss: 0.32168005406856537\n",
      "Epoch 20/50, Training Loss: 0.27600713769594826, Validation Loss: 0.2766495756804943\n",
      "Epoch 30/50, Training Loss: 0.2527134299278259, Validation Loss: 0.2744921147823334\n",
      "Epoch 40/50, Training Loss: 0.22690567175547283, Validation Loss: 0.28232333809137344\n"
     ]
    },
    {
     "name": "stderr",
     "output_type": "stream",
     "text": [
      "[I 2023-10-11 00:12:38,342] Trial 131 finished with value: 0.29217613488435745 and parameters: {'lr': 0.0015949052381749823, 'dropout_prob': 0.44208721320499716, 'force_n_layers': 2, 'force_kernel_size': 3, 'force_stride': 3, 'force_padding': 3, 'force_hidden_channels': 33, 'force_pooling_type': 'max', 'force_use_batch_norm': True, 'acc_n_layers': 4, 'acc_kernel_size': 7, 'acc_stride': 2, 'acc_padding': 6, 'acc_hidden_channels': 46, 'acc_pooling_type': 'avg', 'acc_use_batch_norm': False}. Best is trial 78 with value: 0.25265607982873917.\n"
     ]
    },
    {
     "name": "stdout",
     "output_type": "stream",
     "text": [
      "Epoch 50/50, Training Loss: 0.1967233121395111, Validation Loss: 0.29217613488435745\n",
      "Epoch 10/50, Training Loss: 0.39139444231987, Validation Loss: 0.36883601546287537\n",
      "Epoch 20/50, Training Loss: 0.2979099045197169, Validation Loss: 0.287142813205719\n",
      "Epoch 30/50, Training Loss: 0.2791154533624649, Validation Loss: 0.2962290346622467\n",
      "Epoch 40/50, Training Loss: 0.25345294574896493, Validation Loss: 0.2696158438920975\n"
     ]
    },
    {
     "name": "stderr",
     "output_type": "stream",
     "text": [
      "[I 2023-10-11 00:12:53,383] Trial 132 finished with value: 0.2831059396266937 and parameters: {'lr': 0.0009644789883579779, 'dropout_prob': 0.45783048112959446, 'force_n_layers': 2, 'force_kernel_size': 3, 'force_stride': 3, 'force_padding': 3, 'force_hidden_channels': 21, 'force_pooling_type': 'max', 'force_use_batch_norm': True, 'acc_n_layers': 4, 'acc_kernel_size': 7, 'acc_stride': 2, 'acc_padding': 6, 'acc_hidden_channels': 43, 'acc_pooling_type': 'avg', 'acc_use_batch_norm': False}. Best is trial 78 with value: 0.25265607982873917.\n"
     ]
    },
    {
     "name": "stdout",
     "output_type": "stream",
     "text": [
      "Epoch 50/50, Training Loss: 0.23145689467589062, Validation Loss: 0.2831059396266937\n",
      "Epoch 10/50, Training Loss: 0.306490820646286, Validation Loss: 0.2797163650393486\n",
      "Epoch 20/50, Training Loss: 0.2658948580423991, Validation Loss: 0.2841050513088703\n",
      "Epoch 30/50, Training Loss: 0.24734181960423787, Validation Loss: 0.2627713829278946\n",
      "Epoch 40/50, Training Loss: 0.2140704999367396, Validation Loss: 0.26562121137976646\n"
     ]
    },
    {
     "name": "stderr",
     "output_type": "stream",
     "text": [
      "[I 2023-10-11 00:13:14,479] Trial 133 finished with value: 0.268472645431757 and parameters: {'lr': 0.0017644117849036362, 'dropout_prob': 0.42833956829369746, 'force_n_layers': 2, 'force_kernel_size': 3, 'force_stride': 3, 'force_padding': 4, 'force_hidden_channels': 40, 'force_pooling_type': 'max', 'force_use_batch_norm': True, 'acc_n_layers': 4, 'acc_kernel_size': 7, 'acc_stride': 2, 'acc_padding': 7, 'acc_hidden_channels': 56, 'acc_pooling_type': 'avg', 'acc_use_batch_norm': False}. Best is trial 78 with value: 0.25265607982873917.\n"
     ]
    },
    {
     "name": "stdout",
     "output_type": "stream",
     "text": [
      "Epoch 50/50, Training Loss: 0.1793385515610377, Validation Loss: 0.268472645431757\n",
      "Epoch 10/50, Training Loss: 0.32870314121246336, Validation Loss: 0.32798387855291367\n",
      "Epoch 20/50, Training Loss: 0.26386304895083107, Validation Loss: 0.2857987582683563\n",
      "Epoch 30/50, Training Loss: 0.2533124417066574, Validation Loss: 0.30182410776615143\n",
      "Epoch 40/50, Training Loss: 0.2185346891482671, Validation Loss: 0.29560456424951553\n"
     ]
    },
    {
     "name": "stderr",
     "output_type": "stream",
     "text": [
      "[I 2023-10-11 00:13:36,133] Trial 134 finished with value: 0.325434323400259 and parameters: {'lr': 0.0019111006546101486, 'dropout_prob': 0.42762519667255405, 'force_n_layers': 2, 'force_kernel_size': 3, 'force_stride': 1, 'force_padding': 4, 'force_hidden_channels': 43, 'force_pooling_type': 'max', 'force_use_batch_norm': True, 'acc_n_layers': 4, 'acc_kernel_size': 7, 'acc_stride': 2, 'acc_padding': 5, 'acc_hidden_channels': 58, 'acc_pooling_type': 'avg', 'acc_use_batch_norm': False}. Best is trial 78 with value: 0.25265607982873917.\n"
     ]
    },
    {
     "name": "stdout",
     "output_type": "stream",
     "text": [
      "Epoch 50/50, Training Loss: 0.19501528392235437, Validation Loss: 0.325434323400259\n",
      "Epoch 10/50, Training Loss: 0.2962196449438731, Validation Loss: 0.29479117691516876\n",
      "Epoch 20/50, Training Loss: 0.28333415985107424, Validation Loss: 0.26961881294846535\n",
      "Epoch 30/50, Training Loss: 0.24018082519372305, Validation Loss: 0.3044746518135071\n",
      "Epoch 40/50, Training Loss: 0.20615157783031463, Validation Loss: 0.2775922827422619\n"
     ]
    },
    {
     "name": "stderr",
     "output_type": "stream",
     "text": [
      "[I 2023-10-11 00:14:00,975] Trial 135 finished with value: 0.29429392889142036 and parameters: {'lr': 0.0013300888665489696, 'dropout_prob': 0.4793160876710869, 'force_n_layers': 2, 'force_kernel_size': 8, 'force_stride': 3, 'force_padding': 4, 'force_hidden_channels': 39, 'force_pooling_type': 'max', 'force_use_batch_norm': True, 'acc_n_layers': 4, 'acc_kernel_size': 7, 'acc_stride': 2, 'acc_padding': 7, 'acc_hidden_channels': 79, 'acc_pooling_type': 'avg', 'acc_use_batch_norm': False}. Best is trial 78 with value: 0.25265607982873917.\n"
     ]
    },
    {
     "name": "stdout",
     "output_type": "stream",
     "text": [
      "Epoch 50/50, Training Loss: 0.1787349224090576, Validation Loss: 0.29429392889142036\n",
      "Epoch 10/50, Training Loss: 0.4226360201835632, Validation Loss: 0.3944992199540138\n",
      "Epoch 20/50, Training Loss: 0.30645262797673545, Validation Loss: 0.3081085681915283\n",
      "Epoch 30/50, Training Loss: 0.2791646917661031, Validation Loss: 0.2766483649611473\n",
      "Epoch 40/50, Training Loss: 0.267574679851532, Validation Loss: 0.288871668279171\n"
     ]
    },
    {
     "name": "stderr",
     "output_type": "stream",
     "text": [
      "[I 2023-10-11 00:14:16,363] Trial 136 finished with value: 0.2897443547844887 and parameters: {'lr': 0.0011463975043146824, 'dropout_prob': 0.4485550181358547, 'force_n_layers': 2, 'force_kernel_size': 3, 'force_stride': 2, 'force_padding': 4, 'force_hidden_channels': 49, 'force_pooling_type': 'max', 'force_use_batch_norm': True, 'acc_n_layers': 4, 'acc_kernel_size': 3, 'acc_stride': 2, 'acc_padding': 6, 'acc_hidden_channels': 53, 'acc_pooling_type': 'avg', 'acc_use_batch_norm': False}. Best is trial 78 with value: 0.25265607982873917.\n"
     ]
    },
    {
     "name": "stdout",
     "output_type": "stream",
     "text": [
      "Epoch 50/50, Training Loss: 0.25561331808567045, Validation Loss: 0.2897443547844887\n",
      "Epoch 10/50, Training Loss: 0.314599613348643, Validation Loss: 0.295026458799839\n",
      "Epoch 20/50, Training Loss: 0.2597274492184321, Validation Loss: 0.2778637148439884\n",
      "Epoch 30/50, Training Loss: 0.21539268791675567, Validation Loss: 0.2750193700194359\n",
      "Epoch 40/50, Training Loss: 0.19217254022757213, Validation Loss: 0.2850121073424816\n"
     ]
    },
    {
     "name": "stderr",
     "output_type": "stream",
     "text": [
      "[I 2023-10-11 00:14:36,571] Trial 137 finished with value: 0.3087771385908127 and parameters: {'lr': 0.0020974626120539926, 'dropout_prob': 0.41788566634415747, 'force_n_layers': 2, 'force_kernel_size': 3, 'force_stride': 3, 'force_padding': 4, 'force_hidden_channels': 29, 'force_pooling_type': 'max', 'force_use_batch_norm': True, 'acc_n_layers': 4, 'acc_kernel_size': 7, 'acc_stride': 2, 'acc_padding': 5, 'acc_hidden_channels': 51, 'acc_pooling_type': 'avg', 'acc_use_batch_norm': False}. Best is trial 78 with value: 0.25265607982873917.\n"
     ]
    },
    {
     "name": "stdout",
     "output_type": "stream",
     "text": [
      "Epoch 50/50, Training Loss: 0.15310610036055247, Validation Loss: 0.3087771385908127\n",
      "Epoch 10/50, Training Loss: 0.34624895453453064, Validation Loss: 0.3370656445622444\n",
      "Epoch 20/50, Training Loss: 0.2744871238867442, Validation Loss: 0.29823827743530273\n",
      "Epoch 30/50, Training Loss: 0.23937335113684335, Validation Loss: 0.2659982740879059\n",
      "Epoch 40/50, Training Loss: 0.20863509277502695, Validation Loss: 0.27283400669693947\n"
     ]
    },
    {
     "name": "stderr",
     "output_type": "stream",
     "text": [
      "[I 2023-10-11 00:14:56,982] Trial 138 finished with value: 0.2856718450784683 and parameters: {'lr': 0.0017489578454833055, 'dropout_prob': 0.4696412665778176, 'force_n_layers': 1, 'force_kernel_size': 3, 'force_stride': 3, 'force_padding': 4, 'force_hidden_channels': 36, 'force_pooling_type': 'max', 'force_use_batch_norm': True, 'acc_n_layers': 3, 'acc_kernel_size': 7, 'acc_stride': 2, 'acc_padding': 7, 'acc_hidden_channels': 68, 'acc_pooling_type': 'avg', 'acc_use_batch_norm': False}. Best is trial 78 with value: 0.25265607982873917.\n"
     ]
    },
    {
     "name": "stdout",
     "output_type": "stream",
     "text": [
      "Epoch 50/50, Training Loss: 0.17470056265592576, Validation Loss: 0.2856718450784683\n",
      "Epoch 10/50, Training Loss: 0.3901772697766622, Validation Loss: 0.3624323606491089\n",
      "Epoch 20/50, Training Loss: 0.2864544759194056, Validation Loss: 0.27631496265530586\n",
      "Epoch 30/50, Training Loss: 0.2688624848922094, Validation Loss: 0.27575912326574326\n",
      "Epoch 40/50, Training Loss: 0.2538791278998057, Validation Loss: 0.2762046940624714\n"
     ]
    },
    {
     "name": "stderr",
     "output_type": "stream",
     "text": [
      "[I 2023-10-11 00:15:18,302] Trial 139 finished with value: 0.2690221071243286 and parameters: {'lr': 0.0010093817761463448, 'dropout_prob': 0.4320221053997264, 'force_n_layers': 2, 'force_kernel_size': 3, 'force_stride': 1, 'force_padding': 4, 'force_hidden_channels': 26, 'force_pooling_type': 'max', 'force_use_batch_norm': True, 'acc_n_layers': 4, 'acc_kernel_size': 7, 'acc_stride': 2, 'acc_padding': 6, 'acc_hidden_channels': 57, 'acc_pooling_type': 'avg', 'acc_use_batch_norm': False}. Best is trial 78 with value: 0.25265607982873917.\n"
     ]
    },
    {
     "name": "stdout",
     "output_type": "stream",
     "text": [
      "Epoch 50/50, Training Loss: 0.24212532142798107, Validation Loss: 0.2690221071243286\n",
      "Epoch 10/50, Training Loss: 0.4584525803724925, Validation Loss: 0.451114721596241\n",
      "Epoch 20/50, Training Loss: 0.37354106505711876, Validation Loss: 0.36226794868707657\n",
      "Epoch 30/50, Training Loss: 0.3079729020595551, Validation Loss: 0.2942417711019516\n",
      "Epoch 40/50, Training Loss: 0.27715166807174685, Validation Loss: 0.28286390751600266\n"
     ]
    },
    {
     "name": "stderr",
     "output_type": "stream",
     "text": [
      "[I 2023-10-11 00:15:33,267] Trial 140 finished with value: 0.30255989730358124 and parameters: {'lr': 0.0010067326143489176, 'dropout_prob': 0.46063134091664293, 'force_n_layers': 2, 'force_kernel_size': 3, 'force_stride': 1, 'force_padding': 4, 'force_hidden_channels': 26, 'force_pooling_type': 'max', 'force_use_batch_norm': True, 'acc_n_layers': 4, 'acc_kernel_size': 7, 'acc_stride': 3, 'acc_padding': 5, 'acc_hidden_channels': 60, 'acc_pooling_type': 'avg', 'acc_use_batch_norm': False}. Best is trial 78 with value: 0.25265607982873917.\n"
     ]
    },
    {
     "name": "stdout",
     "output_type": "stream",
     "text": [
      "Epoch 50/50, Training Loss: 0.27358763416608173, Validation Loss: 0.30255989730358124\n",
      "Epoch 10/50, Training Loss: 0.4155975043773651, Validation Loss: 0.39774929732084274\n",
      "Epoch 20/50, Training Loss: 0.2989563584327698, Validation Loss: 0.28467754274606705\n",
      "Epoch 30/50, Training Loss: 0.28652454614639283, Validation Loss: 0.28592249006032944\n",
      "Epoch 40/50, Training Loss: 0.2677502731482188, Validation Loss: 0.2719052992761135\n"
     ]
    },
    {
     "name": "stderr",
     "output_type": "stream",
     "text": [
      "[I 2023-10-11 00:15:48,740] Trial 141 finished with value: 0.2839106246829033 and parameters: {'lr': 0.0008488101783187297, 'dropout_prob': 0.4328729683092194, 'force_n_layers': 2, 'force_kernel_size': 3, 'force_stride': 1, 'force_padding': 4, 'force_hidden_channels': 33, 'force_pooling_type': 'max', 'force_use_batch_norm': True, 'acc_n_layers': 4, 'acc_kernel_size': 7, 'acc_stride': 2, 'acc_padding': 6, 'acc_hidden_channels': 39, 'acc_pooling_type': 'avg', 'acc_use_batch_norm': False}. Best is trial 78 with value: 0.25265607982873917.\n"
     ]
    },
    {
     "name": "stdout",
     "output_type": "stream",
     "text": [
      "Epoch 50/50, Training Loss: 0.26792893509070076, Validation Loss: 0.2839106246829033\n",
      "Epoch 10/50, Training Loss: 0.38235963582992555, Validation Loss: 0.36943530291318893\n",
      "Epoch 20/50, Training Loss: 0.2814325580994288, Validation Loss: 0.2870761714875698\n",
      "Epoch 30/50, Training Loss: 0.2593923459450404, Validation Loss: 0.2813594937324524\n",
      "Epoch 40/50, Training Loss: 0.23876625299453735, Validation Loss: 0.2816321700811386\n"
     ]
    },
    {
     "name": "stderr",
     "output_type": "stream",
     "text": [
      "[I 2023-10-11 00:16:09,878] Trial 142 finished with value: 0.29459498077630997 and parameters: {'lr': 0.0012772503002659514, 'dropout_prob': 0.4454391676287064, 'force_n_layers': 2, 'force_kernel_size': 3, 'force_stride': 3, 'force_padding': 4, 'force_hidden_channels': 41, 'force_pooling_type': 'max', 'force_use_batch_norm': True, 'acc_n_layers': 4, 'acc_kernel_size': 7, 'acc_stride': 2, 'acc_padding': 6, 'acc_hidden_channels': 54, 'acc_pooling_type': 'avg', 'acc_use_batch_norm': False}. Best is trial 78 with value: 0.25265607982873917.\n"
     ]
    },
    {
     "name": "stdout",
     "output_type": "stream",
     "text": [
      "Epoch 50/50, Training Loss: 0.2121500809987386, Validation Loss: 0.29459498077630997\n",
      "Epoch 10/50, Training Loss: 0.38419421513875324, Validation Loss: 0.4128061681985855\n",
      "Epoch 20/50, Training Loss: 0.2858918160200119, Validation Loss: 0.29989001154899597\n",
      "Epoch 30/50, Training Loss: 0.2657609184583028, Validation Loss: 0.2694639414548874\n",
      "Epoch 40/50, Training Loss: 0.25388888716697694, Validation Loss: 0.2773287408053875\n"
     ]
    },
    {
     "name": "stderr",
     "output_type": "stream",
     "text": [
      "[I 2023-10-11 00:16:29,466] Trial 143 finished with value: 0.26916491985321045 and parameters: {'lr': 0.0010693305072473351, 'dropout_prob': 0.4246949400633764, 'force_n_layers': 2, 'force_kernel_size': 3, 'force_stride': 1, 'force_padding': 4, 'force_hidden_channels': 25, 'force_pooling_type': 'max', 'force_use_batch_norm': True, 'acc_n_layers': 4, 'acc_kernel_size': 7, 'acc_stride': 2, 'acc_padding': 6, 'acc_hidden_channels': 48, 'acc_pooling_type': 'avg', 'acc_use_batch_norm': False}. Best is trial 78 with value: 0.25265607982873917.\n"
     ]
    },
    {
     "name": "stdout",
     "output_type": "stream",
     "text": [
      "Epoch 50/50, Training Loss: 0.23748728036880493, Validation Loss: 0.26916491985321045\n",
      "Epoch 10/50, Training Loss: 0.3921874662240346, Validation Loss: 0.37871024012565613\n",
      "Epoch 20/50, Training Loss: 0.2978254705667496, Validation Loss: 0.2933153435587883\n",
      "Epoch 30/50, Training Loss: 0.2715626388788223, Validation Loss: 0.2644010968506336\n",
      "Epoch 40/50, Training Loss: 0.2538569251696269, Validation Loss: 0.2799353860318661\n"
     ]
    },
    {
     "name": "stderr",
     "output_type": "stream",
     "text": [
      "[I 2023-10-11 00:16:48,438] Trial 144 finished with value: 0.27848708629608154 and parameters: {'lr': 0.0011206048904228072, 'dropout_prob': 0.4501446661608217, 'force_n_layers': 2, 'force_kernel_size': 3, 'force_stride': 1, 'force_padding': 4, 'force_hidden_channels': 18, 'force_pooling_type': 'max', 'force_use_batch_norm': True, 'acc_n_layers': 4, 'acc_kernel_size': 7, 'acc_stride': 2, 'acc_padding': 6, 'acc_hidden_channels': 48, 'acc_pooling_type': 'avg', 'acc_use_batch_norm': False}. Best is trial 78 with value: 0.25265607982873917.\n"
     ]
    },
    {
     "name": "stdout",
     "output_type": "stream",
     "text": [
      "Epoch 50/50, Training Loss: 0.2397818942864736, Validation Loss: 0.27848708629608154\n",
      "Epoch 10/50, Training Loss: 0.3159237066904704, Validation Loss: 0.3291635140776634\n",
      "Epoch 20/50, Training Loss: 0.27859430412451425, Validation Loss: 0.29632820188999176\n",
      "Epoch 30/50, Training Loss: 0.25420675178368884, Validation Loss: 0.2789864167571068\n",
      "Epoch 40/50, Training Loss: 0.22747824490070342, Validation Loss: 0.26970474049448967\n"
     ]
    },
    {
     "name": "stderr",
     "output_type": "stream",
     "text": [
      "[I 2023-10-11 00:17:10,682] Trial 145 finished with value: 0.2776021659374237 and parameters: {'lr': 0.0014259833752277519, 'dropout_prob': 0.4320582183786305, 'force_n_layers': 2, 'force_kernel_size': 3, 'force_stride': 1, 'force_padding': 4, 'force_hidden_channels': 26, 'force_pooling_type': 'max', 'force_use_batch_norm': True, 'acc_n_layers': 4, 'acc_kernel_size': 7, 'acc_stride': 2, 'acc_padding': 7, 'acc_hidden_channels': 57, 'acc_pooling_type': 'avg', 'acc_use_batch_norm': False}. Best is trial 78 with value: 0.25265607982873917.\n"
     ]
    },
    {
     "name": "stdout",
     "output_type": "stream",
     "text": [
      "Epoch 50/50, Training Loss: 0.20172110398610432, Validation Loss: 0.2776021659374237\n",
      "Epoch 10/50, Training Loss: 0.398601108789444, Validation Loss: 0.38930777460336685\n",
      "Epoch 20/50, Training Loss: 0.29022138118743895, Validation Loss: 0.28017519414424896\n",
      "Epoch 30/50, Training Loss: 0.26388812959194186, Validation Loss: 0.2740439884364605\n",
      "Epoch 40/50, Training Loss: 0.25723114709059397, Validation Loss: 0.2848300263285637\n"
     ]
    },
    {
     "name": "stderr",
     "output_type": "stream",
     "text": [
      "[I 2023-10-11 00:17:32,651] Trial 146 finished with value: 0.26992017775774 and parameters: {'lr': 0.0009629634227774909, 'dropout_prob': 0.4141424657448958, 'force_n_layers': 2, 'force_kernel_size': 3, 'force_stride': 1, 'force_padding': 3, 'force_hidden_channels': 31, 'force_pooling_type': 'max', 'force_use_batch_norm': True, 'acc_n_layers': 4, 'acc_kernel_size': 8, 'acc_stride': 2, 'acc_padding': 5, 'acc_hidden_channels': 62, 'acc_pooling_type': 'avg', 'acc_use_batch_norm': False}. Best is trial 78 with value: 0.25265607982873917.\n"
     ]
    },
    {
     "name": "stdout",
     "output_type": "stream",
     "text": [
      "Epoch 50/50, Training Loss: 0.23989693224430084, Validation Loss: 0.26992017775774\n",
      "Epoch 10/50, Training Loss: 0.34336423873901367, Validation Loss: 0.36775440722703934\n",
      "Epoch 20/50, Training Loss: 0.2792464186747869, Validation Loss: 0.2797992154955864\n",
      "Epoch 30/50, Training Loss: 0.2683000256617864, Validation Loss: 0.3061557039618492\n",
      "Epoch 40/50, Training Loss: 0.24330485761165618, Validation Loss: 0.2711649015545845\n"
     ]
    },
    {
     "name": "stderr",
     "output_type": "stream",
     "text": [
      "[I 2023-10-11 00:18:00,151] Trial 147 finished with value: 0.2684036083519459 and parameters: {'lr': 0.0009347336405929001, 'dropout_prob': 0.41642726126040475, 'force_n_layers': 2, 'force_kernel_size': 3, 'force_stride': 1, 'force_padding': 3, 'force_hidden_channels': 32, 'force_pooling_type': 'max', 'force_use_batch_norm': True, 'acc_n_layers': 4, 'acc_kernel_size': 8, 'acc_stride': 2, 'acc_padding': 5, 'acc_hidden_channels': 75, 'acc_pooling_type': 'avg', 'acc_use_batch_norm': False}. Best is trial 78 with value: 0.25265607982873917.\n"
     ]
    },
    {
     "name": "stdout",
     "output_type": "stream",
     "text": [
      "Epoch 50/50, Training Loss: 0.23243749837080638, Validation Loss: 0.2684036083519459\n",
      "Epoch 10/50, Training Loss: 0.4075644771258036, Validation Loss: 0.38421402871608734\n",
      "Epoch 20/50, Training Loss: 0.2965632647275925, Validation Loss: 0.30989692360162735\n",
      "Epoch 30/50, Training Loss: 0.2753011226654053, Validation Loss: 0.268690075725317\n",
      "Epoch 40/50, Training Loss: 0.2626774062712987, Validation Loss: 0.28125982731580734\n"
     ]
    },
    {
     "name": "stderr",
     "output_type": "stream",
     "text": [
      "[I 2023-10-11 00:18:26,826] Trial 148 finished with value: 0.26708516478538513 and parameters: {'lr': 0.0009404693280251217, 'dropout_prob': 0.41162972687976157, 'force_n_layers': 2, 'force_kernel_size': 3, 'force_stride': 1, 'force_padding': 3, 'force_hidden_channels': 32, 'force_pooling_type': 'max', 'force_use_batch_norm': True, 'acc_n_layers': 4, 'acc_kernel_size': 6, 'acc_stride': 2, 'acc_padding': 5, 'acc_hidden_channels': 71, 'acc_pooling_type': 'avg', 'acc_use_batch_norm': False}. Best is trial 78 with value: 0.25265607982873917.\n"
     ]
    },
    {
     "name": "stdout",
     "output_type": "stream",
     "text": [
      "Epoch 50/50, Training Loss: 0.2490180601676305, Validation Loss: 0.26708516478538513\n",
      "Epoch 10/50, Training Loss: 0.3359015643596649, Validation Loss: 0.3126540184020996\n",
      "Epoch 20/50, Training Loss: 0.27903297543525696, Validation Loss: 0.2708536684513092\n",
      "Epoch 30/50, Training Loss: 0.26245160003503165, Validation Loss: 0.27505113184452057\n",
      "Epoch 40/50, Training Loss: 0.2406601945559184, Validation Loss: 0.2771715335547924\n"
     ]
    },
    {
     "name": "stderr",
     "output_type": "stream",
     "text": [
      "[I 2023-10-11 00:18:59,380] Trial 149 finished with value: 0.2803432196378708 and parameters: {'lr': 0.0009307312799590769, 'dropout_prob': 0.4216175652357177, 'force_n_layers': 6, 'force_kernel_size': 3, 'force_stride': 1, 'force_padding': 3, 'force_hidden_channels': 32, 'force_pooling_type': 'max', 'force_use_batch_norm': False, 'acc_n_layers': 4, 'acc_kernel_size': 8, 'acc_stride': 2, 'acc_padding': 5, 'acc_hidden_channels': 84, 'acc_pooling_type': 'avg', 'acc_use_batch_norm': False}. Best is trial 78 with value: 0.25265607982873917.\n"
     ]
    },
    {
     "name": "stdout",
     "output_type": "stream",
     "text": [
      "Epoch 50/50, Training Loss: 0.21446880797545115, Validation Loss: 0.2803432196378708\n"
     ]
    }
   ],
   "source": [
    "# Create an Optuna study for multimodal model hyperparameter optimization\n",
    "study = optuna.create_study(\n",
    "    study_name=\"Case#8: Multi Modal Outer\",\n",
    "    direction=\"minimize\",  # Minimize final validation loss\n",
    "    storage=\"sqlite:///../../database_sqllite//db.sqlite3\",\n",
    "    pruner=optuna.pruners.MedianPruner(n_warmup_steps=5),\n",
    ")\n",
    "\n",
    "# Define the number of trials (hyperparameter combinations) you want to search\n",
    "num_trials = 150\n",
    "\n",
    "# Perform hyperparameter optimization for the multimodal model\n",
    "study.optimize(multimodal_objective, n_trials=num_trials, n_jobs=1)\n"
   ]
  },
  {
   "cell_type": "code",
   "execution_count": 11,
   "metadata": {},
   "outputs": [
    {
     "name": "stdout",
     "output_type": "stream",
     "text": [
      "Best hyperparameters:\n",
      "{'lr': 0.0005452723485761036, 'dropout_prob': 0.42333881966763554, 'force_n_layers': 2, 'force_kernel_size': 3, 'force_stride': 5, 'force_padding': 4, 'force_hidden_channels': 65, 'force_pooling_type': 'max', 'force_use_batch_norm': True, 'acc_n_layers': 4, 'acc_kernel_size': 6, 'acc_stride': 2, 'acc_padding': 5, 'acc_hidden_channels': 33, 'acc_pooling_type': 'max', 'acc_use_batch_norm': False}\n",
      "Best final validation loss:\n",
      "0.25265607982873917\n"
     ]
    }
   ],
   "source": [
    "# Print the best hyperparameters and their associated final validation loss\n",
    "print(\"Best hyperparameters:\")\n",
    "print(study.best_params)\n",
    "print(\"Best final validation loss:\")\n",
    "print(study.best_value)"
   ]
  },
  {
   "cell_type": "code",
   "execution_count": 12,
   "metadata": {},
   "outputs": [],
   "source": [
    "# Specify the path where you want to save the JSON file\n",
    "config_file_path = \"../best_configs/multimodal_outer_best_configs.json\"\n",
    "\n",
    "# Save the best hyperparameters and validation loss to a JSON file\n",
    "best_configs = {\n",
    "    \"best_params\": study.best_params,\n",
    "    \"best_value\": study.best_value,\n",
    "}\n",
    "\n",
    "with open(config_file_path, \"w\") as config_file:\n",
    "    json.dump(best_configs, config_file)"
   ]
  },
  {
   "cell_type": "code",
   "execution_count": 17,
   "metadata": {},
   "outputs": [],
   "source": [
    "\n",
    "# Load the saved configuration\n",
    "with open(config_file_path, \"r\") as config_file:\n",
    "    saved_configs = json.load(config_file)\n",
    "\n",
    "# Compare the new best value with the saved one\n",
    "if study.best_value < saved_configs[\"best_value\"]:\n",
    "    print(\"New best value found. Replacing saved configuration.\")\n",
    "    saved_configs[\"best_params\"] = study.best_params\n",
    "    saved_configs[\"best_value\"] = study.best_value\n",
    "\n",
    "    # Update the saved configuration file\n",
    "    with open(config_file_path, \"w\") as config_file:\n",
    "        json.dump(saved_configs, config_file)"
   ]
  },
  {
   "cell_type": "code",
   "execution_count": 16,
   "metadata": {},
   "outputs": [],
   "source": [
    "# Save the best hyperparameters and validation loss to a JSON file\n",
    "best_configs = {\n",
    "    \"best_params\": study.best_params,\n",
    "    \"best_value\": study.best_value,\n",
    "}\n",
    "\n",
    "with open(config_file_path, \"w\") as config_file:\n",
    "    json.dump(best_configs, config_file)"
   ]
  },
  {
   "cell_type": "markdown",
   "metadata": {},
   "source": [
    "# Thank You"
   ]
  }
 ],
 "metadata": {
  "kernelspec": {
   "display_name": ".aifaps",
   "language": "python",
   "name": "python3"
  },
  "language_info": {
   "codemirror_mode": {
    "name": "ipython",
    "version": 3
   },
   "file_extension": ".py",
   "mimetype": "text/x-python",
   "name": "python",
   "nbconvert_exporter": "python",
   "pygments_lexer": "ipython3",
   "version": "3.11.4"
  },
  "orig_nbformat": 4
 },
 "nbformat": 4,
 "nbformat_minor": 2
}
