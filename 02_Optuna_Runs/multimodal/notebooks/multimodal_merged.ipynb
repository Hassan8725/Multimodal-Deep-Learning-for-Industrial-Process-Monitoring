{
 "cells": [
  {
   "cell_type": "code",
   "execution_count": 2,
   "metadata": {},
   "outputs": [],
   "source": [
    "#---import libraries relating to data manipulation, visualization---------------------------------------------------\n",
    "import pandas as pd\n",
    "pd.set_option('display.max_columns', None)\n",
    "pd.set_option(\"max_colwidth\", None)\n",
    "\n",
    "import numpy as np\n",
    "import json\n",
    "\n",
    "#-------import libraries to evaluate the deep learning model---------------------------------------------------------------\n",
    "from sklearn.model_selection import train_test_split\n",
    "\n",
    "import warnings\n",
    "warnings.filterwarnings('ignore')\n",
    "\n",
    "#------ import Deep Learning Libraries-------#\n",
    "\n",
    "import torch\n",
    "import torch.nn as nn\n",
    "import torch.optim as optim\n",
    "\n",
    "\n",
    "import optuna\n",
    "from optuna.trial import Trial\n",
    "import pickle\n",
    "\n",
    "\n",
    "import sys\n",
    "sys.path.append('../../../src')  # Add the 'src' directory to the path\n",
    "\n",
    "#### Import Data Loading and Processing Functions<\n",
    "from multimodal.helper_functions import reproducible_comp, get_final_df\n",
    "from multimodal.model_architecture import MultimodalModel\n",
    "\n",
    "reproducible_comp()"
   ]
  },
  {
   "cell_type": "code",
   "execution_count": 3,
   "metadata": {},
   "outputs": [],
   "source": [
    "file_path = \"../../../data/processed_data/force_inner.pkl\"\n",
    "with open(file_path, 'rb') as picklefile:\n",
    "    data = pickle.load(picklefile)\n",
    "\n",
    "features_force_inner, category_force_inner, category_names, df_force_inner = get_final_df(data, is_acc_data=0, is_multilabel=1)\n",
    "\n",
    "file_path = \"../../../data/processed_data/acc_inner.pkl\"\n",
    "with open(file_path, 'rb') as picklefile:\n",
    "    data = pickle.load(picklefile)\n",
    "\n",
    "features_acc_inner, category_acc_inner, category_names, df_acc_inner = get_final_df(data, is_acc_data=1, is_multilabel=1)"
   ]
  },
  {
   "cell_type": "code",
   "execution_count": 4,
   "metadata": {},
   "outputs": [],
   "source": [
    "file_path = \"../../../data/processed_data/force_outer.pkl\"\n",
    "with open(file_path, 'rb') as picklefile:\n",
    "    data = pickle.load(picklefile)\n",
    "\n",
    "features_force_outer, category_force_outer, category_names, df_force_outer = get_final_df(data, is_acc_data=0, is_multilabel=1)\n",
    "\n",
    "file_path = \"../../../data/processed_data/acc_outer.pkl\"\n",
    "with open(file_path, 'rb') as picklefile:\n",
    "    data = pickle.load(picklefile)\n",
    "\n",
    "features_acc_outer, category_acc_outer, category_names, df_acc_outer = get_final_df(data, is_acc_data=1, is_multilabel=1)"
   ]
  },
  {
   "cell_type": "code",
   "execution_count": 5,
   "metadata": {},
   "outputs": [],
   "source": [
    "merged_features_force = np.concatenate((features_force_inner,features_force_outer), axis=0)\n",
    "merged_category_force = np.concatenate((category_force_inner,category_force_outer), axis=0)\n",
    "\n",
    "merged_features_acc = np.concatenate((features_acc_inner,features_acc_outer), axis=0)\n",
    "merged_category_acc = np.concatenate((category_acc_inner,category_acc_outer), axis=0)"
   ]
  },
  {
   "cell_type": "code",
   "execution_count": 7,
   "metadata": {},
   "outputs": [
    {
     "name": "stdout",
     "output_type": "stream",
     "text": [
      "Force Features Shape:  (2680, 1)\n",
      "Force Labels Shape:  (2680, 4)\n",
      "Acceleration Features Shape:  (2680, 3)\n",
      "Acceleration Labels Shape:  (2680, 4)\n"
     ]
    }
   ],
   "source": [
    "labels_force = merged_category_force.copy()\n",
    "features_force = merged_features_force.copy()\n",
    "print(\"Force Features Shape: \", features_force.shape)\n",
    "print(\"Force Labels Shape: \", labels_force.shape)\n",
    "\n",
    "labels_acc = merged_category_acc.copy()\n",
    "features_acc = merged_features_acc.copy()\n",
    "print(\"Acceleration Features Shape: \", features_acc.shape)\n",
    "print(\"Acceleration Labels Shape: \", labels_acc.shape)"
   ]
  },
  {
   "cell_type": "markdown",
   "metadata": {},
   "source": [
    "#### For Force"
   ]
  },
  {
   "cell_type": "code",
   "execution_count": 8,
   "metadata": {},
   "outputs": [
    {
     "name": "stdout",
     "output_type": "stream",
     "text": [
      "Updated Features Shape:  (2680, 150)\n"
     ]
    }
   ],
   "source": [
    "max_length = 150\n",
    "for i in range (len(features_force)):\n",
    "    if(len(features_force[i][0]<max_length)):\n",
    "        features_force[i][0]=np.pad(features_force[i][0], (0,max_length-len(features_force[i][0])), 'constant', constant_values=(0))\n",
    "feat_force= np.zeros(len(features_force) *max_length).reshape(-1, max_length)\n",
    "for i in range(len(features_force)):\n",
    "    feat_force[i]= np.concatenate((features_force[i][0]), axis=None)\n",
    "    \n",
    "\n",
    "print(\"Updated Features Shape: \", feat_force.shape)"
   ]
  },
  {
   "cell_type": "markdown",
   "metadata": {},
   "source": [
    "#### For Acceleration"
   ]
  },
  {
   "cell_type": "code",
   "execution_count": 9,
   "metadata": {},
   "outputs": [
    {
     "name": "stdout",
     "output_type": "stream",
     "text": [
      "Updated Features_acc Shape:  (2680, 1500)\n"
     ]
    }
   ],
   "source": [
    "max_length = 500\n",
    "\n",
    "for i in range (len(features_acc)):\n",
    "    if(len(features_acc[i][0]<max_length)):\n",
    "        features_acc[i][0]=np.pad(features_acc[i][0], (0,max_length-len(features_acc[i][0])), 'constant', constant_values=(0))\n",
    "        \n",
    "    if(len(features_acc[i][1]<max_length)):\n",
    "        features_acc[i][1]=np.pad(features_acc[i][1], (0,max_length-len(features_acc[i][1])), 'constant', constant_values=(0))\n",
    "    \n",
    "    if(len(features_acc[i][2]<max_length)):\n",
    "        features_acc[i][2]=np.pad(features_acc[i][2], (0,max_length-len(features_acc[i][2])), 'constant', constant_values=(0))\n",
    "\n",
    "feat_acc = np.zeros(len(features_acc)*3*max_length).reshape(-1, 3*max_length)\n",
    "for i in range(len(features_acc)):\n",
    "    feat_acc[i]= np.concatenate((features_acc[i][0],features_acc[i][1], features_acc[i][2]), axis=None)\n",
    "    \n",
    "\n",
    "print(\"Updated Features_acc Shape: \", feat_acc.shape)"
   ]
  },
  {
   "cell_type": "code",
   "execution_count": 10,
   "metadata": {},
   "outputs": [],
   "source": [
    "X_train_force, X_test_force, y_train_force, y_test_force = train_test_split(feat_force, labels_force, test_size=0.1, \n",
    "                                                    random_state=2, shuffle=True, stratify=labels_force)\n",
    "\n",
    "X_train_acc, X_test_acc, y_train_acc, y_test_acc = train_test_split(feat_acc, labels_acc, test_size=0.1, \n",
    "                                                    random_state=2, shuffle=True, stratify=labels_acc)                                                   "
   ]
  },
  {
   "cell_type": "code",
   "execution_count": 12,
   "metadata": {},
   "outputs": [
    {
     "name": "stdout",
     "output_type": "stream",
     "text": [
      "(2412, 1, 150)\n",
      "(2412, 4)\n",
      "(268, 1, 150)\n",
      "(268, 4)\n",
      "(2412, 1, 1500)\n",
      "(2412, 4)\n",
      "(268, 1, 1500)\n",
      "(268, 4)\n"
     ]
    }
   ],
   "source": [
    "X_train_force = X_train_force.reshape(-1, 1, feat_force.shape[1])\n",
    "X_test_force = X_test_force.reshape(-1, 1, feat_force.shape[1])\n",
    "\n",
    "X_train_acc = X_train_acc.reshape(-1, 1, feat_acc.shape[1])\n",
    "X_test_acc = X_test_acc.reshape(-1, 1, feat_acc.shape[1])\n",
    "\n",
    "print(X_train_force.shape)\n",
    "print(y_train_force.shape)\n",
    "print(X_test_force.shape)\n",
    "print(y_test_acc.shape)\n",
    "\n",
    "print(X_train_acc.shape)\n",
    "print(y_train_acc.shape)\n",
    "print(X_test_acc.shape)\n",
    "print(y_test_acc.shape)"
   ]
  },
  {
   "cell_type": "code",
   "execution_count": 13,
   "metadata": {},
   "outputs": [],
   "source": [
    "from torch.utils.data import DataLoader, TensorDataset\n",
    "\n",
    "input_channels = 1\n",
    "num_classes = 4\n",
    "\n",
    "device = torch.device(\"cuda\" if torch.cuda.is_available() else \"cpu\")\n",
    "\n",
    "# Load your multimodal data and labels for both modalities\n",
    "x_train_force = torch.tensor(X_train_force, dtype=torch.float32)\n",
    "y_train_force = torch.tensor(y_train_force, dtype=torch.float32)\n",
    "\n",
    "x_train_acc = torch.tensor(X_train_acc, dtype=torch.float32)\n",
    "y_train_acc = torch.tensor(y_train_acc, dtype=torch.float32)\n",
    "\n",
    "# Define the objective function for hyperparameter optimization\n",
    "def multimodal_objective(trial: Trial):\n",
    "    try:\n",
    "        # Define hyperparameters to search for\n",
    "        lr = trial.suggest_loguniform(\"lr\", 1e-5, 1e-2)  # Suggest a learning rate in log scale\n",
    "        dropout_prob = trial.suggest_float(\"dropout_prob\", 0.0, 0.5)\n",
    "        force_n_layers = trial.suggest_int(\"force_n_layers\", 1, 7)\n",
    "        force_kernel_size = trial.suggest_int(\"force_kernel_size\", 3, 9)\n",
    "        force_stride = trial.suggest_int(\"force_stride\", 1, 7)\n",
    "        force_padding = trial.suggest_int(\"force_padding\", 1, 10)\n",
    "        force_hidden_channels = trial.suggest_int(\"force_hidden_channels\", 16, 256)\n",
    "        force_pooling_type = trial.suggest_categorical(\"force_pooling_type\", [\"max\", \"avg\"])\n",
    "        force_use_batch_norm = trial.suggest_categorical(\"force_use_batch_norm\", [True, False])\n",
    "\n",
    "        acc_n_layers = trial.suggest_int(\"acc_n_layers\", 1, 7)\n",
    "        acc_kernel_size = trial.suggest_int(\"acc_kernel_size\", 3, 9)\n",
    "        acc_stride = trial.suggest_int(\"acc_stride\", 1, 7)\n",
    "        acc_padding = trial.suggest_int(\"acc_padding\", 1, 10)\n",
    "        acc_hidden_channels = trial.suggest_int(\"acc_hidden_channels\", 16, 256)\n",
    "        acc_pooling_type = trial.suggest_categorical(\"acc_pooling_type\", [\"max\", \"avg\"])\n",
    "        acc_use_batch_norm = trial.suggest_categorical(\"acc_use_batch_norm\", [True, False])\n",
    "\n",
    "\n",
    "        # Split the data into training and validation sets\n",
    "        x_train_split_force, x_valid_split_force, y_train_split_force, y_valid_split_force = train_test_split(\n",
    "            x_train_force, y_train_force, test_size=0.2, random_state=42\n",
    "        )\n",
    "        x_train_split_acc, x_valid_split_acc, y_train_split_acc, y_valid_split_acc = train_test_split(\n",
    "            x_train_acc, y_train_acc, test_size=0.2, random_state=42\n",
    "        )\n",
    "\n",
    "        # Create datasets and data loaders for both modalities\n",
    "        train_dataset_force = TensorDataset(x_train_split_force, y_train_split_force)\n",
    "        valid_dataset_force = TensorDataset(x_valid_split_force, y_valid_split_force)\n",
    "\n",
    "        train_dataset_acc = TensorDataset(x_train_split_acc, y_train_split_acc)\n",
    "        valid_dataset_acc = TensorDataset(x_valid_split_acc, y_valid_split_acc)\n",
    "\n",
    "        train_loader_force = DataLoader(train_dataset_force, batch_size=64, shuffle=True)\n",
    "        valid_loader_force = DataLoader(valid_dataset_force, batch_size=64, shuffle=False)\n",
    "\n",
    "        train_loader_acc = DataLoader(train_dataset_acc, batch_size=64, shuffle=True)\n",
    "        valid_loader_acc = DataLoader(valid_dataset_acc, batch_size=64, shuffle=False)\n",
    "\n",
    "        # Create the multimodal model with the suggested hyperparameters\n",
    "        model = MultimodalModel(input_channels, num_classes, \n",
    "                 force_n_layers, force_kernel_size, force_stride, force_padding, force_hidden_channels,\n",
    "                 force_pooling_type, force_use_batch_norm,\n",
    "                 acc_n_layers, acc_kernel_size, acc_stride, acc_padding, acc_hidden_channels,\n",
    "                 acc_pooling_type, acc_use_batch_norm, dropout_prob).to(device)\n",
    "\n",
    "        criterion = nn.BCEWithLogitsLoss()\n",
    "        optimizer = optim.Adam(model.parameters(), lr=lr)\n",
    "\n",
    "        num_epochs = 50\n",
    "\n",
    "        model.train()\n",
    "        for epoch in range(num_epochs):\n",
    "            # Training loop\n",
    "            running_loss = 0.0\n",
    "            for (inputs_acc, labels), (inputs_force,lab) in zip(train_loader_acc, train_loader_force):\n",
    "                inputs_acc, labels, inputs_force = inputs_acc.to(device), labels.to(device), inputs_force.to(device)\n",
    "\n",
    "                optimizer.zero_grad()\n",
    "\n",
    "                outputs = model(inputs_force, inputs_acc)\n",
    "                loss = criterion(outputs, labels.float())\n",
    "                loss.backward()\n",
    "                optimizer.step()\n",
    "\n",
    "                running_loss += loss.item()\n",
    "\n",
    "            train_loss = running_loss / len(train_loader_acc)\n",
    "\n",
    "            # Validation loss calculation (similar to training loop)\n",
    "            model.eval()\n",
    "            valid_loss = 0.0\n",
    "            with torch.no_grad():\n",
    "                for (inputs_acc_valid, labels_valid), (inputs_force_valid,lab) in zip(valid_loader_acc, valid_loader_force):\n",
    "                    inputs_acc_valid, labels_valid, inputs_force_valid = inputs_acc_valid.to(device), labels_valid.to(device), inputs_force_valid.to(device)\n",
    "                    outputs_valid = model(inputs_force_valid, inputs_acc_valid)\n",
    "                    loss_valid = criterion(outputs_valid, labels_valid.float())\n",
    "                    valid_loss += loss_valid.item()\n",
    "\n",
    "            valid_loss = valid_loss / len(valid_loader_acc)\n",
    "            if (epoch + 1) % 10 == 0:\n",
    "                print(f\"Epoch {epoch + 1}/{num_epochs}, Training Loss: {train_loss}, Validation Loss: {valid_loss}\")\n",
    "\n",
    "        # Calculate and return the final validation loss\n",
    "        return valid_loss\n",
    "    \n",
    "    except Exception as e:\n",
    "        # Print the error for debugging purposes (optional)\n",
    "        print(f\"Trial failed with error: {e}\")\n",
    "\n",
    "        # Return a high validation loss to indicate failure\n",
    "        return 1.0  # High validation loss\n"
   ]
  },
  {
   "cell_type": "code",
   "execution_count": 15,
   "metadata": {},
   "outputs": [
    {
     "name": "stderr",
     "output_type": "stream",
     "text": [
      "[I 2023-10-11 00:31:36,811] A new study created in RDB with name: Case#9: Multi Modal Merged\n"
     ]
    },
    {
     "name": "stdout",
     "output_type": "stream",
     "text": [
      "Epoch 10/50, Training Loss: 0.239427603540882, Validation Loss: 0.3219570629298687\n",
      "Epoch 20/50, Training Loss: 0.12500581457730262, Validation Loss: 0.37958819419145584\n",
      "Epoch 30/50, Training Loss: 0.020142037301294265, Validation Loss: 0.6773548759520054\n",
      "Epoch 40/50, Training Loss: 0.0009394267220951376, Validation Loss: 0.966538555920124\n"
     ]
    },
    {
     "name": "stderr",
     "output_type": "stream",
     "text": [
      "[I 2023-10-11 00:32:58,450] Trial 0 finished with value: 1.0952163711190224 and parameters: {'lr': 0.001782241196279316, 'dropout_prob': 0.14269982125781172, 'force_n_layers': 7, 'force_kernel_size': 6, 'force_stride': 5, 'force_padding': 5, 'force_hidden_channels': 25, 'force_pooling_type': 'max', 'force_use_batch_norm': False, 'acc_n_layers': 4, 'acc_kernel_size': 3, 'acc_stride': 2, 'acc_padding': 4, 'acc_hidden_channels': 89, 'acc_pooling_type': 'avg', 'acc_use_batch_norm': True}. Best is trial 0 with value: 1.0952163711190224.\n"
     ]
    },
    {
     "name": "stdout",
     "output_type": "stream",
     "text": [
      "Epoch 50/50, Training Loss: 0.0003668555122379574, Validation Loss: 1.0952163711190224\n",
      "Epoch 10/50, Training Loss: 0.6138200971388048, Validation Loss: 0.6119955778121948\n",
      "Epoch 20/50, Training Loss: 0.5136406450502334, Validation Loss: 0.515052005648613\n",
      "Epoch 30/50, Training Loss: 0.4810181615814086, Validation Loss: 0.4768110141158104\n",
      "Epoch 40/50, Training Loss: 0.4631433756120743, Validation Loss: 0.46654699742794037\n"
     ]
    },
    {
     "name": "stderr",
     "output_type": "stream",
     "text": [
      "[I 2023-10-11 02:01:56,048] Trial 1 finished with value: 0.44984790682792664 and parameters: {'lr': 1.7146860262856232e-05, 'dropout_prob': 0.23007031842583364, 'force_n_layers': 7, 'force_kernel_size': 7, 'force_stride': 2, 'force_padding': 5, 'force_hidden_channels': 208, 'force_pooling_type': 'max', 'force_use_batch_norm': True, 'acc_n_layers': 4, 'acc_kernel_size': 8, 'acc_stride': 2, 'acc_padding': 8, 'acc_hidden_channels': 93, 'acc_pooling_type': 'max', 'acc_use_batch_norm': False}. Best is trial 1 with value: 0.44984790682792664.\n"
     ]
    },
    {
     "name": "stdout",
     "output_type": "stream",
     "text": [
      "Epoch 50/50, Training Loss: 0.45164956585053473, Validation Loss: 0.44984790682792664\n",
      "Epoch 10/50, Training Loss: 0.15820055983720288, Validation Loss: 0.37781557999551296\n",
      "Epoch 20/50, Training Loss: 0.04949062999578253, Validation Loss: 0.5777522847056389\n",
      "Epoch 30/50, Training Loss: 0.001358856854494661, Validation Loss: 0.9976484104990959\n",
      "Epoch 40/50, Training Loss: 0.00010913879410626607, Validation Loss: 1.1051056757569313\n"
     ]
    },
    {
     "name": "stderr",
     "output_type": "stream",
     "text": [
      "[I 2023-10-11 02:06:22,256] Trial 2 finished with value: 1.173727571964264 and parameters: {'lr': 0.002528835473532396, 'dropout_prob': 0.03314017419054571, 'force_n_layers': 5, 'force_kernel_size': 9, 'force_stride': 1, 'force_padding': 10, 'force_hidden_channels': 96, 'force_pooling_type': 'max', 'force_use_batch_norm': True, 'acc_n_layers': 5, 'acc_kernel_size': 7, 'acc_stride': 1, 'acc_padding': 4, 'acc_hidden_channels': 115, 'acc_pooling_type': 'avg', 'acc_use_batch_norm': True}. Best is trial 1 with value: 0.44984790682792664.\n"
     ]
    },
    {
     "name": "stdout",
     "output_type": "stream",
     "text": [
      "Epoch 50/50, Training Loss: 5.595310088416051e-05, Validation Loss: 1.173727571964264\n",
      "Epoch 10/50, Training Loss: 0.4564262974646784, Validation Loss: 0.44620800390839577\n",
      "Epoch 20/50, Training Loss: 0.40632159863748857, Validation Loss: 0.398389495909214\n",
      "Epoch 30/50, Training Loss: 0.3799736403649853, Validation Loss: 0.3713899999856949\n",
      "Epoch 40/50, Training Loss: 0.359620395206636, Validation Loss: 0.3609847240149975\n"
     ]
    },
    {
     "name": "stderr",
     "output_type": "stream",
     "text": [
      "[I 2023-10-11 02:06:48,812] Trial 3 finished with value: 0.35236190631985664 and parameters: {'lr': 0.0008452024142551288, 'dropout_prob': 0.2087861952354051, 'force_n_layers': 2, 'force_kernel_size': 7, 'force_stride': 4, 'force_padding': 3, 'force_hidden_channels': 64, 'force_pooling_type': 'max', 'force_use_batch_norm': False, 'acc_n_layers': 3, 'acc_kernel_size': 3, 'acc_stride': 4, 'acc_padding': 1, 'acc_hidden_channels': 81, 'acc_pooling_type': 'avg', 'acc_use_batch_norm': False}. Best is trial 3 with value: 0.35236190631985664.\n"
     ]
    },
    {
     "name": "stdout",
     "output_type": "stream",
     "text": [
      "Epoch 50/50, Training Loss: 0.3452421599818814, Validation Loss: 0.35236190631985664\n",
      "Epoch 10/50, Training Loss: 0.47531186957513133, Validation Loss: 0.4669053666293621\n",
      "Epoch 20/50, Training Loss: 0.4061286295613935, Validation Loss: 0.40255798026919365\n",
      "Epoch 30/50, Training Loss: 0.33585177458101706, Validation Loss: 0.3399328365921974\n",
      "Epoch 40/50, Training Loss: 0.29697315058400553, Validation Loss: 0.3206361625343561\n"
     ]
    },
    {
     "name": "stderr",
     "output_type": "stream",
     "text": [
      "[I 2023-10-11 02:09:41,463] Trial 4 finished with value: 0.30101291090250015 and parameters: {'lr': 4.037418193595936e-05, 'dropout_prob': 0.33590599582996833, 'force_n_layers': 5, 'force_kernel_size': 5, 'force_stride': 5, 'force_padding': 9, 'force_hidden_channels': 221, 'force_pooling_type': 'max', 'force_use_batch_norm': True, 'acc_n_layers': 6, 'acc_kernel_size': 6, 'acc_stride': 2, 'acc_padding': 8, 'acc_hidden_channels': 111, 'acc_pooling_type': 'avg', 'acc_use_batch_norm': True}. Best is trial 4 with value: 0.30101291090250015.\n"
     ]
    },
    {
     "name": "stdout",
     "output_type": "stream",
     "text": [
      "Epoch 50/50, Training Loss: 0.2725625456340851, Validation Loss: 0.30101291090250015\n"
     ]
    },
    {
     "name": "stderr",
     "output_type": "stream",
     "text": [
      "[I 2023-10-11 02:09:42,863] Trial 5 finished with value: 1.0 and parameters: {'lr': 0.00027161166706398554, 'dropout_prob': 0.3639872417582379, 'force_n_layers': 7, 'force_kernel_size': 5, 'force_stride': 6, 'force_padding': 2, 'force_hidden_channels': 181, 'force_pooling_type': 'avg', 'force_use_batch_norm': False, 'acc_n_layers': 2, 'acc_kernel_size': 8, 'acc_stride': 2, 'acc_padding': 3, 'acc_hidden_channels': 119, 'acc_pooling_type': 'max', 'acc_use_batch_norm': True}. Best is trial 4 with value: 0.30101291090250015.\n"
     ]
    },
    {
     "name": "stdout",
     "output_type": "stream",
     "text": [
      "Trial failed with error: Given input size: (181x1x1). Calculated output size: (181x1x0). Output size is too small\n"
     ]
    },
    {
     "name": "stderr",
     "output_type": "stream",
     "text": [
      "[I 2023-10-11 02:09:44,412] Trial 6 finished with value: 1.0 and parameters: {'lr': 0.0018924594612265847, 'dropout_prob': 0.1899222999310764, 'force_n_layers': 4, 'force_kernel_size': 8, 'force_stride': 4, 'force_padding': 6, 'force_hidden_channels': 76, 'force_pooling_type': 'avg', 'force_use_batch_norm': False, 'acc_n_layers': 5, 'acc_kernel_size': 5, 'acc_stride': 7, 'acc_padding': 2, 'acc_hidden_channels': 123, 'acc_pooling_type': 'avg', 'acc_use_batch_norm': True}. Best is trial 4 with value: 0.30101291090250015.\n"
     ]
    },
    {
     "name": "stdout",
     "output_type": "stream",
     "text": [
      "Trial failed with error: Given input size: (123x1x1). Calculated output size: (123x1x0). Output size is too small\n",
      "Epoch 10/50, Training Loss: 0.22880929372003, Validation Loss: 0.3232514951378107\n",
      "Epoch 20/50, Training Loss: 0.09116572838637137, Validation Loss: 0.4315202459692955\n",
      "Epoch 30/50, Training Loss: 0.04026217667025424, Validation Loss: 0.6509979739785194\n",
      "Epoch 40/50, Training Loss: 0.002711336338712323, Validation Loss: 0.7665244340896606\n"
     ]
    },
    {
     "name": "stderr",
     "output_type": "stream",
     "text": [
      "[I 2023-10-11 02:11:08,918] Trial 7 finished with value: 0.855630062520504 and parameters: {'lr': 0.0008909481452480777, 'dropout_prob': 0.18035790316869266, 'force_n_layers': 6, 'force_kernel_size': 7, 'force_stride': 3, 'force_padding': 10, 'force_hidden_channels': 124, 'force_pooling_type': 'avg', 'force_use_batch_norm': True, 'acc_n_layers': 3, 'acc_kernel_size': 7, 'acc_stride': 7, 'acc_padding': 3, 'acc_hidden_channels': 78, 'acc_pooling_type': 'max', 'acc_use_batch_norm': True}. Best is trial 4 with value: 0.30101291090250015.\n"
     ]
    },
    {
     "name": "stdout",
     "output_type": "stream",
     "text": [
      "Epoch 50/50, Training Loss: 0.0011297237229413322, Validation Loss: 0.855630062520504\n",
      "Epoch 10/50, Training Loss: 0.41939141961836046, Validation Loss: 0.42561670020222664\n",
      "Epoch 20/50, Training Loss: 0.3337361279033845, Validation Loss: 0.36340299248695374\n",
      "Epoch 30/50, Training Loss: 0.2839318110096839, Validation Loss: 0.33489445969462395\n",
      "Epoch 40/50, Training Loss: 0.2401341000391591, Validation Loss: 0.3243183270096779\n"
     ]
    },
    {
     "name": "stderr",
     "output_type": "stream",
     "text": [
      "[I 2023-10-11 02:12:04,291] Trial 8 finished with value: 0.3281593043357134 and parameters: {'lr': 0.0007226726964564065, 'dropout_prob': 0.3206180967227219, 'force_n_layers': 7, 'force_kernel_size': 8, 'force_stride': 2, 'force_padding': 5, 'force_hidden_channels': 74, 'force_pooling_type': 'avg', 'force_use_batch_norm': True, 'acc_n_layers': 2, 'acc_kernel_size': 8, 'acc_stride': 4, 'acc_padding': 3, 'acc_hidden_channels': 100, 'acc_pooling_type': 'max', 'acc_use_batch_norm': False}. Best is trial 4 with value: 0.30101291090250015.\n"
     ]
    },
    {
     "name": "stdout",
     "output_type": "stream",
     "text": [
      "Epoch 50/50, Training Loss: 0.21937816662173118, Validation Loss: 0.3281593043357134\n",
      "Epoch 10/50, Training Loss: 0.6288101461625868, Validation Loss: 0.6269315555691719\n",
      "Epoch 20/50, Training Loss: 0.627880129121965, Validation Loss: 0.6286344081163406\n",
      "Epoch 30/50, Training Loss: 0.6272902065707792, Validation Loss: 0.6248994320631027\n",
      "Epoch 40/50, Training Loss: 0.6274843754306916, Validation Loss: 0.6258905008435249\n"
     ]
    },
    {
     "name": "stderr",
     "output_type": "stream",
     "text": [
      "[I 2023-10-11 02:13:49,558] Trial 9 finished with value: 0.626031793653965 and parameters: {'lr': 3.540604233857599e-05, 'dropout_prob': 0.15523582671293262, 'force_n_layers': 7, 'force_kernel_size': 5, 'force_stride': 2, 'force_padding': 7, 'force_hidden_channels': 143, 'force_pooling_type': 'max', 'force_use_batch_norm': True, 'acc_n_layers': 1, 'acc_kernel_size': 4, 'acc_stride': 4, 'acc_padding': 3, 'acc_hidden_channels': 184, 'acc_pooling_type': 'max', 'acc_use_batch_norm': False}. Best is trial 4 with value: 0.30101291090250015.\n"
     ]
    },
    {
     "name": "stdout",
     "output_type": "stream",
     "text": [
      "Epoch 50/50, Training Loss: 0.6269535806871229, Validation Loss: 0.626031793653965\n",
      "Epoch 10/50, Training Loss: 0.28552441587371213, Validation Loss: 0.43286626040935516\n",
      "Epoch 20/50, Training Loss: 0.2336196312981267, Validation Loss: 0.5665749497711658\n",
      "Epoch 30/50, Training Loss: 0.06191203970792553, Validation Loss: 0.7547008618712425\n",
      "Epoch 40/50, Training Loss: 0.03016852407956556, Validation Loss: 0.908415399491787\n"
     ]
    },
    {
     "name": "stderr",
     "output_type": "stream",
     "text": [
      "[I 2023-10-11 02:17:10,775] Trial 10 finished with value: 0.7231546193361282 and parameters: {'lr': 0.009993180627276691, 'dropout_prob': 0.4768455229407584, 'force_n_layers': 3, 'force_kernel_size': 3, 'force_stride': 7, 'force_padding': 8, 'force_hidden_channels': 253, 'force_pooling_type': 'max', 'force_use_batch_norm': True, 'acc_n_layers': 7, 'acc_kernel_size': 6, 'acc_stride': 6, 'acc_padding': 10, 'acc_hidden_channels': 240, 'acc_pooling_type': 'avg', 'acc_use_batch_norm': True}. Best is trial 4 with value: 0.30101291090250015.\n"
     ]
    },
    {
     "name": "stdout",
     "output_type": "stream",
     "text": [
      "Epoch 50/50, Training Loss: 0.07925660735476882, Validation Loss: 0.7231546193361282\n",
      "Epoch 10/50, Training Loss: 0.6123362164343557, Validation Loss: 0.6067695990204811\n",
      "Epoch 20/50, Training Loss: 0.4699742217217722, Validation Loss: 0.46701759099960327\n",
      "Epoch 30/50, Training Loss: 0.4317364961870255, Validation Loss: 0.42831944674253464\n",
      "Epoch 40/50, Training Loss: 0.38987200394753485, Validation Loss: 0.4010731540620327\n"
     ]
    },
    {
     "name": "stderr",
     "output_type": "stream",
     "text": [
      "[I 2023-10-11 02:19:20,394] Trial 11 finished with value: 0.37710442394018173 and parameters: {'lr': 0.0001208318723563636, 'dropout_prob': 0.3308104969657477, 'force_n_layers': 5, 'force_kernel_size': 3, 'force_stride': 5, 'force_padding': 4, 'force_hidden_channels': 256, 'force_pooling_type': 'avg', 'force_use_batch_norm': True, 'acc_n_layers': 7, 'acc_kernel_size': 9, 'acc_stride': 5, 'acc_padding': 7, 'acc_hidden_channels': 168, 'acc_pooling_type': 'max', 'acc_use_batch_norm': False}. Best is trial 4 with value: 0.30101291090250015.\n"
     ]
    },
    {
     "name": "stdout",
     "output_type": "stream",
     "text": [
      "Epoch 50/50, Training Loss: 0.3634778155434516, Validation Loss: 0.37710442394018173\n",
      "Epoch 10/50, Training Loss: 0.6487511107998509, Validation Loss: 0.6496785059571266\n",
      "Epoch 20/50, Training Loss: 0.6293710739381851, Validation Loss: 0.6335424855351448\n",
      "Epoch 30/50, Training Loss: 0.6302327686740506, Validation Loss: 0.6319292485713959\n",
      "Epoch 40/50, Training Loss: 0.6287211987280077, Validation Loss: 0.6303419023752213\n"
     ]
    },
    {
     "name": "stderr",
     "output_type": "stream",
     "text": [
      "[I 2023-10-11 02:19:48,859] Trial 12 finished with value: 0.6264075115323067 and parameters: {'lr': 8.183547935149177e-05, 'dropout_prob': 0.34215666271217543, 'force_n_layers': 1, 'force_kernel_size': 5, 'force_stride': 1, 'force_padding': 8, 'force_hidden_channels': 16, 'force_pooling_type': 'avg', 'force_use_batch_norm': True, 'acc_n_layers': 6, 'acc_kernel_size': 6, 'acc_stride': 3, 'acc_padding': 6, 'acc_hidden_channels': 35, 'acc_pooling_type': 'avg', 'acc_use_batch_norm': False}. Best is trial 4 with value: 0.30101291090250015.\n"
     ]
    },
    {
     "name": "stdout",
     "output_type": "stream",
     "text": [
      "Epoch 50/50, Training Loss: 0.6252845967969587, Validation Loss: 0.6264075115323067\n",
      "Epoch 10/50, Training Loss: 0.6374537367974559, Validation Loss: 0.6325126737356186\n",
      "Epoch 20/50, Training Loss: 0.6275126895596904, Validation Loss: 0.6272964030504227\n",
      "Epoch 30/50, Training Loss: 0.6275956553797568, Validation Loss: 0.6270992383360863\n",
      "Epoch 40/50, Training Loss: 0.6290373782957753, Validation Loss: 0.6270569860935211\n"
     ]
    },
    {
     "name": "stderr",
     "output_type": "stream",
     "text": [
      "[I 2023-10-11 02:20:38,087] Trial 13 finished with value: 0.6276989430189133 and parameters: {'lr': 1.3015476019496729e-05, 'dropout_prob': 0.2912533119774913, 'force_n_layers': 5, 'force_kernel_size': 9, 'force_stride': 3, 'force_padding': 8, 'force_hidden_channels': 182, 'force_pooling_type': 'avg', 'force_use_batch_norm': True, 'acc_n_layers': 1, 'acc_kernel_size': 9, 'acc_stride': 3, 'acc_padding': 9, 'acc_hidden_channels': 24, 'acc_pooling_type': 'max', 'acc_use_batch_norm': False}. Best is trial 4 with value: 0.30101291090250015.\n"
     ]
    },
    {
     "name": "stdout",
     "output_type": "stream",
     "text": [
      "Epoch 50/50, Training Loss: 0.6263536618601891, Validation Loss: 0.6276989430189133\n"
     ]
    },
    {
     "name": "stderr",
     "output_type": "stream",
     "text": [
      "[I 2023-10-11 02:20:39,645] Trial 14 finished with value: 1.0 and parameters: {'lr': 0.00018797996451467284, 'dropout_prob': 0.41480617827042976, 'force_n_layers': 4, 'force_kernel_size': 4, 'force_stride': 5, 'force_padding': 1, 'force_hidden_channels': 126, 'force_pooling_type': 'max', 'force_use_batch_norm': True, 'acc_n_layers': 6, 'acc_kernel_size': 5, 'acc_stride': 5, 'acc_padding': 6, 'acc_hidden_channels': 170, 'acc_pooling_type': 'avg', 'acc_use_batch_norm': True}. Best is trial 4 with value: 0.30101291090250015.\n"
     ]
    },
    {
     "name": "stdout",
     "output_type": "stream",
     "text": [
      "Trial failed with error: Calculated padded input size per channel: (3). Kernel size: (4). Kernel size can't be greater than actual input size\n",
      "Epoch 10/50, Training Loss: 0.6345665916319816, Validation Loss: 0.6319998279213905\n",
      "Epoch 20/50, Training Loss: 0.6123014169354593, Validation Loss: 0.6115001663565636\n",
      "Epoch 30/50, Training Loss: 0.5879493278841819, Validation Loss: 0.5863178223371506\n",
      "Epoch 40/50, Training Loss: 0.5507522052334201, Validation Loss: 0.5497099757194519\n"
     ]
    },
    {
     "name": "stderr",
     "output_type": "stream",
     "text": [
      "[I 2023-10-11 02:23:13,823] Trial 15 finished with value: 0.5215730220079422 and parameters: {'lr': 6.013391805709628e-05, 'dropout_prob': 0.26931376698696585, 'force_n_layers': 6, 'force_kernel_size': 6, 'force_stride': 7, 'force_padding': 6, 'force_hidden_channels': 217, 'force_pooling_type': 'avg', 'force_use_batch_norm': True, 'acc_n_layers': 2, 'acc_kernel_size': 7, 'acc_stride': 1, 'acc_padding': 5, 'acc_hidden_channels': 57, 'acc_pooling_type': 'max', 'acc_use_batch_norm': False}. Best is trial 4 with value: 0.30101291090250015.\n"
     ]
    },
    {
     "name": "stdout",
     "output_type": "stream",
     "text": [
      "Epoch 50/50, Training Loss: 0.5215957299355538, Validation Loss: 0.5215730220079422\n"
     ]
    },
    {
     "name": "stderr",
     "output_type": "stream",
     "text": [
      "[I 2023-10-11 02:23:15,339] Trial 16 finished with value: 1.0 and parameters: {'lr': 0.0003901220660566453, 'dropout_prob': 0.3997458055829014, 'force_n_layers': 6, 'force_kernel_size': 8, 'force_stride': 3, 'force_padding': 4, 'force_hidden_channels': 52, 'force_pooling_type': 'max', 'force_use_batch_norm': True, 'acc_n_layers': 5, 'acc_kernel_size': 5, 'acc_stride': 3, 'acc_padding': 8, 'acc_hidden_channels': 153, 'acc_pooling_type': 'max', 'acc_use_batch_norm': True}. Best is trial 4 with value: 0.30101291090250015.\n"
     ]
    },
    {
     "name": "stdout",
     "output_type": "stream",
     "text": [
      "Trial failed with error: max_pool1d() Invalid computed output size: 0\n",
      "Epoch 10/50, Training Loss: 0.623078869235131, Validation Loss: 0.6208606511354446\n",
      "Epoch 20/50, Training Loss: 0.5724006160613029, Validation Loss: 0.5710265636444092\n",
      "Epoch 30/50, Training Loss: 0.5233902738940331, Validation Loss: 0.522310346364975\n",
      "Epoch 40/50, Training Loss: 0.49996603112066945, Validation Loss: 0.5003621950745583\n"
     ]
    },
    {
     "name": "stderr",
     "output_type": "stream",
     "text": [
      "[I 2023-10-11 02:24:55,410] Trial 17 finished with value: 0.48742876946926117 and parameters: {'lr': 2.32745893744841e-05, 'dropout_prob': 0.29971745368158575, 'force_n_layers': 3, 'force_kernel_size': 4, 'force_stride': 6, 'force_padding': 9, 'force_hidden_channels': 155, 'force_pooling_type': 'avg', 'force_use_batch_norm': True, 'acc_n_layers': 3, 'acc_kernel_size': 8, 'acc_stride': 5, 'acc_padding': 10, 'acc_hidden_channels': 202, 'acc_pooling_type': 'avg', 'acc_use_batch_norm': False}. Best is trial 4 with value: 0.30101291090250015.\n"
     ]
    },
    {
     "name": "stdout",
     "output_type": "stream",
     "text": [
      "Epoch 50/50, Training Loss: 0.4898694801715113, Validation Loss: 0.48742876946926117\n",
      "Epoch 10/50, Training Loss: 0.42827499008947806, Validation Loss: 0.4084675833582878\n",
      "Epoch 20/50, Training Loss: 0.267016317094526, Validation Loss: 0.32564495131373405\n",
      "Epoch 30/50, Training Loss: 0.20018946980276414, Validation Loss: 0.30359093472361565\n",
      "Epoch 40/50, Training Loss: 0.13412563863300508, Validation Loss: 0.3141052946448326\n"
     ]
    },
    {
     "name": "stderr",
     "output_type": "stream",
     "text": [
      "[I 2023-10-11 02:26:46,690] Trial 18 finished with value: 0.38074133917689323 and parameters: {'lr': 4.4502737621942945e-05, 'dropout_prob': 0.4922794391754434, 'force_n_layers': 4, 'force_kernel_size': 8, 'force_stride': 2, 'force_padding': 7, 'force_hidden_channels': 105, 'force_pooling_type': 'max', 'force_use_batch_norm': False, 'acc_n_layers': 6, 'acc_kernel_size': 6, 'acc_stride': 3, 'acc_padding': 7, 'acc_hidden_channels': 139, 'acc_pooling_type': 'max', 'acc_use_batch_norm': True}. Best is trial 4 with value: 0.30101291090250015.\n"
     ]
    },
    {
     "name": "stdout",
     "output_type": "stream",
     "text": [
      "Epoch 50/50, Training Loss: 0.06710562061878943, Validation Loss: 0.38074133917689323\n"
     ]
    },
    {
     "name": "stderr",
     "output_type": "stream",
     "text": [
      "[I 2023-10-11 02:26:48,131] Trial 19 finished with value: 1.0 and parameters: {'lr': 1.0068932433812686e-05, 'dropout_prob': 0.25416691346837306, 'force_n_layers': 6, 'force_kernel_size': 4, 'force_stride': 6, 'force_padding': 4, 'force_hidden_channels': 226, 'force_pooling_type': 'avg', 'force_use_batch_norm': True, 'acc_n_layers': 2, 'acc_kernel_size': 7, 'acc_stride': 6, 'acc_padding': 1, 'acc_hidden_channels': 52, 'acc_pooling_type': 'avg', 'acc_use_batch_norm': False}. Best is trial 4 with value: 0.30101291090250015.\n"
     ]
    },
    {
     "name": "stdout",
     "output_type": "stream",
     "text": [
      "Trial failed with error: Given input size: (226x1x1). Calculated output size: (226x1x0). Output size is too small\n",
      "Epoch 10/50, Training Loss: 0.35666246568003007, Validation Loss: 0.36173927038908005\n",
      "Epoch 20/50, Training Loss: 0.2732743861213807, Validation Loss: 0.3206612505018711\n",
      "Epoch 30/50, Training Loss: 0.22115491474828414, Validation Loss: 0.33539891242980957\n",
      "Epoch 40/50, Training Loss: 0.1818153266945193, Validation Loss: 0.33525609225034714\n"
     ]
    },
    {
     "name": "stderr",
     "output_type": "stream",
     "text": [
      "[I 2023-10-11 02:30:15,093] Trial 20 finished with value: 0.3623946085572243 and parameters: {'lr': 0.00011324513520946646, 'dropout_prob': 0.4169843092604544, 'force_n_layers': 5, 'force_kernel_size': 6, 'force_stride': 4, 'force_padding': 7, 'force_hidden_channels': 167, 'force_pooling_type': 'avg', 'force_use_batch_norm': True, 'acc_n_layers': 4, 'acc_kernel_size': 9, 'acc_stride': 1, 'acc_padding': 5, 'acc_hidden_channels': 103, 'acc_pooling_type': 'avg', 'acc_use_batch_norm': True}. Best is trial 4 with value: 0.30101291090250015.\n"
     ]
    },
    {
     "name": "stdout",
     "output_type": "stream",
     "text": [
      "Epoch 50/50, Training Loss: 0.1447396290398413, Validation Loss: 0.3623946085572243\n",
      "Epoch 10/50, Training Loss: 0.5012275268954616, Validation Loss: 0.5008361376821995\n",
      "Epoch 20/50, Training Loss: 0.4517805153323758, Validation Loss: 0.4538974352180958\n",
      "Epoch 30/50, Training Loss: 0.4358831326807699, Validation Loss: 0.4271121472120285\n",
      "Epoch 40/50, Training Loss: 0.41595335737351447, Validation Loss: 0.40339792519807816\n"
     ]
    },
    {
     "name": "stderr",
     "output_type": "stream",
     "text": [
      "[I 2023-10-11 02:30:38,922] Trial 21 finished with value: 0.38899755477905273 and parameters: {'lr': 0.0005083850978313369, 'dropout_prob': 0.2270636508654423, 'force_n_layers': 1, 'force_kernel_size': 7, 'force_stride': 4, 'force_padding': 3, 'force_hidden_channels': 59, 'force_pooling_type': 'max', 'force_use_batch_norm': False, 'acc_n_layers': 3, 'acc_kernel_size': 3, 'acc_stride': 4, 'acc_padding': 2, 'acc_hidden_channels': 74, 'acc_pooling_type': 'avg', 'acc_use_batch_norm': False}. Best is trial 4 with value: 0.30101291090250015.\n"
     ]
    },
    {
     "name": "stdout",
     "output_type": "stream",
     "text": [
      "Epoch 50/50, Training Loss: 0.40042450927918954, Validation Loss: 0.38899755477905273\n"
     ]
    },
    {
     "name": "stderr",
     "output_type": "stream",
     "text": [
      "[I 2023-10-11 02:30:40,328] Trial 22 finished with value: 1.0 and parameters: {'lr': 0.0006919377810413455, 'dropout_prob': 0.31341967784680014, 'force_n_layers': 3, 'force_kernel_size': 7, 'force_stride': 4, 'force_padding': 2, 'force_hidden_channels': 43, 'force_pooling_type': 'max', 'force_use_batch_norm': False, 'acc_n_layers': 2, 'acc_kernel_size': 4, 'acc_stride': 4, 'acc_padding': 1, 'acc_hidden_channels': 53, 'acc_pooling_type': 'avg', 'acc_use_batch_norm': False}. Best is trial 4 with value: 0.30101291090250015.\n"
     ]
    },
    {
     "name": "stdout",
     "output_type": "stream",
     "text": [
      "Trial failed with error: Calculated padded input size per channel: (6). Kernel size: (7). Kernel size can't be greater than actual input size\n",
      "Epoch 10/50, Training Loss: 0.6227462234035614, Validation Loss: 0.616641528904438\n",
      "Epoch 20/50, Training Loss: 0.5044913734159162, Validation Loss: 0.5121185407042503\n",
      "Epoch 30/50, Training Loss: 0.48205044096516025, Validation Loss: 0.48368820920586586\n",
      "Epoch 40/50, Training Loss: 0.46728029943281607, Validation Loss: 0.47804974764585495\n"
     ]
    },
    {
     "name": "stderr",
     "output_type": "stream",
     "text": [
      "[I 2023-10-11 02:31:56,713] Trial 23 finished with value: 0.468494426459074 and parameters: {'lr': 0.00018336687618747427, 'dropout_prob': 0.36567000275333283, 'force_n_layers': 2, 'force_kernel_size': 8, 'force_stride': 5, 'force_padding': 3, 'force_hidden_channels': 79, 'force_pooling_type': 'max', 'force_use_batch_norm': False, 'acc_n_layers': 3, 'acc_kernel_size': 4, 'acc_stride': 5, 'acc_padding': 2, 'acc_hidden_channels': 137, 'acc_pooling_type': 'avg', 'acc_use_batch_norm': False}. Best is trial 4 with value: 0.30101291090250015.\n"
     ]
    },
    {
     "name": "stdout",
     "output_type": "stream",
     "text": [
      "Epoch 50/50, Training Loss: 0.456513044334227, Validation Loss: 0.468494426459074\n",
      "Epoch 10/50, Training Loss: 0.6275628882069741, Validation Loss: 0.6284614354372025\n",
      "Epoch 20/50, Training Loss: 0.6267348700954068, Validation Loss: 0.6285183057188988\n",
      "Epoch 30/50, Training Loss: 0.6220146129208226, Validation Loss: 0.6241614818572998\n",
      "Epoch 40/50, Training Loss: 0.6157283609913241, Validation Loss: 0.6210657805204391\n"
     ]
    },
    {
     "name": "stderr",
     "output_type": "stream",
     "text": [
      "[I 2023-10-11 02:32:35,330] Trial 24 finished with value: 0.6137730553746223 and parameters: {'lr': 0.00029706011881695175, 'dropout_prob': 0.2879854713026642, 'force_n_layers': 2, 'force_kernel_size': 9, 'force_stride': 3, 'force_padding': 3, 'force_hidden_channels': 101, 'force_pooling_type': 'max', 'force_use_batch_norm': False, 'acc_n_layers': 1, 'acc_kernel_size': 3, 'acc_stride': 2, 'acc_padding': 1, 'acc_hidden_channels': 71, 'acc_pooling_type': 'avg', 'acc_use_batch_norm': False}. Best is trial 4 with value: 0.30101291090250015.\n"
     ]
    },
    {
     "name": "stdout",
     "output_type": "stream",
     "text": [
      "Epoch 50/50, Training Loss: 0.6079732602642428, Validation Loss: 0.6137730553746223\n"
     ]
    },
    {
     "name": "stderr",
     "output_type": "stream",
     "text": [
      "[I 2023-10-11 02:32:36,878] Trial 25 finished with value: 1.0 and parameters: {'lr': 0.0008856060231752963, 'dropout_prob': 0.2582734890501748, 'force_n_layers': 2, 'force_kernel_size': 7, 'force_stride': 2, 'force_padding': 5, 'force_hidden_channels': 72, 'force_pooling_type': 'max', 'force_use_batch_norm': False, 'acc_n_layers': 4, 'acc_kernel_size': 8, 'acc_stride': 4, 'acc_padding': 4, 'acc_hidden_channels': 102, 'acc_pooling_type': 'avg', 'acc_use_batch_norm': False}. Best is trial 4 with value: 0.30101291090250015.\n"
     ]
    },
    {
     "name": "stdout",
     "output_type": "stream",
     "text": [
      "Trial failed with error: Given input size: (102x1x1). Calculated output size: (102x1x0). Output size is too small\n",
      "Epoch 10/50, Training Loss: 0.6296813372642763, Validation Loss: 0.6291571408510208\n",
      "Epoch 20/50, Training Loss: 0.5929815980695909, Validation Loss: 0.5971505045890808\n",
      "Epoch 30/50, Training Loss: 0.5386923378513705, Validation Loss: 0.5382602289319038\n",
      "Epoch 40/50, Training Loss: 0.5045479170737728, Validation Loss: 0.5084104053676128\n"
     ]
    },
    {
     "name": "stderr",
     "output_type": "stream",
     "text": [
      "[I 2023-10-11 02:33:09,125] Trial 26 finished with value: 0.4947921670973301 and parameters: {'lr': 2.9184940330723237e-05, 'dropout_prob': 0.32680003385192874, 'force_n_layers': 4, 'force_kernel_size': 5, 'force_stride': 1, 'force_padding': 1, 'force_hidden_channels': 34, 'force_pooling_type': 'max', 'force_use_batch_norm': False, 'acc_n_layers': 3, 'acc_kernel_size': 5, 'acc_stride': 6, 'acc_padding': 2, 'acc_hidden_channels': 112, 'acc_pooling_type': 'max', 'acc_use_batch_norm': False}. Best is trial 4 with value: 0.30101291090250015.\n"
     ]
    },
    {
     "name": "stdout",
     "output_type": "stream",
     "text": [
      "Epoch 50/50, Training Loss: 0.4896821600775565, Validation Loss: 0.4947921670973301\n",
      "Epoch 10/50, Training Loss: 0.6286222684767938, Validation Loss: 0.6271935626864433\n",
      "Epoch 20/50, Training Loss: 0.623198974517084, Validation Loss: 0.6232455223798752\n",
      "Epoch 30/50, Training Loss: 0.6097037619160067, Validation Loss: 0.6116431802511215\n",
      "Epoch 40/50, Training Loss: 0.5860772017509707, Validation Loss: 0.5887134745717049\n"
     ]
    },
    {
     "name": "stderr",
     "output_type": "stream",
     "text": [
      "[I 2023-10-11 02:33:48,060] Trial 27 finished with value: 0.5594609156250954 and parameters: {'lr': 4.773412118773806e-05, 'dropout_prob': 0.21485372049649964, 'force_n_layers': 3, 'force_kernel_size': 6, 'force_stride': 6, 'force_padding': 6, 'force_hidden_channels': 92, 'force_pooling_type': 'max', 'force_use_batch_norm': True, 'acc_n_layers': 2, 'acc_kernel_size': 6, 'acc_stride': 3, 'acc_padding': 9, 'acc_hidden_channels': 84, 'acc_pooling_type': 'avg', 'acc_use_batch_norm': False}. Best is trial 4 with value: 0.30101291090250015.\n"
     ]
    },
    {
     "name": "stdout",
     "output_type": "stream",
     "text": [
      "Epoch 50/50, Training Loss: 0.5569248622463595, Validation Loss: 0.5594609156250954\n"
     ]
    },
    {
     "name": "stderr",
     "output_type": "stream",
     "text": [
      "[I 2023-10-11 02:33:49,459] Trial 28 finished with value: 1.0 and parameters: {'lr': 7.465415277331479e-05, 'dropout_prob': 0.3628658636445421, 'force_n_layers': 6, 'force_kernel_size': 8, 'force_stride': 4, 'force_padding': 2, 'force_hidden_channels': 121, 'force_pooling_type': 'avg', 'force_use_batch_norm': False, 'acc_n_layers': 5, 'acc_kernel_size': 4, 'acc_stride': 4, 'acc_padding': 1, 'acc_hidden_channels': 133, 'acc_pooling_type': 'max', 'acc_use_batch_norm': True}. Best is trial 4 with value: 0.30101291090250015.\n"
     ]
    },
    {
     "name": "stdout",
     "output_type": "stream",
     "text": [
      "Trial failed with error: Calculated padded input size per channel: (6). Kernel size: (8). Kernel size can't be greater than actual input size\n",
      "Epoch 10/50, Training Loss: 0.2790025857187087, Validation Loss: 0.29514857940375805\n",
      "Epoch 20/50, Training Loss: 0.14644199513619946, Validation Loss: 0.35187749937176704\n",
      "Epoch 30/50, Training Loss: 0.058304161794724, Validation Loss: 0.47961879149079323\n",
      "Epoch 40/50, Training Loss: 0.012650127657839367, Validation Loss: 0.6880801171064377\n"
     ]
    },
    {
     "name": "stderr",
     "output_type": "stream",
     "text": [
      "[I 2023-10-11 02:34:38,494] Trial 29 finished with value: 0.9158262461423874 and parameters: {'lr': 0.0010677577355446466, 'dropout_prob': 0.14027719274167494, 'force_n_layers': 7, 'force_kernel_size': 6, 'force_stride': 5, 'force_padding': 5, 'force_hidden_channels': 62, 'force_pooling_type': 'max', 'force_use_batch_norm': False, 'acc_n_layers': 4, 'acc_kernel_size': 7, 'acc_stride': 2, 'acc_padding': 3, 'acc_hidden_channels': 40, 'acc_pooling_type': 'avg', 'acc_use_batch_norm': True}. Best is trial 4 with value: 0.30101291090250015.\n"
     ]
    },
    {
     "name": "stdout",
     "output_type": "stream",
     "text": [
      "Epoch 50/50, Training Loss: 0.001930439750844192, Validation Loss: 0.9158262461423874\n",
      "Epoch 10/50, Training Loss: 0.4710411900474179, Validation Loss: 0.4670376665890217\n",
      "Epoch 20/50, Training Loss: 0.415834593196069, Validation Loss: 0.42268457263708115\n",
      "Epoch 30/50, Training Loss: 0.3805063251526125, Validation Loss: 0.37865400314331055\n",
      "Epoch 40/50, Training Loss: 0.3533051754197767, Validation Loss: 0.3529260568320751\n"
     ]
    },
    {
     "name": "stderr",
     "output_type": "stream",
     "text": [
      "[I 2023-10-11 02:35:08,151] Trial 30 finished with value: 0.3372131809592247 and parameters: {'lr': 0.0006070277869001533, 'dropout_prob': 0.28765003746218715, 'force_n_layers': 1, 'force_kernel_size': 7, 'force_stride': 3, 'force_padding': 4, 'force_hidden_channels': 29, 'force_pooling_type': 'max', 'force_use_batch_norm': True, 'acc_n_layers': 3, 'acc_kernel_size': 3, 'acc_stride': 3, 'acc_padding': 5, 'acc_hidden_channels': 93, 'acc_pooling_type': 'avg', 'acc_use_batch_norm': False}. Best is trial 4 with value: 0.30101291090250015.\n"
     ]
    },
    {
     "name": "stdout",
     "output_type": "stream",
     "text": [
      "Epoch 50/50, Training Loss: 0.32990557003405785, Validation Loss: 0.3372131809592247\n",
      "Epoch 10/50, Training Loss: 0.48642026032170943, Validation Loss: 0.4830823168158531\n",
      "Epoch 20/50, Training Loss: 0.43091585463093174, Validation Loss: 0.4362857826054096\n",
      "Epoch 30/50, Training Loss: 0.40670850969129996, Validation Loss: 0.4059961214661598\n",
      "Epoch 40/50, Training Loss: 0.3836926019960834, Validation Loss: 0.39203549176454544\n"
     ]
    },
    {
     "name": "stderr",
     "output_type": "stream",
     "text": [
      "[I 2023-10-11 02:35:37,463] Trial 31 finished with value: 0.37632570788264275 and parameters: {'lr': 0.0004560234207550399, 'dropout_prob': 0.2787748356462443, 'force_n_layers': 1, 'force_kernel_size': 7, 'force_stride': 3, 'force_padding': 4, 'force_hidden_channels': 30, 'force_pooling_type': 'max', 'force_use_batch_norm': True, 'acc_n_layers': 3, 'acc_kernel_size': 3, 'acc_stride': 3, 'acc_padding': 5, 'acc_hidden_channels': 89, 'acc_pooling_type': 'avg', 'acc_use_batch_norm': False}. Best is trial 4 with value: 0.30101291090250015.\n"
     ]
    },
    {
     "name": "stdout",
     "output_type": "stream",
     "text": [
      "Epoch 50/50, Training Loss: 0.36836712302700164, Validation Loss: 0.37632570788264275\n",
      "Epoch 10/50, Training Loss: 0.4469904678483163, Validation Loss: 0.4384067691862583\n",
      "Epoch 20/50, Training Loss: 0.3777136350831678, Validation Loss: 0.3898274637758732\n",
      "Epoch 30/50, Training Loss: 0.34301852026293356, Validation Loss: 0.3566052205860615\n",
      "Epoch 40/50, Training Loss: 0.3130251149977407, Validation Loss: 0.3534010387957096\n"
     ]
    },
    {
     "name": "stderr",
     "output_type": "stream",
     "text": [
      "[I 2023-10-11 02:36:26,785] Trial 32 finished with value: 0.3507612645626068 and parameters: {'lr': 0.0012502176402814447, 'dropout_prob': 0.24881515097381168, 'force_n_layers': 2, 'force_kernel_size': 8, 'force_stride': 2, 'force_padding': 3, 'force_hidden_channels': 41, 'force_pooling_type': 'max', 'force_use_batch_norm': True, 'acc_n_layers': 2, 'acc_kernel_size': 3, 'acc_stride': 2, 'acc_padding': 4, 'acc_hidden_channels': 101, 'acc_pooling_type': 'avg', 'acc_use_batch_norm': False}. Best is trial 4 with value: 0.30101291090250015.\n"
     ]
    },
    {
     "name": "stdout",
     "output_type": "stream",
     "text": [
      "Epoch 50/50, Training Loss: 0.29013688477777666, Validation Loss: 0.3507612645626068\n",
      "Epoch 10/50, Training Loss: 0.4368993841832684, Validation Loss: 0.43770749494433403\n",
      "Epoch 20/50, Training Loss: 0.35922962234866235, Validation Loss: 0.3801114819943905\n",
      "Epoch 30/50, Training Loss: 0.3245441798240908, Validation Loss: 0.35868633911013603\n",
      "Epoch 40/50, Training Loss: 0.29053041194715806, Validation Loss: 0.35363977774977684\n"
     ]
    },
    {
     "name": "stderr",
     "output_type": "stream",
     "text": [
      "[I 2023-10-11 02:37:12,189] Trial 33 finished with value: 0.35270626470446587 and parameters: {'lr': 0.0013900731611131993, 'dropout_prob': 0.25621136287859647, 'force_n_layers': 1, 'force_kernel_size': 9, 'force_stride': 2, 'force_padding': 5, 'force_hidden_channels': 43, 'force_pooling_type': 'max', 'force_use_batch_norm': True, 'acc_n_layers': 2, 'acc_kernel_size': 4, 'acc_stride': 2, 'acc_padding': 4, 'acc_hidden_channels': 98, 'acc_pooling_type': 'avg', 'acc_use_batch_norm': False}. Best is trial 4 with value: 0.30101291090250015.\n"
     ]
    },
    {
     "name": "stdout",
     "output_type": "stream",
     "text": [
      "Epoch 50/50, Training Loss: 0.27152788542932077, Validation Loss: 0.35270626470446587\n",
      "Epoch 10/50, Training Loss: 0.6269980707476216, Validation Loss: 0.6273173615336418\n",
      "Epoch 20/50, Training Loss: 0.6189604786134535, Validation Loss: 0.6175150871276855\n",
      "Epoch 30/50, Training Loss: 0.6019438947400739, Validation Loss: 0.6069331541657448\n",
      "Epoch 40/50, Training Loss: 0.5810603768594803, Validation Loss: 0.5855342596769333\n"
     ]
    },
    {
     "name": "stderr",
     "output_type": "stream",
     "text": [
      "[I 2023-10-11 02:37:59,446] Trial 34 finished with value: 0.5643458291888237 and parameters: {'lr': 0.0005825934542251276, 'dropout_prob': 0.30581362101538734, 'force_n_layers': 2, 'force_kernel_size': 8, 'force_stride': 1, 'force_padding': 4, 'force_hidden_channels': 22, 'force_pooling_type': 'max', 'force_use_batch_norm': True, 'acc_n_layers': 1, 'acc_kernel_size': 3, 'acc_stride': 2, 'acc_padding': 6, 'acc_hidden_channels': 108, 'acc_pooling_type': 'avg', 'acc_use_batch_norm': False}. Best is trial 4 with value: 0.30101291090250015.\n"
     ]
    },
    {
     "name": "stdout",
     "output_type": "stream",
     "text": [
      "Epoch 50/50, Training Loss: 0.5610000145050787, Validation Loss: 0.5643458291888237\n",
      "Epoch 10/50, Training Loss: 0.3721749407629813, Validation Loss: 0.38177670165896416\n",
      "Epoch 20/50, Training Loss: 0.30894323318235334, Validation Loss: 0.3525068238377571\n",
      "Epoch 30/50, Training Loss: 0.28606344038440334, Validation Loss: 0.3471575528383255\n",
      "Epoch 40/50, Training Loss: 0.25484196985921553, Validation Loss: 0.34314553812146187\n"
     ]
    },
    {
     "name": "stderr",
     "output_type": "stream",
     "text": [
      "[I 2023-10-11 02:38:58,530] Trial 35 finished with value: 0.34885532408952713 and parameters: {'lr': 0.0020887595309346156, 'dropout_prob': 0.24017083689529453, 'force_n_layers': 1, 'force_kernel_size': 8, 'force_stride': 2, 'force_padding': 5, 'force_hidden_channels': 43, 'force_pooling_type': 'max', 'force_use_batch_norm': True, 'acc_n_layers': 2, 'acc_kernel_size': 8, 'acc_stride': 1, 'acc_padding': 4, 'acc_hidden_channels': 63, 'acc_pooling_type': 'avg', 'acc_use_batch_norm': False}. Best is trial 4 with value: 0.30101291090250015.\n"
     ]
    },
    {
     "name": "stdout",
     "output_type": "stream",
     "text": [
      "Epoch 50/50, Training Loss: 0.23392418459538492, Validation Loss: 0.34885532408952713\n",
      "Epoch 10/50, Training Loss: 0.32822278166009533, Validation Loss: 0.37302280217409134\n",
      "Epoch 20/50, Training Loss: 0.2868744586744616, Validation Loss: 0.34172503277659416\n",
      "Epoch 30/50, Training Loss: 0.23777165095652303, Validation Loss: 0.355824613943696\n",
      "Epoch 40/50, Training Loss: 0.19063050203746365, Validation Loss: 0.3798584043979645\n"
     ]
    },
    {
     "name": "stderr",
     "output_type": "stream",
     "text": [
      "[I 2023-10-11 02:40:25,689] Trial 36 finished with value: 0.4270266965031624 and parameters: {'lr': 0.0035096438572682397, 'dropout_prob': 0.3131297865551981, 'force_n_layers': 1, 'force_kernel_size': 9, 'force_stride': 2, 'force_padding': 6, 'force_hidden_channels': 199, 'force_pooling_type': 'max', 'force_use_batch_norm': True, 'acc_n_layers': 4, 'acc_kernel_size': 8, 'acc_stride': 1, 'acc_padding': 7, 'acc_hidden_channels': 65, 'acc_pooling_type': 'avg', 'acc_use_batch_norm': False}. Best is trial 4 with value: 0.30101291090250015.\n"
     ]
    },
    {
     "name": "stdout",
     "output_type": "stream",
     "text": [
      "Epoch 50/50, Training Loss: 0.16195148638179224, Validation Loss: 0.4270266965031624\n",
      "Epoch 10/50, Training Loss: 0.22710250462255172, Validation Loss: 0.37167707830667496\n",
      "Epoch 20/50, Training Loss: 0.08272361575115111, Validation Loss: 0.49387115985155106\n",
      "Epoch 30/50, Training Loss: 0.011490695043316772, Validation Loss: 0.766982838511467\n",
      "Epoch 40/50, Training Loss: 0.002789625109383656, Validation Loss: 0.9577776342630386\n"
     ]
    },
    {
     "name": "stderr",
     "output_type": "stream",
     "text": [
      "[I 2023-10-11 02:43:41,838] Trial 37 finished with value: 1.0743602439761162 and parameters: {'lr': 0.0020688092731511887, 'dropout_prob': 0.2330883494648846, 'force_n_layers': 7, 'force_kernel_size': 7, 'force_stride': 3, 'force_padding': 5, 'force_hidden_channels': 90, 'force_pooling_type': 'max', 'force_use_batch_norm': True, 'acc_n_layers': 2, 'acc_kernel_size': 9, 'acc_stride': 1, 'acc_padding': 5, 'acc_hidden_channels': 123, 'acc_pooling_type': 'max', 'acc_use_batch_norm': True}. Best is trial 4 with value: 0.30101291090250015.\n"
     ]
    },
    {
     "name": "stdout",
     "output_type": "stream",
     "text": [
      "Epoch 50/50, Training Loss: 0.0012119938656988164, Validation Loss: 1.0743602439761162\n",
      "Epoch 10/50, Training Loss: 0.38493512138243646, Validation Loss: 0.40099772438406944\n",
      "Epoch 20/50, Training Loss: 0.32190166557988814, Validation Loss: 0.35021496936678886\n",
      "Epoch 30/50, Training Loss: 0.2958619142732313, Validation Loss: 0.3406980484724045\n",
      "Epoch 40/50, Training Loss: 0.2686710987360247, Validation Loss: 0.3432201258838177\n"
     ]
    },
    {
     "name": "stderr",
     "output_type": "stream",
     "text": [
      "[I 2023-10-11 02:45:46,873] Trial 38 finished with value: 0.34030839055776596 and parameters: {'lr': 0.0006625415701920001, 'dropout_prob': 0.2855597515432962, 'force_n_layers': 5, 'force_kernel_size': 5, 'force_stride': 1, 'force_padding': 10, 'force_hidden_channels': 53, 'force_pooling_type': 'avg', 'force_use_batch_norm': True, 'acc_n_layers': 3, 'acc_kernel_size': 8, 'acc_stride': 1, 'acc_padding': 4, 'acc_hidden_channels': 91, 'acc_pooling_type': 'avg', 'acc_use_batch_norm': False}. Best is trial 4 with value: 0.30101291090250015.\n"
     ]
    },
    {
     "name": "stdout",
     "output_type": "stream",
     "text": [
      "Epoch 50/50, Training Loss: 0.2519194046335836, Validation Loss: 0.34030839055776596\n",
      "Epoch 10/50, Training Loss: 0.3012942085343023, Validation Loss: 0.3197415992617607\n",
      "Epoch 20/50, Training Loss: 0.18297164142131805, Validation Loss: 0.2984243147075176\n",
      "Epoch 30/50, Training Loss: 0.10114968111438136, Validation Loss: 0.3434566166251898\n",
      "Epoch 40/50, Training Loss: 0.03530509805967731, Validation Loss: 0.41016288474202156\n"
     ]
    },
    {
     "name": "stderr",
     "output_type": "stream",
     "text": [
      "[I 2023-10-11 02:49:29,135] Trial 39 finished with value: 0.5117031447589397 and parameters: {'lr': 0.0002949702912564655, 'dropout_prob': 0.3447550415631695, 'force_n_layers': 5, 'force_kernel_size': 5, 'force_stride': 1, 'force_padding': 10, 'force_hidden_channels': 236, 'force_pooling_type': 'avg', 'force_use_batch_norm': True, 'acc_n_layers': 3, 'acc_kernel_size': 8, 'acc_stride': 2, 'acc_padding': 3, 'acc_hidden_channels': 150, 'acc_pooling_type': 'max', 'acc_use_batch_norm': True}. Best is trial 4 with value: 0.30101291090250015.\n"
     ]
    },
    {
     "name": "stdout",
     "output_type": "stream",
     "text": [
      "Epoch 50/50, Training Loss: 0.01013993775291789, Validation Loss: 0.5117031447589397\n",
      "Epoch 10/50, Training Loss: 0.40620646745927874, Validation Loss: 0.39584291726350784\n",
      "Epoch 20/50, Training Loss: 0.33395865463441415, Validation Loss: 0.3580137901008129\n",
      "Epoch 30/50, Training Loss: 0.2970370121540562, Validation Loss: 0.3225206770002842\n",
      "Epoch 40/50, Training Loss: 0.27312362097924753, Validation Loss: 0.3021162562072277\n"
     ]
    },
    {
     "name": "stderr",
     "output_type": "stream",
     "text": [
      "[I 2023-10-11 02:50:35,402] Trial 40 finished with value: 0.30657850950956345 and parameters: {'lr': 0.0006355736948051727, 'dropout_prob': 0.2808013088637154, 'force_n_layers': 5, 'force_kernel_size': 5, 'force_stride': 1, 'force_padding': 9, 'force_hidden_channels': 75, 'force_pooling_type': 'avg', 'force_use_batch_norm': True, 'acc_n_layers': 4, 'acc_kernel_size': 7, 'acc_stride': 3, 'acc_padding': 8, 'acc_hidden_channels': 89, 'acc_pooling_type': 'avg', 'acc_use_batch_norm': False}. Best is trial 4 with value: 0.30101291090250015.\n"
     ]
    },
    {
     "name": "stdout",
     "output_type": "stream",
     "text": [
      "Epoch 50/50, Training Loss: 0.25083341281260213, Validation Loss: 0.30657850950956345\n",
      "Epoch 10/50, Training Loss: 0.3960935665715125, Validation Loss: 0.39097658172249794\n",
      "Epoch 20/50, Training Loss: 0.3389321849230797, Validation Loss: 0.3372260592877865\n",
      "Epoch 30/50, Training Loss: 0.3055478036403656, Validation Loss: 0.32153020054101944\n",
      "Epoch 40/50, Training Loss: 0.28567987488162133, Validation Loss: 0.31090836226940155\n"
     ]
    },
    {
     "name": "stderr",
     "output_type": "stream",
     "text": [
      "[I 2023-10-11 02:51:42,019] Trial 41 finished with value: 0.2992140930145979 and parameters: {'lr': 0.000711373518681417, 'dropout_prob': 0.2890599633473326, 'force_n_layers': 5, 'force_kernel_size': 5, 'force_stride': 1, 'force_padding': 9, 'force_hidden_channels': 78, 'force_pooling_type': 'avg', 'force_use_batch_norm': True, 'acc_n_layers': 4, 'acc_kernel_size': 7, 'acc_stride': 3, 'acc_padding': 8, 'acc_hidden_channels': 88, 'acc_pooling_type': 'avg', 'acc_use_batch_norm': False}. Best is trial 41 with value: 0.2992140930145979.\n"
     ]
    },
    {
     "name": "stdout",
     "output_type": "stream",
     "text": [
      "Epoch 50/50, Training Loss: 0.25602754902455116, Validation Loss: 0.2992140930145979\n",
      "Epoch 10/50, Training Loss: 0.43850797703189237, Validation Loss: 0.4276985824108124\n",
      "Epoch 20/50, Training Loss: 0.36372182157731825, Validation Loss: 0.3433903492987156\n",
      "Epoch 30/50, Training Loss: 0.321550868211254, Validation Loss: 0.32184118404984474\n",
      "Epoch 40/50, Training Loss: 0.28637277935781785, Validation Loss: 0.31085071340203285\n"
     ]
    },
    {
     "name": "stderr",
     "output_type": "stream",
     "text": [
      "[I 2023-10-11 02:53:08,123] Trial 42 finished with value: 0.29766567796468735 and parameters: {'lr': 0.00040565323379700835, 'dropout_prob': 0.3268652155583715, 'force_n_layers': 5, 'force_kernel_size': 4, 'force_stride': 1, 'force_padding': 9, 'force_hidden_channels': 80, 'force_pooling_type': 'avg', 'force_use_batch_norm': True, 'acc_n_layers': 5, 'acc_kernel_size': 7, 'acc_stride': 3, 'acc_padding': 8, 'acc_hidden_channels': 115, 'acc_pooling_type': 'avg', 'acc_use_batch_norm': False}. Best is trial 42 with value: 0.29766567796468735.\n"
     ]
    },
    {
     "name": "stdout",
     "output_type": "stream",
     "text": [
      "Epoch 50/50, Training Loss: 0.26645039502651463, Validation Loss: 0.29766567796468735\n",
      "Epoch 10/50, Training Loss: 0.46069415634678257, Validation Loss: 0.4480159766972065\n",
      "Epoch 20/50, Training Loss: 0.37493638165535464, Validation Loss: 0.3835302107036114\n",
      "Epoch 30/50, Training Loss: 0.33220018975196347, Validation Loss: 0.32532036677002907\n",
      "Epoch 40/50, Training Loss: 0.3043465224965926, Validation Loss: 0.32539696618914604\n"
     ]
    },
    {
     "name": "stderr",
     "output_type": "stream",
     "text": [
      "[I 2023-10-11 02:54:34,360] Trial 43 finished with value: 0.3095989115536213 and parameters: {'lr': 0.00038439741434516823, 'dropout_prob': 0.329734662661917, 'force_n_layers': 5, 'force_kernel_size': 4, 'force_stride': 1, 'force_padding': 9, 'force_hidden_channels': 80, 'force_pooling_type': 'avg', 'force_use_batch_norm': True, 'acc_n_layers': 5, 'acc_kernel_size': 7, 'acc_stride': 3, 'acc_padding': 8, 'acc_hidden_channels': 120, 'acc_pooling_type': 'avg', 'acc_use_batch_norm': False}. Best is trial 42 with value: 0.29766567796468735.\n"
     ]
    },
    {
     "name": "stdout",
     "output_type": "stream",
     "text": [
      "Epoch 50/50, Training Loss: 0.28577282832514855, Validation Loss: 0.3095989115536213\n",
      "Epoch 10/50, Training Loss: 0.428356735937057, Validation Loss: 0.42343026399612427\n",
      "Epoch 20/50, Training Loss: 0.37419584970320424, Validation Loss: 0.37932657450437546\n",
      "Epoch 30/50, Training Loss: 0.3370800345174728, Validation Loss: 0.32692166790366173\n",
      "Epoch 40/50, Training Loss: 0.30466325340732453, Validation Loss: 0.30888959020376205\n"
     ]
    },
    {
     "name": "stderr",
     "output_type": "stream",
     "text": [
      "[I 2023-10-11 02:56:07,976] Trial 44 finished with value: 0.3142792284488678 and parameters: {'lr': 0.00039681457856704714, 'dropout_prob': 0.35024330788618974, 'force_n_layers': 5, 'force_kernel_size': 4, 'force_stride': 1, 'force_padding': 9, 'force_hidden_channels': 110, 'force_pooling_type': 'avg', 'force_use_batch_norm': True, 'acc_n_layers': 5, 'acc_kernel_size': 7, 'acc_stride': 3, 'acc_padding': 8, 'acc_hidden_channels': 119, 'acc_pooling_type': 'avg', 'acc_use_batch_norm': False}. Best is trial 42 with value: 0.29766567796468735.\n"
     ]
    },
    {
     "name": "stdout",
     "output_type": "stream",
     "text": [
      "Epoch 50/50, Training Loss: 0.2814578990782461, Validation Loss: 0.3142792284488678\n",
      "Epoch 10/50, Training Loss: 0.4639788702611, Validation Loss: 0.4431365728378296\n",
      "Epoch 20/50, Training Loss: 0.4188343382650806, Validation Loss: 0.41360804066061974\n",
      "Epoch 30/50, Training Loss: 0.3961865690446669, Validation Loss: 0.3660931773483753\n",
      "Epoch 40/50, Training Loss: 0.368659645318985, Validation Loss: 0.3501468636095524\n"
     ]
    },
    {
     "name": "stderr",
     "output_type": "stream",
     "text": [
      "[I 2023-10-11 02:57:35,922] Trial 45 finished with value: 0.3474530205130577 and parameters: {'lr': 0.00020089578156425129, 'dropout_prob': 0.3828398312776951, 'force_n_layers': 4, 'force_kernel_size': 4, 'force_stride': 1, 'force_padding': 9, 'force_hidden_channels': 86, 'force_pooling_type': 'avg', 'force_use_batch_norm': True, 'acc_n_layers': 6, 'acc_kernel_size': 6, 'acc_stride': 3, 'acc_padding': 9, 'acc_hidden_channels': 125, 'acc_pooling_type': 'avg', 'acc_use_batch_norm': False}. Best is trial 42 with value: 0.29766567796468735.\n"
     ]
    },
    {
     "name": "stdout",
     "output_type": "stream",
     "text": [
      "Epoch 50/50, Training Loss: 0.36058867842920367, Validation Loss: 0.3474530205130577\n",
      "Epoch 10/50, Training Loss: 0.22396151721477509, Validation Loss: 0.31488413363695145\n",
      "Epoch 20/50, Training Loss: 0.04731129560499422, Validation Loss: 0.5062155984342098\n",
      "Epoch 30/50, Training Loss: 0.0023285642251252166, Validation Loss: 0.818596713244915\n",
      "Epoch 40/50, Training Loss: 0.0004505222708347344, Validation Loss: 0.9499877467751503\n"
     ]
    },
    {
     "name": "stderr",
     "output_type": "stream",
     "text": [
      "[I 2023-10-11 02:59:58,567] Trial 46 finished with value: 1.0365858972072601 and parameters: {'lr': 0.00035099162324400934, 'dropout_prob': 0.3256992608849216, 'force_n_layers': 5, 'force_kernel_size': 3, 'force_stride': 1, 'force_padding': 9, 'force_hidden_channels': 138, 'force_pooling_type': 'avg', 'force_use_batch_norm': True, 'acc_n_layers': 5, 'acc_kernel_size': 7, 'acc_stride': 3, 'acc_padding': 8, 'acc_hidden_channels': 153, 'acc_pooling_type': 'avg', 'acc_use_batch_norm': True}. Best is trial 42 with value: 0.29766567796468735.\n"
     ]
    },
    {
     "name": "stdout",
     "output_type": "stream",
     "text": [
      "Epoch 50/50, Training Loss: 0.000215655860243245, Validation Loss: 1.0365858972072601\n",
      "Epoch 10/50, Training Loss: 0.46228210676100945, Validation Loss: 0.4621223621070385\n",
      "Epoch 20/50, Training Loss: 0.4222386642809837, Validation Loss: 0.40792711079120636\n",
      "Epoch 30/50, Training Loss: 0.3949897644981261, Validation Loss: 0.38093043491244316\n",
      "Epoch 40/50, Training Loss: 0.3766758874539406, Validation Loss: 0.360184982419014\n"
     ]
    },
    {
     "name": "stderr",
     "output_type": "stream",
     "text": [
      "[I 2023-10-11 03:01:26,527] Trial 47 finished with value: 0.3505837842822075 and parameters: {'lr': 0.0002656893414827474, 'dropout_prob': 0.3355099268857536, 'force_n_layers': 6, 'force_kernel_size': 5, 'force_stride': 1, 'force_padding': 8, 'force_hidden_channels': 114, 'force_pooling_type': 'avg', 'force_use_batch_norm': True, 'acc_n_layers': 5, 'acc_kernel_size': 7, 'acc_stride': 3, 'acc_padding': 8, 'acc_hidden_channels': 80, 'acc_pooling_type': 'avg', 'acc_use_batch_norm': False}. Best is trial 42 with value: 0.29766567796468735.\n"
     ]
    },
    {
     "name": "stdout",
     "output_type": "stream",
     "text": [
      "Epoch 50/50, Training Loss: 0.35422429826951796, Validation Loss: 0.3505837842822075\n",
      "Epoch 10/50, Training Loss: 0.3704164806873568, Validation Loss: 0.37555328384041786\n",
      "Epoch 20/50, Training Loss: 0.30535265322654476, Validation Loss: 0.32257380709052086\n",
      "Epoch 30/50, Training Loss: 0.2553270093856319, Validation Loss: 0.30941316671669483\n",
      "Epoch 40/50, Training Loss: 0.2182592119901411, Validation Loss: 0.30890643782913685\n"
     ]
    },
    {
     "name": "stderr",
     "output_type": "stream",
     "text": [
      "[I 2023-10-11 03:05:15,851] Trial 48 finished with value: 0.3217060938477516 and parameters: {'lr': 0.0005240986507374537, 'dropout_prob': 0.27017283193792035, 'force_n_layers': 4, 'force_kernel_size': 4, 'force_stride': 1, 'force_padding': 9, 'force_hidden_channels': 69, 'force_pooling_type': 'avg', 'force_use_batch_norm': True, 'acc_n_layers': 4, 'acc_kernel_size': 7, 'acc_stride': 2, 'acc_padding': 7, 'acc_hidden_channels': 251, 'acc_pooling_type': 'avg', 'acc_use_batch_norm': False}. Best is trial 42 with value: 0.29766567796468735.\n"
     ]
    },
    {
     "name": "stdout",
     "output_type": "stream",
     "text": [
      "Epoch 50/50, Training Loss: 0.19885048510566836, Validation Loss: 0.3217060938477516\n",
      "Epoch 10/50, Training Loss: 0.1846282467726738, Validation Loss: 0.32475124299526215\n",
      "Epoch 20/50, Training Loss: 0.0195375019121134, Validation Loss: 0.552971612662077\n",
      "Epoch 30/50, Training Loss: 0.005682000659421206, Validation Loss: 0.8652741238474846\n",
      "Epoch 40/50, Training Loss: 0.0001471648297850944, Validation Loss: 0.8229181692004204\n"
     ]
    },
    {
     "name": "stderr",
     "output_type": "stream",
     "text": [
      "[I 2023-10-11 03:07:35,922] Trial 49 finished with value: 0.9128314480185509 and parameters: {'lr': 0.000989343148504736, 'dropout_prob': 0.30824456072748974, 'force_n_layers': 5, 'force_kernel_size': 5, 'force_stride': 2, 'force_padding': 10, 'force_hidden_channels': 152, 'force_pooling_type': 'avg', 'force_use_batch_norm': True, 'acc_n_layers': 6, 'acc_kernel_size': 6, 'acc_stride': 2, 'acc_padding': 9, 'acc_hidden_channels': 133, 'acc_pooling_type': 'avg', 'acc_use_batch_norm': True}. Best is trial 42 with value: 0.29766567796468735.\n"
     ]
    },
    {
     "name": "stdout",
     "output_type": "stream",
     "text": [
      "Epoch 50/50, Training Loss: 4.03696887529335e-05, Validation Loss: 0.9128314480185509\n",
      "Epoch 10/50, Training Loss: 0.6300528780106576, Validation Loss: 0.6290515810251236\n",
      "Epoch 20/50, Training Loss: 0.6296041973175541, Validation Loss: 0.6250159293413162\n",
      "Epoch 30/50, Training Loss: 0.6283630459539352, Validation Loss: 0.6212129518389702\n",
      "Epoch 40/50, Training Loss: 0.4576983057683514, Validation Loss: 0.4508613049983978\n"
     ]
    },
    {
     "name": "stderr",
     "output_type": "stream",
     "text": [
      "[I 2023-10-11 03:08:53,590] Trial 50 finished with value: 0.43000080436468124 and parameters: {'lr': 0.0002203527797768587, 'dropout_prob': 0.3492113869957735, 'force_n_layers': 5, 'force_kernel_size': 3, 'force_stride': 1, 'force_padding': 8, 'force_hidden_channels': 79, 'force_pooling_type': 'avg', 'force_use_batch_norm': True, 'acc_n_layers': 7, 'acc_kernel_size': 6, 'acc_stride': 4, 'acc_padding': 10, 'acc_hidden_channels': 117, 'acc_pooling_type': 'avg', 'acc_use_batch_norm': False}. Best is trial 42 with value: 0.29766567796468735.\n"
     ]
    },
    {
     "name": "stdout",
     "output_type": "stream",
     "text": [
      "Epoch 50/50, Training Loss: 0.43622180723374887, Validation Loss: 0.43000080436468124\n",
      "Epoch 10/50, Training Loss: 0.43075008065469805, Validation Loss: 0.4342273250222206\n",
      "Epoch 20/50, Training Loss: 0.3827938312484372, Validation Loss: 0.37279682978987694\n",
      "Epoch 30/50, Training Loss: 0.33014406215760017, Validation Loss: 0.3396659754216671\n",
      "Epoch 40/50, Training Loss: 0.3149792970188202, Validation Loss: 0.32897745445370674\n"
     ]
    },
    {
     "name": "stderr",
     "output_type": "stream",
     "text": [
      "[I 2023-10-11 03:10:24,323] Trial 51 finished with value: 0.31408556550741196 and parameters: {'lr': 0.0003853268712293771, 'dropout_prob': 0.3601256908411421, 'force_n_layers': 5, 'force_kernel_size': 4, 'force_stride': 1, 'force_padding': 9, 'force_hidden_channels': 110, 'force_pooling_type': 'avg', 'force_use_batch_norm': True, 'acc_n_layers': 5, 'acc_kernel_size': 7, 'acc_stride': 3, 'acc_padding': 8, 'acc_hidden_channels': 113, 'acc_pooling_type': 'avg', 'acc_use_batch_norm': False}. Best is trial 42 with value: 0.29766567796468735.\n"
     ]
    },
    {
     "name": "stdout",
     "output_type": "stream",
     "text": [
      "Epoch 50/50, Training Loss: 0.28560339395077, Validation Loss: 0.31408556550741196\n",
      "Epoch 10/50, Training Loss: 0.4372436192727858, Validation Loss: 0.4301125109195709\n",
      "Epoch 20/50, Training Loss: 0.37953557795093906, Validation Loss: 0.3986608013510704\n",
      "Epoch 30/50, Training Loss: 0.35263191403881194, Validation Loss: 0.3614067882299423\n",
      "Epoch 40/50, Training Loss: 0.3166192606572182, Validation Loss: 0.3323598876595497\n"
     ]
    },
    {
     "name": "stderr",
     "output_type": "stream",
     "text": [
      "[I 2023-10-11 03:11:59,239] Trial 52 finished with value: 0.32543063536286354 and parameters: {'lr': 0.0004044987431851571, 'dropout_prob': 0.3880202187282894, 'force_n_layers': 6, 'force_kernel_size': 4, 'force_stride': 1, 'force_padding': 9, 'force_hidden_channels': 84, 'force_pooling_type': 'avg', 'force_use_batch_norm': True, 'acc_n_layers': 6, 'acc_kernel_size': 7, 'acc_stride': 3, 'acc_padding': 8, 'acc_hidden_channels': 112, 'acc_pooling_type': 'avg', 'acc_use_batch_norm': False}. Best is trial 42 with value: 0.29766567796468735.\n"
     ]
    },
    {
     "name": "stdout",
     "output_type": "stream",
     "text": [
      "Epoch 50/50, Training Loss: 0.291472616214906, Validation Loss: 0.32543063536286354\n",
      "Epoch 10/50, Training Loss: 0.4129290926840998, Validation Loss: 0.40003105625510216\n",
      "Epoch 20/50, Training Loss: 0.3481820533352514, Validation Loss: 0.3456723801791668\n",
      "Epoch 30/50, Training Loss: 0.30035853145583985, Validation Loss: 0.3162703514099121\n",
      "Epoch 40/50, Training Loss: 0.2546074693241427, Validation Loss: 0.3037779051810503\n"
     ]
    },
    {
     "name": "stderr",
     "output_type": "stream",
     "text": [
      "[I 2023-10-11 03:14:07,140] Trial 53 finished with value: 0.3076886609196663 and parameters: {'lr': 0.0007550509178585701, 'dropout_prob': 0.3728497487273023, 'force_n_layers': 5, 'force_kernel_size': 4, 'force_stride': 1, 'force_padding': 10, 'force_hidden_channels': 93, 'force_pooling_type': 'avg', 'force_use_batch_norm': True, 'acc_n_layers': 5, 'acc_kernel_size': 7, 'acc_stride': 3, 'acc_padding': 7, 'acc_hidden_channels': 145, 'acc_pooling_type': 'avg', 'acc_use_batch_norm': False}. Best is trial 42 with value: 0.29766567796468735.\n"
     ]
    },
    {
     "name": "stdout",
     "output_type": "stream",
     "text": [
      "Epoch 50/50, Training Loss: 0.22010982685512112, Validation Loss: 0.3076886609196663\n",
      "Epoch 10/50, Training Loss: 0.4371468549774539, Validation Loss: 0.4209265410900116\n",
      "Epoch 20/50, Training Loss: 0.333159010737173, Validation Loss: 0.3527397848665714\n",
      "Epoch 30/50, Training Loss: 0.28958689012835104, Validation Loss: 0.3286162130534649\n",
      "Epoch 40/50, Training Loss: 0.24457489242476801, Validation Loss: 0.3192434273660183\n"
     ]
    },
    {
     "name": "stderr",
     "output_type": "stream",
     "text": [
      "[I 2023-10-11 03:15:58,356] Trial 54 finished with value: 0.3262366931885481 and parameters: {'lr': 0.0007205627056615427, 'dropout_prob': 0.3253138194842828, 'force_n_layers': 4, 'force_kernel_size': 5, 'force_stride': 2, 'force_padding': 10, 'force_hidden_channels': 98, 'force_pooling_type': 'avg', 'force_use_batch_norm': True, 'acc_n_layers': 5, 'acc_kernel_size': 6, 'acc_stride': 4, 'acc_padding': 7, 'acc_hidden_channels': 167, 'acc_pooling_type': 'avg', 'acc_use_batch_norm': False}. Best is trial 42 with value: 0.29766567796468735.\n"
     ]
    },
    {
     "name": "stdout",
     "output_type": "stream",
     "text": [
      "Epoch 50/50, Training Loss: 0.21355177990851865, Validation Loss: 0.3262366931885481\n",
      "Epoch 10/50, Training Loss: 0.40999465219436154, Validation Loss: 0.402939110994339\n",
      "Epoch 20/50, Training Loss: 0.35251095506452745, Validation Loss: 0.3493415638804436\n",
      "Epoch 30/50, Training Loss: 0.29575726053407114, Validation Loss: 0.3302195332944393\n",
      "Epoch 40/50, Training Loss: 0.2777582954975866, Validation Loss: 0.3374437429010868\n"
     ]
    },
    {
     "name": "stderr",
     "output_type": "stream",
     "text": [
      "[I 2023-10-11 03:17:38,227] Trial 55 finished with value: 0.3466733656823635 and parameters: {'lr': 0.0007950892618461699, 'dropout_prob': 0.30480916502867367, 'force_n_layers': 6, 'force_kernel_size': 3, 'force_stride': 1, 'force_padding': 8, 'force_hidden_channels': 130, 'force_pooling_type': 'avg', 'force_use_batch_norm': True, 'acc_n_layers': 5, 'acc_kernel_size': 7, 'acc_stride': 4, 'acc_padding': 9, 'acc_hidden_channels': 128, 'acc_pooling_type': 'avg', 'acc_use_batch_norm': False}. Best is trial 42 with value: 0.29766567796468735.\n"
     ]
    },
    {
     "name": "stdout",
     "output_type": "stream",
     "text": [
      "Epoch 50/50, Training Loss: 0.24304454509289034, Validation Loss: 0.3466733656823635\n",
      "Epoch 10/50, Training Loss: 0.3275365137284802, Validation Loss: 0.3310229144990444\n",
      "Epoch 20/50, Training Loss: 0.21664256242013746, Validation Loss: 0.2869668584316969\n",
      "Epoch 30/50, Training Loss: 0.14403898581381766, Validation Loss: 0.29845320247113705\n",
      "Epoch 40/50, Training Loss: 0.08384251366219213, Validation Loss: 0.36923519149422646\n"
     ]
    },
    {
     "name": "stderr",
     "output_type": "stream",
     "text": [
      "[I 2023-10-11 03:19:41,490] Trial 56 finished with value: 0.4751325435936451 and parameters: {'lr': 0.00015103048172683108, 'dropout_prob': 0.37177553717608686, 'force_n_layers': 5, 'force_kernel_size': 6, 'force_stride': 5, 'force_padding': 7, 'force_hidden_channels': 63, 'force_pooling_type': 'avg', 'force_use_batch_norm': True, 'acc_n_layers': 4, 'acc_kernel_size': 6, 'acc_stride': 3, 'acc_padding': 7, 'acc_hidden_channels': 187, 'acc_pooling_type': 'avg', 'acc_use_batch_norm': True}. Best is trial 42 with value: 0.29766567796468735.\n"
     ]
    },
    {
     "name": "stdout",
     "output_type": "stream",
     "text": [
      "Epoch 50/50, Training Loss: 0.034173417295659744, Validation Loss: 0.4751325435936451\n",
      "Epoch 10/50, Training Loss: 0.37697678612124536, Validation Loss: 0.36935799568891525\n",
      "Epoch 20/50, Training Loss: 0.3238279785840742, Validation Loss: 0.332969319075346\n",
      "Epoch 30/50, Training Loss: 0.3095349544479001, Validation Loss: 0.32248465344309807\n",
      "Epoch 40/50, Training Loss: 0.28083370337563174, Validation Loss: 0.31554189696907997\n"
     ]
    },
    {
     "name": "stderr",
     "output_type": "stream",
     "text": [
      "[I 2023-10-11 03:22:52,290] Trial 57 finished with value: 0.31842163391411304 and parameters: {'lr': 0.00047859006982032117, 'dropout_prob': 0.4244397074471077, 'force_n_layers': 5, 'force_kernel_size': 4, 'force_stride': 1, 'force_padding': 10, 'force_hidden_channels': 183, 'force_pooling_type': 'avg', 'force_use_batch_norm': True, 'acc_n_layers': 4, 'acc_kernel_size': 7, 'acc_stride': 2, 'acc_padding': 8, 'acc_hidden_channels': 142, 'acc_pooling_type': 'avg', 'acc_use_batch_norm': False}. Best is trial 42 with value: 0.29766567796468735.\n"
     ]
    },
    {
     "name": "stdout",
     "output_type": "stream",
     "text": [
      "Epoch 50/50, Training Loss: 0.2557939089113666, Validation Loss: 0.31842163391411304\n",
      "Epoch 10/50, Training Loss: 0.6278105801151644, Validation Loss: 0.6231489032506943\n",
      "Epoch 20/50, Training Loss: 0.4449492654492778, Validation Loss: 0.4350391924381256\n",
      "Epoch 30/50, Training Loss: 0.37608356341238947, Validation Loss: 0.3772445395588875\n",
      "Epoch 40/50, Training Loss: 0.34306222392666724, Validation Loss: 0.3344270996749401\n"
     ]
    },
    {
     "name": "stderr",
     "output_type": "stream",
     "text": [
      "[I 2023-10-11 03:25:01,915] Trial 58 finished with value: 0.3166676238179207 and parameters: {'lr': 0.0002588809499303861, 'dropout_prob': 0.3427129141871201, 'force_n_layers': 4, 'force_kernel_size': 5, 'force_stride': 2, 'force_padding': 8, 'force_hidden_channels': 99, 'force_pooling_type': 'avg', 'force_use_batch_norm': True, 'acc_n_layers': 6, 'acc_kernel_size': 7, 'acc_stride': 3, 'acc_padding': 9, 'acc_hidden_channels': 146, 'acc_pooling_type': 'avg', 'acc_use_batch_norm': False}. Best is trial 42 with value: 0.29766567796468735.\n"
     ]
    },
    {
     "name": "stdout",
     "output_type": "stream",
     "text": [
      "Epoch 50/50, Training Loss: 0.3175289159820926, Validation Loss: 0.3166676238179207\n",
      "Epoch 10/50, Training Loss: 0.453894849746458, Validation Loss: 0.4415616802871227\n",
      "Epoch 20/50, Training Loss: 0.4115654806936941, Validation Loss: 0.40332644060254097\n",
      "Epoch 30/50, Training Loss: 0.37077830587663957, Validation Loss: 0.38784032315015793\n",
      "Epoch 40/50, Training Loss: 0.3402874537052647, Validation Loss: 0.3481046110391617\n"
     ]
    },
    {
     "name": "stderr",
     "output_type": "stream",
     "text": [
      "[I 2023-10-11 03:26:31,051] Trial 59 finished with value: 0.3481394983828068 and parameters: {'lr': 0.0003358089711627908, 'dropout_prob': 0.2965817240350719, 'force_n_layers': 6, 'force_kernel_size': 5, 'force_stride': 2, 'force_padding': 9, 'force_hidden_channels': 54, 'force_pooling_type': 'avg', 'force_use_batch_norm': True, 'acc_n_layers': 4, 'acc_kernel_size': 5, 'acc_stride': 4, 'acc_padding': 7, 'acc_hidden_channels': 162, 'acc_pooling_type': 'avg', 'acc_use_batch_norm': False}. Best is trial 42 with value: 0.29766567796468735.\n"
     ]
    },
    {
     "name": "stdout",
     "output_type": "stream",
     "text": [
      "Epoch 50/50, Training Loss: 0.31751010398710927, Validation Loss: 0.3481394983828068\n",
      "Epoch 10/50, Training Loss: 0.34569025616491994, Validation Loss: 0.3446447439491749\n",
      "Epoch 20/50, Training Loss: 0.23824932450248348, Validation Loss: 0.29395660758018494\n",
      "Epoch 30/50, Training Loss: 0.14642096503127006, Validation Loss: 0.32557620853185654\n",
      "Epoch 40/50, Training Loss: 0.07787783119466997, Validation Loss: 0.4452924504876137\n"
     ]
    },
    {
     "name": "stderr",
     "output_type": "stream",
     "text": [
      "[I 2023-10-11 03:29:43,807] Trial 60 finished with value: 0.6154027916491032 and parameters: {'lr': 0.00011837903571346256, 'dropout_prob': 0.27000189231226224, 'force_n_layers': 5, 'force_kernel_size': 4, 'force_stride': 6, 'force_padding': 10, 'force_hidden_channels': 70, 'force_pooling_type': 'avg', 'force_use_batch_norm': True, 'acc_n_layers': 6, 'acc_kernel_size': 6, 'acc_stride': 2, 'acc_padding': 6, 'acc_hidden_channels': 184, 'acc_pooling_type': 'avg', 'acc_use_batch_norm': True}. Best is trial 42 with value: 0.29766567796468735.\n"
     ]
    },
    {
     "name": "stdout",
     "output_type": "stream",
     "text": [
      "Epoch 50/50, Training Loss: 0.013773461803793907, Validation Loss: 0.6154027916491032\n",
      "Epoch 10/50, Training Loss: 0.4206033377878128, Validation Loss: 0.4173886328935623\n",
      "Epoch 20/50, Training Loss: 0.3632907194475974, Validation Loss: 0.34736983478069305\n",
      "Epoch 30/50, Training Loss: 0.3209555447101593, Validation Loss: 0.31928837299346924\n",
      "Epoch 40/50, Training Loss: 0.2948138141824353, Validation Loss: 0.31060194969177246\n"
     ]
    },
    {
     "name": "stderr",
     "output_type": "stream",
     "text": [
      "[I 2023-10-11 03:31:10,410] Trial 61 finished with value: 0.3063949476927519 and parameters: {'lr': 0.0004975042978433634, 'dropout_prob': 0.3596797088892615, 'force_n_layers': 5, 'force_kernel_size': 4, 'force_stride': 1, 'force_padding': 9, 'force_hidden_channels': 116, 'force_pooling_type': 'avg', 'force_use_batch_norm': True, 'acc_n_layers': 5, 'acc_kernel_size': 7, 'acc_stride': 3, 'acc_padding': 8, 'acc_hidden_channels': 106, 'acc_pooling_type': 'avg', 'acc_use_batch_norm': False}. Best is trial 42 with value: 0.29766567796468735.\n"
     ]
    },
    {
     "name": "stdout",
     "output_type": "stream",
     "text": [
      "Epoch 50/50, Training Loss: 0.2699509075572414, Validation Loss: 0.3063949476927519\n",
      "Epoch 10/50, Training Loss: 0.439645339404383, Validation Loss: 0.41702917590737343\n",
      "Epoch 20/50, Training Loss: 0.37318493570050887, Validation Loss: 0.3660436272621155\n",
      "Epoch 30/50, Training Loss: 0.34432158258653456, Validation Loss: 0.34169380739331245\n",
      "Epoch 40/50, Training Loss: 0.3102685150600249, Validation Loss: 0.3215502053499222\n"
     ]
    },
    {
     "name": "stderr",
     "output_type": "stream",
     "text": [
      "[I 2023-10-11 03:32:30,478] Trial 62 finished with value: 0.30166302248835564 and parameters: {'lr': 0.0005320668232478124, 'dropout_prob': 0.33137028852374106, 'force_n_layers': 5, 'force_kernel_size': 4, 'force_stride': 1, 'force_padding': 9, 'force_hidden_channels': 120, 'force_pooling_type': 'avg', 'force_use_batch_norm': True, 'acc_n_layers': 5, 'acc_kernel_size': 7, 'acc_stride': 3, 'acc_padding': 8, 'acc_hidden_channels': 85, 'acc_pooling_type': 'avg', 'acc_use_batch_norm': False}. Best is trial 42 with value: 0.29766567796468735.\n"
     ]
    },
    {
     "name": "stdout",
     "output_type": "stream",
     "text": [
      "Epoch 50/50, Training Loss: 0.28957030994276844, Validation Loss: 0.30166302248835564\n",
      "Epoch 10/50, Training Loss: 0.43753716349601746, Validation Loss: 0.41302870213985443\n",
      "Epoch 20/50, Training Loss: 0.37375814491702664, Validation Loss: 0.3570985421538353\n",
      "Epoch 30/50, Training Loss: 0.3299406853414351, Validation Loss: 0.33688608929514885\n",
      "Epoch 40/50, Training Loss: 0.3120950691161617, Validation Loss: 0.31536825373768806\n"
     ]
    },
    {
     "name": "stderr",
     "output_type": "stream",
     "text": [
      "[I 2023-10-11 03:33:43,158] Trial 63 finished with value: 0.32751400396227837 and parameters: {'lr': 0.0008082846908903991, 'dropout_prob': 0.40379974793165024, 'force_n_layers': 4, 'force_kernel_size': 3, 'force_stride': 1, 'force_padding': 10, 'force_hidden_channels': 116, 'force_pooling_type': 'avg', 'force_use_batch_norm': True, 'acc_n_layers': 5, 'acc_kernel_size': 7, 'acc_stride': 3, 'acc_padding': 9, 'acc_hidden_channels': 76, 'acc_pooling_type': 'avg', 'acc_use_batch_norm': False}. Best is trial 42 with value: 0.29766567796468735.\n"
     ]
    },
    {
     "name": "stdout",
     "output_type": "stream",
     "text": [
      "Epoch 50/50, Training Loss: 0.28849074292567467, Validation Loss: 0.32751400396227837\n",
      "Epoch 10/50, Training Loss: 0.45088257424293027, Validation Loss: 0.43478693440556526\n",
      "Epoch 20/50, Training Loss: 0.3896783474952944, Validation Loss: 0.38258858770132065\n",
      "Epoch 30/50, Training Loss: 0.33685641423348456, Validation Loss: 0.3764896094799042\n",
      "Epoch 40/50, Training Loss: 0.29631097951243, Validation Loss: 0.36559148505330086\n"
     ]
    },
    {
     "name": "stderr",
     "output_type": "stream",
     "text": [
      "[I 2023-10-11 03:35:21,379] Trial 64 finished with value: 0.36492473259568214 and parameters: {'lr': 0.0005560478798339758, 'dropout_prob': 0.3794036050250889, 'force_n_layers': 6, 'force_kernel_size': 4, 'force_stride': 1, 'force_padding': 8, 'force_hidden_channels': 126, 'force_pooling_type': 'avg', 'force_use_batch_norm': True, 'acc_n_layers': 7, 'acc_kernel_size': 8, 'acc_stride': 3, 'acc_padding': 8, 'acc_hidden_channels': 85, 'acc_pooling_type': 'avg', 'acc_use_batch_norm': False}. Best is trial 42 with value: 0.29766567796468735.\n"
     ]
    },
    {
     "name": "stdout",
     "output_type": "stream",
     "text": [
      "Epoch 50/50, Training Loss: 0.26664381450222385, Validation Loss: 0.36492473259568214\n",
      "Epoch 10/50, Training Loss: 0.40126582211063755, Validation Loss: 0.388300783932209\n",
      "Epoch 20/50, Training Loss: 0.34094360086225695, Validation Loss: 0.35391123220324516\n",
      "Epoch 30/50, Training Loss: 0.30632037405044804, Validation Loss: 0.3337410129606724\n",
      "Epoch 40/50, Training Loss: 0.27519974448988516, Validation Loss: 0.32010912895202637\n"
     ]
    },
    {
     "name": "stderr",
     "output_type": "stream",
     "text": [
      "[I 2023-10-11 03:36:52,730] Trial 65 finished with value: 0.3249319940805435 and parameters: {'lr': 0.0010493701527689316, 'dropout_prob': 0.31849276980303787, 'force_n_layers': 5, 'force_kernel_size': 5, 'force_stride': 1, 'force_padding': 8, 'force_hidden_channels': 142, 'force_pooling_type': 'avg', 'force_use_batch_norm': True, 'acc_n_layers': 4, 'acc_kernel_size': 6, 'acc_stride': 4, 'acc_padding': 7, 'acc_hidden_channels': 106, 'acc_pooling_type': 'avg', 'acc_use_batch_norm': False}. Best is trial 42 with value: 0.29766567796468735.\n"
     ]
    },
    {
     "name": "stdout",
     "output_type": "stream",
     "text": [
      "Epoch 50/50, Training Loss: 0.24811190366744995, Validation Loss: 0.3249319940805435\n",
      "Epoch 10/50, Training Loss: 0.46906525377304326, Validation Loss: 0.482731107622385\n",
      "Epoch 20/50, Training Loss: 0.362363830689461, Validation Loss: 0.3706580735743046\n",
      "Epoch 30/50, Training Loss: 0.3238087209963029, Validation Loss: 0.3323550187051296\n",
      "Epoch 40/50, Training Loss: 0.30273854924786475, Validation Loss: 0.3470890447497368\n"
     ]
    },
    {
     "name": "stderr",
     "output_type": "stream",
     "text": [
      "[I 2023-10-11 03:37:49,311] Trial 66 finished with value: 0.32104408368468285 and parameters: {'lr': 0.0006220023639816104, 'dropout_prob': 0.36069852240751465, 'force_n_layers': 5, 'force_kernel_size': 6, 'force_stride': 7, 'force_padding': 9, 'force_hidden_channels': 92, 'force_pooling_type': 'avg', 'force_use_batch_norm': True, 'acc_n_layers': 5, 'acc_kernel_size': 7, 'acc_stride': 3, 'acc_padding': 10, 'acc_hidden_channels': 69, 'acc_pooling_type': 'avg', 'acc_use_batch_norm': False}. Best is trial 42 with value: 0.29766567796468735.\n"
     ]
    },
    {
     "name": "stdout",
     "output_type": "stream",
     "text": [
      "Epoch 50/50, Training Loss: 0.27181577634426857, Validation Loss: 0.32104408368468285\n",
      "Epoch 10/50, Training Loss: 0.43484739334352557, Validation Loss: 0.42948294803500175\n",
      "Epoch 20/50, Training Loss: 0.3681848731733138, Validation Loss: 0.3801644295454025\n",
      "Epoch 30/50, Training Loss: 0.33772738710526495, Validation Loss: 0.34771592170000076\n",
      "Epoch 40/50, Training Loss: 0.32286798569463915, Validation Loss: 0.3429836519062519\n"
     ]
    },
    {
     "name": "stderr",
     "output_type": "stream",
     "text": [
      "[I 2023-10-11 03:38:44,393] Trial 67 finished with value: 0.32785724848508835 and parameters: {'lr': 0.0004955205380917068, 'dropout_prob': 0.29721104234103535, 'force_n_layers': 4, 'force_kernel_size': 4, 'force_stride': 5, 'force_padding': 7, 'force_hidden_channels': 158, 'force_pooling_type': 'avg', 'force_use_batch_norm': True, 'acc_n_layers': 4, 'acc_kernel_size': 7, 'acc_stride': 2, 'acc_padding': 7, 'acc_hidden_channels': 44, 'acc_pooling_type': 'avg', 'acc_use_batch_norm': False}. Best is trial 42 with value: 0.29766567796468735.\n"
     ]
    },
    {
     "name": "stdout",
     "output_type": "stream",
     "text": [
      "Epoch 50/50, Training Loss: 0.3050931197020315, Validation Loss: 0.32785724848508835\n",
      "Epoch 10/50, Training Loss: 0.43380985529192034, Validation Loss: 0.4304142966866493\n",
      "Epoch 20/50, Training Loss: 0.39400328263159723, Validation Loss: 0.38290276005864143\n",
      "Epoch 30/50, Training Loss: 0.36394399596798804, Validation Loss: 0.3510383777320385\n",
      "Epoch 40/50, Training Loss: 0.3290084331266342, Validation Loss: 0.34967876598238945\n"
     ]
    },
    {
     "name": "stderr",
     "output_type": "stream",
     "text": [
      "[I 2023-10-11 03:39:47,320] Trial 68 finished with value: 0.3529716208577156 and parameters: {'lr': 0.0008448516339101603, 'dropout_prob': 0.3349387122209411, 'force_n_layers': 5, 'force_kernel_size': 5, 'force_stride': 2, 'force_padding': 10, 'force_hidden_channels': 106, 'force_pooling_type': 'avg', 'force_use_batch_norm': True, 'acc_n_layers': 5, 'acc_kernel_size': 8, 'acc_stride': 5, 'acc_padding': 9, 'acc_hidden_channels': 93, 'acc_pooling_type': 'avg', 'acc_use_batch_norm': False}. Best is trial 42 with value: 0.29766567796468735.\n"
     ]
    },
    {
     "name": "stdout",
     "output_type": "stream",
     "text": [
      "Epoch 50/50, Training Loss: 0.2896560589151998, Validation Loss: 0.3529716208577156\n",
      "Epoch 10/50, Training Loss: 0.1852134949257297, Validation Loss: 0.40398962795734406\n",
      "Epoch 20/50, Training Loss: 0.03412125934095633, Validation Loss: 0.6747270561754704\n",
      "Epoch 30/50, Training Loss: 0.004808357195748437, Validation Loss: 0.7773465439677238\n",
      "Epoch 40/50, Training Loss: 0.001728149425734075, Validation Loss: 0.9724186658859253\n"
     ]
    },
    {
     "name": "stderr",
     "output_type": "stream",
     "text": [
      "[I 2023-10-11 03:41:19,955] Trial 69 finished with value: 1.0999254658818245 and parameters: {'lr': 0.0015085942984198065, 'dropout_prob': 0.3981608485116472, 'force_n_layers': 6, 'force_kernel_size': 3, 'force_stride': 1, 'force_padding': 9, 'force_hidden_channels': 117, 'force_pooling_type': 'avg', 'force_use_batch_norm': True, 'acc_n_layers': 6, 'acc_kernel_size': 6, 'acc_stride': 4, 'acc_padding': 8, 'acc_hidden_channels': 99, 'acc_pooling_type': 'avg', 'acc_use_batch_norm': True}. Best is trial 42 with value: 0.29766567796468735.\n"
     ]
    },
    {
     "name": "stdout",
     "output_type": "stream",
     "text": [
      "Epoch 50/50, Training Loss: 5.450048622386079e-05, Validation Loss: 1.0999254658818245\n",
      "Epoch 10/50, Training Loss: 0.6502693506979174, Validation Loss: 0.6480262726545334\n",
      "Epoch 20/50, Training Loss: 0.6293148513763182, Validation Loss: 0.6280689090490341\n",
      "Epoch 30/50, Training Loss: 0.6292927418985674, Validation Loss: 0.6272575706243515\n",
      "Epoch 40/50, Training Loss: 0.6279669019483751, Validation Loss: 0.6276417151093483\n"
     ]
    },
    {
     "name": "stderr",
     "output_type": "stream",
     "text": [
      "[I 2023-10-11 03:42:10,679] Trial 70 finished with value: 0.6270578652620316 and parameters: {'lr': 1.6750093477025447e-05, 'dropout_prob': 0.28163568333248906, 'force_n_layers': 6, 'force_kernel_size': 4, 'force_stride': 2, 'force_padding': 9, 'force_hidden_channels': 104, 'force_pooling_type': 'avg', 'force_use_batch_norm': True, 'acc_n_layers': 5, 'acc_kernel_size': 8, 'acc_stride': 2, 'acc_padding': 6, 'acc_hidden_channels': 16, 'acc_pooling_type': 'avg', 'acc_use_batch_norm': False}. Best is trial 42 with value: 0.29766567796468735.\n"
     ]
    },
    {
     "name": "stdout",
     "output_type": "stream",
     "text": [
      "Epoch 50/50, Training Loss: 0.6294916695164096, Validation Loss: 0.6270578652620316\n",
      "Epoch 10/50, Training Loss: 0.41415869132164984, Validation Loss: 0.3971772566437721\n",
      "Epoch 20/50, Training Loss: 0.36410572067383795, Validation Loss: 0.34191134572029114\n",
      "Epoch 30/50, Training Loss: 0.3128394753702225, Validation Loss: 0.3109291382133961\n",
      "Epoch 40/50, Training Loss: 0.27750449363262425, Validation Loss: 0.3056270591914654\n"
     ]
    },
    {
     "name": "stderr",
     "output_type": "stream",
     "text": [
      "[I 2023-10-11 03:44:01,079] Trial 71 finished with value: 0.313178688287735 and parameters: {'lr': 0.000443662994693738, 'dropout_prob': 0.3297929513995754, 'force_n_layers': 5, 'force_kernel_size': 4, 'force_stride': 1, 'force_padding': 9, 'force_hidden_channels': 83, 'force_pooling_type': 'avg', 'force_use_batch_norm': True, 'acc_n_layers': 5, 'acc_kernel_size': 7, 'acc_stride': 3, 'acc_padding': 8, 'acc_hidden_channels': 131, 'acc_pooling_type': 'avg', 'acc_use_batch_norm': False}. Best is trial 42 with value: 0.29766567796468735.\n"
     ]
    },
    {
     "name": "stdout",
     "output_type": "stream",
     "text": [
      "Epoch 50/50, Training Loss: 0.2541661469205733, Validation Loss: 0.313178688287735\n",
      "Epoch 10/50, Training Loss: 0.4495004819285485, Validation Loss: 0.44613008201122284\n",
      "Epoch 20/50, Training Loss: 0.391663214852733, Validation Loss: 0.3946152441203594\n",
      "Epoch 30/50, Training Loss: 0.35894095705401513, Validation Loss: 0.3559260405600071\n",
      "Epoch 40/50, Training Loss: 0.3343530100199484, Validation Loss: 0.34131481871008873\n"
     ]
    },
    {
     "name": "stderr",
     "output_type": "stream",
     "text": [
      "[I 2023-10-11 03:45:01,823] Trial 72 finished with value: 0.32859693840146065 and parameters: {'lr': 0.0003035964325930958, 'dropout_prob': 0.31623597815699556, 'force_n_layers': 5, 'force_kernel_size': 4, 'force_stride': 1, 'force_padding': 8, 'force_hidden_channels': 74, 'force_pooling_type': 'avg', 'force_use_batch_norm': True, 'acc_n_layers': 4, 'acc_kernel_size': 7, 'acc_stride': 3, 'acc_padding': 8, 'acc_hidden_channels': 86, 'acc_pooling_type': 'avg', 'acc_use_batch_norm': False}. Best is trial 42 with value: 0.29766567796468735.\n"
     ]
    },
    {
     "name": "stdout",
     "output_type": "stream",
     "text": [
      "Epoch 50/50, Training Loss: 0.3187090052712348, Validation Loss: 0.32859693840146065\n",
      "Epoch 10/50, Training Loss: 0.4022843414737332, Validation Loss: 0.3865921050310135\n",
      "Epoch 20/50, Training Loss: 0.346349022561504, Validation Loss: 0.33847780898213387\n",
      "Epoch 30/50, Training Loss: 0.293448313590019, Validation Loss: 0.30994676798582077\n",
      "Epoch 40/50, Training Loss: 0.2608023646377748, Validation Loss: 0.30142952501773834\n"
     ]
    },
    {
     "name": "stderr",
     "output_type": "stream",
     "text": [
      "[I 2023-10-11 03:46:25,014] Trial 73 finished with value: 0.30923216603696346 and parameters: {'lr': 0.0006247638530915224, 'dropout_prob': 0.35526799151946004, 'force_n_layers': 5, 'force_kernel_size': 5, 'force_stride': 1, 'force_padding': 10, 'force_hidden_channels': 96, 'force_pooling_type': 'avg', 'force_use_batch_norm': True, 'acc_n_layers': 5, 'acc_kernel_size': 7, 'acc_stride': 3, 'acc_padding': 8, 'acc_hidden_channels': 107, 'acc_pooling_type': 'avg', 'acc_use_batch_norm': False}. Best is trial 42 with value: 0.29766567796468735.\n"
     ]
    },
    {
     "name": "stdout",
     "output_type": "stream",
     "text": [
      "Epoch 50/50, Training Loss: 0.22980378568172455, Validation Loss: 0.30923216603696346\n",
      "Epoch 10/50, Training Loss: 0.4703982078259991, Validation Loss: 0.45381947234272957\n",
      "Epoch 20/50, Training Loss: 0.40740364501553195, Validation Loss: 0.42495933175086975\n",
      "Epoch 30/50, Training Loss: 0.3546621309172723, Validation Loss: 0.38898611441254616\n",
      "Epoch 40/50, Training Loss: 0.32419706832978035, Validation Loss: 0.35149992257356644\n"
     ]
    },
    {
     "name": "stderr",
     "output_type": "stream",
     "text": [
      "[I 2023-10-11 03:48:35,282] Trial 74 finished with value: 0.3451214339584112 and parameters: {'lr': 0.0006082307800444965, 'dropout_prob': 0.365367675106546, 'force_n_layers': 4, 'force_kernel_size': 5, 'force_stride': 1, 'force_padding': 10, 'force_hidden_channels': 134, 'force_pooling_type': 'avg', 'force_use_batch_norm': True, 'acc_n_layers': 6, 'acc_kernel_size': 7, 'acc_stride': 3, 'acc_padding': 9, 'acc_hidden_channels': 107, 'acc_pooling_type': 'avg', 'acc_use_batch_norm': False}. Best is trial 42 with value: 0.29766567796468735.\n"
     ]
    },
    {
     "name": "stdout",
     "output_type": "stream",
     "text": [
      "Epoch 50/50, Training Loss: 0.27580601121148757, Validation Loss: 0.3451214339584112\n",
      "Epoch 10/50, Training Loss: 0.4744338825825722, Validation Loss: 0.47674234211444855\n",
      "Epoch 20/50, Training Loss: 0.43396603003624945, Validation Loss: 0.4399285726249218\n",
      "Epoch 30/50, Training Loss: 0.4028182471952131, Validation Loss: 0.41685619205236435\n",
      "Epoch 40/50, Training Loss: 0.3891510578893846, Validation Loss: 0.4029558300971985\n"
     ]
    },
    {
     "name": "stderr",
     "output_type": "stream",
     "text": [
      "[I 2023-10-11 03:52:16,511] Trial 75 finished with value: 0.39221184328198433 and parameters: {'lr': 0.0007674959119964809, 'dropout_prob': 0.34526548134876156, 'force_n_layers': 5, 'force_kernel_size': 6, 'force_stride': 1, 'force_padding': 10, 'force_hidden_channels': 247, 'force_pooling_type': 'avg', 'force_use_batch_norm': True, 'acc_n_layers': 4, 'acc_kernel_size': 8, 'acc_stride': 7, 'acc_padding': 8, 'acc_hidden_channels': 96, 'acc_pooling_type': 'avg', 'acc_use_batch_norm': False}. Best is trial 42 with value: 0.29766567796468735.\n"
     ]
    },
    {
     "name": "stdout",
     "output_type": "stream",
     "text": [
      "Epoch 50/50, Training Loss: 0.3584453487588513, Validation Loss: 0.39221184328198433\n",
      "Epoch 10/50, Training Loss: 0.3653184954197176, Validation Loss: 0.3505835495889187\n",
      "Epoch 20/50, Training Loss: 0.24921361092598207, Validation Loss: 0.3380012959241867\n",
      "Epoch 30/50, Training Loss: 0.1561269137647844, Validation Loss: 0.35857710242271423\n",
      "Epoch 40/50, Training Loss: 0.08515645912097346, Validation Loss: 0.4602593295276165\n"
     ]
    },
    {
     "name": "stderr",
     "output_type": "stream",
     "text": [
      "[I 2023-10-11 03:55:05,487] Trial 76 finished with value: 0.668992143124342 and parameters: {'lr': 0.0010065760800024646, 'dropout_prob': 0.3557837385689816, 'force_n_layers': 5, 'force_kernel_size': 5, 'force_stride': 1, 'force_padding': 10, 'force_hidden_channels': 95, 'force_pooling_type': 'avg', 'force_use_batch_norm': False, 'acc_n_layers': 5, 'acc_kernel_size': 6, 'acc_stride': 3, 'acc_padding': 7, 'acc_hidden_channels': 218, 'acc_pooling_type': 'max', 'acc_use_batch_norm': False}. Best is trial 42 with value: 0.29766567796468735.\n"
     ]
    },
    {
     "name": "stdout",
     "output_type": "stream",
     "text": [
      "Epoch 50/50, Training Loss: 0.018038972911815488, Validation Loss: 0.668992143124342\n",
      "Epoch 10/50, Training Loss: 0.4287979083676492, Validation Loss: 0.42449402436614037\n",
      "Epoch 20/50, Training Loss: 0.3642513800051905, Validation Loss: 0.40929438546299934\n",
      "Epoch 30/50, Training Loss: 0.319497840058419, Validation Loss: 0.347881518304348\n",
      "Epoch 40/50, Training Loss: 0.29332578326425246, Validation Loss: 0.3532196097075939\n"
     ]
    },
    {
     "name": "stderr",
     "output_type": "stream",
     "text": [
      "[I 2023-10-11 03:56:27,752] Trial 77 finished with value: 0.33384909853339195 and parameters: {'lr': 0.0012081872174652024, 'dropout_prob': 0.2990132624705486, 'force_n_layers': 6, 'force_kernel_size': 5, 'force_stride': 2, 'force_padding': 9, 'force_hidden_channels': 123, 'force_pooling_type': 'avg', 'force_use_batch_norm': True, 'acc_n_layers': 4, 'acc_kernel_size': 7, 'acc_stride': 4, 'acc_padding': 7, 'acc_hidden_channels': 60, 'acc_pooling_type': 'avg', 'acc_use_batch_norm': False}. Best is trial 42 with value: 0.29766567796468735.\n"
     ]
    },
    {
     "name": "stdout",
     "output_type": "stream",
     "text": [
      "Epoch 50/50, Training Loss: 0.27151224305552824, Validation Loss: 0.33384909853339195\n",
      "Epoch 10/50, Training Loss: 0.2917240213963293, Validation Loss: 0.3288956433534622\n",
      "Epoch 20/50, Training Loss: 0.1581951701833356, Validation Loss: 0.3052008394151926\n",
      "Epoch 30/50, Training Loss: 0.08648647103578813, Validation Loss: 0.38459617644548416\n",
      "Epoch 40/50, Training Loss: 0.010933228813472294, Validation Loss: 0.6457906514406204\n"
     ]
    },
    {
     "name": "stderr",
     "output_type": "stream",
     "text": [
      "[I 2023-10-11 03:57:46,087] Trial 78 finished with value: 0.8250991255044937 and parameters: {'lr': 0.00045403485188001545, 'dropout_prob': 0.3149701569393036, 'force_n_layers': 5, 'force_kernel_size': 5, 'force_stride': 4, 'force_padding': 10, 'force_hidden_channels': 88, 'force_pooling_type': 'avg', 'force_use_batch_norm': True, 'acc_n_layers': 5, 'acc_kernel_size': 7, 'acc_stride': 2, 'acc_padding': 8, 'acc_hidden_channels': 78, 'acc_pooling_type': 'avg', 'acc_use_batch_norm': True}. Best is trial 42 with value: 0.29766567796468735.\n"
     ]
    },
    {
     "name": "stdout",
     "output_type": "stream",
     "text": [
      "Epoch 50/50, Training Loss: 0.0012410633010609495, Validation Loss: 0.8250991255044937\n",
      "Epoch 10/50, Training Loss: 0.4665865561654491, Validation Loss: 0.4631548300385475\n",
      "Epoch 20/50, Training Loss: 0.3843400064975985, Validation Loss: 0.40088698640465736\n",
      "Epoch 30/50, Training Loss: 0.3231512562882516, Validation Loss: 0.36662009730935097\n",
      "Epoch 40/50, Training Loss: 0.2980998879478824, Validation Loss: 0.3583003729581833\n"
     ]
    },
    {
     "name": "stderr",
     "output_type": "stream",
     "text": [
      "[I 2023-10-11 04:00:43,168] Trial 79 finished with value: 0.38139021396636963 and parameters: {'lr': 0.0007041303114390534, 'dropout_prob': 0.3809713492812061, 'force_n_layers': 4, 'force_kernel_size': 6, 'force_stride': 1, 'force_padding': 9, 'force_hidden_channels': 211, 'force_pooling_type': 'avg', 'force_use_batch_norm': True, 'acc_n_layers': 6, 'acc_kernel_size': 6, 'acc_stride': 3, 'acc_padding': 9, 'acc_hidden_channels': 106, 'acc_pooling_type': 'avg', 'acc_use_batch_norm': False}. Best is trial 42 with value: 0.29766567796468735.\n"
     ]
    },
    {
     "name": "stdout",
     "output_type": "stream",
     "text": [
      "Epoch 50/50, Training Loss: 0.2683729337107751, Validation Loss: 0.38139021396636963\n",
      "Epoch 10/50, Training Loss: 0.4412881059031333, Validation Loss: 0.4322360008955002\n",
      "Epoch 20/50, Training Loss: 0.3692132926756336, Validation Loss: 0.36440909281373024\n",
      "Epoch 30/50, Training Loss: 0.32959051478293633, Validation Loss: 0.33226069808006287\n",
      "Epoch 40/50, Training Loss: 0.31222846911799523, Validation Loss: 0.31615255400538445\n"
     ]
    },
    {
     "name": "stderr",
     "output_type": "stream",
     "text": [
      "[I 2023-10-11 04:02:20,023] Trial 80 finished with value: 0.31279499270021915 and parameters: {'lr': 0.000553973995207601, 'dropout_prob': 0.33910497373802556, 'force_n_layers': 5, 'force_kernel_size': 3, 'force_stride': 2, 'force_padding': 8, 'force_hidden_channels': 194, 'force_pooling_type': 'avg', 'force_use_batch_norm': True, 'acc_n_layers': 5, 'acc_kernel_size': 7, 'acc_stride': 3, 'acc_padding': 8, 'acc_hidden_channels': 88, 'acc_pooling_type': 'avg', 'acc_use_batch_norm': False}. Best is trial 42 with value: 0.29766567796468735.\n"
     ]
    },
    {
     "name": "stdout",
     "output_type": "stream",
     "text": [
      "Epoch 50/50, Training Loss: 0.2688188995084455, Validation Loss: 0.31279499270021915\n",
      "Epoch 10/50, Training Loss: 0.44967816529735444, Validation Loss: 0.4587724469602108\n",
      "Epoch 20/50, Training Loss: 0.38886640437187686, Validation Loss: 0.3852848596870899\n",
      "Epoch 30/50, Training Loss: 0.3481942261418989, Validation Loss: 0.35569268837571144\n",
      "Epoch 40/50, Training Loss: 0.3267715919402338, Validation Loss: 0.3418353572487831\n"
     ]
    },
    {
     "name": "stderr",
     "output_type": "stream",
     "text": [
      "[I 2023-10-11 04:04:08,006] Trial 81 finished with value: 0.3204578831791878 and parameters: {'lr': 0.0003348722846469141, 'dropout_prob': 0.32713678414482106, 'force_n_layers': 5, 'force_kernel_size': 4, 'force_stride': 1, 'force_padding': 9, 'force_hidden_channels': 78, 'force_pooling_type': 'avg', 'force_use_batch_norm': True, 'acc_n_layers': 5, 'acc_kernel_size': 7, 'acc_stride': 3, 'acc_padding': 8, 'acc_hidden_channels': 123, 'acc_pooling_type': 'avg', 'acc_use_batch_norm': False}. Best is trial 42 with value: 0.29766567796468735.\n"
     ]
    },
    {
     "name": "stdout",
     "output_type": "stream",
     "text": [
      "Epoch 50/50, Training Loss: 0.30567819024285964, Validation Loss: 0.3204578831791878\n",
      "Epoch 10/50, Training Loss: 0.419280122364721, Validation Loss: 0.4105360619723797\n",
      "Epoch 20/50, Training Loss: 0.3699804082993538, Validation Loss: 0.3584630452096462\n",
      "Epoch 30/50, Training Loss: 0.3411424746436457, Validation Loss: 0.3363015614449978\n",
      "Epoch 40/50, Training Loss: 0.30642454085811494, Validation Loss: 0.31439531594514847\n"
     ]
    },
    {
     "name": "stderr",
     "output_type": "stream",
     "text": [
      "[I 2023-10-11 04:05:50,407] Trial 82 finished with value: 0.3199971616268158 and parameters: {'lr': 0.0004089238958761037, 'dropout_prob': 0.35385497435975155, 'force_n_layers': 5, 'force_kernel_size': 4, 'force_stride': 1, 'force_padding': 9, 'force_hidden_channels': 69, 'force_pooling_type': 'avg', 'force_use_batch_norm': True, 'acc_n_layers': 5, 'acc_kernel_size': 7, 'acc_stride': 3, 'acc_padding': 8, 'acc_hidden_channels': 117, 'acc_pooling_type': 'avg', 'acc_use_batch_norm': False}. Best is trial 42 with value: 0.29766567796468735.\n"
     ]
    },
    {
     "name": "stdout",
     "output_type": "stream",
     "text": [
      "Epoch 50/50, Training Loss: 0.2826747476093231, Validation Loss: 0.3199971616268158\n",
      "Epoch 10/50, Training Loss: 0.45119484393827375, Validation Loss: 0.44016043096780777\n",
      "Epoch 20/50, Training Loss: 0.38779561654213934, Validation Loss: 0.37474315986037254\n",
      "Epoch 30/50, Training Loss: 0.34588484706417205, Validation Loss: 0.3524484224617481\n",
      "Epoch 40/50, Training Loss: 0.3323499454605964, Validation Loss: 0.3258577510714531\n"
     ]
    },
    {
     "name": "stderr",
     "output_type": "stream",
     "text": [
      "[I 2023-10-11 04:07:40,415] Trial 83 finished with value: 0.3148154355585575 and parameters: {'lr': 0.00024627233812034337, 'dropout_prob': 0.3709195360465538, 'force_n_layers': 5, 'force_kernel_size': 4, 'force_stride': 1, 'force_padding': 9, 'force_hidden_channels': 95, 'force_pooling_type': 'avg', 'force_use_batch_norm': True, 'acc_n_layers': 4, 'acc_kernel_size': 7, 'acc_stride': 3, 'acc_padding': 9, 'acc_hidden_channels': 136, 'acc_pooling_type': 'avg', 'acc_use_batch_norm': False}. Best is trial 42 with value: 0.29766567796468735.\n"
     ]
    },
    {
     "name": "stdout",
     "output_type": "stream",
     "text": [
      "Epoch 50/50, Training Loss: 0.31557337410988345, Validation Loss: 0.3148154355585575\n",
      "Epoch 10/50, Training Loss: 0.47848048421644396, Validation Loss: 0.4737638384103775\n",
      "Epoch 20/50, Training Loss: 0.43534239165244565, Validation Loss: 0.4258030839264393\n",
      "Epoch 30/50, Training Loss: 0.4095087887779359, Validation Loss: 0.39759062230587006\n",
      "Epoch 40/50, Training Loss: 0.3877291679382324, Validation Loss: 0.3689361922442913\n"
     ]
    },
    {
     "name": "stderr",
     "output_type": "stream",
     "text": [
      "[I 2023-10-11 04:08:57,727] Trial 84 finished with value: 0.3550863675773144 and parameters: {'lr': 0.00033698905667904546, 'dropout_prob': 0.33633218559545935, 'force_n_layers': 4, 'force_kernel_size': 4, 'force_stride': 1, 'force_padding': 8, 'force_hidden_channels': 110, 'force_pooling_type': 'avg', 'force_use_batch_norm': True, 'acc_n_layers': 5, 'acc_kernel_size': 8, 'acc_stride': 4, 'acc_padding': 7, 'acc_hidden_channels': 101, 'acc_pooling_type': 'avg', 'acc_use_batch_norm': False}. Best is trial 42 with value: 0.29766567796468735.\n"
     ]
    },
    {
     "name": "stdout",
     "output_type": "stream",
     "text": [
      "Epoch 50/50, Training Loss: 0.3623461184963103, Validation Loss: 0.3550863675773144\n",
      "Epoch 10/50, Training Loss: 0.39600141682932455, Validation Loss: 0.3925562985241413\n",
      "Epoch 20/50, Training Loss: 0.33266871013948995, Validation Loss: 0.3485877551138401\n",
      "Epoch 30/50, Training Loss: 0.29539941780028806, Validation Loss: 0.3210909366607666\n",
      "Epoch 40/50, Training Loss: 0.26566523457727126, Validation Loss: 0.30683960765600204\n"
     ]
    },
    {
     "name": "stderr",
     "output_type": "stream",
     "text": [
      "[I 2023-10-11 04:10:56,201] Trial 85 finished with value: 0.3141539879143238 and parameters: {'lr': 0.000641088964810002, 'dropout_prob': 0.2935028437949675, 'force_n_layers': 5, 'force_kernel_size': 5, 'force_stride': 1, 'force_padding': 9, 'force_hidden_channels': 57, 'force_pooling_type': 'avg', 'force_use_batch_norm': True, 'acc_n_layers': 5, 'acc_kernel_size': 7, 'acc_stride': 2, 'acc_padding': 8, 'acc_hidden_channels': 111, 'acc_pooling_type': 'avg', 'acc_use_batch_norm': False}. Best is trial 42 with value: 0.29766567796468735.\n"
     ]
    },
    {
     "name": "stdout",
     "output_type": "stream",
     "text": [
      "Epoch 50/50, Training Loss: 0.23565732855950633, Validation Loss: 0.3141539879143238\n",
      "Epoch 10/50, Training Loss: 0.45647992049494096, Validation Loss: 0.443948607891798\n",
      "Epoch 20/50, Training Loss: 0.3601931881520056, Validation Loss: 0.4129153862595558\n",
      "Epoch 30/50, Training Loss: 0.3042285500034209, Validation Loss: 0.3634967729449272\n",
      "Epoch 40/50, Training Loss: 0.2528071379469287, Validation Loss: 0.39370156452059746\n"
     ]
    },
    {
     "name": "stderr",
     "output_type": "stream",
     "text": [
      "[I 2023-10-11 04:12:48,947] Trial 86 finished with value: 0.44159822165966034 and parameters: {'lr': 0.0004772953293981724, 'dropout_prob': 0.315994269073793, 'force_n_layers': 5, 'force_kernel_size': 4, 'force_stride': 1, 'force_padding': 10, 'force_hidden_channels': 82, 'force_pooling_type': 'avg', 'force_use_batch_norm': False, 'acc_n_layers': 7, 'acc_kernel_size': 6, 'acc_stride': 3, 'acc_padding': 8, 'acc_hidden_channels': 120, 'acc_pooling_type': 'max', 'acc_use_batch_norm': False}. Best is trial 42 with value: 0.29766567796468735.\n"
     ]
    },
    {
     "name": "stdout",
     "output_type": "stream",
     "text": [
      "Epoch 50/50, Training Loss: 0.22373172736937, Validation Loss: 0.44159822165966034\n",
      "Epoch 10/50, Training Loss: 0.15659611311651045, Validation Loss: 0.4073374569416046\n",
      "Epoch 20/50, Training Loss: 0.01586445368405792, Validation Loss: 0.727491021156311\n",
      "Epoch 30/50, Training Loss: 0.020903333600971005, Validation Loss: 0.7515224292874336\n",
      "Epoch 40/50, Training Loss: 0.00010499578181019564, Validation Loss: 0.9858122169971466\n"
     ]
    },
    {
     "name": "stderr",
     "output_type": "stream",
     "text": [
      "[I 2023-10-11 04:14:48,697] Trial 87 finished with value: 1.0675569027662277 and parameters: {'lr': 0.0009084203604732841, 'dropout_prob': 0.2724865514418371, 'force_n_layers': 6, 'force_kernel_size': 5, 'force_stride': 4, 'force_padding': 10, 'force_hidden_channels': 65, 'force_pooling_type': 'avg', 'force_use_batch_norm': True, 'acc_n_layers': 6, 'acc_kernel_size': 7, 'acc_stride': 3, 'acc_padding': 9, 'acc_hidden_channels': 127, 'acc_pooling_type': 'avg', 'acc_use_batch_norm': True}. Best is trial 42 with value: 0.29766567796468735.\n"
     ]
    },
    {
     "name": "stdout",
     "output_type": "stream",
     "text": [
      "Epoch 50/50, Training Loss: 4.27469930723272e-05, Validation Loss: 1.0675569027662277\n",
      "Epoch 10/50, Training Loss: 0.43252077794844107, Validation Loss: 0.4136723279953003\n",
      "Epoch 20/50, Training Loss: 0.36069025339618804, Validation Loss: 0.34664809331297874\n",
      "Epoch 30/50, Training Loss: 0.32343497968489127, Validation Loss: 0.3267858661711216\n",
      "Epoch 40/50, Training Loss: 0.2963398334480101, Validation Loss: 0.3137493468821049\n"
     ]
    },
    {
     "name": "stderr",
     "output_type": "stream",
     "text": [
      "[I 2023-10-11 04:15:45,862] Trial 88 finished with value: 0.30876364558935165 and parameters: {'lr': 0.0005462755713637277, 'dropout_prob': 0.28535991770655855, 'force_n_layers': 5, 'force_kernel_size': 4, 'force_stride': 6, 'force_padding': 9, 'force_hidden_channels': 48, 'force_pooling_type': 'max', 'force_use_batch_norm': True, 'acc_n_layers': 5, 'acc_kernel_size': 5, 'acc_stride': 2, 'acc_padding': 6, 'acc_hidden_channels': 69, 'acc_pooling_type': 'avg', 'acc_use_batch_norm': False}. Best is trial 42 with value: 0.29766567796468735.\n"
     ]
    },
    {
     "name": "stdout",
     "output_type": "stream",
     "text": [
      "Epoch 50/50, Training Loss: 0.27543382298561836, Validation Loss: 0.30876364558935165\n",
      "Epoch 10/50, Training Loss: 0.39362284012379184, Validation Loss: 0.38780614733695984\n",
      "Epoch 20/50, Training Loss: 0.3414202284428381, Validation Loss: 0.35033177956938744\n",
      "Epoch 30/50, Training Loss: 0.3158646841203013, Validation Loss: 0.33866020292043686\n",
      "Epoch 40/50, Training Loss: 0.29884728212510386, Validation Loss: 0.3721201568841934\n"
     ]
    },
    {
     "name": "stderr",
     "output_type": "stream",
     "text": [
      "[I 2023-10-11 04:16:39,827] Trial 89 finished with value: 0.33691906556487083 and parameters: {'lr': 0.0006991850136262287, 'dropout_prob': 0.30563261419725596, 'force_n_layers': 4, 'force_kernel_size': 3, 'force_stride': 6, 'force_padding': 8, 'force_hidden_channels': 102, 'force_pooling_type': 'max', 'force_use_batch_norm': True, 'acc_n_layers': 4, 'acc_kernel_size': 5, 'acc_stride': 2, 'acc_padding': 6, 'acc_hidden_channels': 69, 'acc_pooling_type': 'avg', 'acc_use_batch_norm': False}. Best is trial 42 with value: 0.29766567796468735.\n"
     ]
    },
    {
     "name": "stdout",
     "output_type": "stream",
     "text": [
      "Epoch 50/50, Training Loss: 0.2861634810124674, Validation Loss: 0.33691906556487083\n",
      "Epoch 10/50, Training Loss: 0.47896540261084036, Validation Loss: 0.4751308932900429\n",
      "Epoch 20/50, Training Loss: 0.37508941561945025, Validation Loss: 0.36549388989806175\n",
      "Epoch 30/50, Training Loss: 0.3440877593332721, Validation Loss: 0.34521739184856415\n",
      "Epoch 40/50, Training Loss: 0.32379359775973904, Validation Loss: 0.3418113961815834\n"
     ]
    },
    {
     "name": "stderr",
     "output_type": "stream",
     "text": [
      "[I 2023-10-11 04:17:28,297] Trial 90 finished with value: 0.33016153052449226 and parameters: {'lr': 0.0005452345987526393, 'dropout_prob': 0.26200769700975934, 'force_n_layers': 5, 'force_kernel_size': 4, 'force_stride': 6, 'force_padding': 10, 'force_hidden_channels': 46, 'force_pooling_type': 'max', 'force_use_batch_norm': True, 'acc_n_layers': 5, 'acc_kernel_size': 5, 'acc_stride': 2, 'acc_padding': 6, 'acc_hidden_channels': 51, 'acc_pooling_type': 'avg', 'acc_use_batch_norm': False}. Best is trial 42 with value: 0.29766567796468735.\n"
     ]
    },
    {
     "name": "stdout",
     "output_type": "stream",
     "text": [
      "Epoch 50/50, Training Loss: 0.3248584044556464, Validation Loss: 0.33016153052449226\n",
      "Epoch 10/50, Training Loss: 0.43871285069373345, Validation Loss: 0.41898762434720993\n",
      "Epoch 20/50, Training Loss: 0.36686373429913677, Validation Loss: 0.3550148159265518\n",
      "Epoch 30/50, Training Loss: 0.3188727517281809, Validation Loss: 0.3352930322289467\n",
      "Epoch 40/50, Training Loss: 0.30228841112506005, Validation Loss: 0.32456960156559944\n"
     ]
    },
    {
     "name": "stderr",
     "output_type": "stream",
     "text": [
      "[I 2023-10-11 04:18:49,964] Trial 91 finished with value: 0.3114786706864834 and parameters: {'lr': 0.0004137534773222116, 'dropout_prob': 0.2842893503095048, 'force_n_layers': 5, 'force_kernel_size': 4, 'force_stride': 5, 'force_padding': 9, 'force_hidden_channels': 49, 'force_pooling_type': 'max', 'force_use_batch_norm': True, 'acc_n_layers': 5, 'acc_kernel_size': 5, 'acc_stride': 2, 'acc_padding': 7, 'acc_hidden_channels': 95, 'acc_pooling_type': 'avg', 'acc_use_batch_norm': False}. Best is trial 42 with value: 0.29766567796468735.\n"
     ]
    },
    {
     "name": "stdout",
     "output_type": "stream",
     "text": [
      "Epoch 50/50, Training Loss: 0.2712126355017385, Validation Loss: 0.3114786706864834\n",
      "Epoch 10/50, Training Loss: 0.48820386009831584, Validation Loss: 0.47404929995536804\n",
      "Epoch 20/50, Training Loss: 0.44055339021067463, Validation Loss: 0.42815693467855453\n",
      "Epoch 30/50, Training Loss: 0.38133928372013953, Validation Loss: 0.3822191618382931\n",
      "Epoch 40/50, Training Loss: 0.352268454528624, Validation Loss: 0.3443779982626438\n"
     ]
    },
    {
     "name": "stderr",
     "output_type": "stream",
     "text": [
      "[I 2023-10-11 04:19:50,882] Trial 92 finished with value: 0.34145983308553696 and parameters: {'lr': 0.00028163669539585465, 'dropout_prob': 0.3496286800185059, 'force_n_layers': 5, 'force_kernel_size': 4, 'force_stride': 7, 'force_padding': 9, 'force_hidden_channels': 77, 'force_pooling_type': 'max', 'force_use_batch_norm': True, 'acc_n_layers': 5, 'acc_kernel_size': 7, 'acc_stride': 3, 'acc_padding': 8, 'acc_hidden_channels': 84, 'acc_pooling_type': 'avg', 'acc_use_batch_norm': False}. Best is trial 42 with value: 0.29766567796468735.\n"
     ]
    },
    {
     "name": "stdout",
     "output_type": "stream",
     "text": [
      "Epoch 50/50, Training Loss: 0.3362403713887738, Validation Loss: 0.34145983308553696\n",
      "Epoch 10/50, Training Loss: 0.37941333555406137, Validation Loss: 0.36910557374358177\n",
      "Epoch 20/50, Training Loss: 0.3352724304122309, Validation Loss: 0.33557018265128136\n",
      "Epoch 30/50, Training Loss: 0.2878662785214762, Validation Loss: 0.32069965451955795\n",
      "Epoch 40/50, Training Loss: 0.273473417085986, Validation Loss: 0.31278641894459724\n"
     ]
    },
    {
     "name": "stderr",
     "output_type": "stream",
     "text": [
      "[I 2023-10-11 04:22:37,546] Trial 93 finished with value: 0.3587215691804886 and parameters: {'lr': 0.00036471728224247464, 'dropout_prob': 0.3314732752979571, 'force_n_layers': 5, 'force_kernel_size': 5, 'force_stride': 1, 'force_padding': 9, 'force_hidden_channels': 87, 'force_pooling_type': 'max', 'force_use_batch_norm': True, 'acc_n_layers': 6, 'acc_kernel_size': 7, 'acc_stride': 1, 'acc_padding': 7, 'acc_hidden_channels': 72, 'acc_pooling_type': 'avg', 'acc_use_batch_norm': False}. Best is trial 42 with value: 0.29766567796468735.\n"
     ]
    },
    {
     "name": "stdout",
     "output_type": "stream",
     "text": [
      "Epoch 50/50, Training Loss: 0.24073691281580156, Validation Loss: 0.3587215691804886\n",
      "Epoch 10/50, Training Loss: 0.4114094174677326, Validation Loss: 0.40319132059812546\n",
      "Epoch 20/50, Training Loss: 0.33770193592194586, Validation Loss: 0.34822850674390793\n",
      "Epoch 30/50, Training Loss: 0.2841270801521117, Validation Loss: 0.3256049416959286\n",
      "Epoch 40/50, Training Loss: 0.2543798353402845, Validation Loss: 0.3060615509748459\n"
     ]
    },
    {
     "name": "stderr",
     "output_type": "stream",
     "text": [
      "[I 2023-10-11 04:24:37,986] Trial 94 finished with value: 0.3158314861357212 and parameters: {'lr': 0.0005660457535044831, 'dropout_prob': 0.30729502768552186, 'force_n_layers': 5, 'force_kernel_size': 4, 'force_stride': 7, 'force_padding': 9, 'force_hidden_channels': 107, 'force_pooling_type': 'max', 'force_use_batch_norm': True, 'acc_n_layers': 5, 'acc_kernel_size': 8, 'acc_stride': 3, 'acc_padding': 8, 'acc_hidden_channels': 143, 'acc_pooling_type': 'avg', 'acc_use_batch_norm': False}. Best is trial 42 with value: 0.29766567796468735.\n"
     ]
    },
    {
     "name": "stdout",
     "output_type": "stream",
     "text": [
      "Epoch 50/50, Training Loss: 0.22123586482578708, Validation Loss: 0.3158314861357212\n",
      "Epoch 10/50, Training Loss: 0.40739985819785823, Validation Loss: 0.4022422134876251\n",
      "Epoch 20/50, Training Loss: 0.33295181874305974, Validation Loss: 0.34935372322797775\n",
      "Epoch 30/50, Training Loss: 0.29745174127240337, Validation Loss: 0.3108479678630829\n",
      "Epoch 40/50, Training Loss: 0.2711535475907787, Validation Loss: 0.2974535394459963\n"
     ]
    },
    {
     "name": "stderr",
     "output_type": "stream",
     "text": [
      "[I 2023-10-11 04:25:37,916] Trial 95 finished with value: 0.2890980765223503 and parameters: {'lr': 0.0007681033105082424, 'dropout_prob': 0.28948213501600295, 'force_n_layers': 6, 'force_kernel_size': 4, 'force_stride': 1, 'force_padding': 10, 'force_hidden_channels': 35, 'force_pooling_type': 'avg', 'force_use_batch_norm': True, 'acc_n_layers': 4, 'acc_kernel_size': 7, 'acc_stride': 3, 'acc_padding': 8, 'acc_hidden_channels': 91, 'acc_pooling_type': 'avg', 'acc_use_batch_norm': False}. Best is trial 95 with value: 0.2890980765223503.\n"
     ]
    },
    {
     "name": "stdout",
     "output_type": "stream",
     "text": [
      "Epoch 50/50, Training Loss: 0.24352840598552458, Validation Loss: 0.2890980765223503\n",
      "Epoch 10/50, Training Loss: 0.22629804356444266, Validation Loss: 0.2800219990313053\n",
      "Epoch 20/50, Training Loss: 0.12459621169874745, Validation Loss: 0.3168490845710039\n",
      "Epoch 30/50, Training Loss: 0.03712194136554195, Validation Loss: 0.5158798024058342\n",
      "Epoch 40/50, Training Loss: 0.002985715411693579, Validation Loss: 0.6885722726583481\n"
     ]
    },
    {
     "name": "stderr",
     "output_type": "stream",
     "text": [
      "[I 2023-10-11 04:26:59,532] Trial 96 finished with value: 0.8287489712238312 and parameters: {'lr': 0.0008893310068737445, 'dropout_prob': 0.2790592919764256, 'force_n_layers': 6, 'force_kernel_size': 5, 'force_stride': 6, 'force_padding': 10, 'force_hidden_channels': 119, 'force_pooling_type': 'avg', 'force_use_batch_norm': True, 'acc_n_layers': 4, 'acc_kernel_size': 6, 'acc_stride': 2, 'acc_padding': 7, 'acc_hidden_channels': 82, 'acc_pooling_type': 'avg', 'acc_use_batch_norm': True}. Best is trial 95 with value: 0.2890980765223503.\n"
     ]
    },
    {
     "name": "stdout",
     "output_type": "stream",
     "text": [
      "Epoch 50/50, Training Loss: 0.000830889145295406, Validation Loss: 0.8287489712238312\n",
      "Epoch 10/50, Training Loss: 0.44230124450499014, Validation Loss: 0.43509475141763687\n",
      "Epoch 20/50, Training Loss: 0.39086130838240346, Validation Loss: 0.3916011303663254\n",
      "Epoch 30/50, Training Loss: 0.3472092997643255, Validation Loss: 0.36122820153832436\n",
      "Epoch 40/50, Training Loss: 0.322466887774006, Validation Loss: 0.33573042973876\n"
     ]
    },
    {
     "name": "stderr",
     "output_type": "stream",
     "text": [
      "[I 2023-10-11 04:27:52,439] Trial 97 finished with value: 0.3263760581612587 and parameters: {'lr': 0.0007373955911524067, 'dropout_prob': 0.2498833035282203, 'force_n_layers': 7, 'force_kernel_size': 4, 'force_stride': 1, 'force_padding': 10, 'force_hidden_channels': 22, 'force_pooling_type': 'avg', 'force_use_batch_norm': True, 'acc_n_layers': 4, 'acc_kernel_size': 4, 'acc_stride': 4, 'acc_padding': 6, 'acc_hidden_channels': 90, 'acc_pooling_type': 'avg', 'acc_use_batch_norm': False}. Best is trial 95 with value: 0.2890980765223503.\n"
     ]
    },
    {
     "name": "stdout",
     "output_type": "stream",
     "text": [
      "Epoch 50/50, Training Loss: 0.3114051261255818, Validation Loss: 0.3263760581612587\n",
      "Epoch 10/50, Training Loss: 0.42159659151108037, Validation Loss: 0.40961379930377007\n",
      "Epoch 20/50, Training Loss: 0.3415137481304907, Validation Loss: 0.34901711344718933\n",
      "Epoch 30/50, Training Loss: 0.3035396505748072, Validation Loss: 0.3346778228878975\n",
      "Epoch 40/50, Training Loss: 0.2953101242742231, Validation Loss: 0.32285429164767265\n"
     ]
    },
    {
     "name": "stderr",
     "output_type": "stream",
     "text": [
      "[I 2023-10-11 04:28:32,914] Trial 98 finished with value: 0.3287900499999523 and parameters: {'lr': 0.0006284473391882355, 'dropout_prob': 0.29470804465891376, 'force_n_layers': 6, 'force_kernel_size': 3, 'force_stride': 5, 'force_padding': 10, 'force_hidden_channels': 59, 'force_pooling_type': 'max', 'force_use_batch_norm': False, 'acc_n_layers': 4, 'acc_kernel_size': 6, 'acc_stride': 3, 'acc_padding': 8, 'acc_hidden_channels': 65, 'acc_pooling_type': 'max', 'acc_use_batch_norm': False}. Best is trial 95 with value: 0.2890980765223503.\n"
     ]
    },
    {
     "name": "stdout",
     "output_type": "stream",
     "text": [
      "Epoch 50/50, Training Loss: 0.24536641615052376, Validation Loss: 0.3287900499999523\n",
      "Epoch 10/50, Training Loss: 0.3861506744738548, Validation Loss: 0.37891627848148346\n",
      "Epoch 20/50, Training Loss: 0.31456714003316816, Validation Loss: 0.3229840509593487\n",
      "Epoch 30/50, Training Loss: 0.26642405506103267, Validation Loss: 0.317366149276495\n",
      "Epoch 40/50, Training Loss: 0.23934504437831142, Validation Loss: 0.3039000313729048\n"
     ]
    },
    {
     "name": "stderr",
     "output_type": "stream",
     "text": [
      "[I 2023-10-11 04:29:32,369] Trial 99 finished with value: 0.2990819625556469 and parameters: {'lr': 0.0011532825682039724, 'dropout_prob': 0.2634169803295735, 'force_n_layers': 7, 'force_kernel_size': 5, 'force_stride': 1, 'force_padding': 10, 'force_hidden_channels': 38, 'force_pooling_type': 'avg', 'force_use_batch_norm': True, 'acc_n_layers': 4, 'acc_kernel_size': 7, 'acc_stride': 3, 'acc_padding': 9, 'acc_hidden_channels': 77, 'acc_pooling_type': 'avg', 'acc_use_batch_norm': False}. Best is trial 95 with value: 0.2890980765223503.\n"
     ]
    },
    {
     "name": "stdout",
     "output_type": "stream",
     "text": [
      "Epoch 50/50, Training Loss: 0.22560955295639654, Validation Loss: 0.2990819625556469\n",
      "Epoch 10/50, Training Loss: 0.3922431815055109, Validation Loss: 0.39040229469537735\n",
      "Epoch 20/50, Training Loss: 0.327077490668143, Validation Loss: 0.3469766229391098\n",
      "Epoch 30/50, Training Loss: 0.2898088861857691, Validation Loss: 0.31941846013069153\n",
      "Epoch 40/50, Training Loss: 0.2524451728790037, Validation Loss: 0.30989255011081696\n"
     ]
    },
    {
     "name": "stderr",
     "output_type": "stream",
     "text": [
      "[I 2023-10-11 04:30:18,066] Trial 100 finished with value: 0.3101160768419504 and parameters: {'lr': 0.0011091943464052207, 'dropout_prob': 0.26649750491897567, 'force_n_layers': 7, 'force_kernel_size': 4, 'force_stride': 2, 'force_padding': 9, 'force_hidden_channels': 37, 'force_pooling_type': 'avg', 'force_use_batch_norm': True, 'acc_n_layers': 3, 'acc_kernel_size': 7, 'acc_stride': 3, 'acc_padding': 10, 'acc_hidden_channels': 57, 'acc_pooling_type': 'avg', 'acc_use_batch_norm': False}. Best is trial 95 with value: 0.2890980765223503.\n"
     ]
    },
    {
     "name": "stdout",
     "output_type": "stream",
     "text": [
      "Epoch 50/50, Training Loss: 0.23377374247197183, Validation Loss: 0.3101160768419504\n",
      "Epoch 10/50, Training Loss: 0.4032248979614627, Validation Loss: 0.38296371325850487\n",
      "Epoch 20/50, Training Loss: 0.3283433452729256, Validation Loss: 0.3327576331794262\n",
      "Epoch 30/50, Training Loss: 0.2993844170724192, Validation Loss: 0.32156913354992867\n",
      "Epoch 40/50, Training Loss: 0.27502116512867714, Validation Loss: 0.3177425339818001\n"
     ]
    },
    {
     "name": "stderr",
     "output_type": "stream",
     "text": [
      "[I 2023-10-11 04:31:20,677] Trial 101 finished with value: 0.30960221216082573 and parameters: {'lr': 0.0009310973180401058, 'dropout_prob': 0.2600918409915764, 'force_n_layers': 7, 'force_kernel_size': 5, 'force_stride': 1, 'force_padding': 10, 'force_hidden_channels': 33, 'force_pooling_type': 'avg', 'force_use_batch_norm': True, 'acc_n_layers': 4, 'acc_kernel_size': 7, 'acc_stride': 3, 'acc_padding': 9, 'acc_hidden_channels': 77, 'acc_pooling_type': 'avg', 'acc_use_batch_norm': False}. Best is trial 95 with value: 0.2890980765223503.\n"
     ]
    },
    {
     "name": "stdout",
     "output_type": "stream",
     "text": [
      "Epoch 50/50, Training Loss: 0.24925869174541965, Validation Loss: 0.30960221216082573\n",
      "Epoch 10/50, Training Loss: 0.41572266144137227, Validation Loss: 0.3891878090798855\n",
      "Epoch 20/50, Training Loss: 0.3392296760312973, Validation Loss: 0.3424902893602848\n",
      "Epoch 30/50, Training Loss: 0.2810556037772086, Validation Loss: 0.30231304839253426\n",
      "Epoch 40/50, Training Loss: 0.2610744353263609, Validation Loss: 0.2988772317767143\n"
     ]
    },
    {
     "name": "stderr",
     "output_type": "stream",
     "text": [
      "[I 2023-10-11 04:32:36,455] Trial 102 finished with value: 0.2963327318429947 and parameters: {'lr': 0.0008047548571147886, 'dropout_prob': 0.23973302129906748, 'force_n_layers': 7, 'force_kernel_size': 5, 'force_stride': 1, 'force_padding': 10, 'force_hidden_channels': 27, 'force_pooling_type': 'avg', 'force_use_batch_norm': True, 'acc_n_layers': 4, 'acc_kernel_size': 7, 'acc_stride': 3, 'acc_padding': 9, 'acc_hidden_channels': 100, 'acc_pooling_type': 'avg', 'acc_use_batch_norm': False}. Best is trial 95 with value: 0.2890980765223503.\n"
     ]
    },
    {
     "name": "stdout",
     "output_type": "stream",
     "text": [
      "Epoch 50/50, Training Loss: 0.23233760268457473, Validation Loss: 0.2963327318429947\n",
      "Epoch 10/50, Training Loss: 0.3819287842319858, Validation Loss: 0.3915722519159317\n",
      "Epoch 20/50, Training Loss: 0.31298883211228157, Validation Loss: 0.32065200060606003\n",
      "Epoch 30/50, Training Loss: 0.2755101068365958, Validation Loss: 0.3043111376464367\n",
      "Epoch 40/50, Training Loss: 0.2164290379131994, Validation Loss: 0.31145129539072514\n"
     ]
    },
    {
     "name": "stderr",
     "output_type": "stream",
     "text": [
      "[I 2023-10-11 04:33:48,876] Trial 103 finished with value: 0.31910914182662964 and parameters: {'lr': 0.0012909317868122193, 'dropout_prob': 0.24430622026580873, 'force_n_layers': 7, 'force_kernel_size': 5, 'force_stride': 1, 'force_padding': 10, 'force_hidden_channels': 28, 'force_pooling_type': 'avg', 'force_use_batch_norm': True, 'acc_n_layers': 4, 'acc_kernel_size': 7, 'acc_stride': 3, 'acc_padding': 9, 'acc_hidden_channels': 97, 'acc_pooling_type': 'avg', 'acc_use_batch_norm': False}. Best is trial 95 with value: 0.2890980765223503.\n"
     ]
    },
    {
     "name": "stdout",
     "output_type": "stream",
     "text": [
      "Epoch 50/50, Training Loss: 0.1903562565003672, Validation Loss: 0.31910914182662964\n",
      "Epoch 10/50, Training Loss: 0.3740407420742896, Validation Loss: 0.3769485354423523\n",
      "Epoch 20/50, Training Loss: 0.31360932319395, Validation Loss: 0.3334946110844612\n",
      "Epoch 30/50, Training Loss: 0.2896566299661513, Validation Loss: 0.32506862841546535\n",
      "Epoch 40/50, Training Loss: 0.24243211409737986, Validation Loss: 0.32246360555291176\n"
     ]
    },
    {
     "name": "stderr",
     "output_type": "stream",
     "text": [
      "[I 2023-10-11 04:35:16,654] Trial 104 finished with value: 0.32232428900897503 and parameters: {'lr': 0.0007867819066748142, 'dropout_prob': 0.27371636634505514, 'force_n_layers': 7, 'force_kernel_size': 6, 'force_stride': 1, 'force_padding': 9, 'force_hidden_channels': 18, 'force_pooling_type': 'avg', 'force_use_batch_norm': True, 'acc_n_layers': 4, 'acc_kernel_size': 7, 'acc_stride': 2, 'acc_padding': 10, 'acc_hidden_channels': 92, 'acc_pooling_type': 'avg', 'acc_use_batch_norm': False}. Best is trial 95 with value: 0.2890980765223503.\n"
     ]
    },
    {
     "name": "stdout",
     "output_type": "stream",
     "text": [
      "Epoch 50/50, Training Loss: 0.22376670472083554, Validation Loss: 0.32232428900897503\n",
      "Epoch 10/50, Training Loss: 0.38599493330524814, Validation Loss: 0.38477296009659767\n",
      "Epoch 20/50, Training Loss: 0.32242812072077104, Validation Loss: 0.3218303769826889\n",
      "Epoch 30/50, Training Loss: 0.2729484789794491, Validation Loss: 0.302493441849947\n",
      "Epoch 40/50, Training Loss: 0.23709220463229763, Validation Loss: 0.3171488903462887\n"
     ]
    },
    {
     "name": "stderr",
     "output_type": "stream",
     "text": [
      "[I 2023-10-11 04:36:39,195] Trial 105 finished with value: 0.31288971193134785 and parameters: {'lr': 0.0010803461330947716, 'dropout_prob': 0.2223241304075383, 'force_n_layers': 7, 'force_kernel_size': 4, 'force_stride': 1, 'force_padding': 10, 'force_hidden_channels': 37, 'force_pooling_type': 'avg', 'force_use_batch_norm': True, 'acc_n_layers': 4, 'acc_kernel_size': 7, 'acc_stride': 3, 'acc_padding': 9, 'acc_hidden_channels': 102, 'acc_pooling_type': 'avg', 'acc_use_batch_norm': False}. Best is trial 95 with value: 0.2890980765223503.\n"
     ]
    },
    {
     "name": "stdout",
     "output_type": "stream",
     "text": [
      "Epoch 50/50, Training Loss: 0.20301164806850494, Validation Loss: 0.31288971193134785\n",
      "Epoch 10/50, Training Loss: 0.33076363801956177, Validation Loss: 0.3436768688261509\n",
      "Epoch 20/50, Training Loss: 0.21349424892856228, Validation Loss: 0.30567460134625435\n",
      "Epoch 30/50, Training Loss: 0.1390846104871842, Validation Loss: 0.340643685311079\n",
      "Epoch 40/50, Training Loss: 0.07761233299970627, Validation Loss: 0.40732116997241974\n"
     ]
    },
    {
     "name": "stderr",
     "output_type": "stream",
     "text": [
      "[I 2023-10-11 04:37:57,187] Trial 106 finished with value: 0.5390278995037079 and parameters: {'lr': 0.000482524933929854, 'dropout_prob': 0.23871637663386483, 'force_n_layers': 6, 'force_kernel_size': 5, 'force_stride': 1, 'force_padding': 8, 'force_hidden_channels': 24, 'force_pooling_type': 'avg', 'force_use_batch_norm': True, 'acc_n_layers': 3, 'acc_kernel_size': 8, 'acc_stride': 2, 'acc_padding': 9, 'acc_hidden_channels': 80, 'acc_pooling_type': 'avg', 'acc_use_batch_norm': True}. Best is trial 95 with value: 0.2890980765223503.\n"
     ]
    },
    {
     "name": "stdout",
     "output_type": "stream",
     "text": [
      "Epoch 50/50, Training Loss: 0.03282466771141175, Validation Loss: 0.5390278995037079\n",
      "Epoch 10/50, Training Loss: 0.4142624024421938, Validation Loss: 0.40488122776150703\n",
      "Epoch 20/50, Training Loss: 0.3530116783034417, Validation Loss: 0.3590099923312664\n",
      "Epoch 30/50, Training Loss: 0.3131828288878164, Validation Loss: 0.3338271975517273\n",
      "Epoch 40/50, Training Loss: 0.29379847982237417, Validation Loss: 0.3201095461845398\n"
     ]
    },
    {
     "name": "stderr",
     "output_type": "stream",
     "text": [
      "[I 2023-10-11 04:38:55,267] Trial 107 finished with value: 0.3209259118884802 and parameters: {'lr': 0.0008111447220060492, 'dropout_prob': 0.2861377608093512, 'force_n_layers': 7, 'force_kernel_size': 5, 'force_stride': 1, 'force_padding': 9, 'force_hidden_channels': 49, 'force_pooling_type': 'max', 'force_use_batch_norm': True, 'acc_n_layers': 4, 'acc_kernel_size': 7, 'acc_stride': 4, 'acc_padding': 9, 'acc_hidden_channels': 72, 'acc_pooling_type': 'avg', 'acc_use_batch_norm': False}. Best is trial 95 with value: 0.2890980765223503.\n"
     ]
    },
    {
     "name": "stdout",
     "output_type": "stream",
     "text": [
      "Epoch 50/50, Training Loss: 0.27544292423032946, Validation Loss: 0.3209259118884802\n",
      "Epoch 10/50, Training Loss: 0.38898657502666595, Validation Loss: 0.37321076169610023\n",
      "Epoch 20/50, Training Loss: 0.32904055330061144, Validation Loss: 0.3362710662186146\n",
      "Epoch 30/50, Training Loss: 0.27904335385368717, Validation Loss: 0.29837849736213684\n",
      "Epoch 40/50, Training Loss: 0.2659684861859968, Validation Loss: 0.2938793897628784\n"
     ]
    },
    {
     "name": "stderr",
     "output_type": "stream",
     "text": [
      "[I 2023-10-11 04:39:50,141] Trial 108 finished with value: 0.3038762342184782 and parameters: {'lr': 0.0009167333019525905, 'dropout_prob': 0.25482721334474756, 'force_n_layers': 6, 'force_kernel_size': 4, 'force_stride': 2, 'force_padding': 10, 'force_hidden_channels': 16, 'force_pooling_type': 'avg', 'force_use_batch_norm': True, 'acc_n_layers': 4, 'acc_kernel_size': 7, 'acc_stride': 3, 'acc_padding': 8, 'acc_hidden_channels': 88, 'acc_pooling_type': 'avg', 'acc_use_batch_norm': False}. Best is trial 95 with value: 0.2890980765223503.\n"
     ]
    },
    {
     "name": "stdout",
     "output_type": "stream",
     "text": [
      "Epoch 50/50, Training Loss: 0.21270508968061017, Validation Loss: 0.3038762342184782\n",
      "Epoch 10/50, Training Loss: 0.3745153248310089, Validation Loss: 0.3797520212829113\n",
      "Epoch 20/50, Training Loss: 0.2755643191837495, Validation Loss: 0.2972980700433254\n",
      "Epoch 30/50, Training Loss: 0.2224451087174877, Validation Loss: 0.3083100877702236\n",
      "Epoch 40/50, Training Loss: 0.1513508524625532, Validation Loss: 0.35523851588368416\n"
     ]
    },
    {
     "name": "stderr",
     "output_type": "stream",
     "text": [
      "[I 2023-10-11 04:41:14,839] Trial 109 finished with value: 0.41454948112368584 and parameters: {'lr': 0.0015634539460474017, 'dropout_prob': 0.25317360479468803, 'force_n_layers': 6, 'force_kernel_size': 5, 'force_stride': 2, 'force_padding': 10, 'force_hidden_channels': 38, 'force_pooling_type': 'avg', 'force_use_batch_norm': True, 'acc_n_layers': 4, 'acc_kernel_size': 7, 'acc_stride': 3, 'acc_padding': 8, 'acc_hidden_channels': 113, 'acc_pooling_type': 'avg', 'acc_use_batch_norm': False}. Best is trial 95 with value: 0.2890980765223503.\n"
     ]
    },
    {
     "name": "stdout",
     "output_type": "stream",
     "text": [
      "Epoch 50/50, Training Loss: 0.11170197073971072, Validation Loss: 0.41454948112368584\n",
      "Epoch 10/50, Training Loss: 0.42632256880883246, Validation Loss: 0.41864803060889244\n",
      "Epoch 20/50, Training Loss: 0.3586916413999373, Validation Loss: 0.3544514402747154\n",
      "Epoch 30/50, Training Loss: 0.3022852549629827, Validation Loss: 0.33182454109191895\n",
      "Epoch 40/50, Training Loss: 0.27122249766703577, Validation Loss: 0.3069726713001728\n"
     ]
    },
    {
     "name": "stderr",
     "output_type": "stream",
     "text": [
      "[I 2023-10-11 04:42:02,950] Trial 110 finished with value: 0.3028218299150467 and parameters: {'lr': 0.0009570596555048013, 'dropout_prob': 0.2343941995636691, 'force_n_layers': 7, 'force_kernel_size': 6, 'force_stride': 2, 'force_padding': 10, 'force_hidden_channels': 18, 'force_pooling_type': 'avg', 'force_use_batch_norm': True, 'acc_n_layers': 4, 'acc_kernel_size': 6, 'acc_stride': 4, 'acc_padding': 8, 'acc_hidden_channels': 88, 'acc_pooling_type': 'avg', 'acc_use_batch_norm': False}. Best is trial 95 with value: 0.2890980765223503.\n"
     ]
    },
    {
     "name": "stdout",
     "output_type": "stream",
     "text": [
      "Epoch 50/50, Training Loss: 0.24624574472827296, Validation Loss: 0.3028218299150467\n",
      "Epoch 10/50, Training Loss: 0.4570010871656479, Validation Loss: 0.44664592295885086\n",
      "Epoch 20/50, Training Loss: 0.41677618891962115, Validation Loss: 0.42947741597890854\n",
      "Epoch 30/50, Training Loss: 0.3539768082480277, Validation Loss: 0.39583058655261993\n",
      "Epoch 40/50, Training Loss: 0.33940959457428227, Validation Loss: 0.3538086600601673\n"
     ]
    },
    {
     "name": "stderr",
     "output_type": "stream",
     "text": [
      "[I 2023-10-11 04:42:49,922] Trial 111 finished with value: 0.36142486333847046 and parameters: {'lr': 0.0008622134917198101, 'dropout_prob': 0.2318131701920773, 'force_n_layers': 7, 'force_kernel_size': 6, 'force_stride': 3, 'force_padding': 10, 'force_hidden_channels': 28, 'force_pooling_type': 'avg', 'force_use_batch_norm': True, 'acc_n_layers': 4, 'acc_kernel_size': 6, 'acc_stride': 5, 'acc_padding': 8, 'acc_hidden_channels': 91, 'acc_pooling_type': 'avg', 'acc_use_batch_norm': False}. Best is trial 95 with value: 0.2890980765223503.\n"
     ]
    },
    {
     "name": "stdout",
     "output_type": "stream",
     "text": [
      "Epoch 50/50, Training Loss: 0.3063756015992934, Validation Loss: 0.36142486333847046\n",
      "Epoch 10/50, Training Loss: 0.433932957149321, Validation Loss: 0.4123237878084183\n",
      "Epoch 20/50, Training Loss: 0.3764137332477877, Validation Loss: 0.3598751835525036\n",
      "Epoch 30/50, Training Loss: 0.32839356218614885, Validation Loss: 0.33354053273797035\n",
      "Epoch 40/50, Training Loss: 0.28342047550024524, Validation Loss: 0.31863928586244583\n"
     ]
    },
    {
     "name": "stderr",
     "output_type": "stream",
     "text": [
      "[I 2023-10-11 04:43:37,831] Trial 112 finished with value: 0.3282763324677944 and parameters: {'lr': 0.0009995895512419928, 'dropout_prob': 0.20194698381062762, 'force_n_layers': 7, 'force_kernel_size': 6, 'force_stride': 2, 'force_padding': 10, 'force_hidden_channels': 20, 'force_pooling_type': 'avg', 'force_use_batch_norm': True, 'acc_n_layers': 4, 'acc_kernel_size': 6, 'acc_stride': 4, 'acc_padding': 8, 'acc_hidden_channels': 84, 'acc_pooling_type': 'avg', 'acc_use_batch_norm': False}. Best is trial 95 with value: 0.2890980765223503.\n"
     ]
    },
    {
     "name": "stdout",
     "output_type": "stream",
     "text": [
      "Epoch 50/50, Training Loss: 0.27683056314145366, Validation Loss: 0.3282763324677944\n",
      "Epoch 10/50, Training Loss: 0.3981455574112554, Validation Loss: 0.3720349445939064\n",
      "Epoch 20/50, Training Loss: 0.32226577208888146, Validation Loss: 0.33064839616417885\n",
      "Epoch 30/50, Training Loss: 0.2736733555793762, Validation Loss: 0.31299501843750477\n",
      "Epoch 40/50, Training Loss: 0.23012125924710305, Validation Loss: 0.31095167621970177\n"
     ]
    },
    {
     "name": "stderr",
     "output_type": "stream",
     "text": [
      "[I 2023-10-11 04:44:55,941] Trial 113 finished with value: 0.31918257661163807 and parameters: {'lr': 0.0012532850931325755, 'dropout_prob': 0.2450221611346882, 'force_n_layers': 7, 'force_kernel_size': 4, 'force_stride': 1, 'force_padding': 10, 'force_hidden_channels': 31, 'force_pooling_type': 'avg', 'force_use_batch_norm': True, 'acc_n_layers': 4, 'acc_kernel_size': 7, 'acc_stride': 3, 'acc_padding': 9, 'acc_hidden_channels': 103, 'acc_pooling_type': 'avg', 'acc_use_batch_norm': False}. Best is trial 95 with value: 0.2890980765223503.\n"
     ]
    },
    {
     "name": "stdout",
     "output_type": "stream",
     "text": [
      "Epoch 50/50, Training Loss: 0.19556463389627396, Validation Loss: 0.31918257661163807\n",
      "Epoch 10/50, Training Loss: 0.38416896568190667, Validation Loss: 0.38228778913617134\n",
      "Epoch 20/50, Training Loss: 0.3208384499434502, Validation Loss: 0.3334429897367954\n",
      "Epoch 30/50, Training Loss: 0.28082487563933095, Validation Loss: 0.3221779689192772\n",
      "Epoch 40/50, Training Loss: 0.2603316244579131, Validation Loss: 0.32124563679099083\n"
     ]
    },
    {
     "name": "stderr",
     "output_type": "stream",
     "text": [
      "[I 2023-10-11 04:45:45,777] Trial 114 finished with value: 0.30028219148516655 and parameters: {'lr': 0.0011521226583288294, 'dropout_prob': 0.22234273643586389, 'force_n_layers': 7, 'force_kernel_size': 7, 'force_stride': 2, 'force_padding': 10, 'force_hidden_channels': 25, 'force_pooling_type': 'avg', 'force_use_batch_norm': True, 'acc_n_layers': 3, 'acc_kernel_size': 6, 'acc_stride': 3, 'acc_padding': 8, 'acc_hidden_channels': 89, 'acc_pooling_type': 'avg', 'acc_use_batch_norm': False}. Best is trial 95 with value: 0.2890980765223503.\n"
     ]
    },
    {
     "name": "stdout",
     "output_type": "stream",
     "text": [
      "Epoch 50/50, Training Loss: 0.2191866001775188, Validation Loss: 0.30028219148516655\n",
      "Epoch 10/50, Training Loss: 0.36252832604992774, Validation Loss: 0.359219741076231\n",
      "Epoch 20/50, Training Loss: 0.3019347032231669, Validation Loss: 0.32798199728131294\n",
      "Epoch 30/50, Training Loss: 0.2527858667796658, Validation Loss: 0.29930222779512405\n",
      "Epoch 40/50, Training Loss: 0.21757517562758538, Validation Loss: 0.2962160110473633\n"
     ]
    },
    {
     "name": "stderr",
     "output_type": "stream",
     "text": [
      "[I 2023-10-11 04:46:38,044] Trial 115 finished with value: 0.3044288754463196 and parameters: {'lr': 0.0014404803526144073, 'dropout_prob': 0.2323876544070867, 'force_n_layers': 7, 'force_kernel_size': 7, 'force_stride': 3, 'force_padding': 10, 'force_hidden_channels': 17, 'force_pooling_type': 'avg', 'force_use_batch_norm': True, 'acc_n_layers': 3, 'acc_kernel_size': 6, 'acc_stride': 3, 'acc_padding': 8, 'acc_hidden_channels': 88, 'acc_pooling_type': 'avg', 'acc_use_batch_norm': False}. Best is trial 95 with value: 0.2890980765223503.\n"
     ]
    },
    {
     "name": "stdout",
     "output_type": "stream",
     "text": [
      "Epoch 50/50, Training Loss: 0.1884066068357037, Validation Loss: 0.3044288754463196\n",
      "Epoch 10/50, Training Loss: 0.3573515280600517, Validation Loss: 0.363575492054224\n",
      "Epoch 20/50, Training Loss: 0.2916328652251151, Validation Loss: 0.3210861384868622\n",
      "Epoch 30/50, Training Loss: 0.2515969007245956, Validation Loss: 0.30117059499025345\n",
      "Epoch 40/50, Training Loss: 0.21019378929368912, Validation Loss: 0.304798835888505\n"
     ]
    },
    {
     "name": "stderr",
     "output_type": "stream",
     "text": [
      "[I 2023-10-11 04:47:27,704] Trial 116 finished with value: 0.3056686297059059 and parameters: {'lr': 0.0018249207603118682, 'dropout_prob': 0.23646382849356812, 'force_n_layers': 7, 'force_kernel_size': 7, 'force_stride': 3, 'force_padding': 10, 'force_hidden_channels': 18, 'force_pooling_type': 'avg', 'force_use_batch_norm': True, 'acc_n_layers': 3, 'acc_kernel_size': 6, 'acc_stride': 3, 'acc_padding': 8, 'acc_hidden_channels': 96, 'acc_pooling_type': 'avg', 'acc_use_batch_norm': False}. Best is trial 95 with value: 0.2890980765223503.\n"
     ]
    },
    {
     "name": "stdout",
     "output_type": "stream",
     "text": [
      "Epoch 50/50, Training Loss: 0.17468541908648708, Validation Loss: 0.3056686297059059\n",
      "Epoch 10/50, Training Loss: 0.3792489017209699, Validation Loss: 0.3770049698650837\n",
      "Epoch 20/50, Training Loss: 0.3033953986821636, Validation Loss: 0.3247545212507248\n",
      "Epoch 30/50, Training Loss: 0.27122113300907996, Validation Loss: 0.3069008104503155\n",
      "Epoch 40/50, Training Loss: 0.24152739346027374, Validation Loss: 0.31833121180534363\n"
     ]
    },
    {
     "name": "stderr",
     "output_type": "stream",
     "text": [
      "[I 2023-10-11 04:48:09,345] Trial 117 finished with value: 0.32011891156435013 and parameters: {'lr': 0.0016646750113047623, 'dropout_prob': 0.21344797795489756, 'force_n_layers': 7, 'force_kernel_size': 7, 'force_stride': 3, 'force_padding': 10, 'force_hidden_channels': 16, 'force_pooling_type': 'avg', 'force_use_batch_norm': True, 'acc_n_layers': 3, 'acc_kernel_size': 6, 'acc_stride': 4, 'acc_padding': 8, 'acc_hidden_channels': 75, 'acc_pooling_type': 'avg', 'acc_use_batch_norm': False}. Best is trial 95 with value: 0.2890980765223503.\n"
     ]
    },
    {
     "name": "stdout",
     "output_type": "stream",
     "text": [
      "Epoch 50/50, Training Loss: 0.21653203425868864, Validation Loss: 0.32011891156435013\n",
      "Epoch 10/50, Training Loss: 0.1977853169364314, Validation Loss: 0.3466147109866142\n",
      "Epoch 20/50, Training Loss: 0.04104272390325223, Validation Loss: 0.6390448622405529\n",
      "Epoch 30/50, Training Loss: 0.0029965719290738625, Validation Loss: 0.8033445924520493\n",
      "Epoch 40/50, Training Loss: 0.0009060187993811503, Validation Loss: 0.9424192607402802\n"
     ]
    },
    {
     "name": "stderr",
     "output_type": "stream",
     "text": [
      "[I 2023-10-11 04:48:54,442] Trial 118 finished with value: 1.0341565161943436 and parameters: {'lr': 0.0018987209777049012, 'dropout_prob': 0.23949866062886563, 'force_n_layers': 7, 'force_kernel_size': 7, 'force_stride': 4, 'force_padding': 10, 'force_hidden_channels': 24, 'force_pooling_type': 'avg', 'force_use_batch_norm': True, 'acc_n_layers': 3, 'acc_kernel_size': 6, 'acc_stride': 6, 'acc_padding': 8, 'acc_hidden_channels': 96, 'acc_pooling_type': 'avg', 'acc_use_batch_norm': True}. Best is trial 95 with value: 0.2890980765223503.\n"
     ]
    },
    {
     "name": "stdout",
     "output_type": "stream",
     "text": [
      "Epoch 50/50, Training Loss: 0.00042676653773073226, Validation Loss: 1.0341565161943436\n",
      "Epoch 10/50, Training Loss: 0.34790433318384234, Validation Loss: 0.3679921217262745\n",
      "Epoch 20/50, Training Loss: 0.26290745071826443, Validation Loss: 0.33308699913322926\n",
      "Epoch 30/50, Training Loss: 0.21010090987528524, Validation Loss: 0.33997020684182644\n",
      "Epoch 40/50, Training Loss: 0.1731171778613521, Validation Loss: 0.36947078071534634\n"
     ]
    },
    {
     "name": "stderr",
     "output_type": "stream",
     "text": [
      "[I 2023-10-11 04:49:40,096] Trial 119 finished with value: 0.4090732131153345 and parameters: {'lr': 0.0013935110473299555, 'dropout_prob': 0.22211213825920054, 'force_n_layers': 7, 'force_kernel_size': 8, 'force_stride': 3, 'force_padding': 10, 'force_hidden_channels': 16, 'force_pooling_type': 'avg', 'force_use_batch_norm': False, 'acc_n_layers': 3, 'acc_kernel_size': 6, 'acc_stride': 3, 'acc_padding': 9, 'acc_hidden_channels': 87, 'acc_pooling_type': 'max', 'acc_use_batch_norm': False}. Best is trial 95 with value: 0.2890980765223503.\n"
     ]
    },
    {
     "name": "stdout",
     "output_type": "stream",
     "text": [
      "Epoch 50/50, Training Loss: 0.12321284605610755, Validation Loss: 0.4090732131153345\n",
      "Epoch 10/50, Training Loss: 0.36663961025976366, Validation Loss: 0.3605325371026993\n",
      "Epoch 20/50, Training Loss: 0.293809958042637, Validation Loss: 0.33393537998199463\n",
      "Epoch 30/50, Training Loss: 0.2524520168381353, Validation Loss: 0.3076637852936983\n",
      "Epoch 40/50, Training Loss: 0.21972029872478976, Validation Loss: 0.3176032677292824\n"
     ]
    },
    {
     "name": "stderr",
     "output_type": "stream",
     "text": [
      "[I 2023-10-11 04:50:33,620] Trial 120 finished with value: 0.3257988281548023 and parameters: {'lr': 0.0017880729740679777, 'dropout_prob': 0.2304210859238844, 'force_n_layers': 7, 'force_kernel_size': 7, 'force_stride': 2, 'force_padding': 10, 'force_hidden_channels': 29, 'force_pooling_type': 'avg', 'force_use_batch_norm': True, 'acc_n_layers': 3, 'acc_kernel_size': 6, 'acc_stride': 3, 'acc_padding': 10, 'acc_hidden_channels': 83, 'acc_pooling_type': 'avg', 'acc_use_batch_norm': False}. Best is trial 95 with value: 0.2890980765223503.\n"
     ]
    },
    {
     "name": "stdout",
     "output_type": "stream",
     "text": [
      "Epoch 50/50, Training Loss: 0.18462514829251073, Validation Loss: 0.3257988281548023\n",
      "Epoch 10/50, Training Loss: 0.3883271236573496, Validation Loss: 0.3803323395550251\n",
      "Epoch 20/50, Training Loss: 0.31032262309905023, Validation Loss: 0.3245290331542492\n",
      "Epoch 30/50, Training Loss: 0.27742062749401214, Validation Loss: 0.31981489062309265\n",
      "Epoch 40/50, Training Loss: 0.23279789378566126, Validation Loss: 0.30292563885450363\n"
     ]
    },
    {
     "name": "stderr",
     "output_type": "stream",
     "text": [
      "[I 2023-10-11 04:51:31,269] Trial 121 finished with value: 0.3368363790214062 and parameters: {'lr': 0.001200540082930142, 'dropout_prob': 0.2565225032047847, 'force_n_layers': 7, 'force_kernel_size': 7, 'force_stride': 3, 'force_padding': 10, 'force_hidden_channels': 41, 'force_pooling_type': 'avg', 'force_use_batch_norm': True, 'acc_n_layers': 3, 'acc_kernel_size': 6, 'acc_stride': 3, 'acc_padding': 8, 'acc_hidden_channels': 99, 'acc_pooling_type': 'avg', 'acc_use_batch_norm': False}. Best is trial 95 with value: 0.2890980765223503.\n"
     ]
    },
    {
     "name": "stdout",
     "output_type": "stream",
     "text": [
      "Epoch 50/50, Training Loss: 0.20023487748638277, Validation Loss: 0.3368363790214062\n",
      "Epoch 10/50, Training Loss: 0.35926521305114995, Validation Loss: 0.3398691192269325\n",
      "Epoch 20/50, Training Loss: 0.24268255983629533, Validation Loss: 0.31918641552329063\n",
      "Epoch 30/50, Training Loss: 0.19109457418803247, Validation Loss: 0.3359527736902237\n",
      "Epoch 40/50, Training Loss: 0.14151687126967213, Validation Loss: 0.3869562856853008\n"
     ]
    },
    {
     "name": "stderr",
     "output_type": "stream",
     "text": [
      "[I 2023-10-11 04:52:37,961] Trial 122 finished with value: 0.46563994139432907 and parameters: {'lr': 0.0025097433228034615, 'dropout_prob': 0.20624002911179426, 'force_n_layers': 7, 'force_kernel_size': 7, 'force_stride': 3, 'force_padding': 10, 'force_hidden_channels': 25, 'force_pooling_type': 'avg', 'force_use_batch_norm': True, 'acc_n_layers': 3, 'acc_kernel_size': 6, 'acc_stride': 3, 'acc_padding': 8, 'acc_hidden_channels': 108, 'acc_pooling_type': 'avg', 'acc_use_batch_norm': False}. Best is trial 95 with value: 0.2890980765223503.\n"
     ]
    },
    {
     "name": "stdout",
     "output_type": "stream",
     "text": [
      "Epoch 50/50, Training Loss: 0.09608644463362233, Validation Loss: 0.46563994139432907\n",
      "Epoch 10/50, Training Loss: 0.423274387275019, Validation Loss: 0.4239699989557266\n",
      "Epoch 20/50, Training Loss: 0.3445792063590019, Validation Loss: 0.37062886357307434\n",
      "Epoch 30/50, Training Loss: 0.2990563944462807, Validation Loss: 0.34340329468250275\n",
      "Epoch 40/50, Training Loss: 0.2656903055406386, Validation Loss: 0.3340759724378586\n"
     ]
    },
    {
     "name": "stderr",
     "output_type": "stream",
     "text": [
      "[I 2023-10-11 04:53:37,240] Trial 123 finished with value: 0.3284149095416069 and parameters: {'lr': 0.0011280122804500764, 'dropout_prob': 0.19688427618933715, 'force_n_layers': 7, 'force_kernel_size': 7, 'force_stride': 2, 'force_padding': 10, 'force_hidden_channels': 34, 'force_pooling_type': 'avg', 'force_use_batch_norm': True, 'acc_n_layers': 2, 'acc_kernel_size': 6, 'acc_stride': 3, 'acc_padding': 8, 'acc_hidden_channels': 103, 'acc_pooling_type': 'avg', 'acc_use_batch_norm': False}. Best is trial 95 with value: 0.2890980765223503.\n"
     ]
    },
    {
     "name": "stdout",
     "output_type": "stream",
     "text": [
      "Epoch 50/50, Training Loss: 0.2412767424698799, Validation Loss: 0.3284149095416069\n",
      "Epoch 10/50, Training Loss: 0.3890426678042258, Validation Loss: 0.3912518508732319\n",
      "Epoch 20/50, Training Loss: 0.3105344873282217, Validation Loss: 0.3594454824924469\n",
      "Epoch 30/50, Training Loss: 0.2564662762226597, Validation Loss: 0.307209350168705\n",
      "Epoch 40/50, Training Loss: 0.2249915450811386, Validation Loss: 0.3156578876078129\n"
     ]
    },
    {
     "name": "stderr",
     "output_type": "stream",
     "text": [
      "[I 2023-10-11 04:54:31,280] Trial 124 finished with value: 0.33905813470482826 and parameters: {'lr': 0.001362886030740671, 'dropout_prob': 0.2198002164318897, 'force_n_layers': 7, 'force_kernel_size': 7, 'force_stride': 2, 'force_padding': 10, 'force_hidden_channels': 19, 'force_pooling_type': 'avg', 'force_use_batch_norm': True, 'acc_n_layers': 3, 'acc_kernel_size': 6, 'acc_stride': 3, 'acc_padding': 8, 'acc_hidden_channels': 93, 'acc_pooling_type': 'avg', 'acc_use_batch_norm': False}. Best is trial 95 with value: 0.2890980765223503.\n"
     ]
    },
    {
     "name": "stdout",
     "output_type": "stream",
     "text": [
      "Epoch 50/50, Training Loss: 0.18834235302863583, Validation Loss: 0.33905813470482826\n",
      "Epoch 10/50, Training Loss: 0.38421609517066707, Validation Loss: 0.37886935099959373\n",
      "Epoch 20/50, Training Loss: 0.3305305415584195, Validation Loss: 0.3421519920229912\n",
      "Epoch 30/50, Training Loss: 0.2847175564496748, Validation Loss: 0.3354453146457672\n",
      "Epoch 40/50, Training Loss: 0.24802939834133272, Validation Loss: 0.305166270583868\n"
     ]
    },
    {
     "name": "stderr",
     "output_type": "stream",
     "text": [
      "[I 2023-10-11 04:55:19,334] Trial 125 finished with value: 0.3244704622775316 and parameters: {'lr': 0.0014784982826500886, 'dropout_prob': 0.21281015768950365, 'force_n_layers': 7, 'force_kernel_size': 6, 'force_stride': 2, 'force_padding': 9, 'force_hidden_channels': 24, 'force_pooling_type': 'avg', 'force_use_batch_norm': True, 'acc_n_layers': 3, 'acc_kernel_size': 6, 'acc_stride': 3, 'acc_padding': 9, 'acc_hidden_channels': 77, 'acc_pooling_type': 'avg', 'acc_use_batch_norm': False}. Best is trial 95 with value: 0.2890980765223503.\n"
     ]
    },
    {
     "name": "stdout",
     "output_type": "stream",
     "text": [
      "Epoch 50/50, Training Loss: 0.22057168858666573, Validation Loss: 0.3244704622775316\n",
      "Epoch 10/50, Training Loss: 0.3970984489687027, Validation Loss: 0.39215243980288506\n",
      "Epoch 20/50, Training Loss: 0.32541316795733666, Validation Loss: 0.3394533284008503\n",
      "Epoch 30/50, Training Loss: 0.282901948978824, Validation Loss: 0.30590300261974335\n",
      "Epoch 40/50, Training Loss: 0.24462182579501981, Validation Loss: 0.29010404646396637\n"
     ]
    },
    {
     "name": "stderr",
     "output_type": "stream",
     "text": [
      "[I 2023-10-11 04:56:10,719] Trial 126 finished with value: 0.29281952418386936 and parameters: {'lr': 0.0009963603250107138, 'dropout_prob': 0.2650256885792746, 'force_n_layers': 6, 'force_kernel_size': 8, 'force_stride': 3, 'force_padding': 10, 'force_hidden_channels': 33, 'force_pooling_type': 'avg', 'force_use_batch_norm': True, 'acc_n_layers': 3, 'acc_kernel_size': 6, 'acc_stride': 3, 'acc_padding': 7, 'acc_hidden_channels': 88, 'acc_pooling_type': 'avg', 'acc_use_batch_norm': False}. Best is trial 95 with value: 0.2890980765223503.\n"
     ]
    },
    {
     "name": "stdout",
     "output_type": "stream",
     "text": [
      "Epoch 50/50, Training Loss: 0.22065439195402206, Validation Loss: 0.29281952418386936\n",
      "Epoch 10/50, Training Loss: 0.4148806343155523, Validation Loss: 0.41341450810432434\n",
      "Epoch 20/50, Training Loss: 0.3490416277800837, Validation Loss: 0.37415753677487373\n",
      "Epoch 30/50, Training Loss: 0.3122081881569278, Validation Loss: 0.34504568576812744\n",
      "Epoch 40/50, Training Loss: 0.2872519223920761, Validation Loss: 0.3358275666832924\n"
     ]
    },
    {
     "name": "stderr",
     "output_type": "stream",
     "text": [
      "[I 2023-10-11 04:58:18,581] Trial 127 finished with value: 0.3214005418121815 and parameters: {'lr': 0.0010061139700727252, 'dropout_prob': 0.2633854997080364, 'force_n_layers': 6, 'force_kernel_size': 8, 'force_stride': 3, 'force_padding': 10, 'force_hidden_channels': 173, 'force_pooling_type': 'avg', 'force_use_batch_norm': True, 'acc_n_layers': 3, 'acc_kernel_size': 6, 'acc_stride': 4, 'acc_padding': 7, 'acc_hidden_channels': 88, 'acc_pooling_type': 'avg', 'acc_use_batch_norm': False}. Best is trial 95 with value: 0.2890980765223503.\n"
     ]
    },
    {
     "name": "stdout",
     "output_type": "stream",
     "text": [
      "Epoch 50/50, Training Loss: 0.25769287540066627, Validation Loss: 0.3214005418121815\n",
      "Epoch 10/50, Training Loss: 0.37675844373241546, Validation Loss: 0.3793218955397606\n",
      "Epoch 20/50, Training Loss: 0.29965693046969755, Validation Loss: 0.32480036467313766\n",
      "Epoch 30/50, Training Loss: 0.25718534761859524, Validation Loss: 0.3068903498351574\n",
      "Epoch 40/50, Training Loss: 0.2157857754538136, Validation Loss: 0.30388588085770607\n"
     ]
    },
    {
     "name": "stderr",
     "output_type": "stream",
     "text": [
      "[I 2023-10-11 04:59:06,284] Trial 128 finished with value: 0.3010823968797922 and parameters: {'lr': 0.0016394991268274426, 'dropout_prob': 0.2331135126427439, 'force_n_layers': 6, 'force_kernel_size': 9, 'force_stride': 3, 'force_padding': 10, 'force_hidden_channels': 39, 'force_pooling_type': 'avg', 'force_use_batch_norm': True, 'acc_n_layers': 3, 'acc_kernel_size': 6, 'acc_stride': 3, 'acc_padding': 7, 'acc_hidden_channels': 79, 'acc_pooling_type': 'avg', 'acc_use_batch_norm': False}. Best is trial 95 with value: 0.2890980765223503.\n"
     ]
    },
    {
     "name": "stdout",
     "output_type": "stream",
     "text": [
      "Epoch 50/50, Training Loss: 0.18797374372520753, Validation Loss: 0.3010823968797922\n",
      "Epoch 10/50, Training Loss: 0.22456934423215927, Validation Loss: 0.30593693256378174\n",
      "Epoch 20/50, Training Loss: 0.08400098342568643, Validation Loss: 0.38583704456686974\n",
      "Epoch 30/50, Training Loss: 0.010777844416518365, Validation Loss: 0.6281338520348072\n",
      "Epoch 40/50, Training Loss: 0.0018834513424324892, Validation Loss: 0.799172081053257\n"
     ]
    },
    {
     "name": "stderr",
     "output_type": "stream",
     "text": [
      "[I 2023-10-11 05:00:00,884] Trial 129 finished with value: 0.9071166962385178 and parameters: {'lr': 0.0012030049298737925, 'dropout_prob': 0.24979252334784388, 'force_n_layers': 6, 'force_kernel_size': 9, 'force_stride': 4, 'force_padding': 10, 'force_hidden_channels': 44, 'force_pooling_type': 'avg', 'force_use_batch_norm': True, 'acc_n_layers': 3, 'acc_kernel_size': 6, 'acc_stride': 3, 'acc_padding': 7, 'acc_hidden_channels': 80, 'acc_pooling_type': 'avg', 'acc_use_batch_norm': True}. Best is trial 95 with value: 0.2890980765223503.\n"
     ]
    },
    {
     "name": "stdout",
     "output_type": "stream",
     "text": [
      "Epoch 50/50, Training Loss: 0.0007055488503312752, Validation Loss: 0.9071166962385178\n",
      "Epoch 10/50, Training Loss: 0.3967965918202554, Validation Loss: 0.38293740153312683\n",
      "Epoch 20/50, Training Loss: 0.32691445081464704, Validation Loss: 0.3127097636461258\n",
      "Epoch 30/50, Training Loss: 0.2639454848343326, Validation Loss: 0.28879976086318493\n",
      "Epoch 40/50, Training Loss: 0.2311932497447537, Validation Loss: 0.30033510364592075\n"
     ]
    },
    {
     "name": "stderr",
     "output_type": "stream",
     "text": [
      "[I 2023-10-11 05:00:47,563] Trial 130 finished with value: 0.3056930061429739 and parameters: {'lr': 0.001465058172476291, 'dropout_prob': 0.18938632307297548, 'force_n_layers': 6, 'force_kernel_size': 9, 'force_stride': 3, 'force_padding': 10, 'force_hidden_channels': 35, 'force_pooling_type': 'avg', 'force_use_batch_norm': True, 'acc_n_layers': 4, 'acc_kernel_size': 6, 'acc_stride': 3, 'acc_padding': 7, 'acc_hidden_channels': 63, 'acc_pooling_type': 'avg', 'acc_use_batch_norm': False}. Best is trial 95 with value: 0.2890980765223503.\n"
     ]
    },
    {
     "name": "stdout",
     "output_type": "stream",
     "text": [
      "Epoch 50/50, Training Loss: 0.19543879358999192, Validation Loss: 0.3056930061429739\n",
      "Epoch 10/50, Training Loss: 0.3628936957928442, Validation Loss: 0.35806266963481903\n",
      "Epoch 20/50, Training Loss: 0.27758668651503904, Validation Loss: 0.31302761286497116\n",
      "Epoch 30/50, Training Loss: 0.23183877045108425, Validation Loss: 0.2965879254043102\n",
      "Epoch 40/50, Training Loss: 0.1918464992796221, Validation Loss: 0.32402334176003933\n"
     ]
    },
    {
     "name": "stderr",
     "output_type": "stream",
     "text": [
      "[I 2023-10-11 05:01:36,798] Trial 131 finished with value: 0.3388491999357939 and parameters: {'lr': 0.001737584746256931, 'dropout_prob': 0.2314011895020522, 'force_n_layers': 6, 'force_kernel_size': 9, 'force_stride': 3, 'force_padding': 10, 'force_hidden_channels': 28, 'force_pooling_type': 'avg', 'force_use_batch_norm': True, 'acc_n_layers': 3, 'acc_kernel_size': 6, 'acc_stride': 3, 'acc_padding': 8, 'acc_hidden_channels': 95, 'acc_pooling_type': 'avg', 'acc_use_batch_norm': False}. Best is trial 95 with value: 0.2890980765223503.\n"
     ]
    },
    {
     "name": "stdout",
     "output_type": "stream",
     "text": [
      "Epoch 50/50, Training Loss: 0.16023088943573735, Validation Loss: 0.3388491999357939\n",
      "Epoch 10/50, Training Loss: 0.3484286166006519, Validation Loss: 0.3645138368010521\n",
      "Epoch 20/50, Training Loss: 0.27323983273198527, Validation Loss: 0.300741670653224\n",
      "Epoch 30/50, Training Loss: 0.21333741084221872, Validation Loss: 0.3030271418392658\n",
      "Epoch 40/50, Training Loss: 0.17093183550863497, Validation Loss: 0.3271103985607624\n"
     ]
    },
    {
     "name": "stderr",
     "output_type": "stream",
     "text": [
      "[I 2023-10-11 05:02:23,794] Trial 132 finished with value: 0.3623040169477463 and parameters: {'lr': 0.002176502080209786, 'dropout_prob': 0.23990563881355328, 'force_n_layers': 6, 'force_kernel_size': 8, 'force_stride': 3, 'force_padding': 10, 'force_hidden_channels': 21, 'force_pooling_type': 'avg', 'force_use_batch_norm': True, 'acc_n_layers': 3, 'acc_kernel_size': 6, 'acc_stride': 3, 'acc_padding': 8, 'acc_hidden_channels': 88, 'acc_pooling_type': 'avg', 'acc_use_batch_norm': False}. Best is trial 95 with value: 0.2890980765223503.\n"
     ]
    },
    {
     "name": "stdout",
     "output_type": "stream",
     "text": [
      "Epoch 50/50, Training Loss: 0.14325724157594866, Validation Loss: 0.3623040169477463\n",
      "Epoch 10/50, Training Loss: 0.41198467054674703, Validation Loss: 0.4018748737871647\n",
      "Epoch 20/50, Training Loss: 0.33703365537428087, Validation Loss: 0.3441193103790283\n",
      "Epoch 30/50, Training Loss: 0.3051140668892091, Validation Loss: 0.3222653865814209\n",
      "Epoch 40/50, Training Loss: 0.26645707603423824, Validation Loss: 0.3119407296180725\n"
     ]
    },
    {
     "name": "stderr",
     "output_type": "stream",
     "text": [
      "[I 2023-10-11 05:03:14,745] Trial 133 finished with value: 0.31069787591695786 and parameters: {'lr': 0.0009165968350902615, 'dropout_prob': 0.2293205390334571, 'force_n_layers': 7, 'force_kernel_size': 8, 'force_stride': 3, 'force_padding': 10, 'force_hidden_channels': 40, 'force_pooling_type': 'avg', 'force_use_batch_norm': True, 'acc_n_layers': 3, 'acc_kernel_size': 6, 'acc_stride': 3, 'acc_padding': 9, 'acc_hidden_channels': 82, 'acc_pooling_type': 'avg', 'acc_use_batch_norm': False}. Best is trial 95 with value: 0.2890980765223503.\n"
     ]
    },
    {
     "name": "stdout",
     "output_type": "stream",
     "text": [
      "Epoch 50/50, Training Loss: 0.24363095385413017, Validation Loss: 0.31069787591695786\n",
      "Epoch 10/50, Training Loss: 0.4134529809797964, Validation Loss: 0.41595733910799026\n",
      "Epoch 20/50, Training Loss: 0.3412671262218106, Validation Loss: 0.35179348289966583\n",
      "Epoch 30/50, Training Loss: 0.2982442282861279, Validation Loss: 0.33389339596033096\n",
      "Epoch 40/50, Training Loss: 0.2668998563481915, Validation Loss: 0.32827506959438324\n"
     ]
    },
    {
     "name": "stderr",
     "output_type": "stream",
     "text": [
      "[I 2023-10-11 05:04:09,278] Trial 134 finished with value: 0.3252419512718916 and parameters: {'lr': 0.0007090783237970709, 'dropout_prob': 0.25302077395502626, 'force_n_layers': 6, 'force_kernel_size': 6, 'force_stride': 3, 'force_padding': 10, 'force_hidden_channels': 34, 'force_pooling_type': 'avg', 'force_use_batch_norm': True, 'acc_n_layers': 3, 'acc_kernel_size': 6, 'acc_stride': 3, 'acc_padding': 8, 'acc_hidden_channels': 98, 'acc_pooling_type': 'avg', 'acc_use_batch_norm': False}. Best is trial 95 with value: 0.2890980765223503.\n"
     ]
    },
    {
     "name": "stdout",
     "output_type": "stream",
     "text": [
      "Epoch 50/50, Training Loss: 0.2455874993916481, Validation Loss: 0.3252419512718916\n",
      "Epoch 10/50, Training Loss: 0.4128000736236572, Validation Loss: 0.3949553482234478\n",
      "Epoch 20/50, Training Loss: 0.34829419659030053, Validation Loss: 0.35056352987885475\n",
      "Epoch 30/50, Training Loss: 0.30646682602743947, Validation Loss: 0.3111356198787689\n",
      "Epoch 40/50, Training Loss: 0.2628654799153728, Validation Loss: 0.29240979067981243\n"
     ]
    },
    {
     "name": "stderr",
     "output_type": "stream",
     "text": [
      "[I 2023-10-11 05:06:13,017] Trial 135 finished with value: 0.2893653381615877 and parameters: {'lr': 0.0010863933748123738, 'dropout_prob': 0.27503128780273667, 'force_n_layers': 7, 'force_kernel_size': 8, 'force_stride': 4, 'force_padding': 10, 'force_hidden_channels': 149, 'force_pooling_type': 'avg', 'force_use_batch_norm': True, 'acc_n_layers': 4, 'acc_kernel_size': 6, 'acc_stride': 3, 'acc_padding': 7, 'acc_hidden_channels': 74, 'acc_pooling_type': 'avg', 'acc_use_batch_norm': False}. Best is trial 95 with value: 0.2890980765223503.\n"
     ]
    },
    {
     "name": "stdout",
     "output_type": "stream",
     "text": [
      "Epoch 50/50, Training Loss: 0.2340088943319936, Validation Loss: 0.2893653381615877\n",
      "Epoch 10/50, Training Loss: 0.4192084996931015, Validation Loss: 0.40570880472660065\n",
      "Epoch 20/50, Training Loss: 0.34328295915357526, Validation Loss: 0.32882391288876534\n",
      "Epoch 30/50, Training Loss: 0.2970026798786656, Validation Loss: 0.3229998014867306\n",
      "Epoch 40/50, Training Loss: 0.2629216750783305, Validation Loss: 0.29091661237180233\n"
     ]
    },
    {
     "name": "stderr",
     "output_type": "stream",
     "text": [
      "[I 2023-10-11 05:07:36,807] Trial 136 finished with value: 0.3032417166978121 and parameters: {'lr': 0.001130695892503068, 'dropout_prob': 0.2728003130520231, 'force_n_layers': 7, 'force_kernel_size': 8, 'force_stride': 4, 'force_padding': 6, 'force_hidden_channels': 227, 'force_pooling_type': 'avg', 'force_use_batch_norm': True, 'acc_n_layers': 4, 'acc_kernel_size': 6, 'acc_stride': 3, 'acc_padding': 7, 'acc_hidden_channels': 73, 'acc_pooling_type': 'avg', 'acc_use_batch_norm': False}. Best is trial 95 with value: 0.2890980765223503.\n"
     ]
    },
    {
     "name": "stdout",
     "output_type": "stream",
     "text": [
      "Epoch 50/50, Training Loss: 0.2424143288404711, Validation Loss: 0.3032417166978121\n",
      "Epoch 10/50, Training Loss: 0.44315423407862264, Validation Loss: 0.4222102537751198\n",
      "Epoch 20/50, Training Loss: 0.38194598305609917, Validation Loss: 0.38559241965413094\n",
      "Epoch 30/50, Training Loss: 0.32183173106562707, Validation Loss: 0.3384327255189419\n",
      "Epoch 40/50, Training Loss: 0.2979892521135269, Validation Loss: 0.3241894319653511\n"
     ]
    },
    {
     "name": "stderr",
     "output_type": "stream",
     "text": [
      "[I 2023-10-11 05:08:24,427] Trial 137 finished with value: 0.3179711475968361 and parameters: {'lr': 0.0010660587945972454, 'dropout_prob': 0.27325467529358216, 'force_n_layers': 3, 'force_kernel_size': 8, 'force_stride': 4, 'force_padding': 7, 'force_hidden_channels': 226, 'force_pooling_type': 'avg', 'force_use_batch_norm': True, 'acc_n_layers': 4, 'acc_kernel_size': 5, 'acc_stride': 4, 'acc_padding': 7, 'acc_hidden_channels': 66, 'acc_pooling_type': 'avg', 'acc_use_batch_norm': False}. Best is trial 95 with value: 0.2890980765223503.\n"
     ]
    },
    {
     "name": "stdout",
     "output_type": "stream",
     "text": [
      "Epoch 50/50, Training Loss: 0.27274454745554155, Validation Loss: 0.3179711475968361\n",
      "Epoch 10/50, Training Loss: 0.41912861697135434, Validation Loss: 0.3992498591542244\n",
      "Epoch 20/50, Training Loss: 0.35190711579015177, Validation Loss: 0.33934546262025833\n",
      "Epoch 30/50, Training Loss: 0.3090850042719995, Validation Loss: 0.32713112980127335\n",
      "Epoch 40/50, Training Loss: 0.2671109543692681, Validation Loss: 0.3233453780412674\n"
     ]
    },
    {
     "name": "stderr",
     "output_type": "stream",
     "text": [
      "[I 2023-10-11 05:09:40,904] Trial 138 finished with value: 0.2858945671468973 and parameters: {'lr': 0.0009110549600440013, 'dropout_prob': 0.26644130402468813, 'force_n_layers': 6, 'force_kernel_size': 8, 'force_stride': 4, 'force_padding': 6, 'force_hidden_channels': 225, 'force_pooling_type': 'avg', 'force_use_batch_norm': True, 'acc_n_layers': 4, 'acc_kernel_size': 6, 'acc_stride': 3, 'acc_padding': 7, 'acc_hidden_channels': 74, 'acc_pooling_type': 'avg', 'acc_use_batch_norm': False}. Best is trial 138 with value: 0.2858945671468973.\n"
     ]
    },
    {
     "name": "stdout",
     "output_type": "stream",
     "text": [
      "Epoch 50/50, Training Loss: 0.24318708671677497, Validation Loss: 0.2858945671468973\n",
      "Epoch 10/50, Training Loss: 0.4261031660341447, Validation Loss: 0.4129584953188896\n",
      "Epoch 20/50, Training Loss: 0.355322640749716, Validation Loss: 0.36766158789396286\n",
      "Epoch 30/50, Training Loss: 0.32341354556622043, Validation Loss: 0.32880493998527527\n",
      "Epoch 40/50, Training Loss: 0.29335980934481465, Validation Loss: 0.3295350968837738\n"
     ]
    },
    {
     "name": "stderr",
     "output_type": "stream",
     "text": [
      "[I 2023-10-11 05:11:03,763] Trial 139 finished with value: 0.2982468716800213 and parameters: {'lr': 0.0007768204213712933, 'dropout_prob': 0.2636313815091133, 'force_n_layers': 7, 'force_kernel_size': 8, 'force_stride': 4, 'force_padding': 6, 'force_hidden_channels': 229, 'force_pooling_type': 'avg', 'force_use_batch_norm': True, 'acc_n_layers': 4, 'acc_kernel_size': 6, 'acc_stride': 3, 'acc_padding': 7, 'acc_hidden_channels': 55, 'acc_pooling_type': 'avg', 'acc_use_batch_norm': False}. Best is trial 138 with value: 0.2858945671468973.\n"
     ]
    },
    {
     "name": "stdout",
     "output_type": "stream",
     "text": [
      "Epoch 50/50, Training Loss: 0.27150601340878394, Validation Loss: 0.2982468716800213\n",
      "Epoch 10/50, Training Loss: 0.4320809446996258, Validation Loss: 0.45014719665050507\n",
      "Epoch 20/50, Training Loss: 0.374158711202683, Validation Loss: 0.3648705519735813\n",
      "Epoch 30/50, Training Loss: 0.3311220042167171, Validation Loss: 0.340815007686615\n",
      "Epoch 40/50, Training Loss: 0.30635019271604474, Validation Loss: 0.32891664281487465\n"
     ]
    },
    {
     "name": "stderr",
     "output_type": "stream",
     "text": [
      "[I 2023-10-11 05:12:17,539] Trial 140 finished with value: 0.3327129893004894 and parameters: {'lr': 0.0006894003554243076, 'dropout_prob': 0.2652159570378125, 'force_n_layers': 7, 'force_kernel_size': 8, 'force_stride': 4, 'force_padding': 6, 'force_hidden_channels': 234, 'force_pooling_type': 'avg', 'force_use_batch_norm': False, 'acc_n_layers': 4, 'acc_kernel_size': 6, 'acc_stride': 3, 'acc_padding': 7, 'acc_hidden_channels': 35, 'acc_pooling_type': 'max', 'acc_use_batch_norm': False}. Best is trial 138 with value: 0.2858945671468973.\n"
     ]
    },
    {
     "name": "stdout",
     "output_type": "stream",
     "text": [
      "Epoch 50/50, Training Loss: 0.28172735773747964, Validation Loss: 0.3327129893004894\n",
      "Epoch 10/50, Training Loss: 0.43619117525316053, Validation Loss: 0.4238603636622429\n",
      "Epoch 20/50, Training Loss: 0.3601589423994864, Validation Loss: 0.35693608969449997\n",
      "Epoch 30/50, Training Loss: 0.3168031265658717, Validation Loss: 0.31424639374017715\n",
      "Epoch 40/50, Training Loss: 0.28858614400509863, Validation Loss: 0.3049274794757366\n"
     ]
    },
    {
     "name": "stderr",
     "output_type": "stream",
     "text": [
      "[I 2023-10-11 05:13:33,992] Trial 141 finished with value: 0.2949467618018389 and parameters: {'lr': 0.0008207118809249866, 'dropout_prob': 0.29247913138329684, 'force_n_layers': 7, 'force_kernel_size': 8, 'force_stride': 4, 'force_padding': 6, 'force_hidden_channels': 220, 'force_pooling_type': 'avg', 'force_use_batch_norm': True, 'acc_n_layers': 4, 'acc_kernel_size': 6, 'acc_stride': 3, 'acc_padding': 7, 'acc_hidden_channels': 53, 'acc_pooling_type': 'avg', 'acc_use_batch_norm': False}. Best is trial 138 with value: 0.2858945671468973.\n"
     ]
    },
    {
     "name": "stdout",
     "output_type": "stream",
     "text": [
      "Epoch 50/50, Training Loss: 0.26466915251747253, Validation Loss: 0.2949467618018389\n",
      "Epoch 10/50, Training Loss: 0.4746581017971039, Validation Loss: 0.4653407856822014\n",
      "Epoch 20/50, Training Loss: 0.4190467105757806, Validation Loss: 0.41261329874396324\n",
      "Epoch 30/50, Training Loss: 0.39084736570235223, Validation Loss: 0.39004965126514435\n",
      "Epoch 40/50, Training Loss: 0.3723659534608164, Validation Loss: 0.3717762529850006\n"
     ]
    },
    {
     "name": "stderr",
     "output_type": "stream",
     "text": [
      "[I 2023-10-11 05:14:48,104] Trial 142 finished with value: 0.3529103063046932 and parameters: {'lr': 0.0007968937275284505, 'dropout_prob': 0.2936527254601087, 'force_n_layers': 7, 'force_kernel_size': 8, 'force_stride': 4, 'force_padding': 6, 'force_hidden_channels': 218, 'force_pooling_type': 'avg', 'force_use_batch_norm': True, 'acc_n_layers': 4, 'acc_kernel_size': 6, 'acc_stride': 5, 'acc_padding': 7, 'acc_hidden_channels': 55, 'acc_pooling_type': 'avg', 'acc_use_batch_norm': False}. Best is trial 138 with value: 0.2858945671468973.\n"
     ]
    },
    {
     "name": "stdout",
     "output_type": "stream",
     "text": [
      "Epoch 50/50, Training Loss: 0.34538903447889513, Validation Loss: 0.3529103063046932\n"
     ]
    },
    {
     "name": "stderr",
     "output_type": "stream",
     "text": [
      "[I 2023-10-11 05:14:49,693] Trial 143 finished with value: 1.0 and parameters: {'lr': 0.0009604953787136861, 'dropout_prob': 0.3012076419296735, 'force_n_layers': 7, 'force_kernel_size': 9, 'force_stride': 4, 'force_padding': 5, 'force_hidden_channels': 244, 'force_pooling_type': 'avg', 'force_use_batch_norm': True, 'acc_n_layers': 4, 'acc_kernel_size': 6, 'acc_stride': 3, 'acc_padding': 6, 'acc_hidden_channels': 51, 'acc_pooling_type': 'avg', 'acc_use_batch_norm': False}. Best is trial 138 with value: 0.2858945671468973.\n"
     ]
    },
    {
     "name": "stdout",
     "output_type": "stream",
     "text": [
      "Trial failed with error: Given input size: (244x1x1). Calculated output size: (244x1x0). Output size is too small\n",
      "Epoch 10/50, Training Loss: 0.4432681981594332, Validation Loss: 0.427189402282238\n",
      "Epoch 20/50, Training Loss: 0.3678867240105906, Validation Loss: 0.3580115884542465\n",
      "Epoch 30/50, Training Loss: 0.32062341032489655, Validation Loss: 0.31801920384168625\n",
      "Epoch 40/50, Training Loss: 0.29506107299558576, Validation Loss: 0.30651504918932915\n"
     ]
    },
    {
     "name": "stderr",
     "output_type": "stream",
     "text": [
      "[I 2023-10-11 05:15:56,503] Trial 144 finished with value: 0.2890952602028847 and parameters: {'lr': 0.0008331846543113418, 'dropout_prob': 0.277081338344163, 'force_n_layers': 6, 'force_kernel_size': 8, 'force_stride': 4, 'force_padding': 6, 'force_hidden_channels': 218, 'force_pooling_type': 'avg', 'force_use_batch_norm': True, 'acc_n_layers': 4, 'acc_kernel_size': 6, 'acc_stride': 3, 'acc_padding': 7, 'acc_hidden_channels': 44, 'acc_pooling_type': 'avg', 'acc_use_batch_norm': False}. Best is trial 138 with value: 0.2858945671468973.\n"
     ]
    },
    {
     "name": "stdout",
     "output_type": "stream",
     "text": [
      "Epoch 50/50, Training Loss: 0.2694195158058597, Validation Loss: 0.2890952602028847\n",
      "Epoch 10/50, Training Loss: 0.46600627033941205, Validation Loss: 0.44436337798833847\n",
      "Epoch 20/50, Training Loss: 0.39478976976486946, Validation Loss: 0.38710877299308777\n",
      "Epoch 30/50, Training Loss: 0.36528143959660686, Validation Loss: 0.3437676206231117\n",
      "Epoch 40/50, Training Loss: 0.32996874470864573, Validation Loss: 0.3200279101729393\n"
     ]
    },
    {
     "name": "stderr",
     "output_type": "stream",
     "text": [
      "[I 2023-10-11 05:17:03,693] Trial 145 finished with value: 0.30679570510983467 and parameters: {'lr': 0.0006418096994059429, 'dropout_prob': 0.2787070824819234, 'force_n_layers': 6, 'force_kernel_size': 8, 'force_stride': 4, 'force_padding': 6, 'force_hidden_channels': 214, 'force_pooling_type': 'avg', 'force_use_batch_norm': True, 'acc_n_layers': 4, 'acc_kernel_size': 6, 'acc_stride': 3, 'acc_padding': 7, 'acc_hidden_channels': 44, 'acc_pooling_type': 'avg', 'acc_use_batch_norm': False}. Best is trial 138 with value: 0.2858945671468973.\n"
     ]
    },
    {
     "name": "stdout",
     "output_type": "stream",
     "text": [
      "Epoch 50/50, Training Loss: 0.30483454033251733, Validation Loss: 0.30679570510983467\n",
      "Epoch 10/50, Training Loss: 0.28809854724714834, Validation Loss: 0.3331303037703037\n",
      "Epoch 20/50, Training Loss: 0.18999231294278177, Validation Loss: 0.3430039659142494\n",
      "Epoch 30/50, Training Loss: 0.11913055049315575, Validation Loss: 0.41697561740875244\n",
      "Epoch 40/50, Training Loss: 0.05068290389833912, Validation Loss: 0.591574739664793\n"
     ]
    },
    {
     "name": "stderr",
     "output_type": "stream",
     "text": [
      "[I 2023-10-11 05:18:12,451] Trial 146 finished with value: 0.7447402626276016 and parameters: {'lr': 0.0007762017733412547, 'dropout_prob': 0.31253479203317236, 'force_n_layers': 6, 'force_kernel_size': 8, 'force_stride': 4, 'force_padding': 6, 'force_hidden_channels': 200, 'force_pooling_type': 'avg', 'force_use_batch_norm': True, 'acc_n_layers': 4, 'acc_kernel_size': 6, 'acc_stride': 3, 'acc_padding': 7, 'acc_hidden_channels': 45, 'acc_pooling_type': 'avg', 'acc_use_batch_norm': True}. Best is trial 138 with value: 0.2858945671468973.\n"
     ]
    },
    {
     "name": "stdout",
     "output_type": "stream",
     "text": [
      "Epoch 50/50, Training Loss: 0.01762803983423979, Validation Loss: 0.7447402626276016\n",
      "Epoch 10/50, Training Loss: 0.6335347967763101, Validation Loss: 0.6310040280222893\n",
      "Epoch 20/50, Training Loss: 0.626937452823885, Validation Loss: 0.6269068047404289\n",
      "Epoch 30/50, Training Loss: 0.6062289553303872, Validation Loss: 0.6061436161398888\n",
      "Epoch 40/50, Training Loss: 0.5307014334586359, Validation Loss: 0.529497317969799\n"
     ]
    },
    {
     "name": "stderr",
     "output_type": "stream",
     "text": [
      "[I 2023-10-11 05:19:27,153] Trial 147 finished with value: 0.504856288433075 and parameters: {'lr': 2.596941187179882e-05, 'dropout_prob': 0.29261748864804, 'force_n_layers': 6, 'force_kernel_size': 8, 'force_stride': 4, 'force_padding': 7, 'force_hidden_channels': 231, 'force_pooling_type': 'avg', 'force_use_batch_norm': True, 'acc_n_layers': 4, 'acc_kernel_size': 6, 'acc_stride': 3, 'acc_padding': 7, 'acc_hidden_channels': 60, 'acc_pooling_type': 'avg', 'acc_use_batch_norm': False}. Best is trial 138 with value: 0.2858945671468973.\n"
     ]
    },
    {
     "name": "stdout",
     "output_type": "stream",
     "text": [
      "Epoch 50/50, Training Loss: 0.5037274427952305, Validation Loss: 0.504856288433075\n",
      "Epoch 10/50, Training Loss: 0.45376274854906146, Validation Loss: 0.45148326829075813\n",
      "Epoch 20/50, Training Loss: 0.42019278484006084, Validation Loss: 0.4143783561885357\n",
      "Epoch 30/50, Training Loss: 0.3942677897791709, Validation Loss: 0.38149646297097206\n",
      "Epoch 40/50, Training Loss: 0.35231862721904633, Validation Loss: 0.3624439090490341\n"
     ]
    },
    {
     "name": "stderr",
     "output_type": "stream",
     "text": [
      "[I 2023-10-11 05:20:31,596] Trial 148 finished with value: 0.3259611763060093 and parameters: {'lr': 0.0008496016774900051, 'dropout_prob': 0.2844720111379995, 'force_n_layers': 6, 'force_kernel_size': 8, 'force_stride': 4, 'force_padding': 6, 'force_hidden_channels': 204, 'force_pooling_type': 'avg', 'force_use_batch_norm': True, 'acc_n_layers': 4, 'acc_kernel_size': 5, 'acc_stride': 3, 'acc_padding': 6, 'acc_hidden_channels': 35, 'acc_pooling_type': 'avg', 'acc_use_batch_norm': False}. Best is trial 138 with value: 0.2858945671468973.\n"
     ]
    },
    {
     "name": "stdout",
     "output_type": "stream",
     "text": [
      "Epoch 50/50, Training Loss: 0.32552905044248026, Validation Loss: 0.3259611763060093\n",
      "Epoch 10/50, Training Loss: 0.49089516362836283, Validation Loss: 0.494764294475317\n",
      "Epoch 20/50, Training Loss: 0.4724936802541056, Validation Loss: 0.46233468130230904\n",
      "Epoch 30/50, Training Loss: 0.4474673242338242, Validation Loss: 0.44659991934895515\n",
      "Epoch 40/50, Training Loss: 0.4033730549197043, Validation Loss: 0.41020066663622856\n"
     ]
    },
    {
     "name": "stderr",
     "output_type": "stream",
     "text": [
      "[I 2023-10-11 05:21:43,743] Trial 149 finished with value: 0.3782809339463711 and parameters: {'lr': 0.0005535015415739375, 'dropout_prob': 0.2677504364229746, 'force_n_layers': 6, 'force_kernel_size': 8, 'force_stride': 5, 'force_padding': 6, 'force_hidden_channels': 219, 'force_pooling_type': 'avg', 'force_use_batch_norm': True, 'acc_n_layers': 7, 'acc_kernel_size': 6, 'acc_stride': 3, 'acc_padding': 7, 'acc_hidden_channels': 28, 'acc_pooling_type': 'avg', 'acc_use_batch_norm': False}. Best is trial 138 with value: 0.2858945671468973.\n"
     ]
    },
    {
     "name": "stdout",
     "output_type": "stream",
     "text": [
      "Epoch 50/50, Training Loss: 0.3773023034295728, Validation Loss: 0.3782809339463711\n"
     ]
    }
   ],
   "source": [
    "# Create an Optuna study for multimodal model hyperparameter optimization\n",
    "study = optuna.create_study(\n",
    "    study_name=\"Case#9: Multi Modal Merged\",\n",
    "    direction=\"minimize\",  # Minimize final validation loss\n",
    "    storage=\"sqlite:///../../database_sqllite//db.sqlite3\",\n",
    "    pruner=optuna.pruners.MedianPruner(n_warmup_steps=5),\n",
    ")\n",
    "\n",
    "# Define the number of trials (hyperparameter combinations) you want to search\n",
    "num_trials = 150\n",
    "\n",
    "# Perform hyperparameter optimization for the multimodal model\n",
    "study.optimize(multimodal_objective, n_trials=num_trials, n_jobs=1)\n"
   ]
  },
  {
   "cell_type": "code",
   "execution_count": 16,
   "metadata": {},
   "outputs": [
    {
     "name": "stdout",
     "output_type": "stream",
     "text": [
      "Best hyperparameters:\n",
      "{'lr': 0.0009110549600440013, 'dropout_prob': 0.26644130402468813, 'force_n_layers': 6, 'force_kernel_size': 8, 'force_stride': 4, 'force_padding': 6, 'force_hidden_channels': 225, 'force_pooling_type': 'avg', 'force_use_batch_norm': True, 'acc_n_layers': 4, 'acc_kernel_size': 6, 'acc_stride': 3, 'acc_padding': 7, 'acc_hidden_channels': 74, 'acc_pooling_type': 'avg', 'acc_use_batch_norm': False}\n",
      "Best final validation loss:\n",
      "0.2858945671468973\n"
     ]
    }
   ],
   "source": [
    "# Print the best hyperparameters and their associated final validation loss\n",
    "print(\"Best hyperparameters:\")\n",
    "print(study.best_params)\n",
    "print(\"Best final validation loss:\")\n",
    "print(study.best_value)"
   ]
  },
  {
   "cell_type": "code",
   "execution_count": 17,
   "metadata": {},
   "outputs": [],
   "source": [
    "# Specify the path where you want to save the JSON file\n",
    "config_file_path = \"../best_configs/multimodal_merged_best_configs.json\"\n",
    "\n",
    "# Save the best hyperparameters and validation loss to a JSON file\n",
    "best_configs = {\n",
    "    \"best_params\": study.best_params,\n",
    "    \"best_value\": study.best_value,\n",
    "}\n",
    "\n",
    "with open(config_file_path, \"w\") as config_file:\n",
    "    json.dump(best_configs, config_file)"
   ]
  },
  {
   "cell_type": "code",
   "execution_count": 17,
   "metadata": {},
   "outputs": [],
   "source": [
    "# Load the saved configuration\n",
    "with open(config_file_path, \"r\") as config_file:\n",
    "    saved_configs = json.load(config_file)\n",
    "\n",
    "# Compare the new best value with the saved one\n",
    "if study.best_value < saved_configs[\"best_value\"]:\n",
    "    print(\"New best value found. Replacing saved configuration.\")\n",
    "    saved_configs[\"best_params\"] = study.best_params\n",
    "    saved_configs[\"best_value\"] = study.best_value\n",
    "\n",
    "    # Update the saved configuration file\n",
    "    with open(config_file_path, \"w\") as config_file:\n",
    "        json.dump(saved_configs, config_file)"
   ]
  },
  {
   "cell_type": "code",
   "execution_count": 16,
   "metadata": {},
   "outputs": [],
   "source": [
    "# Save the best hyperparameters and validation loss to a JSON file\n",
    "best_configs = {\n",
    "    \"best_params\": study.best_params,\n",
    "    \"best_value\": study.best_value,\n",
    "}\n",
    "\n",
    "with open(config_file_path, \"w\") as config_file:\n",
    "    json.dump(best_configs, config_file)"
   ]
  },
  {
   "cell_type": "markdown",
   "metadata": {},
   "source": [
    "# Thank You"
   ]
  }
 ],
 "metadata": {
  "kernelspec": {
   "display_name": ".aifaps",
   "language": "python",
   "name": "python3"
  },
  "language_info": {
   "codemirror_mode": {
    "name": "ipython",
    "version": 3
   },
   "file_extension": ".py",
   "mimetype": "text/x-python",
   "name": "python",
   "nbconvert_exporter": "python",
   "pygments_lexer": "ipython3",
   "version": "3.11.4"
  },
  "orig_nbformat": 4
 },
 "nbformat": 4,
 "nbformat_minor": 2
}
