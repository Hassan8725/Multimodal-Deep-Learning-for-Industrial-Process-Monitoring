{
 "cells": [
  {
   "cell_type": "code",
   "execution_count": 3,
   "metadata": {},
   "outputs": [],
   "source": [
    "#---import libraries relating to data manipulation, visualization---------------------------------------------------\n",
    "import pandas as pd\n",
    "pd.set_option('display.max_columns', None)\n",
    "pd.set_option(\"max_colwidth\", None)\n",
    "\n",
    "import numpy as np\n",
    "import json\n",
    "\n",
    "#-------import libraries to evaluate the deep learning model---------------------------------------------------------------\n",
    "from sklearn.model_selection import train_test_split\n",
    "\n",
    "import warnings\n",
    "warnings.filterwarnings('ignore')\n",
    "\n",
    "#------ import Deep Learning Libraries-------#\n",
    "\n",
    "import torch\n",
    "import torch.nn as nn\n",
    "import torch.optim as optim\n",
    "\n",
    "\n",
    "import optuna\n",
    "from optuna.trial import Trial\n",
    "import pickle\n",
    "\n",
    "\n",
    "import sys\n",
    "sys.path.append('../../../src')  # Add the 'src' directory to the path\n",
    "\n",
    "#### Import Data Loading and Processing Functions<\n",
    "from multimodal.helper_functions import reproducible_comp, get_final_df\n",
    "from multimodal.model_architecture import MultimodalModel\n",
    "\n",
    "reproducible_comp()"
   ]
  },
  {
   "cell_type": "code",
   "execution_count": 4,
   "metadata": {},
   "outputs": [],
   "source": [
    "file_path = \"../../../data/processed_data/force_inner.pkl\"\n",
    "with open(file_path, 'rb') as picklefile:\n",
    "    data = pickle.load(picklefile)\n",
    "\n",
    "features_force_inner, category_force_inner, category_names, df_force_inner = get_final_df(data, is_acc_data=0, is_multilabel=1)\n",
    "\n",
    "file_path = \"../../../data/processed_data/acc_inner.pkl\"\n",
    "with open(file_path, 'rb') as picklefile:\n",
    "    data = pickle.load(picklefile)\n",
    "\n",
    "features_acc_inner, category_acc_inner, category_names, df_acc_inner = get_final_df(data, is_acc_data=1, is_multilabel=1)"
   ]
  },
  {
   "cell_type": "code",
   "execution_count": 5,
   "metadata": {},
   "outputs": [
    {
     "name": "stdout",
     "output_type": "stream",
     "text": [
      "Force Features Shape:  (1350, 1)\n",
      "Force Labels Shape:  (1350, 4)\n",
      "Acceleration Features Shape:  (1350, 3)\n",
      "Acceleration Labels Shape:  (1350, 4)\n"
     ]
    }
   ],
   "source": [
    "labels_force = category_force_inner.copy()\n",
    "features_force = features_force_inner.copy()\n",
    "print(\"Force Features Shape: \", features_force.shape)\n",
    "print(\"Force Labels Shape: \", labels_force.shape)\n",
    "\n",
    "labels_acc = category_acc_inner.copy()\n",
    "features_acc = features_acc_inner.copy()\n",
    "print(\"Acceleration Features Shape: \", features_acc.shape)\n",
    "print(\"Acceleration Labels Shape: \", labels_acc.shape)"
   ]
  },
  {
   "cell_type": "markdown",
   "metadata": {},
   "source": [
    "#### For Force"
   ]
  },
  {
   "cell_type": "code",
   "execution_count": 6,
   "metadata": {},
   "outputs": [
    {
     "name": "stdout",
     "output_type": "stream",
     "text": [
      "Updated Features Shape:  (1350, 150)\n"
     ]
    }
   ],
   "source": [
    "max_length = 150\n",
    "for i in range (len(features_force)):\n",
    "    if(len(features_force[i][0]<max_length)):\n",
    "        features_force[i][0]=np.pad(features_force[i][0], (0,max_length-len(features_force[i][0])), 'constant', constant_values=(0))\n",
    "feat_force= np.zeros(len(features_force) *max_length).reshape(-1, max_length)\n",
    "for i in range(len(features_force)):\n",
    "    feat_force[i]= np.concatenate((features_force[i][0]), axis=None)\n",
    "    \n",
    "\n",
    "print(\"Updated Features Shape: \", feat_force.shape)"
   ]
  },
  {
   "cell_type": "markdown",
   "metadata": {},
   "source": [
    "#### For Acceleration"
   ]
  },
  {
   "cell_type": "code",
   "execution_count": 7,
   "metadata": {},
   "outputs": [
    {
     "name": "stdout",
     "output_type": "stream",
     "text": [
      "Updated Features_acc Shape:  (1350, 1500)\n"
     ]
    }
   ],
   "source": [
    "max_length = 500\n",
    "\n",
    "for i in range (len(features_acc)):\n",
    "    if(len(features_acc[i][0]<max_length)):\n",
    "        features_acc[i][0]=np.pad(features_acc[i][0], (0,max_length-len(features_acc[i][0])), 'constant', constant_values=(0))\n",
    "        \n",
    "    if(len(features_acc[i][1]<max_length)):\n",
    "        features_acc[i][1]=np.pad(features_acc[i][1], (0,max_length-len(features_acc[i][1])), 'constant', constant_values=(0))\n",
    "    \n",
    "    if(len(features_acc[i][2]<max_length)):\n",
    "        features_acc[i][2]=np.pad(features_acc[i][2], (0,max_length-len(features_acc[i][2])), 'constant', constant_values=(0))\n",
    "\n",
    "feat_acc = np.zeros(len(features_acc)*3*max_length).reshape(-1, 3*max_length)\n",
    "for i in range(len(features_acc)):\n",
    "    feat_acc[i]= np.concatenate((features_acc[i][0],features_acc[i][1], features_acc[i][2]), axis=None)\n",
    "    \n",
    "\n",
    "print(\"Updated Features_acc Shape: \", feat_acc.shape)"
   ]
  },
  {
   "cell_type": "code",
   "execution_count": 8,
   "metadata": {},
   "outputs": [],
   "source": [
    "X_train_force, X_test_force, y_train_force, y_test_force = train_test_split(feat_force, labels_force, test_size=0.1, \n",
    "                                                    random_state=2, shuffle=True, stratify=labels_force)\n",
    "\n",
    "X_train_acc, X_test_acc, y_train_acc, y_test_acc = train_test_split(feat_acc, labels_acc, test_size=0.1, \n",
    "                                                    random_state=2, shuffle=True, stratify=labels_acc)                                                   "
   ]
  },
  {
   "cell_type": "code",
   "execution_count": 9,
   "metadata": {},
   "outputs": [
    {
     "name": "stdout",
     "output_type": "stream",
     "text": [
      "(1215, 1, 150)\n",
      "(1215, 4)\n",
      "(135, 1, 150)\n",
      "(135, 4)\n",
      "(1215, 1, 1500)\n",
      "(1215, 4)\n",
      "(135, 1, 1500)\n",
      "(135, 4)\n"
     ]
    }
   ],
   "source": [
    "X_train_force = X_train_force.reshape(-1, 1, feat_force.shape[1])\n",
    "X_test_force = X_test_force.reshape(-1, 1, feat_force.shape[1])\n",
    "\n",
    "X_train_acc = X_train_acc.reshape(-1, 1, feat_acc.shape[1])\n",
    "X_test_acc = X_test_acc.reshape(-1, 1, feat_acc.shape[1])\n",
    "\n",
    "print(X_train_force.shape)\n",
    "print(y_train_force.shape)\n",
    "print(X_test_force.shape)\n",
    "print(y_test_acc.shape)\n",
    "\n",
    "print(X_train_acc.shape)\n",
    "print(y_train_acc.shape)\n",
    "print(X_test_acc.shape)\n",
    "print(y_test_acc.shape)"
   ]
  },
  {
   "cell_type": "code",
   "execution_count": 10,
   "metadata": {},
   "outputs": [],
   "source": [
    "from torch.utils.data import DataLoader, TensorDataset\n",
    "\n",
    "input_channels = 1\n",
    "num_classes = 4\n",
    "\n",
    "device = torch.device(\"cuda\" if torch.cuda.is_available() else \"cpu\")\n",
    "\n",
    "# Load your multimodal data and labels for both modalities\n",
    "x_train_force = torch.tensor(X_train_force, dtype=torch.float32)\n",
    "y_train_force = torch.tensor(y_train_force, dtype=torch.float32)\n",
    "\n",
    "x_train_acc = torch.tensor(X_train_acc, dtype=torch.float32)\n",
    "y_train_acc = torch.tensor(y_train_acc, dtype=torch.float32)\n",
    "\n",
    "# Define the objective function for hyperparameter optimization\n",
    "def multimodal_objective(trial: Trial):\n",
    "    try:\n",
    "        # Define hyperparameters to search for\n",
    "        lr = trial.suggest_loguniform(\"lr\", 1e-5, 1e-2)  # Suggest a learning rate in log scale\n",
    "        dropout_prob = trial.suggest_float(\"dropout_prob\", 0.0, 0.5)\n",
    "        force_n_layers = trial.suggest_int(\"force_n_layers\", 1, 7)\n",
    "        force_kernel_size = trial.suggest_int(\"force_kernel_size\", 3, 9)\n",
    "        force_stride = trial.suggest_int(\"force_stride\", 1, 7)\n",
    "        force_padding = trial.suggest_int(\"force_padding\", 1, 10)\n",
    "        force_hidden_channels = trial.suggest_int(\"force_hidden_channels\", 16, 256)\n",
    "        force_pooling_type = trial.suggest_categorical(\"force_pooling_type\", [\"max\", \"avg\"])\n",
    "        force_use_batch_norm = trial.suggest_categorical(\"force_use_batch_norm\", [True, False])\n",
    "\n",
    "        acc_n_layers = trial.suggest_int(\"acc_n_layers\", 1, 7)\n",
    "        acc_kernel_size = trial.suggest_int(\"acc_kernel_size\", 3, 9)\n",
    "        acc_stride = trial.suggest_int(\"acc_stride\", 1, 7)\n",
    "        acc_padding = trial.suggest_int(\"acc_padding\", 1, 10)\n",
    "        acc_hidden_channels = trial.suggest_int(\"acc_hidden_channels\", 16, 256)\n",
    "        acc_pooling_type = trial.suggest_categorical(\"acc_pooling_type\", [\"max\", \"avg\"])\n",
    "        acc_use_batch_norm = trial.suggest_categorical(\"acc_use_batch_norm\", [True, False])\n",
    "\n",
    "\n",
    "        # Split the data into training and validation sets\n",
    "        x_train_split_force, x_valid_split_force, y_train_split_force, y_valid_split_force = train_test_split(\n",
    "            x_train_force, y_train_force, test_size=0.2, random_state=42\n",
    "        )\n",
    "        x_train_split_acc, x_valid_split_acc, y_train_split_acc, y_valid_split_acc = train_test_split(\n",
    "            x_train_acc, y_train_acc, test_size=0.2, random_state=42\n",
    "        )\n",
    "\n",
    "        # Create datasets and data loaders for both modalities\n",
    "        train_dataset_force = TensorDataset(x_train_split_force, y_train_split_force)\n",
    "        valid_dataset_force = TensorDataset(x_valid_split_force, y_valid_split_force)\n",
    "\n",
    "        train_dataset_acc = TensorDataset(x_train_split_acc, y_train_split_acc)\n",
    "        valid_dataset_acc = TensorDataset(x_valid_split_acc, y_valid_split_acc)\n",
    "\n",
    "        train_loader_force = DataLoader(train_dataset_force, batch_size=64, shuffle=True)\n",
    "        valid_loader_force = DataLoader(valid_dataset_force, batch_size=64, shuffle=False)\n",
    "\n",
    "        train_loader_acc = DataLoader(train_dataset_acc, batch_size=64, shuffle=True)\n",
    "        valid_loader_acc = DataLoader(valid_dataset_acc, batch_size=64, shuffle=False)\n",
    "\n",
    "        # Create the multimodal model with the suggested hyperparameters\n",
    "        model = MultimodalModel(input_channels, num_classes, \n",
    "                 force_n_layers, force_kernel_size, force_stride, force_padding, force_hidden_channels,\n",
    "                 force_pooling_type, force_use_batch_norm,\n",
    "                 acc_n_layers, acc_kernel_size, acc_stride, acc_padding, acc_hidden_channels,\n",
    "                 acc_pooling_type, acc_use_batch_norm, dropout_prob).to(device)\n",
    "\n",
    "        criterion = nn.BCEWithLogitsLoss()\n",
    "        optimizer = optim.Adam(model.parameters(), lr=lr)\n",
    "\n",
    "        num_epochs = 50\n",
    "\n",
    "        model.train()\n",
    "        for epoch in range(num_epochs):\n",
    "            # Training loop\n",
    "            running_loss = 0.0\n",
    "            for (inputs_acc, labels), (inputs_force,lab) in zip(train_loader_acc, train_loader_force):\n",
    "                inputs_acc, labels, inputs_force = inputs_acc.to(device), labels.to(device), inputs_force.to(device)\n",
    "\n",
    "                optimizer.zero_grad()\n",
    "\n",
    "                outputs = model(inputs_force, inputs_acc)\n",
    "                loss = criterion(outputs, labels.float())\n",
    "                loss.backward()\n",
    "                optimizer.step()\n",
    "\n",
    "                running_loss += loss.item()\n",
    "\n",
    "            train_loss = running_loss / len(train_loader_acc)\n",
    "\n",
    "            # Validation loss calculation (similar to training loop)\n",
    "            model.eval()\n",
    "            valid_loss = 0.0\n",
    "            with torch.no_grad():\n",
    "                for (inputs_acc_valid, labels_valid), (inputs_force_valid,lab) in zip(valid_loader_acc, valid_loader_force):\n",
    "                    inputs_acc_valid, labels_valid, inputs_force_valid = inputs_acc_valid.to(device), labels_valid.to(device), inputs_force_valid.to(device)\n",
    "                    outputs_valid = model(inputs_force_valid, inputs_acc_valid)\n",
    "                    loss_valid = criterion(outputs_valid, labels_valid.float())\n",
    "                    valid_loss += loss_valid.item()\n",
    "\n",
    "            valid_loss = valid_loss / len(valid_loader_acc)\n",
    "            if (epoch + 1) % 10 == 0:\n",
    "                print(f\"Epoch {epoch + 1}/{num_epochs}, Training Loss: {train_loss}, Validation Loss: {valid_loss}\")\n",
    "\n",
    "        # Calculate and return the final validation loss\n",
    "        return valid_loss\n",
    "    \n",
    "    except Exception as e:\n",
    "        # Print the error for debugging purposes (optional)\n",
    "        print(f\"Trial failed with error: {e}\")\n",
    "\n",
    "        # Return a high validation loss to indicate failure\n",
    "        return 1.0  # High validation loss\n"
   ]
  },
  {
   "cell_type": "code",
   "execution_count": 11,
   "metadata": {},
   "outputs": [
    {
     "name": "stderr",
     "output_type": "stream",
     "text": [
      "[I 2023-10-10 19:39:01,429] A new study created in RDB with name: Case#7: Multi Modal Inner\n"
     ]
    },
    {
     "name": "stdout",
     "output_type": "stream",
     "text": [
      "Epoch 10/50, Training Loss: 0.4622468166053295, Validation Loss: 0.4533188194036484\n",
      "Epoch 20/50, Training Loss: 0.39117880165576935, Validation Loss: 0.4062911570072174\n",
      "Epoch 30/50, Training Loss: 0.3710224889218807, Validation Loss: 0.400945283472538\n",
      "Epoch 40/50, Training Loss: 0.3499736599624157, Validation Loss: 0.38380464166402817\n"
     ]
    },
    {
     "name": "stderr",
     "output_type": "stream",
     "text": [
      "[I 2023-10-10 19:42:16,515] Trial 0 finished with value: 0.37178926169872284 and parameters: {'lr': 7.77964664827174e-05, 'dropout_prob': 0.2943048763629448, 'force_n_layers': 2, 'force_kernel_size': 7, 'force_stride': 6, 'force_padding': 5, 'force_hidden_channels': 222, 'force_pooling_type': 'max', 'force_use_batch_norm': True, 'acc_n_layers': 6, 'acc_kernel_size': 8, 'acc_stride': 1, 'acc_padding': 3, 'acc_hidden_channels': 194, 'acc_pooling_type': 'avg', 'acc_use_batch_norm': False}. Best is trial 0 with value: 0.37178926169872284.\n"
     ]
    },
    {
     "name": "stdout",
     "output_type": "stream",
     "text": [
      "Epoch 50/50, Training Loss: 0.32390739396214485, Validation Loss: 0.37178926169872284\n"
     ]
    },
    {
     "name": "stderr",
     "output_type": "stream",
     "text": [
      "[I 2023-10-10 19:42:17,827] Trial 1 finished with value: 1.0 and parameters: {'lr': 0.0001321622130856446, 'dropout_prob': 0.05659481279594236, 'force_n_layers': 4, 'force_kernel_size': 4, 'force_stride': 3, 'force_padding': 6, 'force_hidden_channels': 134, 'force_pooling_type': 'avg', 'force_use_batch_norm': True, 'acc_n_layers': 5, 'acc_kernel_size': 8, 'acc_stride': 5, 'acc_padding': 2, 'acc_hidden_channels': 35, 'acc_pooling_type': 'max', 'acc_use_batch_norm': False}. Best is trial 0 with value: 0.37178926169872284.\n"
     ]
    },
    {
     "name": "stdout",
     "output_type": "stream",
     "text": [
      "Trial failed with error: Calculated padded input size per channel: (5). Kernel size: (8). Kernel size can't be greater than actual input size\n",
      "Epoch 10/50, Training Loss: 0.3276974577456713, Validation Loss: 0.3412502780556679\n",
      "Epoch 20/50, Training Loss: 0.2514004874974489, Validation Loss: 0.32881753146648407\n",
      "Epoch 30/50, Training Loss: 0.20693955477327108, Validation Loss: 0.33026253432035446\n",
      "Epoch 40/50, Training Loss: 0.13902967143803835, Validation Loss: 0.36598773300647736\n"
     ]
    },
    {
     "name": "stderr",
     "output_type": "stream",
     "text": [
      "[I 2023-10-10 19:44:03,943] Trial 2 finished with value: 0.4675711914896965 and parameters: {'lr': 0.003623891940551892, 'dropout_prob': 0.1767300771364495, 'force_n_layers': 7, 'force_kernel_size': 3, 'force_stride': 1, 'force_padding': 4, 'force_hidden_channels': 250, 'force_pooling_type': 'avg', 'force_use_batch_norm': True, 'acc_n_layers': 6, 'acc_kernel_size': 9, 'acc_stride': 1, 'acc_padding': 9, 'acc_hidden_channels': 37, 'acc_pooling_type': 'max', 'acc_use_batch_norm': False}. Best is trial 0 with value: 0.37178926169872284.\n"
     ]
    },
    {
     "name": "stdout",
     "output_type": "stream",
     "text": [
      "Epoch 50/50, Training Loss: 0.09652646584436297, Validation Loss: 0.4675711914896965\n",
      "Epoch 10/50, Training Loss: 0.34232645109295845, Validation Loss: 0.4024888575077057\n",
      "Epoch 20/50, Training Loss: 0.22193811926990747, Validation Loss: 0.37338877469301224\n",
      "Epoch 30/50, Training Loss: 0.1453377939760685, Validation Loss: 0.4084632843732834\n",
      "Epoch 40/50, Training Loss: 0.07542262505739927, Validation Loss: 0.47836968302726746\n"
     ]
    },
    {
     "name": "stderr",
     "output_type": "stream",
     "text": [
      "[I 2023-10-10 19:44:27,122] Trial 3 finished with value: 0.5682168304920197 and parameters: {'lr': 0.002165000904002041, 'dropout_prob': 0.030298771345146025, 'force_n_layers': 5, 'force_kernel_size': 9, 'force_stride': 2, 'force_padding': 8, 'force_hidden_channels': 64, 'force_pooling_type': 'avg', 'force_use_batch_norm': True, 'acc_n_layers': 2, 'acc_kernel_size': 4, 'acc_stride': 5, 'acc_padding': 2, 'acc_hidden_channels': 139, 'acc_pooling_type': 'avg', 'acc_use_batch_norm': True}. Best is trial 0 with value: 0.37178926169872284.\n"
     ]
    },
    {
     "name": "stdout",
     "output_type": "stream",
     "text": [
      "Epoch 50/50, Training Loss: 0.03701356760575436, Validation Loss: 0.5682168304920197\n",
      "Epoch 10/50, Training Loss: 0.6594035625457764, Validation Loss: 0.6588339954614639\n",
      "Epoch 20/50, Training Loss: 0.6400801315903664, Validation Loss: 0.6412564218044281\n",
      "Epoch 30/50, Training Loss: 0.6312746591866016, Validation Loss: 0.6353994607925415\n",
      "Epoch 40/50, Training Loss: 0.6303681880235672, Validation Loss: 0.633054107427597\n"
     ]
    },
    {
     "name": "stderr",
     "output_type": "stream",
     "text": [
      "[I 2023-10-10 19:44:52,886] Trial 4 finished with value: 0.6331803947687149 and parameters: {'lr': 0.00016576146759559373, 'dropout_prob': 0.25760939767142776, 'force_n_layers': 1, 'force_kernel_size': 4, 'force_stride': 1, 'force_padding': 6, 'force_hidden_channels': 16, 'force_pooling_type': 'avg', 'force_use_batch_norm': True, 'acc_n_layers': 5, 'acc_kernel_size': 6, 'acc_stride': 7, 'acc_padding': 6, 'acc_hidden_channels': 108, 'acc_pooling_type': 'avg', 'acc_use_batch_norm': False}. Best is trial 0 with value: 0.37178926169872284.\n"
     ]
    },
    {
     "name": "stdout",
     "output_type": "stream",
     "text": [
      "Epoch 50/50, Training Loss: 0.6293734908103943, Validation Loss: 0.6331803947687149\n",
      "Epoch 10/50, Training Loss: 0.4307680893689394, Validation Loss: 0.42962566763162613\n",
      "Epoch 20/50, Training Loss: 0.3570876717567444, Validation Loss: 0.37848252803087234\n",
      "Epoch 30/50, Training Loss: 0.2929347790777683, Validation Loss: 0.34212465584278107\n",
      "Epoch 40/50, Training Loss: 0.2531184470281005, Validation Loss: 0.3354492411017418\n"
     ]
    },
    {
     "name": "stderr",
     "output_type": "stream",
     "text": [
      "[I 2023-10-10 19:46:19,114] Trial 5 finished with value: 0.3191661760210991 and parameters: {'lr': 0.0002891436354280083, 'dropout_prob': 0.12250819647118016, 'force_n_layers': 1, 'force_kernel_size': 8, 'force_stride': 1, 'force_padding': 3, 'force_hidden_channels': 39, 'force_pooling_type': 'max', 'force_use_batch_norm': False, 'acc_n_layers': 5, 'acc_kernel_size': 7, 'acc_stride': 3, 'acc_padding': 8, 'acc_hidden_channels': 232, 'acc_pooling_type': 'max', 'acc_use_batch_norm': False}. Best is trial 5 with value: 0.3191661760210991.\n"
     ]
    },
    {
     "name": "stdout",
     "output_type": "stream",
     "text": [
      "Epoch 50/50, Training Loss: 0.20233071874827147, Validation Loss: 0.3191661760210991\n",
      "Epoch 10/50, Training Loss: 0.6263424195349216, Validation Loss: 0.621841311454773\n",
      "Epoch 20/50, Training Loss: 0.6237571090459824, Validation Loss: 0.6338112354278564\n",
      "Epoch 30/50, Training Loss: 0.6049878224730492, Validation Loss: 0.5995534211397171\n",
      "Epoch 40/50, Training Loss: 0.4906308762729168, Validation Loss: 0.4900484085083008\n"
     ]
    },
    {
     "name": "stderr",
     "output_type": "stream",
     "text": [
      "[I 2023-10-10 19:46:35,216] Trial 6 finished with value: 0.43177642673254013 and parameters: {'lr': 0.0005891937582621478, 'dropout_prob': 0.061786167665110914, 'force_n_layers': 1, 'force_kernel_size': 6, 'force_stride': 2, 'force_padding': 8, 'force_hidden_channels': 237, 'force_pooling_type': 'avg', 'force_use_batch_norm': True, 'acc_n_layers': 2, 'acc_kernel_size': 4, 'acc_stride': 4, 'acc_padding': 8, 'acc_hidden_channels': 36, 'acc_pooling_type': 'avg', 'acc_use_batch_norm': True}. Best is trial 5 with value: 0.3191661760210991.\n"
     ]
    },
    {
     "name": "stdout",
     "output_type": "stream",
     "text": [
      "Epoch 50/50, Training Loss: 0.42969588562846184, Validation Loss: 0.43177642673254013\n",
      "Epoch 10/50, Training Loss: 0.22311641741544008, Validation Loss: 0.36926911771297455\n",
      "Epoch 20/50, Training Loss: 0.0992826521396637, Validation Loss: 0.35561664402484894\n",
      "Epoch 30/50, Training Loss: 0.0264236168586649, Validation Loss: 0.4293481111526489\n",
      "Epoch 40/50, Training Loss: 0.007117974077118561, Validation Loss: 0.517792783677578\n"
     ]
    },
    {
     "name": "stderr",
     "output_type": "stream",
     "text": [
      "[I 2023-10-10 19:47:08,275] Trial 7 finished with value: 0.5837025865912437 and parameters: {'lr': 0.005151151167622453, 'dropout_prob': 0.022174782821370254, 'force_n_layers': 1, 'force_kernel_size': 8, 'force_stride': 7, 'force_padding': 3, 'force_hidden_channels': 118, 'force_pooling_type': 'avg', 'force_use_batch_norm': False, 'acc_n_layers': 2, 'acc_kernel_size': 9, 'acc_stride': 4, 'acc_padding': 9, 'acc_hidden_channels': 185, 'acc_pooling_type': 'max', 'acc_use_batch_norm': False}. Best is trial 5 with value: 0.3191661760210991.\n"
     ]
    },
    {
     "name": "stdout",
     "output_type": "stream",
     "text": [
      "Epoch 50/50, Training Loss: 0.0029493908950826153, Validation Loss: 0.5837025865912437\n"
     ]
    },
    {
     "name": "stderr",
     "output_type": "stream",
     "text": [
      "[I 2023-10-10 19:47:09,757] Trial 8 finished with value: 1.0 and parameters: {'lr': 0.0004556725071953675, 'dropout_prob': 0.23487295417896403, 'force_n_layers': 4, 'force_kernel_size': 5, 'force_stride': 1, 'force_padding': 9, 'force_hidden_channels': 229, 'force_pooling_type': 'max', 'force_use_batch_norm': True, 'acc_n_layers': 4, 'acc_kernel_size': 6, 'acc_stride': 5, 'acc_padding': 1, 'acc_hidden_channels': 180, 'acc_pooling_type': 'avg', 'acc_use_batch_norm': True}. Best is trial 5 with value: 0.3191661760210991.\n"
     ]
    },
    {
     "name": "stdout",
     "output_type": "stream",
     "text": [
      "Trial failed with error: Calculated padded input size per channel: (3). Kernel size: (6). Kernel size can't be greater than actual input size\n",
      "Epoch 10/50, Training Loss: 0.2892091954126954, Validation Loss: 0.36681897938251495\n",
      "Epoch 20/50, Training Loss: 0.22203047387301922, Validation Loss: 0.3704104647040367\n",
      "Epoch 30/50, Training Loss: 0.15922187082469463, Validation Loss: 0.40001894533634186\n",
      "Epoch 40/50, Training Loss: 0.08082593558356166, Validation Loss: 0.6098838374018669\n"
     ]
    },
    {
     "name": "stderr",
     "output_type": "stream",
     "text": [
      "[I 2023-10-10 19:48:12,559] Trial 9 finished with value: 0.8905664086341858 and parameters: {'lr': 0.007455539354323559, 'dropout_prob': 0.30655980284055095, 'force_n_layers': 7, 'force_kernel_size': 6, 'force_stride': 1, 'force_padding': 5, 'force_hidden_channels': 253, 'force_pooling_type': 'max', 'force_use_batch_norm': False, 'acc_n_layers': 4, 'acc_kernel_size': 5, 'acc_stride': 2, 'acc_padding': 3, 'acc_hidden_channels': 75, 'acc_pooling_type': 'max', 'acc_use_batch_norm': False}. Best is trial 5 with value: 0.3191661760210991.\n"
     ]
    },
    {
     "name": "stdout",
     "output_type": "stream",
     "text": [
      "Epoch 50/50, Training Loss: 0.01459801968303509, Validation Loss: 0.8905664086341858\n"
     ]
    },
    {
     "name": "stderr",
     "output_type": "stream",
     "text": [
      "[I 2023-10-10 19:48:13,977] Trial 10 finished with value: 1.0 and parameters: {'lr': 1.4375156345901417e-05, 'dropout_prob': 0.41961252794409803, 'force_n_layers': 3, 'force_kernel_size': 9, 'force_stride': 5, 'force_padding': 1, 'force_hidden_channels': 18, 'force_pooling_type': 'max', 'force_use_batch_norm': False, 'acc_n_layers': 7, 'acc_kernel_size': 7, 'acc_stride': 3, 'acc_padding': 6, 'acc_hidden_channels': 238, 'acc_pooling_type': 'max', 'acc_use_batch_norm': True}. Best is trial 5 with value: 0.3191661760210991.\n"
     ]
    },
    {
     "name": "stdout",
     "output_type": "stream",
     "text": [
      "Trial failed with error: Calculated padded input size per channel: (3). Kernel size: (9). Kernel size can't be greater than actual input size\n",
      "Epoch 10/50, Training Loss: 0.6252366825938225, Validation Loss: 0.6338607668876648\n",
      "Epoch 20/50, Training Loss: 0.4036523960530758, Validation Loss: 0.41695981472730637\n",
      "Epoch 30/50, Training Loss: 0.3802876453846693, Validation Loss: 0.41567055881023407\n",
      "Epoch 40/50, Training Loss: 0.3620197083801031, Validation Loss: 0.43400321155786514\n"
     ]
    },
    {
     "name": "stderr",
     "output_type": "stream",
     "text": [
      "[I 2023-10-10 19:52:01,458] Trial 11 finished with value: 0.4094575494527817 and parameters: {'lr': 5.173911973160174e-05, 'dropout_prob': 0.15153199289530636, 'force_n_layers': 2, 'force_kernel_size': 7, 'force_stride': 5, 'force_padding': 2, 'force_hidden_channels': 184, 'force_pooling_type': 'max', 'force_use_batch_norm': False, 'acc_n_layers': 7, 'acc_kernel_size': 7, 'acc_stride': 1, 'acc_padding': 4, 'acc_hidden_channels': 255, 'acc_pooling_type': 'avg', 'acc_use_batch_norm': False}. Best is trial 5 with value: 0.3191661760210991.\n"
     ]
    },
    {
     "name": "stdout",
     "output_type": "stream",
     "text": [
      "Epoch 50/50, Training Loss: 0.3559172246605158, Validation Loss: 0.4094575494527817\n",
      "Epoch 10/50, Training Loss: 0.6270236149430275, Validation Loss: 0.6352172046899796\n",
      "Epoch 20/50, Training Loss: 0.4340820536017418, Validation Loss: 0.4299766719341278\n",
      "Epoch 30/50, Training Loss: 0.40467494912445545, Validation Loss: 0.3929384648799896\n",
      "Epoch 40/50, Training Loss: 0.3629120010882616, Validation Loss: 0.37534912675619125\n"
     ]
    },
    {
     "name": "stderr",
     "output_type": "stream",
     "text": [
      "[I 2023-10-10 19:53:13,104] Trial 12 finished with value: 0.36098865419626236 and parameters: {'lr': 5.5829465241180965e-05, 'dropout_prob': 0.36928655028622215, 'force_n_layers': 2, 'force_kernel_size': 7, 'force_stride': 7, 'force_padding': 4, 'force_hidden_channels': 181, 'force_pooling_type': 'max', 'force_use_batch_norm': False, 'acc_n_layers': 5, 'acc_kernel_size': 8, 'acc_stride': 2, 'acc_padding': 7, 'acc_hidden_channels': 201, 'acc_pooling_type': 'avg', 'acc_use_batch_norm': False}. Best is trial 5 with value: 0.3191661760210991.\n"
     ]
    },
    {
     "name": "stdout",
     "output_type": "stream",
     "text": [
      "Epoch 50/50, Training Loss: 0.349950211122632, Validation Loss: 0.36098865419626236\n",
      "Epoch 10/50, Training Loss: 0.6187772378325462, Validation Loss: 0.6310680061578751\n",
      "Epoch 20/50, Training Loss: 0.5737864673137665, Validation Loss: 0.5856223106384277\n",
      "Epoch 30/50, Training Loss: 0.5211078058928251, Validation Loss: 0.5332392752170563\n",
      "Epoch 40/50, Training Loss: 0.4866635501384735, Validation Loss: 0.4964707940816879\n"
     ]
    },
    {
     "name": "stderr",
     "output_type": "stream",
     "text": [
      "[I 2023-10-10 19:54:08,336] Trial 13 finished with value: 0.47246474772691727 and parameters: {'lr': 2.81005278034601e-05, 'dropout_prob': 0.4959014936187771, 'force_n_layers': 2, 'force_kernel_size': 8, 'force_stride': 4, 'force_padding': 3, 'force_hidden_channels': 172, 'force_pooling_type': 'max', 'force_use_batch_norm': False, 'acc_n_layers': 3, 'acc_kernel_size': 7, 'acc_stride': 3, 'acc_padding': 7, 'acc_hidden_channels': 213, 'acc_pooling_type': 'max', 'acc_use_batch_norm': False}. Best is trial 5 with value: 0.3191661760210991.\n"
     ]
    },
    {
     "name": "stdout",
     "output_type": "stream",
     "text": [
      "Epoch 50/50, Training Loss: 0.45936091616749763, Validation Loss: 0.47246474772691727\n"
     ]
    },
    {
     "name": "stderr",
     "output_type": "stream",
     "text": [
      "[I 2023-10-10 19:54:09,963] Trial 14 finished with value: 1.0 and parameters: {'lr': 0.00025127698514692707, 'dropout_prob': 0.3711086944083858, 'force_n_layers': 3, 'force_kernel_size': 7, 'force_stride': 7, 'force_padding': 1, 'force_hidden_channels': 90, 'force_pooling_type': 'max', 'force_use_batch_norm': False, 'acc_n_layers': 5, 'acc_kernel_size': 8, 'acc_stride': 3, 'acc_padding': 10, 'acc_hidden_channels': 153, 'acc_pooling_type': 'avg', 'acc_use_batch_norm': False}. Best is trial 5 with value: 0.3191661760210991.\n"
     ]
    },
    {
     "name": "stdout",
     "output_type": "stream",
     "text": [
      "Trial failed with error: max_pool1d() Invalid computed output size: 0\n"
     ]
    },
    {
     "name": "stderr",
     "output_type": "stream",
     "text": [
      "[I 2023-10-10 19:54:11,587] Trial 15 finished with value: 1.0 and parameters: {'lr': 1.2828489774763651e-05, 'dropout_prob': 0.1290793727503025, 'force_n_layers': 3, 'force_kernel_size': 8, 'force_stride': 4, 'force_padding': 3, 'force_hidden_channels': 186, 'force_pooling_type': 'max', 'force_use_batch_norm': False, 'acc_n_layers': 6, 'acc_kernel_size': 3, 'acc_stride': 2, 'acc_padding': 5, 'acc_hidden_channels': 224, 'acc_pooling_type': 'max', 'acc_use_batch_norm': False}. Best is trial 5 with value: 0.3191661760210991.\n"
     ]
    },
    {
     "name": "stdout",
     "output_type": "stream",
     "text": [
      "Trial failed with error: max_pool1d() Invalid computed output size: 0\n"
     ]
    },
    {
     "name": "stderr",
     "output_type": "stream",
     "text": [
      "[I 2023-10-10 19:54:12,961] Trial 16 finished with value: 1.0 and parameters: {'lr': 0.0009349171765358488, 'dropout_prob': 0.36593615784742756, 'force_n_layers': 5, 'force_kernel_size': 7, 'force_stride': 6, 'force_padding': 4, 'force_hidden_channels': 60, 'force_pooling_type': 'max', 'force_use_batch_norm': False, 'acc_n_layers': 3, 'acc_kernel_size': 7, 'acc_stride': 2, 'acc_padding': 7, 'acc_hidden_channels': 169, 'acc_pooling_type': 'max', 'acc_use_batch_norm': False}. Best is trial 5 with value: 0.3191661760210991.\n"
     ]
    },
    {
     "name": "stdout",
     "output_type": "stream",
     "text": [
      "Trial failed with error: max_pool1d() Invalid computed output size: 0\n",
      "Epoch 10/50, Training Loss: 0.6390191130340099, Validation Loss: 0.6394139379262924\n",
      "Epoch 20/50, Training Loss: 0.6297639235854149, Validation Loss: 0.6319659203290939\n",
      "Epoch 30/50, Training Loss: 0.628690030425787, Validation Loss: 0.6356572806835175\n",
      "Epoch 40/50, Training Loss: 0.6267361864447594, Validation Loss: 0.6351070702075958\n"
     ]
    },
    {
     "name": "stderr",
     "output_type": "stream",
     "text": [
      "[I 2023-10-10 19:54:34,040] Trial 17 finished with value: 0.6366120725870132 and parameters: {'lr': 8.67867129644118e-05, 'dropout_prob': 0.10399169477953629, 'force_n_layers': 2, 'force_kernel_size': 9, 'force_stride': 3, 'force_padding': 7, 'force_hidden_channels': 155, 'force_pooling_type': 'max', 'force_use_batch_norm': False, 'acc_n_layers': 1, 'acc_kernel_size': 9, 'acc_stride': 7, 'acc_padding': 8, 'acc_hidden_channels': 210, 'acc_pooling_type': 'avg', 'acc_use_batch_norm': False}. Best is trial 5 with value: 0.3191661760210991.\n"
     ]
    },
    {
     "name": "stdout",
     "output_type": "stream",
     "text": [
      "Epoch 50/50, Training Loss: 0.6257145889103413, Validation Loss: 0.6366120725870132\n",
      "Epoch 10/50, Training Loss: 0.30851222574710846, Validation Loss: 0.34594857692718506\n",
      "Epoch 20/50, Training Loss: 0.2120649553835392, Validation Loss: 0.31998593360185623\n",
      "Epoch 30/50, Training Loss: 0.15249737864360213, Validation Loss: 0.28468991070985794\n",
      "Epoch 40/50, Training Loss: 0.11260060360655189, Validation Loss: 0.30843985825777054\n"
     ]
    },
    {
     "name": "stderr",
     "output_type": "stream",
     "text": [
      "[I 2023-10-10 19:55:55,339] Trial 18 finished with value: 0.33077533543109894 and parameters: {'lr': 0.00022152640533872476, 'dropout_prob': 0.2132102159072847, 'force_n_layers': 1, 'force_kernel_size': 6, 'force_stride': 5, 'force_padding': 10, 'force_hidden_channels': 105, 'force_pooling_type': 'max', 'force_use_batch_norm': False, 'acc_n_layers': 4, 'acc_kernel_size': 6, 'acc_stride': 3, 'acc_padding': 10, 'acc_hidden_channels': 255, 'acc_pooling_type': 'max', 'acc_use_batch_norm': True}. Best is trial 5 with value: 0.3191661760210991.\n"
     ]
    },
    {
     "name": "stdout",
     "output_type": "stream",
     "text": [
      "Epoch 50/50, Training Loss: 0.0663181544514373, Validation Loss: 0.33077533543109894\n",
      "Epoch 10/50, Training Loss: 0.3514399453997612, Validation Loss: 0.37982177734375\n",
      "Epoch 20/50, Training Loss: 0.21934176608920097, Validation Loss: 0.3413086235523224\n",
      "Epoch 30/50, Training Loss: 0.16205862164497375, Validation Loss: 0.3740285485982895\n",
      "Epoch 40/50, Training Loss: 0.1082331445068121, Validation Loss: 0.40571869164705276\n"
     ]
    },
    {
     "name": "stderr",
     "output_type": "stream",
     "text": [
      "[I 2023-10-10 19:56:48,814] Trial 19 finished with value: 0.5216504707932472 and parameters: {'lr': 0.000273694349221178, 'dropout_prob': 0.19150633808032208, 'force_n_layers': 1, 'force_kernel_size': 6, 'force_stride': 5, 'force_padding': 10, 'force_hidden_channels': 44, 'force_pooling_type': 'max', 'force_use_batch_norm': False, 'acc_n_layers': 4, 'acc_kernel_size': 6, 'acc_stride': 6, 'acc_padding': 10, 'acc_hidden_channels': 247, 'acc_pooling_type': 'max', 'acc_use_batch_norm': True}. Best is trial 5 with value: 0.3191661760210991.\n"
     ]
    },
    {
     "name": "stdout",
     "output_type": "stream",
     "text": [
      "Epoch 50/50, Training Loss: 0.04626980735338293, Validation Loss: 0.5216504707932472\n",
      "Epoch 10/50, Training Loss: 0.28943548537790775, Validation Loss: 0.3460097834467888\n",
      "Epoch 20/50, Training Loss: 0.1729067754931748, Validation Loss: 0.30954985320568085\n",
      "Epoch 30/50, Training Loss: 0.09842129587195814, Validation Loss: 0.295526884496212\n",
      "Epoch 40/50, Training Loss: 0.03710561466868967, Validation Loss: 0.36287199705839157\n"
     ]
    },
    {
     "name": "stderr",
     "output_type": "stream",
     "text": [
      "[I 2023-10-10 19:57:26,032] Trial 20 finished with value: 0.4320390075445175 and parameters: {'lr': 0.0010612301168875461, 'dropout_prob': 0.09519208293797815, 'force_n_layers': 6, 'force_kernel_size': 5, 'force_stride': 3, 'force_padding': 9, 'force_hidden_channels': 101, 'force_pooling_type': 'max', 'force_use_batch_norm': False, 'acc_n_layers': 3, 'acc_kernel_size': 5, 'acc_stride': 3, 'acc_padding': 9, 'acc_hidden_channels': 108, 'acc_pooling_type': 'max', 'acc_use_batch_norm': True}. Best is trial 5 with value: 0.3191661760210991.\n"
     ]
    },
    {
     "name": "stdout",
     "output_type": "stream",
     "text": [
      "Epoch 50/50, Training Loss: 0.0081245647452306, Validation Loss: 0.4320390075445175\n",
      "Epoch 10/50, Training Loss: 0.32133528776466846, Validation Loss: 0.34244878590106964\n",
      "Epoch 20/50, Training Loss: 0.221745858900249, Validation Loss: 0.2879263684153557\n",
      "Epoch 30/50, Training Loss: 0.15926241967827082, Validation Loss: 0.31690409779548645\n",
      "Epoch 40/50, Training Loss: 0.16434854129329324, Validation Loss: 0.33210185170173645\n"
     ]
    },
    {
     "name": "stderr",
     "output_type": "stream",
     "text": [
      "[I 2023-10-10 19:59:30,528] Trial 21 finished with value: 0.30632056668400764 and parameters: {'lr': 0.0001525556687698007, 'dropout_prob': 0.1981050139567414, 'force_n_layers': 1, 'force_kernel_size': 8, 'force_stride': 6, 'force_padding': 4, 'force_hidden_channels': 88, 'force_pooling_type': 'max', 'force_use_batch_norm': False, 'acc_n_layers': 5, 'acc_kernel_size': 8, 'acc_stride': 2, 'acc_padding': 8, 'acc_hidden_channels': 229, 'acc_pooling_type': 'max', 'acc_use_batch_norm': True}. Best is trial 21 with value: 0.30632056668400764.\n"
     ]
    },
    {
     "name": "stdout",
     "output_type": "stream",
     "text": [
      "Epoch 50/50, Training Loss: 0.07952688238583505, Validation Loss: 0.30632056668400764\n",
      "Epoch 10/50, Training Loss: 0.49875717237591743, Validation Loss: 0.4783851206302643\n",
      "Epoch 20/50, Training Loss: 0.39990666694939137, Validation Loss: 0.40832802653312683\n",
      "Epoch 30/50, Training Loss: 0.2773510813713074, Validation Loss: 0.32819192111492157\n",
      "Epoch 40/50, Training Loss: 0.20831719134002924, Validation Loss: 0.2987087592482567\n"
     ]
    },
    {
     "name": "stderr",
     "output_type": "stream",
     "text": [
      "[I 2023-10-10 20:00:32,623] Trial 22 finished with value: 0.3035239949822426 and parameters: {'lr': 0.00016487414276257964, 'dropout_prob': 0.1967328645743356, 'force_n_layers': 1, 'force_kernel_size': 8, 'force_stride': 6, 'force_padding': 2, 'force_hidden_channels': 86, 'force_pooling_type': 'max', 'force_use_batch_norm': False, 'acc_n_layers': 5, 'acc_kernel_size': 5, 'acc_stride': 4, 'acc_padding': 8, 'acc_hidden_channels': 228, 'acc_pooling_type': 'max', 'acc_use_batch_norm': True}. Best is trial 22 with value: 0.3035239949822426.\n"
     ]
    },
    {
     "name": "stdout",
     "output_type": "stream",
     "text": [
      "Epoch 50/50, Training Loss: 0.16612302605062723, Validation Loss: 0.3035239949822426\n",
      "Epoch 10/50, Training Loss: 0.6211804710328579, Validation Loss: 0.6253419816493988\n",
      "Epoch 20/50, Training Loss: 0.44328771717846394, Validation Loss: 0.45501143485307693\n",
      "Epoch 30/50, Training Loss: 0.3561071362346411, Validation Loss: 0.36693932116031647\n",
      "Epoch 40/50, Training Loss: 0.2372908191755414, Validation Loss: 0.34185267984867096\n"
     ]
    },
    {
     "name": "stderr",
     "output_type": "stream",
     "text": [
      "[I 2023-10-10 20:01:46,019] Trial 23 finished with value: 0.32557133585214615 and parameters: {'lr': 0.00014116535196537512, 'dropout_prob': 0.14351086559411144, 'force_n_layers': 1, 'force_kernel_size': 8, 'force_stride': 6, 'force_padding': 2, 'force_hidden_channels': 75, 'force_pooling_type': 'max', 'force_use_batch_norm': False, 'acc_n_layers': 6, 'acc_kernel_size': 5, 'acc_stride': 4, 'acc_padding': 8, 'acc_hidden_channels': 226, 'acc_pooling_type': 'max', 'acc_use_batch_norm': True}. Best is trial 22 with value: 0.3035239949822426.\n"
     ]
    },
    {
     "name": "stdout",
     "output_type": "stream",
     "text": [
      "Epoch 50/50, Training Loss: 0.18144073011353612, Validation Loss: 0.32557133585214615\n"
     ]
    },
    {
     "name": "stderr",
     "output_type": "stream",
     "text": [
      "[I 2023-10-10 20:01:47,517] Trial 24 finished with value: 1.0 and parameters: {'lr': 0.00031557751719703253, 'dropout_prob': 0.182951513911327, 'force_n_layers': 3, 'force_kernel_size': 8, 'force_stride': 6, 'force_padding': 2, 'force_hidden_channels': 43, 'force_pooling_type': 'max', 'force_use_batch_norm': False, 'acc_n_layers': 5, 'acc_kernel_size': 4, 'acc_stride': 4, 'acc_padding': 5, 'acc_hidden_channels': 233, 'acc_pooling_type': 'max', 'acc_use_batch_norm': True}. Best is trial 22 with value: 0.3035239949822426.\n"
     ]
    },
    {
     "name": "stdout",
     "output_type": "stream",
     "text": [
      "Trial failed with error: Calculated padded input size per channel: (5). Kernel size: (8). Kernel size can't be greater than actual input size\n",
      "Epoch 10/50, Training Loss: 0.211128830909729, Validation Loss: 0.2944944128394127\n",
      "Epoch 20/50, Training Loss: 0.05774988350458443, Validation Loss: 0.35853734612464905\n",
      "Epoch 30/50, Training Loss: 0.002274020567710977, Validation Loss: 0.5478418171405792\n",
      "Epoch 40/50, Training Loss: 0.0003056676055166463, Validation Loss: 0.6622611060738564\n"
     ]
    },
    {
     "name": "stderr",
     "output_type": "stream",
     "text": [
      "[I 2023-10-10 20:03:15,746] Trial 25 finished with value: 0.7287130951881409 and parameters: {'lr': 0.0005468369972638892, 'dropout_prob': 0.21512352859212636, 'force_n_layers': 2, 'force_kernel_size': 9, 'force_stride': 4, 'force_padding': 3, 'force_hidden_channels': 41, 'force_pooling_type': 'max', 'force_use_batch_norm': False, 'acc_n_layers': 6, 'acc_kernel_size': 7, 'acc_stride': 2, 'acc_padding': 8, 'acc_hidden_channels': 168, 'acc_pooling_type': 'max', 'acc_use_batch_norm': True}. Best is trial 22 with value: 0.3035239949822426.\n"
     ]
    },
    {
     "name": "stdout",
     "output_type": "stream",
     "text": [
      "Epoch 50/50, Training Loss: 0.00014772285339859081, Validation Loss: 0.7287130951881409\n",
      "Epoch 10/50, Training Loss: 0.6214794889092445, Validation Loss: 0.6266235858201981\n",
      "Epoch 20/50, Training Loss: 0.4313432052731514, Validation Loss: 0.4386103004217148\n",
      "Epoch 30/50, Training Loss: 0.3350238762795925, Validation Loss: 0.3726029247045517\n",
      "Epoch 40/50, Training Loss: 0.2624349072575569, Validation Loss: 0.3451986163854599\n"
     ]
    },
    {
     "name": "stderr",
     "output_type": "stream",
     "text": [
      "[I 2023-10-10 20:04:10,712] Trial 26 finished with value: 0.3489643633365631 and parameters: {'lr': 0.00012089809122488957, 'dropout_prob': 0.1276414576990015, 'force_n_layers': 1, 'force_kernel_size': 8, 'force_stride': 2, 'force_padding': 1, 'force_hidden_channels': 83, 'force_pooling_type': 'max', 'force_use_batch_norm': False, 'acc_n_layers': 5, 'acc_kernel_size': 5, 'acc_stride': 5, 'acc_padding': 7, 'acc_hidden_channels': 217, 'acc_pooling_type': 'max', 'acc_use_batch_norm': True}. Best is trial 22 with value: 0.3035239949822426.\n"
     ]
    },
    {
     "name": "stdout",
     "output_type": "stream",
     "text": [
      "Epoch 50/50, Training Loss: 0.22522432170808315, Validation Loss: 0.3489643633365631\n",
      "Epoch 10/50, Training Loss: 0.3355987146496773, Validation Loss: 0.36282919347286224\n",
      "Epoch 20/50, Training Loss: 0.22095529735088348, Validation Loss: 0.2952740117907524\n",
      "Epoch 30/50, Training Loss: 0.1577519252896309, Validation Loss: 0.28002897650003433\n",
      "Epoch 40/50, Training Loss: 0.10730428760871291, Validation Loss: 0.27918796986341476\n"
     ]
    },
    {
     "name": "stderr",
     "output_type": "stream",
     "text": [
      "[I 2023-10-10 20:05:18,628] Trial 27 finished with value: 0.2857280597090721 and parameters: {'lr': 0.0002147583705377852, 'dropout_prob': 0.16619768997169243, 'force_n_layers': 2, 'force_kernel_size': 9, 'force_stride': 6, 'force_padding': 4, 'force_hidden_channels': 128, 'force_pooling_type': 'max', 'force_use_batch_norm': False, 'acc_n_layers': 4, 'acc_kernel_size': 8, 'acc_stride': 3, 'acc_padding': 9, 'acc_hidden_channels': 200, 'acc_pooling_type': 'max', 'acc_use_batch_norm': True}. Best is trial 27 with value: 0.2857280597090721.\n"
     ]
    },
    {
     "name": "stdout",
     "output_type": "stream",
     "text": [
      "Epoch 50/50, Training Loss: 0.0691432278836146, Validation Loss: 0.2857280597090721\n",
      "Epoch 10/50, Training Loss: 0.42938696406781673, Validation Loss: 0.42789338529109955\n",
      "Epoch 20/50, Training Loss: 0.3154975138604641, Validation Loss: 0.3561783581972122\n",
      "Epoch 30/50, Training Loss: 0.23990331403911114, Validation Loss: 0.3247048929333687\n",
      "Epoch 40/50, Training Loss: 0.190667356364429, Validation Loss: 0.3182874992489815\n"
     ]
    },
    {
     "name": "stderr",
     "output_type": "stream",
     "text": [
      "[I 2023-10-10 20:06:00,751] Trial 28 finished with value: 0.3193286135792732 and parameters: {'lr': 0.00016200910364580856, 'dropout_prob': 0.17222140152198034, 'force_n_layers': 2, 'force_kernel_size': 9, 'force_stride': 6, 'force_padding': 5, 'force_hidden_channels': 129, 'force_pooling_type': 'max', 'force_use_batch_norm': False, 'acc_n_layers': 3, 'acc_kernel_size': 8, 'acc_stride': 6, 'acc_padding': 9, 'acc_hidden_channels': 198, 'acc_pooling_type': 'max', 'acc_use_batch_norm': True}. Best is trial 27 with value: 0.2857280597090721.\n"
     ]
    },
    {
     "name": "stdout",
     "output_type": "stream",
     "text": [
      "Epoch 50/50, Training Loss: 0.15789176430553198, Validation Loss: 0.3193286135792732\n"
     ]
    },
    {
     "name": "stderr",
     "output_type": "stream",
     "text": [
      "[I 2023-10-10 20:06:02,175] Trial 29 finished with value: 1.0 and parameters: {'lr': 8.320620907072047e-05, 'dropout_prob': 0.2661241976145982, 'force_n_layers': 3, 'force_kernel_size': 7, 'force_stride': 7, 'force_padding': 4, 'force_hidden_channels': 151, 'force_pooling_type': 'max', 'force_use_batch_norm': False, 'acc_n_layers': 4, 'acc_kernel_size': 9, 'acc_stride': 1, 'acc_padding': 6, 'acc_hidden_channels': 194, 'acc_pooling_type': 'max', 'acc_use_batch_norm': True}. Best is trial 27 with value: 0.2857280597090721.\n"
     ]
    },
    {
     "name": "stdout",
     "output_type": "stream",
     "text": [
      "Trial failed with error: max_pool1d() Invalid computed output size: 0\n",
      "Epoch 10/50, Training Loss: 0.6340923979878426, Validation Loss: 0.6389304548501968\n",
      "Epoch 20/50, Training Loss: 0.6281476132571697, Validation Loss: 0.6332234442234039\n",
      "Epoch 30/50, Training Loss: 0.5748786851763725, Validation Loss: 0.5656452476978302\n",
      "Epoch 40/50, Training Loss: 0.43045055866241455, Validation Loss: 0.44157077372074127\n"
     ]
    },
    {
     "name": "stderr",
     "output_type": "stream",
     "text": [
      "[I 2023-10-10 20:06:46,914] Trial 30 finished with value: 0.3953529968857765 and parameters: {'lr': 5.0824856214758734e-05, 'dropout_prob': 0.21521708485346003, 'force_n_layers': 2, 'force_kernel_size': 9, 'force_stride': 5, 'force_padding': 5, 'force_hidden_channels': 116, 'force_pooling_type': 'max', 'force_use_batch_norm': False, 'acc_n_layers': 7, 'acc_kernel_size': 3, 'acc_stride': 2, 'acc_padding': 9, 'acc_hidden_channels': 126, 'acc_pooling_type': 'max', 'acc_use_batch_norm': True}. Best is trial 27 with value: 0.2857280597090721.\n"
     ]
    },
    {
     "name": "stdout",
     "output_type": "stream",
     "text": [
      "Epoch 50/50, Training Loss: 0.3729186523705721, Validation Loss: 0.3953529968857765\n",
      "Epoch 10/50, Training Loss: 0.23659381177276373, Validation Loss: 0.3048624321818352\n",
      "Epoch 20/50, Training Loss: 0.07697730953805149, Validation Loss: 0.3603358492255211\n",
      "Epoch 30/50, Training Loss: 0.01709354275953956, Validation Loss: 0.563892662525177\n",
      "Epoch 40/50, Training Loss: 0.0007450379289366538, Validation Loss: 0.6736651957035065\n"
     ]
    },
    {
     "name": "stderr",
     "output_type": "stream",
     "text": [
      "[I 2023-10-10 20:08:24,503] Trial 31 finished with value: 0.7340116798877716 and parameters: {'lr': 0.00042503574542130095, 'dropout_prob': 0.1579673758460864, 'force_n_layers': 1, 'force_kernel_size': 8, 'force_stride': 6, 'force_padding': 2, 'force_hidden_channels': 97, 'force_pooling_type': 'max', 'force_use_batch_norm': False, 'acc_n_layers': 5, 'acc_kernel_size': 8, 'acc_stride': 3, 'acc_padding': 8, 'acc_hidden_channels': 236, 'acc_pooling_type': 'max', 'acc_use_batch_norm': True}. Best is trial 27 with value: 0.2857280597090721.\n"
     ]
    },
    {
     "name": "stdout",
     "output_type": "stream",
     "text": [
      "Epoch 50/50, Training Loss: 0.0003330518611619482, Validation Loss: 0.7340116798877716\n",
      "Epoch 10/50, Training Loss: 0.4023997597396374, Validation Loss: 0.40270112454891205\n",
      "Epoch 20/50, Training Loss: 0.21818507928401232, Validation Loss: 0.3132089674472809\n",
      "Epoch 30/50, Training Loss: 0.1273719733580947, Validation Loss: 0.3980095013976097\n",
      "Epoch 40/50, Training Loss: 0.013206977921072394, Validation Loss: 0.5746755078434944\n"
     ]
    },
    {
     "name": "stderr",
     "output_type": "stream",
     "text": [
      "[I 2023-10-10 20:09:51,080] Trial 32 finished with value: 0.672030046582222 and parameters: {'lr': 0.00021318069326237127, 'dropout_prob': 0.0881840683585791, 'force_n_layers': 1, 'force_kernel_size': 9, 'force_stride': 7, 'force_padding': 3, 'force_hidden_channels': 67, 'force_pooling_type': 'max', 'force_use_batch_norm': False, 'acc_n_layers': 6, 'acc_kernel_size': 8, 'acc_stride': 4, 'acc_padding': 10, 'acc_hidden_channels': 212, 'acc_pooling_type': 'max', 'acc_use_batch_norm': True}. Best is trial 27 with value: 0.2857280597090721.\n"
     ]
    },
    {
     "name": "stdout",
     "output_type": "stream",
     "text": [
      "Epoch 50/50, Training Loss: 0.006386110178937088, Validation Loss: 0.672030046582222\n",
      "Epoch 10/50, Training Loss: 0.3703483119606972, Validation Loss: 0.3814963176846504\n",
      "Epoch 20/50, Training Loss: 0.2707640677690506, Validation Loss: 0.314016155898571\n",
      "Epoch 30/50, Training Loss: 0.19110076129436493, Validation Loss: 0.2830191031098366\n",
      "Epoch 40/50, Training Loss: 0.1418213415890932, Validation Loss: 0.2915697954595089\n"
     ]
    },
    {
     "name": "stderr",
     "output_type": "stream",
     "text": [
      "[I 2023-10-10 20:11:19,701] Trial 33 finished with value: 0.2958454303443432 and parameters: {'lr': 0.00012654898251481761, 'dropout_prob': 0.12448348929609386, 'force_n_layers': 2, 'force_kernel_size': 8, 'force_stride': 6, 'force_padding': 4, 'force_hidden_channels': 147, 'force_pooling_type': 'max', 'force_use_batch_norm': False, 'acc_n_layers': 4, 'acc_kernel_size': 8, 'acc_stride': 3, 'acc_padding': 9, 'acc_hidden_channels': 242, 'acc_pooling_type': 'max', 'acc_use_batch_norm': True}. Best is trial 27 with value: 0.2857280597090721.\n"
     ]
    },
    {
     "name": "stdout",
     "output_type": "stream",
     "text": [
      "Epoch 50/50, Training Loss: 0.1143093234859407, Validation Loss: 0.2958454303443432\n",
      "Epoch 10/50, Training Loss: 0.3517580069601536, Validation Loss: 0.37945321947336197\n",
      "Epoch 20/50, Training Loss: 0.24834139179438353, Validation Loss: 0.34425435215234756\n",
      "Epoch 30/50, Training Loss: 0.18519468512386084, Validation Loss: 0.33399730920791626\n",
      "Epoch 40/50, Training Loss: 0.1589623112231493, Validation Loss: 0.31309182941913605\n"
     ]
    },
    {
     "name": "stderr",
     "output_type": "stream",
     "text": [
      "[I 2023-10-10 20:17:34,924] Trial 34 finished with value: 0.32724784314632416 and parameters: {'lr': 0.00011187436927214283, 'dropout_prob': 0.18149004702559585, 'force_n_layers': 4, 'force_kernel_size': 7, 'force_stride': 6, 'force_padding': 6, 'force_hidden_channels': 142, 'force_pooling_type': 'avg', 'force_use_batch_norm': True, 'acc_n_layers': 4, 'acc_kernel_size': 9, 'acc_stride': 1, 'acc_padding': 9, 'acc_hidden_channels': 242, 'acc_pooling_type': 'max', 'acc_use_batch_norm': True}. Best is trial 27 with value: 0.2857280597090721.\n"
     ]
    },
    {
     "name": "stdout",
     "output_type": "stream",
     "text": [
      "Epoch 50/50, Training Loss: 0.11611851397901773, Validation Loss: 0.32724784314632416\n",
      "Epoch 10/50, Training Loss: 0.43695168383419514, Validation Loss: 0.4442235231399536\n",
      "Epoch 20/50, Training Loss: 0.30953919142484665, Validation Loss: 0.36487697809934616\n",
      "Epoch 30/50, Training Loss: 0.2351894322782755, Validation Loss: 0.3373481407761574\n",
      "Epoch 40/50, Training Loss: 0.1896384246647358, Validation Loss: 0.32095689326524734\n"
     ]
    },
    {
     "name": "stderr",
     "output_type": "stream",
     "text": [
      "[I 2023-10-10 20:18:16,706] Trial 35 finished with value: 0.325807124376297 and parameters: {'lr': 0.00017972095093398544, 'dropout_prob': 0.14971600401058752, 'force_n_layers': 2, 'force_kernel_size': 9, 'force_stride': 6, 'force_padding': 4, 'force_hidden_channels': 207, 'force_pooling_type': 'avg', 'force_use_batch_norm': True, 'acc_n_layers': 3, 'acc_kernel_size': 8, 'acc_stride': 5, 'acc_padding': 9, 'acc_hidden_channels': 180, 'acc_pooling_type': 'max', 'acc_use_batch_norm': True}. Best is trial 27 with value: 0.2857280597090721.\n"
     ]
    },
    {
     "name": "stdout",
     "output_type": "stream",
     "text": [
      "Epoch 50/50, Training Loss: 0.15958357881754637, Validation Loss: 0.325807124376297\n",
      "Epoch 10/50, Training Loss: 0.4342540316283703, Validation Loss: 0.43279334157705307\n",
      "Epoch 20/50, Training Loss: 0.293459115549922, Validation Loss: 0.3408874496817589\n",
      "Epoch 30/50, Training Loss: 0.22188492212444544, Validation Loss: 0.30854518711566925\n",
      "Epoch 40/50, Training Loss: 0.18468297366052866, Validation Loss: 0.28529904037714005\n"
     ]
    },
    {
     "name": "stderr",
     "output_type": "stream",
     "text": [
      "[I 2023-10-10 20:19:05,726] Trial 36 finished with value: 0.2883985787630081 and parameters: {'lr': 0.00010553848639300178, 'dropout_prob': 0.06543848770205361, 'force_n_layers': 2, 'force_kernel_size': 3, 'force_stride': 5, 'force_padding': 6, 'force_hidden_channels': 122, 'force_pooling_type': 'max', 'force_use_batch_norm': False, 'acc_n_layers': 4, 'acc_kernel_size': 8, 'acc_stride': 3, 'acc_padding': 7, 'acc_hidden_channels': 209, 'acc_pooling_type': 'max', 'acc_use_batch_norm': True}. Best is trial 27 with value: 0.2857280597090721.\n"
     ]
    },
    {
     "name": "stdout",
     "output_type": "stream",
     "text": [
      "Epoch 50/50, Training Loss: 0.14083750592544675, Validation Loss: 0.2883985787630081\n",
      "Epoch 10/50, Training Loss: 0.522120738402009, Validation Loss: 0.5104221180081367\n",
      "Epoch 20/50, Training Loss: 0.37334557995200157, Validation Loss: 0.3912174254655838\n",
      "Epoch 30/50, Training Loss: 0.29491015523672104, Validation Loss: 0.3388320580124855\n",
      "Epoch 40/50, Training Loss: 0.23323436826467514, Validation Loss: 0.3079080879688263\n"
     ]
    },
    {
     "name": "stderr",
     "output_type": "stream",
     "text": [
      "[I 2023-10-10 20:19:41,794] Trial 37 finished with value: 0.3042105883359909 and parameters: {'lr': 0.00010400600275227467, 'dropout_prob': 0.009317107271685374, 'force_n_layers': 3, 'force_kernel_size': 3, 'force_stride': 5, 'force_padding': 6, 'force_hidden_channels': 126, 'force_pooling_type': 'avg', 'force_use_batch_norm': True, 'acc_n_layers': 4, 'acc_kernel_size': 9, 'acc_stride': 4, 'acc_padding': 7, 'acc_hidden_channels': 152, 'acc_pooling_type': 'max', 'acc_use_batch_norm': True}. Best is trial 27 with value: 0.2857280597090721.\n"
     ]
    },
    {
     "name": "stdout",
     "output_type": "stream",
     "text": [
      "Epoch 50/50, Training Loss: 0.20286624506115913, Validation Loss: 0.3042105883359909\n",
      "Epoch 10/50, Training Loss: 0.6058242842555046, Validation Loss: 0.6095486879348755\n",
      "Epoch 20/50, Training Loss: 0.43457106128335, Validation Loss: 0.4334660768508911\n",
      "Epoch 30/50, Training Loss: 0.36578718200325966, Validation Loss: 0.37979259341955185\n",
      "Epoch 40/50, Training Loss: 0.3232083711773157, Validation Loss: 0.365307055413723\n"
     ]
    },
    {
     "name": "stderr",
     "output_type": "stream",
     "text": [
      "[I 2023-10-10 20:20:30,323] Trial 38 finished with value: 0.351614810526371 and parameters: {'lr': 6.63072427917771e-05, 'dropout_prob': 0.06444043454448738, 'force_n_layers': 4, 'force_kernel_size': 3, 'force_stride': 4, 'force_padding': 7, 'force_hidden_channels': 161, 'force_pooling_type': 'max', 'force_use_batch_norm': False, 'acc_n_layers': 4, 'acc_kernel_size': 4, 'acc_stride': 3, 'acc_padding': 6, 'acc_hidden_channels': 193, 'acc_pooling_type': 'max', 'acc_use_batch_norm': True}. Best is trial 27 with value: 0.2857280597090721.\n"
     ]
    },
    {
     "name": "stdout",
     "output_type": "stream",
     "text": [
      "Epoch 50/50, Training Loss: 0.2991737835109234, Validation Loss: 0.351614810526371\n",
      "Epoch 10/50, Training Loss: 0.5055855549871922, Validation Loss: 0.5003848969936371\n",
      "Epoch 20/50, Training Loss: 0.3501077964901924, Validation Loss: 0.39524008333683014\n",
      "Epoch 30/50, Training Loss: 0.290742970071733, Validation Loss: 0.35549627989530563\n",
      "Epoch 40/50, Training Loss: 0.23993816506117582, Validation Loss: 0.3381105214357376\n"
     ]
    },
    {
     "name": "stderr",
     "output_type": "stream",
     "text": [
      "[I 2023-10-10 20:20:50,310] Trial 39 finished with value: 0.3370051756501198 and parameters: {'lr': 0.0003702134648404462, 'dropout_prob': 0.04355098062304298, 'force_n_layers': 3, 'force_kernel_size': 4, 'force_stride': 5, 'force_padding': 7, 'force_hidden_channels': 112, 'force_pooling_type': 'avg', 'force_use_batch_norm': False, 'acc_n_layers': 3, 'acc_kernel_size': 6, 'acc_stride': 4, 'acc_padding': 10, 'acc_hidden_channels': 59, 'acc_pooling_type': 'max', 'acc_use_batch_norm': True}. Best is trial 27 with value: 0.2857280597090721.\n"
     ]
    },
    {
     "name": "stdout",
     "output_type": "stream",
     "text": [
      "Epoch 50/50, Training Loss: 0.20273211412131786, Validation Loss: 0.3370051756501198\n",
      "Epoch 10/50, Training Loss: 0.6530014872550964, Validation Loss: 0.6594926714897156\n",
      "Epoch 20/50, Training Loss: 0.6326377205550671, Validation Loss: 0.6412988007068634\n",
      "Epoch 30/50, Training Loss: 0.627737645059824, Validation Loss: 0.6401971876621246\n",
      "Epoch 40/50, Training Loss: 0.624420415610075, Validation Loss: 0.6369046717882156\n"
     ]
    },
    {
     "name": "stderr",
     "output_type": "stream",
     "text": [
      "[I 2023-10-10 20:21:01,852] Trial 40 finished with value: 0.6335763335227966 and parameters: {'lr': 3.584606674165102e-05, 'dropout_prob': 0.07184706228357182, 'force_n_layers': 2, 'force_kernel_size': 5, 'force_stride': 7, 'force_padding': 5, 'force_hidden_channels': 143, 'force_pooling_type': 'max', 'force_use_batch_norm': True, 'acc_n_layers': 2, 'acc_kernel_size': 7, 'acc_stride': 4, 'acc_padding': 7, 'acc_hidden_channels': 19, 'acc_pooling_type': 'max', 'acc_use_batch_norm': True}. Best is trial 27 with value: 0.2857280597090721.\n"
     ]
    },
    {
     "name": "stdout",
     "output_type": "stream",
     "text": [
      "Epoch 50/50, Training Loss: 0.6238434575498104, Validation Loss: 0.6335763335227966\n",
      "Epoch 10/50, Training Loss: 0.5767518915235996, Validation Loss: 0.5694846361875534\n",
      "Epoch 20/50, Training Loss: 0.38844411447644234, Validation Loss: 0.3994353488087654\n",
      "Epoch 30/50, Training Loss: 0.3168984428048134, Validation Loss: 0.3485037311911583\n",
      "Epoch 40/50, Training Loss: 0.24928579106926918, Validation Loss: 0.313526950776577\n"
     ]
    },
    {
     "name": "stderr",
     "output_type": "stream",
     "text": [
      "[I 2023-10-10 20:21:34,258] Trial 41 finished with value: 0.29937612265348434 and parameters: {'lr': 9.947893349857634e-05, 'dropout_prob': 0.0016529390371781416, 'force_n_layers': 3, 'force_kernel_size': 3, 'force_stride': 5, 'force_padding': 6, 'force_hidden_channels': 128, 'force_pooling_type': 'avg', 'force_use_batch_norm': True, 'acc_n_layers': 4, 'acc_kernel_size': 9, 'acc_stride': 4, 'acc_padding': 7, 'acc_hidden_channels': 144, 'acc_pooling_type': 'max', 'acc_use_batch_norm': True}. Best is trial 27 with value: 0.2857280597090721.\n"
     ]
    },
    {
     "name": "stdout",
     "output_type": "stream",
     "text": [
      "Epoch 50/50, Training Loss: 0.21733208000659943, Validation Loss: 0.29937612265348434\n",
      "Epoch 10/50, Training Loss: 0.5435892045497894, Validation Loss: 0.5285983234643936\n",
      "Epoch 20/50, Training Loss: 0.3629252687096596, Validation Loss: 0.3844522088766098\n",
      "Epoch 30/50, Training Loss: 0.28565856721252203, Validation Loss: 0.33835402876138687\n",
      "Epoch 40/50, Training Loss: 0.249509084969759, Validation Loss: 0.3154625818133354\n"
     ]
    },
    {
     "name": "stderr",
     "output_type": "stream",
     "text": [
      "[I 2023-10-10 20:22:04,339] Trial 42 finished with value: 0.29471852630376816 and parameters: {'lr': 9.54770726095787e-05, 'dropout_prob': 0.03279865910246166, 'force_n_layers': 2, 'force_kernel_size': 3, 'force_stride': 5, 'force_padding': 6, 'force_hidden_channels': 134, 'force_pooling_type': 'avg', 'force_use_batch_norm': True, 'acc_n_layers': 4, 'acc_kernel_size': 9, 'acc_stride': 3, 'acc_padding': 8, 'acc_hidden_channels': 110, 'acc_pooling_type': 'max', 'acc_use_batch_norm': True}. Best is trial 27 with value: 0.2857280597090721.\n"
     ]
    },
    {
     "name": "stdout",
     "output_type": "stream",
     "text": [
      "Epoch 50/50, Training Loss: 0.21097437292337418, Validation Loss: 0.29471852630376816\n",
      "Epoch 10/50, Training Loss: 0.6115543060004711, Validation Loss: 0.6153581440448761\n",
      "Epoch 20/50, Training Loss: 0.42233764939010143, Validation Loss: 0.4272001311182976\n",
      "Epoch 30/50, Training Loss: 0.3431537579745054, Validation Loss: 0.3676973953843117\n",
      "Epoch 40/50, Training Loss: 0.2830344084650278, Validation Loss: 0.3366962745785713\n"
     ]
    },
    {
     "name": "stderr",
     "output_type": "stream",
     "text": [
      "[I 2023-10-10 20:22:33,296] Trial 43 finished with value: 0.31481531262397766 and parameters: {'lr': 8.17697436261255e-05, 'dropout_prob': 0.003963452990303151, 'force_n_layers': 2, 'force_kernel_size': 3, 'force_stride': 5, 'force_padding': 6, 'force_hidden_channels': 134, 'force_pooling_type': 'avg', 'force_use_batch_norm': True, 'acc_n_layers': 4, 'acc_kernel_size': 9, 'acc_stride': 3, 'acc_padding': 6, 'acc_hidden_channels': 109, 'acc_pooling_type': 'max', 'acc_use_batch_norm': True}. Best is trial 27 with value: 0.2857280597090721.\n"
     ]
    },
    {
     "name": "stdout",
     "output_type": "stream",
     "text": [
      "Epoch 50/50, Training Loss: 0.25137022882699966, Validation Loss: 0.31481531262397766\n",
      "Epoch 10/50, Training Loss: 0.5043845921754837, Validation Loss: 0.4910002276301384\n",
      "Epoch 20/50, Training Loss: 0.35468790121376514, Validation Loss: 0.3678993284702301\n",
      "Epoch 30/50, Training Loss: 0.2873439621180296, Validation Loss: 0.3298639878630638\n",
      "Epoch 40/50, Training Loss: 0.24878236930817366, Validation Loss: 0.31305672228336334\n"
     ]
    },
    {
     "name": "stderr",
     "output_type": "stream",
     "text": [
      "[I 2023-10-10 20:23:04,792] Trial 44 finished with value: 0.29038960486650467 and parameters: {'lr': 0.00011708383424539609, 'dropout_prob': 0.03639240531982399, 'force_n_layers': 3, 'force_kernel_size': 4, 'force_stride': 5, 'force_padding': 7, 'force_hidden_channels': 166, 'force_pooling_type': 'avg', 'force_use_batch_norm': True, 'acc_n_layers': 4, 'acc_kernel_size': 9, 'acc_stride': 3, 'acc_padding': 9, 'acc_hidden_channels': 102, 'acc_pooling_type': 'max', 'acc_use_batch_norm': True}. Best is trial 27 with value: 0.2857280597090721.\n"
     ]
    },
    {
     "name": "stdout",
     "output_type": "stream",
     "text": [
      "Epoch 50/50, Training Loss: 0.20858643762767315, Validation Loss: 0.29038960486650467\n",
      "Epoch 10/50, Training Loss: 0.5823539942502975, Validation Loss: 0.5837851613759995\n",
      "Epoch 20/50, Training Loss: 0.4116521216928959, Validation Loss: 0.4261792227625847\n",
      "Epoch 30/50, Training Loss: 0.3283360851928592, Validation Loss: 0.36841173470020294\n",
      "Epoch 40/50, Training Loss: 0.29375981725752354, Validation Loss: 0.3439000993967056\n"
     ]
    },
    {
     "name": "stderr",
     "output_type": "stream",
     "text": [
      "[I 2023-10-10 20:23:36,023] Trial 45 finished with value: 0.3285468891263008 and parameters: {'lr': 0.0002040995868353125, 'dropout_prob': 0.0367909147183402, 'force_n_layers': 4, 'force_kernel_size': 4, 'force_stride': 4, 'force_padding': 8, 'force_hidden_channels': 160, 'force_pooling_type': 'avg', 'force_use_batch_norm': True, 'acc_n_layers': 3, 'acc_kernel_size': 9, 'acc_stride': 3, 'acc_padding': 9, 'acc_hidden_channels': 95, 'acc_pooling_type': 'avg', 'acc_use_batch_norm': True}. Best is trial 27 with value: 0.2857280597090721.\n"
     ]
    },
    {
     "name": "stdout",
     "output_type": "stream",
     "text": [
      "Epoch 50/50, Training Loss: 0.2619078541174531, Validation Loss: 0.3285468891263008\n",
      "Epoch 10/50, Training Loss: 0.6264412142336369, Validation Loss: 0.6278150826692581\n",
      "Epoch 20/50, Training Loss: 0.5122717972844839, Validation Loss: 0.497615784406662\n",
      "Epoch 30/50, Training Loss: 0.41023519821465015, Validation Loss: 0.42364872992038727\n",
      "Epoch 40/50, Training Loss: 0.36258309334516525, Validation Loss: 0.38527747243642807\n"
     ]
    },
    {
     "name": "stderr",
     "output_type": "stream",
     "text": [
      "[I 2023-10-10 20:24:04,105] Trial 46 finished with value: 0.35988152027130127 and parameters: {'lr': 6.830504690153782e-05, 'dropout_prob': 0.053940486698383125, 'force_n_layers': 2, 'force_kernel_size': 4, 'force_stride': 5, 'force_padding': 7, 'force_hidden_channels': 204, 'force_pooling_type': 'avg', 'force_use_batch_norm': True, 'acc_n_layers': 4, 'acc_kernel_size': 8, 'acc_stride': 3, 'acc_padding': 9, 'acc_hidden_channels': 85, 'acc_pooling_type': 'max', 'acc_use_batch_norm': True}. Best is trial 27 with value: 0.2857280597090721.\n"
     ]
    },
    {
     "name": "stdout",
     "output_type": "stream",
     "text": [
      "Epoch 50/50, Training Loss: 0.33297494053840637, Validation Loss: 0.35988152027130127\n",
      "Epoch 10/50, Training Loss: 0.4226933941245079, Validation Loss: 0.42307446897029877\n",
      "Epoch 20/50, Training Loss: 0.30857450887560844, Validation Loss: 0.36471202969551086\n",
      "Epoch 30/50, Training Loss: 0.2595065841451287, Validation Loss: 0.3398042246699333\n",
      "Epoch 40/50, Training Loss: 0.2077689068391919, Validation Loss: 0.32893049716949463\n"
     ]
    },
    {
     "name": "stderr",
     "output_type": "stream",
     "text": [
      "[I 2023-10-10 20:24:58,205] Trial 47 finished with value: 0.3284110575914383 and parameters: {'lr': 0.0001310351433726821, 'dropout_prob': 0.026478846501611815, 'force_n_layers': 3, 'force_kernel_size': 3, 'force_stride': 5, 'force_padding': 8, 'force_hidden_channels': 166, 'force_pooling_type': 'avg', 'force_use_batch_norm': True, 'acc_n_layers': 4, 'acc_kernel_size': 8, 'acc_stride': 2, 'acc_padding': 10, 'acc_hidden_channels': 124, 'acc_pooling_type': 'max', 'acc_use_batch_norm': True}. Best is trial 27 with value: 0.2857280597090721.\n"
     ]
    },
    {
     "name": "stdout",
     "output_type": "stream",
     "text": [
      "Epoch 50/50, Training Loss: 0.17240017419680953, Validation Loss: 0.3284110575914383\n",
      "Epoch 10/50, Training Loss: 0.5937075614929199, Validation Loss: 0.5951385796070099\n",
      "Epoch 20/50, Training Loss: 0.3979310914874077, Validation Loss: 0.4063338413834572\n",
      "Epoch 30/50, Training Loss: 0.3204266335815191, Validation Loss: 0.3672405332326889\n",
      "Epoch 40/50, Training Loss: 0.2834008987993002, Validation Loss: 0.3456628546118736\n"
     ]
    },
    {
     "name": "stderr",
     "output_type": "stream",
     "text": [
      "[I 2023-10-10 20:25:19,017] Trial 48 finished with value: 0.3336704969406128 and parameters: {'lr': 0.00032555859126976746, 'dropout_prob': 0.07693720464448534, 'force_n_layers': 2, 'force_kernel_size': 4, 'force_stride': 4, 'force_padding': 5, 'force_hidden_channels': 142, 'force_pooling_type': 'avg', 'force_use_batch_norm': True, 'acc_n_layers': 3, 'acc_kernel_size': 9, 'acc_stride': 3, 'acc_padding': 8, 'acc_hidden_channels': 57, 'acc_pooling_type': 'avg', 'acc_use_batch_norm': True}. Best is trial 27 with value: 0.2857280597090721.\n"
     ]
    },
    {
     "name": "stdout",
     "output_type": "stream",
     "text": [
      "Epoch 50/50, Training Loss: 0.2513780789449811, Validation Loss: 0.3336704969406128\n",
      "Epoch 10/50, Training Loss: 0.49704330042004585, Validation Loss: 0.4739791750907898\n",
      "Epoch 20/50, Training Loss: 0.3346920721232891, Validation Loss: 0.35125943273305893\n",
      "Epoch 30/50, Training Loss: 0.2639042818918824, Validation Loss: 0.3198254480957985\n",
      "Epoch 40/50, Training Loss: 0.2267380803823471, Validation Loss: 0.3209774047136307\n"
     ]
    },
    {
     "name": "stderr",
     "output_type": "stream",
     "text": [
      "[I 2023-10-10 20:26:18,845] Trial 49 finished with value: 0.298622690141201 and parameters: {'lr': 0.00010685839303174955, 'dropout_prob': 0.1072684859565735, 'force_n_layers': 3, 'force_kernel_size': 4, 'force_stride': 6, 'force_padding': 7, 'force_hidden_channels': 177, 'force_pooling_type': 'avg', 'force_use_batch_norm': True, 'acc_n_layers': 5, 'acc_kernel_size': 8, 'acc_stride': 2, 'acc_padding': 9, 'acc_hidden_channels': 123, 'acc_pooling_type': 'max', 'acc_use_batch_norm': True}. Best is trial 27 with value: 0.2857280597090721.\n"
     ]
    },
    {
     "name": "stdout",
     "output_type": "stream",
     "text": [
      "Epoch 50/50, Training Loss: 0.18469670927152038, Validation Loss: 0.298622690141201\n",
      "Epoch 10/50, Training Loss: 0.6461694613099098, Validation Loss: 0.649789959192276\n",
      "Epoch 20/50, Training Loss: 0.6169593222439289, Validation Loss: 0.6243510693311691\n",
      "Epoch 30/50, Training Loss: 0.5908376909792423, Validation Loss: 0.6010997742414474\n",
      "Epoch 40/50, Training Loss: 0.5617892853915691, Validation Loss: 0.5741136968135834\n"
     ]
    },
    {
     "name": "stderr",
     "output_type": "stream",
     "text": [
      "[I 2023-10-10 20:26:41,690] Trial 50 finished with value: 0.543992355465889 and parameters: {'lr': 4.715948426454673e-05, 'dropout_prob': 0.06093949306957369, 'force_n_layers': 2, 'force_kernel_size': 3, 'force_stride': 5, 'force_padding': 6, 'force_hidden_channels': 198, 'force_pooling_type': 'avg', 'force_use_batch_norm': True, 'acc_n_layers': 2, 'acc_kernel_size': 9, 'acc_stride': 3, 'acc_padding': 3, 'acc_hidden_channels': 92, 'acc_pooling_type': 'max', 'acc_use_batch_norm': True}. Best is trial 27 with value: 0.2857280597090721.\n"
     ]
    },
    {
     "name": "stdout",
     "output_type": "stream",
     "text": [
      "Epoch 50/50, Training Loss: 0.5291357077658176, Validation Loss: 0.543992355465889\n",
      "Epoch 10/50, Training Loss: 0.4441039636731148, Validation Loss: 0.4325575679540634\n",
      "Epoch 20/50, Training Loss: 0.32701890729367733, Validation Loss: 0.3463662415742874\n",
      "Epoch 30/50, Training Loss: 0.2688968535512686, Validation Loss: 0.3167365565896034\n",
      "Epoch 40/50, Training Loss: 0.22635063249617815, Validation Loss: 0.30304380506277084\n"
     ]
    },
    {
     "name": "stderr",
     "output_type": "stream",
     "text": [
      "[I 2023-10-10 20:27:50,236] Trial 51 finished with value: 0.2892359793186188 and parameters: {'lr': 0.00010435440914274624, 'dropout_prob': 0.09561168085709892, 'force_n_layers': 5, 'force_kernel_size': 4, 'force_stride': 6, 'force_padding': 7, 'force_hidden_channels': 175, 'force_pooling_type': 'avg', 'force_use_batch_norm': True, 'acc_n_layers': 5, 'acc_kernel_size': 8, 'acc_stride': 2, 'acc_padding': 9, 'acc_hidden_channels': 127, 'acc_pooling_type': 'max', 'acc_use_batch_norm': True}. Best is trial 27 with value: 0.2857280597090721.\n"
     ]
    },
    {
     "name": "stdout",
     "output_type": "stream",
     "text": [
      "Epoch 50/50, Training Loss: 0.18600862845778465, Validation Loss: 0.2892359793186188\n",
      "Epoch 10/50, Training Loss: 0.6263411194086075, Validation Loss: 0.6323046386241913\n",
      "Epoch 20/50, Training Loss: 0.47269705682992935, Validation Loss: 0.4654635339975357\n",
      "Epoch 30/50, Training Loss: 0.37300892174243927, Validation Loss: 0.3851878494024277\n",
      "Epoch 40/50, Training Loss: 0.3280522804707289, Validation Loss: 0.35484324395656586\n"
     ]
    },
    {
     "name": "stderr",
     "output_type": "stream",
     "text": [
      "[I 2023-10-10 20:28:30,805] Trial 52 finished with value: 0.3361358642578125 and parameters: {'lr': 6.908535770324758e-05, 'dropout_prob': 0.10817452345199852, 'force_n_layers': 5, 'force_kernel_size': 5, 'force_stride': 6, 'force_padding': 7, 'force_hidden_channels': 152, 'force_pooling_type': 'avg', 'force_use_batch_norm': True, 'acc_n_layers': 4, 'acc_kernel_size': 8, 'acc_stride': 2, 'acc_padding': 9, 'acc_hidden_channels': 78, 'acc_pooling_type': 'max', 'acc_use_batch_norm': True}. Best is trial 27 with value: 0.2857280597090721.\n"
     ]
    },
    {
     "name": "stdout",
     "output_type": "stream",
     "text": [
      "Epoch 50/50, Training Loss: 0.3022910635918379, Validation Loss: 0.3361358642578125\n",
      "Epoch 10/50, Training Loss: 0.3823979217559099, Validation Loss: 0.4067392349243164\n",
      "Epoch 20/50, Training Loss: 0.24346932489424944, Validation Loss: 0.3391096144914627\n",
      "Epoch 30/50, Training Loss: 0.17202966753393412, Validation Loss: 0.2899475321173668\n",
      "Epoch 40/50, Training Loss: 0.12104209279641509, Validation Loss: 0.31736423820257187\n"
     ]
    },
    {
     "name": "stderr",
     "output_type": "stream",
     "text": [
      "[I 2023-10-10 20:29:24,963] Trial 53 finished with value: 0.36503002792596817 and parameters: {'lr': 0.00024120469399814735, 'dropout_prob': 0.04278684290649636, 'force_n_layers': 5, 'force_kernel_size': 4, 'force_stride': 7, 'force_padding': 8, 'force_hidden_channels': 169, 'force_pooling_type': 'avg', 'force_use_batch_norm': True, 'acc_n_layers': 5, 'acc_kernel_size': 8, 'acc_stride': 3, 'acc_padding': 10, 'acc_hidden_channels': 132, 'acc_pooling_type': 'max', 'acc_use_batch_norm': True}. Best is trial 27 with value: 0.2857280597090721.\n"
     ]
    },
    {
     "name": "stdout",
     "output_type": "stream",
     "text": [
      "Epoch 50/50, Training Loss: 0.087169851642102, Validation Loss: 0.36503002792596817\n",
      "Epoch 10/50, Training Loss: 0.4957098364830017, Validation Loss: 0.48548930138349533\n",
      "Epoch 20/50, Training Loss: 0.3458717167377472, Validation Loss: 0.36855900287628174\n",
      "Epoch 30/50, Training Loss: 0.28781115263700485, Validation Loss: 0.3426492363214493\n",
      "Epoch 40/50, Training Loss: 0.253133412450552, Validation Loss: 0.33003760874271393\n"
     ]
    },
    {
     "name": "stderr",
     "output_type": "stream",
     "text": [
      "[I 2023-10-10 20:30:26,141] Trial 54 finished with value: 0.32616564631462097 and parameters: {'lr': 0.00011449053632089119, 'dropout_prob': 0.08487586302788946, 'force_n_layers': 6, 'force_kernel_size': 3, 'force_stride': 6, 'force_padding': 6, 'force_hidden_channels': 195, 'force_pooling_type': 'avg', 'force_use_batch_norm': True, 'acc_n_layers': 4, 'acc_kernel_size': 7, 'acc_stride': 2, 'acc_padding': 8, 'acc_hidden_channels': 112, 'acc_pooling_type': 'max', 'acc_use_batch_norm': True}. Best is trial 27 with value: 0.2857280597090721.\n"
     ]
    },
    {
     "name": "stdout",
     "output_type": "stream",
     "text": [
      "Epoch 50/50, Training Loss: 0.2207640465348959, Validation Loss: 0.32616564631462097\n"
     ]
    },
    {
     "name": "stderr",
     "output_type": "stream",
     "text": [
      "[I 2023-10-10 20:30:27,531] Trial 55 finished with value: 1.0 and parameters: {'lr': 0.00018796838190604262, 'dropout_prob': 0.1180924862396816, 'force_n_layers': 4, 'force_kernel_size': 4, 'force_stride': 5, 'force_padding': 5, 'force_hidden_channels': 214, 'force_pooling_type': 'avg', 'force_use_batch_norm': True, 'acc_n_layers': 5, 'acc_kernel_size': 9, 'acc_stride': 3, 'acc_padding': 1, 'acc_hidden_channels': 100, 'acc_pooling_type': 'max', 'acc_use_batch_norm': True}. Best is trial 27 with value: 0.2857280597090721.\n"
     ]
    },
    {
     "name": "stdout",
     "output_type": "stream",
     "text": [
      "Trial failed with error: Calculated padded input size per channel: (8). Kernel size: (9). Kernel size can't be greater than actual input size\n",
      "Epoch 10/50, Training Loss: 0.6239113584160805, Validation Loss: 0.633622020483017\n",
      "Epoch 20/50, Training Loss: 0.4520861320197582, Validation Loss: 0.4553166553378105\n",
      "Epoch 30/50, Training Loss: 0.39544061571359634, Validation Loss: 0.41101688146591187\n",
      "Epoch 40/50, Training Loss: 0.36457020975649357, Validation Loss: 0.37912214547395706\n"
     ]
    },
    {
     "name": "stderr",
     "output_type": "stream",
     "text": [
      "[I 2023-10-10 20:31:41,611] Trial 56 finished with value: 0.35977766662836075 and parameters: {'lr': 0.0001427012573565776, 'dropout_prob': 0.02308600870277775, 'force_n_layers': 6, 'force_kernel_size': 5, 'force_stride': 4, 'force_padding': 9, 'force_hidden_channels': 189, 'force_pooling_type': 'avg', 'force_use_batch_norm': True, 'acc_n_layers': 4, 'acc_kernel_size': 7, 'acc_stride': 3, 'acc_padding': 9, 'acc_hidden_channels': 141, 'acc_pooling_type': 'avg', 'acc_use_batch_norm': False}. Best is trial 27 with value: 0.2857280597090721.\n"
     ]
    },
    {
     "name": "stdout",
     "output_type": "stream",
     "text": [
      "Epoch 50/50, Training Loss: 0.33094446640461683, Validation Loss: 0.35977766662836075\n",
      "Epoch 10/50, Training Loss: 0.5103401094675064, Validation Loss: 0.5054797977209091\n",
      "Epoch 20/50, Training Loss: 0.4051774963736534, Validation Loss: 0.41452617943286896\n",
      "Epoch 30/50, Training Loss: 0.3292331136763096, Validation Loss: 0.3666869103908539\n",
      "Epoch 40/50, Training Loss: 0.2813702914863825, Validation Loss: 0.340201735496521\n"
     ]
    },
    {
     "name": "stderr",
     "output_type": "stream",
     "text": [
      "[I 2023-10-10 20:32:45,096] Trial 57 finished with value: 0.3244610130786896 and parameters: {'lr': 8.877229665167123e-05, 'dropout_prob': 0.07716284081981914, 'force_n_layers': 7, 'force_kernel_size': 3, 'force_stride': 7, 'force_padding': 7, 'force_hidden_channels': 120, 'force_pooling_type': 'avg', 'force_use_batch_norm': True, 'acc_n_layers': 3, 'acc_kernel_size': 9, 'acc_stride': 2, 'acc_padding': 8, 'acc_hidden_channels': 155, 'acc_pooling_type': 'max', 'acc_use_batch_norm': True}. Best is trial 27 with value: 0.2857280597090721.\n"
     ]
    },
    {
     "name": "stdout",
     "output_type": "stream",
     "text": [
      "Epoch 50/50, Training Loss: 0.24361344892531633, Validation Loss: 0.3244610130786896\n",
      "Epoch 10/50, Training Loss: 0.3565158788114786, Validation Loss: 0.3616226017475128\n",
      "Epoch 20/50, Training Loss: 0.26534582674503326, Validation Loss: 0.32124847918748856\n",
      "Epoch 30/50, Training Loss: 0.18931024428457022, Validation Loss: 0.3174915909767151\n",
      "Epoch 40/50, Training Loss: 0.1296780020929873, Validation Loss: 0.32533013820648193\n"
     ]
    },
    {
     "name": "stderr",
     "output_type": "stream",
     "text": [
      "[I 2023-10-10 20:35:09,703] Trial 58 finished with value: 0.35642972588539124 and parameters: {'lr': 0.0002561061900748591, 'dropout_prob': 0.09241685742852951, 'force_n_layers': 2, 'force_kernel_size': 4, 'force_stride': 5, 'force_padding': 4, 'force_hidden_channels': 146, 'force_pooling_type': 'avg', 'force_use_batch_norm': True, 'acc_n_layers': 5, 'acc_kernel_size': 8, 'acc_stride': 1, 'acc_padding': 10, 'acc_hidden_channels': 116, 'acc_pooling_type': 'max', 'acc_use_batch_norm': True}. Best is trial 27 with value: 0.2857280597090721.\n"
     ]
    },
    {
     "name": "stdout",
     "output_type": "stream",
     "text": [
      "Epoch 50/50, Training Loss: 0.10394746018573642, Validation Loss: 0.35642972588539124\n",
      "Epoch 10/50, Training Loss: 0.6113276705145836, Validation Loss: 0.6147411614656448\n",
      "Epoch 20/50, Training Loss: 0.46202838607132435, Validation Loss: 0.45853497087955475\n",
      "Epoch 30/50, Training Loss: 0.3800390288233757, Validation Loss: 0.3972764015197754\n",
      "Epoch 40/50, Training Loss: 0.33156998455524445, Validation Loss: 0.36190031468868256\n"
     ]
    },
    {
     "name": "stderr",
     "output_type": "stream",
     "text": [
      "[I 2023-10-10 20:36:11,391] Trial 59 finished with value: 0.3380226790904999 and parameters: {'lr': 3.883985183611201e-05, 'dropout_prob': 0.05450114179505555, 'force_n_layers': 4, 'force_kernel_size': 3, 'force_stride': 6, 'force_padding': 5, 'force_hidden_channels': 110, 'force_pooling_type': 'max', 'force_use_batch_norm': False, 'acc_n_layers': 4, 'acc_kernel_size': 8, 'acc_stride': 3, 'acc_padding': 8, 'acc_hidden_channels': 168, 'acc_pooling_type': 'max', 'acc_use_batch_norm': True}. Best is trial 27 with value: 0.2857280597090721.\n"
     ]
    },
    {
     "name": "stdout",
     "output_type": "stream",
     "text": [
      "Epoch 50/50, Training Loss: 0.2971126502379775, Validation Loss: 0.3380226790904999\n",
      "Epoch 10/50, Training Loss: 0.5932709351181984, Validation Loss: 0.6002405881881714\n",
      "Epoch 20/50, Training Loss: 0.482924347743392, Validation Loss: 0.48654650896787643\n",
      "Epoch 30/50, Training Loss: 0.42690329626202583, Validation Loss: 0.43970563262701035\n",
      "Epoch 40/50, Training Loss: 0.3933430574834347, Validation Loss: 0.41556516289711\n"
     ]
    },
    {
     "name": "stderr",
     "output_type": "stream",
     "text": [
      "[I 2023-10-10 20:38:13,339] Trial 60 finished with value: 0.4027782082557678 and parameters: {'lr': 6.545277762147314e-05, 'dropout_prob': 0.13137624017880128, 'force_n_layers': 3, 'force_kernel_size': 6, 'force_stride': 3, 'force_padding': 8, 'force_hidden_channels': 238, 'force_pooling_type': 'max', 'force_use_batch_norm': False, 'acc_n_layers': 3, 'acc_kernel_size': 7, 'acc_stride': 2, 'acc_padding': 7, 'acc_hidden_channels': 247, 'acc_pooling_type': 'avg', 'acc_use_batch_norm': False}. Best is trial 27 with value: 0.2857280597090721.\n"
     ]
    },
    {
     "name": "stdout",
     "output_type": "stream",
     "text": [
      "Epoch 50/50, Training Loss: 0.37421407736837864, Validation Loss: 0.4027782082557678\n",
      "Epoch 10/50, Training Loss: 0.4418903887271881, Validation Loss: 0.4300443083047867\n",
      "Epoch 20/50, Training Loss: 0.30585634894669056, Validation Loss: 0.33510705828666687\n",
      "Epoch 30/50, Training Loss: 0.24410489667207003, Validation Loss: 0.3022755905985832\n",
      "Epoch 40/50, Training Loss: 0.195191846229136, Validation Loss: 0.28026581555604935\n"
     ]
    },
    {
     "name": "stderr",
     "output_type": "stream",
     "text": [
      "[I 2023-10-10 20:39:23,987] Trial 61 finished with value: 0.2779429852962494 and parameters: {'lr': 0.00012570639491887444, 'dropout_prob': 0.10611166672053318, 'force_n_layers': 3, 'force_kernel_size': 5, 'force_stride': 6, 'force_padding': 7, 'force_hidden_channels': 172, 'force_pooling_type': 'avg', 'force_use_batch_norm': True, 'acc_n_layers': 5, 'acc_kernel_size': 8, 'acc_stride': 2, 'acc_padding': 9, 'acc_hidden_channels': 120, 'acc_pooling_type': 'max', 'acc_use_batch_norm': True}. Best is trial 61 with value: 0.2779429852962494.\n"
     ]
    },
    {
     "name": "stdout",
     "output_type": "stream",
     "text": [
      "Epoch 50/50, Training Loss: 0.16450770385563374, Validation Loss: 0.2779429852962494\n",
      "Epoch 10/50, Training Loss: 0.4186248145997524, Validation Loss: 0.4226057231426239\n",
      "Epoch 20/50, Training Loss: 0.2978868167847395, Validation Loss: 0.3341003656387329\n",
      "Epoch 30/50, Training Loss: 0.22616400755941868, Validation Loss: 0.30731862038373947\n",
      "Epoch 40/50, Training Loss: 0.18875902704894543, Validation Loss: 0.3634841665625572\n"
     ]
    },
    {
     "name": "stderr",
     "output_type": "stream",
     "text": [
      "[I 2023-10-10 20:40:43,063] Trial 62 finished with value: 0.3010484613478184 and parameters: {'lr': 0.00013779947123823566, 'dropout_prob': 0.1029486910890239, 'force_n_layers': 3, 'force_kernel_size': 5, 'force_stride': 6, 'force_padding': 6, 'force_hidden_channels': 174, 'force_pooling_type': 'avg', 'force_use_batch_norm': True, 'acc_n_layers': 5, 'acc_kernel_size': 8, 'acc_stride': 2, 'acc_padding': 9, 'acc_hidden_channels': 137, 'acc_pooling_type': 'max', 'acc_use_batch_norm': True}. Best is trial 61 with value: 0.2779429852962494.\n"
     ]
    },
    {
     "name": "stdout",
     "output_type": "stream",
     "text": [
      "Epoch 50/50, Training Loss: 0.14971874235197902, Validation Loss: 0.3010484613478184\n",
      "Epoch 10/50, Training Loss: 0.6340523697435856, Validation Loss: 0.64139823615551\n",
      "Epoch 20/50, Training Loss: 0.6219600178301334, Validation Loss: 0.6244484037160873\n",
      "Epoch 30/50, Training Loss: 0.44696772657334805, Validation Loss: 0.45127709209918976\n",
      "Epoch 40/50, Training Loss: 0.3895455300807953, Validation Loss: 0.39031825214624405\n"
     ]
    },
    {
     "name": "stderr",
     "output_type": "stream",
     "text": [
      "[I 2023-10-10 20:41:20,848] Trial 63 finished with value: 0.34358323365449905 and parameters: {'lr': 8.718775376132127e-05, 'dropout_prob': 0.11748612246590028, 'force_n_layers': 2, 'force_kernel_size': 5, 'force_stride': 6, 'force_padding': 7, 'force_hidden_channels': 159, 'force_pooling_type': 'avg', 'force_use_batch_norm': True, 'acc_n_layers': 6, 'acc_kernel_size': 7, 'acc_stride': 3, 'acc_padding': 9, 'acc_hidden_channels': 105, 'acc_pooling_type': 'max', 'acc_use_batch_norm': True}. Best is trial 61 with value: 0.2779429852962494.\n"
     ]
    },
    {
     "name": "stdout",
     "output_type": "stream",
     "text": [
      "Epoch 50/50, Training Loss: 0.32387892343103886, Validation Loss: 0.34358323365449905\n",
      "Epoch 10/50, Training Loss: 0.32058965042233467, Validation Loss: 0.37650781124830246\n",
      "Epoch 20/50, Training Loss: 0.2375724446028471, Validation Loss: 0.329185388982296\n",
      "Epoch 30/50, Training Loss: 0.15494118444621563, Validation Loss: 0.31445448473095894\n",
      "Epoch 40/50, Training Loss: 0.11285956902429461, Validation Loss: 0.3301742263138294\n"
     ]
    },
    {
     "name": "stderr",
     "output_type": "stream",
     "text": [
      "[I 2023-10-10 20:44:53,790] Trial 64 finished with value: 0.37278685718774796 and parameters: {'lr': 0.00016239719711878977, 'dropout_prob': 0.07220873487004466, 'force_n_layers': 5, 'force_kernel_size': 4, 'force_stride': 6, 'force_padding': 6, 'force_hidden_channels': 137, 'force_pooling_type': 'avg', 'force_use_batch_norm': True, 'acc_n_layers': 4, 'acc_kernel_size': 9, 'acc_stride': 1, 'acc_padding': 4, 'acc_hidden_channels': 204, 'acc_pooling_type': 'max', 'acc_use_batch_norm': True}. Best is trial 61 with value: 0.2779429852962494.\n"
     ]
    },
    {
     "name": "stdout",
     "output_type": "stream",
     "text": [
      "Epoch 50/50, Training Loss: 0.07482001069001853, Validation Loss: 0.37278685718774796\n"
     ]
    },
    {
     "name": "stderr",
     "output_type": "stream",
     "text": [
      "[I 2023-10-10 20:44:55,255] Trial 65 finished with value: 1.0 and parameters: {'lr': 0.00020469367059819895, 'dropout_prob': 0.04480650298650108, 'force_n_layers': 2, 'force_kernel_size': 5, 'force_stride': 7, 'force_padding': 8, 'force_hidden_channels': 121, 'force_pooling_type': 'avg', 'force_use_batch_norm': True, 'acc_n_layers': 5, 'acc_kernel_size': 8, 'acc_stride': 2, 'acc_padding': 2, 'acc_hidden_channels': 117, 'acc_pooling_type': 'max', 'acc_use_batch_norm': True}. Best is trial 61 with value: 0.2779429852962494.\n"
     ]
    },
    {
     "name": "stdout",
     "output_type": "stream",
     "text": [
      "Trial failed with error: max_pool1d() Invalid computed output size: 0\n",
      "Epoch 10/50, Training Loss: 0.4017960298806429, Validation Loss: 0.41441430896520615\n",
      "Epoch 20/50, Training Loss: 0.2836005846038461, Validation Loss: 0.3527549058198929\n",
      "Epoch 30/50, Training Loss: 0.2170294225215912, Validation Loss: 0.3116926848888397\n",
      "Epoch 40/50, Training Loss: 0.17465370520949364, Validation Loss: 0.2856653407216072\n"
     ]
    },
    {
     "name": "stderr",
     "output_type": "stream",
     "text": [
      "[I 2023-10-10 20:45:56,834] Trial 66 finished with value: 0.2850278653204441 and parameters: {'lr': 9.6284750084683e-05, 'dropout_prob': 0.13611772859210994, 'force_n_layers': 3, 'force_kernel_size': 4, 'force_stride': 5, 'force_padding': 7, 'force_hidden_channels': 182, 'force_pooling_type': 'max', 'force_use_batch_norm': False, 'acc_n_layers': 4, 'acc_kernel_size': 9, 'acc_stride': 3, 'acc_padding': 8, 'acc_hidden_channels': 220, 'acc_pooling_type': 'max', 'acc_use_batch_norm': True}. Best is trial 61 with value: 0.2779429852962494.\n"
     ]
    },
    {
     "name": "stdout",
     "output_type": "stream",
     "text": [
      "Epoch 50/50, Training Loss: 0.1372872432693839, Validation Loss: 0.2850278653204441\n",
      "Epoch 10/50, Training Loss: 0.5928373709321022, Validation Loss: 0.5853456556797028\n",
      "Epoch 20/50, Training Loss: 0.38039503805339336, Validation Loss: 0.3913862556219101\n",
      "Epoch 30/50, Training Loss: 0.31622543558478355, Validation Loss: 0.3455790653824806\n",
      "Epoch 40/50, Training Loss: 0.2644577622413635, Validation Loss: 0.30933762341737747\n"
     ]
    },
    {
     "name": "stderr",
     "output_type": "stream",
     "text": [
      "[I 2023-10-10 20:46:53,664] Trial 67 finished with value: 0.29309259355068207 and parameters: {'lr': 5.8173508621256406e-05, 'dropout_prob': 0.09099425870144104, 'force_n_layers': 3, 'force_kernel_size': 4, 'force_stride': 5, 'force_padding': 7, 'force_hidden_channels': 187, 'force_pooling_type': 'max', 'force_use_batch_norm': False, 'acc_n_layers': 5, 'acc_kernel_size': 9, 'acc_stride': 2, 'acc_padding': 8, 'acc_hidden_channels': 131, 'acc_pooling_type': 'max', 'acc_use_batch_norm': True}. Best is trial 61 with value: 0.2779429852962494.\n"
     ]
    },
    {
     "name": "stdout",
     "output_type": "stream",
     "text": [
      "Epoch 50/50, Training Loss: 0.24366823304444551, Validation Loss: 0.29309259355068207\n",
      "Epoch 10/50, Training Loss: 0.46371434442698956, Validation Loss: 0.45042162388563156\n",
      "Epoch 20/50, Training Loss: 0.320547541603446, Validation Loss: 0.33720655739307404\n",
      "Epoch 30/50, Training Loss: 0.24651663936674595, Validation Loss: 0.3100588992238045\n",
      "Epoch 40/50, Training Loss: 0.20445080287754536, Validation Loss: 0.29204364866018295\n"
     ]
    },
    {
     "name": "stderr",
     "output_type": "stream",
     "text": [
      "[I 2023-10-10 20:48:28,227] Trial 68 finished with value: 0.281325314193964 and parameters: {'lr': 6.011975764375712e-05, 'dropout_prob': 0.13984788654064306, 'force_n_layers': 4, 'force_kernel_size': 4, 'force_stride': 4, 'force_padding': 7, 'force_hidden_channels': 182, 'force_pooling_type': 'max', 'force_use_batch_norm': False, 'acc_n_layers': 5, 'acc_kernel_size': 9, 'acc_stride': 2, 'acc_padding': 8, 'acc_hidden_channels': 222, 'acc_pooling_type': 'max', 'acc_use_batch_norm': True}. Best is trial 61 with value: 0.2779429852962494.\n"
     ]
    },
    {
     "name": "stdout",
     "output_type": "stream",
     "text": [
      "Epoch 50/50, Training Loss: 0.16612808126956224, Validation Loss: 0.281325314193964\n",
      "Epoch 10/50, Training Loss: 0.4253645557910204, Validation Loss: 0.4297887161374092\n",
      "Epoch 20/50, Training Loss: 0.382760563865304, Validation Loss: 0.4089018628001213\n",
      "Epoch 30/50, Training Loss: 0.34113723412156105, Validation Loss: 0.3904668465256691\n",
      "Epoch 40/50, Training Loss: 0.31535214744508266, Validation Loss: 0.3831709772348404\n"
     ]
    },
    {
     "name": "stderr",
     "output_type": "stream",
     "text": [
      "[I 2023-10-10 20:53:54,618] Trial 69 finished with value: 0.3812263309955597 and parameters: {'lr': 7.373233225665519e-05, 'dropout_prob': 0.1632037902182255, 'force_n_layers': 4, 'force_kernel_size': 4, 'force_stride': 4, 'force_padding': 7, 'force_hidden_channels': 181, 'force_pooling_type': 'max', 'force_use_batch_norm': False, 'acc_n_layers': 5, 'acc_kernel_size': 9, 'acc_stride': 1, 'acc_padding': 10, 'acc_hidden_channels': 218, 'acc_pooling_type': 'max', 'acc_use_batch_norm': False}. Best is trial 61 with value: 0.2779429852962494.\n"
     ]
    },
    {
     "name": "stdout",
     "output_type": "stream",
     "text": [
      "Epoch 50/50, Training Loss: 0.2840848369523883, Validation Loss: 0.3812263309955597\n",
      "Epoch 10/50, Training Loss: 0.6233261600136757, Validation Loss: 0.6298423409461975\n",
      "Epoch 20/50, Training Loss: 0.4848009832203388, Validation Loss: 0.47540412843227386\n",
      "Epoch 30/50, Training Loss: 0.38266972824931145, Validation Loss: 0.38467836380004883\n",
      "Epoch 40/50, Training Loss: 0.3118383400142193, Validation Loss: 0.3336452841758728\n"
     ]
    },
    {
     "name": "stderr",
     "output_type": "stream",
     "text": [
      "[I 2023-10-10 20:55:34,846] Trial 70 finished with value: 0.3103482350707054 and parameters: {'lr': 2.560285089756989e-05, 'dropout_prob': 0.14582089833412945, 'force_n_layers': 5, 'force_kernel_size': 5, 'force_stride': 4, 'force_padding': 8, 'force_hidden_channels': 168, 'force_pooling_type': 'max', 'force_use_batch_norm': False, 'acc_n_layers': 6, 'acc_kernel_size': 9, 'acc_stride': 2, 'acc_padding': 8, 'acc_hidden_channels': 205, 'acc_pooling_type': 'max', 'acc_use_batch_norm': True}. Best is trial 61 with value: 0.2779429852962494.\n"
     ]
    },
    {
     "name": "stdout",
     "output_type": "stream",
     "text": [
      "Epoch 50/50, Training Loss: 0.28369019366800785, Validation Loss: 0.3103482350707054\n",
      "Epoch 10/50, Training Loss: 0.4539042841643095, Validation Loss: 0.43747248500585556\n",
      "Epoch 20/50, Training Loss: 0.32676445692777634, Validation Loss: 0.3422805592417717\n",
      "Epoch 30/50, Training Loss: 0.25099886395037174, Validation Loss: 0.31317298114299774\n",
      "Epoch 40/50, Training Loss: 0.21011196356266737, Validation Loss: 0.3020463362336159\n"
     ]
    },
    {
     "name": "stderr",
     "output_type": "stream",
     "text": [
      "[I 2023-10-10 20:57:04,399] Trial 71 finished with value: 0.2883535325527191 and parameters: {'lr': 5.794315655737901e-05, 'dropout_prob': 0.13965233611447683, 'force_n_layers': 3, 'force_kernel_size': 4, 'force_stride': 3, 'force_padding': 7, 'force_hidden_channels': 191, 'force_pooling_type': 'max', 'force_use_batch_norm': False, 'acc_n_layers': 5, 'acc_kernel_size': 9, 'acc_stride': 2, 'acc_padding': 8, 'acc_hidden_channels': 218, 'acc_pooling_type': 'max', 'acc_use_batch_norm': True}. Best is trial 61 with value: 0.2779429852962494.\n"
     ]
    },
    {
     "name": "stdout",
     "output_type": "stream",
     "text": [
      "Epoch 50/50, Training Loss: 0.17447201954200864, Validation Loss: 0.2883535325527191\n",
      "Epoch 10/50, Training Loss: 0.490468829870224, Validation Loss: 0.46656739711761475\n",
      "Epoch 20/50, Training Loss: 0.33008806593716145, Validation Loss: 0.34810543060302734\n",
      "Epoch 30/50, Training Loss: 0.27065074909478426, Validation Loss: 0.31564048677682877\n",
      "Epoch 40/50, Training Loss: 0.22715693060308695, Validation Loss: 0.30209826678037643\n"
     ]
    },
    {
     "name": "stderr",
     "output_type": "stream",
     "text": [
      "[I 2023-10-10 20:58:38,062] Trial 72 finished with value: 0.29632730036973953 and parameters: {'lr': 5.390391951981037e-05, 'dropout_prob': 0.14399700845884914, 'force_n_layers': 3, 'force_kernel_size': 4, 'force_stride': 3, 'force_padding': 7, 'force_hidden_channels': 222, 'force_pooling_type': 'max', 'force_use_batch_norm': False, 'acc_n_layers': 5, 'acc_kernel_size': 9, 'acc_stride': 2, 'acc_padding': 8, 'acc_hidden_channels': 218, 'acc_pooling_type': 'max', 'acc_use_batch_norm': True}. Best is trial 61 with value: 0.2779429852962494.\n"
     ]
    },
    {
     "name": "stdout",
     "output_type": "stream",
     "text": [
      "Epoch 50/50, Training Loss: 0.19212995050475, Validation Loss: 0.29632730036973953\n",
      "Epoch 10/50, Training Loss: 0.35022083669900894, Validation Loss: 0.364489808678627\n",
      "Epoch 20/50, Training Loss: 0.2482374282553792, Validation Loss: 0.30089233815670013\n",
      "Epoch 30/50, Training Loss: 0.16539486404508352, Validation Loss: 0.3045570030808449\n",
      "Epoch 40/50, Training Loss: 0.12224221369251609, Validation Loss: 0.3455830514431\n"
     ]
    },
    {
     "name": "stderr",
     "output_type": "stream",
     "text": [
      "[I 2023-10-10 21:04:58,916] Trial 73 finished with value: 0.35282301902770996 and parameters: {'lr': 0.00011282278247358857, 'dropout_prob': 0.1642809088624107, 'force_n_layers': 4, 'force_kernel_size': 4, 'force_stride': 2, 'force_padding': 7, 'force_hidden_channels': 191, 'force_pooling_type': 'max', 'force_use_batch_norm': False, 'acc_n_layers': 6, 'acc_kernel_size': 9, 'acc_stride': 1, 'acc_padding': 9, 'acc_hidden_channels': 224, 'acc_pooling_type': 'max', 'acc_use_batch_norm': True}. Best is trial 61 with value: 0.2779429852962494.\n"
     ]
    },
    {
     "name": "stdout",
     "output_type": "stream",
     "text": [
      "Epoch 50/50, Training Loss: 0.09691261872649193, Validation Loss: 0.35282301902770996\n",
      "Epoch 10/50, Training Loss: 0.43854706548154354, Validation Loss: 0.4311363026499748\n",
      "Epoch 20/50, Training Loss: 0.3137639332562685, Validation Loss: 0.338672399520874\n",
      "Epoch 30/50, Training Loss: 0.25793174747377634, Validation Loss: 0.3324873000383377\n",
      "Epoch 40/50, Training Loss: 0.21595227718353271, Validation Loss: 0.32017139345407486\n"
     ]
    },
    {
     "name": "stderr",
     "output_type": "stream",
     "text": [
      "[I 2023-10-10 21:06:05,475] Trial 74 finished with value: 0.3056139722466469 and parameters: {'lr': 7.582275259050137e-05, 'dropout_prob': 0.13379319725594568, 'force_n_layers': 3, 'force_kernel_size': 5, 'force_stride': 3, 'force_padding': 9, 'force_hidden_channels': 177, 'force_pooling_type': 'max', 'force_use_batch_norm': False, 'acc_n_layers': 5, 'acc_kernel_size': 8, 'acc_stride': 2, 'acc_padding': 7, 'acc_hidden_channels': 183, 'acc_pooling_type': 'max', 'acc_use_batch_norm': True}. Best is trial 61 with value: 0.2779429852962494.\n"
     ]
    },
    {
     "name": "stdout",
     "output_type": "stream",
     "text": [
      "Epoch 50/50, Training Loss: 0.18499657651409507, Validation Loss: 0.3056139722466469\n",
      "Epoch 10/50, Training Loss: 0.3014847971498966, Validation Loss: 0.33976416289806366\n",
      "Epoch 20/50, Training Loss: 0.20437221974134445, Validation Loss: 0.30468636751174927\n",
      "Epoch 30/50, Training Loss: 0.14243963011540473, Validation Loss: 0.2875114642083645\n",
      "Epoch 40/50, Training Loss: 0.1064166366122663, Validation Loss: 0.25782687216997147\n"
     ]
    },
    {
     "name": "stderr",
     "output_type": "stream",
     "text": [
      "[I 2023-10-10 21:08:31,766] Trial 75 finished with value: 0.31746169924736023 and parameters: {'lr': 0.0001665167231665606, 'dropout_prob': 0.11663797486956895, 'force_n_layers': 4, 'force_kernel_size': 6, 'force_stride': 3, 'force_padding': 8, 'force_hidden_channels': 202, 'force_pooling_type': 'max', 'force_use_batch_norm': False, 'acc_n_layers': 5, 'acc_kernel_size': 9, 'acc_stride': 2, 'acc_padding': 9, 'acc_hidden_channels': 209, 'acc_pooling_type': 'max', 'acc_use_batch_norm': True}. Best is trial 61 with value: 0.2779429852962494.\n"
     ]
    },
    {
     "name": "stdout",
     "output_type": "stream",
     "text": [
      "Epoch 50/50, Training Loss: 0.05099308234639466, Validation Loss: 0.31746169924736023\n",
      "Epoch 10/50, Training Loss: 0.34648220147937536, Validation Loss: 0.3619270771741867\n",
      "Epoch 20/50, Training Loss: 0.2677782140672207, Validation Loss: 0.3499302715063095\n",
      "Epoch 30/50, Training Loss: 0.21233090199530125, Validation Loss: 0.33143728226423264\n",
      "Epoch 40/50, Training Loss: 0.15326586877927184, Validation Loss: 0.3192986696958542\n"
     ]
    },
    {
     "name": "stderr",
     "output_type": "stream",
     "text": [
      "[I 2023-10-10 21:12:00,926] Trial 76 finished with value: 0.3483425974845886 and parameters: {'lr': 9.446761498979591e-05, 'dropout_prob': 0.1356439886014497, 'force_n_layers': 3, 'force_kernel_size': 5, 'force_stride': 2, 'force_padding': 7, 'force_hidden_channels': 212, 'force_pooling_type': 'max', 'force_use_batch_norm': False, 'acc_n_layers': 6, 'acc_kernel_size': 9, 'acc_stride': 1, 'acc_padding': 8, 'acc_hidden_channels': 190, 'acc_pooling_type': 'max', 'acc_use_batch_norm': True}. Best is trial 61 with value: 0.2779429852962494.\n"
     ]
    },
    {
     "name": "stdout",
     "output_type": "stream",
     "text": [
      "Epoch 50/50, Training Loss: 0.11334714014083147, Validation Loss: 0.3483425974845886\n",
      "Epoch 10/50, Training Loss: 0.41991642862558365, Validation Loss: 0.42050761729478836\n",
      "Epoch 20/50, Training Loss: 0.28073197044432163, Validation Loss: 0.3369767367839813\n",
      "Epoch 30/50, Training Loss: 0.22229430172592402, Validation Loss: 0.3025214150547981\n",
      "Epoch 40/50, Training Loss: 0.17452701274305582, Validation Loss: 0.2900460734963417\n"
     ]
    },
    {
     "name": "stderr",
     "output_type": "stream",
     "text": [
      "[I 2023-10-10 21:12:50,548] Trial 77 finished with value: 0.28650468215346336 and parameters: {'lr': 0.0001312031904265508, 'dropout_prob': 0.16817364624664005, 'force_n_layers': 4, 'force_kernel_size': 4, 'force_stride': 4, 'force_padding': 6, 'force_hidden_channels': 184, 'force_pooling_type': 'max', 'force_use_batch_norm': False, 'acc_n_layers': 4, 'acc_kernel_size': 8, 'acc_stride': 3, 'acc_padding': 7, 'acc_hidden_channels': 175, 'acc_pooling_type': 'max', 'acc_use_batch_norm': True}. Best is trial 61 with value: 0.2779429852962494.\n"
     ]
    },
    {
     "name": "stdout",
     "output_type": "stream",
     "text": [
      "Epoch 50/50, Training Loss: 0.13496267795562744, Validation Loss: 0.28650468215346336\n",
      "Epoch 10/50, Training Loss: 0.33614581637084484, Validation Loss: 0.3742995411157608\n",
      "Epoch 20/50, Training Loss: 0.20733959367498755, Validation Loss: 0.31087229400873184\n",
      "Epoch 30/50, Training Loss: 0.1464176424778998, Validation Loss: 0.30594421178102493\n",
      "Epoch 40/50, Training Loss: 0.10039750766009092, Validation Loss: 0.3762635365128517\n"
     ]
    },
    {
     "name": "stderr",
     "output_type": "stream",
     "text": [
      "[I 2023-10-10 21:13:40,716] Trial 78 finished with value: 0.42488641291856766 and parameters: {'lr': 0.0002264283229659006, 'dropout_prob': 0.17220014444150597, 'force_n_layers': 5, 'force_kernel_size': 4, 'force_stride': 4, 'force_padding': 6, 'force_hidden_channels': 194, 'force_pooling_type': 'max', 'force_use_batch_norm': False, 'acc_n_layers': 4, 'acc_kernel_size': 8, 'acc_stride': 4, 'acc_padding': 7, 'acc_hidden_channels': 200, 'acc_pooling_type': 'max', 'acc_use_batch_norm': True}. Best is trial 61 with value: 0.2779429852962494.\n"
     ]
    },
    {
     "name": "stdout",
     "output_type": "stream",
     "text": [
      "Epoch 50/50, Training Loss: 0.04643931775353849, Validation Loss: 0.42488641291856766\n",
      "Epoch 10/50, Training Loss: 0.5574687011539936, Validation Loss: 0.5191571265459061\n",
      "Epoch 20/50, Training Loss: 0.34596463665366173, Validation Loss: 0.3776203766465187\n",
      "Epoch 30/50, Training Loss: 0.2860791739076376, Validation Loss: 0.32221905142068863\n",
      "Epoch 40/50, Training Loss: 0.24038929399102926, Validation Loss: 0.2803170382976532\n"
     ]
    },
    {
     "name": "stderr",
     "output_type": "stream",
     "text": [
      "[I 2023-10-10 21:14:59,018] Trial 79 finished with value: 0.27513574063777924 and parameters: {'lr': 0.00014631932060750791, 'dropout_prob': 0.1609026097292279, 'force_n_layers': 4, 'force_kernel_size': 6, 'force_stride': 3, 'force_padding': 6, 'force_hidden_channels': 185, 'force_pooling_type': 'max', 'force_use_batch_norm': False, 'acc_n_layers': 5, 'acc_kernel_size': 7, 'acc_stride': 2, 'acc_padding': 5, 'acc_hidden_channels': 175, 'acc_pooling_type': 'avg', 'acc_use_batch_norm': True}. Best is trial 79 with value: 0.27513574063777924.\n"
     ]
    },
    {
     "name": "stdout",
     "output_type": "stream",
     "text": [
      "Epoch 50/50, Training Loss: 0.19793361611664295, Validation Loss: 0.27513574063777924\n",
      "Epoch 10/50, Training Loss: 0.6104411669075489, Validation Loss: 0.6109385639429092\n",
      "Epoch 20/50, Training Loss: 0.3961162604391575, Validation Loss: 0.40249209851026535\n",
      "Epoch 30/50, Training Loss: 0.32090824469923973, Validation Loss: 0.3492952957749367\n",
      "Epoch 40/50, Training Loss: 0.26560571510344744, Validation Loss: 0.3123304471373558\n"
     ]
    },
    {
     "name": "stderr",
     "output_type": "stream",
     "text": [
      "[I 2023-10-10 21:15:59,879] Trial 80 finished with value: 0.29090123623609543 and parameters: {'lr': 0.00014302954282046002, 'dropout_prob': 0.15896714267821838, 'force_n_layers': 4, 'force_kernel_size': 6, 'force_stride': 3, 'force_padding': 6, 'force_hidden_channels': 182, 'force_pooling_type': 'max', 'force_use_batch_norm': False, 'acc_n_layers': 4, 'acc_kernel_size': 6, 'acc_stride': 3, 'acc_padding': 5, 'acc_hidden_channels': 174, 'acc_pooling_type': 'avg', 'acc_use_batch_norm': True}. Best is trial 79 with value: 0.27513574063777924.\n"
     ]
    },
    {
     "name": "stdout",
     "output_type": "stream",
     "text": [
      "Epoch 50/50, Training Loss: 0.23746563121676445, Validation Loss: 0.29090123623609543\n",
      "Epoch 10/50, Training Loss: 0.5052794683724642, Validation Loss: 0.4758181795477867\n",
      "Epoch 20/50, Training Loss: 0.33196254819631577, Validation Loss: 0.3478659316897392\n",
      "Epoch 30/50, Training Loss: 0.2709384858608246, Validation Loss: 0.3069327622652054\n",
      "Epoch 40/50, Training Loss: 0.23932076524943113, Validation Loss: 0.29678287357091904\n"
     ]
    },
    {
     "name": "stderr",
     "output_type": "stream",
     "text": [
      "[I 2023-10-10 21:17:17,147] Trial 81 finished with value: 0.26636748388409615 and parameters: {'lr': 0.00017785465154696327, 'dropout_prob': 0.18149440298784308, 'force_n_layers': 4, 'force_kernel_size': 6, 'force_stride': 3, 'force_padding': 6, 'force_hidden_channels': 184, 'force_pooling_type': 'max', 'force_use_batch_norm': False, 'acc_n_layers': 5, 'acc_kernel_size': 7, 'acc_stride': 2, 'acc_padding': 4, 'acc_hidden_channels': 162, 'acc_pooling_type': 'avg', 'acc_use_batch_norm': True}. Best is trial 81 with value: 0.26636748388409615.\n"
     ]
    },
    {
     "name": "stdout",
     "output_type": "stream",
     "text": [
      "Epoch 50/50, Training Loss: 0.18784519284963608, Validation Loss: 0.26636748388409615\n",
      "Epoch 10/50, Training Loss: 0.4384499564766884, Validation Loss: 0.45739271491765976\n",
      "Epoch 20/50, Training Loss: 0.3425878956913948, Validation Loss: 0.3664846271276474\n",
      "Epoch 30/50, Training Loss: 0.2595280916430056, Validation Loss: 0.3168211951851845\n",
      "Epoch 40/50, Training Loss: 0.2217471906915307, Validation Loss: 0.28202712535858154\n"
     ]
    },
    {
     "name": "stderr",
     "output_type": "stream",
     "text": [
      "[I 2023-10-10 21:18:19,175] Trial 82 finished with value: 0.28225261718034744 and parameters: {'lr': 0.00019155279208652403, 'dropout_prob': 0.18403466991137665, 'force_n_layers': 4, 'force_kernel_size': 6, 'force_stride': 3, 'force_padding': 5, 'force_hidden_channels': 208, 'force_pooling_type': 'max', 'force_use_batch_norm': False, 'acc_n_layers': 5, 'acc_kernel_size': 7, 'acc_stride': 2, 'acc_padding': 5, 'acc_hidden_channels': 158, 'acc_pooling_type': 'avg', 'acc_use_batch_norm': True}. Best is trial 81 with value: 0.26636748388409615.\n"
     ]
    },
    {
     "name": "stdout",
     "output_type": "stream",
     "text": [
      "Epoch 50/50, Training Loss: 0.18554732482880354, Validation Loss: 0.28225261718034744\n",
      "Epoch 10/50, Training Loss: 0.3644006531685591, Validation Loss: 0.3781859576702118\n",
      "Epoch 20/50, Training Loss: 0.2879598690196872, Validation Loss: 0.3047851026058197\n",
      "Epoch 30/50, Training Loss: 0.21509989723563194, Validation Loss: 0.2818478122353554\n",
      "Epoch 40/50, Training Loss: 0.16874200850725174, Validation Loss: 0.2689766064286232\n"
     ]
    },
    {
     "name": "stderr",
     "output_type": "stream",
     "text": [
      "[I 2023-10-10 21:19:21,704] Trial 83 finished with value: 0.2770623378455639 and parameters: {'lr': 0.0002868613181338208, 'dropout_prob': 0.17921282134811273, 'force_n_layers': 4, 'force_kernel_size': 6, 'force_stride': 3, 'force_padding': 5, 'force_hidden_channels': 222, 'force_pooling_type': 'max', 'force_use_batch_norm': False, 'acc_n_layers': 5, 'acc_kernel_size': 7, 'acc_stride': 2, 'acc_padding': 5, 'acc_hidden_channels': 160, 'acc_pooling_type': 'avg', 'acc_use_batch_norm': True}. Best is trial 81 with value: 0.26636748388409615.\n"
     ]
    },
    {
     "name": "stdout",
     "output_type": "stream",
     "text": [
      "Epoch 50/50, Training Loss: 0.13820815738290548, Validation Loss: 0.2770623378455639\n",
      "Epoch 10/50, Training Loss: 0.38360514119267464, Validation Loss: 0.3784533441066742\n",
      "Epoch 20/50, Training Loss: 0.2665764605626464, Validation Loss: 0.327888622879982\n",
      "Epoch 30/50, Training Loss: 0.20451065246015787, Validation Loss: 0.2687201723456383\n",
      "Epoch 40/50, Training Loss: 0.16659454675391316, Validation Loss: 0.27365007251501083\n"
     ]
    },
    {
     "name": "stderr",
     "output_type": "stream",
     "text": [
      "[I 2023-10-10 21:20:25,230] Trial 84 finished with value: 0.3069453202188015 and parameters: {'lr': 0.00029258956891703474, 'dropout_prob': 0.18884515348096328, 'force_n_layers': 4, 'force_kernel_size': 6, 'force_stride': 2, 'force_padding': 5, 'force_hidden_channels': 226, 'force_pooling_type': 'max', 'force_use_batch_norm': False, 'acc_n_layers': 5, 'acc_kernel_size': 7, 'acc_stride': 2, 'acc_padding': 4, 'acc_hidden_channels': 162, 'acc_pooling_type': 'avg', 'acc_use_batch_norm': True}. Best is trial 81 with value: 0.26636748388409615.\n"
     ]
    },
    {
     "name": "stdout",
     "output_type": "stream",
     "text": [
      "Epoch 50/50, Training Loss: 0.11926216376014054, Validation Loss: 0.3069453202188015\n",
      "Epoch 10/50, Training Loss: 0.4266573078930378, Validation Loss: 0.4224624037742615\n",
      "Epoch 20/50, Training Loss: 0.3115121629089117, Validation Loss: 0.34655801951885223\n",
      "Epoch 30/50, Training Loss: 0.23664460889995098, Validation Loss: 0.3289624825119972\n",
      "Epoch 40/50, Training Loss: 0.1889732088893652, Validation Loss: 0.30194853618741035\n"
     ]
    },
    {
     "name": "stderr",
     "output_type": "stream",
     "text": [
      "[I 2023-10-10 21:22:34,399] Trial 85 finished with value: 0.2984162047505379 and parameters: {'lr': 0.00018598707891452753, 'dropout_prob': 0.2045178545994832, 'force_n_layers': 4, 'force_kernel_size': 6, 'force_stride': 3, 'force_padding': 5, 'force_hidden_channels': 242, 'force_pooling_type': 'max', 'force_use_batch_norm': False, 'acc_n_layers': 6, 'acc_kernel_size': 6, 'acc_stride': 1, 'acc_padding': 5, 'acc_hidden_channels': 148, 'acc_pooling_type': 'avg', 'acc_use_batch_norm': True}. Best is trial 81 with value: 0.26636748388409615.\n"
     ]
    },
    {
     "name": "stdout",
     "output_type": "stream",
     "text": [
      "Epoch 50/50, Training Loss: 0.15849355841055512, Validation Loss: 0.2984162047505379\n"
     ]
    },
    {
     "name": "stderr",
     "output_type": "stream",
     "text": [
      "[I 2023-10-10 21:22:35,848] Trial 86 finished with value: 1.0 and parameters: {'lr': 0.00024376794030155728, 'dropout_prob': 0.17248933570858183, 'force_n_layers': 4, 'force_kernel_size': 7, 'force_stride': 3, 'force_padding': 4, 'force_hidden_channels': 211, 'force_pooling_type': 'max', 'force_use_batch_norm': False, 'acc_n_layers': 5, 'acc_kernel_size': 7, 'acc_stride': 2, 'acc_padding': 5, 'acc_hidden_channels': 176, 'acc_pooling_type': 'avg', 'acc_use_batch_norm': True}. Best is trial 81 with value: 0.26636748388409615.\n"
     ]
    },
    {
     "name": "stdout",
     "output_type": "stream",
     "text": [
      "Trial failed with error: max_pool1d() Invalid computed output size: 0\n",
      "Epoch 10/50, Training Loss: 0.5043253973126411, Validation Loss: 0.4860907569527626\n",
      "Epoch 20/50, Training Loss: 0.3768215700984001, Validation Loss: 0.40747594088315964\n",
      "Epoch 30/50, Training Loss: 0.339179371483624, Validation Loss: 0.3662562221288681\n",
      "Epoch 40/50, Training Loss: 0.32040975242853165, Validation Loss: 0.32349490374326706\n"
     ]
    },
    {
     "name": "stderr",
     "output_type": "stream",
     "text": [
      "[I 2023-10-10 21:23:30,080] Trial 87 finished with value: 0.3214195743203163 and parameters: {'lr': 0.0001791841260848593, 'dropout_prob': 0.18538846696710168, 'force_n_layers': 4, 'force_kernel_size': 6, 'force_stride': 3, 'force_padding': 5, 'force_hidden_channels': 216, 'force_pooling_type': 'max', 'force_use_batch_norm': False, 'acc_n_layers': 5, 'acc_kernel_size': 7, 'acc_stride': 2, 'acc_padding': 4, 'acc_hidden_channels': 158, 'acc_pooling_type': 'avg', 'acc_use_batch_norm': False}. Best is trial 81 with value: 0.26636748388409615.\n"
     ]
    },
    {
     "name": "stdout",
     "output_type": "stream",
     "text": [
      "Epoch 50/50, Training Loss: 0.2925835782662034, Validation Loss: 0.3214195743203163\n",
      "Epoch 10/50, Training Loss: 0.3903404027223587, Validation Loss: 0.3920586258172989\n",
      "Epoch 20/50, Training Loss: 0.2774685863405466, Validation Loss: 0.32442719489336014\n",
      "Epoch 30/50, Training Loss: 0.20849546510726213, Validation Loss: 0.27918732166290283\n",
      "Epoch 40/50, Training Loss: 0.15853166999295354, Validation Loss: 0.29683172702789307\n"
     ]
    },
    {
     "name": "stderr",
     "output_type": "stream",
     "text": [
      "[I 2023-10-10 21:24:50,323] Trial 88 finished with value: 0.28285887837409973 and parameters: {'lr': 0.00029365086546888483, 'dropout_prob': 0.15164767058568981, 'force_n_layers': 4, 'force_kernel_size': 7, 'force_stride': 2, 'force_padding': 5, 'force_hidden_channels': 203, 'force_pooling_type': 'max', 'force_use_batch_norm': False, 'acc_n_layers': 5, 'acc_kernel_size': 6, 'acc_stride': 2, 'acc_padding': 4, 'acc_hidden_channels': 187, 'acc_pooling_type': 'avg', 'acc_use_batch_norm': True}. Best is trial 81 with value: 0.26636748388409615.\n"
     ]
    },
    {
     "name": "stdout",
     "output_type": "stream",
     "text": [
      "Epoch 50/50, Training Loss: 0.13627207046374679, Validation Loss: 0.28285887837409973\n",
      "Epoch 10/50, Training Loss: 0.3964080326259136, Validation Loss: 0.42061039060354233\n",
      "Epoch 20/50, Training Loss: 0.25765347480773926, Validation Loss: 0.32186349481344223\n",
      "Epoch 30/50, Training Loss: 0.2038738876581192, Validation Loss: 0.30103815346956253\n",
      "Epoch 40/50, Training Loss: 0.15629880782216787, Validation Loss: 0.2903119698166847\n"
     ]
    },
    {
     "name": "stderr",
     "output_type": "stream",
     "text": [
      "[I 2023-10-10 21:26:06,001] Trial 89 finished with value: 0.3310239687561989 and parameters: {'lr': 0.00036032385131748077, 'dropout_prob': 0.15770555263685973, 'force_n_layers': 4, 'force_kernel_size': 7, 'force_stride': 1, 'force_padding': 4, 'force_hidden_channels': 233, 'force_pooling_type': 'max', 'force_use_batch_norm': False, 'acc_n_layers': 6, 'acc_kernel_size': 6, 'acc_stride': 2, 'acc_padding': 4, 'acc_hidden_channels': 162, 'acc_pooling_type': 'avg', 'acc_use_batch_norm': True}. Best is trial 81 with value: 0.26636748388409615.\n"
     ]
    },
    {
     "name": "stdout",
     "output_type": "stream",
     "text": [
      "Epoch 50/50, Training Loss: 0.10367407975718379, Validation Loss: 0.3310239687561989\n",
      "Epoch 10/50, Training Loss: 0.391113942489028, Validation Loss: 0.40703577548265457\n",
      "Epoch 20/50, Training Loss: 0.2817020695656538, Validation Loss: 0.3646249398589134\n",
      "Epoch 30/50, Training Loss: 0.1988453515805304, Validation Loss: 0.3089565858244896\n",
      "Epoch 40/50, Training Loss: 0.14450039388611913, Validation Loss: 0.3355110138654709\n"
     ]
    },
    {
     "name": "stderr",
     "output_type": "stream",
     "text": [
      "[I 2023-10-10 21:28:15,079] Trial 90 finished with value: 0.3776937499642372 and parameters: {'lr': 0.000273118920949526, 'dropout_prob': 0.15266479335943883, 'force_n_layers': 4, 'force_kernel_size': 6, 'force_stride': 2, 'force_padding': 5, 'force_hidden_channels': 199, 'force_pooling_type': 'max', 'force_use_batch_norm': False, 'acc_n_layers': 5, 'acc_kernel_size': 6, 'acc_stride': 1, 'acc_padding': 5, 'acc_hidden_channels': 147, 'acc_pooling_type': 'avg', 'acc_use_batch_norm': True}. Best is trial 81 with value: 0.26636748388409615.\n"
     ]
    },
    {
     "name": "stdout",
     "output_type": "stream",
     "text": [
      "Epoch 50/50, Training Loss: 0.0972695266827941, Validation Loss: 0.3776937499642372\n",
      "Epoch 10/50, Training Loss: 0.3727728072553873, Validation Loss: 0.39265795052051544\n",
      "Epoch 20/50, Training Loss: 0.2847396992146969, Validation Loss: 0.3507009670138359\n",
      "Epoch 30/50, Training Loss: 0.22215653862804174, Validation Loss: 0.2915629372000694\n",
      "Epoch 40/50, Training Loss: 0.17177198641002178, Validation Loss: 0.27378642931580544\n"
     ]
    },
    {
     "name": "stderr",
     "output_type": "stream",
     "text": [
      "[I 2023-10-10 21:29:37,716] Trial 91 finished with value: 0.274219810962677 and parameters: {'lr': 0.00021570748511878375, 'dropout_prob': 0.1772304167628318, 'force_n_layers': 4, 'force_kernel_size': 6, 'force_stride': 2, 'force_padding': 5, 'force_hidden_channels': 220, 'force_pooling_type': 'max', 'force_use_batch_norm': False, 'acc_n_layers': 5, 'acc_kernel_size': 7, 'acc_stride': 2, 'acc_padding': 6, 'acc_hidden_channels': 187, 'acc_pooling_type': 'avg', 'acc_use_batch_norm': True}. Best is trial 81 with value: 0.26636748388409615.\n"
     ]
    },
    {
     "name": "stdout",
     "output_type": "stream",
     "text": [
      "Epoch 50/50, Training Loss: 0.1519510648213327, Validation Loss: 0.274219810962677\n",
      "Epoch 10/50, Training Loss: 0.35178178548812866, Validation Loss: 0.40802233666181564\n",
      "Epoch 20/50, Training Loss: 0.2519449023529887, Validation Loss: 0.2977733835577965\n",
      "Epoch 30/50, Training Loss: 0.17978455824777484, Validation Loss: 0.32738854736089706\n",
      "Epoch 40/50, Training Loss: 0.12768792873248458, Validation Loss: 0.3097805082798004\n"
     ]
    },
    {
     "name": "stderr",
     "output_type": "stream",
     "text": [
      "[I 2023-10-10 21:30:57,043] Trial 92 finished with value: 0.3816963657736778 and parameters: {'lr': 0.0003497058514215738, 'dropout_prob': 0.17760779669920992, 'force_n_layers': 4, 'force_kernel_size': 6, 'force_stride': 2, 'force_padding': 5, 'force_hidden_channels': 220, 'force_pooling_type': 'max', 'force_use_batch_norm': False, 'acc_n_layers': 5, 'acc_kernel_size': 7, 'acc_stride': 2, 'acc_padding': 6, 'acc_hidden_channels': 187, 'acc_pooling_type': 'avg', 'acc_use_batch_norm': True}. Best is trial 81 with value: 0.26636748388409615.\n"
     ]
    },
    {
     "name": "stdout",
     "output_type": "stream",
     "text": [
      "Epoch 50/50, Training Loss: 0.0708966467063874, Validation Loss: 0.3816963657736778\n",
      "Epoch 10/50, Training Loss: 0.4289239142090082, Validation Loss: 0.4122404530644417\n",
      "Epoch 20/50, Training Loss: 0.2981940023601055, Validation Loss: 0.32021503895521164\n",
      "Epoch 30/50, Training Loss: 0.2639850089326501, Validation Loss: 0.307037353515625\n",
      "Epoch 40/50, Training Loss: 0.20589331723749638, Validation Loss: 0.2677334025502205\n"
     ]
    },
    {
     "name": "stderr",
     "output_type": "stream",
     "text": [
      "[I 2023-10-10 21:31:59,719] Trial 93 finished with value: 0.2615012228488922 and parameters: {'lr': 0.0002204427721004931, 'dropout_prob': 0.2066240594101147, 'force_n_layers': 4, 'force_kernel_size': 6, 'force_stride': 2, 'force_padding': 3, 'force_hidden_channels': 206, 'force_pooling_type': 'max', 'force_use_batch_norm': False, 'acc_n_layers': 5, 'acc_kernel_size': 6, 'acc_stride': 2, 'acc_padding': 4, 'acc_hidden_channels': 167, 'acc_pooling_type': 'avg', 'acc_use_batch_norm': True}. Best is trial 93 with value: 0.2615012228488922.\n"
     ]
    },
    {
     "name": "stdout",
     "output_type": "stream",
     "text": [
      "Epoch 50/50, Training Loss: 0.1809638747945428, Validation Loss: 0.2615012228488922\n",
      "Epoch 10/50, Training Loss: 0.36290421802550554, Validation Loss: 0.3890189677476883\n",
      "Epoch 20/50, Training Loss: 0.259883526712656, Validation Loss: 0.3300365135073662\n",
      "Epoch 30/50, Training Loss: 0.21922472678124905, Validation Loss: 0.2853027731180191\n",
      "Epoch 40/50, Training Loss: 0.18857817817479372, Validation Loss: 0.2769613116979599\n"
     ]
    },
    {
     "name": "stderr",
     "output_type": "stream",
     "text": [
      "[I 2023-10-10 21:33:07,021] Trial 94 finished with value: 0.28767769038677216 and parameters: {'lr': 0.0002963654668771961, 'dropout_prob': 0.20405520161555468, 'force_n_layers': 4, 'force_kernel_size': 7, 'force_stride': 2, 'force_padding': 5, 'force_hidden_channels': 207, 'force_pooling_type': 'max', 'force_use_batch_norm': False, 'acc_n_layers': 5, 'acc_kernel_size': 6, 'acc_stride': 2, 'acc_padding': 4, 'acc_hidden_channels': 164, 'acc_pooling_type': 'avg', 'acc_use_batch_norm': True}. Best is trial 93 with value: 0.2615012228488922.\n"
     ]
    },
    {
     "name": "stdout",
     "output_type": "stream",
     "text": [
      "Epoch 50/50, Training Loss: 0.12495303666219115, Validation Loss: 0.28767769038677216\n",
      "Epoch 10/50, Training Loss: 0.3183047268539667, Validation Loss: 0.3593375235795975\n",
      "Epoch 20/50, Training Loss: 0.2117783734574914, Validation Loss: 0.2975865751504898\n",
      "Epoch 30/50, Training Loss: 0.129984465893358, Validation Loss: 0.3526875525712967\n",
      "Epoch 40/50, Training Loss: 0.07890638196840882, Validation Loss: 0.35508861392736435\n"
     ]
    },
    {
     "name": "stderr",
     "output_type": "stream",
     "text": [
      "[I 2023-10-10 21:34:43,211] Trial 95 finished with value: 0.5260646194219589 and parameters: {'lr': 0.0004693903419535788, 'dropout_prob': 0.19407328079531946, 'force_n_layers': 5, 'force_kernel_size': 6, 'force_stride': 2, 'force_padding': 6, 'force_hidden_channels': 206, 'force_pooling_type': 'max', 'force_use_batch_norm': False, 'acc_n_layers': 5, 'acc_kernel_size': 6, 'acc_stride': 2, 'acc_padding': 3, 'acc_hidden_channels': 181, 'acc_pooling_type': 'avg', 'acc_use_batch_norm': True}. Best is trial 93 with value: 0.2615012228488922.\n"
     ]
    },
    {
     "name": "stdout",
     "output_type": "stream",
     "text": [
      "Epoch 50/50, Training Loss: 0.012409264774760231, Validation Loss: 0.5260646194219589\n",
      "Epoch 10/50, Training Loss: 0.41352730989456177, Validation Loss: 0.4074350520968437\n",
      "Epoch 20/50, Training Loss: 0.3287075087428093, Validation Loss: 0.36804237961769104\n",
      "Epoch 30/50, Training Loss: 0.2571092308498919, Validation Loss: 0.3168080374598503\n",
      "Epoch 40/50, Training Loss: 0.22114454954862595, Validation Loss: 0.2830822095274925\n"
     ]
    },
    {
     "name": "stderr",
     "output_type": "stream",
     "text": [
      "[I 2023-10-10 21:35:57,314] Trial 96 finished with value: 0.2865958884358406 and parameters: {'lr': 0.00021166635666677888, 'dropout_prob': 0.2212595249135542, 'force_n_layers': 4, 'force_kernel_size': 6, 'force_stride': 1, 'force_padding': 3, 'force_hidden_channels': 224, 'force_pooling_type': 'max', 'force_use_batch_norm': False, 'acc_n_layers': 5, 'acc_kernel_size': 6, 'acc_stride': 2, 'acc_padding': 5, 'acc_hidden_channels': 169, 'acc_pooling_type': 'avg', 'acc_use_batch_norm': True}. Best is trial 93 with value: 0.2615012228488922.\n"
     ]
    },
    {
     "name": "stdout",
     "output_type": "stream",
     "text": [
      "Epoch 50/50, Training Loss: 0.18738737795501947, Validation Loss: 0.2865958884358406\n",
      "Epoch 10/50, Training Loss: 0.5266580358147621, Validation Loss: 0.4875292479991913\n",
      "Epoch 20/50, Training Loss: 0.3497313503175974, Validation Loss: 0.39246170967817307\n",
      "Epoch 30/50, Training Loss: 0.2631998872384429, Validation Loss: 0.3355236351490021\n",
      "Epoch 40/50, Training Loss: 0.2195710800588131, Validation Loss: 0.28192271664738655\n"
     ]
    },
    {
     "name": "stderr",
     "output_type": "stream",
     "text": [
      "[I 2023-10-10 21:37:25,341] Trial 97 finished with value: 0.27431686222553253 and parameters: {'lr': 0.00016376575184473842, 'dropout_prob': 0.17917440636976656, 'force_n_layers': 4, 'force_kernel_size': 6, 'force_stride': 2, 'force_padding': 4, 'force_hidden_channels': 251, 'force_pooling_type': 'max', 'force_use_batch_norm': False, 'acc_n_layers': 6, 'acc_kernel_size': 7, 'acc_stride': 2, 'acc_padding': 4, 'acc_hidden_channels': 195, 'acc_pooling_type': 'avg', 'acc_use_batch_norm': True}. Best is trial 93 with value: 0.2615012228488922.\n"
     ]
    },
    {
     "name": "stdout",
     "output_type": "stream",
     "text": [
      "Epoch 50/50, Training Loss: 0.1827707514166832, Validation Loss: 0.27431686222553253\n",
      "Epoch 10/50, Training Loss: 0.5669500567018986, Validation Loss: 0.5222578793764114\n",
      "Epoch 20/50, Training Loss: 0.3591377530246973, Validation Loss: 0.3629380241036415\n",
      "Epoch 30/50, Training Loss: 0.24664032366126776, Validation Loss: 0.28266795724630356\n",
      "Epoch 40/50, Training Loss: 0.21166115254163742, Validation Loss: 0.293225534260273\n"
     ]
    },
    {
     "name": "stderr",
     "output_type": "stream",
     "text": [
      "[I 2023-10-10 21:38:57,059] Trial 98 finished with value: 0.30221183598041534 and parameters: {'lr': 0.00016304376486970076, 'dropout_prob': 0.18112302380239897, 'force_n_layers': 4, 'force_kernel_size': 6, 'force_stride': 2, 'force_padding': 4, 'force_hidden_channels': 244, 'force_pooling_type': 'max', 'force_use_batch_norm': False, 'acc_n_layers': 6, 'acc_kernel_size': 7, 'acc_stride': 2, 'acc_padding': 4, 'acc_hidden_channels': 195, 'acc_pooling_type': 'avg', 'acc_use_batch_norm': True}. Best is trial 93 with value: 0.2615012228488922.\n"
     ]
    },
    {
     "name": "stdout",
     "output_type": "stream",
     "text": [
      "Epoch 50/50, Training Loss: 0.1702493936754763, Validation Loss: 0.30221183598041534\n"
     ]
    },
    {
     "name": "stderr",
     "output_type": "stream",
     "text": [
      "[I 2023-10-10 21:38:58,541] Trial 99 finished with value: 1.0 and parameters: {'lr': 0.0002974759965461711, 'dropout_prob': 0.23497286816999274, 'force_n_layers': 4, 'force_kernel_size': 7, 'force_stride': 2, 'force_padding': 3, 'force_hidden_channels': 250, 'force_pooling_type': 'max', 'force_use_batch_norm': False, 'acc_n_layers': 7, 'acc_kernel_size': 7, 'acc_stride': 1, 'acc_padding': 4, 'acc_hidden_channels': 186, 'acc_pooling_type': 'avg', 'acc_use_batch_norm': True}. Best is trial 93 with value: 0.2615012228488922.\n"
     ]
    },
    {
     "name": "stdout",
     "output_type": "stream",
     "text": [
      "Trial failed with error: max_pool1d() Invalid computed output size: 0\n"
     ]
    },
    {
     "name": "stderr",
     "output_type": "stream",
     "text": [
      "[I 2023-10-10 21:38:59,999] Trial 100 finished with value: 1.0 and parameters: {'lr': 0.00024930172215537446, 'dropout_prob': 0.19451214882584927, 'force_n_layers': 5, 'force_kernel_size': 6, 'force_stride': 1, 'force_padding': 5, 'force_hidden_channels': 256, 'force_pooling_type': 'max', 'force_use_batch_norm': False, 'acc_n_layers': 6, 'acc_kernel_size': 5, 'acc_stride': 7, 'acc_padding': 3, 'acc_hidden_channels': 152, 'acc_pooling_type': 'avg', 'acc_use_batch_norm': True}. Best is trial 93 with value: 0.2615012228488922.\n"
     ]
    },
    {
     "name": "stdout",
     "output_type": "stream",
     "text": [
      "Trial failed with error: Given input size: (152x1x1). Calculated output size: (152x1x0). Output size is too small\n",
      "Epoch 10/50, Training Loss: 0.5181885566562414, Validation Loss: 0.4762665182352066\n",
      "Epoch 20/50, Training Loss: 0.3305722363293171, Validation Loss: 0.40347176045179367\n",
      "Epoch 30/50, Training Loss: 0.26890059001743793, Validation Loss: 0.31785590946674347\n",
      "Epoch 40/50, Training Loss: 0.23730701301246881, Validation Loss: 0.30074114352464676\n"
     ]
    },
    {
     "name": "stderr",
     "output_type": "stream",
     "text": [
      "[I 2023-10-10 21:40:11,322] Trial 101 finished with value: 0.2722846642136574 and parameters: {'lr': 0.00015339867412737402, 'dropout_prob': 0.1498744757150731, 'force_n_layers': 4, 'force_kernel_size': 6, 'force_stride': 2, 'force_padding': 5, 'force_hidden_channels': 232, 'force_pooling_type': 'max', 'force_use_batch_norm': False, 'acc_n_layers': 5, 'acc_kernel_size': 7, 'acc_stride': 2, 'acc_padding': 5, 'acc_hidden_channels': 170, 'acc_pooling_type': 'avg', 'acc_use_batch_norm': True}. Best is trial 93 with value: 0.2615012228488922.\n"
     ]
    },
    {
     "name": "stdout",
     "output_type": "stream",
     "text": [
      "Epoch 50/50, Training Loss: 0.19168529752641916, Validation Loss: 0.2722846642136574\n",
      "Epoch 10/50, Training Loss: 0.5415387786924839, Validation Loss: 0.5314366668462753\n",
      "Epoch 20/50, Training Loss: 0.38224315643310547, Validation Loss: 0.39625098556280136\n",
      "Epoch 30/50, Training Loss: 0.2969190888106823, Validation Loss: 0.3903448209166527\n",
      "Epoch 40/50, Training Loss: 0.21353159379214048, Validation Loss: 0.3338334485888481\n"
     ]
    },
    {
     "name": "stderr",
     "output_type": "stream",
     "text": [
      "[I 2023-10-10 21:41:29,706] Trial 102 finished with value: 0.29417382925748825 and parameters: {'lr': 0.00018856277033390807, 'dropout_prob': 0.14998540681152228, 'force_n_layers': 4, 'force_kernel_size': 6, 'force_stride': 2, 'force_padding': 5, 'force_hidden_channels': 233, 'force_pooling_type': 'max', 'force_use_batch_norm': False, 'acc_n_layers': 7, 'acc_kernel_size': 7, 'acc_stride': 2, 'acc_padding': 5, 'acc_hidden_channels': 177, 'acc_pooling_type': 'avg', 'acc_use_batch_norm': True}. Best is trial 93 with value: 0.2615012228488922.\n"
     ]
    },
    {
     "name": "stdout",
     "output_type": "stream",
     "text": [
      "Epoch 50/50, Training Loss: 0.18164897616952658, Validation Loss: 0.29417382925748825\n",
      "Epoch 10/50, Training Loss: 0.40543484687805176, Validation Loss: 0.42051272839307785\n",
      "Epoch 20/50, Training Loss: 0.32126488350331783, Validation Loss: 0.36443642526865005\n",
      "Epoch 30/50, Training Loss: 0.24350456055253744, Validation Loss: 0.30788952112197876\n",
      "Epoch 40/50, Training Loss: 0.20625910721719265, Validation Loss: 0.2922564819455147\n"
     ]
    },
    {
     "name": "stderr",
     "output_type": "stream",
     "text": [
      "[I 2023-10-10 21:42:36,431] Trial 103 finished with value: 0.299108624458313 and parameters: {'lr': 0.00022494239987868914, 'dropout_prob': 0.18248939701799505, 'force_n_layers': 4, 'force_kernel_size': 6, 'force_stride': 2, 'force_padding': 4, 'force_hidden_channels': 231, 'force_pooling_type': 'max', 'force_use_batch_norm': False, 'acc_n_layers': 5, 'acc_kernel_size': 7, 'acc_stride': 2, 'acc_padding': 5, 'acc_hidden_channels': 159, 'acc_pooling_type': 'avg', 'acc_use_batch_norm': True}. Best is trial 93 with value: 0.2615012228488922.\n"
     ]
    },
    {
     "name": "stdout",
     "output_type": "stream",
     "text": [
      "Epoch 50/50, Training Loss: 0.1656960193067789, Validation Loss: 0.299108624458313\n",
      "Epoch 10/50, Training Loss: 0.5675816982984543, Validation Loss: 0.5406594574451447\n",
      "Epoch 20/50, Training Loss: 0.3604570683091879, Validation Loss: 0.3630143776535988\n",
      "Epoch 30/50, Training Loss: 0.2958767544478178, Validation Loss: 0.32216986268758774\n",
      "Epoch 40/50, Training Loss: 0.24385348334908485, Validation Loss: 0.2756600007414818\n"
     ]
    },
    {
     "name": "stderr",
     "output_type": "stream",
     "text": [
      "[I 2023-10-10 21:43:42,685] Trial 104 finished with value: 0.2661425545811653 and parameters: {'lr': 0.0001502606096136959, 'dropout_prob': 0.1723931195679192, 'force_n_layers': 4, 'force_kernel_size': 6, 'force_stride': 3, 'force_padding': 4, 'force_hidden_channels': 216, 'force_pooling_type': 'max', 'force_use_batch_norm': False, 'acc_n_layers': 5, 'acc_kernel_size': 6, 'acc_stride': 2, 'acc_padding': 4, 'acc_hidden_channels': 173, 'acc_pooling_type': 'avg', 'acc_use_batch_norm': True}. Best is trial 93 with value: 0.2615012228488922.\n"
     ]
    },
    {
     "name": "stdout",
     "output_type": "stream",
     "text": [
      "Epoch 50/50, Training Loss: 0.22900164313614368, Validation Loss: 0.2661425545811653\n"
     ]
    },
    {
     "name": "stderr",
     "output_type": "stream",
     "text": [
      "[I 2023-10-10 21:43:44,137] Trial 105 finished with value: 1.0 and parameters: {'lr': 0.00015632636965729754, 'dropout_prob': 0.20526754287374754, 'force_n_layers': 4, 'force_kernel_size': 6, 'force_stride': 3, 'force_padding': 2, 'force_hidden_channels': 241, 'force_pooling_type': 'max', 'force_use_batch_norm': False, 'acc_n_layers': 5, 'acc_kernel_size': 7, 'acc_stride': 2, 'acc_padding': 5, 'acc_hidden_channels': 172, 'acc_pooling_type': 'avg', 'acc_use_batch_norm': True}. Best is trial 93 with value: 0.2615012228488922.\n"
     ]
    },
    {
     "name": "stdout",
     "output_type": "stream",
     "text": [
      "Trial failed with error: max_pool1d() Invalid computed output size: 0\n",
      "Epoch 10/50, Training Loss: 0.6254779174923897, Validation Loss: 0.6300275474786758\n",
      "Epoch 20/50, Training Loss: 0.4091749768704176, Validation Loss: 0.43523744493722916\n",
      "Epoch 30/50, Training Loss: 0.31839141994714737, Validation Loss: 0.35288436710834503\n",
      "Epoch 40/50, Training Loss: 0.2700213436037302, Validation Loss: 0.3283620774745941\n"
     ]
    },
    {
     "name": "stderr",
     "output_type": "stream",
     "text": [
      "[I 2023-10-10 21:44:53,987] Trial 106 finished with value: 0.28004150837659836 and parameters: {'lr': 0.00013404421606359583, 'dropout_prob': 0.16813964201261605, 'force_n_layers': 4, 'force_kernel_size': 6, 'force_stride': 3, 'force_padding': 4, 'force_hidden_channels': 219, 'force_pooling_type': 'max', 'force_use_batch_norm': False, 'acc_n_layers': 6, 'acc_kernel_size': 7, 'acc_stride': 2, 'acc_padding': 6, 'acc_hidden_channels': 167, 'acc_pooling_type': 'avg', 'acc_use_batch_norm': True}. Best is trial 93 with value: 0.2615012228488922.\n"
     ]
    },
    {
     "name": "stdout",
     "output_type": "stream",
     "text": [
      "Epoch 50/50, Training Loss: 0.21844859328120947, Validation Loss: 0.28004150837659836\n"
     ]
    },
    {
     "name": "stderr",
     "output_type": "stream",
     "text": [
      "[I 2023-10-10 21:44:55,435] Trial 107 finished with value: 1.0 and parameters: {'lr': 0.0001339507757062502, 'dropout_prob': 0.17046768732303302, 'force_n_layers': 5, 'force_kernel_size': 6, 'force_stride': 3, 'force_padding': 3, 'force_hidden_channels': 218, 'force_pooling_type': 'max', 'force_use_batch_norm': False, 'acc_n_layers': 6, 'acc_kernel_size': 7, 'acc_stride': 6, 'acc_padding': 6, 'acc_hidden_channels': 165, 'acc_pooling_type': 'avg', 'acc_use_batch_norm': False}. Best is trial 93 with value: 0.2615012228488922.\n"
     ]
    },
    {
     "name": "stdout",
     "output_type": "stream",
     "text": [
      "Trial failed with error: max_pool1d() Invalid computed output size: 0\n",
      "Epoch 10/50, Training Loss: 0.6290515922009945, Validation Loss: 0.635321632027626\n",
      "Epoch 20/50, Training Loss: 0.46297799050807953, Validation Loss: 0.4690427854657173\n",
      "Epoch 30/50, Training Loss: 0.34354090318083763, Validation Loss: 0.35955915600061417\n",
      "Epoch 40/50, Training Loss: 0.3146344590932131, Validation Loss: 0.3258008137345314\n"
     ]
    },
    {
     "name": "stderr",
     "output_type": "stream",
     "text": [
      "[I 2023-10-10 21:46:05,191] Trial 108 finished with value: 0.3092866390943527 and parameters: {'lr': 0.00011890511551097157, 'dropout_prob': 0.1259221610718339, 'force_n_layers': 4, 'force_kernel_size': 6, 'force_stride': 3, 'force_padding': 4, 'force_hidden_channels': 237, 'force_pooling_type': 'max', 'force_use_batch_norm': False, 'acc_n_layers': 6, 'acc_kernel_size': 6, 'acc_stride': 2, 'acc_padding': 3, 'acc_hidden_channels': 170, 'acc_pooling_type': 'avg', 'acc_use_batch_norm': True}. Best is trial 93 with value: 0.2615012228488922.\n"
     ]
    },
    {
     "name": "stdout",
     "output_type": "stream",
     "text": [
      "Epoch 50/50, Training Loss: 0.25571684911847115, Validation Loss: 0.3092866390943527\n",
      "Epoch 10/50, Training Loss: 0.4298917353153229, Validation Loss: 0.41712433844804764\n",
      "Epoch 20/50, Training Loss: 0.30205224733799696, Validation Loss: 0.3484043627977371\n",
      "Epoch 30/50, Training Loss: 0.24692505225539207, Validation Loss: 0.3073839619755745\n",
      "Epoch 40/50, Training Loss: 0.1831092773936689, Validation Loss: 0.3063042238354683\n"
     ]
    },
    {
     "name": "stderr",
     "output_type": "stream",
     "text": [
      "[I 2023-10-10 21:49:38,275] Trial 109 finished with value: 0.30911046266555786 and parameters: {'lr': 0.0001427828858881061, 'dropout_prob': 0.1602877362407688, 'force_n_layers': 4, 'force_kernel_size': 6, 'force_stride': 2, 'force_padding': 3, 'force_hidden_channels': 249, 'force_pooling_type': 'max', 'force_use_batch_norm': False, 'acc_n_layers': 6, 'acc_kernel_size': 7, 'acc_stride': 1, 'acc_padding': 6, 'acc_hidden_channels': 180, 'acc_pooling_type': 'avg', 'acc_use_batch_norm': True}. Best is trial 93 with value: 0.2615012228488922.\n"
     ]
    },
    {
     "name": "stdout",
     "output_type": "stream",
     "text": [
      "Epoch 50/50, Training Loss: 0.15486546605825424, Validation Loss: 0.30911046266555786\n",
      "Epoch 10/50, Training Loss: 0.46888304501771927, Validation Loss: 0.4438641667366028\n",
      "Epoch 20/50, Training Loss: 0.3303377479314804, Validation Loss: 0.35637998580932617\n",
      "Epoch 30/50, Training Loss: 0.2702961778268218, Validation Loss: 0.3176693171262741\n",
      "Epoch 40/50, Training Loss: 0.21648377366364002, Validation Loss: 0.30452290177345276\n"
     ]
    },
    {
     "name": "stderr",
     "output_type": "stream",
     "text": [
      "[I 2023-10-10 21:51:06,752] Trial 110 finished with value: 0.28149665892124176 and parameters: {'lr': 0.00014821928144962408, 'dropout_prob': 0.1414162916644433, 'force_n_layers': 4, 'force_kernel_size': 5, 'force_stride': 3, 'force_padding': 4, 'force_hidden_channels': 224, 'force_pooling_type': 'max', 'force_use_batch_norm': False, 'acc_n_layers': 5, 'acc_kernel_size': 7, 'acc_stride': 2, 'acc_padding': 4, 'acc_hidden_channels': 194, 'acc_pooling_type': 'avg', 'acc_use_batch_norm': True}. Best is trial 93 with value: 0.2615012228488922.\n"
     ]
    },
    {
     "name": "stdout",
     "output_type": "stream",
     "text": [
      "Epoch 50/50, Training Loss: 0.17937061842530966, Validation Loss: 0.28149665892124176\n",
      "Epoch 10/50, Training Loss: 0.47204566933214664, Validation Loss: 0.44032931327819824\n",
      "Epoch 20/50, Training Loss: 0.3360993806272745, Validation Loss: 0.3442329466342926\n",
      "Epoch 30/50, Training Loss: 0.2651979308575392, Validation Loss: 0.29259347170591354\n",
      "Epoch 40/50, Training Loss: 0.21809464506804943, Validation Loss: 0.301969476044178\n"
     ]
    },
    {
     "name": "stderr",
     "output_type": "stream",
     "text": [
      "[I 2023-10-10 21:52:33,489] Trial 111 finished with value: 0.28286055102944374 and parameters: {'lr': 0.0001494143782329745, 'dropout_prob': 0.1429855765344236, 'force_n_layers': 4, 'force_kernel_size': 5, 'force_stride': 3, 'force_padding': 4, 'force_hidden_channels': 229, 'force_pooling_type': 'max', 'force_use_batch_norm': False, 'acc_n_layers': 5, 'acc_kernel_size': 7, 'acc_stride': 2, 'acc_padding': 4, 'acc_hidden_channels': 191, 'acc_pooling_type': 'avg', 'acc_use_batch_norm': True}. Best is trial 93 with value: 0.2615012228488922.\n"
     ]
    },
    {
     "name": "stdout",
     "output_type": "stream",
     "text": [
      "Epoch 50/50, Training Loss: 0.1863299487158656, Validation Loss: 0.28286055102944374\n"
     ]
    },
    {
     "name": "stderr",
     "output_type": "stream",
     "text": [
      "[I 2023-10-10 21:52:35,063] Trial 112 finished with value: 1.0 and parameters: {'lr': 0.0001763042147851337, 'dropout_prob': 0.17289023576037307, 'force_n_layers': 4, 'force_kernel_size': 6, 'force_stride': 3, 'force_padding': 3, 'force_hidden_channels': 226, 'force_pooling_type': 'max', 'force_use_batch_norm': False, 'acc_n_layers': 5, 'acc_kernel_size': 7, 'acc_stride': 2, 'acc_padding': 2, 'acc_hidden_channels': 179, 'acc_pooling_type': 'avg', 'acc_use_batch_norm': True}. Best is trial 93 with value: 0.2615012228488922.\n"
     ]
    },
    {
     "name": "stdout",
     "output_type": "stream",
     "text": [
      "Trial failed with error: max_pool1d() Invalid computed output size: 0\n",
      "Epoch 10/50, Training Loss: 0.6049637608230114, Validation Loss: 0.5930965840816498\n",
      "Epoch 20/50, Training Loss: 0.35962465964257717, Validation Loss: 0.37801115959882736\n",
      "Epoch 30/50, Training Loss: 0.29775081388652325, Validation Loss: 0.31892048567533493\n",
      "Epoch 40/50, Training Loss: 0.2501370310783386, Validation Loss: 0.28644272685050964\n"
     ]
    },
    {
     "name": "stderr",
     "output_type": "stream",
     "text": [
      "[I 2023-10-10 21:54:14,219] Trial 113 finished with value: 0.2886044532060623 and parameters: {'lr': 0.00011806567978852205, 'dropout_prob': 0.1954177320884019, 'force_n_layers': 4, 'force_kernel_size': 6, 'force_stride': 3, 'force_padding': 4, 'force_hidden_channels': 217, 'force_pooling_type': 'max', 'force_use_batch_norm': False, 'acc_n_layers': 5, 'acc_kernel_size': 7, 'acc_stride': 2, 'acc_padding': 4, 'acc_hidden_channels': 198, 'acc_pooling_type': 'avg', 'acc_use_batch_norm': True}. Best is trial 93 with value: 0.2615012228488922.\n"
     ]
    },
    {
     "name": "stdout",
     "output_type": "stream",
     "text": [
      "Epoch 50/50, Training Loss: 0.22123902942985296, Validation Loss: 0.2886044532060623\n",
      "Epoch 10/50, Training Loss: 0.4517082944512367, Validation Loss: 0.46637870371341705\n",
      "Epoch 20/50, Training Loss: 0.34292437694966793, Validation Loss: 0.36825376749038696\n",
      "Epoch 30/50, Training Loss: 0.2789201820269227, Validation Loss: 0.3291574642062187\n",
      "Epoch 40/50, Training Loss: 0.2071856688708067, Validation Loss: 0.3409648686647415\n"
     ]
    },
    {
     "name": "stderr",
     "output_type": "stream",
     "text": [
      "[I 2023-10-10 21:55:34,402] Trial 114 finished with value: 0.30969396233558655 and parameters: {'lr': 0.00021763046496425022, 'dropout_prob': 0.1614923824062544, 'force_n_layers': 4, 'force_kernel_size': 6, 'force_stride': 1, 'force_padding': 4, 'force_hidden_channels': 247, 'force_pooling_type': 'max', 'force_use_batch_norm': False, 'acc_n_layers': 6, 'acc_kernel_size': 7, 'acc_stride': 2, 'acc_padding': 4, 'acc_hidden_channels': 152, 'acc_pooling_type': 'avg', 'acc_use_batch_norm': True}. Best is trial 93 with value: 0.2615012228488922.\n"
     ]
    },
    {
     "name": "stdout",
     "output_type": "stream",
     "text": [
      "Epoch 50/50, Training Loss: 0.18263076664879918, Validation Loss: 0.30969396233558655\n",
      "Epoch 10/50, Training Loss: 0.6203258074820042, Validation Loss: 0.6258177310228348\n",
      "Epoch 20/50, Training Loss: 0.3938947468996048, Validation Loss: 0.404526524245739\n",
      "Epoch 30/50, Training Loss: 0.3448755145072937, Validation Loss: 0.3779726028442383\n",
      "Epoch 40/50, Training Loss: 0.29833493009209633, Validation Loss: 0.34156128019094467\n"
     ]
    },
    {
     "name": "stderr",
     "output_type": "stream",
     "text": [
      "[I 2023-10-10 21:56:45,207] Trial 115 finished with value: 0.3205319046974182 and parameters: {'lr': 0.00012745641886298853, 'dropout_prob': 0.1534945520827697, 'force_n_layers': 4, 'force_kernel_size': 5, 'force_stride': 2, 'force_padding': 3, 'force_hidden_channels': 199, 'force_pooling_type': 'max', 'force_use_batch_norm': False, 'acc_n_layers': 5, 'acc_kernel_size': 6, 'acc_stride': 2, 'acc_padding': 6, 'acc_hidden_channels': 141, 'acc_pooling_type': 'avg', 'acc_use_batch_norm': True}. Best is trial 93 with value: 0.2615012228488922.\n"
     ]
    },
    {
     "name": "stdout",
     "output_type": "stream",
     "text": [
      "Epoch 50/50, Training Loss: 0.2616462940350175, Validation Loss: 0.3205319046974182\n",
      "Epoch 10/50, Training Loss: 0.6272283680737019, Validation Loss: 0.6363967061042786\n",
      "Epoch 20/50, Training Loss: 0.46201223507523537, Validation Loss: 0.44957492500543594\n",
      "Epoch 30/50, Training Loss: 0.3437928184866905, Validation Loss: 0.38492075353860855\n",
      "Epoch 40/50, Training Loss: 0.2674137679859996, Validation Loss: 0.3451300412416458\n"
     ]
    },
    {
     "name": "stderr",
     "output_type": "stream",
     "text": [
      "[I 2023-10-10 21:58:02,259] Trial 116 finished with value: 0.3266352713108063 and parameters: {'lr': 0.0001663893575602455, 'dropout_prob': 0.12687882285951188, 'force_n_layers': 5, 'force_kernel_size': 6, 'force_stride': 3, 'force_padding': 4, 'force_hidden_channels': 221, 'force_pooling_type': 'max', 'force_use_batch_norm': False, 'acc_n_layers': 7, 'acc_kernel_size': 6, 'acc_stride': 2, 'acc_padding': 5, 'acc_hidden_channels': 168, 'acc_pooling_type': 'avg', 'acc_use_batch_norm': True}. Best is trial 93 with value: 0.2615012228488922.\n"
     ]
    },
    {
     "name": "stdout",
     "output_type": "stream",
     "text": [
      "Epoch 50/50, Training Loss: 0.22689166944473982, Validation Loss: 0.3266352713108063\n"
     ]
    },
    {
     "name": "stderr",
     "output_type": "stream",
     "text": [
      "[I 2023-10-10 21:58:03,782] Trial 117 finished with value: 1.0 and parameters: {'lr': 0.0002591208134503636, 'dropout_prob': 0.14267797271097116, 'force_n_layers': 4, 'force_kernel_size': 6, 'force_stride': 4, 'force_padding': 4, 'force_hidden_channels': 213, 'force_pooling_type': 'max', 'force_use_batch_norm': False, 'acc_n_layers': 1, 'acc_kernel_size': 7, 'acc_stride': 2, 'acc_padding': 4, 'acc_hidden_channels': 195, 'acc_pooling_type': 'avg', 'acc_use_batch_norm': True}. Best is trial 93 with value: 0.2615012228488922.\n"
     ]
    },
    {
     "name": "stdout",
     "output_type": "stream",
     "text": [
      "Trial failed with error: max_pool1d() Invalid computed output size: 0\n",
      "Epoch 10/50, Training Loss: 0.6261799857020378, Validation Loss: 0.6328328102827072\n",
      "Epoch 20/50, Training Loss: 0.44822419434785843, Validation Loss: 0.43457143008708954\n",
      "Epoch 30/50, Training Loss: 0.3638224583119154, Validation Loss: 0.3729207217693329\n",
      "Epoch 40/50, Training Loss: 0.32446710020303726, Validation Loss: 0.34620632976293564\n"
     ]
    },
    {
     "name": "stderr",
     "output_type": "stream",
     "text": [
      "[I 2023-10-10 21:59:33,983] Trial 118 finished with value: 0.32885149121284485 and parameters: {'lr': 8.125854597248954e-05, 'dropout_prob': 0.18847819215469735, 'force_n_layers': 4, 'force_kernel_size': 5, 'force_stride': 3, 'force_padding': 6, 'force_hidden_channels': 234, 'force_pooling_type': 'max', 'force_use_batch_norm': False, 'acc_n_layers': 5, 'acc_kernel_size': 7, 'acc_stride': 2, 'acc_padding': 6, 'acc_hidden_channels': 173, 'acc_pooling_type': 'avg', 'acc_use_batch_norm': True}. Best is trial 93 with value: 0.2615012228488922.\n"
     ]
    },
    {
     "name": "stdout",
     "output_type": "stream",
     "text": [
      "Epoch 50/50, Training Loss: 0.297067616134882, Validation Loss: 0.32885149121284485\n",
      "Epoch 10/50, Training Loss: 0.3881530072540045, Validation Loss: 0.4083090052008629\n",
      "Epoch 20/50, Training Loss: 0.2698131687939167, Validation Loss: 0.3377442732453346\n",
      "Epoch 30/50, Training Loss: 0.1745544606819749, Validation Loss: 0.2844666466116905\n",
      "Epoch 40/50, Training Loss: 0.12960220407694578, Validation Loss: 0.303264282643795\n"
     ]
    },
    {
     "name": "stderr",
     "output_type": "stream",
     "text": [
      "[I 2023-10-10 22:02:51,978] Trial 119 finished with value: 0.3372829258441925 and parameters: {'lr': 0.0001969615814327298, 'dropout_prob': 0.17779572154251472, 'force_n_layers': 4, 'force_kernel_size': 7, 'force_stride': 2, 'force_padding': 4, 'force_hidden_channels': 224, 'force_pooling_type': 'max', 'force_use_batch_norm': False, 'acc_n_layers': 6, 'acc_kernel_size': 7, 'acc_stride': 1, 'acc_padding': 3, 'acc_hidden_channels': 184, 'acc_pooling_type': 'avg', 'acc_use_batch_norm': True}. Best is trial 93 with value: 0.2615012228488922.\n"
     ]
    },
    {
     "name": "stdout",
     "output_type": "stream",
     "text": [
      "Epoch 50/50, Training Loss: 0.08140552137047052, Validation Loss: 0.3372829258441925\n",
      "Epoch 10/50, Training Loss: 0.6191891729831696, Validation Loss: 0.6270751953125\n",
      "Epoch 20/50, Training Loss: 0.3929221983999014, Validation Loss: 0.40633902698755264\n",
      "Epoch 30/50, Training Loss: 0.30857634730637074, Validation Loss: 0.3432541489601135\n",
      "Epoch 40/50, Training Loss: 0.2711955588310957, Validation Loss: 0.31007835268974304\n"
     ]
    },
    {
     "name": "stderr",
     "output_type": "stream",
     "text": [
      "[I 2023-10-10 22:03:51,474] Trial 120 finished with value: 0.28609707206487656 and parameters: {'lr': 0.00014929212831570624, 'dropout_prob': 0.21642445142996827, 'force_n_layers': 5, 'force_kernel_size': 6, 'force_stride': 3, 'force_padding': 5, 'force_hidden_channels': 28, 'force_pooling_type': 'max', 'force_use_batch_norm': False, 'acc_n_layers': 5, 'acc_kernel_size': 6, 'acc_stride': 2, 'acc_padding': 4, 'acc_hidden_channels': 165, 'acc_pooling_type': 'avg', 'acc_use_batch_norm': True}. Best is trial 93 with value: 0.2615012228488922.\n"
     ]
    },
    {
     "name": "stdout",
     "output_type": "stream",
     "text": [
      "Epoch 50/50, Training Loss: 0.23000330291688442, Validation Loss: 0.28609707206487656\n",
      "Epoch 10/50, Training Loss: 0.43099071457982063, Validation Loss: 0.4320221617817879\n",
      "Epoch 20/50, Training Loss: 0.3490904103964567, Validation Loss: 0.36064639687538147\n",
      "Epoch 30/50, Training Loss: 0.2578978771343827, Validation Loss: 0.3218383118510246\n",
      "Epoch 40/50, Training Loss: 0.20266097597777843, Validation Loss: 0.2929193526506424\n"
     ]
    },
    {
     "name": "stderr",
     "output_type": "stream",
     "text": [
      "[I 2023-10-10 22:04:53,784] Trial 121 finished with value: 0.28624680638313293 and parameters: {'lr': 0.00020524377807369944, 'dropout_prob': 0.18472339529228649, 'force_n_layers': 4, 'force_kernel_size': 6, 'force_stride': 3, 'force_padding': 5, 'force_hidden_channels': 211, 'force_pooling_type': 'max', 'force_use_batch_norm': False, 'acc_n_layers': 5, 'acc_kernel_size': 7, 'acc_stride': 2, 'acc_padding': 5, 'acc_hidden_channels': 158, 'acc_pooling_type': 'avg', 'acc_use_batch_norm': True}. Best is trial 93 with value: 0.2615012228488922.\n"
     ]
    },
    {
     "name": "stdout",
     "output_type": "stream",
     "text": [
      "Epoch 50/50, Training Loss: 0.16057593980804086, Validation Loss: 0.28624680638313293\n",
      "Epoch 10/50, Training Loss: 0.6259115226566792, Validation Loss: 0.6295037567615509\n",
      "Epoch 20/50, Training Loss: 0.411166500300169, Validation Loss: 0.4199303910136223\n",
      "Epoch 30/50, Training Loss: 0.3377413023263216, Validation Loss: 0.3644852191209793\n",
      "Epoch 40/50, Training Loss: 0.32086773961782455, Validation Loss: 0.34746214002370834\n"
     ]
    },
    {
     "name": "stderr",
     "output_type": "stream",
     "text": [
      "[I 2023-10-10 22:05:55,912] Trial 122 finished with value: 0.3091459572315216 and parameters: {'lr': 0.00010381980539793137, 'dropout_prob': 0.16694980481849084, 'force_n_layers': 4, 'force_kernel_size': 6, 'force_stride': 3, 'force_padding': 5, 'force_hidden_channels': 207, 'force_pooling_type': 'max', 'force_use_batch_norm': False, 'acc_n_layers': 5, 'acc_kernel_size': 7, 'acc_stride': 2, 'acc_padding': 5, 'acc_hidden_channels': 147, 'acc_pooling_type': 'avg', 'acc_use_batch_norm': True}. Best is trial 93 with value: 0.2615012228488922.\n"
     ]
    },
    {
     "name": "stdout",
     "output_type": "stream",
     "text": [
      "Epoch 50/50, Training Loss: 0.27629881724715233, Validation Loss: 0.3091459572315216\n",
      "Epoch 10/50, Training Loss: 0.4903534185141325, Validation Loss: 0.46414703875780106\n",
      "Epoch 20/50, Training Loss: 0.3426438458263874, Validation Loss: 0.37142664194107056\n",
      "Epoch 30/50, Training Loss: 0.2872204389423132, Validation Loss: 0.3225537836551666\n",
      "Epoch 40/50, Training Loss: 0.24636810924857855, Validation Loss: 0.32145956158638\n"
     ]
    },
    {
     "name": "stderr",
     "output_type": "stream",
     "text": [
      "[I 2023-10-10 22:07:00,411] Trial 123 finished with value: 0.2786305472254753 and parameters: {'lr': 0.00018381385511134535, 'dropout_prob': 0.1774141549356444, 'force_n_layers': 4, 'force_kernel_size': 6, 'force_stride': 3, 'force_padding': 5, 'force_hidden_channels': 228, 'force_pooling_type': 'max', 'force_use_batch_norm': False, 'acc_n_layers': 5, 'acc_kernel_size': 7, 'acc_stride': 2, 'acc_padding': 5, 'acc_hidden_channels': 159, 'acc_pooling_type': 'avg', 'acc_use_batch_norm': True}. Best is trial 93 with value: 0.2615012228488922.\n"
     ]
    },
    {
     "name": "stdout",
     "output_type": "stream",
     "text": [
      "Epoch 50/50, Training Loss: 0.19548362866044044, Validation Loss: 0.2786305472254753\n",
      "Epoch 10/50, Training Loss: 0.4293733760714531, Validation Loss: 0.4185362309217453\n",
      "Epoch 20/50, Training Loss: 0.3369214329868555, Validation Loss: 0.35640526562929153\n",
      "Epoch 30/50, Training Loss: 0.2442058539018035, Validation Loss: 0.3133092671632767\n",
      "Epoch 40/50, Training Loss: 0.2067208276130259, Validation Loss: 0.2720269560813904\n"
     ]
    },
    {
     "name": "stderr",
     "output_type": "stream",
     "text": [
      "[I 2023-10-10 22:08:18,814] Trial 124 finished with value: 0.2721741944551468 and parameters: {'lr': 0.00024697532437495065, 'dropout_prob': 0.20072321169198754, 'force_n_layers': 4, 'force_kernel_size': 6, 'force_stride': 3, 'force_padding': 6, 'force_hidden_channels': 229, 'force_pooling_type': 'max', 'force_use_batch_norm': False, 'acc_n_layers': 5, 'acc_kernel_size': 7, 'acc_stride': 2, 'acc_padding': 4, 'acc_hidden_channels': 134, 'acc_pooling_type': 'avg', 'acc_use_batch_norm': True}. Best is trial 93 with value: 0.2615012228488922.\n"
     ]
    },
    {
     "name": "stdout",
     "output_type": "stream",
     "text": [
      "Epoch 50/50, Training Loss: 0.17653394537046552, Validation Loss: 0.2721741944551468\n",
      "Epoch 10/50, Training Loss: 0.44281071797013283, Validation Loss: 0.44083309918642044\n",
      "Epoch 20/50, Training Loss: 0.3427706491202116, Validation Loss: 0.37605223059654236\n",
      "Epoch 30/50, Training Loss: 0.2675562584772706, Validation Loss: 0.3217213824391365\n",
      "Epoch 40/50, Training Loss: 0.2240115012973547, Validation Loss: 0.2983785346150398\n"
     ]
    },
    {
     "name": "stderr",
     "output_type": "stream",
     "text": [
      "[I 2023-10-10 22:09:38,806] Trial 125 finished with value: 0.2752405256032944 and parameters: {'lr': 0.0002416652065678163, 'dropout_prob': 0.20241698998524546, 'force_n_layers': 4, 'force_kernel_size': 6, 'force_stride': 4, 'force_padding': 6, 'force_hidden_channels': 239, 'force_pooling_type': 'max', 'force_use_batch_norm': False, 'acc_n_layers': 5, 'acc_kernel_size': 7, 'acc_stride': 2, 'acc_padding': 5, 'acc_hidden_channels': 120, 'acc_pooling_type': 'avg', 'acc_use_batch_norm': True}. Best is trial 93 with value: 0.2615012228488922.\n"
     ]
    },
    {
     "name": "stdout",
     "output_type": "stream",
     "text": [
      "Epoch 50/50, Training Loss: 0.1823216313496232, Validation Loss: 0.2752405256032944\n",
      "Epoch 10/50, Training Loss: 0.41469172202050686, Validation Loss: 0.42438308894634247\n",
      "Epoch 20/50, Training Loss: 0.3295470494776964, Validation Loss: 0.34385183453559875\n",
      "Epoch 30/50, Training Loss: 0.26333190593868494, Validation Loss: 0.2965351417660713\n",
      "Epoch 40/50, Training Loss: 0.21145679149776697, Validation Loss: 0.2788965702056885\n"
     ]
    },
    {
     "name": "stderr",
     "output_type": "stream",
     "text": [
      "[I 2023-10-10 22:11:07,091] Trial 126 finished with value: 0.2681727707386017 and parameters: {'lr': 0.0002293591698005953, 'dropout_prob': 0.20514540674081028, 'force_n_layers': 4, 'force_kernel_size': 6, 'force_stride': 2, 'force_padding': 6, 'force_hidden_channels': 239, 'force_pooling_type': 'max', 'force_use_batch_norm': False, 'acc_n_layers': 5, 'acc_kernel_size': 7, 'acc_stride': 2, 'acc_padding': 5, 'acc_hidden_channels': 131, 'acc_pooling_type': 'avg', 'acc_use_batch_norm': True}. Best is trial 93 with value: 0.2615012228488922.\n"
     ]
    },
    {
     "name": "stdout",
     "output_type": "stream",
     "text": [
      "Epoch 50/50, Training Loss: 0.17953717662021518, Validation Loss: 0.2681727707386017\n",
      "Epoch 10/50, Training Loss: 0.44752845354378223, Validation Loss: 0.4333096146583557\n",
      "Epoch 20/50, Training Loss: 0.35492477007210255, Validation Loss: 0.3775721862912178\n",
      "Epoch 30/50, Training Loss: 0.34450777992606163, Validation Loss: 0.3319054991006851\n",
      "Epoch 40/50, Training Loss: 0.29100719653069973, Validation Loss: 0.3184635490179062\n"
     ]
    },
    {
     "name": "stderr",
     "output_type": "stream",
     "text": [
      "[I 2023-10-10 22:12:27,974] Trial 127 finished with value: 0.34426289051771164 and parameters: {'lr': 0.0002569957375848903, 'dropout_prob': 0.2071823174221919, 'force_n_layers': 4, 'force_kernel_size': 6, 'force_stride': 2, 'force_padding': 6, 'force_hidden_channels': 237, 'force_pooling_type': 'max', 'force_use_batch_norm': False, 'acc_n_layers': 5, 'acc_kernel_size': 7, 'acc_stride': 2, 'acc_padding': 5, 'acc_hidden_channels': 131, 'acc_pooling_type': 'avg', 'acc_use_batch_norm': False}. Best is trial 93 with value: 0.2615012228488922.\n"
     ]
    },
    {
     "name": "stdout",
     "output_type": "stream",
     "text": [
      "Epoch 50/50, Training Loss: 0.3096605557948351, Validation Loss: 0.34426289051771164\n",
      "Epoch 10/50, Training Loss: 0.43373928777873516, Validation Loss: 0.42401155084371567\n",
      "Epoch 20/50, Training Loss: 0.32856809720396996, Validation Loss: 0.36713917553424835\n",
      "Epoch 30/50, Training Loss: 0.2589275799691677, Validation Loss: 0.30520086735486984\n",
      "Epoch 40/50, Training Loss: 0.21984746865928173, Validation Loss: 0.28409144282341003\n"
     ]
    },
    {
     "name": "stderr",
     "output_type": "stream",
     "text": [
      "[I 2023-10-10 22:13:55,789] Trial 128 finished with value: 0.28378237038850784 and parameters: {'lr': 0.0003235010392604428, 'dropout_prob': 0.2213164425123705, 'force_n_layers': 4, 'force_kernel_size': 6, 'force_stride': 2, 'force_padding': 6, 'force_hidden_channels': 254, 'force_pooling_type': 'max', 'force_use_batch_norm': False, 'acc_n_layers': 5, 'acc_kernel_size': 5, 'acc_stride': 2, 'acc_padding': 5, 'acc_hidden_channels': 125, 'acc_pooling_type': 'avg', 'acc_use_batch_norm': True}. Best is trial 93 with value: 0.2615012228488922.\n"
     ]
    },
    {
     "name": "stdout",
     "output_type": "stream",
     "text": [
      "Epoch 50/50, Training Loss: 0.1842902135103941, Validation Loss: 0.28378237038850784\n",
      "Epoch 10/50, Training Loss: 0.4599355645477772, Validation Loss: 0.44648487865924835\n",
      "Epoch 20/50, Training Loss: 0.32409076765179634, Validation Loss: 0.35596320778131485\n",
      "Epoch 30/50, Training Loss: 0.25716211926192045, Validation Loss: 0.3311448022723198\n",
      "Epoch 40/50, Training Loss: 0.2190654007717967, Validation Loss: 0.28891293704509735\n"
     ]
    },
    {
     "name": "stderr",
     "output_type": "stream",
     "text": [
      "[I 2023-10-10 22:14:49,243] Trial 129 finished with value: 0.27558305859565735 and parameters: {'lr': 0.00023675671673065233, 'dropout_prob': 0.23010213471710145, 'force_n_layers': 3, 'force_kernel_size': 7, 'force_stride': 2, 'force_padding': 6, 'force_hidden_channels': 238, 'force_pooling_type': 'max', 'force_use_batch_norm': False, 'acc_n_layers': 5, 'acc_kernel_size': 6, 'acc_stride': 2, 'acc_padding': 5, 'acc_hidden_channels': 134, 'acc_pooling_type': 'avg', 'acc_use_batch_norm': True}. Best is trial 93 with value: 0.2615012228488922.\n"
     ]
    },
    {
     "name": "stdout",
     "output_type": "stream",
     "text": [
      "Epoch 50/50, Training Loss: 0.18868357874453068, Validation Loss: 0.27558305859565735\n",
      "Epoch 10/50, Training Loss: 0.3901887498795986, Validation Loss: 0.43384894728660583\n",
      "Epoch 20/50, Training Loss: 0.2811534469947219, Validation Loss: 0.32427582144737244\n",
      "Epoch 30/50, Training Loss: 0.20943191181868315, Validation Loss: 0.2921849191188812\n",
      "Epoch 40/50, Training Loss: 0.16065407870337367, Validation Loss: 0.31068021059036255\n"
     ]
    },
    {
     "name": "stderr",
     "output_type": "stream",
     "text": [
      "[I 2023-10-10 22:15:44,219] Trial 130 finished with value: 0.3306230530142784 and parameters: {'lr': 0.00041988777932533156, 'dropout_prob': 0.22763975775596215, 'force_n_layers': 3, 'force_kernel_size': 7, 'force_stride': 2, 'force_padding': 6, 'force_hidden_channels': 243, 'force_pooling_type': 'max', 'force_use_batch_norm': False, 'acc_n_layers': 5, 'acc_kernel_size': 6, 'acc_stride': 2, 'acc_padding': 5, 'acc_hidden_channels': 121, 'acc_pooling_type': 'avg', 'acc_use_batch_norm': True}. Best is trial 93 with value: 0.2615012228488922.\n"
     ]
    },
    {
     "name": "stdout",
     "output_type": "stream",
     "text": [
      "Epoch 50/50, Training Loss: 0.13020544964820147, Validation Loss: 0.3306230530142784\n",
      "Epoch 10/50, Training Loss: 0.43491835705935955, Validation Loss: 0.4344657212495804\n",
      "Epoch 20/50, Training Loss: 0.3279129909351468, Validation Loss: 0.36819935590028763\n",
      "Epoch 30/50, Training Loss: 0.275800216011703, Validation Loss: 0.3193313106894493\n",
      "Epoch 40/50, Training Loss: 0.24744716379791498, Validation Loss: 0.298267163336277\n"
     ]
    },
    {
     "name": "stderr",
     "output_type": "stream",
     "text": [
      "[I 2023-10-10 22:16:54,742] Trial 131 finished with value: 0.2897445634007454 and parameters: {'lr': 0.0002420515889011154, 'dropout_prob': 0.20003391548966137, 'force_n_layers': 3, 'force_kernel_size': 6, 'force_stride': 2, 'force_padding': 6, 'force_hidden_channels': 229, 'force_pooling_type': 'max', 'force_use_batch_norm': False, 'acc_n_layers': 5, 'acc_kernel_size': 6, 'acc_stride': 2, 'acc_padding': 5, 'acc_hidden_channels': 132, 'acc_pooling_type': 'avg', 'acc_use_batch_norm': True}. Best is trial 93 with value: 0.2615012228488922.\n"
     ]
    },
    {
     "name": "stdout",
     "output_type": "stream",
     "text": [
      "Epoch 50/50, Training Loss: 0.1879877340979874, Validation Loss: 0.2897445634007454\n",
      "Epoch 10/50, Training Loss: 0.44412817247211933, Validation Loss: 0.43570514768362045\n",
      "Epoch 20/50, Training Loss: 0.33241443149745464, Validation Loss: 0.36800309270620346\n",
      "Epoch 30/50, Training Loss: 0.25684309750795364, Validation Loss: 0.3171979486942291\n",
      "Epoch 40/50, Training Loss: 0.21639125235378742, Validation Loss: 0.2709425911307335\n"
     ]
    },
    {
     "name": "stderr",
     "output_type": "stream",
     "text": [
      "[I 2023-10-10 22:18:18,131] Trial 132 finished with value: 0.2706769108772278 and parameters: {'lr': 0.00022155779509757816, 'dropout_prob': 0.21019966079005548, 'force_n_layers': 4, 'force_kernel_size': 6, 'force_stride': 2, 'force_padding': 6, 'force_hidden_channels': 229, 'force_pooling_type': 'max', 'force_use_batch_norm': False, 'acc_n_layers': 5, 'acc_kernel_size': 7, 'acc_stride': 2, 'acc_padding': 4, 'acc_hidden_channels': 141, 'acc_pooling_type': 'avg', 'acc_use_batch_norm': True}. Best is trial 93 with value: 0.2615012228488922.\n"
     ]
    },
    {
     "name": "stdout",
     "output_type": "stream",
     "text": [
      "Epoch 50/50, Training Loss: 0.18673406727612019, Validation Loss: 0.2706769108772278\n",
      "Epoch 10/50, Training Loss: 0.48070336505770683, Validation Loss: 0.45332349091768265\n",
      "Epoch 20/50, Training Loss: 0.34970113448798656, Validation Loss: 0.38413290679454803\n",
      "Epoch 30/50, Training Loss: 0.28474381286650896, Validation Loss: 0.33807216584682465\n",
      "Epoch 40/50, Training Loss: 0.23160935007035732, Validation Loss: 0.29842226952314377\n"
     ]
    },
    {
     "name": "stderr",
     "output_type": "stream",
     "text": [
      "[I 2023-10-10 22:19:33,991] Trial 133 finished with value: 0.28547073155641556 and parameters: {'lr': 0.0002226449308873318, 'dropout_prob': 0.21253253137071826, 'force_n_layers': 3, 'force_kernel_size': 6, 'force_stride': 2, 'force_padding': 6, 'force_hidden_channels': 239, 'force_pooling_type': 'max', 'force_use_batch_norm': False, 'acc_n_layers': 5, 'acc_kernel_size': 6, 'acc_stride': 2, 'acc_padding': 4, 'acc_hidden_channels': 137, 'acc_pooling_type': 'avg', 'acc_use_batch_norm': True}. Best is trial 93 with value: 0.2615012228488922.\n"
     ]
    },
    {
     "name": "stdout",
     "output_type": "stream",
     "text": [
      "Epoch 50/50, Training Loss: 0.1929675154387951, Validation Loss: 0.28547073155641556\n",
      "Epoch 10/50, Training Loss: 0.3851193431764841, Validation Loss: 0.40336939692497253\n",
      "Epoch 20/50, Training Loss: 0.2873770799487829, Validation Loss: 0.30900584161281586\n",
      "Epoch 30/50, Training Loss: 0.2098836125805974, Validation Loss: 0.27084382623434067\n",
      "Epoch 40/50, Training Loss: 0.18235892336815596, Validation Loss: 0.2583080865442753\n"
     ]
    },
    {
     "name": "stderr",
     "output_type": "stream",
     "text": [
      "[I 2023-10-10 22:20:57,756] Trial 134 finished with value: 0.25598885118961334 and parameters: {'lr': 0.00033793720048713163, 'dropout_prob': 0.2305883844285585, 'force_n_layers': 4, 'force_kernel_size': 6, 'force_stride': 2, 'force_padding': 6, 'force_hidden_channels': 248, 'force_pooling_type': 'max', 'force_use_batch_norm': False, 'acc_n_layers': 5, 'acc_kernel_size': 7, 'acc_stride': 2, 'acc_padding': 4, 'acc_hidden_channels': 116, 'acc_pooling_type': 'avg', 'acc_use_batch_norm': True}. Best is trial 134 with value: 0.25598885118961334.\n"
     ]
    },
    {
     "name": "stdout",
     "output_type": "stream",
     "text": [
      "Epoch 50/50, Training Loss: 0.1602949472144246, Validation Loss: 0.25598885118961334\n",
      "Epoch 10/50, Training Loss: 0.36899619922041893, Validation Loss: 0.4004530981183052\n",
      "Epoch 20/50, Training Loss: 0.2664292976260185, Validation Loss: 0.2989659532904625\n",
      "Epoch 30/50, Training Loss: 0.20507753547281027, Validation Loss: 0.27377498149871826\n",
      "Epoch 40/50, Training Loss: 0.17283172206953168, Validation Loss: 0.275857612490654\n"
     ]
    },
    {
     "name": "stderr",
     "output_type": "stream",
     "text": [
      "[I 2023-10-10 22:22:23,477] Trial 135 finished with value: 0.30397696793079376 and parameters: {'lr': 0.00034096223275997833, 'dropout_prob': 0.23867864593093602, 'force_n_layers': 4, 'force_kernel_size': 6, 'force_stride': 2, 'force_padding': 6, 'force_hidden_channels': 246, 'force_pooling_type': 'max', 'force_use_batch_norm': False, 'acc_n_layers': 5, 'acc_kernel_size': 7, 'acc_stride': 2, 'acc_padding': 4, 'acc_hidden_channels': 128, 'acc_pooling_type': 'avg', 'acc_use_batch_norm': True}. Best is trial 134 with value: 0.25598885118961334.\n"
     ]
    },
    {
     "name": "stdout",
     "output_type": "stream",
     "text": [
      "Epoch 50/50, Training Loss: 0.13884311728179455, Validation Loss: 0.30397696793079376\n",
      "Epoch 10/50, Training Loss: 0.4699178710579872, Validation Loss: 0.4422580823302269\n",
      "Epoch 20/50, Training Loss: 0.33857244811952114, Validation Loss: 0.3489967957139015\n",
      "Epoch 30/50, Training Loss: 0.26355124544352293, Validation Loss: 0.28313858807086945\n",
      "Epoch 40/50, Training Loss: 0.23819195851683617, Validation Loss: 0.27200207859277725\n"
     ]
    },
    {
     "name": "stderr",
     "output_type": "stream",
     "text": [
      "[I 2023-10-10 22:23:47,264] Trial 136 finished with value: 0.26588691025972366 and parameters: {'lr': 0.0002709566150693722, 'dropout_prob': 0.24642062629200878, 'force_n_layers': 4, 'force_kernel_size': 6, 'force_stride': 2, 'force_padding': 6, 'force_hidden_channels': 250, 'force_pooling_type': 'max', 'force_use_batch_norm': False, 'acc_n_layers': 5, 'acc_kernel_size': 7, 'acc_stride': 2, 'acc_padding': 4, 'acc_hidden_channels': 113, 'acc_pooling_type': 'avg', 'acc_use_batch_norm': True}. Best is trial 134 with value: 0.25598885118961334.\n"
     ]
    },
    {
     "name": "stdout",
     "output_type": "stream",
     "text": [
      "Epoch 50/50, Training Loss: 0.17956682946532965, Validation Loss: 0.26588691025972366\n",
      "Epoch 10/50, Training Loss: 0.3839489482343197, Validation Loss: 0.3857869729399681\n",
      "Epoch 20/50, Training Loss: 0.26959673780947924, Validation Loss: 0.3158069923520088\n",
      "Epoch 30/50, Training Loss: 0.21868853084743023, Validation Loss: 0.2925315871834755\n",
      "Epoch 40/50, Training Loss: 0.18439076840877533, Validation Loss: 0.26590947061777115\n"
     ]
    },
    {
     "name": "stderr",
     "output_type": "stream",
     "text": [
      "[I 2023-10-10 22:25:33,282] Trial 137 finished with value: 0.2846193090081215 and parameters: {'lr': 0.00036701118435936825, 'dropout_prob': 0.24831127572533282, 'force_n_layers': 4, 'force_kernel_size': 6, 'force_stride': 1, 'force_padding': 6, 'force_hidden_channels': 251, 'force_pooling_type': 'max', 'force_use_batch_norm': False, 'acc_n_layers': 5, 'acc_kernel_size': 7, 'acc_stride': 2, 'acc_padding': 4, 'acc_hidden_channels': 111, 'acc_pooling_type': 'avg', 'acc_use_batch_norm': True}. Best is trial 134 with value: 0.25598885118961334.\n"
     ]
    },
    {
     "name": "stdout",
     "output_type": "stream",
     "text": [
      "Epoch 50/50, Training Loss: 0.15769002446904778, Validation Loss: 0.2846193090081215\n",
      "Epoch 10/50, Training Loss: 0.4288458041846752, Validation Loss: 0.42795661091804504\n",
      "Epoch 20/50, Training Loss: 0.33042405918240547, Validation Loss: 0.3518313989043236\n",
      "Epoch 30/50, Training Loss: 0.26377762760967016, Validation Loss: 0.3135010078549385\n",
      "Epoch 40/50, Training Loss: 0.23837369214743376, Validation Loss: 0.30126237124204636\n"
     ]
    },
    {
     "name": "stderr",
     "output_type": "stream",
     "text": [
      "[I 2023-10-10 22:26:57,031] Trial 138 finished with value: 0.26630109548568726 and parameters: {'lr': 0.0002753156740275268, 'dropout_prob': 0.227300753380751, 'force_n_layers': 4, 'force_kernel_size': 6, 'force_stride': 2, 'force_padding': 6, 'force_hidden_channels': 256, 'force_pooling_type': 'max', 'force_use_batch_norm': False, 'acc_n_layers': 5, 'acc_kernel_size': 7, 'acc_stride': 2, 'acc_padding': 4, 'acc_hidden_channels': 104, 'acc_pooling_type': 'avg', 'acc_use_batch_norm': True}. Best is trial 134 with value: 0.25598885118961334.\n"
     ]
    },
    {
     "name": "stdout",
     "output_type": "stream",
     "text": [
      "Epoch 50/50, Training Loss: 0.1843007360585034, Validation Loss: 0.26630109548568726\n",
      "Epoch 10/50, Training Loss: 0.4695217553526163, Validation Loss: 0.4543059691786766\n",
      "Epoch 20/50, Training Loss: 0.35239458829164505, Validation Loss: 0.3651512786746025\n",
      "Epoch 30/50, Training Loss: 0.28007718082517385, Validation Loss: 0.3507120907306671\n",
      "Epoch 40/50, Training Loss: 0.2368375239893794, Validation Loss: 0.28811049461364746\n"
     ]
    },
    {
     "name": "stderr",
     "output_type": "stream",
     "text": [
      "[I 2023-10-10 22:28:15,590] Trial 139 finished with value: 0.2986479476094246 and parameters: {'lr': 0.00027327486792104845, 'dropout_prob': 0.21068104351337544, 'force_n_layers': 4, 'force_kernel_size': 6, 'force_stride': 2, 'force_padding': 6, 'force_hidden_channels': 248, 'force_pooling_type': 'max', 'force_use_batch_norm': False, 'acc_n_layers': 5, 'acc_kernel_size': 7, 'acc_stride': 2, 'acc_padding': 3, 'acc_hidden_channels': 101, 'acc_pooling_type': 'avg', 'acc_use_batch_norm': True}. Best is trial 134 with value: 0.25598885118961334.\n"
     ]
    },
    {
     "name": "stdout",
     "output_type": "stream",
     "text": [
      "Epoch 50/50, Training Loss: 0.19169353088364005, Validation Loss: 0.2986479476094246\n",
      "Epoch 10/50, Training Loss: 0.314262886531651, Validation Loss: 0.34829680621623993\n",
      "Epoch 20/50, Training Loss: 0.21081067062914371, Validation Loss: 0.2880057692527771\n",
      "Epoch 30/50, Training Loss: 0.1342903501354158, Validation Loss: 0.30346548557281494\n",
      "Epoch 40/50, Training Loss: 0.09051106264814734, Validation Loss: 0.37981685623526573\n"
     ]
    },
    {
     "name": "stderr",
     "output_type": "stream",
     "text": [
      "[I 2023-10-10 22:30:10,244] Trial 140 finished with value: 0.42500101774930954 and parameters: {'lr': 0.00041721846925596044, 'dropout_prob': 0.2426299730565702, 'force_n_layers': 4, 'force_kernel_size': 6, 'force_stride': 2, 'force_padding': 6, 'force_hidden_channels': 244, 'force_pooling_type': 'max', 'force_use_batch_norm': False, 'acc_n_layers': 5, 'acc_kernel_size': 7, 'acc_stride': 1, 'acc_padding': 4, 'acc_hidden_channels': 119, 'acc_pooling_type': 'avg', 'acc_use_batch_norm': True}. Best is trial 134 with value: 0.25598885118961334.\n"
     ]
    },
    {
     "name": "stdout",
     "output_type": "stream",
     "text": [
      "Epoch 50/50, Training Loss: 0.0757929787505418, Validation Loss: 0.42500101774930954\n",
      "Epoch 10/50, Training Loss: 0.45780400559306145, Validation Loss: 0.4334084019064903\n",
      "Epoch 20/50, Training Loss: 0.3507339879870415, Validation Loss: 0.38532187044620514\n",
      "Epoch 30/50, Training Loss: 0.26329493150115013, Validation Loss: 0.307686910033226\n",
      "Epoch 40/50, Training Loss: 0.21930431574583054, Validation Loss: 0.2653361037373543\n"
     ]
    },
    {
     "name": "stderr",
     "output_type": "stream",
     "text": [
      "[I 2023-10-10 22:31:38,030] Trial 141 finished with value: 0.2609350383281708 and parameters: {'lr': 0.0002306824259224221, 'dropout_prob': 0.224281790687966, 'force_n_layers': 4, 'force_kernel_size': 6, 'force_stride': 2, 'force_padding': 6, 'force_hidden_channels': 255, 'force_pooling_type': 'max', 'force_use_batch_norm': False, 'acc_n_layers': 5, 'acc_kernel_size': 7, 'acc_stride': 2, 'acc_padding': 4, 'acc_hidden_channels': 113, 'acc_pooling_type': 'avg', 'acc_use_batch_norm': True}. Best is trial 134 with value: 0.25598885118961334.\n"
     ]
    },
    {
     "name": "stdout",
     "output_type": "stream",
     "text": [
      "Epoch 50/50, Training Loss: 0.1877055885270238, Validation Loss: 0.2609350383281708\n",
      "Epoch 10/50, Training Loss: 0.4119101483374834, Validation Loss: 0.46249891072511673\n",
      "Epoch 20/50, Training Loss: 0.3083280622959137, Validation Loss: 0.34802664816379547\n",
      "Epoch 30/50, Training Loss: 0.2542709428817034, Validation Loss: 0.30060647428035736\n",
      "Epoch 40/50, Training Loss: 0.20587967615574598, Validation Loss: 0.2866276726126671\n"
     ]
    },
    {
     "name": "stderr",
     "output_type": "stream",
     "text": [
      "[I 2023-10-10 22:33:06,282] Trial 142 finished with value: 0.25029153004288673 and parameters: {'lr': 0.0003027437119614072, 'dropout_prob': 0.2554954189223444, 'force_n_layers': 4, 'force_kernel_size': 6, 'force_stride': 2, 'force_padding': 6, 'force_hidden_channels': 256, 'force_pooling_type': 'max', 'force_use_batch_norm': False, 'acc_n_layers': 5, 'acc_kernel_size': 7, 'acc_stride': 2, 'acc_padding': 4, 'acc_hidden_channels': 114, 'acc_pooling_type': 'avg', 'acc_use_batch_norm': True}. Best is trial 142 with value: 0.25029153004288673.\n"
     ]
    },
    {
     "name": "stdout",
     "output_type": "stream",
     "text": [
      "Epoch 50/50, Training Loss: 0.17089358996599913, Validation Loss: 0.25029153004288673\n",
      "Epoch 10/50, Training Loss: 0.44082432612776756, Validation Loss: 0.4262766018509865\n",
      "Epoch 20/50, Training Loss: 0.3264185953885317, Validation Loss: 0.34140345454216003\n",
      "Epoch 30/50, Training Loss: 0.25282134767621756, Validation Loss: 0.31007838249206543\n",
      "Epoch 40/50, Training Loss: 0.21348387096077204, Validation Loss: 0.2997579872608185\n"
     ]
    },
    {
     "name": "stderr",
     "output_type": "stream",
     "text": [
      "[I 2023-10-10 22:34:23,526] Trial 143 finished with value: 0.26755470037460327 and parameters: {'lr': 0.0003177345663406639, 'dropout_prob': 0.22574567829644926, 'force_n_layers': 4, 'force_kernel_size': 6, 'force_stride': 2, 'force_padding': 6, 'force_hidden_channels': 254, 'force_pooling_type': 'max', 'force_use_batch_norm': False, 'acc_n_layers': 5, 'acc_kernel_size': 7, 'acc_stride': 2, 'acc_padding': 3, 'acc_hidden_channels': 92, 'acc_pooling_type': 'avg', 'acc_use_batch_norm': True}. Best is trial 142 with value: 0.25029153004288673.\n"
     ]
    },
    {
     "name": "stdout",
     "output_type": "stream",
     "text": [
      "Epoch 50/50, Training Loss: 0.18860523123294115, Validation Loss: 0.26755470037460327\n",
      "Epoch 10/50, Training Loss: 0.3972192369401455, Validation Loss: 0.3917243182659149\n",
      "Epoch 20/50, Training Loss: 0.30216630455106497, Validation Loss: 0.3352772817015648\n",
      "Epoch 30/50, Training Loss: 0.25220528710633516, Validation Loss: 0.2858079969882965\n",
      "Epoch 40/50, Training Loss: 0.21118017006665468, Validation Loss: 0.2715159207582474\n"
     ]
    },
    {
     "name": "stderr",
     "output_type": "stream",
     "text": [
      "[I 2023-10-10 22:35:46,266] Trial 144 finished with value: 0.2623240537941456 and parameters: {'lr': 0.000309639409653441, 'dropout_prob': 0.25229870702924295, 'force_n_layers': 4, 'force_kernel_size': 6, 'force_stride': 2, 'force_padding': 6, 'force_hidden_channels': 256, 'force_pooling_type': 'max', 'force_use_batch_norm': False, 'acc_n_layers': 5, 'acc_kernel_size': 7, 'acc_stride': 2, 'acc_padding': 3, 'acc_hidden_channels': 104, 'acc_pooling_type': 'avg', 'acc_use_batch_norm': True}. Best is trial 142 with value: 0.25029153004288673.\n"
     ]
    },
    {
     "name": "stdout",
     "output_type": "stream",
     "text": [
      "Epoch 50/50, Training Loss: 0.18700572848320007, Validation Loss: 0.2623240537941456\n",
      "Epoch 10/50, Training Loss: 0.43268775194883347, Validation Loss: 0.42421533167362213\n",
      "Epoch 20/50, Training Loss: 0.3477481696754694, Validation Loss: 0.35310105979442596\n",
      "Epoch 30/50, Training Loss: 0.2728253696113825, Validation Loss: 0.31874610483646393\n",
      "Epoch 40/50, Training Loss: 0.22386647574603558, Validation Loss: 0.2998504489660263\n"
     ]
    },
    {
     "name": "stderr",
     "output_type": "stream",
     "text": [
      "[I 2023-10-10 22:37:07,523] Trial 145 finished with value: 0.30953770875930786 and parameters: {'lr': 0.00030701723607503173, 'dropout_prob': 0.2545499792615637, 'force_n_layers': 4, 'force_kernel_size': 6, 'force_stride': 2, 'force_padding': 6, 'force_hidden_channels': 256, 'force_pooling_type': 'max', 'force_use_batch_norm': False, 'acc_n_layers': 5, 'acc_kernel_size': 7, 'acc_stride': 2, 'acc_padding': 3, 'acc_hidden_channels': 96, 'acc_pooling_type': 'avg', 'acc_use_batch_norm': True}. Best is trial 142 with value: 0.25029153004288673.\n"
     ]
    },
    {
     "name": "stdout",
     "output_type": "stream",
     "text": [
      "Epoch 50/50, Training Loss: 0.18874181155115366, Validation Loss: 0.30953770875930786\n"
     ]
    },
    {
     "name": "stderr",
     "output_type": "stream",
     "text": [
      "[I 2023-10-10 22:37:08,997] Trial 146 finished with value: 1.0 and parameters: {'lr': 0.0003901706056279082, 'dropout_prob': 0.26855649342968896, 'force_n_layers': 4, 'force_kernel_size': 6, 'force_stride': 2, 'force_padding': 6, 'force_hidden_channels': 255, 'force_pooling_type': 'max', 'force_use_batch_norm': False, 'acc_n_layers': 5, 'acc_kernel_size': 7, 'acc_stride': 5, 'acc_padding': 2, 'acc_hidden_channels': 90, 'acc_pooling_type': 'avg', 'acc_use_batch_norm': True}. Best is trial 142 with value: 0.25029153004288673.\n"
     ]
    },
    {
     "name": "stdout",
     "output_type": "stream",
     "text": [
      "Trial failed with error: Calculated padded input size per channel: (5). Kernel size: (7). Kernel size can't be greater than actual input size\n",
      "Epoch 10/50, Training Loss: 0.4704450387507677, Validation Loss: 0.46268047392368317\n",
      "Epoch 20/50, Training Loss: 0.31860338523983955, Validation Loss: 0.35078927129507065\n",
      "Epoch 30/50, Training Loss: 0.25588986091315746, Validation Loss: 0.29279325157403946\n",
      "Epoch 40/50, Training Loss: 0.2410310059785843, Validation Loss: 0.2703856974840164\n"
     ]
    },
    {
     "name": "stderr",
     "output_type": "stream",
     "text": [
      "[I 2023-10-10 22:38:22,434] Trial 147 finished with value: 0.2794065475463867 and parameters: {'lr': 0.0003301596595106379, 'dropout_prob': 0.22311774477133753, 'force_n_layers': 4, 'force_kernel_size': 6, 'force_stride': 2, 'force_padding': 6, 'force_hidden_channels': 252, 'force_pooling_type': 'max', 'force_use_batch_norm': False, 'acc_n_layers': 5, 'acc_kernel_size': 7, 'acc_stride': 2, 'acc_padding': 3, 'acc_hidden_channels': 83, 'acc_pooling_type': 'avg', 'acc_use_batch_norm': True}. Best is trial 142 with value: 0.25029153004288673.\n"
     ]
    },
    {
     "name": "stdout",
     "output_type": "stream",
     "text": [
      "Epoch 50/50, Training Loss: 0.1878152433782816, Validation Loss: 0.2794065475463867\n",
      "Epoch 10/50, Training Loss: 0.3248620415106416, Validation Loss: 0.3749477490782738\n",
      "Epoch 20/50, Training Loss: 0.23256719019263983, Validation Loss: 0.3079395666718483\n",
      "Epoch 30/50, Training Loss: 0.1629894166253507, Validation Loss: 0.29415737837553024\n",
      "Epoch 40/50, Training Loss: 0.12531196023337543, Validation Loss: 0.2973979115486145\n"
     ]
    },
    {
     "name": "stderr",
     "output_type": "stream",
     "text": [
      "[I 2023-10-10 22:39:44,315] Trial 148 finished with value: 0.3655427470803261 and parameters: {'lr': 0.0005347192551254236, 'dropout_prob': 0.23201973795041267, 'force_n_layers': 4, 'force_kernel_size': 6, 'force_stride': 2, 'force_padding': 6, 'force_hidden_channels': 243, 'force_pooling_type': 'max', 'force_use_batch_norm': False, 'acc_n_layers': 5, 'acc_kernel_size': 7, 'acc_stride': 2, 'acc_padding': 3, 'acc_hidden_channels': 115, 'acc_pooling_type': 'avg', 'acc_use_batch_norm': True}. Best is trial 142 with value: 0.25029153004288673.\n"
     ]
    },
    {
     "name": "stdout",
     "output_type": "stream",
     "text": [
      "Epoch 50/50, Training Loss: 0.07078771153464913, Validation Loss: 0.3655427470803261\n",
      "Epoch 10/50, Training Loss: 0.3420633338391781, Validation Loss: 0.39100754261016846\n",
      "Epoch 20/50, Training Loss: 0.24779232870787382, Validation Loss: 0.30123738944530487\n",
      "Epoch 30/50, Training Loss: 0.18681959528476, Validation Loss: 0.25890519469976425\n",
      "Epoch 40/50, Training Loss: 0.14776082942262292, Validation Loss: 0.2705770581960678\n"
     ]
    },
    {
     "name": "stderr",
     "output_type": "stream",
     "text": [
      "[I 2023-10-10 22:41:07,847] Trial 149 finished with value: 0.309914693236351 and parameters: {'lr': 0.000484453088146792, 'dropout_prob': 0.2651018073191849, 'force_n_layers': 4, 'force_kernel_size': 6, 'force_stride': 2, 'force_padding': 6, 'force_hidden_channels': 249, 'force_pooling_type': 'max', 'force_use_batch_norm': False, 'acc_n_layers': 5, 'acc_kernel_size': 7, 'acc_stride': 2, 'acc_padding': 4, 'acc_hidden_channels': 108, 'acc_pooling_type': 'avg', 'acc_use_batch_norm': True}. Best is trial 142 with value: 0.25029153004288673.\n"
     ]
    },
    {
     "name": "stdout",
     "output_type": "stream",
     "text": [
      "Epoch 50/50, Training Loss: 0.11484574154019356, Validation Loss: 0.309914693236351\n"
     ]
    }
   ],
   "source": [
    "# Create an Optuna study for multimodal model hyperparameter optimization\n",
    "study = optuna.create_study(\n",
    "    study_name=\"Case#7: Multi Modal Inner\",\n",
    "    direction=\"minimize\",  # Minimize final validation loss\n",
    "    storage=\"sqlite:///../../database_sqllite//db.sqlite3\",\n",
    "    pruner=optuna.pruners.MedianPruner(n_warmup_steps=5),\n",
    ")\n",
    "\n",
    "# Define the number of trials (hyperparameter combinations) you want to search\n",
    "num_trials = 150\n",
    "\n",
    "# Perform hyperparameter optimization for the multimodal model\n",
    "study.optimize(multimodal_objective, n_trials=num_trials, n_jobs=1)\n"
   ]
  },
  {
   "cell_type": "code",
   "execution_count": 13,
   "metadata": {},
   "outputs": [
    {
     "name": "stdout",
     "output_type": "stream",
     "text": [
      "Best hyperparameters:\n",
      "{'lr': 0.0003027437119614072, 'dropout_prob': 0.2554954189223444, 'force_n_layers': 4, 'force_kernel_size': 6, 'force_stride': 2, 'force_padding': 6, 'force_hidden_channels': 256, 'force_pooling_type': 'max', 'force_use_batch_norm': False, 'acc_n_layers': 5, 'acc_kernel_size': 7, 'acc_stride': 2, 'acc_padding': 4, 'acc_hidden_channels': 114, 'acc_pooling_type': 'avg', 'acc_use_batch_norm': True}\n",
      "Best final validation loss:\n",
      "0.25029153004288673\n"
     ]
    }
   ],
   "source": [
    "# Print the best hyperparameters and their associated final validation loss\n",
    "print(\"Best hyperparameters:\")\n",
    "print(study.best_params)\n",
    "print(\"Best final validation loss:\")\n",
    "print(study.best_value)"
   ]
  },
  {
   "cell_type": "code",
   "execution_count": 14,
   "metadata": {},
   "outputs": [],
   "source": [
    "# Specify the path where you want to save the JSON file\n",
    "config_file_path = \"../best_configs/multimodal_inner_best_configs.json\""
   ]
  },
  {
   "cell_type": "code",
   "execution_count": 17,
   "metadata": {},
   "outputs": [],
   "source": [
    "# Load the saved configuration\n",
    "with open(config_file_path, \"r\") as config_file:\n",
    "    saved_configs = json.load(config_file)\n",
    "\n",
    "# Compare the new best value with the saved one\n",
    "if study.best_value < saved_configs[\"best_value\"]:\n",
    "    print(\"New best value found. Replacing saved configuration.\")\n",
    "    saved_configs[\"best_params\"] = study.best_params\n",
    "    saved_configs[\"best_value\"] = study.best_value\n",
    "\n",
    "    # Update the saved configuration file\n",
    "    with open(config_file_path, \"w\") as config_file:\n",
    "        json.dump(saved_configs, config_file)"
   ]
  },
  {
   "cell_type": "code",
   "execution_count": 16,
   "metadata": {},
   "outputs": [],
   "source": [
    "# Save the best hyperparameters and validation loss to a JSON file\n",
    "best_configs = {\n",
    "    \"best_params\": study.best_params,\n",
    "    \"best_value\": study.best_value,\n",
    "}\n",
    "\n",
    "with open(config_file_path, \"w\") as config_file:\n",
    "    json.dump(best_configs, config_file)"
   ]
  },
  {
   "cell_type": "markdown",
   "metadata": {},
   "source": [
    "# Thank You"
   ]
  }
 ],
 "metadata": {
  "kernelspec": {
   "display_name": ".aifaps",
   "language": "python",
   "name": "python3"
  },
  "language_info": {
   "codemirror_mode": {
    "name": "ipython",
    "version": 3
   },
   "file_extension": ".py",
   "mimetype": "text/x-python",
   "name": "python",
   "nbconvert_exporter": "python",
   "pygments_lexer": "ipython3",
   "version": "3.11.4"
  },
  "orig_nbformat": 4
 },
 "nbformat": 4,
 "nbformat_minor": 2
}
