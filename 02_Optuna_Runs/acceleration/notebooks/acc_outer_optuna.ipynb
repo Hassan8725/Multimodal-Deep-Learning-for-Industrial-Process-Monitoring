{
 "cells": [
  {
   "cell_type": "code",
   "execution_count": 2,
   "metadata": {},
   "outputs": [],
   "source": [
    "#---import libraries relating to data manipulation, visualization---------------------------------------------------\n",
    "import pandas as pd\n",
    "%matplotlib inline\n",
    "import numpy as np\n",
    "import json\n",
    "\n",
    "\n",
    "#-------import libraries to evaluate the deep learning model---------------------------------------------------------------\n",
    "from sklearn.model_selection import train_test_split\n",
    "\n",
    "\n",
    "import warnings\n",
    "warnings.filterwarnings('ignore')\n",
    "\n",
    "#------ import Deep Learning Libraries-------#\n",
    "\n",
    "import torch\n",
    "import torch.nn as nn\n",
    "import torch.optim as optim\n",
    "\n",
    "import optuna\n",
    "from optuna.trial import Trial\n",
    "\n",
    "import pickle\n",
    "\n",
    "\n",
    "pd.set_option('display.max_columns', None)\n",
    "pd.set_option(\"max_colwidth\", None)\n",
    "\n",
    "import sys\n",
    "sys.path.append('../../../src')  # Add the 'src' directory to the path\n",
    "\n",
    "#### Import Data Loading and Processing Functions\n",
    "from multimodal.helper_functions import   reproducible_comp,  get_final_df\n",
    "from multimodal.model_architecture import Generic1DCNN\n",
    "reproducible_comp()"
   ]
  },
  {
   "cell_type": "code",
   "execution_count": 3,
   "metadata": {},
   "outputs": [
    {
     "name": "stdout",
     "output_type": "stream",
     "text": [
      "Features Shape:  (1330, 3)\n",
      "Labels Shape:  (1330, 4)\n"
     ]
    }
   ],
   "source": [
    "file_path = \"../../../data/processed_data/acc_outer.pkl\"\n",
    "with open(file_path, 'rb') as picklefile:\n",
    "    data = pickle.load(picklefile)\n",
    "\n",
    "features_acc_inner, category_acc_inner, category_names, df_acc_inner = get_final_df(data, is_acc_data=1, is_multilabel=1)\n",
    "\n",
    "labels = category_acc_inner.copy()\n",
    "features=features_acc_inner.copy()\n",
    "print(\"Features Shape: \", features.shape)\n",
    "print(\"Labels Shape: \", labels.shape)"
   ]
  },
  {
   "cell_type": "code",
   "execution_count": 4,
   "metadata": {},
   "outputs": [],
   "source": [
    "max_length = 500\n",
    "\n",
    "for i in range (len(features)):\n",
    "    if(len(features[i][0]<max_length)):\n",
    "        features[i][0]=np.pad(features[i][0], (0,max_length-len(features[i][0])), 'constant', constant_values=(0))\n",
    "        \n",
    "    if(len(features[i][1]<max_length)):\n",
    "        features[i][1]=np.pad(features[i][1], (0,max_length-len(features[i][1])), 'constant', constant_values=(0))\n",
    "    \n",
    "    if(len(features[i][2]<max_length)):\n",
    "        features[i][2]=np.pad(features[i][2], (0,max_length-len(features[i][2])), 'constant', constant_values=(0))"
   ]
  },
  {
   "cell_type": "code",
   "execution_count": 5,
   "metadata": {},
   "outputs": [
    {
     "name": "stdout",
     "output_type": "stream",
     "text": [
      "Updated Features Shape:  (1330, 1500)\n"
     ]
    }
   ],
   "source": [
    "feat= np.zeros(len(features)*3*max_length).reshape(-1, 3*max_length)\n",
    "for i in range(len(features)):\n",
    "    feat[i]= np.concatenate((features[i][0],features[i][1], features[i][2]), axis=None)\n",
    "    \n",
    "\n",
    "print(\"Updated Features Shape: \", feat.shape)"
   ]
  },
  {
   "cell_type": "code",
   "execution_count": 6,
   "metadata": {},
   "outputs": [],
   "source": [
    "X_train, X_test, y_train, y_test = train_test_split(feat, labels, test_size=0.1, \n",
    "                                                    random_state=2, shuffle=True, stratify=labels)"
   ]
  },
  {
   "cell_type": "code",
   "execution_count": 7,
   "metadata": {},
   "outputs": [
    {
     "name": "stdout",
     "output_type": "stream",
     "text": [
      "(1197, 1, 1500)\n",
      "(1197, 4)\n",
      "(133, 1, 1500)\n",
      "(133, 4)\n"
     ]
    }
   ],
   "source": [
    "X_train = X_train.reshape(-1, 1, feat.shape[1])\n",
    "X_test = X_test.reshape(-1, 1, feat.shape[1])\n",
    "\n",
    "print(X_train.shape)\n",
    "print(y_train.shape)\n",
    "print(X_test.shape)\n",
    "print(y_test.shape)"
   ]
  },
  {
   "cell_type": "code",
   "execution_count": 8,
   "metadata": {},
   "outputs": [],
   "source": [
    "from torch.utils.data import DataLoader, TensorDataset\n",
    "\n",
    "# Convert your data to PyTorch tensors\n",
    "x_train = torch.tensor(X_train, dtype=torch.float32)\n",
    "y_train = torch.tensor(y_train, dtype=torch.long)\n",
    "\n",
    "input_channels = 1\n",
    "num_classes = 4\n",
    "\n",
    "device = torch.device(\"cuda\" if torch.cuda.is_available() else \"cpu\")\n",
    "\n",
    "# Define the objective function for hyperparameter optimization\n",
    "def objective(trial: Trial):\n",
    "    try:\n",
    "        # Define hyperparameters to search for\n",
    "        lr = trial.suggest_loguniform(\"lr\", 1e-5, 1e-2)  # Suggest a learning rate in log scale\n",
    "        dropout_prob = trial.suggest_float(\"dropout_prob\", 0.0, 0.5)\n",
    "        hidden_channels = trial.suggest_int(\"hidden_channels\", 16, 256)\n",
    "        n_layers = trial.suggest_int(\"n_layers\", 1, 7)\n",
    "        kernel_size = trial.suggest_int(\"kernel_size\", 3, 9)\n",
    "        stride = trial.suggest_int(\"stride\", 1, 7)\n",
    "        padding = trial.suggest_int(\"padding\", 1, 10)\n",
    "        pooling_type = trial.suggest_categorical(\"pooling_type\", [\"max\", \"avg\"])  \n",
    "        use_batch_norm = trial.suggest_categorical(\"use_batch_norm\", [True, False]) \n",
    "\n",
    "\n",
    "        # Split the data into training and validation sets\n",
    "        x_train_split, x_valid_split, y_train_split, y_valid_split = train_test_split(\n",
    "            x_train, y_train, test_size=0.2, random_state=42\n",
    "        )\n",
    "\n",
    "        train_dataset = TensorDataset(x_train_split, y_train_split)\n",
    "        valid_dataset = TensorDataset(x_valid_split, y_valid_split)\n",
    "\n",
    "        train_loader = DataLoader(train_dataset, batch_size=64, shuffle=True)\n",
    "        valid_loader = DataLoader(valid_dataset, batch_size=64, shuffle=False)\n",
    "\n",
    "        # Create the model with the suggested hyperparameters\n",
    "        model = Generic1DCNN(input_channels, num_classes, n_layers, kernel_size, stride, padding,\n",
    "                            hidden_channels, dropout_prob, pooling_type, use_batch_norm).to(device)\n",
    "\n",
    "        criterion = nn.BCEWithLogitsLoss()\n",
    "        optimizer = optim.Adam(model.parameters(), lr=lr)\n",
    "\n",
    "        num_epochs = 50\n",
    "\n",
    "        model.train()\n",
    "        for epoch in range(num_epochs):\n",
    "            # Training loop\n",
    "            running_loss = 0.0\n",
    "            for inputs, labels in train_loader:\n",
    "                inputs, labels = inputs.to(device), labels.to(device)\n",
    "\n",
    "                optimizer.zero_grad()\n",
    "\n",
    "                outputs = model(inputs)\n",
    "                loss = criterion(outputs, labels.float())\n",
    "                loss.backward()\n",
    "                optimizer.step()\n",
    "\n",
    "                running_loss += loss.item()\n",
    "\n",
    "            train_loss = running_loss / len(train_loader)\n",
    "\n",
    "            # Validation loss calculation (similar to training loop)\n",
    "            model.eval()\n",
    "            valid_loss = 0.0\n",
    "            with torch.no_grad():\n",
    "                for inputs_valid, labels_valid in valid_loader:\n",
    "                    inputs_valid, labels_valid = inputs_valid.to(device), labels_valid.to(device)\n",
    "                    outputs_valid = model(inputs_valid)\n",
    "                    loss_valid = criterion(outputs_valid, labels_valid.float())\n",
    "                    valid_loss += loss_valid.item()\n",
    "\n",
    "            valid_loss = valid_loss / len(valid_loader)\n",
    "            if (epoch + 1) % 10 == 0:\n",
    "                print(f\"Epoch {epoch + 1}/{num_epochs}, Training Loss: {train_loss}, Validation Loss: {valid_loss}\")\n",
    "\n",
    "        # Calculate and return the final validation loss\n",
    "        return valid_loss\n",
    "    \n",
    "    except Exception as e:\n",
    "        # Print the error for debugging purposes (optional)\n",
    "        print(f\"Trial failed with error: {e}\")\n",
    "\n",
    "        # Return a high validation loss to indicate failure\n",
    "        return 1.0  # High validation loss\n",
    "    \n"
   ]
  },
  {
   "cell_type": "code",
   "execution_count": 9,
   "metadata": {},
   "outputs": [
    {
     "name": "stderr",
     "output_type": "stream",
     "text": [
      "[I 2023-10-09 20:24:11,372] A new study created in RDB with name: Case#5: Acceleration Outer\n"
     ]
    },
    {
     "name": "stdout",
     "output_type": "stream",
     "text": [
      "Epoch 10/50, Training Loss: 0.6793071269989014, Validation Loss: 0.6801747977733612\n",
      "Epoch 20/50, Training Loss: 0.6691045165061951, Validation Loss: 0.6697633117437363\n",
      "Epoch 30/50, Training Loss: 0.6516951282819112, Validation Loss: 0.6509859412908554\n",
      "Epoch 40/50, Training Loss: 0.6236256678899129, Validation Loss: 0.6206526607275009\n"
     ]
    },
    {
     "name": "stderr",
     "output_type": "stream",
     "text": [
      "[I 2023-10-09 20:24:39,566] Trial 0 finished with value: 0.5751350373029709 and parameters: {'lr': 2.333178272268227e-05, 'dropout_prob': 0.25652954393502586, 'hidden_channels': 137, 'n_layers': 5, 'kernel_size': 5, 'stride': 6, 'padding': 8, 'pooling_type': 'max', 'use_batch_norm': True}. Best is trial 0 with value: 0.5751350373029709.\n"
     ]
    },
    {
     "name": "stdout",
     "output_type": "stream",
     "text": [
      "Epoch 50/50, Training Loss: 0.5800206899642945, Validation Loss: 0.5751350373029709\n",
      "Epoch 10/50, Training Loss: 0.6292166272799175, Validation Loss: 0.6253595650196075\n",
      "Epoch 20/50, Training Loss: 0.3214630643526713, Validation Loss: 0.3332318142056465\n",
      "Epoch 30/50, Training Loss: 0.26593107879161837, Validation Loss: 0.3065815083682537\n",
      "Epoch 40/50, Training Loss: 0.23665107091267903, Validation Loss: 0.33930128812789917\n"
     ]
    },
    {
     "name": "stderr",
     "output_type": "stream",
     "text": [
      "[I 2023-10-09 20:25:40,236] Trial 1 finished with value: 0.33166496455669403 and parameters: {'lr': 0.004185335379320031, 'dropout_prob': 0.45824680007669344, 'hidden_channels': 211, 'n_layers': 7, 'kernel_size': 3, 'stride': 3, 'padding': 9, 'pooling_type': 'avg', 'use_batch_norm': False}. Best is trial 1 with value: 0.33166496455669403.\n"
     ]
    },
    {
     "name": "stdout",
     "output_type": "stream",
     "text": [
      "Epoch 50/50, Training Loss: 0.22771675288677215, Validation Loss: 0.33166496455669403\n",
      "Epoch 10/50, Training Loss: 0.4447669506072998, Validation Loss: 0.44402027875185013\n",
      "Epoch 20/50, Training Loss: 0.3787855525811513, Validation Loss: 0.3777182698249817\n",
      "Epoch 30/50, Training Loss: 0.30624074935913087, Validation Loss: 0.3439795672893524\n",
      "Epoch 40/50, Training Loss: 0.2544529308875402, Validation Loss: 0.310811348259449\n"
     ]
    },
    {
     "name": "stderr",
     "output_type": "stream",
     "text": [
      "[I 2023-10-09 20:25:51,036] Trial 2 finished with value: 0.30263160914182663 and parameters: {'lr': 0.0005913977301145388, 'dropout_prob': 0.047335135611387524, 'hidden_channels': 143, 'n_layers': 2, 'kernel_size': 9, 'stride': 6, 'padding': 6, 'pooling_type': 'max', 'use_batch_norm': False}. Best is trial 2 with value: 0.30263160914182663.\n"
     ]
    },
    {
     "name": "stdout",
     "output_type": "stream",
     "text": [
      "Epoch 50/50, Training Loss: 0.2171640455722809, Validation Loss: 0.30263160914182663\n"
     ]
    },
    {
     "name": "stderr",
     "output_type": "stream",
     "text": [
      "[I 2023-10-09 20:25:51,911] Trial 3 finished with value: 1.0 and parameters: {'lr': 0.00639222157937677, 'dropout_prob': 0.3894113206989711, 'hidden_channels': 214, 'n_layers': 6, 'kernel_size': 6, 'stride': 2, 'padding': 2, 'pooling_type': 'avg', 'use_batch_norm': False}. Best is trial 2 with value: 0.30263160914182663.\n"
     ]
    },
    {
     "name": "stdout",
     "output_type": "stream",
     "text": [
      "Trial failed with error: Calculated padded input size per channel: (5). Kernel size: (6). Kernel size can't be greater than actual input size\n"
     ]
    },
    {
     "name": "stderr",
     "output_type": "stream",
     "text": [
      "[I 2023-10-09 20:25:52,652] Trial 4 finished with value: 1.0 and parameters: {'lr': 4.165810925925099e-05, 'dropout_prob': 0.28326522005034555, 'hidden_channels': 183, 'n_layers': 5, 'kernel_size': 5, 'stride': 7, 'padding': 2, 'pooling_type': 'max', 'use_batch_norm': False}. Best is trial 2 with value: 0.30263160914182663.\n"
     ]
    },
    {
     "name": "stdout",
     "output_type": "stream",
     "text": [
      "Trial failed with error: max_pool1d() Invalid computed output size: 0\n",
      "Epoch 10/50, Training Loss: 0.6817260026931763, Validation Loss: 0.6803180128335953\n",
      "Epoch 20/50, Training Loss: 0.6768006404240926, Validation Loss: 0.6755522042512894\n",
      "Epoch 30/50, Training Loss: 0.6721817255020142, Validation Loss: 0.6711139529943466\n",
      "Epoch 40/50, Training Loss: 0.6678665479024252, Validation Loss: 0.6669522076845169\n"
     ]
    },
    {
     "name": "stderr",
     "output_type": "stream",
     "text": [
      "[I 2023-10-09 20:26:03,704] Trial 5 finished with value: 0.6630675941705704 and parameters: {'lr': 2.81190305070335e-05, 'dropout_prob': 0.2673512343081282, 'hidden_channels': 224, 'n_layers': 1, 'kernel_size': 3, 'stride': 7, 'padding': 8, 'pooling_type': 'max', 'use_batch_norm': False}. Best is trial 2 with value: 0.30263160914182663.\n"
     ]
    },
    {
     "name": "stdout",
     "output_type": "stream",
     "text": [
      "Epoch 50/50, Training Loss: 0.663824470837911, Validation Loss: 0.6630675941705704\n",
      "Epoch 10/50, Training Loss: 0.6741724650065104, Validation Loss: 0.670810654759407\n",
      "Epoch 20/50, Training Loss: 0.6599809249242147, Validation Loss: 0.6569953560829163\n",
      "Epoch 30/50, Training Loss: 0.6380609671274821, Validation Loss: 0.6358108371496201\n",
      "Epoch 40/50, Training Loss: 0.6249950369199117, Validation Loss: 0.6236402541399002\n"
     ]
    },
    {
     "name": "stderr",
     "output_type": "stream",
     "text": [
      "[I 2023-10-09 20:26:16,369] Trial 6 finished with value: 0.5939410924911499 and parameters: {'lr': 8.909498537669239e-05, 'dropout_prob': 0.47748182832777464, 'hidden_channels': 19, 'n_layers': 5, 'kernel_size': 4, 'stride': 2, 'padding': 9, 'pooling_type': 'max', 'use_batch_norm': True}. Best is trial 2 with value: 0.30263160914182663.\n"
     ]
    },
    {
     "name": "stdout",
     "output_type": "stream",
     "text": [
      "Epoch 50/50, Training Loss: 0.597275459766388, Validation Loss: 0.5939410924911499\n",
      "Epoch 10/50, Training Loss: 0.2412115047375361, Validation Loss: 0.27688203752040863\n",
      "Epoch 20/50, Training Loss: 0.1213744729757309, Validation Loss: 0.3275683671236038\n",
      "Epoch 30/50, Training Loss: 0.006416031943323712, Validation Loss: 0.5277158319950104\n",
      "Epoch 40/50, Training Loss: 9.553064010106027e-05, Validation Loss: 0.6866772770881653\n"
     ]
    },
    {
     "name": "stderr",
     "output_type": "stream",
     "text": [
      "[I 2023-10-09 20:27:58,149] Trial 7 finished with value: 0.7409430891275406 and parameters: {'lr': 0.0013369494889794366, 'dropout_prob': 0.41939668328064866, 'hidden_channels': 80, 'n_layers': 7, 'kernel_size': 9, 'stride': 1, 'padding': 9, 'pooling_type': 'max', 'use_batch_norm': True}. Best is trial 2 with value: 0.30263160914182663.\n"
     ]
    },
    {
     "name": "stdout",
     "output_type": "stream",
     "text": [
      "Epoch 50/50, Training Loss: 4.70906092232326e-05, Validation Loss: 0.7409430891275406\n"
     ]
    },
    {
     "name": "stderr",
     "output_type": "stream",
     "text": [
      "[I 2023-10-09 20:27:58,956] Trial 8 finished with value: 1.0 and parameters: {'lr': 0.0035749097544071746, 'dropout_prob': 0.17231882179486163, 'hidden_channels': 74, 'n_layers': 7, 'kernel_size': 9, 'stride': 6, 'padding': 4, 'pooling_type': 'avg', 'use_batch_norm': True}. Best is trial 2 with value: 0.30263160914182663.\n"
     ]
    },
    {
     "name": "stdout",
     "output_type": "stream",
     "text": [
      "Trial failed with error: Given input size: (74x1x1). Calculated output size: (74x1x0). Output size is too small\n",
      "Epoch 10/50, Training Loss: 0.680027159055074, Validation Loss: 0.6787491291761398\n",
      "Epoch 20/50, Training Loss: 0.6607616504033407, Validation Loss: 0.6592549830675125\n",
      "Epoch 30/50, Training Loss: 0.6385237614313761, Validation Loss: 0.6371791809797287\n",
      "Epoch 40/50, Training Loss: 0.62892005443573, Validation Loss: 0.6275922209024429\n"
     ]
    },
    {
     "name": "stderr",
     "output_type": "stream",
     "text": [
      "[I 2023-10-09 20:28:58,028] Trial 9 finished with value: 0.6207894831895828 and parameters: {'lr': 6.13634796905686e-05, 'dropout_prob': 0.00646578038369422, 'hidden_channels': 177, 'n_layers': 7, 'kernel_size': 7, 'stride': 7, 'padding': 8, 'pooling_type': 'max', 'use_batch_norm': True}. Best is trial 2 with value: 0.30263160914182663.\n"
     ]
    },
    {
     "name": "stdout",
     "output_type": "stream",
     "text": [
      "Epoch 50/50, Training Loss: 0.622934889793396, Validation Loss: 0.6207894831895828\n",
      "Epoch 10/50, Training Loss: 0.5629871606826782, Validation Loss: 0.5536486953496933\n",
      "Epoch 20/50, Training Loss: 0.45606117049853007, Validation Loss: 0.45594651997089386\n",
      "Epoch 30/50, Training Loss: 0.4248353958129883, Validation Loss: 0.4216964691877365\n",
      "Epoch 40/50, Training Loss: 0.4004837135473887, Validation Loss: 0.3943058177828789\n"
     ]
    },
    {
     "name": "stderr",
     "output_type": "stream",
     "text": [
      "[I 2023-10-09 20:29:08,596] Trial 10 finished with value: 0.37103158980607986 and parameters: {'lr': 0.00031556577448388595, 'dropout_prob': 0.0019758249851451262, 'hidden_channels': 109, 'n_layers': 2, 'kernel_size': 8, 'stride': 5, 'padding': 6, 'pooling_type': 'avg', 'use_batch_norm': False}. Best is trial 2 with value: 0.30263160914182663.\n"
     ]
    },
    {
     "name": "stdout",
     "output_type": "stream",
     "text": [
      "Epoch 50/50, Training Loss: 0.3777088761329651, Validation Loss: 0.37103158980607986\n",
      "Epoch 10/50, Training Loss: 0.42042039235432943, Validation Loss: 0.40287061780691147\n",
      "Epoch 20/50, Training Loss: 0.3479555666446686, Validation Loss: 0.3402443304657936\n",
      "Epoch 30/50, Training Loss: 0.28838979204495746, Validation Loss: 0.30163928866386414\n",
      "Epoch 40/50, Training Loss: 0.26356778740882875, Validation Loss: 0.2934129014611244\n"
     ]
    },
    {
     "name": "stderr",
     "output_type": "stream",
     "text": [
      "[I 2023-10-09 20:29:40,678] Trial 11 finished with value: 0.3014484718441963 and parameters: {'lr': 0.001059495850073694, 'dropout_prob': 0.12918452121288793, 'hidden_channels': 253, 'n_layers': 3, 'kernel_size': 3, 'stride': 4, 'padding': 4, 'pooling_type': 'avg', 'use_batch_norm': False}. Best is trial 11 with value: 0.3014484718441963.\n"
     ]
    },
    {
     "name": "stdout",
     "output_type": "stream",
     "text": [
      "Epoch 50/50, Training Loss: 0.24314714670181276, Validation Loss: 0.3014484718441963\n",
      "Epoch 10/50, Training Loss: 0.3896233777205149, Validation Loss: 0.36820023506879807\n",
      "Epoch 20/50, Training Loss: 0.2945802370707194, Validation Loss: 0.29573003202676773\n",
      "Epoch 30/50, Training Loss: 0.2555799216032028, Validation Loss: 0.28525669127702713\n",
      "Epoch 40/50, Training Loss: 0.23483961522579194, Validation Loss: 0.32205934077501297\n"
     ]
    },
    {
     "name": "stderr",
     "output_type": "stream",
     "text": [
      "[I 2023-10-09 20:30:06,086] Trial 12 finished with value: 0.3143789917230606 and parameters: {'lr': 0.0006974325666599891, 'dropout_prob': 0.08669662835859161, 'hidden_channels': 245, 'n_layers': 3, 'kernel_size': 7, 'stride': 4, 'padding': 5, 'pooling_type': 'avg', 'use_batch_norm': False}. Best is trial 11 with value: 0.3014484718441963.\n"
     ]
    },
    {
     "name": "stdout",
     "output_type": "stream",
     "text": [
      "Epoch 50/50, Training Loss: 0.20690354605515798, Validation Loss: 0.3143789917230606\n",
      "Epoch 10/50, Training Loss: 0.42471326192220055, Validation Loss: 0.41034483164548874\n",
      "Epoch 20/50, Training Loss: 0.38324784437815346, Validation Loss: 0.36483491212129593\n",
      "Epoch 30/50, Training Loss: 0.3377589563528697, Validation Loss: 0.3352014943957329\n",
      "Epoch 40/50, Training Loss: 0.3006804347038269, Validation Loss: 0.29889439791440964\n"
     ]
    },
    {
     "name": "stderr",
     "output_type": "stream",
     "text": [
      "[I 2023-10-09 20:30:25,965] Trial 13 finished with value: 0.28809240832924843 and parameters: {'lr': 0.0003463309082830549, 'dropout_prob': 0.11433737737870861, 'hidden_channels': 159, 'n_layers': 3, 'kernel_size': 7, 'stride': 4, 'padding': 4, 'pooling_type': 'avg', 'use_batch_norm': False}. Best is trial 13 with value: 0.28809240832924843.\n"
     ]
    },
    {
     "name": "stdout",
     "output_type": "stream",
     "text": [
      "Epoch 50/50, Training Loss: 0.2812088966369629, Validation Loss: 0.28809240832924843\n",
      "Epoch 10/50, Training Loss: 0.4917121390501658, Validation Loss: 0.476527638733387\n",
      "Epoch 20/50, Training Loss: 0.4122379422187805, Validation Loss: 0.39793383330106735\n",
      "Epoch 30/50, Training Loss: 0.38712988098462425, Validation Loss: 0.3732420802116394\n",
      "Epoch 40/50, Training Loss: 0.36113577683766684, Validation Loss: 0.3521629720926285\n"
     ]
    },
    {
     "name": "stderr",
     "output_type": "stream",
     "text": [
      "[I 2023-10-09 20:30:47,001] Trial 14 finished with value: 0.3318791687488556 and parameters: {'lr': 0.00017757766266823837, 'dropout_prob': 0.13609986932852738, 'hidden_channels': 177, 'n_layers': 3, 'kernel_size': 6, 'stride': 4, 'padding': 4, 'pooling_type': 'avg', 'use_batch_norm': False}. Best is trial 13 with value: 0.28809240832924843.\n"
     ]
    },
    {
     "name": "stdout",
     "output_type": "stream",
     "text": [
      "Epoch 50/50, Training Loss: 0.329563969373703, Validation Loss: 0.3318791687488556\n",
      "Epoch 10/50, Training Loss: 0.28751137952009836, Validation Loss: 0.2895750477910042\n",
      "Epoch 20/50, Training Loss: 0.22493723134199778, Validation Loss: 0.2805181071162224\n",
      "Epoch 30/50, Training Loss: 0.1795899937550227, Validation Loss: 0.26492730155587196\n",
      "Epoch 40/50, Training Loss: 0.13343568791945776, Validation Loss: 0.2781324125826359\n"
     ]
    },
    {
     "name": "stderr",
     "output_type": "stream",
     "text": [
      "[I 2023-10-09 20:31:27,574] Trial 15 finished with value: 0.30451373755931854 and parameters: {'lr': 0.001587045399136001, 'dropout_prob': 0.165411375259121, 'hidden_channels': 255, 'n_layers': 3, 'kernel_size': 7, 'stride': 3, 'padding': 1, 'pooling_type': 'avg', 'use_batch_norm': False}. Best is trial 13 with value: 0.28809240832924843.\n"
     ]
    },
    {
     "name": "stdout",
     "output_type": "stream",
     "text": [
      "Epoch 50/50, Training Loss: 0.09074152087171873, Validation Loss: 0.30451373755931854\n"
     ]
    },
    {
     "name": "stderr",
     "output_type": "stream",
     "text": [
      "[I 2023-10-09 20:31:28,516] Trial 16 finished with value: 1.0 and parameters: {'lr': 1.2964100490251203e-05, 'dropout_prob': 0.10695183432350674, 'hidden_channels': 21, 'n_layers': 4, 'kernel_size': 4, 'stride': 5, 'padding': 3, 'pooling_type': 'avg', 'use_batch_norm': False}. Best is trial 13 with value: 0.28809240832924843.\n"
     ]
    },
    {
     "name": "stdout",
     "output_type": "stream",
     "text": [
      "Trial failed with error: Given input size: (21x1x1). Calculated output size: (21x1x0). Output size is too small\n",
      "Epoch 10/50, Training Loss: 0.5851335326830546, Validation Loss: 0.5627064853906631\n",
      "Epoch 20/50, Training Loss: 0.4393832345803579, Validation Loss: 0.4351971000432968\n",
      "Epoch 30/50, Training Loss: 0.4142473896344503, Validation Loss: 0.4102251008152962\n",
      "Epoch 40/50, Training Loss: 0.389074565966924, Validation Loss: 0.3860753923654556\n"
     ]
    },
    {
     "name": "stderr",
     "output_type": "stream",
     "text": [
      "[I 2023-10-09 20:31:49,845] Trial 17 finished with value: 0.36510250717401505 and parameters: {'lr': 0.00019135717325643927, 'dropout_prob': 0.1989766110815233, 'hidden_channels': 105, 'n_layers': 4, 'kernel_size': 5, 'stride': 3, 'padding': 5, 'pooling_type': 'avg', 'use_batch_norm': False}. Best is trial 13 with value: 0.28809240832924843.\n"
     ]
    },
    {
     "name": "stdout",
     "output_type": "stream",
     "text": [
      "Epoch 50/50, Training Loss: 0.36239935358365377, Validation Loss: 0.36510250717401505\n",
      "Epoch 10/50, Training Loss: 0.6379768013954162, Validation Loss: 0.6364937871694565\n",
      "Epoch 20/50, Training Loss: 0.6023927927017212, Validation Loss: 0.5988959670066833\n",
      "Epoch 30/50, Training Loss: 0.5636173367500306, Validation Loss: 0.5597278624773026\n",
      "Epoch 40/50, Training Loss: 0.5271844506263733, Validation Loss: 0.5257246643304825\n"
     ]
    },
    {
     "name": "stderr",
     "output_type": "stream",
     "text": [
      "[I 2023-10-09 20:32:04,285] Trial 18 finished with value: 0.504442110657692 and parameters: {'lr': 0.0005614447715598884, 'dropout_prob': 0.07907957533153898, 'hidden_channels': 167, 'n_layers': 1, 'kernel_size': 8, 'stride': 5, 'padding': 3, 'pooling_type': 'avg', 'use_batch_norm': False}. Best is trial 13 with value: 0.28809240832924843.\n"
     ]
    },
    {
     "name": "stdout",
     "output_type": "stream",
     "text": [
      "Epoch 50/50, Training Loss: 0.5031475245952606, Validation Loss: 0.504442110657692\n",
      "Epoch 10/50, Training Loss: 0.38401971459388734, Validation Loss: 0.39951591193675995\n",
      "Epoch 20/50, Training Loss: 0.27299716671307883, Validation Loss: 0.31170374155044556\n",
      "Epoch 30/50, Training Loss: 0.21456181307633718, Validation Loss: 0.29961080104112625\n",
      "Epoch 40/50, Training Loss: 0.17213700513044994, Validation Loss: 0.3184906989336014\n"
     ]
    },
    {
     "name": "stderr",
     "output_type": "stream",
     "text": [
      "[I 2023-10-09 20:32:21,259] Trial 19 finished with value: 0.335349403321743 and parameters: {'lr': 0.0019282320033290707, 'dropout_prob': 0.1960746586845333, 'hidden_channels': 200, 'n_layers': 2, 'kernel_size': 6, 'stride': 4, 'padding': 4, 'pooling_type': 'avg', 'use_batch_norm': False}. Best is trial 13 with value: 0.28809240832924843.\n"
     ]
    },
    {
     "name": "stdout",
     "output_type": "stream",
     "text": [
      "Epoch 50/50, Training Loss: 0.13985465317964554, Validation Loss: 0.335349403321743\n",
      "Epoch 10/50, Training Loss: 0.26740129590034484, Validation Loss: 0.28993868082761765\n",
      "Epoch 20/50, Training Loss: 0.20650301376978555, Validation Loss: 0.35201746970415115\n",
      "Epoch 30/50, Training Loss: 0.16218964805205663, Validation Loss: 0.36917562037706375\n",
      "Epoch 40/50, Training Loss: 0.10133667886257172, Validation Loss: 0.43718499690294266\n"
     ]
    },
    {
     "name": "stderr",
     "output_type": "stream",
     "text": [
      "[I 2023-10-09 20:32:31,969] Trial 20 finished with value: 0.5331396870315075 and parameters: {'lr': 0.009917735552871395, 'dropout_prob': 0.12386132956257563, 'hidden_channels': 50, 'n_layers': 3, 'kernel_size': 4, 'stride': 2, 'padding': 7, 'pooling_type': 'avg', 'use_batch_norm': False}. Best is trial 13 with value: 0.28809240832924843.\n"
     ]
    },
    {
     "name": "stdout",
     "output_type": "stream",
     "text": [
      "Epoch 50/50, Training Loss: 0.07117724219957987, Validation Loss: 0.5331396870315075\n",
      "Epoch 10/50, Training Loss: 0.42297192811965945, Validation Loss: 0.4241456016898155\n",
      "Epoch 20/50, Training Loss: 0.3396045506000519, Validation Loss: 0.3527698367834091\n",
      "Epoch 30/50, Training Loss: 0.2621960292259852, Validation Loss: 0.29816367104649544\n",
      "Epoch 40/50, Training Loss: 0.21993071138858794, Validation Loss: 0.2721335031092167\n"
     ]
    },
    {
     "name": "stderr",
     "output_type": "stream",
     "text": [
      "[I 2023-10-09 20:32:42,438] Trial 21 finished with value: 0.2734736353158951 and parameters: {'lr': 0.0007942077039847953, 'dropout_prob': 0.0457664854063457, 'hidden_channels': 143, 'n_layers': 2, 'kernel_size': 8, 'stride': 6, 'padding': 6, 'pooling_type': 'max', 'use_batch_norm': False}. Best is trial 21 with value: 0.2734736353158951.\n"
     ]
    },
    {
     "name": "stdout",
     "output_type": "stream",
     "text": [
      "Epoch 50/50, Training Loss: 0.18443188667297364, Validation Loss: 0.2734736353158951\n",
      "Epoch 10/50, Training Loss: 0.39728554884592693, Validation Loss: 0.4130923002958298\n",
      "Epoch 20/50, Training Loss: 0.30090090036392214, Validation Loss: 0.31926818937063217\n",
      "Epoch 30/50, Training Loss: 0.2322817365328471, Validation Loss: 0.29478149116039276\n",
      "Epoch 40/50, Training Loss: 0.19433337748050689, Validation Loss: 0.29984310269355774\n"
     ]
    },
    {
     "name": "stderr",
     "output_type": "stream",
     "text": [
      "[I 2023-10-09 20:32:55,538] Trial 22 finished with value: 0.29903707653284073 and parameters: {'lr': 0.0009314680361645124, 'dropout_prob': 0.053397904860211676, 'hidden_channels': 157, 'n_layers': 2, 'kernel_size': 8, 'stride': 5, 'padding': 6, 'pooling_type': 'max', 'use_batch_norm': False}. Best is trial 21 with value: 0.2734736353158951.\n"
     ]
    },
    {
     "name": "stdout",
     "output_type": "stream",
     "text": [
      "Epoch 50/50, Training Loss: 0.15962236871321997, Validation Loss: 0.29903707653284073\n",
      "Epoch 10/50, Training Loss: 0.46677545507748924, Validation Loss: 0.46454933285713196\n",
      "Epoch 20/50, Training Loss: 0.4056089480717977, Validation Loss: 0.40297654271125793\n",
      "Epoch 30/50, Training Loss: 0.35806670784950256, Validation Loss: 0.3679548650979996\n",
      "Epoch 40/50, Training Loss: 0.3130820612112681, Validation Loss: 0.3321434110403061\n"
     ]
    },
    {
     "name": "stderr",
     "output_type": "stream",
     "text": [
      "[I 2023-10-09 20:33:08,845] Trial 23 finished with value: 0.31275517493486404 and parameters: {'lr': 0.00035299198283298284, 'dropout_prob': 0.050303950425671665, 'hidden_channels': 152, 'n_layers': 2, 'kernel_size': 8, 'stride': 5, 'padding': 7, 'pooling_type': 'max', 'use_batch_norm': False}. Best is trial 21 with value: 0.2734736353158951.\n"
     ]
    },
    {
     "name": "stdout",
     "output_type": "stream",
     "text": [
      "Epoch 50/50, Training Loss: 0.2728673130273819, Validation Loss: 0.31275517493486404\n",
      "Epoch 10/50, Training Loss: 0.6175447861353557, Validation Loss: 0.6138113290071487\n",
      "Epoch 20/50, Training Loss: 0.5558028777440389, Validation Loss: 0.5529830902814865\n",
      "Epoch 30/50, Training Loss: 0.5026792864004771, Validation Loss: 0.5070140808820724\n",
      "Epoch 40/50, Training Loss: 0.47456591327985126, Validation Loss: 0.48484569042921066\n"
     ]
    },
    {
     "name": "stderr",
     "output_type": "stream",
     "text": [
      "[I 2023-10-09 20:33:14,917] Trial 24 finished with value: 0.4720515236258507 and parameters: {'lr': 0.0008461717074278723, 'dropout_prob': 0.051512561670209046, 'hidden_channels': 116, 'n_layers': 1, 'kernel_size': 8, 'stride': 6, 'padding': 6, 'pooling_type': 'max', 'use_batch_norm': False}. Best is trial 21 with value: 0.2734736353158951.\n"
     ]
    },
    {
     "name": "stdout",
     "output_type": "stream",
     "text": [
      "Epoch 50/50, Training Loss: 0.45708173513412476, Validation Loss: 0.4720515236258507\n",
      "Epoch 10/50, Training Loss: 0.321382870276769, Validation Loss: 0.32996276021003723\n",
      "Epoch 20/50, Training Loss: 0.2083958278099696, Validation Loss: 0.3232283294200897\n",
      "Epoch 30/50, Training Loss: 0.1452593296766281, Validation Loss: 0.32717855274677277\n",
      "Epoch 40/50, Training Loss: 0.11200307905673981, Validation Loss: 0.335012786090374\n"
     ]
    },
    {
     "name": "stderr",
     "output_type": "stream",
     "text": [
      "[I 2023-10-09 20:33:26,577] Trial 25 finished with value: 0.37868165969848633 and parameters: {'lr': 0.002393673238470802, 'dropout_prob': 0.07745401066612928, 'hidden_channels': 123, 'n_layers': 2, 'kernel_size': 7, 'stride': 5, 'padding': 7, 'pooling_type': 'max', 'use_batch_norm': False}. Best is trial 21 with value: 0.2734736353158951.\n"
     ]
    },
    {
     "name": "stdout",
     "output_type": "stream",
     "text": [
      "Epoch 50/50, Training Loss: 0.06808065300186475, Validation Loss: 0.37868165969848633\n",
      "Epoch 10/50, Training Loss: 0.6361725886662801, Validation Loss: 0.6329396516084671\n",
      "Epoch 20/50, Training Loss: 0.5991361657778422, Validation Loss: 0.5956383049488068\n",
      "Epoch 30/50, Training Loss: 0.5509115179379781, Validation Loss: 0.5479765385389328\n",
      "Epoch 40/50, Training Loss: 0.5050982157389323, Validation Loss: 0.5070558786392212\n"
     ]
    },
    {
     "name": "stderr",
     "output_type": "stream",
     "text": [
      "[I 2023-10-09 20:33:37,603] Trial 26 finished with value: 0.4839078411459923 and parameters: {'lr': 0.0004045344797036173, 'dropout_prob': 0.013314969432007995, 'hidden_channels': 156, 'n_layers': 1, 'kernel_size': 8, 'stride': 6, 'padding': 5, 'pooling_type': 'max', 'use_batch_norm': True}. Best is trial 21 with value: 0.2734736353158951.\n"
     ]
    },
    {
     "name": "stdout",
     "output_type": "stream",
     "text": [
      "Epoch 50/50, Training Loss: 0.4783416827519735, Validation Loss: 0.4839078411459923\n",
      "Epoch 10/50, Training Loss: 0.40792652368545534, Validation Loss: 0.39420560747385025\n",
      "Epoch 20/50, Training Loss: 0.3198892017205556, Validation Loss: 0.3219388723373413\n",
      "Epoch 30/50, Training Loss: 0.26492637395858765, Validation Loss: 0.28539803996682167\n",
      "Epoch 40/50, Training Loss: 0.24494974613189696, Validation Loss: 0.27743861824274063\n"
     ]
    },
    {
     "name": "stderr",
     "output_type": "stream",
     "text": [
      "[I 2023-10-09 20:33:55,791] Trial 27 finished with value: 0.27946723252534866 and parameters: {'lr': 0.0008107189732221287, 'dropout_prob': 0.0437957456606782, 'hidden_channels': 96, 'n_layers': 4, 'kernel_size': 7, 'stride': 5, 'padding': 10, 'pooling_type': 'max', 'use_batch_norm': False}. Best is trial 21 with value: 0.2734736353158951.\n"
     ]
    },
    {
     "name": "stdout",
     "output_type": "stream",
     "text": [
      "Epoch 50/50, Training Loss: 0.2161204715569814, Validation Loss: 0.27946723252534866\n",
      "Epoch 10/50, Training Loss: 0.43584664861361183, Validation Loss: 0.4244568943977356\n",
      "Epoch 20/50, Training Loss: 0.36163680950800575, Validation Loss: 0.35352739691734314\n",
      "Epoch 30/50, Training Loss: 0.308561905225118, Validation Loss: 0.30683068186044693\n",
      "Epoch 40/50, Training Loss: 0.28116571605205537, Validation Loss: 0.2995900809764862\n"
     ]
    },
    {
     "name": "stderr",
     "output_type": "stream",
     "text": [
      "[I 2023-10-09 20:34:17,087] Trial 28 finished with value: 0.2774636335670948 and parameters: {'lr': 0.00021009245166340868, 'dropout_prob': 0.028559825096900738, 'hidden_channels': 91, 'n_layers': 4, 'kernel_size': 7, 'stride': 3, 'padding': 10, 'pooling_type': 'max', 'use_batch_norm': False}. Best is trial 21 with value: 0.2734736353158951.\n"
     ]
    },
    {
     "name": "stdout",
     "output_type": "stream",
     "text": [
      "Epoch 50/50, Training Loss: 0.2624605894088745, Validation Loss: 0.2774636335670948\n",
      "Epoch 10/50, Training Loss: 0.41702590584754945, Validation Loss: 0.4088232293725014\n",
      "Epoch 20/50, Training Loss: 0.3213701824347178, Validation Loss: 0.32700028270483017\n",
      "Epoch 30/50, Training Loss: 0.27291470070679985, Validation Loss: 0.2879141569137573\n",
      "Epoch 40/50, Training Loss: 0.23810095290342967, Validation Loss: 0.2869478613138199\n"
     ]
    },
    {
     "name": "stderr",
     "output_type": "stream",
     "text": [
      "[I 2023-10-09 20:35:36,894] Trial 29 finished with value: 0.27977193519473076 and parameters: {'lr': 0.00016177174097107796, 'dropout_prob': 0.030353312265685738, 'hidden_channels': 87, 'n_layers': 4, 'kernel_size': 7, 'stride': 1, 'padding': 10, 'pooling_type': 'max', 'use_batch_norm': True}. Best is trial 21 with value: 0.2734736353158951.\n"
     ]
    },
    {
     "name": "stdout",
     "output_type": "stream",
     "text": [
      "Epoch 50/50, Training Loss: 0.21623940070470174, Validation Loss: 0.27977193519473076\n",
      "Epoch 10/50, Training Loss: 0.4331637839476267, Validation Loss: 0.4201832488179207\n",
      "Epoch 20/50, Training Loss: 0.2868440508842468, Validation Loss: 0.2986576035618782\n",
      "Epoch 30/50, Training Loss: 0.2424541523059209, Validation Loss: 0.3057074695825577\n",
      "Epoch 40/50, Training Loss: 0.18674786587556202, Validation Loss: 0.35432184487581253\n"
     ]
    },
    {
     "name": "stderr",
     "output_type": "stream",
     "text": [
      "[I 2023-10-09 20:35:49,720] Trial 30 finished with value: 0.4157804846763611 and parameters: {'lr': 0.0012225365822293303, 'dropout_prob': 0.027861905957487297, 'hidden_channels': 56, 'n_layers': 6, 'kernel_size': 6, 'stride': 3, 'padding': 10, 'pooling_type': 'max', 'use_batch_norm': False}. Best is trial 21 with value: 0.2734736353158951.\n"
     ]
    },
    {
     "name": "stdout",
     "output_type": "stream",
     "text": [
      "Epoch 50/50, Training Loss: 0.1390569403767586, Validation Loss: 0.4157804846763611\n",
      "Epoch 10/50, Training Loss: 0.40696340004603065, Validation Loss: 0.39692511409521103\n",
      "Epoch 20/50, Training Loss: 0.314614995320638, Validation Loss: 0.32786737382411957\n",
      "Epoch 30/50, Training Loss: 0.2668518453836441, Validation Loss: 0.2951275706291199\n",
      "Epoch 40/50, Training Loss: 0.23863456348578135, Validation Loss: 0.2939668074250221\n"
     ]
    },
    {
     "name": "stderr",
     "output_type": "stream",
     "text": [
      "[I 2023-10-09 20:37:16,755] Trial 31 finished with value: 0.2912220321595669 and parameters: {'lr': 0.00015712046778114809, 'dropout_prob': 0.0013090719856245076, 'hidden_channels': 90, 'n_layers': 4, 'kernel_size': 7, 'stride': 1, 'padding': 10, 'pooling_type': 'max', 'use_batch_norm': True}. Best is trial 21 with value: 0.2734736353158951.\n"
     ]
    },
    {
     "name": "stdout",
     "output_type": "stream",
     "text": [
      "Epoch 50/50, Training Loss: 0.21179421345392863, Validation Loss: 0.2912220321595669\n",
      "Epoch 10/50, Training Loss: 0.4385334312915802, Validation Loss: 0.42817869037389755\n",
      "Epoch 20/50, Training Loss: 0.3386841972668966, Validation Loss: 0.3496909663081169\n",
      "Epoch 30/50, Training Loss: 0.29163676301638286, Validation Loss: 0.33442046493291855\n",
      "Epoch 40/50, Training Loss: 0.2661638200283051, Validation Loss: 0.3113982379436493\n"
     ]
    },
    {
     "name": "stderr",
     "output_type": "stream",
     "text": [
      "[I 2023-10-09 20:38:43,437] Trial 32 finished with value: 0.3130287081003189 and parameters: {'lr': 0.00011570292880979951, 'dropout_prob': 0.03697671734006703, 'hidden_channels': 92, 'n_layers': 4, 'kernel_size': 7, 'stride': 1, 'padding': 10, 'pooling_type': 'max', 'use_batch_norm': True}. Best is trial 21 with value: 0.2734736353158951.\n"
     ]
    },
    {
     "name": "stdout",
     "output_type": "stream",
     "text": [
      "Epoch 50/50, Training Loss: 0.2511580367883047, Validation Loss: 0.3130287081003189\n",
      "Epoch 10/50, Training Loss: 0.29239627917607625, Validation Loss: 0.2850769981741905\n",
      "Epoch 20/50, Training Loss: 0.21587030192216236, Validation Loss: 0.2742205075919628\n",
      "Epoch 30/50, Training Loss: 0.15405784646670023, Validation Loss: 0.31484854221343994\n",
      "Epoch 40/50, Training Loss: 0.09634389281272888, Validation Loss: 0.3069293238222599\n"
     ]
    },
    {
     "name": "stderr",
     "output_type": "stream",
     "text": [
      "[I 2023-10-09 20:39:40,675] Trial 33 finished with value: 0.3953326717019081 and parameters: {'lr': 0.00023554374168731972, 'dropout_prob': 0.07523114483163235, 'hidden_channels': 130, 'n_layers': 5, 'kernel_size': 9, 'stride': 2, 'padding': 9, 'pooling_type': 'max', 'use_batch_norm': True}. Best is trial 21 with value: 0.2734736353158951.\n"
     ]
    },
    {
     "name": "stdout",
     "output_type": "stream",
     "text": [
      "Epoch 50/50, Training Loss: 0.035396425736447176, Validation Loss: 0.3953326717019081\n",
      "Epoch 10/50, Training Loss: 0.4371546010176341, Validation Loss: 0.41855451464653015\n",
      "Epoch 20/50, Training Loss: 0.34464382330576576, Validation Loss: 0.3556666448712349\n",
      "Epoch 30/50, Training Loss: 0.25655684967835746, Validation Loss: 0.3354070484638214\n",
      "Epoch 40/50, Training Loss: 0.21036011974016824, Validation Loss: 0.35488737374544144\n"
     ]
    },
    {
     "name": "stderr",
     "output_type": "stream",
     "text": [
      "[I 2023-10-09 20:39:52,902] Trial 34 finished with value: 0.3787041902542114 and parameters: {'lr': 0.00047426350119364057, 'dropout_prob': 0.03837901372657549, 'hidden_channels': 61, 'n_layers': 4, 'kernel_size': 6, 'stride': 6, 'padding': 10, 'pooling_type': 'max', 'use_batch_norm': True}. Best is trial 21 with value: 0.2734736353158951.\n"
     ]
    },
    {
     "name": "stdout",
     "output_type": "stream",
     "text": [
      "Epoch 50/50, Training Loss: 0.15917457143465677, Validation Loss: 0.3787041902542114\n",
      "Epoch 10/50, Training Loss: 0.34051169951756793, Validation Loss: 0.31385739147663116\n",
      "Epoch 20/50, Training Loss: 0.22495538194974263, Validation Loss: 0.27184975892305374\n",
      "Epoch 30/50, Training Loss: 0.14032621731360753, Validation Loss: 0.2884780839085579\n",
      "Epoch 40/50, Training Loss: 0.0564507727821668, Validation Loss: 0.3673018366098404\n"
     ]
    },
    {
     "name": "stderr",
     "output_type": "stream",
     "text": [
      "[I 2023-10-09 20:40:11,547] Trial 35 finished with value: 0.6201528012752533 and parameters: {'lr': 0.0006325090065760162, 'dropout_prob': 0.08942571054531268, 'hidden_channels': 41, 'n_layers': 6, 'kernel_size': 8, 'stride': 2, 'padding': 9, 'pooling_type': 'max', 'use_batch_norm': True}. Best is trial 21 with value: 0.2734736353158951.\n"
     ]
    },
    {
     "name": "stdout",
     "output_type": "stream",
     "text": [
      "Epoch 50/50, Training Loss: 0.0061413375350336235, Validation Loss: 0.6201528012752533\n",
      "Epoch 10/50, Training Loss: 0.41001417438189186, Validation Loss: 0.4053097292780876\n",
      "Epoch 20/50, Training Loss: 0.32047949234644574, Validation Loss: 0.33069170266389847\n",
      "Epoch 30/50, Training Loss: 0.2756654570500056, Validation Loss: 0.3075728714466095\n",
      "Epoch 40/50, Training Loss: 0.2529812226692835, Validation Loss: 0.3066033869981766\n"
     ]
    },
    {
     "name": "stderr",
     "output_type": "stream",
     "text": [
      "[I 2023-10-09 20:42:12,714] Trial 36 finished with value: 0.294957660138607 and parameters: {'lr': 0.00023215855758167936, 'dropout_prob': 0.05784977184063827, 'hidden_channels': 135, 'n_layers': 5, 'kernel_size': 5, 'stride': 1, 'padding': 8, 'pooling_type': 'max', 'use_batch_norm': False}. Best is trial 21 with value: 0.2734736353158951.\n"
     ]
    },
    {
     "name": "stdout",
     "output_type": "stream",
     "text": [
      "Epoch 50/50, Training Loss: 0.2361371099948883, Validation Loss: 0.294957660138607\n",
      "Epoch 10/50, Training Loss: 0.6381242116292317, Validation Loss: 0.6303462535142899\n",
      "Epoch 20/50, Training Loss: 0.4480348626772563, Validation Loss: 0.4464346766471863\n",
      "Epoch 30/50, Training Loss: 0.3959302047888438, Validation Loss: 0.39788997173309326\n",
      "Epoch 40/50, Training Loss: 0.33677177826563515, Validation Loss: 0.3575112670660019\n"
     ]
    },
    {
     "name": "stderr",
     "output_type": "stream",
     "text": [
      "[I 2023-10-09 20:42:32,167] Trial 37 finished with value: 0.3222644180059433 and parameters: {'lr': 0.00011446548473123948, 'dropout_prob': 0.027328748963713418, 'hidden_channels': 99, 'n_layers': 4, 'kernel_size': 7, 'stride': 7, 'padding': 10, 'pooling_type': 'max', 'use_batch_norm': True}. Best is trial 21 with value: 0.2734736353158951.\n"
     ]
    },
    {
     "name": "stdout",
     "output_type": "stream",
     "text": [
      "Epoch 50/50, Training Loss: 0.2819198807080587, Validation Loss: 0.3222644180059433\n",
      "Epoch 10/50, Training Loss: 0.45038904150327047, Validation Loss: 0.43578723818063736\n",
      "Epoch 20/50, Training Loss: 0.3306502858797709, Validation Loss: 0.3051294609904289\n",
      "Epoch 30/50, Training Loss: 0.2855993270874023, Validation Loss: 0.28741563856601715\n",
      "Epoch 40/50, Training Loss: 0.27936458388964336, Validation Loss: 0.30497290194034576\n"
     ]
    },
    {
     "name": "stderr",
     "output_type": "stream",
     "text": [
      "[I 2023-10-09 20:42:51,706] Trial 38 finished with value: 0.29872673749923706 and parameters: {'lr': 0.0004594697733935865, 'dropout_prob': 0.026842771432762133, 'hidden_channels': 75, 'n_layers': 6, 'kernel_size': 6, 'stride': 3, 'padding': 9, 'pooling_type': 'max', 'use_batch_norm': False}. Best is trial 21 with value: 0.2734736353158951.\n"
     ]
    },
    {
     "name": "stdout",
     "output_type": "stream",
     "text": [
      "Epoch 50/50, Training Loss: 0.24619359870751698, Validation Loss: 0.29872673749923706\n",
      "Epoch 10/50, Training Loss: 0.4262559632460276, Validation Loss: 0.39982087165117264\n",
      "Epoch 20/50, Training Loss: 0.2861659953991572, Validation Loss: 0.31586744636297226\n",
      "Epoch 30/50, Training Loss: 0.2178668518861135, Validation Loss: 0.33204391226172447\n",
      "Epoch 40/50, Training Loss: 0.15016123751799265, Validation Loss: 0.39466918632388115\n"
     ]
    },
    {
     "name": "stderr",
     "output_type": "stream",
     "text": [
      "[I 2023-10-09 20:43:10,651] Trial 39 finished with value: 0.6152524054050446 and parameters: {'lr': 0.0007286409385879024, 'dropout_prob': 0.10052170934812205, 'hidden_channels': 143, 'n_layers': 5, 'kernel_size': 9, 'stride': 6, 'padding': 8, 'pooling_type': 'max', 'use_batch_norm': False}. Best is trial 21 with value: 0.2734736353158951.\n"
     ]
    },
    {
     "name": "stdout",
     "output_type": "stream",
     "text": [
      "Epoch 50/50, Training Loss: 0.0952689677476883, Validation Loss: 0.6152524054050446\n",
      "Epoch 10/50, Training Loss: 0.5140442709128062, Validation Loss: 0.4918706342577934\n",
      "Epoch 20/50, Training Loss: 0.41305668354034425, Validation Loss: 0.41986726969480515\n",
      "Epoch 30/50, Training Loss: 0.33929647008577984, Validation Loss: 0.3788215145468712\n",
      "Epoch 40/50, Training Loss: 0.2608732134103775, Validation Loss: 0.3927629515528679\n"
     ]
    },
    {
     "name": "stderr",
     "output_type": "stream",
     "text": [
      "[I 2023-10-09 20:43:22,578] Trial 40 finished with value: 0.4405638054013252 and parameters: {'lr': 0.0002696448508190646, 'dropout_prob': 0.0645401246531559, 'hidden_channels': 83, 'n_layers': 4, 'kernel_size': 6, 'stride': 7, 'padding': 8, 'pooling_type': 'max', 'use_batch_norm': True}. Best is trial 21 with value: 0.2734736353158951.\n"
     ]
    },
    {
     "name": "stdout",
     "output_type": "stream",
     "text": [
      "Epoch 50/50, Training Loss: 0.19972995817661285, Validation Loss: 0.4405638054013252\n",
      "Epoch 10/50, Training Loss: 0.38479851285616556, Validation Loss: 0.37057847529649734\n",
      "Epoch 20/50, Training Loss: 0.30418131947517396, Validation Loss: 0.30668968707323074\n",
      "Epoch 30/50, Training Loss: 0.26884977519512177, Validation Loss: 0.31184830889105797\n",
      "Epoch 40/50, Training Loss: 0.2497449994087219, Validation Loss: 0.28513330966234207\n"
     ]
    },
    {
     "name": "stderr",
     "output_type": "stream",
     "text": [
      "[I 2023-10-09 20:43:45,046] Trial 41 finished with value: 0.3087497726082802 and parameters: {'lr': 0.0003617433914878356, 'dropout_prob': 0.10986978935908381, 'hidden_channels': 193, 'n_layers': 3, 'kernel_size': 7, 'stride': 4, 'padding': 3, 'pooling_type': 'max', 'use_batch_norm': False}. Best is trial 21 with value: 0.2734736353158951.\n"
     ]
    },
    {
     "name": "stdout",
     "output_type": "stream",
     "text": [
      "Epoch 50/50, Training Loss: 0.2210146943728129, Validation Loss: 0.3087497726082802\n",
      "Epoch 10/50, Training Loss: 0.4268034338951111, Validation Loss: 0.41456710547208786\n",
      "Epoch 20/50, Training Loss: 0.3526392996311188, Validation Loss: 0.3436461612582207\n",
      "Epoch 30/50, Training Loss: 0.30331946114699043, Validation Loss: 0.30498332530260086\n",
      "Epoch 40/50, Training Loss: 0.27731641034285226, Validation Loss: 0.2838331535458565\n"
     ]
    },
    {
     "name": "stderr",
     "output_type": "stream",
     "text": [
      "[I 2023-10-09 20:44:02,555] Trial 42 finished with value: 0.288978636264801 and parameters: {'lr': 0.00027273338079787977, 'dropout_prob': 0.00044420282061604505, 'hidden_channels': 118, 'n_layers': 3, 'kernel_size': 7, 'stride': 4, 'padding': 10, 'pooling_type': 'max', 'use_batch_norm': False}. Best is trial 21 with value: 0.2734736353158951.\n"
     ]
    },
    {
     "name": "stdout",
     "output_type": "stream",
     "text": [
      "Epoch 50/50, Training Loss: 0.264172637462616, Validation Loss: 0.288978636264801\n",
      "Epoch 10/50, Training Loss: 0.3318100790182749, Validation Loss: 0.3210563510656357\n",
      "Epoch 20/50, Training Loss: 0.26719325681527456, Validation Loss: 0.31782203167676926\n",
      "Epoch 30/50, Training Loss: 0.23006900350252787, Validation Loss: 0.2862519547343254\n",
      "Epoch 40/50, Training Loss: 0.20217366913954418, Validation Loss: 0.3134726844727993\n"
     ]
    },
    {
     "name": "stderr",
     "output_type": "stream",
     "text": [
      "[I 2023-10-09 20:44:35,931] Trial 43 finished with value: 0.301229078322649 and parameters: {'lr': 0.0005216502802171219, 'dropout_prob': 0.06711465329120446, 'hidden_channels': 128, 'n_layers': 4, 'kernel_size': 8, 'stride': 3, 'padding': 9, 'pooling_type': 'max', 'use_batch_norm': False}. Best is trial 21 with value: 0.2734736353158951.\n"
     ]
    },
    {
     "name": "stdout",
     "output_type": "stream",
     "text": [
      "Epoch 50/50, Training Loss: 0.16980196088552474, Validation Loss: 0.301229078322649\n",
      "Epoch 10/50, Training Loss: 0.3485241969426473, Validation Loss: 0.3565007150173187\n",
      "Epoch 20/50, Training Loss: 0.28044176002343496, Validation Loss: 0.3105029910802841\n",
      "Epoch 30/50, Training Loss: 0.23566403090953827, Validation Loss: 0.2947789207100868\n",
      "Epoch 40/50, Training Loss: 0.20194584826628367, Validation Loss: 0.29102104157209396\n"
     ]
    },
    {
     "name": "stderr",
     "output_type": "stream",
     "text": [
      "[I 2023-10-09 20:44:48,066] Trial 44 finished with value: 0.3045419491827488 and parameters: {'lr': 0.0009223617592072784, 'dropout_prob': 0.029778112212520375, 'hidden_channels': 141, 'n_layers': 3, 'kernel_size': 7, 'stride': 5, 'padding': 2, 'pooling_type': 'max', 'use_batch_norm': False}. Best is trial 21 with value: 0.2734736353158951.\n"
     ]
    },
    {
     "name": "stdout",
     "output_type": "stream",
     "text": [
      "Epoch 50/50, Training Loss: 0.17027235627174378, Validation Loss: 0.3045419491827488\n",
      "Epoch 10/50, Training Loss: 0.6653951168060303, Validation Loss: 0.6562718600034714\n",
      "Epoch 20/50, Training Loss: 0.6308500011761983, Validation Loss: 0.6278635114431381\n",
      "Epoch 30/50, Training Loss: 0.6291561245918273, Validation Loss: 0.6259830296039581\n",
      "Epoch 40/50, Training Loss: 0.6132449428240458, Validation Loss: 0.6067092418670654\n"
     ]
    },
    {
     "name": "stderr",
     "output_type": "stream",
     "text": [
      "[I 2023-10-09 20:45:02,314] Trial 45 finished with value: 0.4725274294614792 and parameters: {'lr': 5.67800495677283e-05, 'dropout_prob': 0.04767149059957951, 'hidden_channels': 69, 'n_layers': 5, 'kernel_size': 8, 'stride': 6, 'padding': 9, 'pooling_type': 'max', 'use_batch_norm': False}. Best is trial 21 with value: 0.2734736353158951.\n"
     ]
    },
    {
     "name": "stdout",
     "output_type": "stream",
     "text": [
      "Epoch 50/50, Training Loss: 0.47679891586303713, Validation Loss: 0.4725274294614792\n",
      "Epoch 10/50, Training Loss: 0.45906115174293516, Validation Loss: 0.44390932470560074\n",
      "Epoch 20/50, Training Loss: 0.3869449476401011, Validation Loss: 0.36081577837467194\n",
      "Epoch 30/50, Training Loss: 0.31494973103205365, Validation Loss: 0.3053800091147423\n",
      "Epoch 40/50, Training Loss: 0.289835732181867, Validation Loss: 0.2834448181092739\n"
     ]
    },
    {
     "name": "stderr",
     "output_type": "stream",
     "text": [
      "[I 2023-10-09 20:45:23,919] Trial 46 finished with value: 0.302145853638649 and parameters: {'lr': 0.00034109120210032244, 'dropout_prob': 0.09634197762423172, 'hidden_channels': 110, 'n_layers': 4, 'kernel_size': 7, 'stride': 4, 'padding': 10, 'pooling_type': 'avg', 'use_batch_norm': False}. Best is trial 21 with value: 0.2734736353158951.\n"
     ]
    },
    {
     "name": "stdout",
     "output_type": "stream",
     "text": [
      "Epoch 50/50, Training Loss: 0.27557437916596733, Validation Loss: 0.302145853638649\n",
      "Epoch 10/50, Training Loss: 0.4681371748447418, Validation Loss: 0.45539530366659164\n",
      "Epoch 20/50, Training Loss: 0.3849405845006307, Validation Loss: 0.377036452293396\n",
      "Epoch 30/50, Training Loss: 0.33963246941566466, Validation Loss: 0.33922601491212845\n",
      "Epoch 40/50, Training Loss: 0.3023257752259572, Validation Loss: 0.3117005527019501\n"
     ]
    },
    {
     "name": "stderr",
     "output_type": "stream",
     "text": [
      "[I 2023-10-09 20:45:48,846] Trial 47 finished with value: 0.3013220466673374 and parameters: {'lr': 0.0001335917507069532, 'dropout_prob': 0.01941167968449603, 'hidden_channels': 99, 'n_layers': 3, 'kernel_size': 7, 'stride': 2, 'padding': 1, 'pooling_type': 'max', 'use_batch_norm': True}. Best is trial 21 with value: 0.2734736353158951.\n"
     ]
    },
    {
     "name": "stdout",
     "output_type": "stream",
     "text": [
      "Epoch 50/50, Training Loss: 0.2756994217634201, Validation Loss: 0.3013220466673374\n",
      "Epoch 10/50, Training Loss: 0.6636483709017436, Validation Loss: 0.6619076132774353\n",
      "Epoch 20/50, Training Loss: 0.631674857934316, Validation Loss: 0.6310625225305557\n",
      "Epoch 30/50, Training Loss: 0.6185770273208618, Validation Loss: 0.6167298406362534\n",
      "Epoch 40/50, Training Loss: 0.60327068567276, Validation Loss: 0.600594237446785\n"
     ]
    },
    {
     "name": "stderr",
     "output_type": "stream",
     "text": [
      "[I 2023-10-09 20:45:56,799] Trial 48 finished with value: 0.5765845328569412 and parameters: {'lr': 8.204004611944056e-05, 'dropout_prob': 0.06600219776630382, 'hidden_channels': 38, 'n_layers': 2, 'kernel_size': 9, 'stride': 5, 'padding': 7, 'pooling_type': 'avg', 'use_batch_norm': False}. Best is trial 21 with value: 0.2734736353158951.\n"
     ]
    },
    {
     "name": "stdout",
     "output_type": "stream",
     "text": [
      "Epoch 50/50, Training Loss: 0.578980012734731, Validation Loss: 0.5765845328569412\n",
      "Epoch 10/50, Training Loss: 0.40949803590774536, Validation Loss: 0.3960949629545212\n",
      "Epoch 20/50, Training Loss: 0.32014018495877583, Validation Loss: 0.3226929381489754\n",
      "Epoch 30/50, Training Loss: 0.28348605732123056, Validation Loss: 0.2916843369603157\n",
      "Epoch 40/50, Training Loss: 0.2604711006085078, Validation Loss: 0.2780299112200737\n"
     ]
    },
    {
     "name": "stderr",
     "output_type": "stream",
     "text": [
      "[I 2023-10-09 20:46:38,366] Trial 49 finished with value: 0.27272412925958633 and parameters: {'lr': 0.00020593162096087185, 'dropout_prob': 0.14022826103247282, 'hidden_channels': 170, 'n_layers': 4, 'kernel_size': 6, 'stride': 3, 'padding': 9, 'pooling_type': 'max', 'use_batch_norm': False}. Best is trial 49 with value: 0.27272412925958633.\n"
     ]
    },
    {
     "name": "stdout",
     "output_type": "stream",
     "text": [
      "Epoch 50/50, Training Loss: 0.24322263697783153, Validation Loss: 0.27272412925958633\n",
      "Epoch 10/50, Training Loss: 0.42066340446472167, Validation Loss: 0.4018077030777931\n",
      "Epoch 20/50, Training Loss: 0.32725399533907573, Validation Loss: 0.3189181163907051\n",
      "Epoch 30/50, Training Loss: 0.2904175102710724, Validation Loss: 0.30560020357370377\n",
      "Epoch 40/50, Training Loss: 0.2634795238574346, Validation Loss: 0.29630621522665024\n"
     ]
    },
    {
     "name": "stderr",
     "output_type": "stream",
     "text": [
      "[I 2023-10-09 20:47:44,015] Trial 50 finished with value: 0.28747477754950523 and parameters: {'lr': 0.00018682485995539464, 'dropout_prob': 0.15557147079408293, 'hidden_channels': 228, 'n_layers': 5, 'kernel_size': 5, 'stride': 3, 'padding': 9, 'pooling_type': 'max', 'use_batch_norm': False}. Best is trial 49 with value: 0.27272412925958633.\n"
     ]
    },
    {
     "name": "stdout",
     "output_type": "stream",
     "text": [
      "Epoch 50/50, Training Loss: 0.24788711667060853, Validation Loss: 0.28747477754950523\n",
      "Epoch 10/50, Training Loss: 0.4330853243668874, Validation Loss: 0.4247618019580841\n",
      "Epoch 20/50, Training Loss: 0.35492992599805195, Validation Loss: 0.3390664905309677\n",
      "Epoch 30/50, Training Loss: 0.29009106854597727, Validation Loss: 0.29287533462047577\n",
      "Epoch 40/50, Training Loss: 0.2653352697690328, Validation Loss: 0.2838795930147171\n"
     ]
    },
    {
     "name": "stderr",
     "output_type": "stream",
     "text": [
      "[I 2023-10-09 20:48:49,268] Trial 51 finished with value: 0.29667800664901733 and parameters: {'lr': 0.00017757793300677394, 'dropout_prob': 0.1422421069995029, 'hidden_channels': 228, 'n_layers': 5, 'kernel_size': 5, 'stride': 3, 'padding': 9, 'pooling_type': 'max', 'use_batch_norm': False}. Best is trial 49 with value: 0.27272412925958633.\n"
     ]
    },
    {
     "name": "stdout",
     "output_type": "stream",
     "text": [
      "Epoch 50/50, Training Loss: 0.2510646382967631, Validation Loss: 0.29667800664901733\n",
      "Epoch 10/50, Training Loss: 0.4001251717408498, Validation Loss: 0.37635914236307144\n",
      "Epoch 20/50, Training Loss: 0.3225044131278992, Validation Loss: 0.3054903522133827\n",
      "Epoch 30/50, Training Loss: 0.2741966187953949, Validation Loss: 0.28935612738132477\n",
      "Epoch 40/50, Training Loss: 0.26096212565898896, Validation Loss: 0.29008352756500244\n"
     ]
    },
    {
     "name": "stderr",
     "output_type": "stream",
     "text": [
      "[I 2023-10-09 20:49:59,989] Trial 52 finished with value: 0.2834058925509453 and parameters: {'lr': 0.00018289248752906568, 'dropout_prob': 0.15023205922991859, 'hidden_channels': 201, 'n_layers': 4, 'kernel_size': 5, 'stride': 2, 'padding': 9, 'pooling_type': 'max', 'use_batch_norm': False}. Best is trial 49 with value: 0.27272412925958633.\n"
     ]
    },
    {
     "name": "stdout",
     "output_type": "stream",
     "text": [
      "Epoch 50/50, Training Loss: 0.2431090662876765, Validation Loss: 0.2834058925509453\n",
      "Epoch 10/50, Training Loss: 0.36357763210932414, Validation Loss: 0.3432946354150772\n",
      "Epoch 20/50, Training Loss: 0.301906818151474, Validation Loss: 0.31012213230133057\n",
      "Epoch 30/50, Training Loss: 0.25807295242945355, Validation Loss: 0.27663275226950645\n",
      "Epoch 40/50, Training Loss: 0.23606203198432923, Validation Loss: 0.2686200551688671\n"
     ]
    },
    {
     "name": "stderr",
     "output_type": "stream",
     "text": [
      "[I 2023-10-09 20:51:23,178] Trial 53 finished with value: 0.2736881487071514 and parameters: {'lr': 0.00024052967729753372, 'dropout_prob': 0.09248853816692797, 'hidden_channels': 212, 'n_layers': 4, 'kernel_size': 6, 'stride': 2, 'padding': 10, 'pooling_type': 'max', 'use_batch_norm': False}. Best is trial 49 with value: 0.27272412925958633.\n"
     ]
    },
    {
     "name": "stdout",
     "output_type": "stream",
     "text": [
      "Epoch 50/50, Training Loss: 0.22209872901439667, Validation Loss: 0.2736881487071514\n",
      "Epoch 10/50, Training Loss: 0.36229249437650046, Validation Loss: 0.34058310091495514\n",
      "Epoch 20/50, Training Loss: 0.2837722380956014, Validation Loss: 0.280937846750021\n",
      "Epoch 30/50, Training Loss: 0.2579276223977407, Validation Loss: 0.26928821578621864\n",
      "Epoch 40/50, Training Loss: 0.23123186429341633, Validation Loss: 0.26568327099084854\n"
     ]
    },
    {
     "name": "stderr",
     "output_type": "stream",
     "text": [
      "[I 2023-10-09 20:52:21,109] Trial 54 finished with value: 0.25781816989183426 and parameters: {'lr': 0.0002662769564264878, 'dropout_prob': 0.12065730412379491, 'hidden_channels': 175, 'n_layers': 4, 'kernel_size': 6, 'stride': 2, 'padding': 10, 'pooling_type': 'max', 'use_batch_norm': False}. Best is trial 54 with value: 0.25781816989183426.\n"
     ]
    },
    {
     "name": "stdout",
     "output_type": "stream",
     "text": [
      "Epoch 50/50, Training Loss: 0.2103786995013555, Validation Loss: 0.25781816989183426\n",
      "Epoch 10/50, Training Loss: 0.29913002053896587, Validation Loss: 0.30263427644968033\n",
      "Epoch 20/50, Training Loss: 0.2376791477203369, Validation Loss: 0.29089654982089996\n",
      "Epoch 30/50, Training Loss: 0.1919283131758372, Validation Loss: 0.27823689579963684\n",
      "Epoch 40/50, Training Loss: 0.16369352340698243, Validation Loss: 0.3260161206126213\n"
     ]
    },
    {
     "name": "stderr",
     "output_type": "stream",
     "text": [
      "[I 2023-10-09 20:53:38,275] Trial 55 finished with value: 0.37245137989521027 and parameters: {'lr': 0.000574129858826656, 'dropout_prob': 0.12862365238183626, 'hidden_channels': 181, 'n_layers': 5, 'kernel_size': 6, 'stride': 2, 'padding': 10, 'pooling_type': 'max', 'use_batch_norm': False}. Best is trial 54 with value: 0.25781816989183426.\n"
     ]
    },
    {
     "name": "stdout",
     "output_type": "stream",
     "text": [
      "Epoch 50/50, Training Loss: 0.1302923599878947, Validation Loss: 0.37245137989521027\n",
      "Epoch 10/50, Training Loss: 0.35970332423845924, Validation Loss: 0.3423434868454933\n",
      "Epoch 20/50, Training Loss: 0.29169255594412485, Validation Loss: 0.2919156700372696\n",
      "Epoch 30/50, Training Loss: 0.2554765999317169, Validation Loss: 0.30365097522735596\n",
      "Epoch 40/50, Training Loss: 0.23423202733198803, Validation Loss: 0.27471600100398064\n"
     ]
    },
    {
     "name": "stderr",
     "output_type": "stream",
     "text": [
      "[I 2023-10-09 20:54:28,357] Trial 56 finished with value: 0.28730935603380203 and parameters: {'lr': 0.0002858463490503613, 'dropout_prob': 0.10862947146029958, 'hidden_channels': 165, 'n_layers': 4, 'kernel_size': 6, 'stride': 2, 'padding': 10, 'pooling_type': 'max', 'use_batch_norm': False}. Best is trial 54 with value: 0.25781816989183426.\n"
     ]
    },
    {
     "name": "stdout",
     "output_type": "stream",
     "text": [
      "Epoch 50/50, Training Loss: 0.21672397951285044, Validation Loss: 0.28730935603380203\n",
      "Epoch 10/50, Training Loss: 0.3191042025883993, Validation Loss: 0.31275033205747604\n",
      "Epoch 20/50, Training Loss: 0.2452310601870219, Validation Loss: 0.27876729518175125\n",
      "Epoch 30/50, Training Loss: 0.19732632637023925, Validation Loss: 0.2791023775935173\n",
      "Epoch 40/50, Training Loss: 0.16673529346783955, Validation Loss: 0.2749295234680176\n"
     ]
    },
    {
     "name": "stderr",
     "output_type": "stream",
     "text": [
      "[I 2023-10-09 20:55:10,244] Trial 57 finished with value: 0.30583807080984116 and parameters: {'lr': 0.0007018825819619285, 'dropout_prob': 0.07763951214753846, 'hidden_channels': 172, 'n_layers': 4, 'kernel_size': 6, 'stride': 3, 'padding': 10, 'pooling_type': 'max', 'use_batch_norm': False}. Best is trial 54 with value: 0.25781816989183426.\n"
     ]
    },
    {
     "name": "stdout",
     "output_type": "stream",
     "text": [
      "Epoch 50/50, Training Loss: 0.12192253271738689, Validation Loss: 0.30583807080984116\n",
      "Epoch 10/50, Training Loss: 0.414518266916275, Validation Loss: 0.40816569328308105\n",
      "Epoch 20/50, Training Loss: 0.3545676589012146, Validation Loss: 0.3416302427649498\n",
      "Epoch 30/50, Training Loss: 0.3036630133787791, Validation Loss: 0.3193866237998009\n",
      "Epoch 40/50, Training Loss: 0.27311937709649403, Validation Loss: 0.2951289415359497\n"
     ]
    },
    {
     "name": "stderr",
     "output_type": "stream",
     "text": [
      "[I 2023-10-09 20:56:12,590] Trial 58 finished with value: 0.2980509288609028 and parameters: {'lr': 0.0002334790571232816, 'dropout_prob': 0.0960752569548029, 'hidden_channels': 213, 'n_layers': 3, 'kernel_size': 6, 'stride': 2, 'padding': 8, 'pooling_type': 'max', 'use_batch_norm': False}. Best is trial 54 with value: 0.25781816989183426.\n"
     ]
    },
    {
     "name": "stdout",
     "output_type": "stream",
     "text": [
      "Epoch 50/50, Training Loss: 0.24855020741621653, Validation Loss: 0.2980509288609028\n",
      "Epoch 10/50, Training Loss: 0.37257903019587196, Validation Loss: 0.36050623655319214\n",
      "Epoch 20/50, Training Loss: 0.29144393106301625, Validation Loss: 0.3209697790443897\n",
      "Epoch 30/50, Training Loss: 0.25013305942217506, Validation Loss: 0.3031386695802212\n",
      "Epoch 40/50, Training Loss: 0.22340449194113413, Validation Loss: 0.3039335757493973\n"
     ]
    },
    {
     "name": "stderr",
     "output_type": "stream",
     "text": [
      "[I 2023-10-09 20:57:00,226] Trial 59 finished with value: 0.31791380047798157 and parameters: {'lr': 0.0004184905144448301, 'dropout_prob': 0.12113742123124328, 'hidden_channels': 185, 'n_layers': 5, 'kernel_size': 5, 'stride': 3, 'padding': 10, 'pooling_type': 'max', 'use_batch_norm': False}. Best is trial 54 with value: 0.25781816989183426.\n"
     ]
    },
    {
     "name": "stdout",
     "output_type": "stream",
     "text": [
      "Epoch 50/50, Training Loss: 0.19035789221525193, Validation Loss: 0.31791380047798157\n",
      "Epoch 10/50, Training Loss: 0.29260180493195853, Validation Loss: 0.2974432185292244\n",
      "Epoch 20/50, Training Loss: 0.21298971970876057, Validation Loss: 0.28148557245731354\n",
      "Epoch 30/50, Training Loss: 0.14449607233206432, Validation Loss: 0.27182451635599136\n",
      "Epoch 40/50, Training Loss: 0.09318515658378601, Validation Loss: 0.3212716281414032\n"
     ]
    },
    {
     "name": "stderr",
     "output_type": "stream",
     "text": [
      "[I 2023-10-09 20:58:12,139] Trial 60 finished with value: 0.39891673624515533 and parameters: {'lr': 0.0014018678387525518, 'dropout_prob': 0.09115411080041819, 'hidden_channels': 240, 'n_layers': 3, 'kernel_size': 6, 'stride': 2, 'padding': 9, 'pooling_type': 'max', 'use_batch_norm': False}. Best is trial 54 with value: 0.25781816989183426.\n"
     ]
    },
    {
     "name": "stdout",
     "output_type": "stream",
     "text": [
      "Epoch 50/50, Training Loss: 0.040631381298104924, Validation Loss: 0.39891673624515533\n",
      "Epoch 10/50, Training Loss: 0.42021095951398213, Validation Loss: 0.41567567735910416\n",
      "Epoch 20/50, Training Loss: 0.36955703298250836, Validation Loss: 0.3655480816960335\n",
      "Epoch 30/50, Training Loss: 0.3170160194238027, Validation Loss: 0.3326786682009697\n",
      "Epoch 40/50, Training Loss: 0.28809471329053243, Validation Loss: 0.32604867964982986\n"
     ]
    },
    {
     "name": "stderr",
     "output_type": "stream",
     "text": [
      "[I 2023-10-09 21:00:09,074] Trial 61 finished with value: 0.3046067878603935 and parameters: {'lr': 0.0001464268892131512, 'dropout_prob': 0.03952739129048774, 'hidden_channels': 149, 'n_layers': 4, 'kernel_size': 6, 'stride': 1, 'padding': 10, 'pooling_type': 'max', 'use_batch_norm': False}. Best is trial 54 with value: 0.25781816989183426.\n"
     ]
    },
    {
     "name": "stdout",
     "output_type": "stream",
     "text": [
      "Epoch 50/50, Training Loss: 0.2683507372935613, Validation Loss: 0.3046067878603935\n",
      "Epoch 10/50, Training Loss: 0.35665392875671387, Validation Loss: 0.3555535599589348\n",
      "Epoch 20/50, Training Loss: 0.28095120986302696, Validation Loss: 0.328112430870533\n",
      "Epoch 30/50, Training Loss: 0.25418061117331187, Validation Loss: 0.30123940482735634\n",
      "Epoch 40/50, Training Loss: 0.22810928324858348, Validation Loss: 0.29627759754657745\n"
     ]
    },
    {
     "name": "stderr",
     "output_type": "stream",
     "text": [
      "[I 2023-10-09 21:03:10,735] Trial 62 finished with value: 0.31739719957113266 and parameters: {'lr': 0.0003030447986058263, 'dropout_prob': 0.011478764565156611, 'hidden_channels': 187, 'n_layers': 4, 'kernel_size': 7, 'stride': 1, 'padding': 10, 'pooling_type': 'max', 'use_batch_norm': False}. Best is trial 54 with value: 0.25781816989183426.\n"
     ]
    },
    {
     "name": "stdout",
     "output_type": "stream",
     "text": [
      "Epoch 50/50, Training Loss: 0.20459851523240408, Validation Loss: 0.31739719957113266\n",
      "Epoch 10/50, Training Loss: 0.44120468298594157, Validation Loss: 0.42862531542778015\n",
      "Epoch 20/50, Training Loss: 0.37906637191772463, Validation Loss: 0.3683277815580368\n",
      "Epoch 30/50, Training Loss: 0.3280800918738047, Validation Loss: 0.33349960297346115\n",
      "Epoch 40/50, Training Loss: 0.2905966361363729, Validation Loss: 0.3165314421057701\n"
     ]
    },
    {
     "name": "stderr",
     "output_type": "stream",
     "text": [
      "[I 2023-10-09 21:04:09,265] Trial 63 finished with value: 0.30677711218595505 and parameters: {'lr': 0.00021066797492384727, 'dropout_prob': 0.05076505542748869, 'hidden_channels': 86, 'n_layers': 4, 'kernel_size': 6, 'stride': 1, 'padding': 10, 'pooling_type': 'max', 'use_batch_norm': False}. Best is trial 54 with value: 0.25781816989183426.\n"
     ]
    },
    {
     "name": "stdout",
     "output_type": "stream",
     "text": [
      "Epoch 50/50, Training Loss: 0.27124411761760714, Validation Loss: 0.30677711218595505\n",
      "Epoch 10/50, Training Loss: 0.37065706253051756, Validation Loss: 0.3568585067987442\n",
      "Epoch 20/50, Training Loss: 0.279760088523229, Validation Loss: 0.2758862376213074\n",
      "Epoch 30/50, Training Loss: 0.23834744989871978, Validation Loss: 0.2533489540219307\n",
      "Epoch 40/50, Training Loss: 0.21496226688226064, Validation Loss: 0.2447163499891758\n"
     ]
    },
    {
     "name": "stderr",
     "output_type": "stream",
     "text": [
      "[I 2023-10-09 21:05:27,756] Trial 64 finished with value: 0.24092380702495575 and parameters: {'lr': 9.932054721022286e-05, 'dropout_prob': 0.0789779531161162, 'hidden_channels': 207, 'n_layers': 4, 'kernel_size': 7, 'stride': 2, 'padding': 8, 'pooling_type': 'max', 'use_batch_norm': True}. Best is trial 64 with value: 0.24092380702495575.\n"
     ]
    },
    {
     "name": "stdout",
     "output_type": "stream",
     "text": [
      "Epoch 50/50, Training Loss: 0.18242386976877847, Validation Loss: 0.24092380702495575\n",
      "Epoch 10/50, Training Loss: 0.4027067482471466, Validation Loss: 0.38196663558483124\n",
      "Epoch 20/50, Training Loss: 0.33616944948832195, Validation Loss: 0.32233285158872604\n",
      "Epoch 30/50, Training Loss: 0.2957945982615153, Validation Loss: 0.29571525752544403\n",
      "Epoch 40/50, Training Loss: 0.26804471413294473, Validation Loss: 0.28640445321798325\n"
     ]
    },
    {
     "name": "stderr",
     "output_type": "stream",
     "text": [
      "[I 2023-10-09 21:06:46,215] Trial 65 finished with value: 0.2758621834218502 and parameters: {'lr': 0.00010721873714403054, 'dropout_prob': 0.17627564621368186, 'hidden_channels': 205, 'n_layers': 4, 'kernel_size': 8, 'stride': 2, 'padding': 8, 'pooling_type': 'max', 'use_batch_norm': False}. Best is trial 64 with value: 0.24092380702495575.\n"
     ]
    },
    {
     "name": "stdout",
     "output_type": "stream",
     "text": [
      "Epoch 50/50, Training Loss: 0.25793647865454356, Validation Loss: 0.2758621834218502\n",
      "Epoch 10/50, Training Loss: 0.46236979166666664, Validation Loss: 0.4567748233675957\n",
      "Epoch 20/50, Training Loss: 0.40257132053375244, Validation Loss: 0.3977549821138382\n",
      "Epoch 30/50, Training Loss: 0.3754446804523468, Validation Loss: 0.36944105476140976\n",
      "Epoch 40/50, Training Loss: 0.3509351929028829, Validation Loss: 0.3501579836010933\n"
     ]
    },
    {
     "name": "stderr",
     "output_type": "stream",
     "text": [
      "[I 2023-10-09 21:07:31,342] Trial 66 finished with value: 0.33268535137176514 and parameters: {'lr': 7.883176301269168e-05, 'dropout_prob': 0.18139313283858946, 'hidden_channels': 205, 'n_layers': 3, 'kernel_size': 8, 'stride': 2, 'padding': 7, 'pooling_type': 'max', 'use_batch_norm': False}. Best is trial 64 with value: 0.24092380702495575.\n"
     ]
    },
    {
     "name": "stdout",
     "output_type": "stream",
     "text": [
      "Epoch 50/50, Training Loss: 0.32579683264096576, Validation Loss: 0.33268535137176514\n",
      "Epoch 10/50, Training Loss: 0.3211022734642029, Validation Loss: 0.2988651618361473\n",
      "Epoch 20/50, Training Loss: 0.2534777641296387, Validation Loss: 0.2846187725663185\n",
      "Epoch 30/50, Training Loss: 0.1910914828379949, Validation Loss: 0.2669103890657425\n",
      "Epoch 40/50, Training Loss: 0.14907597303390502, Validation Loss: 0.2660137601196766\n"
     ]
    },
    {
     "name": "stderr",
     "output_type": "stream",
     "text": [
      "[I 2023-10-09 21:09:16,915] Trial 67 finished with value: 0.2717248797416687 and parameters: {'lr': 0.00012195210666730222, 'dropout_prob': 0.13554184926409563, 'hidden_channels': 221, 'n_layers': 5, 'kernel_size': 8, 'stride': 2, 'padding': 8, 'pooling_type': 'max', 'use_batch_norm': True}. Best is trial 64 with value: 0.24092380702495575.\n"
     ]
    },
    {
     "name": "stdout",
     "output_type": "stream",
     "text": [
      "Epoch 50/50, Training Loss: 0.11213463793198268, Validation Loss: 0.2717248797416687\n",
      "Epoch 10/50, Training Loss: 0.3762754221757253, Validation Loss: 0.3573768362402916\n",
      "Epoch 20/50, Training Loss: 0.26024274826049804, Validation Loss: 0.2607615776360035\n",
      "Epoch 30/50, Training Loss: 0.20614496370156607, Validation Loss: 0.2623146288096905\n",
      "Epoch 40/50, Training Loss: 0.14868909021218618, Validation Loss: 0.2853612005710602\n"
     ]
    },
    {
     "name": "stderr",
     "output_type": "stream",
     "text": [
      "[I 2023-10-09 21:10:34,097] Trial 68 finished with value: 0.33123282343149185 and parameters: {'lr': 9.323634086282054e-05, 'dropout_prob': 0.13053003239997713, 'hidden_channels': 221, 'n_layers': 6, 'kernel_size': 9, 'stride': 2, 'padding': 8, 'pooling_type': 'max', 'use_batch_norm': True}. Best is trial 64 with value: 0.24092380702495575.\n"
     ]
    },
    {
     "name": "stdout",
     "output_type": "stream",
     "text": [
      "Epoch 50/50, Training Loss: 0.07602918570240338, Validation Loss: 0.33123282343149185\n",
      "Epoch 10/50, Training Loss: 0.314727646112442, Validation Loss: 0.2984097972512245\n",
      "Epoch 20/50, Training Loss: 0.24861679474512735, Validation Loss: 0.2729887589812279\n",
      "Epoch 30/50, Training Loss: 0.19052197337150573, Validation Loss: 0.25637974590063095\n",
      "Epoch 40/50, Training Loss: 0.14528645426034928, Validation Loss: 0.28613995760679245\n"
     ]
    },
    {
     "name": "stderr",
     "output_type": "stream",
     "text": [
      "[I 2023-10-09 21:11:56,030] Trial 69 finished with value: 0.27931516245007515 and parameters: {'lr': 0.00010995188507346602, 'dropout_prob': 0.17538706913071578, 'hidden_channels': 241, 'n_layers': 5, 'kernel_size': 8, 'stride': 2, 'padding': 7, 'pooling_type': 'max', 'use_batch_norm': True}. Best is trial 64 with value: 0.24092380702495575.\n"
     ]
    },
    {
     "name": "stdout",
     "output_type": "stream",
     "text": [
      "Epoch 50/50, Training Loss: 0.1125267873207728, Validation Loss: 0.27931516245007515\n",
      "Epoch 10/50, Training Loss: 0.5630480209986369, Validation Loss: 0.5456467717885971\n",
      "Epoch 20/50, Training Loss: 0.41916983723640444, Validation Loss: 0.40775342285633087\n",
      "Epoch 30/50, Training Loss: 0.2884152422348658, Validation Loss: 0.30736318975687027\n",
      "Epoch 40/50, Training Loss: 0.25222186545530956, Validation Loss: 0.2927205450832844\n"
     ]
    },
    {
     "name": "stderr",
     "output_type": "stream",
     "text": [
      "[I 2023-10-09 21:13:53,549] Trial 70 finished with value: 0.2747876048088074 and parameters: {'lr': 5.295789532844197e-05, 'dropout_prob': 0.13894796274175897, 'hidden_channels': 194, 'n_layers': 7, 'kernel_size': 8, 'stride': 2, 'padding': 8, 'pooling_type': 'max', 'use_batch_norm': True}. Best is trial 64 with value: 0.24092380702495575.\n"
     ]
    },
    {
     "name": "stdout",
     "output_type": "stream",
     "text": [
      "Epoch 50/50, Training Loss: 0.2073267271121343, Validation Loss: 0.2747876048088074\n",
      "Epoch 10/50, Training Loss: 0.550113840897878, Validation Loss: 0.5381362736225128\n",
      "Epoch 20/50, Training Loss: 0.4229910492897034, Validation Loss: 0.4097452536225319\n",
      "Epoch 30/50, Training Loss: 0.30770596861839294, Validation Loss: 0.28770194947719574\n",
      "Epoch 40/50, Training Loss: 0.25084131757418315, Validation Loss: 0.2796893045306206\n"
     ]
    },
    {
     "name": "stderr",
     "output_type": "stream",
     "text": [
      "[I 2023-10-09 21:15:48,043] Trial 71 finished with value: 0.27261679247021675 and parameters: {'lr': 5.359940369532588e-05, 'dropout_prob': 0.1381073878259558, 'hidden_channels': 195, 'n_layers': 7, 'kernel_size': 8, 'stride': 2, 'padding': 8, 'pooling_type': 'max', 'use_batch_norm': True}. Best is trial 64 with value: 0.24092380702495575.\n"
     ]
    },
    {
     "name": "stdout",
     "output_type": "stream",
     "text": [
      "Epoch 50/50, Training Loss: 0.21983452836672465, Validation Loss: 0.27261679247021675\n",
      "Epoch 10/50, Training Loss: 0.6139928778012593, Validation Loss: 0.6084363460540771\n",
      "Epoch 20/50, Training Loss: 0.448676206668218, Validation Loss: 0.4448500946164131\n",
      "Epoch 30/50, Training Loss: 0.3554312249024709, Validation Loss: 0.327482171356678\n",
      "Epoch 40/50, Training Loss: 0.27324889997641244, Validation Loss: 0.27901721373200417\n"
     ]
    },
    {
     "name": "stderr",
     "output_type": "stream",
     "text": [
      "[I 2023-10-09 21:17:04,157] Trial 72 finished with value: 0.2767932862043381 and parameters: {'lr': 4.08669838206619e-05, 'dropout_prob': 0.143695080110626, 'hidden_channels': 217, 'n_layers': 7, 'kernel_size': 8, 'stride': 2, 'padding': 7, 'pooling_type': 'max', 'use_batch_norm': True}. Best is trial 64 with value: 0.24092380702495575.\n"
     ]
    },
    {
     "name": "stdout",
     "output_type": "stream",
     "text": [
      "Epoch 50/50, Training Loss: 0.23913161953290304, Validation Loss: 0.2767932862043381\n",
      "Epoch 10/50, Training Loss: 0.6204309860865275, Validation Loss: 0.6131490767002106\n",
      "Epoch 20/50, Training Loss: 0.42492009202639264, Validation Loss: 0.4133070334792137\n",
      "Epoch 30/50, Training Loss: 0.2899782558282216, Validation Loss: 0.36196351796388626\n",
      "Epoch 40/50, Training Loss: 0.19094050725301107, Validation Loss: 0.31620360910892487\n"
     ]
    },
    {
     "name": "stderr",
     "output_type": "stream",
     "text": [
      "[I 2023-10-09 21:17:47,361] Trial 73 finished with value: 0.3563389852643013 and parameters: {'lr': 0.00013671957323645938, 'dropout_prob': 0.11189339352689447, 'hidden_channels': 190, 'n_layers': 7, 'kernel_size': 8, 'stride': 3, 'padding': 6, 'pooling_type': 'max', 'use_batch_norm': True}. Best is trial 64 with value: 0.24092380702495575.\n"
     ]
    },
    {
     "name": "stdout",
     "output_type": "stream",
     "text": [
      "Epoch 50/50, Training Loss: 0.10882368435462315, Validation Loss: 0.3563389852643013\n",
      "Epoch 10/50, Training Loss: 0.5871413111686706, Validation Loss: 0.5722948461771011\n",
      "Epoch 20/50, Training Loss: 0.4222320596377055, Validation Loss: 0.41002361476421356\n",
      "Epoch 30/50, Training Loss: 0.3059214293956757, Validation Loss: 0.3054169490933418\n",
      "Epoch 40/50, Training Loss: 0.2432968258857727, Validation Loss: 0.2815551161766052\n"
     ]
    },
    {
     "name": "stderr",
     "output_type": "stream",
     "text": [
      "[I 2023-10-09 21:19:04,638] Trial 74 finished with value: 0.28207090869545937 and parameters: {'lr': 5.3034153043667434e-05, 'dropout_prob': 0.16287550336768003, 'hidden_channels': 195, 'n_layers': 7, 'kernel_size': 9, 'stride': 2, 'padding': 8, 'pooling_type': 'max', 'use_batch_norm': True}. Best is trial 64 with value: 0.24092380702495575.\n"
     ]
    },
    {
     "name": "stdout",
     "output_type": "stream",
     "text": [
      "Epoch 50/50, Training Loss: 0.21156363983949025, Validation Loss: 0.28207090869545937\n",
      "Epoch 10/50, Training Loss: 0.44083135525385536, Validation Loss: 0.42977138608694077\n",
      "Epoch 20/50, Training Loss: 0.3131788472334544, Validation Loss: 0.3257064148783684\n",
      "Epoch 30/50, Training Loss: 0.2647387752930323, Validation Loss: 0.27634958550333977\n",
      "Epoch 40/50, Training Loss: 0.2221337060133616, Validation Loss: 0.25666026026010513\n"
     ]
    },
    {
     "name": "stderr",
     "output_type": "stream",
     "text": [
      "[I 2023-10-09 21:20:33,865] Trial 75 finished with value: 0.2521394118666649 and parameters: {'lr': 7.824794476967918e-05, 'dropout_prob': 0.12232790000481134, 'hidden_channels': 175, 'n_layers': 6, 'kernel_size': 8, 'stride': 2, 'padding': 8, 'pooling_type': 'max', 'use_batch_norm': True}. Best is trial 64 with value: 0.24092380702495575.\n"
     ]
    },
    {
     "name": "stdout",
     "output_type": "stream",
     "text": [
      "Epoch 50/50, Training Loss: 0.18804518977801005, Validation Loss: 0.2521394118666649\n",
      "Epoch 10/50, Training Loss: 0.3485113263130188, Validation Loss: 0.3306407704949379\n",
      "Epoch 20/50, Training Loss: 0.26801711221536, Validation Loss: 0.29138172417879105\n",
      "Epoch 30/50, Training Loss: 0.22206303477287292, Validation Loss: 0.3047644793987274\n",
      "Epoch 40/50, Training Loss: 0.19136372903982798, Validation Loss: 0.2850285731256008\n"
     ]
    },
    {
     "name": "stderr",
     "output_type": "stream",
     "text": [
      "[I 2023-10-09 21:24:31,667] Trial 76 finished with value: 0.29546020179986954 and parameters: {'lr': 8.051669516082907e-05, 'dropout_prob': 0.11563438403110857, 'hidden_channels': 175, 'n_layers': 6, 'kernel_size': 8, 'stride': 1, 'padding': 9, 'pooling_type': 'max', 'use_batch_norm': True}. Best is trial 64 with value: 0.24092380702495575.\n"
     ]
    },
    {
     "name": "stdout",
     "output_type": "stream",
     "text": [
      "Epoch 50/50, Training Loss: 0.16079490433136623, Validation Loss: 0.29546020179986954\n",
      "Epoch 10/50, Training Loss: 0.35268168648084003, Validation Loss: 0.3342526778578758\n",
      "Epoch 20/50, Training Loss: 0.24917981326580046, Validation Loss: 0.2585166022181511\n",
      "Epoch 30/50, Training Loss: 0.18518363336722057, Validation Loss: 0.25797781348228455\n",
      "Epoch 40/50, Training Loss: 0.1161675587296486, Validation Loss: 0.26240891963243484\n"
     ]
    },
    {
     "name": "stderr",
     "output_type": "stream",
     "text": [
      "[I 2023-10-09 21:25:25,318] Trial 77 finished with value: 0.4034048393368721 and parameters: {'lr': 0.00013709515075751002, 'dropout_prob': 0.08141077114391745, 'hidden_channels': 166, 'n_layers': 6, 'kernel_size': 9, 'stride': 2, 'padding': 6, 'pooling_type': 'max', 'use_batch_norm': True}. Best is trial 64 with value: 0.24092380702495575.\n"
     ]
    },
    {
     "name": "stdout",
     "output_type": "stream",
     "text": [
      "Epoch 50/50, Training Loss: 0.03152013098200162, Validation Loss: 0.4034048393368721\n",
      "Epoch 10/50, Training Loss: 0.2767465164264043, Validation Loss: 0.2750772275030613\n",
      "Epoch 20/50, Training Loss: 0.20734953085581462, Validation Loss: 0.28435782343149185\n",
      "Epoch 30/50, Training Loss: 0.13754215588172278, Validation Loss: 0.29151513800024986\n",
      "Epoch 40/50, Training Loss: 0.08084952135880788, Validation Loss: 0.33834558725357056\n"
     ]
    },
    {
     "name": "stderr",
     "output_type": "stream",
     "text": [
      "[I 2023-10-09 21:28:39,687] Trial 78 finished with value: 0.38772374391555786 and parameters: {'lr': 0.00016118824638905498, 'dropout_prob': 0.12218838617429018, 'hidden_channels': 210, 'n_layers': 6, 'kernel_size': 8, 'stride': 1, 'padding': 7, 'pooling_type': 'max', 'use_batch_norm': True}. Best is trial 64 with value: 0.24092380702495575.\n"
     ]
    },
    {
     "name": "stdout",
     "output_type": "stream",
     "text": [
      "Epoch 50/50, Training Loss: 0.04340605015556018, Validation Loss: 0.38772374391555786\n",
      "Epoch 10/50, Training Loss: 0.6497642159461975, Validation Loss: 0.6455207169055939\n",
      "Epoch 20/50, Training Loss: 0.5503170967102051, Validation Loss: 0.5355300754308701\n",
      "Epoch 30/50, Training Loss: 0.43229223291079205, Validation Loss: 0.42502767592668533\n",
      "Epoch 40/50, Training Loss: 0.3702478071053823, Validation Loss: 0.3614043891429901\n"
     ]
    },
    {
     "name": "stderr",
     "output_type": "stream",
     "text": [
      "[I 2023-10-09 21:29:39,657] Trial 79 finished with value: 0.33392156660556793 and parameters: {'lr': 6.54676519584508e-05, 'dropout_prob': 0.20415796323576513, 'hidden_channels': 234, 'n_layers': 6, 'kernel_size': 3, 'stride': 3, 'padding': 5, 'pooling_type': 'max', 'use_batch_norm': True}. Best is trial 64 with value: 0.24092380702495575.\n"
     ]
    },
    {
     "name": "stdout",
     "output_type": "stream",
     "text": [
      "Epoch 50/50, Training Loss: 0.3158691207567851, Validation Loss: 0.33392156660556793\n",
      "Epoch 10/50, Training Loss: 0.4483931640783946, Validation Loss: 0.4446932375431061\n",
      "Epoch 20/50, Training Loss: 0.2883973568677902, Validation Loss: 0.28138910233974457\n",
      "Epoch 30/50, Training Loss: 0.2261546274026235, Validation Loss: 0.27163973823189735\n",
      "Epoch 40/50, Training Loss: 0.16657479206720988, Validation Loss: 0.28738048300147057\n"
     ]
    },
    {
     "name": "stderr",
     "output_type": "stream",
     "text": [
      "[I 2023-10-09 21:31:24,517] Trial 80 finished with value: 0.4063061624765396 and parameters: {'lr': 9.916207054237974e-05, 'dropout_prob': 0.10018614524774387, 'hidden_channels': 181, 'n_layers': 7, 'kernel_size': 8, 'stride': 2, 'padding': 8, 'pooling_type': 'max', 'use_batch_norm': True}. Best is trial 64 with value: 0.24092380702495575.\n"
     ]
    },
    {
     "name": "stdout",
     "output_type": "stream",
     "text": [
      "Epoch 50/50, Training Loss: 0.06267838378747305, Validation Loss: 0.4063061624765396\n",
      "Epoch 10/50, Training Loss: 0.6182527581850688, Validation Loss: 0.6128006130456924\n",
      "Epoch 20/50, Training Loss: 0.4500861724217733, Validation Loss: 0.44662149250507355\n",
      "Epoch 30/50, Training Loss: 0.35224004785219826, Validation Loss: 0.3213343992829323\n",
      "Epoch 40/50, Training Loss: 0.2726927032073339, Validation Loss: 0.26817940175533295\n"
     ]
    },
    {
     "name": "stderr",
     "output_type": "stream",
     "text": [
      "[I 2023-10-09 21:33:18,361] Trial 81 finished with value: 0.2745707295835018 and parameters: {'lr': 4.264364795693214e-05, 'dropout_prob': 0.13731088961298357, 'hidden_channels': 195, 'n_layers': 7, 'kernel_size': 8, 'stride': 2, 'padding': 8, 'pooling_type': 'max', 'use_batch_norm': True}. Best is trial 64 with value: 0.24092380702495575.\n"
     ]
    },
    {
     "name": "stdout",
     "output_type": "stream",
     "text": [
      "Epoch 50/50, Training Loss: 0.240175528327624, Validation Loss: 0.2745707295835018\n",
      "Epoch 10/50, Training Loss: 0.6248209794362386, Validation Loss: 0.6196789890527725\n",
      "Epoch 20/50, Training Loss: 0.45995139082272846, Validation Loss: 0.4565950557589531\n",
      "Epoch 30/50, Training Loss: 0.3912092626094818, Validation Loss: 0.3746136575937271\n",
      "Epoch 40/50, Training Loss: 0.2990341424942017, Validation Loss: 0.28413351252675056\n"
     ]
    },
    {
     "name": "stderr",
     "output_type": "stream",
     "text": [
      "[I 2023-10-09 21:35:15,864] Trial 82 finished with value: 0.2930712401866913 and parameters: {'lr': 3.6085941830884005e-05, 'dropout_prob': 0.15687379503520957, 'hidden_channels': 198, 'n_layers': 7, 'kernel_size': 8, 'stride': 2, 'padding': 8, 'pooling_type': 'max', 'use_batch_norm': True}. Best is trial 64 with value: 0.24092380702495575.\n"
     ]
    },
    {
     "name": "stdout",
     "output_type": "stream",
     "text": [
      "Epoch 50/50, Training Loss: 0.2594218820333481, Validation Loss: 0.2930712401866913\n",
      "Epoch 10/50, Training Loss: 0.47772947947184247, Validation Loss: 0.46531637758016586\n",
      "Epoch 20/50, Training Loss: 0.35351165334383644, Validation Loss: 0.36284714192152023\n",
      "Epoch 30/50, Training Loss: 0.2477742334206899, Validation Loss: 0.28170787543058395\n",
      "Epoch 40/50, Training Loss: 0.20884891748428344, Validation Loss: 0.2883644700050354\n"
     ]
    },
    {
     "name": "stderr",
     "output_type": "stream",
     "text": [
      "[I 2023-10-09 21:37:37,091] Trial 83 finished with value: 0.28182967752218246 and parameters: {'lr': 7.28602626350982e-05, 'dropout_prob': 0.1344773769632172, 'hidden_channels': 206, 'n_layers': 7, 'kernel_size': 8, 'stride': 2, 'padding': 8, 'pooling_type': 'max', 'use_batch_norm': True}. Best is trial 64 with value: 0.24092380702495575.\n"
     ]
    },
    {
     "name": "stdout",
     "output_type": "stream",
     "text": [
      "Epoch 50/50, Training Loss: 0.16145384907722474, Validation Loss: 0.28182967752218246\n",
      "Epoch 10/50, Training Loss: 0.609266710281372, Validation Loss: 0.6015443056821823\n",
      "Epoch 20/50, Training Loss: 0.44334089756011963, Validation Loss: 0.43697842955589294\n",
      "Epoch 30/50, Training Loss: 0.3470395565032959, Validation Loss: 0.3301442191004753\n",
      "Epoch 40/50, Training Loss: 0.2673836350440979, Validation Loss: 0.2835257574915886\n"
     ]
    },
    {
     "name": "stderr",
     "output_type": "stream",
     "text": [
      "[I 2023-10-09 21:38:33,623] Trial 84 finished with value: 0.286603681743145 and parameters: {'lr': 6.524097199187062e-05, 'dropout_prob': 0.08842967804468442, 'hidden_channels': 161, 'n_layers': 6, 'kernel_size': 7, 'stride': 3, 'padding': 7, 'pooling_type': 'max', 'use_batch_norm': True}. Best is trial 64 with value: 0.24092380702495575.\n"
     ]
    },
    {
     "name": "stdout",
     "output_type": "stream",
     "text": [
      "Epoch 50/50, Training Loss: 0.22884462376435596, Validation Loss: 0.286603681743145\n",
      "Epoch 10/50, Training Loss: 0.6785043438275655, Validation Loss: 0.6780472993850708\n",
      "Epoch 20/50, Training Loss: 0.6634146531422933, Validation Loss: 0.6627660542726517\n",
      "Epoch 30/50, Training Loss: 0.6456957379976909, Validation Loss: 0.6449650079011917\n",
      "Epoch 40/50, Training Loss: 0.6286091963450114, Validation Loss: 0.6279103010892868\n"
     ]
    },
    {
     "name": "stderr",
     "output_type": "stream",
     "text": [
      "[I 2023-10-09 21:38:59,832] Trial 85 finished with value: 0.6129106879234314 and parameters: {'lr': 9.20916777459068e-05, 'dropout_prob': 0.1059455122531241, 'hidden_channels': 171, 'n_layers': 1, 'kernel_size': 9, 'stride': 2, 'padding': 9, 'pooling_type': 'max', 'use_batch_norm': True}. Best is trial 64 with value: 0.24092380702495575.\n"
     ]
    },
    {
     "name": "stdout",
     "output_type": "stream",
     "text": [
      "Epoch 50/50, Training Loss: 0.6136039217313131, Validation Loss: 0.6129106879234314\n",
      "Epoch 10/50, Training Loss: 0.6269463300704956, Validation Loss: 0.6238098293542862\n",
      "Epoch 20/50, Training Loss: 0.4482051452000936, Validation Loss: 0.44355905801057816\n",
      "Epoch 30/50, Training Loss: 0.3368395209312439, Validation Loss: 0.3183305934071541\n",
      "Epoch 40/50, Training Loss: 0.28385890523592633, Validation Loss: 0.2813543602824211\n"
     ]
    },
    {
     "name": "stderr",
     "output_type": "stream",
     "text": [
      "[I 2023-10-09 21:40:54,892] Trial 86 finished with value: 0.27707475051283836 and parameters: {'lr': 0.0001241912147087843, 'dropout_prob': 0.12308883706687898, 'hidden_channels': 218, 'n_layers': 7, 'kernel_size': 6, 'stride': 2, 'padding': 8, 'pooling_type': 'avg', 'use_batch_norm': True}. Best is trial 64 with value: 0.24092380702495575.\n"
     ]
    },
    {
     "name": "stdout",
     "output_type": "stream",
     "text": [
      "Epoch 50/50, Training Loss: 0.2505076934893926, Validation Loss: 0.27707475051283836\n",
      "Epoch 10/50, Training Loss: 0.6384304761886597, Validation Loss: 0.6342153549194336\n",
      "Epoch 20/50, Training Loss: 0.5481584191322326, Validation Loss: 0.5374514609575272\n",
      "Epoch 30/50, Training Loss: 0.4481011748313904, Validation Loss: 0.44588878005743027\n",
      "Epoch 40/50, Training Loss: 0.41480120420455935, Validation Loss: 0.4082828760147095\n"
     ]
    },
    {
     "name": "stderr",
     "output_type": "stream",
     "text": [
      "[I 2023-10-09 21:41:40,739] Trial 87 finished with value: 0.3601726293563843 and parameters: {'lr': 2.944248379404222e-05, 'dropout_prob': 0.06927823091757813, 'hidden_channels': 153, 'n_layers': 5, 'kernel_size': 7, 'stride': 3, 'padding': 9, 'pooling_type': 'max', 'use_batch_norm': True}. Best is trial 64 with value: 0.24092380702495575.\n"
     ]
    },
    {
     "name": "stdout",
     "output_type": "stream",
     "text": [
      "Epoch 50/50, Training Loss: 0.36974862217903137, Validation Loss: 0.3601726293563843\n",
      "Epoch 10/50, Training Loss: 0.4716005682945251, Validation Loss: 0.4685446098446846\n",
      "Epoch 20/50, Training Loss: 0.3872902989387512, Validation Loss: 0.3901311382651329\n",
      "Epoch 30/50, Training Loss: 0.3326900680859884, Validation Loss: 0.34685610979795456\n",
      "Epoch 40/50, Training Loss: 0.2798379063606262, Validation Loss: 0.3096499666571617\n"
     ]
    },
    {
     "name": "stderr",
     "output_type": "stream",
     "text": [
      "[I 2023-10-09 21:42:43,217] Trial 88 finished with value: 0.2899409420788288 and parameters: {'lr': 0.00024555685467492265, 'dropout_prob': 0.14786092100420536, 'hidden_channels': 211, 'n_layers': 2, 'kernel_size': 7, 'stride': 2, 'padding': 9, 'pooling_type': 'max', 'use_batch_norm': True}. Best is trial 64 with value: 0.24092380702495575.\n"
     ]
    },
    {
     "name": "stdout",
     "output_type": "stream",
     "text": [
      "Epoch 50/50, Training Loss: 0.23463035722573597, Validation Loss: 0.2899409420788288\n",
      "Epoch 10/50, Training Loss: 0.3292408386866252, Validation Loss: 0.31934676319360733\n",
      "Epoch 20/50, Training Loss: 0.2586985299984614, Validation Loss: 0.26035842299461365\n",
      "Epoch 30/50, Training Loss: 0.21857817272345226, Validation Loss: 0.25349367409944534\n",
      "Epoch 40/50, Training Loss: 0.15567676027615865, Validation Loss: 0.2563321739435196\n"
     ]
    },
    {
     "name": "stderr",
     "output_type": "stream",
     "text": [
      "[I 2023-10-09 21:45:37,688] Trial 89 finished with value: 0.2707514129579067 and parameters: {'lr': 9.73654099343521e-05, 'dropout_prob': 0.08734133750307546, 'hidden_channels': 178, 'n_layers': 7, 'kernel_size': 8, 'stride': 1, 'padding': 7, 'pooling_type': 'max', 'use_batch_norm': True}. Best is trial 64 with value: 0.24092380702495575.\n"
     ]
    },
    {
     "name": "stdout",
     "output_type": "stream",
     "text": [
      "Epoch 50/50, Training Loss: 0.13229460020860037, Validation Loss: 0.2707514129579067\n",
      "Epoch 10/50, Training Loss: 0.4075275301933289, Validation Loss: 0.3892779126763344\n",
      "Epoch 20/50, Training Loss: 0.27876205344994864, Validation Loss: 0.29510292410850525\n",
      "Epoch 30/50, Training Loss: 0.2403969258069992, Validation Loss: 0.27428921312093735\n",
      "Epoch 40/50, Training Loss: 0.20679115454355876, Validation Loss: 0.2921577990055084\n"
     ]
    },
    {
     "name": "stderr",
     "output_type": "stream",
     "text": [
      "[I 2023-10-09 21:48:03,800] Trial 90 finished with value: 0.29414530470967293 and parameters: {'lr': 9.891626196027006e-05, 'dropout_prob': 0.08307851098203958, 'hidden_channels': 148, 'n_layers': 6, 'kernel_size': 5, 'stride': 1, 'padding': 6, 'pooling_type': 'max', 'use_batch_norm': True}. Best is trial 64 with value: 0.24092380702495575.\n"
     ]
    },
    {
     "name": "stdout",
     "output_type": "stream",
     "text": [
      "Epoch 50/50, Training Loss: 0.17564118206501006, Validation Loss: 0.29414530470967293\n",
      "Epoch 10/50, Training Loss: 0.4325209299723307, Validation Loss: 0.4210592210292816\n",
      "Epoch 20/50, Training Loss: 0.29072451988855996, Validation Loss: 0.2804378494620323\n",
      "Epoch 30/50, Training Loss: 0.2526822517315547, Validation Loss: 0.2598765268921852\n",
      "Epoch 40/50, Training Loss: 0.22211168706417084, Validation Loss: 0.2878477945923805\n"
     ]
    },
    {
     "name": "stderr",
     "output_type": "stream",
     "text": [
      "[I 2023-10-09 21:51:02,537] Trial 91 finished with value: 0.27280034497380257 and parameters: {'lr': 5.2470595587827955e-05, 'dropout_prob': 0.11511391844868722, 'hidden_channels': 180, 'n_layers': 7, 'kernel_size': 8, 'stride': 1, 'padding': 7, 'pooling_type': 'max', 'use_batch_norm': True}. Best is trial 64 with value: 0.24092380702495575.\n"
     ]
    },
    {
     "name": "stdout",
     "output_type": "stream",
     "text": [
      "Epoch 50/50, Training Loss: 0.1816197747985522, Validation Loss: 0.27280034497380257\n",
      "Epoch 10/50, Training Loss: 0.31304052273432414, Validation Loss: 0.2962641268968582\n",
      "Epoch 20/50, Training Loss: 0.2282817045847575, Validation Loss: 0.26200391352176666\n",
      "Epoch 30/50, Training Loss: 0.18388455311457316, Validation Loss: 0.26672185957431793\n",
      "Epoch 40/50, Training Loss: 0.13095415532588958, Validation Loss: 0.28833261504769325\n"
     ]
    },
    {
     "name": "stderr",
     "output_type": "stream",
     "text": [
      "[I 2023-10-09 21:53:53,402] Trial 92 finished with value: 0.4140126183629036 and parameters: {'lr': 0.00012396605933158827, 'dropout_prob': 0.10115546239081752, 'hidden_channels': 178, 'n_layers': 7, 'kernel_size': 8, 'stride': 1, 'padding': 7, 'pooling_type': 'max', 'use_batch_norm': True}. Best is trial 64 with value: 0.24092380702495575.\n"
     ]
    },
    {
     "name": "stdout",
     "output_type": "stream",
     "text": [
      "Epoch 50/50, Training Loss: 0.09300405780474345, Validation Loss: 0.4140126183629036\n",
      "Epoch 10/50, Training Loss: 0.29083586235841113, Validation Loss: 0.27387284114956856\n",
      "Epoch 20/50, Training Loss: 0.2025749792655309, Validation Loss: 0.25501837208867073\n",
      "Epoch 30/50, Training Loss: 0.14598300407330195, Validation Loss: 0.24551724269986153\n",
      "Epoch 40/50, Training Loss: 0.10219241057833035, Validation Loss: 0.3033352680504322\n"
     ]
    },
    {
     "name": "stderr",
     "output_type": "stream",
     "text": [
      "[I 2023-10-09 21:56:56,065] Trial 93 finished with value: 0.39544105157256126 and parameters: {'lr': 0.00015219097168561266, 'dropout_prob': 0.11445301101823094, 'hidden_channels': 187, 'n_layers': 7, 'kernel_size': 8, 'stride': 1, 'padding': 7, 'pooling_type': 'max', 'use_batch_norm': True}. Best is trial 64 with value: 0.24092380702495575.\n"
     ]
    },
    {
     "name": "stdout",
     "output_type": "stream",
     "text": [
      "Epoch 50/50, Training Loss: 0.060417277614275615, Validation Loss: 0.39544105157256126\n",
      "Epoch 10/50, Training Loss: 0.39432228207588194, Validation Loss: 0.3895450457930565\n",
      "Epoch 20/50, Training Loss: 0.2713633120059967, Validation Loss: 0.26617080345749855\n",
      "Epoch 30/50, Training Loss: 0.23599462111790975, Validation Loss: 0.27157191932201385\n",
      "Epoch 40/50, Training Loss: 0.19270302057266236, Validation Loss: 0.25261980667710304\n"
     ]
    },
    {
     "name": "stderr",
     "output_type": "stream",
     "text": [
      "[I 2023-10-09 21:59:11,989] Trial 94 finished with value: 0.27151989936828613 and parameters: {'lr': 7.261977751527989e-05, 'dropout_prob': 0.05996440571781986, 'hidden_channels': 162, 'n_layers': 7, 'kernel_size': 8, 'stride': 1, 'padding': 6, 'pooling_type': 'max', 'use_batch_norm': True}. Best is trial 64 with value: 0.24092380702495575.\n"
     ]
    },
    {
     "name": "stdout",
     "output_type": "stream",
     "text": [
      "Epoch 50/50, Training Loss: 0.17366220156351725, Validation Loss: 0.27151989936828613\n",
      "Epoch 10/50, Training Loss: 0.4092000941435496, Validation Loss: 0.3967871740460396\n",
      "Epoch 20/50, Training Loss: 0.2762286901473999, Validation Loss: 0.2918072044849396\n",
      "Epoch 30/50, Training Loss: 0.2357886085907618, Validation Loss: 0.2608627788722515\n",
      "Epoch 40/50, Training Loss: 0.19202752610047658, Validation Loss: 0.2519797906279564\n"
     ]
    },
    {
     "name": "stderr",
     "output_type": "stream",
     "text": [
      "[I 2023-10-09 22:01:21,490] Trial 95 finished with value: 0.2698308527469635 and parameters: {'lr': 7.340071513742333e-05, 'dropout_prob': 0.05857246052398473, 'hidden_channels': 161, 'n_layers': 7, 'kernel_size': 8, 'stride': 1, 'padding': 6, 'pooling_type': 'max', 'use_batch_norm': True}. Best is trial 64 with value: 0.24092380702495575.\n"
     ]
    },
    {
     "name": "stdout",
     "output_type": "stream",
     "text": [
      "Epoch 50/50, Training Loss: 0.1616364190975825, Validation Loss: 0.2698308527469635\n",
      "Epoch 10/50, Training Loss: 0.4167722463607788, Validation Loss: 0.4035675972700119\n",
      "Epoch 20/50, Training Loss: 0.27742789884408314, Validation Loss: 0.2783447206020355\n",
      "Epoch 30/50, Training Loss: 0.2360730012257894, Validation Loss: 0.25405653566122055\n",
      "Epoch 40/50, Training Loss: 0.2100513110558192, Validation Loss: 0.260017242282629\n"
     ]
    },
    {
     "name": "stderr",
     "output_type": "stream",
     "text": [
      "[I 2023-10-09 22:03:26,887] Trial 96 finished with value: 0.2729744613170624 and parameters: {'lr': 7.047881408330858e-05, 'dropout_prob': 0.06173714711863187, 'hidden_channels': 163, 'n_layers': 7, 'kernel_size': 8, 'stride': 1, 'padding': 6, 'pooling_type': 'max', 'use_batch_norm': True}. Best is trial 64 with value: 0.24092380702495575.\n"
     ]
    },
    {
     "name": "stdout",
     "output_type": "stream",
     "text": [
      "Epoch 50/50, Training Loss: 0.17181519269943238, Validation Loss: 0.2729744613170624\n",
      "Epoch 10/50, Training Loss: 0.4074276328086853, Validation Loss: 0.3960183709859848\n",
      "Epoch 20/50, Training Loss: 0.2937821805477142, Validation Loss: 0.2975040376186371\n",
      "Epoch 30/50, Training Loss: 0.25627973675727844, Validation Loss: 0.2728252559900284\n",
      "Epoch 40/50, Training Loss: 0.23408225576082867, Validation Loss: 0.2745639979839325\n"
     ]
    },
    {
     "name": "stderr",
     "output_type": "stream",
     "text": [
      "[I 2023-10-09 22:05:42,893] Trial 97 finished with value: 0.2650296315550804 and parameters: {'lr': 8.698049539125685e-05, 'dropout_prob': 0.07063226120706813, 'hidden_channels': 171, 'n_layers': 7, 'kernel_size': 9, 'stride': 1, 'padding': 5, 'pooling_type': 'avg', 'use_batch_norm': True}. Best is trial 64 with value: 0.24092380702495575.\n"
     ]
    },
    {
     "name": "stdout",
     "output_type": "stream",
     "text": [
      "Epoch 50/50, Training Loss: 0.2081575522820155, Validation Loss: 0.2650296315550804\n",
      "Epoch 10/50, Training Loss: 0.43059112429618834, Validation Loss: 0.4227883294224739\n",
      "Epoch 20/50, Training Loss: 0.29753495852152506, Validation Loss: 0.2891973853111267\n",
      "Epoch 30/50, Training Loss: 0.2686532954374949, Validation Loss: 0.2697446644306183\n",
      "Epoch 40/50, Training Loss: 0.24862361053625742, Validation Loss: 0.25102049484848976\n"
     ]
    },
    {
     "name": "stderr",
     "output_type": "stream",
     "text": [
      "[I 2023-10-09 22:07:58,059] Trial 98 finished with value: 0.25300003588199615 and parameters: {'lr': 7.647229245820717e-05, 'dropout_prob': 0.0735169944001114, 'hidden_channels': 171, 'n_layers': 7, 'kernel_size': 9, 'stride': 1, 'padding': 5, 'pooling_type': 'avg', 'use_batch_norm': True}. Best is trial 64 with value: 0.24092380702495575.\n"
     ]
    },
    {
     "name": "stdout",
     "output_type": "stream",
     "text": [
      "Epoch 50/50, Training Loss: 0.2246823052565257, Validation Loss: 0.25300003588199615\n",
      "Epoch 10/50, Training Loss: 0.41839962601661684, Validation Loss: 0.4018450230360031\n",
      "Epoch 20/50, Training Loss: 0.2877439608176549, Validation Loss: 0.30183907598257065\n",
      "Epoch 30/50, Training Loss: 0.2654058873653412, Validation Loss: 0.2748390883207321\n",
      "Epoch 40/50, Training Loss: 0.24969752430915831, Validation Loss: 0.2606152966618538\n"
     ]
    },
    {
     "name": "stderr",
     "output_type": "stream",
     "text": [
      "[I 2023-10-09 22:09:50,737] Trial 99 finished with value: 0.2615063861012459 and parameters: {'lr': 8.756432995334961e-05, 'dropout_prob': 0.07061394559538414, 'hidden_channels': 158, 'n_layers': 7, 'kernel_size': 9, 'stride': 1, 'padding': 5, 'pooling_type': 'avg', 'use_batch_norm': True}. Best is trial 64 with value: 0.24092380702495575.\n"
     ]
    },
    {
     "name": "stdout",
     "output_type": "stream",
     "text": [
      "Epoch 50/50, Training Loss: 0.24028387467066448, Validation Loss: 0.2615063861012459\n"
     ]
    }
   ],
   "source": [
    "# Create an Optuna study with SQLite storage and TPE pruner\n",
    "study = optuna.create_study(\n",
    "    study_name=\"Case#5: Acceleration Outer\",\n",
    "    direction=\"minimize\",  # Minimize final validation loss\n",
    "    storage=\"sqlite:///../../database_sqllite//db.sqlite3\",\n",
    "    pruner=optuna.pruners.MedianPruner(n_warmup_steps=5),  \n",
    ")\n",
    "\n",
    "# Define the number of trials (hyperparameter combinations) you want to search\n",
    "num_trials = 100  \n",
    "\n",
    "# Perform hyperparameter optimization\n",
    "study.optimize(objective, n_trials=num_trials, n_jobs=1)\n"
   ]
  },
  {
   "cell_type": "code",
   "execution_count": 10,
   "metadata": {},
   "outputs": [
    {
     "name": "stdout",
     "output_type": "stream",
     "text": [
      "Best hyperparameters:\n",
      "{'lr': 9.932054721022286e-05, 'dropout_prob': 0.0789779531161162, 'hidden_channels': 207, 'n_layers': 4, 'kernel_size': 7, 'stride': 2, 'padding': 8, 'pooling_type': 'max', 'use_batch_norm': True}\n",
      "Best final validation loss:\n",
      "0.24092380702495575\n"
     ]
    }
   ],
   "source": [
    "# Print the best hyperparameters and their associated final validation loss\n",
    "print(\"Best hyperparameters:\")\n",
    "print(study.best_params)\n",
    "print(\"Best final validation loss:\")\n",
    "print(study.best_value)"
   ]
  },
  {
   "cell_type": "code",
   "execution_count": 11,
   "metadata": {},
   "outputs": [],
   "source": [
    "# Specify the path where you want to save the JSON file\n",
    "config_file_path = \"../best_configs/acc_outer_best_configs.json\"\n",
    "\n",
    "# Save the best hyperparameters and validation loss to a JSON file\n",
    "best_configs = {\n",
    "    \"best_params\": study.best_params,\n",
    "    \"best_value\": study.best_value,\n",
    "}\n",
    "\n",
    "with open(config_file_path, \"w\") as config_file:\n",
    "    json.dump(best_configs, config_file)"
   ]
  },
  {
   "cell_type": "code",
   "execution_count": 12,
   "metadata": {},
   "outputs": [],
   "source": [
    "# Load the saved configuration\n",
    "with open(config_file_path, \"r\") as config_file:\n",
    "    saved_configs = json.load(config_file)\n",
    "\n",
    "# Compare the new best value with the saved one\n",
    "if study.best_value < saved_configs[\"best_value\"]:\n",
    "    print(\"New best value found. Replacing saved configuration.\")\n",
    "    saved_configs[\"best_params\"] = study.best_params\n",
    "    saved_configs[\"best_value\"] = study.best_value\n",
    "\n",
    "    # Update the saved configuration file\n",
    "    with open(config_file_path, \"w\") as config_file:\n",
    "        json.dump(saved_configs, config_file)"
   ]
  },
  {
   "cell_type": "code",
   "execution_count": 14,
   "metadata": {},
   "outputs": [],
   "source": [
    "# Save the best hyperparameters and validation loss to a JSON file\n",
    "best_configs = {\n",
    "    \"best_params\": study.best_params,\n",
    "    \"best_value\": study.best_value,\n",
    "}\n",
    "\n",
    "with open(config_file_path, \"w\") as config_file:\n",
    "    json.dump(best_configs, config_file)"
   ]
  },
  {
   "cell_type": "markdown",
   "metadata": {},
   "source": [
    "# Thank You"
   ]
  }
 ],
 "metadata": {
  "kernelspec": {
   "display_name": ".aifaps",
   "language": "python",
   "name": "python3"
  },
  "language_info": {
   "codemirror_mode": {
    "name": "ipython",
    "version": 3
   },
   "file_extension": ".py",
   "mimetype": "text/x-python",
   "name": "python",
   "nbconvert_exporter": "python",
   "pygments_lexer": "ipython3",
   "version": "3.11.4"
  },
  "orig_nbformat": 4
 },
 "nbformat": 4,
 "nbformat_minor": 2
}
