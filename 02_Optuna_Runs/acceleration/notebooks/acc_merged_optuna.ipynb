{
 "cells": [
  {
   "cell_type": "code",
   "execution_count": 1,
   "metadata": {},
   "outputs": [
    {
     "name": "stderr",
     "output_type": "stream",
     "text": [
      "2023-10-09 20:17:42.251469: E tensorflow/compiler/xla/stream_executor/cuda/cuda_dnn.cc:9342] Unable to register cuDNN factory: Attempting to register factory for plugin cuDNN when one has already been registered\n",
      "2023-10-09 20:17:42.251521: E tensorflow/compiler/xla/stream_executor/cuda/cuda_fft.cc:609] Unable to register cuFFT factory: Attempting to register factory for plugin cuFFT when one has already been registered\n",
      "2023-10-09 20:17:42.251545: E tensorflow/compiler/xla/stream_executor/cuda/cuda_blas.cc:1518] Unable to register cuBLAS factory: Attempting to register factory for plugin cuBLAS when one has already been registered\n",
      "2023-10-09 20:17:42.259107: I tensorflow/core/platform/cpu_feature_guard.cc:182] This TensorFlow binary is optimized to use available CPU instructions in performance-critical operations.\n",
      "To enable the following instructions: AVX2 FMA, in other operations, rebuild TensorFlow with the appropriate compiler flags.\n",
      "2023-10-09 20:17:43.019385: W tensorflow/compiler/tf2tensorrt/utils/py_utils.cc:38] TF-TRT Warning: Could not find TensorRT\n"
     ]
    }
   ],
   "source": [
    "#---import libraries relating to data manipulation, visualization---------------------------------------------------\n",
    "import pandas as pd\n",
    "%matplotlib inline\n",
    "import numpy as np\n",
    "import json\n",
    "\n",
    "\n",
    "#-------import libraries to evaluate the deep learning model---------------------------------------------------------------\n",
    "from sklearn.model_selection import train_test_split\n",
    "\n",
    "\n",
    "import warnings\n",
    "warnings.filterwarnings('ignore')\n",
    "\n",
    "#------ import Deep Learning Libraries-------#\n",
    "\n",
    "import torch\n",
    "import torch.nn as nn\n",
    "import torch.optim as optim\n",
    "\n",
    "import optuna\n",
    "from optuna.trial import Trial\n",
    "\n",
    "import pickle\n",
    "\n",
    "\n",
    "pd.set_option('display.max_columns', None)\n",
    "pd.set_option(\"max_colwidth\", None)\n",
    "\n",
    "import sys\n",
    "sys.path.append('../../../src')  # Add the 'src' directory to the path\n",
    "\n",
    "#### Import Data Loading and Processing Functions\n",
    "from multimodal.helper_functions import   reproducible_comp,  get_final_df\n",
    "from multimodal.model_architecture import Generic1DCNN\n",
    "reproducible_comp()"
   ]
  },
  {
   "cell_type": "code",
   "execution_count": 2,
   "metadata": {},
   "outputs": [
    {
     "name": "stdout",
     "output_type": "stream",
     "text": [
      "Features Shape:  (2680, 3)\n",
      "Labels Shape:  (2680, 4)\n"
     ]
    }
   ],
   "source": [
    "file_path = \"../../../data/processed_data/acc_inner.pkl\"\n",
    "with open(file_path, 'rb') as picklefile:\n",
    "    data = pickle.load(picklefile)\n",
    "\n",
    "features_acc_inner, category_acc_inner, category_names, df_acc_inner = get_final_df(data, is_acc_data=1, is_multilabel=1)\n",
    "\n",
    "file_path = \"../../../data/processed_data/acc_outer.pkl\"\n",
    "with open(file_path, 'rb') as picklefile:\n",
    "    data = pickle.load(picklefile)\n",
    "\n",
    "features_acc_outer, category_acc_outer, category_names, df_acc_outer = get_final_df(data, is_acc_data=1, is_multilabel=1)\n",
    "\n",
    "merged_features_acc = np.concatenate((features_acc_inner,features_acc_outer), axis=0)\n",
    "merged_category_acc = np.concatenate((category_acc_inner,category_acc_outer), axis=0)\n",
    "\n",
    "labels = merged_category_acc.copy()\n",
    "features = merged_features_acc.copy()\n",
    "print(\"Features Shape: \", features.shape)\n",
    "print(\"Labels Shape: \", labels.shape)"
   ]
  },
  {
   "cell_type": "code",
   "execution_count": 3,
   "metadata": {},
   "outputs": [],
   "source": [
    "max_length = 500\n",
    "\n",
    "for i in range (len(features)):\n",
    "    if(len(features[i][0]<max_length)):\n",
    "        features[i][0]=np.pad(features[i][0], (0,max_length-len(features[i][0])), 'constant', constant_values=(0))\n",
    "        \n",
    "    if(len(features[i][1]<max_length)):\n",
    "        features[i][1]=np.pad(features[i][1], (0,max_length-len(features[i][1])), 'constant', constant_values=(0))\n",
    "    \n",
    "    if(len(features[i][2]<max_length)):\n",
    "        features[i][2]=np.pad(features[i][2], (0,max_length-len(features[i][2])), 'constant', constant_values=(0))"
   ]
  },
  {
   "cell_type": "code",
   "execution_count": 4,
   "metadata": {},
   "outputs": [
    {
     "name": "stdout",
     "output_type": "stream",
     "text": [
      "Updated Features Shape:  (2680, 1500)\n"
     ]
    }
   ],
   "source": [
    "feat= np.zeros(len(features)*3*max_length).reshape(-1, 3*max_length)\n",
    "for i in range(len(features)):\n",
    "    feat[i]= np.concatenate((features[i][0],features[i][1], features[i][2]), axis=None)\n",
    "    \n",
    "\n",
    "print(\"Updated Features Shape: \", feat.shape)"
   ]
  },
  {
   "cell_type": "code",
   "execution_count": 5,
   "metadata": {},
   "outputs": [],
   "source": [
    "X_train, X_test, y_train, y_test = train_test_split(feat, labels, test_size=0.1, \n",
    "                                                    random_state=2, shuffle=True, stratify=labels)"
   ]
  },
  {
   "cell_type": "code",
   "execution_count": 6,
   "metadata": {},
   "outputs": [
    {
     "name": "stdout",
     "output_type": "stream",
     "text": [
      "(2412, 1, 1500)\n",
      "(2412, 4)\n",
      "(268, 1, 1500)\n",
      "(268, 4)\n"
     ]
    }
   ],
   "source": [
    "X_train = X_train.reshape(-1, 1, feat.shape[1])\n",
    "X_test = X_test.reshape(-1, 1, feat.shape[1])\n",
    "\n",
    "print(X_train.shape)\n",
    "print(y_train.shape)\n",
    "print(X_test.shape)\n",
    "print(y_test.shape)"
   ]
  },
  {
   "cell_type": "code",
   "execution_count": 7,
   "metadata": {},
   "outputs": [],
   "source": [
    "from torch.utils.data import DataLoader, TensorDataset\n",
    "\n",
    "# Convert your data to PyTorch tensors\n",
    "x_train = torch.tensor(X_train, dtype=torch.float32)\n",
    "y_train = torch.tensor(y_train, dtype=torch.long)\n",
    "\n",
    "input_channels = 1\n",
    "num_classes = 4\n",
    "\n",
    "device = torch.device(\"cuda\" if torch.cuda.is_available() else \"cpu\")\n",
    "\n",
    "# Define the objective function for hyperparameter optimization\n",
    "def objective(trial: Trial):\n",
    "    try:\n",
    "        # Define hyperparameters to search for\n",
    "        lr = trial.suggest_loguniform(\"lr\", 1e-5, 1e-2)  # Suggest a learning rate in log scale\n",
    "        dropout_prob = trial.suggest_float(\"dropout_prob\", 0.0, 0.5)\n",
    "        hidden_channels = trial.suggest_int(\"hidden_channels\", 16, 256)\n",
    "        n_layers = trial.suggest_int(\"n_layers\", 1, 7)\n",
    "        kernel_size = trial.suggest_int(\"kernel_size\", 3, 9)\n",
    "        stride = trial.suggest_int(\"stride\", 1, 7)\n",
    "        padding = trial.suggest_int(\"padding\", 1, 10)\n",
    "        pooling_type = trial.suggest_categorical(\"pooling_type\", [\"max\", \"avg\"])  \n",
    "        use_batch_norm = trial.suggest_categorical(\"use_batch_norm\", [True, False]) \n",
    "\n",
    "\n",
    "        # Split the data into training and validation sets\n",
    "        x_train_split, x_valid_split, y_train_split, y_valid_split = train_test_split(\n",
    "            x_train, y_train, test_size=0.2, random_state=42\n",
    "        )\n",
    "\n",
    "        train_dataset = TensorDataset(x_train_split, y_train_split)\n",
    "        valid_dataset = TensorDataset(x_valid_split, y_valid_split)\n",
    "\n",
    "        train_loader = DataLoader(train_dataset, batch_size=64, shuffle=True)\n",
    "        valid_loader = DataLoader(valid_dataset, batch_size=64, shuffle=False)\n",
    "\n",
    "        # Create the model with the suggested hyperparameters\n",
    "        model = Generic1DCNN(input_channels, num_classes, n_layers, kernel_size, stride, padding,\n",
    "                            hidden_channels, dropout_prob, pooling_type, use_batch_norm).to(device)\n",
    "\n",
    "        criterion = nn.BCEWithLogitsLoss()\n",
    "        optimizer = optim.Adam(model.parameters(), lr=lr)\n",
    "\n",
    "        num_epochs = 50\n",
    "\n",
    "        model.train()\n",
    "        for epoch in range(num_epochs):\n",
    "            # Training loop\n",
    "            running_loss = 0.0\n",
    "            for inputs, labels in train_loader:\n",
    "                inputs, labels = inputs.to(device), labels.to(device)\n",
    "\n",
    "                optimizer.zero_grad()\n",
    "\n",
    "                outputs = model(inputs)\n",
    "                loss = criterion(outputs, labels.float())\n",
    "                loss.backward()\n",
    "                optimizer.step()\n",
    "\n",
    "                running_loss += loss.item()\n",
    "\n",
    "            train_loss = running_loss / len(train_loader)\n",
    "\n",
    "            # Validation loss calculation (similar to training loop)\n",
    "            model.eval()\n",
    "            valid_loss = 0.0\n",
    "            with torch.no_grad():\n",
    "                for inputs_valid, labels_valid in valid_loader:\n",
    "                    inputs_valid, labels_valid = inputs_valid.to(device), labels_valid.to(device)\n",
    "                    outputs_valid = model(inputs_valid)\n",
    "                    loss_valid = criterion(outputs_valid, labels_valid.float())\n",
    "                    valid_loss += loss_valid.item()\n",
    "\n",
    "            valid_loss = valid_loss / len(valid_loader)\n",
    "            if (epoch + 1) % 10 == 0:\n",
    "                print(f\"Epoch {epoch + 1}/{num_epochs}, Training Loss: {train_loss}, Validation Loss: {valid_loss}\")\n",
    "\n",
    "        # Calculate and return the final validation loss\n",
    "        return valid_loss\n",
    "    \n",
    "    except Exception as e:\n",
    "        # Print the error for debugging purposes (optional)\n",
    "        print(f\"Trial failed with error: {e}\")\n",
    "\n",
    "        # Return a high validation loss to indicate failure\n",
    "        return 1.0  # High validation loss\n",
    "    \n"
   ]
  },
  {
   "cell_type": "code",
   "execution_count": 8,
   "metadata": {},
   "outputs": [
    {
     "name": "stderr",
     "output_type": "stream",
     "text": [
      "[I 2023-10-09 22:32:09,906] A new study created in RDB with name: Case#6: Acceleration Merged\n"
     ]
    },
    {
     "name": "stdout",
     "output_type": "stream",
     "text": [
      "Epoch 10/50, Training Loss: 0.6596505661164561, Validation Loss: 0.6555318608880043\n",
      "Epoch 20/50, Training Loss: 0.6296747173032453, Validation Loss: 0.6280902698636055\n",
      "Epoch 30/50, Training Loss: 0.6228819797115941, Validation Loss: 0.6234875917434692\n",
      "Epoch 40/50, Training Loss: 0.6147324404408855, Validation Loss: 0.6149635463953018\n"
     ]
    },
    {
     "name": "stderr",
     "output_type": "stream",
     "text": [
      "[I 2023-10-09 22:32:32,874] Trial 0 finished with value: 0.5986220613121986 and parameters: {'lr': 1.8253412438139013e-05, 'dropout_prob': 0.30603549511444855, 'hidden_channels': 80, 'n_layers': 3, 'kernel_size': 6, 'stride': 4, 'padding': 4, 'pooling_type': 'avg', 'use_batch_norm': False}. Best is trial 0 with value: 0.5986220613121986.\n"
     ]
    },
    {
     "name": "stdout",
     "output_type": "stream",
     "text": [
      "Epoch 50/50, Training Loss: 0.5992789672267053, Validation Loss: 0.5986220613121986\n"
     ]
    },
    {
     "name": "stderr",
     "output_type": "stream",
     "text": [
      "[I 2023-10-09 22:32:33,751] Trial 1 finished with value: 1.0 and parameters: {'lr': 0.000582978882533325, 'dropout_prob': 0.4362414036396269, 'hidden_channels': 248, 'n_layers': 6, 'kernel_size': 9, 'stride': 6, 'padding': 6, 'pooling_type': 'max', 'use_batch_norm': False}. Best is trial 0 with value: 0.5986220613121986.\n"
     ]
    },
    {
     "name": "stdout",
     "output_type": "stream",
     "text": [
      "Trial failed with error: max_pool1d() Invalid computed output size: 0\n",
      "Epoch 10/50, Training Loss: 0.5867679849747689, Validation Loss: 0.5794254541397095\n",
      "Epoch 20/50, Training Loss: 0.50247692581146, Validation Loss: 0.4968934766948223\n",
      "Epoch 30/50, Training Loss: 0.4769530901985784, Validation Loss: 0.4741929769515991\n",
      "Epoch 40/50, Training Loss: 0.45665743947029114, Validation Loss: 0.46378494426608086\n"
     ]
    },
    {
     "name": "stderr",
     "output_type": "stream",
     "text": [
      "[I 2023-10-09 22:36:04,071] Trial 2 finished with value: 0.4554339647293091 and parameters: {'lr': 1.3607620961949553e-05, 'dropout_prob': 0.12266998082515201, 'hidden_channels': 156, 'n_layers': 4, 'kernel_size': 7, 'stride': 1, 'padding': 1, 'pooling_type': 'max', 'use_batch_norm': False}. Best is trial 2 with value: 0.4554339647293091.\n"
     ]
    },
    {
     "name": "stdout",
     "output_type": "stream",
     "text": [
      "Epoch 50/50, Training Loss: 0.45466865647223687, Validation Loss: 0.4554339647293091\n"
     ]
    },
    {
     "name": "stderr",
     "output_type": "stream",
     "text": [
      "[I 2023-10-09 22:36:04,836] Trial 3 finished with value: 1.0 and parameters: {'lr': 5.6923554643503275e-05, 'dropout_prob': 0.19690521162693858, 'hidden_channels': 37, 'n_layers': 7, 'kernel_size': 7, 'stride': 4, 'padding': 3, 'pooling_type': 'avg', 'use_batch_norm': True}. Best is trial 2 with value: 0.4554339647293091.\n"
     ]
    },
    {
     "name": "stdout",
     "output_type": "stream",
     "text": [
      "Trial failed with error: Given input size: (37x1x1). Calculated output size: (37x1x0). Output size is too small\n"
     ]
    },
    {
     "name": "stderr",
     "output_type": "stream",
     "text": [
      "[I 2023-10-09 22:36:05,644] Trial 4 finished with value: 1.0 and parameters: {'lr': 0.009806249653769365, 'dropout_prob': 0.1233583845442966, 'hidden_channels': 226, 'n_layers': 7, 'kernel_size': 9, 'stride': 7, 'padding': 4, 'pooling_type': 'max', 'use_batch_norm': True}. Best is trial 2 with value: 0.4554339647293091.\n"
     ]
    },
    {
     "name": "stdout",
     "output_type": "stream",
     "text": [
      "Trial failed with error: max_pool1d() Invalid computed output size: 0\n",
      "Epoch 10/50, Training Loss: 0.26074224422054904, Validation Loss: 0.3282018303871155\n",
      "Epoch 20/50, Training Loss: 0.12360222781858136, Validation Loss: 0.39459384232759476\n",
      "Epoch 30/50, Training Loss: 0.043347519371778734, Validation Loss: 0.5750805251300335\n",
      "Epoch 40/50, Training Loss: 0.011812041468557811, Validation Loss: 0.7610890679061413\n"
     ]
    },
    {
     "name": "stderr",
     "output_type": "stream",
     "text": [
      "[I 2023-10-09 22:36:38,164] Trial 5 finished with value: 0.9076623246073723 and parameters: {'lr': 0.0014591847741973031, 'dropout_prob': 0.3517756226956707, 'hidden_channels': 132, 'n_layers': 2, 'kernel_size': 5, 'stride': 4, 'padding': 7, 'pooling_type': 'max', 'use_batch_norm': True}. Best is trial 2 with value: 0.4554339647293091.\n"
     ]
    },
    {
     "name": "stdout",
     "output_type": "stream",
     "text": [
      "Epoch 50/50, Training Loss: 0.004256286463069339, Validation Loss: 0.9076623246073723\n",
      "Epoch 10/50, Training Loss: 0.6709713109077946, Validation Loss: 0.6693355962634087\n",
      "Epoch 20/50, Training Loss: 0.6417633833423737, Validation Loss: 0.6395834237337112\n",
      "Epoch 30/50, Training Loss: 0.6055319040052353, Validation Loss: 0.6019269675016403\n",
      "Epoch 40/50, Training Loss: 0.5660883534339166, Validation Loss: 0.5630994141101837\n"
     ]
    },
    {
     "name": "stderr",
     "output_type": "stream",
     "text": [
      "[I 2023-10-09 22:37:11,545] Trial 6 finished with value: 0.5285272002220154 and parameters: {'lr': 2.9362184122996703e-05, 'dropout_prob': 0.26807046440204607, 'hidden_channels': 30, 'n_layers': 2, 'kernel_size': 8, 'stride': 1, 'padding': 9, 'pooling_type': 'max', 'use_batch_norm': True}. Best is trial 2 with value: 0.4554339647293091.\n"
     ]
    },
    {
     "name": "stdout",
     "output_type": "stream",
     "text": [
      "Epoch 50/50, Training Loss: 0.529750935492977, Validation Loss: 0.5285272002220154\n",
      "Epoch 10/50, Training Loss: 0.6317053821779066, Validation Loss: 0.6291220337152481\n",
      "Epoch 20/50, Training Loss: 0.6180219131131326, Validation Loss: 0.617209792137146\n",
      "Epoch 30/50, Training Loss: 0.5997206799445614, Validation Loss: 0.6014001220464706\n",
      "Epoch 40/50, Training Loss: 0.5822309851646423, Validation Loss: 0.5833790823817253\n"
     ]
    },
    {
     "name": "stderr",
     "output_type": "stream",
     "text": [
      "[I 2023-10-09 22:37:34,073] Trial 7 finished with value: 0.5668967738747597 and parameters: {'lr': 0.000371722357983509, 'dropout_prob': 0.4133023920182183, 'hidden_channels': 133, 'n_layers': 1, 'kernel_size': 4, 'stride': 4, 'padding': 10, 'pooling_type': 'avg', 'use_batch_norm': False}. Best is trial 2 with value: 0.4554339647293091.\n"
     ]
    },
    {
     "name": "stdout",
     "output_type": "stream",
     "text": [
      "Epoch 50/50, Training Loss: 0.5625625829542836, Validation Loss: 0.5668967738747597\n",
      "Epoch 10/50, Training Loss: 0.26429242808972636, Validation Loss: 0.31512971222400665\n",
      "Epoch 20/50, Training Loss: 0.1697327701314803, Validation Loss: 0.3795597739517689\n",
      "Epoch 30/50, Training Loss: 0.12117386753520658, Validation Loss: 0.4395000822842121\n",
      "Epoch 40/50, Training Loss: 0.07323844550598052, Validation Loss: 0.531903225928545\n"
     ]
    },
    {
     "name": "stderr",
     "output_type": "stream",
     "text": [
      "[I 2023-10-09 22:37:54,626] Trial 8 finished with value: 0.6214996762573719 and parameters: {'lr': 0.00776380997594983, 'dropout_prob': 0.27641757772764264, 'hidden_channels': 103, 'n_layers': 2, 'kernel_size': 7, 'stride': 4, 'padding': 1, 'pooling_type': 'avg', 'use_batch_norm': False}. Best is trial 2 with value: 0.4554339647293091.\n"
     ]
    },
    {
     "name": "stdout",
     "output_type": "stream",
     "text": [
      "Epoch 50/50, Training Loss: 0.05650050084917776, Validation Loss: 0.6214996762573719\n"
     ]
    },
    {
     "name": "stderr",
     "output_type": "stream",
     "text": [
      "[I 2023-10-09 22:37:55,458] Trial 9 finished with value: 1.0 and parameters: {'lr': 0.0012250739531579256, 'dropout_prob': 0.3357465226082225, 'hidden_channels': 79, 'n_layers': 7, 'kernel_size': 9, 'stride': 6, 'padding': 4, 'pooling_type': 'avg', 'use_batch_norm': False}. Best is trial 2 with value: 0.4554339647293091.\n"
     ]
    },
    {
     "name": "stdout",
     "output_type": "stream",
     "text": [
      "Trial failed with error: Given input size: (79x1x1). Calculated output size: (79x1x0). Output size is too small\n",
      "Epoch 10/50, Training Loss: 0.45980885336475985, Validation Loss: 0.46251338720321655\n",
      "Epoch 20/50, Training Loss: 0.4311594117072321, Validation Loss: 0.4338802620768547\n",
      "Epoch 30/50, Training Loss: 0.3989104772767713, Validation Loss: 0.42543599009513855\n",
      "Epoch 40/50, Training Loss: 0.38418358275967257, Validation Loss: 0.4119473919272423\n"
     ]
    },
    {
     "name": "stderr",
     "output_type": "stream",
     "text": [
      "[I 2023-10-09 22:42:17,077] Trial 10 finished with value: 0.39776504039764404 and parameters: {'lr': 8.189620654415318e-05, 'dropout_prob': 0.003677674154125718, 'hidden_channels': 187, 'n_layers': 5, 'kernel_size': 3, 'stride': 1, 'padding': 1, 'pooling_type': 'max', 'use_batch_norm': False}. Best is trial 10 with value: 0.39776504039764404.\n"
     ]
    },
    {
     "name": "stdout",
     "output_type": "stream",
     "text": [
      "Epoch 50/50, Training Loss: 0.37253241000636933, Validation Loss: 0.39776504039764404\n",
      "Epoch 10/50, Training Loss: 0.6271583380237702, Validation Loss: 0.6224129050970078\n",
      "Epoch 20/50, Training Loss: 0.5766349011851896, Validation Loss: 0.571835346519947\n",
      "Epoch 30/50, Training Loss: 0.5135403429308245, Validation Loss: 0.507377453148365\n",
      "Epoch 40/50, Training Loss: 0.4945517393850511, Validation Loss: 0.487657867372036\n"
     ]
    },
    {
     "name": "stderr",
     "output_type": "stream",
     "text": [
      "[I 2023-10-09 22:46:29,471] Trial 11 finished with value: 0.47478005662560463 and parameters: {'lr': 1.030273064746246e-05, 'dropout_prob': 0.0032159846084374236, 'hidden_channels': 189, 'n_layers': 5, 'kernel_size': 3, 'stride': 1, 'padding': 1, 'pooling_type': 'max', 'use_batch_norm': False}. Best is trial 10 with value: 0.39776504039764404.\n"
     ]
    },
    {
     "name": "stdout",
     "output_type": "stream",
     "text": [
      "Epoch 50/50, Training Loss: 0.4759101877289434, Validation Loss: 0.47478005662560463\n",
      "Epoch 10/50, Training Loss: 0.49271333409893897, Validation Loss: 0.488508440554142\n",
      "Epoch 20/50, Training Loss: 0.4414330317128089, Validation Loss: 0.44616807997226715\n",
      "Epoch 30/50, Training Loss: 0.42348819490401973, Validation Loss: 0.42530572414398193\n",
      "Epoch 40/50, Training Loss: 0.402097305943889, Validation Loss: 0.4127040170133114\n"
     ]
    },
    {
     "name": "stderr",
     "output_type": "stream",
     "text": [
      "[I 2023-10-09 22:47:45,413] Trial 12 finished with value: 0.40504901483654976 and parameters: {'lr': 7.099642091991322e-05, 'dropout_prob': 0.02224607442972492, 'hidden_channels': 183, 'n_layers': 4, 'kernel_size': 3, 'stride': 2, 'padding': 2, 'pooling_type': 'max', 'use_batch_norm': False}. Best is trial 10 with value: 0.39776504039764404.\n"
     ]
    },
    {
     "name": "stdout",
     "output_type": "stream",
     "text": [
      "Epoch 50/50, Training Loss: 0.389109835509331, Validation Loss: 0.40504901483654976\n",
      "Epoch 10/50, Training Loss: 0.45337917631672275, Validation Loss: 0.45184243470430374\n",
      "Epoch 20/50, Training Loss: 0.4180874959115059, Validation Loss: 0.42148349434137344\n",
      "Epoch 30/50, Training Loss: 0.39528234447202376, Validation Loss: 0.40181104838848114\n",
      "Epoch 40/50, Training Loss: 0.385705251847544, Validation Loss: 0.38946398720145226\n"
     ]
    },
    {
     "name": "stderr",
     "output_type": "stream",
     "text": [
      "[I 2023-10-09 22:49:21,256] Trial 13 finished with value: 0.3721087612211704 and parameters: {'lr': 9.156868710091051e-05, 'dropout_prob': 0.009348364452006031, 'hidden_channels': 192, 'n_layers': 5, 'kernel_size': 3, 'stride': 2, 'padding': 2, 'pooling_type': 'max', 'use_batch_norm': False}. Best is trial 13 with value: 0.3721087612211704.\n"
     ]
    },
    {
     "name": "stdout",
     "output_type": "stream",
     "text": [
      "Epoch 50/50, Training Loss: 0.3581646978855133, Validation Loss: 0.3721087612211704\n",
      "Epoch 10/50, Training Loss: 0.4406620187144126, Validation Loss: 0.4396469220519066\n",
      "Epoch 20/50, Training Loss: 0.38925099757409864, Validation Loss: 0.39557113498449326\n",
      "Epoch 30/50, Training Loss: 0.3582834928266464, Validation Loss: 0.38131190463900566\n",
      "Epoch 40/50, Training Loss: 0.3282486661787956, Validation Loss: 0.3648715727031231\n"
     ]
    },
    {
     "name": "stderr",
     "output_type": "stream",
     "text": [
      "[I 2023-10-09 22:51:29,025] Trial 14 finished with value: 0.354256946593523 and parameters: {'lr': 0.00010545270037869705, 'dropout_prob': 0.06936896866402958, 'hidden_channels': 206, 'n_layers': 5, 'kernel_size': 4, 'stride': 2, 'padding': 3, 'pooling_type': 'max', 'use_batch_norm': False}. Best is trial 14 with value: 0.354256946593523.\n"
     ]
    },
    {
     "name": "stdout",
     "output_type": "stream",
     "text": [
      "Epoch 50/50, Training Loss: 0.3057425257659728, Validation Loss: 0.354256946593523\n",
      "Epoch 10/50, Training Loss: 0.3941052056127979, Validation Loss: 0.39823007583618164\n",
      "Epoch 20/50, Training Loss: 0.3401484489440918, Validation Loss: 0.3524750769138336\n",
      "Epoch 30/50, Training Loss: 0.30207448957427857, Validation Loss: 0.352162167429924\n",
      "Epoch 40/50, Training Loss: 0.2609255410009815, Validation Loss: 0.3462966978549957\n"
     ]
    },
    {
     "name": "stderr",
     "output_type": "stream",
     "text": [
      "[I 2023-10-09 22:53:44,432] Trial 15 finished with value: 0.34715599939227104 and parameters: {'lr': 0.00019993864883584495, 'dropout_prob': 0.07976001243595983, 'hidden_channels': 222, 'n_layers': 5, 'kernel_size': 4, 'stride': 2, 'padding': 3, 'pooling_type': 'max', 'use_batch_norm': False}. Best is trial 15 with value: 0.34715599939227104.\n"
     ]
    },
    {
     "name": "stdout",
     "output_type": "stream",
     "text": [
      "Epoch 50/50, Training Loss: 0.23057305668630906, Validation Loss: 0.34715599939227104\n",
      "Epoch 10/50, Training Loss: 0.4446036825256963, Validation Loss: 0.443304855376482\n",
      "Epoch 20/50, Training Loss: 0.37505930566018625, Validation Loss: 0.37535668164491653\n",
      "Epoch 30/50, Training Loss: 0.3291660470347251, Validation Loss: 0.34359952434897423\n",
      "Epoch 40/50, Training Loss: 0.27742951579632297, Validation Loss: 0.3312009070068598\n"
     ]
    },
    {
     "name": "stderr",
     "output_type": "stream",
     "text": [
      "[I 2023-10-09 22:56:35,281] Trial 16 finished with value: 0.3404237851500511 and parameters: {'lr': 0.00017883711258614147, 'dropout_prob': 0.10860264295018364, 'hidden_channels': 256, 'n_layers': 6, 'kernel_size': 5, 'stride': 3, 'padding': 6, 'pooling_type': 'max', 'use_batch_norm': False}. Best is trial 16 with value: 0.3404237851500511.\n"
     ]
    },
    {
     "name": "stdout",
     "output_type": "stream",
     "text": [
      "Epoch 50/50, Training Loss: 0.25039783841179264, Validation Loss: 0.3404237851500511\n",
      "Epoch 10/50, Training Loss: 0.45933494644780315, Validation Loss: 0.447390366345644\n",
      "Epoch 20/50, Training Loss: 0.3772811101328942, Validation Loss: 0.37620843946933746\n",
      "Epoch 30/50, Training Loss: 0.3309346466295181, Validation Loss: 0.3415323309600353\n",
      "Epoch 40/50, Training Loss: 0.2841761088179004, Validation Loss: 0.3317359611392021\n"
     ]
    },
    {
     "name": "stderr",
     "output_type": "stream",
     "text": [
      "[I 2023-10-09 22:59:30,731] Trial 17 finished with value: 0.31046145781874657 and parameters: {'lr': 0.00022343192972203022, 'dropout_prob': 0.1897483721438778, 'hidden_channels': 256, 'n_layers': 6, 'kernel_size': 5, 'stride': 3, 'padding': 7, 'pooling_type': 'max', 'use_batch_norm': False}. Best is trial 17 with value: 0.31046145781874657.\n"
     ]
    },
    {
     "name": "stdout",
     "output_type": "stream",
     "text": [
      "Epoch 50/50, Training Loss: 0.2507927172606991, Validation Loss: 0.31046145781874657\n",
      "Epoch 10/50, Training Loss: 0.1339297114360717, Validation Loss: 0.3120194673538208\n",
      "Epoch 20/50, Training Loss: 0.004769542198177547, Validation Loss: 0.574105940759182\n",
      "Epoch 30/50, Training Loss: 0.0003108141721778309, Validation Loss: 0.6918304264545441\n",
      "Epoch 40/50, Training Loss: 0.00014512595953419805, Validation Loss: 0.7546949908137321\n"
     ]
    },
    {
     "name": "stderr",
     "output_type": "stream",
     "text": [
      "[I 2023-10-09 23:02:31,718] Trial 18 finished with value: 0.8003483042120934 and parameters: {'lr': 0.0002113868336712933, 'dropout_prob': 0.2119542932598497, 'hidden_channels': 256, 'n_layers': 6, 'kernel_size': 5, 'stride': 3, 'padding': 8, 'pooling_type': 'max', 'use_batch_norm': True}. Best is trial 17 with value: 0.31046145781874657.\n"
     ]
    },
    {
     "name": "stdout",
     "output_type": "stream",
     "text": [
      "Epoch 50/50, Training Loss: 8.195643931685481e-05, Validation Loss: 0.8003483042120934\n",
      "Epoch 10/50, Training Loss: 0.5432392310711646, Validation Loss: 0.5230851396918297\n",
      "Epoch 20/50, Training Loss: 0.4683011347247708, Validation Loss: 0.4680764265358448\n",
      "Epoch 30/50, Training Loss: 0.4551677559652636, Validation Loss: 0.4563089907169342\n",
      "Epoch 40/50, Training Loss: 0.43871166533039463, Validation Loss: 0.44103479012846947\n"
     ]
    },
    {
     "name": "stderr",
     "output_type": "stream",
     "text": [
      "[I 2023-10-09 23:04:59,208] Trial 19 finished with value: 0.4370478726923466 and parameters: {'lr': 3.342978022307676e-05, 'dropout_prob': 0.18767650813844833, 'hidden_channels': 233, 'n_layers': 6, 'kernel_size': 5, 'stride': 3, 'padding': 6, 'pooling_type': 'max', 'use_batch_norm': False}. Best is trial 17 with value: 0.31046145781874657.\n"
     ]
    },
    {
     "name": "stdout",
     "output_type": "stream",
     "text": [
      "Epoch 50/50, Training Loss: 0.4269401671424989, Validation Loss: 0.4370478726923466\n",
      "Epoch 10/50, Training Loss: 0.5661337087231297, Validation Loss: 0.5044921487569809\n",
      "Epoch 20/50, Training Loss: 0.47140615217147336, Validation Loss: 0.4624097906053066\n",
      "Epoch 30/50, Training Loss: 0.4158468294528223, Validation Loss: 0.4385933354496956\n",
      "Epoch 40/50, Training Loss: 0.386501117098716, Validation Loss: 0.40915679186582565\n"
     ]
    },
    {
     "name": "stderr",
     "output_type": "stream",
     "text": [
      "[I 2023-10-09 23:06:24,429] Trial 20 finished with value: 0.4133460074663162 and parameters: {'lr': 0.00018649242881990904, 'dropout_prob': 0.16216466314168654, 'hidden_channels': 163, 'n_layers': 6, 'kernel_size': 6, 'stride': 5, 'padding': 7, 'pooling_type': 'max', 'use_batch_norm': False}. Best is trial 17 with value: 0.31046145781874657.\n"
     ]
    },
    {
     "name": "stdout",
     "output_type": "stream",
     "text": [
      "Epoch 50/50, Training Loss: 0.3667719066143036, Validation Loss: 0.4133460074663162\n",
      "Epoch 10/50, Training Loss: 0.4277175501469643, Validation Loss: 0.41943011432886124\n",
      "Epoch 20/50, Training Loss: 0.36222277389418694, Validation Loss: 0.36993706971406937\n",
      "Epoch 30/50, Training Loss: 0.32178834080696106, Validation Loss: 0.3477032221853733\n",
      "Epoch 40/50, Training Loss: 0.30187181215132436, Validation Loss: 0.3406108096241951\n"
     ]
    },
    {
     "name": "stderr",
     "output_type": "stream",
     "text": [
      "[I 2023-10-09 23:07:51,177] Trial 21 finished with value: 0.33136022090911865 and parameters: {'lr': 0.00019937737987557697, 'dropout_prob': 0.08622918761769349, 'hidden_channels': 220, 'n_layers': 4, 'kernel_size': 4, 'stride': 3, 'padding': 5, 'pooling_type': 'max', 'use_batch_norm': False}. Best is trial 17 with value: 0.31046145781874657.\n"
     ]
    },
    {
     "name": "stdout",
     "output_type": "stream",
     "text": [
      "Epoch 50/50, Training Loss: 0.26786958354134716, Validation Loss: 0.33136022090911865\n",
      "Epoch 10/50, Training Loss: 0.3652601049792382, Validation Loss: 0.37382062524557114\n",
      "Epoch 20/50, Training Loss: 0.2819206488709296, Validation Loss: 0.3432995118200779\n",
      "Epoch 30/50, Training Loss: 0.22216894309366902, Validation Loss: 0.3192351758480072\n",
      "Epoch 40/50, Training Loss: 0.21731889151757763, Validation Loss: 0.31336270458996296\n"
     ]
    },
    {
     "name": "stderr",
     "output_type": "stream",
     "text": [
      "[I 2023-10-09 23:09:24,426] Trial 22 finished with value: 0.34504254907369614 and parameters: {'lr': 0.0003849171052290738, 'dropout_prob': 0.14656201261604943, 'hidden_channels': 252, 'n_layers': 4, 'kernel_size': 6, 'stride': 3, 'padding': 5, 'pooling_type': 'max', 'use_batch_norm': False}. Best is trial 17 with value: 0.31046145781874657.\n"
     ]
    },
    {
     "name": "stdout",
     "output_type": "stream",
     "text": [
      "Epoch 50/50, Training Loss: 0.14129506844666698, Validation Loss: 0.34504254907369614\n",
      "Epoch 10/50, Training Loss: 0.4587958041698702, Validation Loss: 0.46257278323173523\n",
      "Epoch 20/50, Training Loss: 0.4149501746700656, Validation Loss: 0.41806934028863907\n",
      "Epoch 30/50, Training Loss: 0.382625570220332, Validation Loss: 0.39913779869675636\n",
      "Epoch 40/50, Training Loss: 0.3546814630108495, Validation Loss: 0.3757934533059597\n"
     ]
    },
    {
     "name": "stderr",
     "output_type": "stream",
     "text": [
      "[I 2023-10-09 23:10:44,093] Trial 23 finished with value: 0.36745288595557213 and parameters: {'lr': 0.00014268026181331594, 'dropout_prob': 0.23967165055407014, 'hidden_channels': 214, 'n_layers': 3, 'kernel_size': 5, 'stride': 3, 'padding': 7, 'pooling_type': 'max', 'use_batch_norm': False}. Best is trial 17 with value: 0.31046145781874657.\n"
     ]
    },
    {
     "name": "stdout",
     "output_type": "stream",
     "text": [
      "Epoch 50/50, Training Loss: 0.3325082481868805, Validation Loss: 0.36745288595557213\n",
      "Epoch 10/50, Training Loss: 0.45841783573550565, Validation Loss: 0.45320509746670723\n",
      "Epoch 20/50, Training Loss: 0.4191012190234277, Validation Loss: 0.42293670773506165\n",
      "Epoch 30/50, Training Loss: 0.38894536033753424, Validation Loss: 0.4087531454861164\n",
      "Epoch 40/50, Training Loss: 0.3688950673226387, Validation Loss: 0.3972216136753559\n"
     ]
    },
    {
     "name": "stderr",
     "output_type": "stream",
     "text": [
      "[I 2023-10-09 23:11:59,046] Trial 24 finished with value: 0.3903187997639179 and parameters: {'lr': 0.0002384329798271251, 'dropout_prob': 0.10364146767181653, 'hidden_channels': 240, 'n_layers': 4, 'kernel_size': 4, 'stride': 5, 'padding': 5, 'pooling_type': 'max', 'use_batch_norm': False}. Best is trial 17 with value: 0.31046145781874657.\n"
     ]
    },
    {
     "name": "stdout",
     "output_type": "stream",
     "text": [
      "Epoch 50/50, Training Loss: 0.3407099583456593, Validation Loss: 0.3903187997639179\n",
      "Epoch 10/50, Training Loss: 0.46318426247565975, Validation Loss: 0.4640093259513378\n",
      "Epoch 20/50, Training Loss: 0.40112998408655964, Validation Loss: 0.41235824674367905\n",
      "Epoch 30/50, Training Loss: 0.3669946635923078, Validation Loss: 0.3820839300751686\n",
      "Epoch 40/50, Training Loss: 0.33574762363587657, Validation Loss: 0.36294254660606384\n"
     ]
    },
    {
     "name": "stderr",
     "output_type": "stream",
     "text": [
      "[I 2023-10-09 23:13:16,622] Trial 25 finished with value: 0.34947167336940765 and parameters: {'lr': 0.00013243319545501214, 'dropout_prob': 0.060006157801379946, 'hidden_channels': 211, 'n_layers': 3, 'kernel_size': 5, 'stride': 3, 'padding': 8, 'pooling_type': 'max', 'use_batch_norm': False}. Best is trial 17 with value: 0.31046145781874657.\n"
     ]
    },
    {
     "name": "stdout",
     "output_type": "stream",
     "text": [
      "Epoch 50/50, Training Loss: 0.3136068073011214, Validation Loss: 0.34947167336940765\n",
      "Epoch 10/50, Training Loss: 0.4654911708447241, Validation Loss: 0.5085190795361996\n",
      "Epoch 20/50, Training Loss: 0.32815946566481746, Validation Loss: 0.49683116003870964\n",
      "Epoch 30/50, Training Loss: 0.1597285667254079, Validation Loss: 0.8548632115125656\n",
      "Epoch 40/50, Training Loss: 0.012533173242944383, Validation Loss: 1.5095164328813553\n"
     ]
    },
    {
     "name": "stderr",
     "output_type": "stream",
     "text": [
      "[I 2023-10-09 23:15:09,917] Trial 26 finished with value: 1.8868513107299805 and parameters: {'lr': 0.00043757435793992226, 'dropout_prob': 0.17859468761114397, 'hidden_channels': 233, 'n_layers': 6, 'kernel_size': 4, 'stride': 5, 'padding': 6, 'pooling_type': 'avg', 'use_batch_norm': True}. Best is trial 17 with value: 0.31046145781874657.\n"
     ]
    },
    {
     "name": "stdout",
     "output_type": "stream",
     "text": [
      "Epoch 50/50, Training Loss: 0.0004847971356338671, Validation Loss: 1.8868513107299805\n",
      "Epoch 10/50, Training Loss: 0.47754376646011104, Validation Loss: 0.4738296717405319\n",
      "Epoch 20/50, Training Loss: 0.44833227607511705, Validation Loss: 0.4564742296934128\n",
      "Epoch 30/50, Training Loss: 0.4162425245008161, Validation Loss: 0.4304897114634514\n",
      "Epoch 40/50, Training Loss: 0.3938560043611834, Validation Loss: 0.407046377658844\n"
     ]
    },
    {
     "name": "stderr",
     "output_type": "stream",
     "text": [
      "[I 2023-10-09 23:17:28,450] Trial 27 finished with value: 0.39610283076763153 and parameters: {'lr': 4.900644245718769e-05, 'dropout_prob': 0.14680541642064832, 'hidden_channels': 168, 'n_layers': 7, 'kernel_size': 5, 'stride': 2, 'padding': 8, 'pooling_type': 'max', 'use_batch_norm': False}. Best is trial 17 with value: 0.31046145781874657.\n"
     ]
    },
    {
     "name": "stdout",
     "output_type": "stream",
     "text": [
      "Epoch 50/50, Training Loss: 0.37877641185637445, Validation Loss: 0.39610283076763153\n",
      "Epoch 10/50, Training Loss: 0.4373339308846381, Validation Loss: 0.4436476603150368\n",
      "Epoch 20/50, Training Loss: 0.3754739905557325, Validation Loss: 0.3768381215631962\n",
      "Epoch 30/50, Training Loss: 0.32384204191546284, Validation Loss: 0.33675362914800644\n",
      "Epoch 40/50, Training Loss: 0.29088039600080057, Validation Loss: 0.3190576732158661\n"
     ]
    },
    {
     "name": "stderr",
     "output_type": "stream",
     "text": [
      "[I 2023-10-09 23:19:01,223] Trial 28 finished with value: 0.30674900859594345 and parameters: {'lr': 0.00012540000119385183, 'dropout_prob': 0.21555838108882214, 'hidden_channels': 255, 'n_layers': 5, 'kernel_size': 6, 'stride': 3, 'padding': 5, 'pooling_type': 'max', 'use_batch_norm': False}. Best is trial 28 with value: 0.30674900859594345.\n"
     ]
    },
    {
     "name": "stdout",
     "output_type": "stream",
     "text": [
      "Epoch 50/50, Training Loss: 0.2643554710572766, Validation Loss: 0.30674900859594345\n",
      "Epoch 10/50, Training Loss: 0.6217497837158942, Validation Loss: 0.6188521012663841\n",
      "Epoch 20/50, Training Loss: 0.5012514418171298, Validation Loss: 0.5004967302083969\n",
      "Epoch 30/50, Training Loss: 0.47300509291310466, Validation Loss: 0.4697464033961296\n",
      "Epoch 40/50, Training Loss: 0.4583643299918021, Validation Loss: 0.45412226021289825\n"
     ]
    },
    {
     "name": "stderr",
     "output_type": "stream",
     "text": [
      "[I 2023-10-09 23:20:12,912] Trial 29 finished with value: 0.4481006823480129 and parameters: {'lr': 2.5687163505786374e-05, 'dropout_prob': 0.23249626216905808, 'hidden_channels': 234, 'n_layers': 4, 'kernel_size': 6, 'stride': 3, 'padding': 5, 'pooling_type': 'avg', 'use_batch_norm': False}. Best is trial 28 with value: 0.30674900859594345.\n"
     ]
    },
    {
     "name": "stdout",
     "output_type": "stream",
     "text": [
      "Epoch 50/50, Training Loss: 0.44719296597665353, Validation Loss: 0.4481006823480129\n",
      "Epoch 10/50, Training Loss: 0.5236011637795356, Validation Loss: 0.5221331529319286\n",
      "Epoch 20/50, Training Loss: 0.47807535240727084, Validation Loss: 0.4810330159962177\n",
      "Epoch 30/50, Training Loss: 0.4486177948213393, Validation Loss: 0.45529184862971306\n",
      "Epoch 40/50, Training Loss: 0.42615592768115385, Validation Loss: 0.4357391931116581\n"
     ]
    },
    {
     "name": "stderr",
     "output_type": "stream",
     "text": [
      "[I 2023-10-09 23:20:52,162] Trial 30 finished with value: 0.4214099235832691 and parameters: {'lr': 4.753857097871638e-05, 'dropout_prob': 0.21537767505778221, 'hidden_channels': 204, 'n_layers': 3, 'kernel_size': 6, 'stride': 5, 'padding': 4, 'pooling_type': 'max', 'use_batch_norm': False}. Best is trial 28 with value: 0.30674900859594345.\n"
     ]
    },
    {
     "name": "stdout",
     "output_type": "stream",
     "text": [
      "Epoch 50/50, Training Loss: 0.40762440139247524, Validation Loss: 0.4214099235832691\n",
      "Epoch 10/50, Training Loss: 0.44675490933079876, Validation Loss: 0.4483570195734501\n",
      "Epoch 20/50, Training Loss: 0.4045886291611579, Validation Loss: 0.4101836569607258\n",
      "Epoch 30/50, Training Loss: 0.36379040729615, Validation Loss: 0.3716224916279316\n",
      "Epoch 40/50, Training Loss: 0.3368696080100152, Validation Loss: 0.3504120968282223\n"
     ]
    },
    {
     "name": "stderr",
     "output_type": "stream",
     "text": [
      "[I 2023-10-09 23:23:07,119] Trial 31 finished with value: 0.336672380566597 and parameters: {'lr': 0.00011548044632323369, 'dropout_prob': 0.15804120793702475, 'hidden_channels': 248, 'n_layers': 5, 'kernel_size': 5, 'stride': 3, 'padding': 6, 'pooling_type': 'max', 'use_batch_norm': False}. Best is trial 28 with value: 0.30674900859594345.\n"
     ]
    },
    {
     "name": "stdout",
     "output_type": "stream",
     "text": [
      "Epoch 50/50, Training Loss: 0.30707782603079276, Validation Loss: 0.336672380566597\n",
      "Epoch 10/50, Training Loss: 0.40085451449117354, Validation Loss: 0.4073677062988281\n",
      "Epoch 20/50, Training Loss: 0.35081835812137974, Validation Loss: 0.36475489288568497\n",
      "Epoch 30/50, Training Loss: 0.31543590897513973, Validation Loss: 0.3474895842373371\n",
      "Epoch 40/50, Training Loss: 0.2850158945206673, Validation Loss: 0.3150867111980915\n"
     ]
    },
    {
     "name": "stderr",
     "output_type": "stream",
     "text": [
      "[I 2023-10-09 23:25:59,243] Trial 32 finished with value: 0.31462083756923676 and parameters: {'lr': 0.00011395007310394783, 'dropout_prob': 0.17158311124199224, 'hidden_channels': 245, 'n_layers': 5, 'kernel_size': 6, 'stride': 2, 'padding': 5, 'pooling_type': 'max', 'use_batch_norm': False}. Best is trial 28 with value: 0.30674900859594345.\n"
     ]
    },
    {
     "name": "stdout",
     "output_type": "stream",
     "text": [
      "Epoch 50/50, Training Loss: 0.25239824095079977, Validation Loss: 0.31462083756923676\n",
      "Epoch 10/50, Training Loss: 0.354916718698317, Validation Loss: 0.36680876463651657\n",
      "Epoch 20/50, Training Loss: 0.2798491778873628, Validation Loss: 0.3527902029454708\n",
      "Epoch 30/50, Training Loss: 0.22254254933326476, Validation Loss: 0.32231062091886997\n",
      "Epoch 40/50, Training Loss: 0.1668287597356304, Validation Loss: 0.33562642708420753\n"
     ]
    },
    {
     "name": "stderr",
     "output_type": "stream",
     "text": [
      "[I 2023-10-09 23:28:55,013] Trial 33 finished with value: 0.3866571933031082 and parameters: {'lr': 0.0002911348206912955, 'dropout_prob': 0.19604118742379062, 'hidden_channels': 241, 'n_layers': 5, 'kernel_size': 7, 'stride': 2, 'padding': 5, 'pooling_type': 'max', 'use_batch_norm': False}. Best is trial 28 with value: 0.30674900859594345.\n"
     ]
    },
    {
     "name": "stdout",
     "output_type": "stream",
     "text": [
      "Epoch 50/50, Training Loss: 0.14224962193158366, Validation Loss: 0.3866571933031082\n",
      "Epoch 10/50, Training Loss: 0.43466719600462145, Validation Loss: 0.4345744773745537\n",
      "Epoch 20/50, Training Loss: 0.3882765279662225, Validation Loss: 0.39685190841555595\n",
      "Epoch 30/50, Training Loss: 0.35453876083897007, Validation Loss: 0.3693152628839016\n",
      "Epoch 40/50, Training Loss: 0.3291473234853437, Validation Loss: 0.37226438522338867\n"
     ]
    },
    {
     "name": "stderr",
     "output_type": "stream",
     "text": [
      "[I 2023-10-09 23:31:19,294] Trial 34 finished with value: 0.34460195899009705 and parameters: {'lr': 7.7340018264498e-05, 'dropout_prob': 0.2570072877548457, 'hidden_channels': 220, 'n_layers': 4, 'kernel_size': 6, 'stride': 2, 'padding': 4, 'pooling_type': 'max', 'use_batch_norm': False}. Best is trial 28 with value: 0.30674900859594345.\n"
     ]
    },
    {
     "name": "stdout",
     "output_type": "stream",
     "text": [
      "Epoch 50/50, Training Loss: 0.3120178214965328, Validation Loss: 0.34460195899009705\n",
      "Epoch 10/50, Training Loss: 0.6143176805588507, Validation Loss: 0.5836724489927292\n",
      "Epoch 20/50, Training Loss: 0.45660050261405205, Validation Loss: 0.448579590767622\n",
      "Epoch 30/50, Training Loss: 0.3909015886245235, Validation Loss: 0.39719173312187195\n",
      "Epoch 40/50, Training Loss: 0.34669207372973043, Validation Loss: 0.37507619336247444\n"
     ]
    },
    {
     "name": "stderr",
     "output_type": "stream",
     "text": [
      "[I 2023-10-09 23:34:14,019] Trial 35 finished with value: 0.3520049899816513 and parameters: {'lr': 0.00013951419091182664, 'dropout_prob': 0.12905660450429612, 'hidden_channels': 241, 'n_layers': 6, 'kernel_size': 7, 'stride': 4, 'padding': 7, 'pooling_type': 'max', 'use_batch_norm': False}. Best is trial 28 with value: 0.30674900859594345.\n"
     ]
    },
    {
     "name": "stdout",
     "output_type": "stream",
     "text": [
      "Epoch 50/50, Training Loss: 0.3069228645293943, Validation Loss: 0.3520049899816513\n",
      "Epoch 10/50, Training Loss: 0.17580290571335824, Validation Loss: 0.27349909394979477\n",
      "Epoch 20/50, Training Loss: 0.01316190539528766, Validation Loss: 0.44549980014562607\n",
      "Epoch 30/50, Training Loss: 0.0016581313928679352, Validation Loss: 0.5649452209472656\n",
      "Epoch 40/50, Training Loss: 0.0006132003928219239, Validation Loss: 0.6387602053582668\n"
     ]
    },
    {
     "name": "stderr",
     "output_type": "stream",
     "text": [
      "[I 2023-10-09 23:35:38,299] Trial 36 finished with value: 0.690360888838768 and parameters: {'lr': 0.00025354132902944787, 'dropout_prob': 0.1720243909332401, 'hidden_channels': 226, 'n_layers': 4, 'kernel_size': 8, 'stride': 3, 'padding': 5, 'pooling_type': 'max', 'use_batch_norm': True}. Best is trial 28 with value: 0.30674900859594345.\n"
     ]
    },
    {
     "name": "stdout",
     "output_type": "stream",
     "text": [
      "Epoch 50/50, Training Loss: 0.00032208851095469245, Validation Loss: 0.690360888838768\n",
      "Epoch 10/50, Training Loss: 0.404557135797316, Validation Loss: 0.39793239533901215\n",
      "Epoch 20/50, Training Loss: 0.3209066390991211, Validation Loss: 0.36157506704330444\n",
      "Epoch 30/50, Training Loss: 0.2596797688353446, Validation Loss: 0.33079216443002224\n",
      "Epoch 40/50, Training Loss: 0.21291381985910476, Validation Loss: 0.37354040518403053\n"
     ]
    },
    {
     "name": "stderr",
     "output_type": "stream",
     "text": [
      "[I 2023-10-09 23:36:21,213] Trial 37 finished with value: 0.39649326726794243 and parameters: {'lr': 0.0004957809696588658, 'dropout_prob': 0.2075285870449727, 'hidden_channels': 144, 'n_layers': 5, 'kernel_size': 7, 'stride': 4, 'padding': 6, 'pooling_type': 'max', 'use_batch_norm': False}. Best is trial 28 with value: 0.30674900859594345.\n"
     ]
    },
    {
     "name": "stdout",
     "output_type": "stream",
     "text": [
      "Epoch 50/50, Training Loss: 0.17485732008372584, Validation Loss: 0.39649326726794243\n",
      "Epoch 10/50, Training Loss: 0.38557760657802703, Validation Loss: 0.3985034115612507\n",
      "Epoch 20/50, Training Loss: 0.3178646016505457, Validation Loss: 0.3363870829343796\n",
      "Epoch 30/50, Training Loss: 0.26941379568269175, Validation Loss: 0.3047213554382324\n",
      "Epoch 40/50, Training Loss: 0.22877342806708428, Validation Loss: 0.2740093395113945\n"
     ]
    },
    {
     "name": "stderr",
     "output_type": "stream",
     "text": [
      "[I 2023-10-09 23:38:26,369] Trial 38 finished with value: 0.27002050541341305 and parameters: {'lr': 5.943266802278058e-05, 'dropout_prob': 0.2835523754569825, 'hidden_channels': 92, 'n_layers': 7, 'kernel_size': 6, 'stride': 1, 'padding': 3, 'pooling_type': 'avg', 'use_batch_norm': True}. Best is trial 38 with value: 0.27002050541341305.\n"
     ]
    },
    {
     "name": "stdout",
     "output_type": "stream",
     "text": [
      "Epoch 50/50, Training Loss: 0.19682072487569624, Validation Loss: 0.27002050541341305\n",
      "Epoch 10/50, Training Loss: 0.42599045365087446, Validation Loss: 0.41241398453712463\n",
      "Epoch 20/50, Training Loss: 0.331897912486907, Validation Loss: 0.32851168885827065\n",
      "Epoch 30/50, Training Loss: 0.29512735720603694, Validation Loss: 0.30596303194761276\n",
      "Epoch 40/50, Training Loss: 0.25936013339988645, Validation Loss: 0.2942793294787407\n"
     ]
    },
    {
     "name": "stderr",
     "output_type": "stream",
     "text": [
      "[I 2023-10-09 23:39:33,608] Trial 39 finished with value: 0.28154775127768517 and parameters: {'lr': 5.77115697043943e-05, 'dropout_prob': 0.2890589632741936, 'hidden_channels': 60, 'n_layers': 7, 'kernel_size': 6, 'stride': 1, 'padding': 3, 'pooling_type': 'avg', 'use_batch_norm': True}. Best is trial 38 with value: 0.27002050541341305.\n"
     ]
    },
    {
     "name": "stdout",
     "output_type": "stream",
     "text": [
      "Epoch 50/50, Training Loss: 0.24021686373218412, Validation Loss: 0.28154775127768517\n",
      "Epoch 10/50, Training Loss: 0.4226098454767658, Validation Loss: 0.41249558702111244\n",
      "Epoch 20/50, Training Loss: 0.33156542239650605, Validation Loss: 0.3369596004486084\n",
      "Epoch 30/50, Training Loss: 0.2868832888141755, Validation Loss: 0.29649072512984276\n",
      "Epoch 40/50, Training Loss: 0.25461559814791523, Validation Loss: 0.29353344440460205\n"
     ]
    },
    {
     "name": "stderr",
     "output_type": "stream",
     "text": [
      "[I 2023-10-09 23:40:41,767] Trial 40 finished with value: 0.2736378349363804 and parameters: {'lr': 5.362730016315294e-05, 'dropout_prob': 0.29795311341400127, 'hidden_channels': 58, 'n_layers': 7, 'kernel_size': 8, 'stride': 1, 'padding': 2, 'pooling_type': 'avg', 'use_batch_norm': True}. Best is trial 38 with value: 0.27002050541341305.\n"
     ]
    },
    {
     "name": "stdout",
     "output_type": "stream",
     "text": [
      "Epoch 50/50, Training Loss: 0.23082849623695498, Validation Loss: 0.2736378349363804\n",
      "Epoch 10/50, Training Loss: 0.4165972750033102, Validation Loss: 0.413929745554924\n",
      "Epoch 20/50, Training Loss: 0.3253250242240967, Validation Loss: 0.3308316245675087\n",
      "Epoch 30/50, Training Loss: 0.28081411219412283, Validation Loss: 0.29869765043258667\n",
      "Epoch 40/50, Training Loss: 0.2591588420252646, Validation Loss: 0.2789808660745621\n"
     ]
    },
    {
     "name": "stderr",
     "output_type": "stream",
     "text": [
      "[I 2023-10-09 23:41:42,303] Trial 41 finished with value: 0.26603541150689125 and parameters: {'lr': 5.435637937362639e-05, 'dropout_prob': 0.28738517373549205, 'hidden_channels': 56, 'n_layers': 7, 'kernel_size': 8, 'stride': 1, 'padding': 2, 'pooling_type': 'avg', 'use_batch_norm': True}. Best is trial 41 with value: 0.26603541150689125.\n"
     ]
    },
    {
     "name": "stdout",
     "output_type": "stream",
     "text": [
      "Epoch 50/50, Training Loss: 0.23181624470218534, Validation Loss: 0.26603541150689125\n",
      "Epoch 10/50, Training Loss: 0.4246787957606777, Validation Loss: 0.4133662320673466\n",
      "Epoch 20/50, Training Loss: 0.34483448440028774, Validation Loss: 0.36882976815104485\n",
      "Epoch 30/50, Training Loss: 0.2975855291851105, Validation Loss: 0.31123741902410984\n",
      "Epoch 40/50, Training Loss: 0.27234596879251544, Validation Loss: 0.2969936206936836\n"
     ]
    },
    {
     "name": "stderr",
     "output_type": "stream",
     "text": [
      "[I 2023-10-09 23:42:43,634] Trial 42 finished with value: 0.2871532179415226 and parameters: {'lr': 5.942238125270581e-05, 'dropout_prob': 0.2887355252013339, 'hidden_channels': 55, 'n_layers': 7, 'kernel_size': 8, 'stride': 1, 'padding': 2, 'pooling_type': 'avg', 'use_batch_norm': True}. Best is trial 41 with value: 0.26603541150689125.\n"
     ]
    },
    {
     "name": "stdout",
     "output_type": "stream",
     "text": [
      "Epoch 50/50, Training Loss: 0.24787965705317835, Validation Loss: 0.2871532179415226\n",
      "Epoch 10/50, Training Loss: 0.43894276311320646, Validation Loss: 0.4378437362611294\n",
      "Epoch 20/50, Training Loss: 0.3737037931719134, Validation Loss: 0.3595569469034672\n",
      "Epoch 30/50, Training Loss: 0.32304793692404227, Validation Loss: 0.33666621521115303\n",
      "Epoch 40/50, Training Loss: 0.29492560750053776, Validation Loss: 0.3115038201212883\n"
     ]
    },
    {
     "name": "stderr",
     "output_type": "stream",
     "text": [
      "[I 2023-10-09 23:43:53,963] Trial 43 finished with value: 0.2963813729584217 and parameters: {'lr': 3.741025786632455e-05, 'dropout_prob': 0.2956979311720666, 'hidden_channels': 57, 'n_layers': 7, 'kernel_size': 8, 'stride': 1, 'padding': 2, 'pooling_type': 'avg', 'use_batch_norm': True}. Best is trial 41 with value: 0.26603541150689125.\n"
     ]
    },
    {
     "name": "stdout",
     "output_type": "stream",
     "text": [
      "Epoch 50/50, Training Loss: 0.27791894731983063, Validation Loss: 0.2963813729584217\n",
      "Epoch 10/50, Training Loss: 0.6360766041663385, Validation Loss: 0.6379879266023636\n",
      "Epoch 20/50, Training Loss: 0.5818295767230373, Validation Loss: 0.5830820724368095\n",
      "Epoch 30/50, Training Loss: 0.5038779618278626, Validation Loss: 0.5041752122342587\n",
      "Epoch 40/50, Training Loss: 0.46498657041980374, Validation Loss: 0.46308111771941185\n"
     ]
    },
    {
     "name": "stderr",
     "output_type": "stream",
     "text": [
      "[I 2023-10-09 23:44:26,166] Trial 44 finished with value: 0.4454725868999958 and parameters: {'lr': 1.9529671453367606e-05, 'dropout_prob': 0.3236092254051751, 'hidden_channels': 17, 'n_layers': 7, 'kernel_size': 8, 'stride': 1, 'padding': 2, 'pooling_type': 'avg', 'use_batch_norm': True}. Best is trial 41 with value: 0.26603541150689125.\n"
     ]
    },
    {
     "name": "stdout",
     "output_type": "stream",
     "text": [
      "Epoch 50/50, Training Loss: 0.44522322762397026, Validation Loss: 0.4454725868999958\n",
      "Epoch 10/50, Training Loss: 0.409588566710872, Validation Loss: 0.40030572190880775\n",
      "Epoch 20/50, Training Loss: 0.3245034785039963, Validation Loss: 0.32051464915275574\n",
      "Epoch 30/50, Training Loss: 0.2820543286300475, Validation Loss: 0.2896992675960064\n",
      "Epoch 40/50, Training Loss: 0.2445382894046845, Validation Loss: 0.2716482803225517\n"
     ]
    },
    {
     "name": "stderr",
     "output_type": "stream",
     "text": [
      "[I 2023-10-09 23:45:52,971] Trial 45 finished with value: 0.260076941922307 and parameters: {'lr': 5.254953458372508e-05, 'dropout_prob': 0.2838690767038667, 'hidden_channels': 63, 'n_layers': 7, 'kernel_size': 9, 'stride': 1, 'padding': 3, 'pooling_type': 'avg', 'use_batch_norm': True}. Best is trial 45 with value: 0.260076941922307.\n"
     ]
    },
    {
     "name": "stdout",
     "output_type": "stream",
     "text": [
      "Epoch 50/50, Training Loss: 0.2204266094392346, Validation Loss: 0.260076941922307\n",
      "Epoch 10/50, Training Loss: 0.4533802434321373, Validation Loss: 0.439272191375494\n",
      "Epoch 20/50, Training Loss: 0.35006507462070835, Validation Loss: 0.3551710918545723\n",
      "Epoch 30/50, Training Loss: 0.29860752292217746, Validation Loss: 0.30793494544923306\n",
      "Epoch 40/50, Training Loss: 0.2680417952998992, Validation Loss: 0.2936563119292259\n"
     ]
    },
    {
     "name": "stderr",
     "output_type": "stream",
     "text": [
      "[I 2023-10-09 23:48:23,436] Trial 46 finished with value: 0.2907874286174774 and parameters: {'lr': 2.122133431359998e-05, 'dropout_prob': 0.3098572181997909, 'hidden_channels': 98, 'n_layers': 7, 'kernel_size': 9, 'stride': 1, 'padding': 3, 'pooling_type': 'avg', 'use_batch_norm': True}. Best is trial 45 with value: 0.260076941922307.\n"
     ]
    },
    {
     "name": "stdout",
     "output_type": "stream",
     "text": [
      "Epoch 50/50, Training Loss: 0.2508674816739175, Validation Loss: 0.2907874286174774\n",
      "Epoch 10/50, Training Loss: 0.43119446019972524, Validation Loss: 0.44068608060479164\n",
      "Epoch 20/50, Training Loss: 0.3383644953850777, Validation Loss: 0.3399886526167393\n",
      "Epoch 30/50, Training Loss: 0.28996211482632545, Validation Loss: 0.3005966693162918\n",
      "Epoch 40/50, Training Loss: 0.26278371820526736, Validation Loss: 0.27637363225221634\n"
     ]
    },
    {
     "name": "stderr",
     "output_type": "stream",
     "text": [
      "[I 2023-10-09 23:49:51,880] Trial 47 finished with value: 0.27178478986024857 and parameters: {'lr': 3.939190264393437e-05, 'dropout_prob': 0.35826092075097726, 'hidden_channels': 77, 'n_layers': 7, 'kernel_size': 9, 'stride': 1, 'padding': 1, 'pooling_type': 'avg', 'use_batch_norm': True}. Best is trial 45 with value: 0.260076941922307.\n"
     ]
    },
    {
     "name": "stdout",
     "output_type": "stream",
     "text": [
      "Epoch 50/50, Training Loss: 0.24624910758387658, Validation Loss: 0.27178478986024857\n",
      "Epoch 10/50, Training Loss: 0.4725223779678345, Validation Loss: 0.46554914116859436\n",
      "Epoch 20/50, Training Loss: 0.42057090132467206, Validation Loss: 0.4160866290330887\n",
      "Epoch 30/50, Training Loss: 0.37377804421609445, Validation Loss: 0.3734305649995804\n",
      "Epoch 40/50, Training Loss: 0.3445949996671369, Validation Loss: 0.34797581285238266\n"
     ]
    },
    {
     "name": "stderr",
     "output_type": "stream",
     "text": [
      "[I 2023-10-09 23:51:18,303] Trial 48 finished with value: 0.32775576040148735 and parameters: {'lr': 1.6358807151364465e-05, 'dropout_prob': 0.3603577498462221, 'hidden_channels': 76, 'n_layers': 7, 'kernel_size': 9, 'stride': 1, 'padding': 1, 'pooling_type': 'avg', 'use_batch_norm': True}. Best is trial 45 with value: 0.260076941922307.\n"
     ]
    },
    {
     "name": "stdout",
     "output_type": "stream",
     "text": [
      "Epoch 50/50, Training Loss: 0.3203934536826226, Validation Loss: 0.32775576040148735\n",
      "Epoch 10/50, Training Loss: 0.4041064554645169, Validation Loss: 0.40407830849289894\n",
      "Epoch 20/50, Training Loss: 0.3043823439267374, Validation Loss: 0.3076198063790798\n",
      "Epoch 30/50, Training Loss: 0.25834883989826324, Validation Loss: 0.2892571706324816\n",
      "Epoch 40/50, Training Loss: 0.22792052020949702, Validation Loss: 0.2789229806512594\n"
     ]
    },
    {
     "name": "stderr",
     "output_type": "stream",
     "text": [
      "[I 2023-10-09 23:53:13,604] Trial 49 finished with value: 0.27613840252161026 and parameters: {'lr': 4.0698585929384386e-05, 'dropout_prob': 0.2681747659661813, 'hidden_channels': 95, 'n_layers': 7, 'kernel_size': 9, 'stride': 1, 'padding': 1, 'pooling_type': 'avg', 'use_batch_norm': True}. Best is trial 45 with value: 0.260076941922307.\n"
     ]
    },
    {
     "name": "stdout",
     "output_type": "stream",
     "text": [
      "Epoch 50/50, Training Loss: 0.20339444207568322, Validation Loss: 0.27613840252161026\n"
     ]
    },
    {
     "name": "stderr",
     "output_type": "stream",
     "text": [
      "[I 2023-10-09 23:53:14,562] Trial 50 finished with value: 1.0 and parameters: {'lr': 2.7661510852277616e-05, 'dropout_prob': 0.3618357086032057, 'hidden_channels': 116, 'n_layers': 7, 'kernel_size': 9, 'stride': 7, 'padding': 3, 'pooling_type': 'avg', 'use_batch_norm': True}. Best is trial 45 with value: 0.260076941922307.\n"
     ]
    },
    {
     "name": "stdout",
     "output_type": "stream",
     "text": [
      "Trial failed with error: Given input size: (116x1x1). Calculated output size: (116x1x0). Output size is too small\n",
      "Epoch 10/50, Training Loss: 0.376731131345995, Validation Loss: 0.37054605782032013\n",
      "Epoch 20/50, Training Loss: 0.29618308140385535, Validation Loss: 0.310165423899889\n",
      "Epoch 30/50, Training Loss: 0.2603928989941074, Validation Loss: 0.2861449830234051\n",
      "Epoch 40/50, Training Loss: 0.22432257523459773, Validation Loss: 0.26963973976671696\n"
     ]
    },
    {
     "name": "stderr",
     "output_type": "stream",
     "text": [
      "[I 2023-10-09 23:55:18,727] Trial 51 finished with value: 0.2677880544215441 and parameters: {'lr': 4.672406747270578e-05, 'dropout_prob': 0.26713482274611056, 'hidden_channels': 91, 'n_layers': 7, 'kernel_size': 9, 'stride': 1, 'padding': 1, 'pooling_type': 'avg', 'use_batch_norm': True}. Best is trial 45 with value: 0.260076941922307.\n"
     ]
    },
    {
     "name": "stdout",
     "output_type": "stream",
     "text": [
      "Epoch 50/50, Training Loss: 0.19902079336104855, Validation Loss: 0.2677880544215441\n",
      "Epoch 10/50, Training Loss: 0.41114290779636753, Validation Loss: 0.40316251292824745\n",
      "Epoch 20/50, Training Loss: 0.3288327599725416, Validation Loss: 0.34270429611206055\n",
      "Epoch 30/50, Training Loss: 0.2930174686254994, Validation Loss: 0.30976294353604317\n",
      "Epoch 40/50, Training Loss: 0.2564994851427694, Validation Loss: 0.28003990463912487\n"
     ]
    },
    {
     "name": "stderr",
     "output_type": "stream",
     "text": [
      "[I 2023-10-09 23:56:13,451] Trial 52 finished with value: 0.2653348706662655 and parameters: {'lr': 7.081331546107937e-05, 'dropout_prob': 0.25582609643372284, 'hidden_channels': 44, 'n_layers': 7, 'kernel_size': 9, 'stride': 1, 'padding': 2, 'pooling_type': 'avg', 'use_batch_norm': True}. Best is trial 45 with value: 0.260076941922307.\n"
     ]
    },
    {
     "name": "stdout",
     "output_type": "stream",
     "text": [
      "Epoch 50/50, Training Loss: 0.23273889528166863, Validation Loss: 0.2653348706662655\n",
      "Epoch 10/50, Training Loss: 0.40971900282367585, Validation Loss: 0.41188473999500275\n",
      "Epoch 20/50, Training Loss: 0.34532432594606954, Validation Loss: 0.3518487364053726\n",
      "Epoch 30/50, Training Loss: 0.31516909022485057, Validation Loss: 0.3222249709069729\n",
      "Epoch 40/50, Training Loss: 0.2876617499897557, Validation Loss: 0.31280386820435524\n"
     ]
    },
    {
     "name": "stderr",
     "output_type": "stream",
     "text": [
      "[I 2023-10-09 23:57:00,081] Trial 53 finished with value: 0.29545529186725616 and parameters: {'lr': 7.302905365046432e-05, 'dropout_prob': 0.25206283714550876, 'hidden_channels': 36, 'n_layers': 6, 'kernel_size': 9, 'stride': 1, 'padding': 1, 'pooling_type': 'avg', 'use_batch_norm': True}. Best is trial 45 with value: 0.260076941922307.\n"
     ]
    },
    {
     "name": "stdout",
     "output_type": "stream",
     "text": [
      "Epoch 50/50, Training Loss: 0.2723361570988932, Validation Loss: 0.29545529186725616\n",
      "Epoch 10/50, Training Loss: 0.42933321960510745, Validation Loss: 0.4235212579369545\n",
      "Epoch 20/50, Training Loss: 0.35169896531489586, Validation Loss: 0.3565409518778324\n",
      "Epoch 30/50, Training Loss: 0.30730447798005994, Validation Loss: 0.35706373676657677\n",
      "Epoch 40/50, Training Loss: 0.28669360952992595, Validation Loss: 0.3266788050532341\n"
     ]
    },
    {
     "name": "stderr",
     "output_type": "stream",
     "text": [
      "[I 2023-10-09 23:58:16,351] Trial 54 finished with value: 0.3122135251760483 and parameters: {'lr': 3.760760146301092e-05, 'dropout_prob': 0.2745707350684856, 'hidden_channels': 70, 'n_layers': 7, 'kernel_size': 9, 'stride': 1, 'padding': 2, 'pooling_type': 'avg', 'use_batch_norm': True}. Best is trial 45 with value: 0.260076941922307.\n"
     ]
    },
    {
     "name": "stdout",
     "output_type": "stream",
     "text": [
      "Epoch 50/50, Training Loss: 0.25736136157666484, Validation Loss: 0.3122135251760483\n"
     ]
    },
    {
     "name": "stderr",
     "output_type": "stream",
     "text": [
      "[I 2023-10-09 23:58:17,372] Trial 55 finished with value: 1.0 and parameters: {'lr': 8.908488085201271e-05, 'dropout_prob': 0.3354613548552987, 'hidden_channels': 48, 'n_layers': 6, 'kernel_size': 9, 'stride': 2, 'padding': 1, 'pooling_type': 'avg', 'use_batch_norm': True}. Best is trial 45 with value: 0.260076941922307.\n"
     ]
    },
    {
     "name": "stdout",
     "output_type": "stream",
     "text": [
      "Trial failed with error: Calculated padded input size per channel: (6). Kernel size: (9). Kernel size can't be greater than actual input size\n"
     ]
    },
    {
     "name": "stderr",
     "output_type": "stream",
     "text": [
      "[I 2023-10-09 23:58:18,396] Trial 56 finished with value: 1.0 and parameters: {'lr': 3.0421645261659746e-05, 'dropout_prob': 0.31577406752163917, 'hidden_channels': 91, 'n_layers': 7, 'kernel_size': 9, 'stride': 2, 'padding': 1, 'pooling_type': 'avg', 'use_batch_norm': True}. Best is trial 45 with value: 0.260076941922307.\n"
     ]
    },
    {
     "name": "stdout",
     "output_type": "stream",
     "text": [
      "Trial failed with error: Calculated padded input size per channel: (6). Kernel size: (9). Kernel size can't be greater than actual input size\n",
      "Epoch 10/50, Training Loss: 0.47200971168856465, Validation Loss: 0.4723811708390713\n",
      "Epoch 20/50, Training Loss: 0.408321270058232, Validation Loss: 0.4068554900586605\n",
      "Epoch 30/50, Training Loss: 0.3620680061078841, Validation Loss: 0.36469369754195213\n",
      "Epoch 40/50, Training Loss: 0.3353191758355787, Validation Loss: 0.33669379353523254\n"
     ]
    },
    {
     "name": "stderr",
     "output_type": "stream",
     "text": [
      "[I 2023-10-10 00:00:26,319] Trial 57 finished with value: 0.31962527707219124 and parameters: {'lr': 1.2907089670620056e-05, 'dropout_prob': 0.2636898302290137, 'hidden_channels': 110, 'n_layers': 6, 'kernel_size': 8, 'stride': 1, 'padding': 3, 'pooling_type': 'avg', 'use_batch_norm': True}. Best is trial 45 with value: 0.260076941922307.\n"
     ]
    },
    {
     "name": "stdout",
     "output_type": "stream",
     "text": [
      "Epoch 50/50, Training Loss: 0.3158472334184954, Validation Loss: 0.31962527707219124\n",
      "Epoch 10/50, Training Loss: 0.6754910061436314, Validation Loss: 0.6748672425746918\n",
      "Epoch 20/50, Training Loss: 0.659069255475075, Validation Loss: 0.6576395630836487\n",
      "Epoch 30/50, Training Loss: 0.6407037031265997, Validation Loss: 0.6392245143651962\n",
      "Epoch 40/50, Training Loss: 0.628319924877536, Validation Loss: 0.626010112464428\n"
     ]
    },
    {
     "name": "stderr",
     "output_type": "stream",
     "text": [
      "[I 2023-10-10 00:01:09,183] Trial 58 finished with value: 0.6179356724023819 and parameters: {'lr': 4.4745478747069785e-05, 'dropout_prob': 0.2397202457234204, 'hidden_channels': 69, 'n_layers': 1, 'kernel_size': 8, 'stride': 1, 'padding': 2, 'pooling_type': 'avg', 'use_batch_norm': True}. Best is trial 45 with value: 0.260076941922307.\n"
     ]
    },
    {
     "name": "stdout",
     "output_type": "stream",
     "text": [
      "Epoch 50/50, Training Loss: 0.6190844928064654, Validation Loss: 0.6179356724023819\n"
     ]
    },
    {
     "name": "stderr",
     "output_type": "stream",
     "text": [
      "[I 2023-10-10 00:01:10,098] Trial 59 finished with value: 1.0 and parameters: {'lr': 6.438567454038424e-05, 'dropout_prob': 0.38008555928969867, 'hidden_channels': 86, 'n_layers': 7, 'kernel_size': 9, 'stride': 2, 'padding': 2, 'pooling_type': 'avg', 'use_batch_norm': True}. Best is trial 45 with value: 0.260076941922307.\n"
     ]
    },
    {
     "name": "stdout",
     "output_type": "stream",
     "text": [
      "Trial failed with error: Calculated padded input size per channel: (8). Kernel size: (9). Kernel size can't be greater than actual input size\n",
      "Epoch 10/50, Training Loss: 0.40794696730952107, Validation Loss: 0.40077057108283043\n",
      "Epoch 20/50, Training Loss: 0.33652805705224315, Validation Loss: 0.33857571333646774\n",
      "Epoch 30/50, Training Loss: 0.28212934492095826, Validation Loss: 0.30874015018343925\n",
      "Epoch 40/50, Training Loss: 0.24882006885543947, Validation Loss: 0.3054321762174368\n"
     ]
    },
    {
     "name": "stderr",
     "output_type": "stream",
     "text": [
      "[I 2023-10-10 00:02:02,050] Trial 60 finished with value: 0.2998763546347618 and parameters: {'lr': 9.192663448269243e-05, 'dropout_prob': 0.2797585857509008, 'hidden_channels': 41, 'n_layers': 6, 'kernel_size': 9, 'stride': 1, 'padding': 3, 'pooling_type': 'avg', 'use_batch_norm': True}. Best is trial 45 with value: 0.260076941922307.\n"
     ]
    },
    {
     "name": "stdout",
     "output_type": "stream",
     "text": [
      "Epoch 50/50, Training Loss: 0.22246803199091264, Validation Loss: 0.2998763546347618\n",
      "Epoch 10/50, Training Loss: 0.45670536833424724, Validation Loss: 0.45395055040717125\n",
      "Epoch 20/50, Training Loss: 0.3866107809928156, Validation Loss: 0.3795791119337082\n",
      "Epoch 30/50, Training Loss: 0.34762984129690355, Validation Loss: 0.3433513268828392\n",
      "Epoch 40/50, Training Loss: 0.32625856899446054, Validation Loss: 0.3125735819339752\n"
     ]
    },
    {
     "name": "stderr",
     "output_type": "stream",
     "text": [
      "[I 2023-10-10 00:02:39,027] Trial 61 finished with value: 0.297589723020792 and parameters: {'lr': 5.9607614203236564e-05, 'dropout_prob': 0.30513574086122947, 'hidden_channels': 23, 'n_layers': 7, 'kernel_size': 8, 'stride': 1, 'padding': 2, 'pooling_type': 'avg', 'use_batch_norm': True}. Best is trial 45 with value: 0.260076941922307.\n"
     ]
    },
    {
     "name": "stdout",
     "output_type": "stream",
     "text": [
      "Epoch 50/50, Training Loss: 0.3085344342454787, Validation Loss: 0.297589723020792\n",
      "Epoch 10/50, Training Loss: 0.4387431692692541, Validation Loss: 0.42999689280986786\n",
      "Epoch 20/50, Training Loss: 0.3357210736120901, Validation Loss: 0.3381238877773285\n",
      "Epoch 30/50, Training Loss: 0.29516084492206573, Validation Loss: 0.30820637196302414\n",
      "Epoch 40/50, Training Loss: 0.25939969093568865, Validation Loss: 0.29364962689578533\n"
     ]
    },
    {
     "name": "stderr",
     "output_type": "stream",
     "text": [
      "[I 2023-10-10 00:03:53,822] Trial 62 finished with value: 0.2884702477604151 and parameters: {'lr': 4.389219409459052e-05, 'dropout_prob': 0.3016599180696711, 'hidden_channels': 66, 'n_layers': 7, 'kernel_size': 8, 'stride': 1, 'padding': 2, 'pooling_type': 'avg', 'use_batch_norm': True}. Best is trial 45 with value: 0.260076941922307.\n"
     ]
    },
    {
     "name": "stdout",
     "output_type": "stream",
     "text": [
      "Epoch 50/50, Training Loss: 0.2428594390230794, Validation Loss: 0.2884702477604151\n",
      "Epoch 10/50, Training Loss: 0.4600267381437363, Validation Loss: 0.4572565294802189\n",
      "Epoch 20/50, Training Loss: 0.3772267766537205, Validation Loss: 0.37606364116072655\n",
      "Epoch 30/50, Training Loss: 0.31334851057298724, Validation Loss: 0.31678301841020584\n",
      "Epoch 40/50, Training Loss: 0.2865926575276159, Validation Loss: 0.29419838450849056\n"
     ]
    },
    {
     "name": "stderr",
     "output_type": "stream",
     "text": [
      "[I 2023-10-10 00:05:35,664] Trial 63 finished with value: 0.28492799773812294 and parameters: {'lr': 2.460755982430496e-05, 'dropout_prob': 0.31925621781228725, 'hidden_channels': 81, 'n_layers': 7, 'kernel_size': 7, 'stride': 1, 'padding': 4, 'pooling_type': 'avg', 'use_batch_norm': True}. Best is trial 45 with value: 0.260076941922307.\n"
     ]
    },
    {
     "name": "stdout",
     "output_type": "stream",
     "text": [
      "Epoch 50/50, Training Loss: 0.26409632015612816, Validation Loss: 0.28492799773812294\n",
      "Epoch 10/50, Training Loss: 0.48351004527461144, Validation Loss: 0.47938378527760506\n",
      "Epoch 20/50, Training Loss: 0.40952254014630474, Validation Loss: 0.408341471105814\n",
      "Epoch 30/50, Training Loss: 0.36573116144826334, Validation Loss: 0.36220838874578476\n",
      "Epoch 40/50, Training Loss: 0.3373595735719127, Validation Loss: 0.3366285599768162\n"
     ]
    },
    {
     "name": "stderr",
     "output_type": "stream",
     "text": [
      "[I 2023-10-10 00:06:22,230] Trial 64 finished with value: 0.3233705349266529 and parameters: {'lr': 3.0844045573345334e-05, 'dropout_prob': 0.2720496531024347, 'hidden_channels': 40, 'n_layers': 6, 'kernel_size': 9, 'stride': 1, 'padding': 1, 'pooling_type': 'avg', 'use_batch_norm': True}. Best is trial 45 with value: 0.260076941922307.\n"
     ]
    },
    {
     "name": "stdout",
     "output_type": "stream",
     "text": [
      "Epoch 50/50, Training Loss: 0.3128955816068957, Validation Loss: 0.3233705349266529\n"
     ]
    },
    {
     "name": "stderr",
     "output_type": "stream",
     "text": [
      "[I 2023-10-10 00:06:23,226] Trial 65 finished with value: 1.0 and parameters: {'lr': 5.0724670520378754e-05, 'dropout_prob': 0.29040853211811873, 'hidden_channels': 52, 'n_layers': 7, 'kernel_size': 8, 'stride': 2, 'padding': 1, 'pooling_type': 'avg', 'use_batch_norm': True}. Best is trial 45 with value: 0.260076941922307.\n"
     ]
    },
    {
     "name": "stdout",
     "output_type": "stream",
     "text": [
      "Trial failed with error: Calculated padded input size per channel: (6). Kernel size: (8). Kernel size can't be greater than actual input size\n",
      "Epoch 10/50, Training Loss: 0.4103747029458323, Validation Loss: 0.40414657816290855\n",
      "Epoch 20/50, Training Loss: 0.31631739822126204, Validation Loss: 0.315381221473217\n",
      "Epoch 30/50, Training Loss: 0.2712034068761333, Validation Loss: 0.32134919986128807\n",
      "Epoch 40/50, Training Loss: 0.24382815437932168, Validation Loss: 0.27218225225806236\n"
     ]
    },
    {
     "name": "stderr",
     "output_type": "stream",
     "text": [
      "[I 2023-10-10 00:07:20,442] Trial 66 finished with value: 0.26979202032089233 and parameters: {'lr': 7.253364572269732e-05, 'dropout_prob': 0.34014568815026475, 'hidden_channels': 46, 'n_layers': 7, 'kernel_size': 9, 'stride': 1, 'padding': 2, 'pooling_type': 'avg', 'use_batch_norm': True}. Best is trial 45 with value: 0.260076941922307.\n"
     ]
    },
    {
     "name": "stdout",
     "output_type": "stream",
     "text": [
      "Epoch 50/50, Training Loss: 0.21789975680651202, Validation Loss: 0.26979202032089233\n",
      "Epoch 10/50, Training Loss: 0.39488227136673465, Validation Loss: 0.37981416285037994\n",
      "Epoch 20/50, Training Loss: 0.27283795802823957, Validation Loss: 0.29249386861920357\n",
      "Epoch 30/50, Training Loss: 0.18810377534358733, Validation Loss: 0.3158893957734108\n",
      "Epoch 40/50, Training Loss: 0.11464530229568481, Validation Loss: 0.34512463957071304\n"
     ]
    },
    {
     "name": "stderr",
     "output_type": "stream",
     "text": [
      "[I 2023-10-10 00:09:49,173] Trial 67 finished with value: 0.4761248081922531 and parameters: {'lr': 7.612644638124716e-05, 'dropout_prob': 0.33564215384076046, 'hidden_channels': 126, 'n_layers': 7, 'kernel_size': 9, 'stride': 2, 'padding': 10, 'pooling_type': 'avg', 'use_batch_norm': True}. Best is trial 45 with value: 0.260076941922307.\n"
     ]
    },
    {
     "name": "stdout",
     "output_type": "stream",
     "text": [
      "Epoch 50/50, Training Loss: 0.04216425006668414, Validation Loss: 0.4761248081922531\n"
     ]
    },
    {
     "name": "stderr",
     "output_type": "stream",
     "text": [
      "[I 2023-10-10 00:09:50,172] Trial 68 finished with value: 1.0 and parameters: {'lr': 7.208779302596521e-05, 'dropout_prob': 0.24923983568866037, 'hidden_channels': 30, 'n_layers': 6, 'kernel_size': 9, 'stride': 2, 'padding': 3, 'pooling_type': 'avg', 'use_batch_norm': True}. Best is trial 45 with value: 0.260076941922307.\n"
     ]
    },
    {
     "name": "stdout",
     "output_type": "stream",
     "text": [
      "Trial failed with error: Calculated padded input size per channel: (7). Kernel size: (9). Kernel size can't be greater than actual input size\n"
     ]
    },
    {
     "name": "stderr",
     "output_type": "stream",
     "text": [
      "[I 2023-10-10 00:09:51,130] Trial 69 finished with value: 1.0 and parameters: {'lr': 3.503614536257211e-05, 'dropout_prob': 0.22611333534098504, 'hidden_channels': 46, 'n_layers': 7, 'kernel_size': 9, 'stride': 6, 'padding': 1, 'pooling_type': 'avg', 'use_batch_norm': True}. Best is trial 45 with value: 0.260076941922307.\n"
     ]
    },
    {
     "name": "stdout",
     "output_type": "stream",
     "text": [
      "Trial failed with error: Given input size: (46x1x1). Calculated output size: (46x1x0). Output size is too small\n",
      "Epoch 10/50, Training Loss: 0.5602878716684156, Validation Loss: 0.5555718913674355\n",
      "Epoch 20/50, Training Loss: 0.4680233030549942, Validation Loss: 0.47270069271326065\n",
      "Epoch 30/50, Training Loss: 0.4186469114595844, Validation Loss: 0.42801689356565475\n",
      "Epoch 40/50, Training Loss: 0.38574661554828765, Validation Loss: 0.3957892656326294\n"
     ]
    },
    {
     "name": "stderr",
     "output_type": "stream",
     "text": [
      "[I 2023-10-10 00:10:52,824] Trial 70 finished with value: 0.37320294603705406 and parameters: {'lr': 0.00010029455841744022, 'dropout_prob': 0.3486146453263801, 'hidden_channels': 78, 'n_layers': 2, 'kernel_size': 9, 'stride': 1, 'padding': 2, 'pooling_type': 'avg', 'use_batch_norm': True}. Best is trial 45 with value: 0.260076941922307.\n"
     ]
    },
    {
     "name": "stdout",
     "output_type": "stream",
     "text": [
      "Epoch 50/50, Training Loss: 0.35517817735671997, Validation Loss: 0.37320294603705406\n",
      "Epoch 10/50, Training Loss: 0.4233980313424141, Validation Loss: 0.4244668781757355\n",
      "Epoch 20/50, Training Loss: 0.32277126514142557, Validation Loss: 0.3475343659520149\n",
      "Epoch 30/50, Training Loss: 0.2670777367968713, Validation Loss: 0.29539676383137703\n",
      "Epoch 40/50, Training Loss: 0.2334172850654971, Validation Loss: 0.29847368597984314\n"
     ]
    },
    {
     "name": "stderr",
     "output_type": "stream",
     "text": [
      "[I 2023-10-10 00:12:03,307] Trial 71 finished with value: 0.2720318492501974 and parameters: {'lr': 5.577221949247653e-05, 'dropout_prob': 0.3056653312430804, 'hidden_channels': 63, 'n_layers': 7, 'kernel_size': 9, 'stride': 1, 'padding': 2, 'pooling_type': 'avg', 'use_batch_norm': True}. Best is trial 45 with value: 0.260076941922307.\n"
     ]
    },
    {
     "name": "stdout",
     "output_type": "stream",
     "text": [
      "Epoch 50/50, Training Loss: 0.22239174092969588, Validation Loss: 0.2720318492501974\n",
      "Epoch 10/50, Training Loss: 0.40960521082724294, Validation Loss: 0.40231718122959137\n",
      "Epoch 20/50, Training Loss: 0.32511992031528103, Validation Loss: 0.3173551857471466\n",
      "Epoch 30/50, Training Loss: 0.2818176914607325, Validation Loss: 0.2882698327302933\n",
      "Epoch 40/50, Training Loss: 0.2619157784408139, Validation Loss: 0.27484019473195076\n"
     ]
    },
    {
     "name": "stderr",
     "output_type": "stream",
     "text": [
      "[I 2023-10-10 00:13:13,845] Trial 72 finished with value: 0.2804360706359148 and parameters: {'lr': 4.325585506167893e-05, 'dropout_prob': 0.2827936625364686, 'hidden_channels': 64, 'n_layers': 7, 'kernel_size': 9, 'stride': 1, 'padding': 3, 'pooling_type': 'avg', 'use_batch_norm': True}. Best is trial 45 with value: 0.260076941922307.\n"
     ]
    },
    {
     "name": "stdout",
     "output_type": "stream",
     "text": [
      "Epoch 50/50, Training Loss: 0.23742783358020167, Validation Loss: 0.2804360706359148\n",
      "Epoch 10/50, Training Loss: 0.33470993561129414, Validation Loss: 0.3306949846446514\n",
      "Epoch 20/50, Training Loss: 0.26222030674257585, Validation Loss: 0.28499714843928814\n",
      "Epoch 30/50, Training Loss: 0.21715231384000472, Validation Loss: 0.2769957724958658\n",
      "Epoch 40/50, Training Loss: 0.18426692197399755, Validation Loss: 0.28115498274564743\n"
     ]
    },
    {
     "name": "stderr",
     "output_type": "stream",
     "text": [
      "[I 2023-10-10 00:15:54,670] Trial 73 finished with value: 0.2946525327861309 and parameters: {'lr': 6.737368686144377e-05, 'dropout_prob': 0.2592403540604503, 'hidden_channels': 105, 'n_layers': 7, 'kernel_size': 9, 'stride': 1, 'padding': 1, 'pooling_type': 'avg', 'use_batch_norm': True}. Best is trial 45 with value: 0.260076941922307.\n"
     ]
    },
    {
     "name": "stdout",
     "output_type": "stream",
     "text": [
      "Epoch 50/50, Training Loss: 0.16057290377155428, Validation Loss: 0.2946525327861309\n",
      "Epoch 10/50, Training Loss: 0.3991197318800034, Validation Loss: 0.3868633285164833\n",
      "Epoch 20/50, Training Loss: 0.31891591606601594, Validation Loss: 0.32898958399891853\n",
      "Epoch 30/50, Training Loss: 0.2702125306091001, Validation Loss: 0.2907959707081318\n",
      "Epoch 40/50, Training Loss: 0.25533239206960123, Validation Loss: 0.2970732394605875\n"
     ]
    },
    {
     "name": "stderr",
     "output_type": "stream",
     "text": [
      "[I 2023-10-10 00:17:21,999] Trial 74 finished with value: 0.2795313708484173 and parameters: {'lr': 5.1861668757671206e-05, 'dropout_prob': 0.32568969952489046, 'hidden_channels': 73, 'n_layers': 7, 'kernel_size': 9, 'stride': 1, 'padding': 2, 'pooling_type': 'avg', 'use_batch_norm': True}. Best is trial 45 with value: 0.260076941922307.\n"
     ]
    },
    {
     "name": "stdout",
     "output_type": "stream",
     "text": [
      "Epoch 50/50, Training Loss: 0.2300536113400613, Validation Loss: 0.2795313708484173\n",
      "Epoch 10/50, Training Loss: 0.39519550627277744, Validation Loss: 0.38529542461037636\n",
      "Epoch 20/50, Training Loss: 0.33376577688801673, Validation Loss: 0.3266798220574856\n",
      "Epoch 30/50, Training Loss: 0.2980178190815833, Validation Loss: 0.3051949366927147\n",
      "Epoch 40/50, Training Loss: 0.2767969754434401, Validation Loss: 0.2988449577242136\n"
     ]
    },
    {
     "name": "stderr",
     "output_type": "stream",
     "text": [
      "[I 2023-10-10 00:18:08,710] Trial 75 finished with value: 0.2893825136125088 and parameters: {'lr': 9.993078723008342e-05, 'dropout_prob': 0.30617516722602933, 'hidden_channels': 34, 'n_layers': 6, 'kernel_size': 9, 'stride': 1, 'padding': 3, 'pooling_type': 'avg', 'use_batch_norm': True}. Best is trial 45 with value: 0.260076941922307.\n"
     ]
    },
    {
     "name": "stdout",
     "output_type": "stream",
     "text": [
      "Epoch 50/50, Training Loss: 0.2408508494977028, Validation Loss: 0.2893825136125088\n",
      "Epoch 10/50, Training Loss: 0.4361940324306488, Validation Loss: 0.43093597888946533\n",
      "Epoch 20/50, Training Loss: 0.33749193529928884, Validation Loss: 0.3342164121568203\n",
      "Epoch 30/50, Training Loss: 0.29005629208780104, Validation Loss: 0.29867224022746086\n",
      "Epoch 40/50, Training Loss: 0.255666020897127, Validation Loss: 0.27935384027659893\n"
     ]
    },
    {
     "name": "stderr",
     "output_type": "stream",
     "text": [
      "[I 2023-10-10 00:19:50,331] Trial 76 finished with value: 0.28376032412052155 and parameters: {'lr': 3.247552462289635e-05, 'dropout_prob': 0.2845378341570316, 'hidden_channels': 85, 'n_layers': 7, 'kernel_size': 8, 'stride': 1, 'padding': 4, 'pooling_type': 'avg', 'use_batch_norm': True}. Best is trial 45 with value: 0.260076941922307.\n"
     ]
    },
    {
     "name": "stdout",
     "output_type": "stream",
     "text": [
      "Epoch 50/50, Training Loss: 0.2322721577459766, Validation Loss: 0.28376032412052155\n"
     ]
    },
    {
     "name": "stderr",
     "output_type": "stream",
     "text": [
      "[I 2023-10-10 00:19:51,203] Trial 77 finished with value: 1.0 and parameters: {'lr': 8.488193267604556e-05, 'dropout_prob': 0.3883851495988085, 'hidden_channels': 47, 'n_layers': 6, 'kernel_size': 9, 'stride': 2, 'padding': 2, 'pooling_type': 'avg', 'use_batch_norm': True}. Best is trial 45 with value: 0.260076941922307.\n"
     ]
    },
    {
     "name": "stdout",
     "output_type": "stream",
     "text": [
      "Trial failed with error: Calculated padded input size per channel: (8). Kernel size: (9). Kernel size can't be greater than actual input size\n",
      "Epoch 10/50, Training Loss: 0.47001107758091343, Validation Loss: 0.46401403844356537\n",
      "Epoch 20/50, Training Loss: 0.40047215550176557, Validation Loss: 0.3969557471573353\n",
      "Epoch 30/50, Training Loss: 0.34668739668784604, Validation Loss: 0.3682444170117378\n",
      "Epoch 40/50, Training Loss: 0.3113839775323868, Validation Loss: 0.32929496839642525\n"
     ]
    },
    {
     "name": "stderr",
     "output_type": "stream",
     "text": [
      "[I 2023-10-10 00:20:32,911] Trial 78 finished with value: 0.3131762705743313 and parameters: {'lr': 6.20029169342261e-05, 'dropout_prob': 0.24204378184014622, 'hidden_channels': 29, 'n_layers': 7, 'kernel_size': 8, 'stride': 1, 'padding': 1, 'pooling_type': 'avg', 'use_batch_norm': True}. Best is trial 45 with value: 0.260076941922307.\n"
     ]
    },
    {
     "name": "stdout",
     "output_type": "stream",
     "text": [
      "Epoch 50/50, Training Loss: 0.2971099393983041, Validation Loss: 0.3131762705743313\n"
     ]
    },
    {
     "name": "stderr",
     "output_type": "stream",
     "text": [
      "[I 2023-10-10 00:20:33,844] Trial 79 finished with value: 1.0 and parameters: {'lr': 0.0001524246509178929, 'dropout_prob': 0.31705794755248917, 'hidden_channels': 60, 'n_layers': 7, 'kernel_size': 9, 'stride': 2, 'padding': 3, 'pooling_type': 'avg', 'use_batch_norm': True}. Best is trial 45 with value: 0.260076941922307.\n"
     ]
    },
    {
     "name": "stdout",
     "output_type": "stream",
     "text": [
      "Trial failed with error: Calculated padded input size per channel: (7). Kernel size: (9). Kernel size can't be greater than actual input size\n",
      "Epoch 10/50, Training Loss: 0.4461758223272139, Validation Loss: 0.4379722625017166\n",
      "Epoch 20/50, Training Loss: 0.35089547499533624, Validation Loss: 0.34624676778912544\n",
      "Epoch 30/50, Training Loss: 0.311783472376485, Validation Loss: 0.31054167822003365\n",
      "Epoch 40/50, Training Loss: 0.28838278209009477, Validation Loss: 0.2975233234465122\n"
     ]
    },
    {
     "name": "stderr",
     "output_type": "stream",
     "text": [
      "[I 2023-10-10 00:22:10,351] Trial 80 finished with value: 0.2931017652153969 and parameters: {'lr': 2.3359943446576364e-05, 'dropout_prob': 0.2559900151712286, 'hidden_channels': 86, 'n_layers': 7, 'kernel_size': 9, 'stride': 1, 'padding': 2, 'pooling_type': 'avg', 'use_batch_norm': True}. Best is trial 45 with value: 0.260076941922307.\n"
     ]
    },
    {
     "name": "stdout",
     "output_type": "stream",
     "text": [
      "Epoch 50/50, Training Loss: 0.25910871019286497, Validation Loss: 0.2931017652153969\n",
      "Epoch 10/50, Training Loss: 0.43763498144765056, Validation Loss: 0.42689381167292595\n",
      "Epoch 20/50, Training Loss: 0.35369882756663906, Validation Loss: 0.3488304354250431\n",
      "Epoch 30/50, Training Loss: 0.3038446787864931, Validation Loss: 0.31375614181160927\n",
      "Epoch 40/50, Training Loss: 0.26949895245413624, Validation Loss: 0.2854153513908386\n"
     ]
    },
    {
     "name": "stderr",
     "output_type": "stream",
     "text": [
      "[I 2023-10-10 00:23:11,910] Trial 81 finished with value: 0.28455426543951035 and parameters: {'lr': 5.121559254541805e-05, 'dropout_prob': 0.29459244453918865, 'hidden_channels': 52, 'n_layers': 7, 'kernel_size': 8, 'stride': 1, 'padding': 2, 'pooling_type': 'avg', 'use_batch_norm': True}. Best is trial 45 with value: 0.260076941922307.\n"
     ]
    },
    {
     "name": "stdout",
     "output_type": "stream",
     "text": [
      "Epoch 50/50, Training Loss: 0.23955917550671485, Validation Loss: 0.28455426543951035\n",
      "Epoch 10/50, Training Loss: 0.4607984500546609, Validation Loss: 0.4584146738052368\n",
      "Epoch 20/50, Training Loss: 0.3749721050262451, Validation Loss: 0.3621448390185833\n",
      "Epoch 30/50, Training Loss: 0.318629999314585, Validation Loss: 0.33881430327892303\n",
      "Epoch 40/50, Training Loss: 0.2945030826714731, Validation Loss: 0.29994792863726616\n"
     ]
    },
    {
     "name": "stderr",
     "output_type": "stream",
     "text": [
      "[I 2023-10-10 00:24:22,585] Trial 82 finished with value: 0.28326353803277016 and parameters: {'lr': 4.033715922202471e-05, 'dropout_prob': 0.3053599874052173, 'hidden_channels': 61, 'n_layers': 7, 'kernel_size': 7, 'stride': 1, 'padding': 2, 'pooling_type': 'avg', 'use_batch_norm': True}. Best is trial 45 with value: 0.260076941922307.\n"
     ]
    },
    {
     "name": "stdout",
     "output_type": "stream",
     "text": [
      "Epoch 50/50, Training Loss: 0.26521004303809137, Validation Loss: 0.28326353803277016\n",
      "Epoch 10/50, Training Loss: 0.46879989966269464, Validation Loss: 0.461030799895525\n",
      "Epoch 20/50, Training Loss: 0.36849871181672617, Validation Loss: 0.36992767453193665\n",
      "Epoch 30/50, Training Loss: 0.3246955640854374, Validation Loss: 0.3299730159342289\n",
      "Epoch 40/50, Training Loss: 0.2877406756724081, Validation Loss: 0.30487656593322754\n"
     ]
    },
    {
     "name": "stderr",
     "output_type": "stream",
     "text": [
      "[I 2023-10-10 00:25:16,958] Trial 83 finished with value: 0.2848129663616419 and parameters: {'lr': 5.151328584435278e-05, 'dropout_prob': 0.2685998516386776, 'hidden_channels': 42, 'n_layers': 7, 'kernel_size': 8, 'stride': 1, 'padding': 1, 'pooling_type': 'avg', 'use_batch_norm': True}. Best is trial 45 with value: 0.260076941922307.\n"
     ]
    },
    {
     "name": "stdout",
     "output_type": "stream",
     "text": [
      "Epoch 50/50, Training Loss: 0.2703511854333262, Validation Loss: 0.2848129663616419\n",
      "Epoch 10/50, Training Loss: 0.4648902291251767, Validation Loss: 0.46560778468847275\n",
      "Epoch 20/50, Training Loss: 0.37732847082999443, Validation Loss: 0.37399762496352196\n",
      "Epoch 30/50, Training Loss: 0.32164485608377763, Validation Loss: 0.3309800326824188\n",
      "Epoch 40/50, Training Loss: 0.29475740655775995, Validation Loss: 0.29852451384067535\n"
     ]
    },
    {
     "name": "stderr",
     "output_type": "stream",
     "text": [
      "[I 2023-10-10 00:26:29,030] Trial 84 finished with value: 0.28573290444910526 and parameters: {'lr': 2.7756286488305935e-05, 'dropout_prob': 0.3271706792477463, 'hidden_channels': 67, 'n_layers': 7, 'kernel_size': 7, 'stride': 1, 'padding': 2, 'pooling_type': 'avg', 'use_batch_norm': True}. Best is trial 45 with value: 0.260076941922307.\n"
     ]
    },
    {
     "name": "stdout",
     "output_type": "stream",
     "text": [
      "Epoch 50/50, Training Loss: 0.27348113300338867, Validation Loss: 0.28573290444910526\n",
      "Epoch 10/50, Training Loss: 0.4695322590489541, Validation Loss: 0.4592631570994854\n",
      "Epoch 20/50, Training Loss: 0.37440430925738427, Validation Loss: 0.37883251905441284\n",
      "Epoch 30/50, Training Loss: 0.326877097448995, Validation Loss: 0.33521997928619385\n",
      "Epoch 40/50, Training Loss: 0.29678958894744994, Validation Loss: 0.3075871057808399\n"
     ]
    },
    {
     "name": "stderr",
     "output_type": "stream",
     "text": [
      "[I 2023-10-10 00:27:31,672] Trial 85 finished with value: 0.31558089330792427 and parameters: {'lr': 3.48997428113922e-05, 'dropout_prob': 0.29604291323244625, 'hidden_channels': 55, 'n_layers': 7, 'kernel_size': 9, 'stride': 1, 'padding': 2, 'pooling_type': 'avg', 'use_batch_norm': True}. Best is trial 45 with value: 0.260076941922307.\n"
     ]
    },
    {
     "name": "stdout",
     "output_type": "stream",
     "text": [
      "Epoch 50/50, Training Loss: 0.27241875567743856, Validation Loss: 0.31558089330792427\n"
     ]
    },
    {
     "name": "stderr",
     "output_type": "stream",
     "text": [
      "[I 2023-10-10 00:27:32,631] Trial 86 finished with value: 1.0 and parameters: {'lr': 7.992777891208938e-05, 'dropout_prob': 0.34352825770328765, 'hidden_channels': 93, 'n_layers': 6, 'kernel_size': 9, 'stride': 2, 'padding': 1, 'pooling_type': 'avg', 'use_batch_norm': True}. Best is trial 45 with value: 0.260076941922307.\n"
     ]
    },
    {
     "name": "stdout",
     "output_type": "stream",
     "text": [
      "Trial failed with error: Calculated padded input size per channel: (6). Kernel size: (9). Kernel size can't be greater than actual input size\n",
      "Epoch 10/50, Training Loss: 0.3505586135771967, Validation Loss: 0.34449801594018936\n",
      "Epoch 20/50, Training Loss: 0.2656787806941617, Validation Loss: 0.30298149213194847\n",
      "Epoch 30/50, Training Loss: 0.22158822849873575, Validation Loss: 0.2781887501478195\n",
      "Epoch 40/50, Training Loss: 0.18289244030752488, Validation Loss: 0.28317514806985855\n"
     ]
    },
    {
     "name": "stderr",
     "output_type": "stream",
     "text": [
      "[I 2023-10-10 00:28:56,205] Trial 87 finished with value: 0.29543684236705303 and parameters: {'lr': 0.00010886322111137767, 'dropout_prob': 0.2812747049180398, 'hidden_channels': 73, 'n_layers': 7, 'kernel_size': 8, 'stride': 1, 'padding': 3, 'pooling_type': 'avg', 'use_batch_norm': True}. Best is trial 45 with value: 0.260076941922307.\n"
     ]
    },
    {
     "name": "stdout",
     "output_type": "stream",
     "text": [
      "Epoch 50/50, Training Loss: 0.16150559076378423, Validation Loss: 0.29543684236705303\n",
      "Epoch 10/50, Training Loss: 0.35959114951472126, Validation Loss: 0.3551759831607342\n",
      "Epoch 20/50, Training Loss: 0.27188857212182016, Validation Loss: 0.2990632951259613\n",
      "Epoch 30/50, Training Loss: 0.2297727249322399, Validation Loss: 0.29235287941992283\n",
      "Epoch 40/50, Training Loss: 0.19169915924149175, Validation Loss: 0.28509276919066906\n"
     ]
    },
    {
     "name": "stderr",
     "output_type": "stream",
     "text": [
      "[I 2023-10-10 00:31:50,979] Trial 88 finished with value: 0.2984860222786665 and parameters: {'lr': 5.7300369860518335e-05, 'dropout_prob': 0.31233050807524904, 'hidden_channels': 118, 'n_layers': 6, 'kernel_size': 9, 'stride': 1, 'padding': 4, 'pooling_type': 'avg', 'use_batch_norm': True}. Best is trial 45 with value: 0.260076941922307.\n"
     ]
    },
    {
     "name": "stdout",
     "output_type": "stream",
     "text": [
      "Epoch 50/50, Training Loss: 0.15806722160308592, Validation Loss: 0.2984860222786665\n",
      "Epoch 10/50, Training Loss: 0.39597385737203783, Validation Loss: 0.37604014948010445\n",
      "Epoch 20/50, Training Loss: 0.3077126270340335, Validation Loss: 0.30873696878552437\n",
      "Epoch 30/50, Training Loss: 0.25785821243639917, Validation Loss: 0.2740514725446701\n",
      "Epoch 40/50, Training Loss: 0.22724966416435857, Validation Loss: 0.28529494628310204\n"
     ]
    },
    {
     "name": "stderr",
     "output_type": "stream",
     "text": [
      "[I 2023-10-10 00:33:39,075] Trial 89 finished with value: 0.3147694990038872 and parameters: {'lr': 6.51934968840344e-05, 'dropout_prob': 0.22792891557606887, 'hidden_channels': 100, 'n_layers': 7, 'kernel_size': 6, 'stride': 1, 'padding': 1, 'pooling_type': 'avg', 'use_batch_norm': True}. Best is trial 45 with value: 0.260076941922307.\n"
     ]
    },
    {
     "name": "stdout",
     "output_type": "stream",
     "text": [
      "Epoch 50/50, Training Loss: 0.2117678133710738, Validation Loss: 0.3147694990038872\n"
     ]
    },
    {
     "name": "stderr",
     "output_type": "stream",
     "text": [
      "[I 2023-10-10 00:33:40,100] Trial 90 finished with value: 1.0 and parameters: {'lr': 4.01060576239811e-05, 'dropout_prob': 0.27080877864854247, 'hidden_channels': 143, 'n_layers': 7, 'kernel_size': 9, 'stride': 2, 'padding': 3, 'pooling_type': 'avg', 'use_batch_norm': True}. Best is trial 45 with value: 0.260076941922307.\n"
     ]
    },
    {
     "name": "stdout",
     "output_type": "stream",
     "text": [
      "Trial failed with error: Calculated padded input size per channel: (7). Kernel size: (9). Kernel size can't be greater than actual input size\n",
      "Epoch 10/50, Training Loss: 0.40666502521884057, Validation Loss: 0.3955460488796234\n",
      "Epoch 20/50, Training Loss: 0.3094200020836246, Validation Loss: 0.32400548085570335\n",
      "Epoch 30/50, Training Loss: 0.2651209542828222, Validation Loss: 0.28641962073743343\n",
      "Epoch 40/50, Training Loss: 0.22637014619765744, Validation Loss: 0.273996252566576\n"
     ]
    },
    {
     "name": "stderr",
     "output_type": "stream",
     "text": [
      "[I 2023-10-10 00:35:26,092] Trial 91 finished with value: 0.2739775273948908 and parameters: {'lr': 4.466478837847312e-05, 'dropout_prob': 0.26650647520785, 'hidden_channels': 93, 'n_layers': 7, 'kernel_size': 9, 'stride': 1, 'padding': 1, 'pooling_type': 'avg', 'use_batch_norm': True}. Best is trial 45 with value: 0.260076941922307.\n"
     ]
    },
    {
     "name": "stdout",
     "output_type": "stream",
     "text": [
      "Epoch 50/50, Training Loss: 0.207975979774229, Validation Loss: 0.2739775273948908\n",
      "Epoch 10/50, Training Loss: 0.39975360612715444, Validation Loss: 0.3926410935819149\n",
      "Epoch 20/50, Training Loss: 0.3107541953363726, Validation Loss: 0.30736930295825005\n",
      "Epoch 30/50, Training Loss: 0.2641002338740133, Validation Loss: 0.2834295853972435\n",
      "Epoch 40/50, Training Loss: 0.23596530720110862, Validation Loss: 0.2730246093124151\n"
     ]
    },
    {
     "name": "stderr",
     "output_type": "stream",
     "text": [
      "[I 2023-10-10 00:37:01,966] Trial 92 finished with value: 0.2852829210460186 and parameters: {'lr': 4.55025287421427e-05, 'dropout_prob': 0.24971152363593332, 'hidden_channels': 83, 'n_layers': 7, 'kernel_size': 9, 'stride': 1, 'padding': 1, 'pooling_type': 'avg', 'use_batch_norm': True}. Best is trial 45 with value: 0.260076941922307.\n"
     ]
    },
    {
     "name": "stdout",
     "output_type": "stream",
     "text": [
      "Epoch 50/50, Training Loss: 0.21405946607551268, Validation Loss: 0.2852829210460186\n",
      "Epoch 10/50, Training Loss: 0.36757074248406196, Validation Loss: 0.365394901484251\n",
      "Epoch 20/50, Training Loss: 0.27275348142270117, Validation Loss: 0.28461297042667866\n",
      "Epoch 30/50, Training Loss: 0.23415417488544218, Validation Loss: 0.2720065116882324\n",
      "Epoch 40/50, Training Loss: 0.21282609239701303, Validation Loss: 0.27367902733385563\n"
     ]
    },
    {
     "name": "stderr",
     "output_type": "stream",
     "text": [
      "[I 2023-10-10 00:38:47,932] Trial 93 finished with value: 0.27276098169386387 and parameters: {'lr': 5.586598189619723e-05, 'dropout_prob': 0.26233061851445727, 'hidden_channels': 90, 'n_layers': 7, 'kernel_size': 9, 'stride': 1, 'padding': 2, 'pooling_type': 'avg', 'use_batch_norm': True}. Best is trial 45 with value: 0.260076941922307.\n"
     ]
    },
    {
     "name": "stdout",
     "output_type": "stream",
     "text": [
      "Epoch 50/50, Training Loss: 0.18530737488500534, Validation Loss: 0.27276098169386387\n",
      "Epoch 10/50, Training Loss: 0.3406256350778764, Validation Loss: 0.35515188053250313\n",
      "Epoch 20/50, Training Loss: 0.27063219729931126, Validation Loss: 0.2909475788474083\n",
      "Epoch 30/50, Training Loss: 0.225643158439667, Validation Loss: 0.2615168672055006\n",
      "Epoch 40/50, Training Loss: 0.19726754340433306, Validation Loss: 0.24858183972537518\n"
     ]
    },
    {
     "name": "stderr",
     "output_type": "stream",
     "text": [
      "[I 2023-10-10 00:40:14,697] Trial 94 finished with value: 0.26394921354949474 and parameters: {'lr': 8.556832102992731e-05, 'dropout_prob': 0.29994551170371075, 'hidden_channels': 76, 'n_layers': 7, 'kernel_size': 9, 'stride': 1, 'padding': 2, 'pooling_type': 'avg', 'use_batch_norm': True}. Best is trial 45 with value: 0.260076941922307.\n"
     ]
    },
    {
     "name": "stdout",
     "output_type": "stream",
     "text": [
      "Epoch 50/50, Training Loss: 0.16804716856248916, Validation Loss: 0.26394921354949474\n",
      "Epoch 10/50, Training Loss: 0.3369030596748475, Validation Loss: 0.3334719277918339\n",
      "Epoch 20/50, Training Loss: 0.2354701925669947, Validation Loss: 0.2893125284463167\n",
      "Epoch 30/50, Training Loss: 0.203976099529574, Validation Loss: 0.26663410291075706\n",
      "Epoch 40/50, Training Loss: 0.16083339409482095, Validation Loss: 0.27808078564703465\n"
     ]
    },
    {
     "name": "stderr",
     "output_type": "stream",
     "text": [
      "[I 2023-10-10 00:42:34,483] Trial 95 finished with value: 0.32164152152836323 and parameters: {'lr': 8.448324808102981e-05, 'dropout_prob': 0.28026217736613995, 'hidden_channels': 107, 'n_layers': 7, 'kernel_size': 9, 'stride': 1, 'padding': 2, 'pooling_type': 'avg', 'use_batch_norm': True}. Best is trial 45 with value: 0.260076941922307.\n"
     ]
    },
    {
     "name": "stdout",
     "output_type": "stream",
     "text": [
      "Epoch 50/50, Training Loss: 0.13104386219093878, Validation Loss: 0.32164152152836323\n",
      "Epoch 10/50, Training Loss: 0.36061250586663524, Validation Loss: 0.35096941515803337\n",
      "Epoch 20/50, Training Loss: 0.2803816357927938, Validation Loss: 0.29911368153989315\n",
      "Epoch 30/50, Training Loss: 0.22943994354817174, Validation Loss: 0.27712127566337585\n",
      "Epoch 40/50, Training Loss: 0.20415855655747076, Validation Loss: 0.28443909250199795\n"
     ]
    },
    {
     "name": "stderr",
     "output_type": "stream",
     "text": [
      "[I 2023-10-10 00:44:02,373] Trial 96 finished with value: 0.2742516789585352 and parameters: {'lr': 7.347211725212884e-05, 'dropout_prob': 0.29500520715762873, 'hidden_channels': 76, 'n_layers': 7, 'kernel_size': 9, 'stride': 1, 'padding': 2, 'pooling_type': 'avg', 'use_batch_norm': True}. Best is trial 45 with value: 0.260076941922307.\n"
     ]
    },
    {
     "name": "stdout",
     "output_type": "stream",
     "text": [
      "Epoch 50/50, Training Loss: 0.18505313704090734, Validation Loss: 0.2742516789585352\n",
      "Epoch 10/50, Training Loss: 0.3155242973758328, Validation Loss: 0.3141717351973057\n",
      "Epoch 20/50, Training Loss: 0.23365334397362125, Validation Loss: 0.29115929640829563\n",
      "Epoch 30/50, Training Loss: 0.17393358580527768, Validation Loss: 0.30058199539780617\n",
      "Epoch 40/50, Training Loss: 0.14182987857249477, Validation Loss: 0.3267876207828522\n"
     ]
    },
    {
     "name": "stderr",
     "output_type": "stream",
     "text": [
      "[I 2023-10-10 00:45:49,027] Trial 97 finished with value: 0.3907764405012131 and parameters: {'lr': 0.0001243519027334947, 'dropout_prob': 0.3285091742442762, 'hidden_channels': 90, 'n_layers': 6, 'kernel_size': 9, 'stride': 1, 'padding': 2, 'pooling_type': 'avg', 'use_batch_norm': True}. Best is trial 45 with value: 0.260076941922307.\n"
     ]
    },
    {
     "name": "stdout",
     "output_type": "stream",
     "text": [
      "Epoch 50/50, Training Loss: 0.1078051952344756, Validation Loss: 0.3907764405012131\n"
     ]
    },
    {
     "name": "stderr",
     "output_type": "stream",
     "text": [
      "[I 2023-10-10 00:45:49,894] Trial 98 finished with value: 1.0 and parameters: {'lr': 5.915109209376026e-05, 'dropout_prob': 0.3111944223840047, 'hidden_channels': 64, 'n_layers': 7, 'kernel_size': 9, 'stride': 2, 'padding': 3, 'pooling_type': 'avg', 'use_batch_norm': True}. Best is trial 45 with value: 0.260076941922307.\n"
     ]
    },
    {
     "name": "stdout",
     "output_type": "stream",
     "text": [
      "Trial failed with error: Calculated padded input size per channel: (7). Kernel size: (9). Kernel size can't be greater than actual input size\n",
      "Epoch 10/50, Training Loss: 0.3862366435989257, Validation Loss: 0.37433938309550285\n",
      "Epoch 20/50, Training Loss: 0.31530202540659136, Validation Loss: 0.3271140493452549\n",
      "Epoch 30/50, Training Loss: 0.2646079322984142, Validation Loss: 0.29505973868072033\n",
      "Epoch 40/50, Training Loss: 0.235446093303542, Validation Loss: 0.26540537364780903\n"
     ]
    },
    {
     "name": "stderr",
     "output_type": "stream",
     "text": [
      "[I 2023-10-10 00:46:53,047] Trial 99 finished with value: 0.26858755201101303 and parameters: {'lr': 9.65345922198704e-05, 'dropout_prob': 0.34043373377596814, 'hidden_channels': 52, 'n_layers': 7, 'kernel_size': 9, 'stride': 1, 'padding': 2, 'pooling_type': 'avg', 'use_batch_norm': True}. Best is trial 45 with value: 0.260076941922307.\n"
     ]
    },
    {
     "name": "stdout",
     "output_type": "stream",
     "text": [
      "Epoch 50/50, Training Loss: 0.20971207032280584, Validation Loss: 0.26858755201101303\n"
     ]
    }
   ],
   "source": [
    "# Create an Optuna study with SQLite storage and TPE pruner\n",
    "study = optuna.create_study(\n",
    "    study_name=\"Case#6: Acceleration Merged\",\n",
    "    direction=\"minimize\",  # Minimize final validation loss\n",
    "    storage=\"sqlite:///../../database_sqllite//db.sqlite3\",\n",
    "    pruner=optuna.pruners.MedianPruner(n_warmup_steps=5),  \n",
    ")\n",
    "\n",
    "# Define the number of trials (hyperparameter combinations) you want to search\n",
    "num_trials = 100  \n",
    "\n",
    "# Perform hyperparameter optimization\n",
    "study.optimize(objective, n_trials=num_trials, n_jobs=1)"
   ]
  },
  {
   "cell_type": "code",
   "execution_count": 9,
   "metadata": {},
   "outputs": [
    {
     "name": "stdout",
     "output_type": "stream",
     "text": [
      "Best hyperparameters:\n",
      "{'lr': 5.254953458372508e-05, 'dropout_prob': 0.2838690767038667, 'hidden_channels': 63, 'n_layers': 7, 'kernel_size': 9, 'stride': 1, 'padding': 3, 'pooling_type': 'avg', 'use_batch_norm': True}\n",
      "Best final validation loss:\n",
      "0.260076941922307\n"
     ]
    }
   ],
   "source": [
    "# Print the best hyperparameters and their associated final validation loss\n",
    "print(\"Best hyperparameters:\")\n",
    "print(study.best_params)\n",
    "print(\"Best final validation loss:\")\n",
    "print(study.best_value)"
   ]
  },
  {
   "cell_type": "code",
   "execution_count": 10,
   "metadata": {},
   "outputs": [],
   "source": [
    "# Specify the path where you want to save the JSON file\n",
    "config_file_path = \"../best_configs/acc_merged_best_configs.json\"\n",
    "\n",
    "# Save the best hyperparameters and validation loss to a JSON file\n",
    "best_configs = {\n",
    "    \"best_params\": study.best_params,\n",
    "    \"best_value\": study.best_value,\n",
    "}\n",
    "\n",
    "with open(config_file_path, \"w\") as config_file:\n",
    "    json.dump(best_configs, config_file)"
   ]
  },
  {
   "cell_type": "code",
   "execution_count": 11,
   "metadata": {},
   "outputs": [],
   "source": [
    "# Load the saved configuration\n",
    "with open(config_file_path, \"r\") as config_file:\n",
    "    saved_configs = json.load(config_file)\n",
    "\n",
    "# Compare the new best value with the saved one\n",
    "if study.best_value < saved_configs[\"best_value\"]:\n",
    "    print(\"New best value found. Replacing saved configuration.\")\n",
    "    saved_configs[\"best_params\"] = study.best_params\n",
    "    saved_configs[\"best_value\"] = study.best_value\n",
    "\n",
    "    # Update the saved configuration file\n",
    "    with open(config_file_path, \"w\") as config_file:\n",
    "        json.dump(saved_configs, config_file)"
   ]
  },
  {
   "cell_type": "code",
   "execution_count": 14,
   "metadata": {},
   "outputs": [],
   "source": [
    "# Save the best hyperparameters and validation loss to a JSON file\n",
    "best_configs = {\n",
    "    \"best_params\": study.best_params,\n",
    "    \"best_value\": study.best_value,\n",
    "}\n",
    "\n",
    "with open(config_file_path, \"w\") as config_file:\n",
    "    json.dump(best_configs, config_file)"
   ]
  },
  {
   "cell_type": "markdown",
   "metadata": {},
   "source": [
    "# Thank You"
   ]
  }
 ],
 "metadata": {
  "kernelspec": {
   "display_name": ".aifaps",
   "language": "python",
   "name": "python3"
  },
  "language_info": {
   "codemirror_mode": {
    "name": "ipython",
    "version": 3
   },
   "file_extension": ".py",
   "mimetype": "text/x-python",
   "name": "python",
   "nbconvert_exporter": "python",
   "pygments_lexer": "ipython3",
   "version": "3.11.4"
  },
  "orig_nbformat": 4
 },
 "nbformat": 4,
 "nbformat_minor": 2
}
