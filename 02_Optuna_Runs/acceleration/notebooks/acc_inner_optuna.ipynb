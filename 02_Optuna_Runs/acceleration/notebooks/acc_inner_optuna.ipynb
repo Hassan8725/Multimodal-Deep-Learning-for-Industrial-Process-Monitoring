{
 "cells": [
  {
   "cell_type": "code",
   "execution_count": 2,
   "metadata": {},
   "outputs": [],
   "source": [
    "#---import libraries relating to data manipulation, visualization---------------------------------------------------\n",
    "import pandas as pd\n",
    "%matplotlib inline\n",
    "import numpy as np\n",
    "import json\n",
    "\n",
    "\n",
    "#-------import libraries to evaluate the deep learning model---------------------------------------------------------------\n",
    "from sklearn.model_selection import train_test_split\n",
    "\n",
    "\n",
    "import warnings\n",
    "warnings.filterwarnings('ignore')\n",
    "\n",
    "#------ import Deep Learning Libraries-------#\n",
    "\n",
    "import torch\n",
    "import torch.nn as nn\n",
    "import torch.optim as optim\n",
    "\n",
    "import optuna\n",
    "from optuna.trial import Trial\n",
    "\n",
    "import pickle\n",
    "\n",
    "\n",
    "pd.set_option('display.max_columns', None)\n",
    "pd.set_option(\"max_colwidth\", None)\n",
    "\n",
    "import sys\n",
    "sys.path.append('../../../src')  # Add the 'src' directory to the path\n",
    "\n",
    "#### Import Data Loading and Processing Functions\n",
    "from multimodal.helper_functions import   reproducible_comp,  get_final_df\n",
    "from multimodal.model_architecture import Generic1DCNN\n",
    "reproducible_comp()"
   ]
  },
  {
   "cell_type": "code",
   "execution_count": 4,
   "metadata": {},
   "outputs": [
    {
     "name": "stdout",
     "output_type": "stream",
     "text": [
      "Features Shape:  (1350, 3)\n",
      "Labels Shape:  (1350, 4)\n"
     ]
    }
   ],
   "source": [
    "file_path = \"../../../data/processed_data/acc_inner.pkl\"\n",
    "with open(file_path, 'rb') as picklefile:\n",
    "    data = pickle.load(picklefile)\n",
    "\n",
    "features_acc_inner, category_acc_inner, category_names, df_acc_inner = get_final_df(data, is_acc_data=1, is_multilabel=1)\n",
    "\n",
    "labels = category_acc_inner.copy()\n",
    "features=features_acc_inner.copy()\n",
    "print(\"Features Shape: \", features.shape)\n",
    "print(\"Labels Shape: \", labels.shape)"
   ]
  },
  {
   "cell_type": "code",
   "execution_count": 6,
   "metadata": {},
   "outputs": [],
   "source": [
    "max_length = 500\n",
    "\n",
    "for i in range (len(features)):\n",
    "    if(len(features[i][0]<max_length)):\n",
    "        features[i][0]=np.pad(features[i][0], (0,max_length-len(features[i][0])), 'constant', constant_values=(0))\n",
    "        \n",
    "    if(len(features[i][1]<max_length)):\n",
    "        features[i][1]=np.pad(features[i][1], (0,max_length-len(features[i][1])), 'constant', constant_values=(0))\n",
    "    \n",
    "    if(len(features[i][2]<max_length)):\n",
    "        features[i][2]=np.pad(features[i][2], (0,max_length-len(features[i][2])), 'constant', constant_values=(0))"
   ]
  },
  {
   "cell_type": "code",
   "execution_count": 7,
   "metadata": {},
   "outputs": [
    {
     "name": "stdout",
     "output_type": "stream",
     "text": [
      "Updated Features Shape:  (1350, 1500)\n"
     ]
    }
   ],
   "source": [
    "feat= np.zeros(len(features)*3*max_length).reshape(-1, 3*max_length)\n",
    "for i in range(len(features)):\n",
    "    feat[i]= np.concatenate((features[i][0],features[i][1], features[i][2]), axis=None)\n",
    "    \n",
    "\n",
    "print(\"Updated Features Shape: \", feat.shape)"
   ]
  },
  {
   "cell_type": "code",
   "execution_count": 8,
   "metadata": {},
   "outputs": [],
   "source": [
    "X_train, X_test, y_train, y_test = train_test_split(feat, labels, test_size=0.1, \n",
    "                                                    random_state=2, shuffle=True, stratify=labels)"
   ]
  },
  {
   "cell_type": "code",
   "execution_count": 9,
   "metadata": {},
   "outputs": [
    {
     "name": "stdout",
     "output_type": "stream",
     "text": [
      "(1215, 1, 1500)\n",
      "(1215, 4)\n",
      "(135, 1, 1500)\n",
      "(135, 4)\n"
     ]
    }
   ],
   "source": [
    "X_train = X_train.reshape(-1, 1, feat.shape[1])\n",
    "X_test = X_test.reshape(-1, 1, feat.shape[1])\n",
    "\n",
    "print(X_train.shape)\n",
    "print(y_train.shape)\n",
    "print(X_test.shape)\n",
    "print(y_test.shape)"
   ]
  },
  {
   "cell_type": "code",
   "execution_count": 10,
   "metadata": {},
   "outputs": [],
   "source": [
    "from torch.utils.data import DataLoader, TensorDataset\n",
    "\n",
    "# Convert your data to PyTorch tensors\n",
    "x_train = torch.tensor(X_train, dtype=torch.float32)\n",
    "y_train = torch.tensor(y_train, dtype=torch.long)\n",
    "\n",
    "input_channels = 1\n",
    "num_classes = 4\n",
    "\n",
    "device = torch.device(\"cuda\" if torch.cuda.is_available() else \"cpu\")\n",
    "\n",
    "# Define the objective function for hyperparameter optimization\n",
    "def objective(trial: Trial):\n",
    "    try:\n",
    "        # Define hyperparameters to search for\n",
    "        lr = trial.suggest_loguniform(\"lr\", 1e-5, 1e-2)  # Suggest a learning rate in log scale\n",
    "        dropout_prob = trial.suggest_float(\"dropout_prob\", 0.0, 0.5)\n",
    "        hidden_channels = trial.suggest_int(\"hidden_channels\", 16, 256)\n",
    "        n_layers = trial.suggest_int(\"n_layers\", 1, 7)\n",
    "        kernel_size = trial.suggest_int(\"kernel_size\", 3, 9)\n",
    "        stride = trial.suggest_int(\"stride\", 1, 7)\n",
    "        padding = trial.suggest_int(\"padding\", 1, 10)\n",
    "        pooling_type = trial.suggest_categorical(\"pooling_type\", [\"max\", \"avg\"])  \n",
    "        use_batch_norm = trial.suggest_categorical(\"use_batch_norm\", [True, False]) \n",
    "\n",
    "\n",
    "        # Split the data into training and validation sets\n",
    "        x_train_split, x_valid_split, y_train_split, y_valid_split = train_test_split(\n",
    "            x_train, y_train, test_size=0.2, random_state=42\n",
    "        )\n",
    "\n",
    "        train_dataset = TensorDataset(x_train_split, y_train_split)\n",
    "        valid_dataset = TensorDataset(x_valid_split, y_valid_split)\n",
    "\n",
    "        train_loader = DataLoader(train_dataset, batch_size=64, shuffle=True)\n",
    "        valid_loader = DataLoader(valid_dataset, batch_size=64, shuffle=False)\n",
    "\n",
    "        # Create the model with the suggested hyperparameters\n",
    "        model = Generic1DCNN(input_channels, num_classes, n_layers, kernel_size, stride, padding,\n",
    "                            hidden_channels, dropout_prob, pooling_type, use_batch_norm).to(device)\n",
    "\n",
    "        criterion = nn.BCEWithLogitsLoss()\n",
    "        optimizer = optim.Adam(model.parameters(), lr=lr)\n",
    "\n",
    "        num_epochs = 50\n",
    "\n",
    "        model.train()\n",
    "        for epoch in range(num_epochs):\n",
    "            # Training loop\n",
    "            running_loss = 0.0\n",
    "            for inputs, labels in train_loader:\n",
    "                inputs, labels = inputs.to(device), labels.to(device)\n",
    "\n",
    "                optimizer.zero_grad()\n",
    "\n",
    "                outputs = model(inputs)\n",
    "                loss = criterion(outputs, labels.float())\n",
    "                loss.backward()\n",
    "                optimizer.step()\n",
    "\n",
    "                running_loss += loss.item()\n",
    "\n",
    "            train_loss = running_loss / len(train_loader)\n",
    "\n",
    "            # Validation loss calculation (similar to training loop)\n",
    "            model.eval()\n",
    "            valid_loss = 0.0\n",
    "            with torch.no_grad():\n",
    "                for inputs_valid, labels_valid in valid_loader:\n",
    "                    inputs_valid, labels_valid = inputs_valid.to(device), labels_valid.to(device)\n",
    "                    outputs_valid = model(inputs_valid)\n",
    "                    loss_valid = criterion(outputs_valid, labels_valid.float())\n",
    "                    valid_loss += loss_valid.item()\n",
    "\n",
    "            valid_loss = valid_loss / len(valid_loader)\n",
    "            if (epoch + 1) % 10 == 0:\n",
    "                print(f\"Epoch {epoch + 1}/{num_epochs}, Training Loss: {train_loss}, Validation Loss: {valid_loss}\")\n",
    "\n",
    "        # Calculate and return the final validation loss\n",
    "        return valid_loss\n",
    "    \n",
    "    except Exception as e:\n",
    "        # Print the error for debugging purposes (optional)\n",
    "        print(f\"Trial failed with error: {e}\")\n",
    "\n",
    "        # Return a high validation loss to indicate failure\n",
    "        return 1.0  # High validation loss\n",
    "    \n"
   ]
  },
  {
   "cell_type": "code",
   "execution_count": 11,
   "metadata": {},
   "outputs": [
    {
     "name": "stderr",
     "output_type": "stream",
     "text": [
      "[I 2023-10-09 17:48:49,674] A new study created in RDB with name: Case#4: Acceleration Inner\n"
     ]
    },
    {
     "name": "stdout",
     "output_type": "stream",
     "text": [
      "Epoch 10/50, Training Loss: 0.3968174681067467, Validation Loss: 0.4001191556453705\n",
      "Epoch 20/50, Training Loss: 0.31388004682958126, Validation Loss: 0.3330627456307411\n",
      "Epoch 30/50, Training Loss: 0.20432480797171593, Validation Loss: 0.3121752440929413\n",
      "Epoch 40/50, Training Loss: 0.17888879496604204, Validation Loss: 0.3009425327181816\n"
     ]
    },
    {
     "name": "stderr",
     "output_type": "stream",
     "text": [
      "[I 2023-10-09 17:49:42,006] Trial 0 finished with value: 0.36313892155885696 and parameters: {'lr': 0.0007978607177258467, 'dropout_prob': 0.48463239206933706, 'hidden_channels': 183, 'n_layers': 5, 'kernel_size': 5, 'stride': 3, 'padding': 10, 'pooling_type': 'max', 'use_batch_norm': False}. Best is trial 0 with value: 0.36313892155885696.\n"
     ]
    },
    {
     "name": "stdout",
     "output_type": "stream",
     "text": [
      "Epoch 50/50, Training Loss: 0.12375963758677244, Validation Loss: 0.36313892155885696\n",
      "Epoch 10/50, Training Loss: 0.579501960426569, Validation Loss: 0.5861624181270599\n",
      "Epoch 20/50, Training Loss: 0.4677633661776781, Validation Loss: 0.4728834629058838\n",
      "Epoch 30/50, Training Loss: 0.3753711674362421, Validation Loss: 0.40757355093955994\n",
      "Epoch 40/50, Training Loss: 0.31639768928289413, Validation Loss: 0.37517624348402023\n"
     ]
    },
    {
     "name": "stderr",
     "output_type": "stream",
     "text": [
      "[I 2023-10-09 17:50:04,697] Trial 1 finished with value: 0.3542170152068138 and parameters: {'lr': 0.0003711651291173978, 'dropout_prob': 0.4132796088773777, 'hidden_channels': 223, 'n_layers': 2, 'kernel_size': 6, 'stride': 7, 'padding': 9, 'pooling_type': 'avg', 'use_batch_norm': True}. Best is trial 1 with value: 0.3542170152068138.\n"
     ]
    },
    {
     "name": "stdout",
     "output_type": "stream",
     "text": [
      "Epoch 50/50, Training Loss: 0.2656886950135231, Validation Loss: 0.3542170152068138\n",
      "Epoch 10/50, Training Loss: 0.45983753353357315, Validation Loss: 0.46099337190389633\n",
      "Epoch 20/50, Training Loss: 0.3840221967548132, Validation Loss: 0.44743116945028305\n",
      "Epoch 30/50, Training Loss: 0.29893696028739214, Validation Loss: 0.49104125797748566\n",
      "Epoch 40/50, Training Loss: 0.2112313462421298, Validation Loss: 0.6067985594272614\n"
     ]
    },
    {
     "name": "stderr",
     "output_type": "stream",
     "text": [
      "[I 2023-10-09 17:50:26,985] Trial 2 finished with value: 0.7597023099660873 and parameters: {'lr': 0.004313588222860275, 'dropout_prob': 0.2968670195422458, 'hidden_channels': 255, 'n_layers': 3, 'kernel_size': 3, 'stride': 6, 'padding': 2, 'pooling_type': 'max', 'use_batch_norm': False}. Best is trial 1 with value: 0.3542170152068138.\n"
     ]
    },
    {
     "name": "stdout",
     "output_type": "stream",
     "text": [
      "Epoch 50/50, Training Loss: 0.1436338573694229, Validation Loss: 0.7597023099660873\n",
      "Epoch 10/50, Training Loss: 0.1945339422672987, Validation Loss: 0.42338480055332184\n",
      "Epoch 20/50, Training Loss: 0.00906459242105484, Validation Loss: 0.8199219554662704\n",
      "Epoch 30/50, Training Loss: 0.000652851975246449, Validation Loss: 1.0622687190771103\n",
      "Epoch 40/50, Training Loss: 0.00029521070609916933, Validation Loss: 1.1616535782814026\n"
     ]
    },
    {
     "name": "stderr",
     "output_type": "stream",
     "text": [
      "[I 2023-10-09 17:50:44,115] Trial 3 finished with value: 1.2304175794124603 and parameters: {'lr': 0.004218435077830822, 'dropout_prob': 0.1908319227696877, 'hidden_channels': 109, 'n_layers': 3, 'kernel_size': 5, 'stride': 6, 'padding': 8, 'pooling_type': 'max', 'use_batch_norm': True}. Best is trial 1 with value: 0.3542170152068138.\n"
     ]
    },
    {
     "name": "stdout",
     "output_type": "stream",
     "text": [
      "Epoch 50/50, Training Loss: 0.00018367848770139972, Validation Loss: 1.2304175794124603\n",
      "Epoch 10/50, Training Loss: 0.6490211449563503, Validation Loss: 0.649391382932663\n",
      "Epoch 20/50, Training Loss: 0.6088004969060421, Validation Loss: 0.6190871447324753\n",
      "Epoch 30/50, Training Loss: 0.5871162712574005, Validation Loss: 0.5983646064996719\n",
      "Epoch 40/50, Training Loss: 0.558404941111803, Validation Loss: 0.5675649642944336\n"
     ]
    },
    {
     "name": "stderr",
     "output_type": "stream",
     "text": [
      "[I 2023-10-09 17:51:25,849] Trial 4 finished with value: 0.5323865711688995 and parameters: {'lr': 6.130874107915657e-05, 'dropout_prob': 0.14011469023750095, 'hidden_channels': 202, 'n_layers': 2, 'kernel_size': 6, 'stride': 3, 'padding': 8, 'pooling_type': 'avg', 'use_batch_norm': True}. Best is trial 1 with value: 0.3542170152068138.\n"
     ]
    },
    {
     "name": "stdout",
     "output_type": "stream",
     "text": [
      "Epoch 50/50, Training Loss: 0.5213158298283815, Validation Loss: 0.5323865711688995\n",
      "Epoch 10/50, Training Loss: 0.4136876482516527, Validation Loss: 0.4194725826382637\n",
      "Epoch 20/50, Training Loss: 0.2646237714216113, Validation Loss: 0.34426911175251007\n",
      "Epoch 30/50, Training Loss: 0.19189811963588, Validation Loss: 0.34078676998615265\n",
      "Epoch 40/50, Training Loss: 0.11474322527647018, Validation Loss: 0.37168965488672256\n"
     ]
    },
    {
     "name": "stderr",
     "output_type": "stream",
     "text": [
      "[I 2023-10-09 17:51:35,340] Trial 5 finished with value: 0.41619618237018585 and parameters: {'lr': 0.001705231168302982, 'dropout_prob': 0.47653601866230305, 'hidden_channels': 75, 'n_layers': 2, 'kernel_size': 8, 'stride': 6, 'padding': 5, 'pooling_type': 'avg', 'use_batch_norm': True}. Best is trial 1 with value: 0.3542170152068138.\n"
     ]
    },
    {
     "name": "stdout",
     "output_type": "stream",
     "text": [
      "Epoch 50/50, Training Loss: 0.06418975302949548, Validation Loss: 0.41619618237018585\n",
      "Epoch 10/50, Training Loss: 0.37231095880270004, Validation Loss: 0.41118937730789185\n",
      "Epoch 20/50, Training Loss: 0.24485423136502504, Validation Loss: 0.3932325169444084\n",
      "Epoch 30/50, Training Loss: 0.1949825892224908, Validation Loss: 0.4003399834036827\n",
      "Epoch 40/50, Training Loss: 0.13545981422066689, Validation Loss: 0.39462079107761383\n"
     ]
    },
    {
     "name": "stderr",
     "output_type": "stream",
     "text": [
      "[I 2023-10-09 17:51:50,332] Trial 6 finished with value: 0.5957877710461617 and parameters: {'lr': 0.004172937926782915, 'dropout_prob': 0.40770995084724027, 'hidden_channels': 121, 'n_layers': 4, 'kernel_size': 5, 'stride': 4, 'padding': 4, 'pooling_type': 'avg', 'use_batch_norm': False}. Best is trial 1 with value: 0.3542170152068138.\n"
     ]
    },
    {
     "name": "stdout",
     "output_type": "stream",
     "text": [
      "Epoch 50/50, Training Loss: 0.07494192384183407, Validation Loss: 0.5957877710461617\n",
      "Epoch 10/50, Training Loss: 0.6281902566552162, Validation Loss: 0.6374351382255554\n",
      "Epoch 20/50, Training Loss: 0.6274395100772381, Validation Loss: 0.6374076008796692\n",
      "Epoch 30/50, Training Loss: 0.6286026611924171, Validation Loss: 0.638526663184166\n",
      "Epoch 40/50, Training Loss: 0.6245457120239735, Validation Loss: 0.63798388838768\n"
     ]
    },
    {
     "name": "stderr",
     "output_type": "stream",
     "text": [
      "[I 2023-10-09 17:52:04,133] Trial 7 finished with value: 0.6377163976430893 and parameters: {'lr': 0.0008993570887210293, 'dropout_prob': 0.29261303179628145, 'hidden_channels': 78, 'n_layers': 7, 'kernel_size': 3, 'stride': 6, 'padding': 7, 'pooling_type': 'avg', 'use_batch_norm': True}. Best is trial 1 with value: 0.3542170152068138.\n"
     ]
    },
    {
     "name": "stdout",
     "output_type": "stream",
     "text": [
      "Epoch 50/50, Training Loss: 0.6273596286773682, Validation Loss: 0.6377163976430893\n",
      "Epoch 10/50, Training Loss: 0.49881937354803085, Validation Loss: 0.48872770369052887\n",
      "Epoch 20/50, Training Loss: 0.4257110133767128, Validation Loss: 0.43499606102705\n",
      "Epoch 30/50, Training Loss: 0.3910363558679819, Validation Loss: 0.41053128987550735\n",
      "Epoch 40/50, Training Loss: 0.37202049791812897, Validation Loss: 0.3869991600513458\n"
     ]
    },
    {
     "name": "stderr",
     "output_type": "stream",
     "text": [
      "[I 2023-10-09 17:52:54,291] Trial 8 finished with value: 0.365961529314518 and parameters: {'lr': 0.0001270914045547962, 'dropout_prob': 0.4939785530044451, 'hidden_channels': 203, 'n_layers': 4, 'kernel_size': 8, 'stride': 5, 'padding': 9, 'pooling_type': 'max', 'use_batch_norm': False}. Best is trial 1 with value: 0.3542170152068138.\n"
     ]
    },
    {
     "name": "stdout",
     "output_type": "stream",
     "text": [
      "Epoch 50/50, Training Loss: 0.33014795184135437, Validation Loss: 0.365961529314518\n"
     ]
    },
    {
     "name": "stderr",
     "output_type": "stream",
     "text": [
      "[I 2023-10-09 17:52:55,038] Trial 9 finished with value: 1.0 and parameters: {'lr': 2.132138544250187e-05, 'dropout_prob': 0.42789749899983587, 'hidden_channels': 39, 'n_layers': 4, 'kernel_size': 5, 'stride': 5, 'padding': 3, 'pooling_type': 'max', 'use_batch_norm': True}. Best is trial 1 with value: 0.3542170152068138.\n"
     ]
    },
    {
     "name": "stdout",
     "output_type": "stream",
     "text": [
      "Trial failed with error: max_pool1d() Invalid computed output size: 0\n",
      "Epoch 10/50, Training Loss: 0.6389580816030502, Validation Loss: 0.6417534649372101\n",
      "Epoch 20/50, Training Loss: 0.6236077584326267, Validation Loss: 0.6334042698144913\n",
      "Epoch 30/50, Training Loss: 0.6160179115831852, Validation Loss: 0.6287582665681839\n",
      "Epoch 40/50, Training Loss: 0.6089920662343502, Validation Loss: 0.6201882809400558\n"
     ]
    },
    {
     "name": "stderr",
     "output_type": "stream",
     "text": [
      "[I 2023-10-09 17:53:10,596] Trial 10 finished with value: 0.6065943390130997 and parameters: {'lr': 0.0003669625486768502, 'dropout_prob': 0.022264166585874323, 'hidden_channels': 256, 'n_layers': 1, 'kernel_size': 9, 'stride': 7, 'padding': 6, 'pooling_type': 'avg', 'use_batch_norm': True}. Best is trial 1 with value: 0.3542170152068138.\n"
     ]
    },
    {
     "name": "stdout",
     "output_type": "stream",
     "text": [
      "Epoch 50/50, Training Loss: 0.594125758856535, Validation Loss: 0.6065943390130997\n",
      "Epoch 10/50, Training Loss: 0.37686096876859665, Validation Loss: 0.39631348103284836\n",
      "Epoch 20/50, Training Loss: 0.25322979036718607, Validation Loss: 0.32429008930921555\n",
      "Epoch 30/50, Training Loss: 0.17487373668700457, Validation Loss: 0.32062599807977676\n",
      "Epoch 40/50, Training Loss: 0.11995055340230465, Validation Loss: 0.44196538627147675\n"
     ]
    },
    {
     "name": "stderr",
     "output_type": "stream",
     "text": [
      "[I 2023-10-09 17:57:31,156] Trial 11 finished with value: 0.5277219712734222 and parameters: {'lr': 0.0004380075625860773, 'dropout_prob': 0.3754954512536163, 'hidden_channels': 180, 'n_layers': 7, 'kernel_size': 7, 'stride': 1, 'padding': 10, 'pooling_type': 'max', 'use_batch_norm': False}. Best is trial 1 with value: 0.3542170152068138.\n"
     ]
    },
    {
     "name": "stdout",
     "output_type": "stream",
     "text": [
      "Epoch 50/50, Training Loss: 0.08321640430949628, Validation Loss: 0.5277219712734222\n",
      "Epoch 10/50, Training Loss: 0.6272273436188698, Validation Loss: 0.6383161544799805\n",
      "Epoch 20/50, Training Loss: 0.622060053050518, Validation Loss: 0.6269748210906982\n",
      "Epoch 30/50, Training Loss: 0.41602878272533417, Validation Loss: 0.4317845329642296\n",
      "Epoch 40/50, Training Loss: 0.36710951291024685, Validation Loss: 0.40776339173316956\n"
     ]
    },
    {
     "name": "stderr",
     "output_type": "stream",
     "text": [
      "[I 2023-10-09 17:58:46,863] Trial 12 finished with value: 0.36595239490270615 and parameters: {'lr': 0.0001752186558481662, 'dropout_prob': 0.3633749782353822, 'hidden_channels': 162, 'n_layers': 6, 'kernel_size': 6, 'stride': 2, 'padding': 10, 'pooling_type': 'avg', 'use_batch_norm': False}. Best is trial 1 with value: 0.3542170152068138.\n"
     ]
    },
    {
     "name": "stdout",
     "output_type": "stream",
     "text": [
      "Epoch 50/50, Training Loss: 0.3276947904378176, Validation Loss: 0.36595239490270615\n",
      "Epoch 10/50, Training Loss: 0.4665421787649393, Validation Loss: 0.45839204639196396\n",
      "Epoch 20/50, Training Loss: 0.34414262510836124, Validation Loss: 0.377867691218853\n",
      "Epoch 30/50, Training Loss: 0.24504780024290085, Validation Loss: 0.43346375972032547\n",
      "Epoch 40/50, Training Loss: 0.1770264497026801, Validation Loss: 0.38608410209417343\n"
     ]
    },
    {
     "name": "stderr",
     "output_type": "stream",
     "text": [
      "[I 2023-10-09 17:59:50,029] Trial 13 finished with value: 0.5094480365514755 and parameters: {'lr': 0.0009993033146804401, 'dropout_prob': 0.4886066800035967, 'hidden_channels': 223, 'n_layers': 6, 'kernel_size': 4, 'stride': 3, 'padding': 10, 'pooling_type': 'max', 'use_batch_norm': False}. Best is trial 1 with value: 0.3542170152068138.\n"
     ]
    },
    {
     "name": "stdout",
     "output_type": "stream",
     "text": [
      "Epoch 50/50, Training Loss: 0.1029481878504157, Validation Loss: 0.5094480365514755\n",
      "Epoch 10/50, Training Loss: 0.3410015422850847, Validation Loss: 0.3635248988866806\n",
      "Epoch 20/50, Training Loss: 0.20085472520440817, Validation Loss: 0.28226690739393234\n",
      "Epoch 30/50, Training Loss: 0.15397413168102503, Validation Loss: 0.28076115623116493\n",
      "Epoch 40/50, Training Loss: 0.0641420854954049, Validation Loss: 0.4217847138643265\n"
     ]
    },
    {
     "name": "stderr",
     "output_type": "stream",
     "text": [
      "[I 2023-10-09 18:00:38,557] Trial 14 finished with value: 0.6597282588481903 and parameters: {'lr': 0.0005395652670170353, 'dropout_prob': 0.42876688518903194, 'hidden_channels': 154, 'n_layers': 5, 'kernel_size': 7, 'stride': 3, 'padding': 8, 'pooling_type': 'avg', 'use_batch_norm': True}. Best is trial 1 with value: 0.3542170152068138.\n"
     ]
    },
    {
     "name": "stdout",
     "output_type": "stream",
     "text": [
      "Epoch 50/50, Training Loss: 0.0035542186451493762, Validation Loss: 0.6597282588481903\n",
      "Epoch 10/50, Training Loss: 0.6034506969153881, Validation Loss: 0.6123451143503189\n",
      "Epoch 20/50, Training Loss: 0.5389012284576893, Validation Loss: 0.5459127426147461\n",
      "Epoch 30/50, Training Loss: 0.4904545247554779, Validation Loss: 0.5001377388834953\n",
      "Epoch 40/50, Training Loss: 0.44899289309978485, Validation Loss: 0.4686122313141823\n"
     ]
    },
    {
     "name": "stderr",
     "output_type": "stream",
     "text": [
      "[I 2023-10-09 18:02:16,213] Trial 15 finished with value: 0.44685252755880356 and parameters: {'lr': 0.001779227247389592, 'dropout_prob': 0.3408628043119064, 'hidden_channels': 215, 'n_layers': 1, 'kernel_size': 4, 'stride': 1, 'padding': 6, 'pooling_type': 'max', 'use_batch_norm': False}. Best is trial 1 with value: 0.3542170152068138.\n"
     ]
    },
    {
     "name": "stdout",
     "output_type": "stream",
     "text": [
      "Epoch 50/50, Training Loss: 0.41614571027457714, Validation Loss: 0.44685252755880356\n"
     ]
    },
    {
     "name": "stderr",
     "output_type": "stream",
     "text": [
      "[I 2023-10-09 18:02:17,070] Trial 16 finished with value: 1.0 and parameters: {'lr': 0.009790051345607089, 'dropout_prob': 0.4357039729797018, 'hidden_channels': 177, 'n_layers': 5, 'kernel_size': 7, 'stride': 4, 'padding': 1, 'pooling_type': 'max', 'use_batch_norm': True}. Best is trial 1 with value: 0.3542170152068138.\n"
     ]
    },
    {
     "name": "stdout",
     "output_type": "stream",
     "text": [
      "Trial failed with error: Calculated padded input size per channel: (4). Kernel size: (7). Kernel size can't be greater than actual input size\n",
      "Epoch 10/50, Training Loss: 0.6268247552216053, Validation Loss: 0.6361400038003922\n",
      "Epoch 20/50, Training Loss: 0.5911681689321995, Validation Loss: 0.597290650010109\n",
      "Epoch 30/50, Training Loss: 0.49834064580500126, Validation Loss: 0.49766412377357483\n",
      "Epoch 40/50, Training Loss: 0.46148767694830894, Validation Loss: 0.4606015682220459\n"
     ]
    },
    {
     "name": "stderr",
     "output_type": "stream",
     "text": [
      "[I 2023-10-09 18:02:42,271] Trial 17 finished with value: 0.4451854005455971 and parameters: {'lr': 0.00017797322196892745, 'dropout_prob': 0.334400893163548, 'hidden_channels': 229, 'n_layers': 3, 'kernel_size': 4, 'stride': 7, 'padding': 9, 'pooling_type': 'avg', 'use_batch_norm': False}. Best is trial 1 with value: 0.3542170152068138.\n"
     ]
    },
    {
     "name": "stdout",
     "output_type": "stream",
     "text": [
      "Epoch 50/50, Training Loss: 0.44534226693212986, Validation Loss: 0.4451854005455971\n",
      "Epoch 10/50, Training Loss: 0.658182892948389, Validation Loss: 0.6585070192813873\n",
      "Epoch 20/50, Training Loss: 0.6110480576753616, Validation Loss: 0.6221576929092407\n",
      "Epoch 30/50, Training Loss: 0.5904295593500137, Validation Loss: 0.603491798043251\n",
      "Epoch 40/50, Training Loss: 0.561413124203682, Validation Loss: 0.5746586173772812\n"
     ]
    },
    {
     "name": "stderr",
     "output_type": "stream",
     "text": [
      "[I 2023-10-09 18:03:26,103] Trial 18 finished with value: 0.5406762659549713 and parameters: {'lr': 6.904791190144981e-05, 'dropout_prob': 0.3915475706368964, 'hidden_channels': 147, 'n_layers': 2, 'kernel_size': 6, 'stride': 2, 'padding': 7, 'pooling_type': 'avg', 'use_batch_norm': True}. Best is trial 1 with value: 0.3542170152068138.\n"
     ]
    },
    {
     "name": "stdout",
     "output_type": "stream",
     "text": [
      "Epoch 50/50, Training Loss: 0.5301240049302578, Validation Loss: 0.5406762659549713\n",
      "Epoch 10/50, Training Loss: 0.5884339958429337, Validation Loss: 0.5613151043653488\n",
      "Epoch 20/50, Training Loss: 0.44388461112976074, Validation Loss: 0.4472619444131851\n",
      "Epoch 30/50, Training Loss: 0.39474930986762047, Validation Loss: 0.422900453209877\n",
      "Epoch 40/50, Training Loss: 0.3395727314054966, Validation Loss: 0.36034996062517166\n"
     ]
    },
    {
     "name": "stderr",
     "output_type": "stream",
     "text": [
      "[I 2023-10-09 18:04:06,671] Trial 19 finished with value: 0.3429379239678383 and parameters: {'lr': 0.0003013429429214624, 'dropout_prob': 0.45775241875864064, 'hidden_channels': 185, 'n_layers': 5, 'kernel_size': 5, 'stride': 5, 'padding': 9, 'pooling_type': 'max', 'use_batch_norm': False}. Best is trial 19 with value: 0.3429379239678383.\n"
     ]
    },
    {
     "name": "stdout",
     "output_type": "stream",
     "text": [
      "Epoch 50/50, Training Loss: 0.31491787917912006, Validation Loss: 0.3429379239678383\n",
      "Epoch 10/50, Training Loss: 0.6528139337897301, Validation Loss: 0.6543534100055695\n",
      "Epoch 20/50, Training Loss: 0.6278740391135216, Validation Loss: 0.6375293731689453\n",
      "Epoch 30/50, Training Loss: 0.6261919550597668, Validation Loss: 0.6379399448633194\n",
      "Epoch 40/50, Training Loss: 0.6264471560716629, Validation Loss: 0.6380991488695145\n"
     ]
    },
    {
     "name": "stderr",
     "output_type": "stream",
     "text": [
      "[I 2023-10-09 18:05:15,958] Trial 20 finished with value: 0.6376315206289291 and parameters: {'lr': 0.0002870743204209196, 'dropout_prob': 0.25084331566359774, 'hidden_channels': 232, 'n_layers': 6, 'kernel_size': 6, 'stride': 7, 'padding': 7, 'pooling_type': 'avg', 'use_batch_norm': True}. Best is trial 19 with value: 0.3429379239678383.\n"
     ]
    },
    {
     "name": "stdout",
     "output_type": "stream",
     "text": [
      "Epoch 50/50, Training Loss: 0.6275476366281509, Validation Loss: 0.6376315206289291\n",
      "Epoch 10/50, Training Loss: 0.46258200891315937, Validation Loss: 0.45221753418445587\n",
      "Epoch 20/50, Training Loss: 0.37061457335948944, Validation Loss: 0.3988107144832611\n",
      "Epoch 30/50, Training Loss: 0.2956379260867834, Validation Loss: 0.3520636707544327\n",
      "Epoch 40/50, Training Loss: 0.22681950125843287, Validation Loss: 0.3291180729866028\n"
     ]
    },
    {
     "name": "stderr",
     "output_type": "stream",
     "text": [
      "[I 2023-10-09 18:06:01,661] Trial 21 finished with value: 0.3884476199746132 and parameters: {'lr': 0.0006825831208574539, 'dropout_prob': 0.45878788404589305, 'hidden_channels': 198, 'n_layers': 5, 'kernel_size': 5, 'stride': 4, 'padding': 9, 'pooling_type': 'max', 'use_batch_norm': False}. Best is trial 19 with value: 0.3429379239678383.\n"
     ]
    },
    {
     "name": "stdout",
     "output_type": "stream",
     "text": [
      "Epoch 50/50, Training Loss: 0.19185590464621782, Validation Loss: 0.3884476199746132\n",
      "Epoch 10/50, Training Loss: 0.6273383386433125, Validation Loss: 0.6391959339380264\n",
      "Epoch 20/50, Training Loss: 0.4643177166581154, Validation Loss: 0.4602404534816742\n",
      "Epoch 30/50, Training Loss: 0.4165947437286377, Validation Loss: 0.4374420642852783\n",
      "Epoch 40/50, Training Loss: 0.39811037480831146, Validation Loss: 0.41442282497882843\n"
     ]
    },
    {
     "name": "stderr",
     "output_type": "stream",
     "text": [
      "[I 2023-10-09 18:06:34,769] Trial 22 finished with value: 0.4019082188606262 and parameters: {'lr': 0.0002780315014070098, 'dropout_prob': 0.49690869997032855, 'hidden_channels': 177, 'n_layers': 5, 'kernel_size': 4, 'stride': 5, 'padding': 9, 'pooling_type': 'max', 'use_batch_norm': False}. Best is trial 19 with value: 0.3429379239678383.\n"
     ]
    },
    {
     "name": "stdout",
     "output_type": "stream",
     "text": [
      "Epoch 50/50, Training Loss: 0.3727101515978575, Validation Loss: 0.4019082188606262\n",
      "Epoch 10/50, Training Loss: 0.44850101694464684, Validation Loss: 0.4328680709004402\n",
      "Epoch 20/50, Training Loss: 0.33476347103714943, Validation Loss: 0.4099663496017456\n",
      "Epoch 30/50, Training Loss: 0.2592319371178746, Validation Loss: 0.3553745523095131\n",
      "Epoch 40/50, Training Loss: 0.20768061466515064, Validation Loss: 0.3540414199233055\n"
     ]
    },
    {
     "name": "stderr",
     "output_type": "stream",
     "text": [
      "[I 2023-10-09 18:07:26,278] Trial 23 finished with value: 0.4135848507285118 and parameters: {'lr': 0.0005518593602187686, 'dropout_prob': 0.44687104264966826, 'hidden_channels': 131, 'n_layers': 6, 'kernel_size': 5, 'stride': 2, 'padding': 10, 'pooling_type': 'max', 'use_batch_norm': False}. Best is trial 19 with value: 0.3429379239678383.\n"
     ]
    },
    {
     "name": "stdout",
     "output_type": "stream",
     "text": [
      "Epoch 50/50, Training Loss: 0.1821440113708377, Validation Loss: 0.4135848507285118\n",
      "Epoch 10/50, Training Loss: 0.42507386580109596, Validation Loss: 0.45924266427755356\n",
      "Epoch 20/50, Training Loss: 0.2694563288241625, Validation Loss: 0.3539188727736473\n",
      "Epoch 30/50, Training Loss: 0.18743891082704067, Validation Loss: 0.4134353846311569\n",
      "Epoch 40/50, Training Loss: 0.14570579444989562, Validation Loss: 0.3695862181484699\n"
     ]
    },
    {
     "name": "stderr",
     "output_type": "stream",
     "text": [
      "[I 2023-10-09 18:08:18,611] Trial 24 finished with value: 0.5011810809373856 and parameters: {'lr': 0.0011295978781784494, 'dropout_prob': 0.40238144505548035, 'hidden_channels': 188, 'n_layers': 5, 'kernel_size': 7, 'stride': 4, 'padding': 8, 'pooling_type': 'max', 'use_batch_norm': False}. Best is trial 19 with value: 0.3429379239678383.\n"
     ]
    },
    {
     "name": "stdout",
     "output_type": "stream",
     "text": [
      "Epoch 50/50, Training Loss: 0.12348389229737222, Validation Loss: 0.5011810809373856\n",
      "Epoch 10/50, Training Loss: 0.4554448090493679, Validation Loss: 0.4616752937436104\n",
      "Epoch 20/50, Training Loss: 0.3620002344250679, Validation Loss: 0.3805128410458565\n",
      "Epoch 30/50, Training Loss: 0.32195596024394035, Validation Loss: 0.35804425925016403\n",
      "Epoch 40/50, Training Loss: 0.28798878099769354, Validation Loss: 0.3600502535700798\n"
     ]
    },
    {
     "name": "stderr",
     "output_type": "stream",
     "text": [
      "[I 2023-10-09 18:08:53,055] Trial 25 finished with value: 0.3444770500063896 and parameters: {'lr': 0.00031167075756584014, 'dropout_prob': 0.4413214784776468, 'hidden_channels': 241, 'n_layers': 3, 'kernel_size': 5, 'stride': 5, 'padding': 9, 'pooling_type': 'max', 'use_batch_norm': False}. Best is trial 19 with value: 0.3429379239678383.\n"
     ]
    },
    {
     "name": "stdout",
     "output_type": "stream",
     "text": [
      "Epoch 50/50, Training Loss: 0.26599603705108166, Validation Loss: 0.3444770500063896\n",
      "Epoch 10/50, Training Loss: 0.45596358738839626, Validation Loss: 0.4460713639855385\n",
      "Epoch 20/50, Training Loss: 0.36139210499823093, Validation Loss: 0.39413032680749893\n",
      "Epoch 30/50, Training Loss: 0.3187376940622926, Validation Loss: 0.3736768588423729\n",
      "Epoch 40/50, Training Loss: 0.27599845454096794, Validation Loss: 0.3583332523703575\n"
     ]
    },
    {
     "name": "stderr",
     "output_type": "stream",
     "text": [
      "[I 2023-10-09 18:09:15,158] Trial 26 finished with value: 0.3500250056385994 and parameters: {'lr': 0.00026170022139104327, 'dropout_prob': 0.4441597655923176, 'hidden_channels': 239, 'n_layers': 3, 'kernel_size': 6, 'stride': 5, 'padding': 5, 'pooling_type': 'max', 'use_batch_norm': False}. Best is trial 19 with value: 0.3429379239678383.\n"
     ]
    },
    {
     "name": "stdout",
     "output_type": "stream",
     "text": [
      "Epoch 50/50, Training Loss: 0.2520710052922368, Validation Loss: 0.3500250056385994\n",
      "Epoch 10/50, Training Loss: 0.572512861341238, Validation Loss: 0.5784704834222794\n",
      "Epoch 20/50, Training Loss: 0.47281330823898315, Validation Loss: 0.4788370057940483\n",
      "Epoch 30/50, Training Loss: 0.4304849710315466, Validation Loss: 0.44534745812416077\n",
      "Epoch 40/50, Training Loss: 0.3984992131590843, Validation Loss: 0.4271567091345787\n"
     ]
    },
    {
     "name": "stderr",
     "output_type": "stream",
     "text": [
      "[I 2023-10-09 18:09:46,656] Trial 27 finished with value: 0.42025304585695267 and parameters: {'lr': 0.0001151695875601628, 'dropout_prob': 0.4513904622225884, 'hidden_channels': 243, 'n_layers': 3, 'kernel_size': 4, 'stride': 5, 'padding': 5, 'pooling_type': 'max', 'use_batch_norm': False}. Best is trial 19 with value: 0.3429379239678383.\n"
     ]
    },
    {
     "name": "stdout",
     "output_type": "stream",
     "text": [
      "Epoch 50/50, Training Loss: 0.37284074164927006, Validation Loss: 0.42025304585695267\n"
     ]
    },
    {
     "name": "stderr",
     "output_type": "stream",
     "text": [
      "[I 2023-10-09 18:09:47,454] Trial 28 finished with value: 1.0 and parameters: {'lr': 0.0002382882567377527, 'dropout_prob': 0.3832996813864637, 'hidden_channels': 215, 'n_layers': 4, 'kernel_size': 8, 'stride': 5, 'padding': 4, 'pooling_type': 'max', 'use_batch_norm': False}. Best is trial 19 with value: 0.3429379239678383.\n"
     ]
    },
    {
     "name": "stdout",
     "output_type": "stream",
     "text": [
      "Trial failed with error: max_pool1d() Invalid computed output size: 0\n",
      "Epoch 10/50, Training Loss: 0.5797285176813602, Validation Loss: 0.5839604884386063\n",
      "Epoch 20/50, Training Loss: 0.45177730172872543, Validation Loss: 0.4612382873892784\n",
      "Epoch 30/50, Training Loss: 0.39998120814561844, Validation Loss: 0.4187166467308998\n",
      "Epoch 40/50, Training Loss: 0.36408327519893646, Validation Loss: 0.4012329801917076\n"
     ]
    },
    {
     "name": "stderr",
     "output_type": "stream",
     "text": [
      "[I 2023-10-09 18:10:09,933] Trial 29 finished with value: 0.38471241295337677 and parameters: {'lr': 8.875227612565834e-05, 'dropout_prob': 0.46403421875989487, 'hidden_channels': 244, 'n_layers': 3, 'kernel_size': 5, 'stride': 5, 'padding': 4, 'pooling_type': 'max', 'use_batch_norm': False}. Best is trial 19 with value: 0.3429379239678383.\n"
     ]
    },
    {
     "name": "stdout",
     "output_type": "stream",
     "text": [
      "Epoch 50/50, Training Loss: 0.3324794564396143, Validation Loss: 0.38471241295337677\n",
      "Epoch 10/50, Training Loss: 0.6237729638814926, Validation Loss: 0.6368988454341888\n",
      "Epoch 20/50, Training Loss: 0.592047642916441, Validation Loss: 0.595474511384964\n",
      "Epoch 30/50, Training Loss: 0.5153898000717163, Validation Loss: 0.5130473077297211\n",
      "Epoch 40/50, Training Loss: 0.4930419437587261, Validation Loss: 0.4988922253251076\n"
     ]
    },
    {
     "name": "stderr",
     "output_type": "stream",
     "text": [
      "[I 2023-10-09 18:10:57,746] Trial 30 finished with value: 0.4916960671544075 and parameters: {'lr': 4.041540855000216e-05, 'dropout_prob': 0.36333747080186773, 'hidden_channels': 243, 'n_layers': 4, 'kernel_size': 6, 'stride': 6, 'padding': 6, 'pooling_type': 'max', 'use_batch_norm': False}. Best is trial 19 with value: 0.3429379239678383.\n"
     ]
    },
    {
     "name": "stdout",
     "output_type": "stream",
     "text": [
      "Epoch 50/50, Training Loss: 0.4882563538849354, Validation Loss: 0.4916960671544075\n",
      "Epoch 10/50, Training Loss: 0.5290086027234793, Validation Loss: 0.5299185961484909\n",
      "Epoch 20/50, Training Loss: 0.42076266929507256, Validation Loss: 0.42753366380929947\n",
      "Epoch 30/50, Training Loss: 0.36318974010646343, Validation Loss: 0.3868837431073189\n",
      "Epoch 40/50, Training Loss: 0.3325754627585411, Validation Loss: 0.3646954968571663\n"
     ]
    },
    {
     "name": "stderr",
     "output_type": "stream",
     "text": [
      "[I 2023-10-09 18:11:18,130] Trial 31 finished with value: 0.35123176872730255 and parameters: {'lr': 0.00039671504478081926, 'dropout_prob': 0.4155024374692608, 'hidden_channels': 214, 'n_layers': 2, 'kernel_size': 6, 'stride': 7, 'padding': 9, 'pooling_type': 'max', 'use_batch_norm': False}. Best is trial 19 with value: 0.3429379239678383.\n"
     ]
    },
    {
     "name": "stdout",
     "output_type": "stream",
     "text": [
      "Epoch 50/50, Training Loss: 0.30390804540365934, Validation Loss: 0.35123176872730255\n",
      "Epoch 10/50, Training Loss: 0.5849202983081341, Validation Loss: 0.5932082533836365\n",
      "Epoch 20/50, Training Loss: 0.4989635907113552, Validation Loss: 0.5069780200719833\n",
      "Epoch 30/50, Training Loss: 0.4333814773708582, Validation Loss: 0.4481593295931816\n",
      "Epoch 40/50, Training Loss: 0.39115394093096256, Validation Loss: 0.41629592329263687\n"
     ]
    },
    {
     "name": "stderr",
     "output_type": "stream",
     "text": [
      "[I 2023-10-09 18:11:37,852] Trial 32 finished with value: 0.39777782559394836 and parameters: {'lr': 0.000201889276711178, 'dropout_prob': 0.4158998796960435, 'hidden_channels': 202, 'n_layers': 2, 'kernel_size': 6, 'stride': 6, 'padding': 7, 'pooling_type': 'max', 'use_batch_norm': False}. Best is trial 19 with value: 0.3429379239678383.\n"
     ]
    },
    {
     "name": "stdout",
     "output_type": "stream",
     "text": [
      "Epoch 50/50, Training Loss: 0.35987613722682, Validation Loss: 0.39777782559394836\n",
      "Epoch 10/50, Training Loss: 0.6452347785234451, Validation Loss: 0.6488639712333679\n",
      "Epoch 20/50, Training Loss: 0.6264090165495872, Validation Loss: 0.6358050107955933\n",
      "Epoch 30/50, Training Loss: 0.6205558553338051, Validation Loss: 0.629755973815918\n",
      "Epoch 40/50, Training Loss: 0.6101422235369682, Validation Loss: 0.6229705959558487\n"
     ]
    },
    {
     "name": "stderr",
     "output_type": "stream",
     "text": [
      "[I 2023-10-09 18:11:52,627] Trial 33 finished with value: 0.6119859516620636 and parameters: {'lr': 0.00036709665954584456, 'dropout_prob': 0.4533281813360212, 'hidden_channels': 236, 'n_layers': 1, 'kernel_size': 5, 'stride': 5, 'padding': 9, 'pooling_type': 'max', 'use_batch_norm': False}. Best is trial 19 with value: 0.3429379239678383.\n"
     ]
    },
    {
     "name": "stdout",
     "output_type": "stream",
     "text": [
      "Epoch 50/50, Training Loss: 0.5992645621299744, Validation Loss: 0.6119859516620636\n",
      "Epoch 10/50, Training Loss: 0.5133711192756891, Validation Loss: 0.507547453045845\n",
      "Epoch 20/50, Training Loss: 0.4158242605626583, Validation Loss: 0.45085305720567703\n",
      "Epoch 30/50, Training Loss: 0.3546013440936804, Validation Loss: 0.42758096754550934\n",
      "Epoch 40/50, Training Loss: 0.31121191289275885, Validation Loss: 0.4022178202867508\n"
     ]
    },
    {
     "name": "stderr",
     "output_type": "stream",
     "text": [
      "[I 2023-10-09 18:12:23,125] Trial 34 finished with value: 0.4049038365483284 and parameters: {'lr': 0.00043578169452616666, 'dropout_prob': 0.4675721506167166, 'hidden_channels': 215, 'n_layers': 3, 'kernel_size': 6, 'stride': 7, 'padding': 8, 'pooling_type': 'max', 'use_batch_norm': False}. Best is trial 19 with value: 0.3429379239678383.\n"
     ]
    },
    {
     "name": "stdout",
     "output_type": "stream",
     "text": [
      "Epoch 50/50, Training Loss: 0.27072329726070166, Validation Loss: 0.4049038365483284\n",
      "Epoch 10/50, Training Loss: 0.5812973305583, Validation Loss: 0.5862133353948593\n",
      "Epoch 20/50, Training Loss: 0.4617210403084755, Validation Loss: 0.46746184676885605\n",
      "Epoch 30/50, Training Loss: 0.3806336633861065, Validation Loss: 0.4113994836807251\n",
      "Epoch 40/50, Training Loss: 0.3300632443279028, Validation Loss: 0.38491805642843246\n"
     ]
    },
    {
     "name": "stderr",
     "output_type": "stream",
     "text": [
      "[I 2023-10-09 18:12:36,548] Trial 35 finished with value: 0.372809074819088 and parameters: {'lr': 0.0002818646895644673, 'dropout_prob': 0.4203888814036191, 'hidden_channels': 166, 'n_layers': 2, 'kernel_size': 7, 'stride': 6, 'padding': 5, 'pooling_type': 'max', 'use_batch_norm': False}. Best is trial 19 with value: 0.3429379239678383.\n"
     ]
    },
    {
     "name": "stdout",
     "output_type": "stream",
     "text": [
      "Epoch 50/50, Training Loss: 0.29973595030605793, Validation Loss: 0.372809074819088\n",
      "Epoch 10/50, Training Loss: 0.6257416903972626, Validation Loss: 0.6360349208116531\n",
      "Epoch 20/50, Training Loss: 0.6078607328236103, Validation Loss: 0.6169400364160538\n",
      "Epoch 30/50, Training Loss: 0.5405056700110435, Validation Loss: 0.5498162657022476\n",
      "Epoch 40/50, Training Loss: 0.49045371264219284, Validation Loss: 0.5137063413858414\n"
     ]
    },
    {
     "name": "stderr",
     "output_type": "stream",
     "text": [
      "[I 2023-10-09 18:12:59,294] Trial 36 finished with value: 0.49698789417743683 and parameters: {'lr': 0.0001446050730322644, 'dropout_prob': 0.49952082116554175, 'hidden_channels': 196, 'n_layers': 3, 'kernel_size': 3, 'stride': 4, 'padding': 3, 'pooling_type': 'max', 'use_batch_norm': False}. Best is trial 19 with value: 0.3429379239678383.\n"
     ]
    },
    {
     "name": "stdout",
     "output_type": "stream",
     "text": [
      "Epoch 50/50, Training Loss: 0.47259921953082085, Validation Loss: 0.49698789417743683\n",
      "Epoch 10/50, Training Loss: 0.4481075443327427, Validation Loss: 0.45122604817152023\n",
      "Epoch 20/50, Training Loss: 0.36272738315165043, Validation Loss: 0.3781072124838829\n",
      "Epoch 30/50, Training Loss: 0.31957095488905907, Validation Loss: 0.3561953976750374\n",
      "Epoch 40/50, Training Loss: 0.2753525646403432, Validation Loss: 0.34077706187963486\n"
     ]
    },
    {
     "name": "stderr",
     "output_type": "stream",
     "text": [
      "[I 2023-10-09 18:13:45,880] Trial 37 finished with value: 0.3331053629517555 and parameters: {'lr': 0.00021708139198725674, 'dropout_prob': 0.40038149062190576, 'hidden_channels': 256, 'n_layers': 3, 'kernel_size': 6, 'stride': 4, 'padding': 8, 'pooling_type': 'max', 'use_batch_norm': False}. Best is trial 37 with value: 0.3331053629517555.\n"
     ]
    },
    {
     "name": "stdout",
     "output_type": "stream",
     "text": [
      "Epoch 50/50, Training Loss: 0.24580526631325483, Validation Loss: 0.3331053629517555\n",
      "Epoch 10/50, Training Loss: 0.4520800393074751, Validation Loss: 0.4551508203148842\n",
      "Epoch 20/50, Training Loss: 0.4000609237700701, Validation Loss: 0.4147873669862747\n",
      "Epoch 30/50, Training Loss: 0.3376156613230705, Validation Loss: 0.3886900916695595\n",
      "Epoch 40/50, Training Loss: 0.30189840495586395, Validation Loss: 0.37577032297849655\n"
     ]
    },
    {
     "name": "stderr",
     "output_type": "stream",
     "text": [
      "[I 2023-10-09 18:14:40,681] Trial 38 finished with value: 0.3466665670275688 and parameters: {'lr': 0.00021189201467634394, 'dropout_prob': 0.39531210210522155, 'hidden_channels': 250, 'n_layers': 4, 'kernel_size': 5, 'stride': 4, 'padding': 8, 'pooling_type': 'max', 'use_batch_norm': False}. Best is trial 37 with value: 0.3331053629517555.\n"
     ]
    },
    {
     "name": "stdout",
     "output_type": "stream",
     "text": [
      "Epoch 50/50, Training Loss: 0.27665694896131754, Validation Loss: 0.3466665670275688\n",
      "Epoch 10/50, Training Loss: 0.5080146752297878, Validation Loss: 0.5115059167146683\n",
      "Epoch 20/50, Training Loss: 0.43698769621551037, Validation Loss: 0.44271834939718246\n",
      "Epoch 30/50, Training Loss: 0.401790389791131, Validation Loss: 0.42259057611227036\n",
      "Epoch 40/50, Training Loss: 0.3783445209264755, Validation Loss: 0.41090061515569687\n"
     ]
    },
    {
     "name": "stderr",
     "output_type": "stream",
     "text": [
      "[I 2023-10-09 18:15:36,254] Trial 39 finished with value: 0.3948671743273735 and parameters: {'lr': 0.0001076186167729176, 'dropout_prob': 0.3919536873245133, 'hidden_channels': 251, 'n_layers': 4, 'kernel_size': 5, 'stride': 4, 'padding': 8, 'pooling_type': 'max', 'use_batch_norm': False}. Best is trial 37 with value: 0.3331053629517555.\n"
     ]
    },
    {
     "name": "stdout",
     "output_type": "stream",
     "text": [
      "Epoch 50/50, Training Loss: 0.3563057631254196, Validation Loss: 0.3948671743273735\n",
      "Epoch 10/50, Training Loss: 0.45563624426722527, Validation Loss: 0.45491550862789154\n",
      "Epoch 20/50, Training Loss: 0.3850181885063648, Validation Loss: 0.4012572690844536\n",
      "Epoch 30/50, Training Loss: 0.33794609270989895, Validation Loss: 0.38940782845020294\n",
      "Epoch 40/50, Training Loss: 0.30109965056180954, Validation Loss: 0.36895712465047836\n"
     ]
    },
    {
     "name": "stderr",
     "output_type": "stream",
     "text": [
      "[I 2023-10-09 18:16:33,435] Trial 40 finished with value: 0.3552279770374298 and parameters: {'lr': 0.00017740112817905363, 'dropout_prob': 0.3349737366311182, 'hidden_channels': 255, 'n_layers': 4, 'kernel_size': 4, 'stride': 3, 'padding': 8, 'pooling_type': 'max', 'use_batch_norm': False}. Best is trial 37 with value: 0.3331053629517555.\n"
     ]
    },
    {
     "name": "stdout",
     "output_type": "stream",
     "text": [
      "Epoch 50/50, Training Loss: 0.276166083291173, Validation Loss: 0.3552279770374298\n",
      "Epoch 10/50, Training Loss: 0.4856732301414013, Validation Loss: 0.48528850823640823\n",
      "Epoch 20/50, Training Loss: 0.40207600593566895, Validation Loss: 0.4131342023611069\n",
      "Epoch 30/50, Training Loss: 0.3513072934001684, Validation Loss: 0.38417329639196396\n",
      "Epoch 40/50, Training Loss: 0.31958422623574734, Validation Loss: 0.36119943112134933\n"
     ]
    },
    {
     "name": "stderr",
     "output_type": "stream",
     "text": [
      "[I 2023-10-09 18:17:05,590] Trial 41 finished with value: 0.3521825522184372 and parameters: {'lr': 0.00023789850073936868, 'dropout_prob': 0.46968608053136124, 'hidden_channels': 228, 'n_layers': 3, 'kernel_size': 5, 'stride': 5, 'padding': 7, 'pooling_type': 'max', 'use_batch_norm': False}. Best is trial 37 with value: 0.3331053629517555.\n"
     ]
    },
    {
     "name": "stdout",
     "output_type": "stream",
     "text": [
      "Epoch 50/50, Training Loss: 0.30210455134510994, Validation Loss: 0.3521825522184372\n",
      "Epoch 10/50, Training Loss: 0.5920972526073456, Validation Loss: 0.5976435393095016\n",
      "Epoch 20/50, Training Loss: 0.48925346322357655, Validation Loss: 0.48955392092466354\n",
      "Epoch 30/50, Training Loss: 0.4323081113398075, Validation Loss: 0.4407051354646683\n",
      "Epoch 40/50, Training Loss: 0.38695909082889557, Validation Loss: 0.41474707424640656\n"
     ]
    },
    {
     "name": "stderr",
     "output_type": "stream",
     "text": [
      "[I 2023-10-09 18:17:19,654] Trial 42 finished with value: 0.39828696101903915 and parameters: {'lr': 0.00014045903599397324, 'dropout_prob': 0.4070941669935337, 'hidden_channels': 104, 'n_layers': 3, 'kernel_size': 6, 'stride': 4, 'padding': 6, 'pooling_type': 'max', 'use_batch_norm': False}. Best is trial 37 with value: 0.3331053629517555.\n"
     ]
    },
    {
     "name": "stdout",
     "output_type": "stream",
     "text": [
      "Epoch 50/50, Training Loss: 0.3586584720760584, Validation Loss: 0.39828696101903915\n",
      "Epoch 10/50, Training Loss: 0.5116613581776619, Validation Loss: 0.5062095671892166\n",
      "Epoch 20/50, Training Loss: 0.46352440118789673, Validation Loss: 0.46762005239725113\n",
      "Epoch 30/50, Training Loss: 0.4191943407058716, Validation Loss: 0.41372784972190857\n",
      "Epoch 40/50, Training Loss: 0.3660046420991421, Validation Loss: 0.40372294187545776\n"
     ]
    },
    {
     "name": "stderr",
     "output_type": "stream",
     "text": [
      "[I 2023-10-09 18:18:03,529] Trial 43 finished with value: 0.37435282766819 and parameters: {'lr': 0.00030406880027242754, 'dropout_prob': 0.4401287794041772, 'hidden_channels': 240, 'n_layers': 4, 'kernel_size': 5, 'stride': 5, 'padding': 8, 'pooling_type': 'max', 'use_batch_norm': False}. Best is trial 37 with value: 0.3331053629517555.\n"
     ]
    },
    {
     "name": "stdout",
     "output_type": "stream",
     "text": [
      "Epoch 50/50, Training Loss: 0.3298555836081505, Validation Loss: 0.37435282766819\n",
      "Epoch 10/50, Training Loss: 0.469450730830431, Validation Loss: 0.4650843068957329\n",
      "Epoch 20/50, Training Loss: 0.390008594840765, Validation Loss: 0.4092992693185806\n",
      "Epoch 30/50, Training Loss: 0.3587569408118725, Validation Loss: 0.38827477395534515\n",
      "Epoch 40/50, Training Loss: 0.3268693219870329, Validation Loss: 0.3697408214211464\n"
     ]
    },
    {
     "name": "stderr",
     "output_type": "stream",
     "text": [
      "[I 2023-10-09 18:18:57,361] Trial 44 finished with value: 0.3663163483142853 and parameters: {'lr': 0.00019474428423020947, 'dropout_prob': 0.4723249432202511, 'hidden_channels': 256, 'n_layers': 4, 'kernel_size': 5, 'stride': 4, 'padding': 10, 'pooling_type': 'max', 'use_batch_norm': False}. Best is trial 37 with value: 0.3331053629517555.\n"
     ]
    },
    {
     "name": "stdout",
     "output_type": "stream",
     "text": [
      "Epoch 50/50, Training Loss: 0.29781292099505663, Validation Loss: 0.3663163483142853\n",
      "Epoch 10/50, Training Loss: 0.5727296397089958, Validation Loss: 0.5663942098617554\n",
      "Epoch 20/50, Training Loss: 0.43420629389584064, Validation Loss: 0.44533099234104156\n",
      "Epoch 30/50, Training Loss: 0.39243873208761215, Validation Loss: 0.4187115356326103\n",
      "Epoch 40/50, Training Loss: 0.36187578924000263, Validation Loss: 0.38648446649312973\n"
     ]
    },
    {
     "name": "stderr",
     "output_type": "stream",
     "text": [
      "[I 2023-10-09 18:19:01,750] Trial 45 finished with value: 0.3732859939336777 and parameters: {'lr': 0.0006651544037425082, 'dropout_prob': 0.4363824308054374, 'hidden_channels': 18, 'n_layers': 3, 'kernel_size': 5, 'stride': 5, 'padding': 9, 'pooling_type': 'max', 'use_batch_norm': False}. Best is trial 37 with value: 0.3331053629517555.\n"
     ]
    },
    {
     "name": "stdout",
     "output_type": "stream",
     "text": [
      "Epoch 50/50, Training Loss: 0.346075227484107, Validation Loss: 0.3732859939336777\n",
      "Epoch 10/50, Training Loss: 0.6060372926294804, Validation Loss: 0.6177130937576294\n",
      "Epoch 20/50, Training Loss: 0.5718340910971165, Validation Loss: 0.5810211151838303\n",
      "Epoch 30/50, Training Loss: 0.5282879620790482, Validation Loss: 0.5379688292741776\n",
      "Epoch 40/50, Training Loss: 0.495066549628973, Validation Loss: 0.50007014721632\n"
     ]
    },
    {
     "name": "stderr",
     "output_type": "stream",
     "text": [
      "[I 2023-10-09 18:19:33,281] Trial 46 finished with value: 0.46999072283506393 and parameters: {'lr': 8.512868954693843e-05, 'dropout_prob': 0.369154357916929, 'hidden_channels': 221, 'n_layers': 2, 'kernel_size': 7, 'stride': 3, 'padding': 5, 'pooling_type': 'max', 'use_batch_norm': False}. Best is trial 37 with value: 0.3331053629517555.\n"
     ]
    },
    {
     "name": "stdout",
     "output_type": "stream",
     "text": [
      "Epoch 50/50, Training Loss: 0.46069115959107876, Validation Loss: 0.46999072283506393\n",
      "Epoch 10/50, Training Loss: 0.4092104136943817, Validation Loss: 0.4209686368703842\n",
      "Epoch 20/50, Training Loss: 0.33221327513456345, Validation Loss: 0.3891679346561432\n",
      "Epoch 30/50, Training Loss: 0.2750233830884099, Validation Loss: 0.35751882940530777\n",
      "Epoch 40/50, Training Loss: 0.2287486121058464, Validation Loss: 0.3576016053557396\n"
     ]
    },
    {
     "name": "stderr",
     "output_type": "stream",
     "text": [
      "[I 2023-10-09 18:20:08,417] Trial 47 finished with value: 0.34217533469200134 and parameters: {'lr': 0.000540627302936803, 'dropout_prob': 0.4754116023961097, 'hidden_channels': 208, 'n_layers': 3, 'kernel_size': 6, 'stride': 4, 'padding': 10, 'pooling_type': 'max', 'use_batch_norm': False}. Best is trial 37 with value: 0.3331053629517555.\n"
     ]
    },
    {
     "name": "stdout",
     "output_type": "stream",
     "text": [
      "Epoch 50/50, Training Loss: 0.21291564963757992, Validation Loss: 0.34217533469200134\n",
      "Epoch 10/50, Training Loss: 0.43571607768535614, Validation Loss: 0.44103556126356125\n",
      "Epoch 20/50, Training Loss: 0.36013540625572205, Validation Loss: 0.4130968227982521\n",
      "Epoch 30/50, Training Loss: 0.2998677920550108, Validation Loss: 0.36731428653001785\n",
      "Epoch 40/50, Training Loss: 0.2480821432545781, Validation Loss: 0.3439878299832344\n"
     ]
    },
    {
     "name": "stderr",
     "output_type": "stream",
     "text": [
      "[I 2023-10-09 18:20:45,135] Trial 48 finished with value: 0.3394544869661331 and parameters: {'lr': 0.0005056718863566981, 'dropout_prob': 0.4784417222065888, 'hidden_channels': 208, 'n_layers': 4, 'kernel_size': 4, 'stride': 4, 'padding': 10, 'pooling_type': 'max', 'use_batch_norm': False}. Best is trial 37 with value: 0.3331053629517555.\n"
     ]
    },
    {
     "name": "stdout",
     "output_type": "stream",
     "text": [
      "Epoch 50/50, Training Loss: 0.22320991568267345, Validation Loss: 0.3394544869661331\n",
      "Epoch 10/50, Training Loss: 0.44376940093934536, Validation Loss: 0.4440564289689064\n",
      "Epoch 20/50, Training Loss: 0.3564693536609411, Validation Loss: 0.3965771049261093\n",
      "Epoch 30/50, Training Loss: 0.30948698706924915, Validation Loss: 0.3616095706820488\n",
      "Epoch 40/50, Training Loss: 0.26987377274781466, Validation Loss: 0.37298115342855453\n"
     ]
    },
    {
     "name": "stderr",
     "output_type": "stream",
     "text": [
      "[I 2023-10-09 18:21:18,274] Trial 49 finished with value: 0.3568689525127411 and parameters: {'lr': 0.0005007227858023965, 'dropout_prob': 0.4741127813989507, 'hidden_channels': 189, 'n_layers': 4, 'kernel_size': 3, 'stride': 3, 'padding': 10, 'pooling_type': 'max', 'use_batch_norm': False}. Best is trial 37 with value: 0.3331053629517555.\n"
     ]
    },
    {
     "name": "stdout",
     "output_type": "stream",
     "text": [
      "Epoch 50/50, Training Loss: 0.2467635590583086, Validation Loss: 0.3568689525127411\n",
      "Epoch 10/50, Training Loss: 0.4161200486123562, Validation Loss: 0.4384817108511925\n",
      "Epoch 20/50, Training Loss: 0.28174042142927647, Validation Loss: 0.35259800404310226\n",
      "Epoch 30/50, Training Loss: 0.18936723936349154, Validation Loss: 0.350922055542469\n",
      "Epoch 40/50, Training Loss: 0.10347817838191986, Validation Loss: 0.410408690571785\n"
     ]
    },
    {
     "name": "stderr",
     "output_type": "stream",
     "text": [
      "[I 2023-10-09 18:22:03,336] Trial 50 finished with value: 0.564866453409195 and parameters: {'lr': 0.0003478465331015681, 'dropout_prob': 0.49918910932831306, 'hidden_channels': 209, 'n_layers': 5, 'kernel_size': 4, 'stride': 4, 'padding': 10, 'pooling_type': 'max', 'use_batch_norm': True}. Best is trial 37 with value: 0.3331053629517555.\n"
     ]
    },
    {
     "name": "stdout",
     "output_type": "stream",
     "text": [
      "Epoch 50/50, Training Loss: 0.02849507110659033, Validation Loss: 0.564866453409195\n",
      "Epoch 10/50, Training Loss: 0.4208378214389086, Validation Loss: 0.43712370097637177\n",
      "Epoch 20/50, Training Loss: 0.31275508645921946, Validation Loss: 0.38519034534692764\n",
      "Epoch 30/50, Training Loss: 0.24018414039164782, Validation Loss: 0.36421113461256027\n",
      "Epoch 40/50, Training Loss: 0.2046476574614644, Validation Loss: 0.37507999688386917\n"
     ]
    },
    {
     "name": "stderr",
     "output_type": "stream",
     "text": [
      "[I 2023-10-09 18:22:45,044] Trial 51 finished with value: 0.3550378307700157 and parameters: {'lr': 0.000761239542250895, 'dropout_prob': 0.4856799722962474, 'hidden_channels': 224, 'n_layers': 4, 'kernel_size': 4, 'stride': 4, 'padding': 10, 'pooling_type': 'max', 'use_batch_norm': False}. Best is trial 37 with value: 0.3331053629517555.\n"
     ]
    },
    {
     "name": "stdout",
     "output_type": "stream",
     "text": [
      "Epoch 50/50, Training Loss: 0.17596982698887587, Validation Loss: 0.3550378307700157\n",
      "Epoch 10/50, Training Loss: 0.4191250205039978, Validation Loss: 0.4318084195256233\n",
      "Epoch 20/50, Training Loss: 0.345002057030797, Validation Loss: 0.3720199167728424\n",
      "Epoch 30/50, Training Loss: 0.2679690020158887, Validation Loss: 0.3592238798737526\n",
      "Epoch 40/50, Training Loss: 0.2245745277032256, Validation Loss: 0.3127656877040863\n"
     ]
    },
    {
     "name": "stderr",
     "output_type": "stream",
     "text": [
      "[I 2023-10-09 18:23:41,881] Trial 52 finished with value: 0.3032122254371643 and parameters: {'lr': 0.0004372537120907886, 'dropout_prob': 0.4231432659043704, 'hidden_channels': 207, 'n_layers': 5, 'kernel_size': 5, 'stride': 3, 'padding': 9, 'pooling_type': 'max', 'use_batch_norm': False}. Best is trial 52 with value: 0.3032122254371643.\n"
     ]
    },
    {
     "name": "stdout",
     "output_type": "stream",
     "text": [
      "Epoch 50/50, Training Loss: 0.19278570916503668, Validation Loss: 0.3032122254371643\n",
      "Epoch 10/50, Training Loss: 0.4600210878998041, Validation Loss: 0.45455098152160645\n",
      "Epoch 20/50, Training Loss: 0.400869008153677, Validation Loss: 0.4044829457998276\n",
      "Epoch 30/50, Training Loss: 0.34889134019613266, Validation Loss: 0.38121896237134933\n",
      "Epoch 40/50, Training Loss: 0.3238760493695736, Validation Loss: 0.40220314264297485\n"
     ]
    },
    {
     "name": "stderr",
     "output_type": "stream",
     "text": [
      "[I 2023-10-09 18:24:14,902] Trial 53 finished with value: 0.3557744473218918 and parameters: {'lr': 0.000534495742898976, 'dropout_prob': 0.4263460738350759, 'hidden_channels': 168, 'n_layers': 5, 'kernel_size': 3, 'stride': 3, 'padding': 9, 'pooling_type': 'max', 'use_batch_norm': False}. Best is trial 52 with value: 0.3032122254371643.\n"
     ]
    },
    {
     "name": "stdout",
     "output_type": "stream",
     "text": [
      "Epoch 50/50, Training Loss: 0.28665017057210207, Validation Loss: 0.3557744473218918\n",
      "Epoch 10/50, Training Loss: 0.6285262927412987, Validation Loss: 0.6373822689056396\n",
      "Epoch 20/50, Training Loss: 0.45787973888218403, Validation Loss: 0.4724501222372055\n",
      "Epoch 30/50, Training Loss: 0.36329225078225136, Validation Loss: 0.389650322496891\n",
      "Epoch 40/50, Training Loss: 0.27649536076933146, Validation Loss: 0.3447254151105881\n"
     ]
    },
    {
     "name": "stderr",
     "output_type": "stream",
     "text": [
      "[I 2023-10-09 18:25:14,858] Trial 54 finished with value: 0.35378698259592056 and parameters: {'lr': 0.0009598175190596532, 'dropout_prob': 0.4796243313641681, 'hidden_channels': 206, 'n_layers': 6, 'kernel_size': 4, 'stride': 3, 'padding': 9, 'pooling_type': 'avg', 'use_batch_norm': False}. Best is trial 52 with value: 0.3032122254371643.\n"
     ]
    },
    {
     "name": "stdout",
     "output_type": "stream",
     "text": [
      "Epoch 50/50, Training Loss: 0.23127879668027163, Validation Loss: 0.35378698259592056\n",
      "Epoch 10/50, Training Loss: 0.41906819492578506, Validation Loss: 0.4302457347512245\n",
      "Epoch 20/50, Training Loss: 0.32834798097610474, Validation Loss: 0.3777049034833908\n",
      "Epoch 30/50, Training Loss: 0.2576229199767113, Validation Loss: 0.339635394513607\n",
      "Epoch 40/50, Training Loss: 0.21485708002001047, Validation Loss: 0.3398658409714699\n"
     ]
    },
    {
     "name": "stderr",
     "output_type": "stream",
     "text": [
      "[I 2023-10-09 18:26:40,089] Trial 55 finished with value: 0.3589038923382759 and parameters: {'lr': 0.00039131880637156716, 'dropout_prob': 0.4497072852493039, 'hidden_channels': 191, 'n_layers': 5, 'kernel_size': 5, 'stride': 2, 'padding': 10, 'pooling_type': 'max', 'use_batch_norm': False}. Best is trial 52 with value: 0.3032122254371643.\n"
     ]
    },
    {
     "name": "stdout",
     "output_type": "stream",
     "text": [
      "Epoch 50/50, Training Loss: 0.19274837523698807, Validation Loss: 0.3589038923382759\n",
      "Epoch 10/50, Training Loss: 0.35203153267502785, Validation Loss: 0.38761628419160843\n",
      "Epoch 20/50, Training Loss: 0.25589912477880716, Validation Loss: 0.35995663702487946\n",
      "Epoch 30/50, Training Loss: 0.20787337608635426, Validation Loss: 0.33727359026670456\n",
      "Epoch 40/50, Training Loss: 0.16255221469327807, Validation Loss: 0.3503938168287277\n"
     ]
    },
    {
     "name": "stderr",
     "output_type": "stream",
     "text": [
      "[I 2023-10-09 18:27:09,430] Trial 56 finished with value: 0.3939165771007538 and parameters: {'lr': 0.0012844501627651311, 'dropout_prob': 0.41396324354954617, 'hidden_channels': 177, 'n_layers': 3, 'kernel_size': 6, 'stride': 4, 'padding': 10, 'pooling_type': 'max', 'use_batch_norm': False}. Best is trial 52 with value: 0.3032122254371643.\n"
     ]
    },
    {
     "name": "stdout",
     "output_type": "stream",
     "text": [
      "Epoch 50/50, Training Loss: 0.13657144317403436, Validation Loss: 0.3939165771007538\n",
      "Epoch 10/50, Training Loss: 0.3253817968070507, Validation Loss: 0.35807348787784576\n",
      "Epoch 20/50, Training Loss: 0.1698857033625245, Validation Loss: 0.41058696061372757\n",
      "Epoch 30/50, Training Loss: 0.05016491794958711, Validation Loss: 0.5691775158047676\n",
      "Epoch 40/50, Training Loss: 0.0032541339605813846, Validation Loss: 0.8263862729072571\n"
     ]
    },
    {
     "name": "stderr",
     "output_type": "stream",
     "text": [
      "[I 2023-10-09 18:28:47,033] Trial 57 finished with value: 0.9370413273572922 and parameters: {'lr': 0.0006385100078580083, 'dropout_prob': 0.43210323513860305, 'hidden_channels': 231, 'n_layers': 7, 'kernel_size': 6, 'stride': 3, 'padding': 9, 'pooling_type': 'max', 'use_batch_norm': True}. Best is trial 52 with value: 0.3032122254371643.\n"
     ]
    },
    {
     "name": "stdout",
     "output_type": "stream",
     "text": [
      "Epoch 50/50, Training Loss: 0.00011873466746692429, Validation Loss: 0.9370413273572922\n",
      "Epoch 10/50, Training Loss: 0.6299497224390507, Validation Loss: 0.6377437561750412\n",
      "Epoch 20/50, Training Loss: 0.6220452561974525, Validation Loss: 0.637979120016098\n",
      "Epoch 30/50, Training Loss: 0.45166283287107944, Validation Loss: 0.4577581584453583\n",
      "Epoch 40/50, Training Loss: 0.3848659563809633, Validation Loss: 0.4061163365840912\n"
     ]
    },
    {
     "name": "stderr",
     "output_type": "stream",
     "text": [
      "[I 2023-10-09 18:29:35,487] Trial 58 finished with value: 0.39977262914180756 and parameters: {'lr': 0.00044560993139334816, 'dropout_prob': 0.4606032723103847, 'hidden_channels': 149, 'n_layers': 6, 'kernel_size': 7, 'stride': 4, 'padding': 10, 'pooling_type': 'avg', 'use_batch_norm': False}. Best is trial 52 with value: 0.3032122254371643.\n"
     ]
    },
    {
     "name": "stdout",
     "output_type": "stream",
     "text": [
      "Epoch 50/50, Training Loss: 0.32490411400794983, Validation Loss: 0.39977262914180756\n",
      "Epoch 10/50, Training Loss: 0.40419689752161503, Validation Loss: 0.405621699988842\n",
      "Epoch 20/50, Training Loss: 0.2943403832614422, Validation Loss: 0.3342866450548172\n",
      "Epoch 30/50, Training Loss: 0.20921745523810387, Validation Loss: 0.31424353271722794\n",
      "Epoch 40/50, Training Loss: 0.1714333314448595, Validation Loss: 0.3405578210949898\n"
     ]
    },
    {
     "name": "stderr",
     "output_type": "stream",
     "text": [
      "[I 2023-10-09 18:30:37,256] Trial 59 finished with value: 0.35503245145082474 and parameters: {'lr': 0.0008082042749472676, 'dropout_prob': 0.4868235838687066, 'hidden_channels': 222, 'n_layers': 5, 'kernel_size': 5, 'stride': 3, 'padding': 9, 'pooling_type': 'max', 'use_batch_norm': False}. Best is trial 52 with value: 0.3032122254371643.\n"
     ]
    },
    {
     "name": "stdout",
     "output_type": "stream",
     "text": [
      "Epoch 50/50, Training Loss: 0.1284345407038927, Validation Loss: 0.35503245145082474\n",
      "Epoch 10/50, Training Loss: 0.5850759595632553, Validation Loss: 0.5924964249134064\n",
      "Epoch 20/50, Training Loss: 0.4703968297690153, Validation Loss: 0.4816078916192055\n",
      "Epoch 30/50, Training Loss: 0.40447138249874115, Validation Loss: 0.434957891702652\n",
      "Epoch 40/50, Training Loss: 0.3652331568300724, Validation Loss: 0.4127354547381401\n"
     ]
    },
    {
     "name": "stderr",
     "output_type": "stream",
     "text": [
      "[I 2023-10-09 18:30:46,559] Trial 60 finished with value: 0.4007207006216049 and parameters: {'lr': 0.00033430864661278254, 'dropout_prob': 0.40240226314075656, 'hidden_channels': 75, 'n_layers': 2, 'kernel_size': 9, 'stride': 5, 'padding': 9, 'pooling_type': 'max', 'use_batch_norm': False}. Best is trial 52 with value: 0.3032122254371643.\n"
     ]
    },
    {
     "name": "stdout",
     "output_type": "stream",
     "text": [
      "Epoch 50/50, Training Loss: 0.33476296812295914, Validation Loss: 0.4007207006216049\n",
      "Epoch 10/50, Training Loss: 0.4559987857937813, Validation Loss: 0.45115743577480316\n",
      "Epoch 20/50, Training Loss: 0.37938765808939934, Validation Loss: 0.4254625290632248\n",
      "Epoch 30/50, Training Loss: 0.33275846764445305, Validation Loss: 0.37521906942129135\n",
      "Epoch 40/50, Training Loss: 0.2945413198322058, Validation Loss: 0.3515113666653633\n"
     ]
    },
    {
     "name": "stderr",
     "output_type": "stream",
     "text": [
      "[I 2023-10-09 18:31:39,625] Trial 61 finished with value: 0.3302443102002144 and parameters: {'lr': 0.0002180819729832383, 'dropout_prob': 0.39362553024449676, 'hidden_channels': 251, 'n_layers': 4, 'kernel_size': 5, 'stride': 4, 'padding': 8, 'pooling_type': 'max', 'use_batch_norm': False}. Best is trial 52 with value: 0.3032122254371643.\n"
     ]
    },
    {
     "name": "stdout",
     "output_type": "stream",
     "text": [
      "Epoch 50/50, Training Loss: 0.2648103376850486, Validation Loss: 0.3302443102002144\n",
      "Epoch 10/50, Training Loss: 0.45269948057830334, Validation Loss: 0.4498429372906685\n",
      "Epoch 20/50, Training Loss: 0.3843239713460207, Validation Loss: 0.42202017456293106\n",
      "Epoch 30/50, Training Loss: 0.33278340473771095, Validation Loss: 0.39273402839899063\n",
      "Epoch 40/50, Training Loss: 0.2985959220677614, Validation Loss: 0.3707927167415619\n"
     ]
    },
    {
     "name": "stderr",
     "output_type": "stream",
     "text": [
      "[I 2023-10-09 18:32:24,597] Trial 62 finished with value: 0.3586719185113907 and parameters: {'lr': 0.0003013062856528107, 'dropout_prob': 0.4409065016406544, 'hidden_channels': 247, 'n_layers': 4, 'kernel_size': 4, 'stride': 4, 'padding': 9, 'pooling_type': 'max', 'use_batch_norm': False}. Best is trial 52 with value: 0.3032122254371643.\n"
     ]
    },
    {
     "name": "stdout",
     "output_type": "stream",
     "text": [
      "Epoch 50/50, Training Loss: 0.2741995071992278, Validation Loss: 0.3586719185113907\n",
      "Epoch 10/50, Training Loss: 0.6001771613955498, Validation Loss: 0.5945877134799957\n",
      "Epoch 20/50, Training Loss: 0.4519604742527008, Validation Loss: 0.44770221412181854\n",
      "Epoch 30/50, Training Loss: 0.41236444003880024, Validation Loss: 0.42164016515016556\n",
      "Epoch 40/50, Training Loss: 0.37187036499381065, Validation Loss: 0.3766048848628998\n"
     ]
    },
    {
     "name": "stderr",
     "output_type": "stream",
     "text": [
      "[I 2023-10-09 18:33:20,285] Trial 63 finished with value: 0.34795644879341125 and parameters: {'lr': 0.00015288392232702775, 'dropout_prob': 0.35345878246468015, 'hidden_channels': 234, 'n_layers': 5, 'kernel_size': 6, 'stride': 6, 'padding': 7, 'pooling_type': 'max', 'use_batch_norm': False}. Best is trial 52 with value: 0.3032122254371643.\n"
     ]
    },
    {
     "name": "stdout",
     "output_type": "stream",
     "text": [
      "Epoch 50/50, Training Loss: 0.33509524166584015, Validation Loss: 0.34795644879341125\n",
      "Epoch 10/50, Training Loss: 0.4247490931302309, Validation Loss: 0.42805590480566025\n",
      "Epoch 20/50, Training Loss: 0.33762870728969574, Validation Loss: 0.37753763049840927\n",
      "Epoch 30/50, Training Loss: 0.28909160383045673, Validation Loss: 0.35083237290382385\n",
      "Epoch 40/50, Training Loss: 0.25661541894078255, Validation Loss: 0.3503900021314621\n"
     ]
    },
    {
     "name": "stderr",
     "output_type": "stream",
     "text": [
      "[I 2023-10-09 18:33:48,134] Trial 64 finished with value: 0.3508905693888664 and parameters: {'lr': 0.0005781494608444507, 'dropout_prob': 0.3805531947241498, 'hidden_channels': 210, 'n_layers': 3, 'kernel_size': 4, 'stride': 4, 'padding': 8, 'pooling_type': 'max', 'use_batch_norm': False}. Best is trial 52 with value: 0.3032122254371643.\n"
     ]
    },
    {
     "name": "stdout",
     "output_type": "stream",
     "text": [
      "Epoch 50/50, Training Loss: 0.2207419192418456, Validation Loss: 0.3508905693888664\n",
      "Epoch 10/50, Training Loss: 0.46869710087776184, Validation Loss: 0.46739760786294937\n",
      "Epoch 20/50, Training Loss: 0.41874321550130844, Validation Loss: 0.44848453253507614\n",
      "Epoch 30/50, Training Loss: 0.3812344279140234, Validation Loss: 0.4046526774764061\n",
      "Epoch 40/50, Training Loss: 0.34791819378733635, Validation Loss: 0.3728643208742142\n"
     ]
    },
    {
     "name": "stderr",
     "output_type": "stream",
     "text": [
      "[I 2023-10-09 18:34:22,948] Trial 65 finished with value: 0.3700811490416527 and parameters: {'lr': 0.00023898078620992433, 'dropout_prob': 0.42560524256820614, 'hidden_channels': 200, 'n_layers': 4, 'kernel_size': 5, 'stride': 5, 'padding': 10, 'pooling_type': 'max', 'use_batch_norm': False}. Best is trial 52 with value: 0.3032122254371643.\n"
     ]
    },
    {
     "name": "stdout",
     "output_type": "stream",
     "text": [
      "Epoch 50/50, Training Loss: 0.3023230293765664, Validation Loss: 0.3700811490416527\n",
      "Epoch 10/50, Training Loss: 0.3251571711152792, Validation Loss: 0.3455577790737152\n",
      "Epoch 20/50, Training Loss: 0.18904781294986606, Validation Loss: 0.31969546526670456\n",
      "Epoch 30/50, Training Loss: 0.08141568512655795, Validation Loss: 0.40862061083316803\n",
      "Epoch 40/50, Training Loss: 0.017181932824314572, Validation Loss: 0.5162200927734375\n"
     ]
    },
    {
     "name": "stderr",
     "output_type": "stream",
     "text": [
      "[I 2023-10-09 18:35:21,103] Trial 66 finished with value: 0.7244093865156174 and parameters: {'lr': 0.00044034393983386714, 'dropout_prob': 0.46181104440586257, 'hidden_channels': 221, 'n_layers': 5, 'kernel_size': 5, 'stride': 4, 'padding': 8, 'pooling_type': 'max', 'use_batch_norm': True}. Best is trial 52 with value: 0.3032122254371643.\n"
     ]
    },
    {
     "name": "stdout",
     "output_type": "stream",
     "text": [
      "Epoch 50/50, Training Loss: 0.0019024863904633094, Validation Loss: 0.7244093865156174\n",
      "Epoch 10/50, Training Loss: 0.48793068528175354, Validation Loss: 0.4768775925040245\n",
      "Epoch 20/50, Training Loss: 0.3786951545625925, Validation Loss: 0.3905966952443123\n",
      "Epoch 30/50, Training Loss: 0.3319204058498144, Validation Loss: 0.3669580668210983\n",
      "Epoch 40/50, Training Loss: 0.3034463841468096, Validation Loss: 0.3495325446128845\n"
     ]
    },
    {
     "name": "stderr",
     "output_type": "stream",
     "text": [
      "[I 2023-10-09 18:36:41,503] Trial 67 finished with value: 0.34232988208532333 and parameters: {'lr': 0.00022308560400825236, 'dropout_prob': 0.3800725016315357, 'hidden_channels': 236, 'n_layers': 3, 'kernel_size': 6, 'stride': 2, 'padding': 9, 'pooling_type': 'avg', 'use_batch_norm': False}. Best is trial 52 with value: 0.3032122254371643.\n"
     ]
    },
    {
     "name": "stdout",
     "output_type": "stream",
     "text": [
      "Epoch 50/50, Training Loss: 0.2675411021336913, Validation Loss: 0.34232988208532333\n",
      "Epoch 10/50, Training Loss: 0.46272717975080013, Validation Loss: 0.461838997900486\n",
      "Epoch 20/50, Training Loss: 0.3677514046430588, Validation Loss: 0.388091079890728\n",
      "Epoch 30/50, Training Loss: 0.327657263725996, Validation Loss: 0.370467871427536\n",
      "Epoch 40/50, Training Loss: 0.3037150502204895, Validation Loss: 0.35824770480394363\n"
     ]
    },
    {
     "name": "stderr",
     "output_type": "stream",
     "text": [
      "[I 2023-10-09 18:39:38,643] Trial 68 finished with value: 0.3567409813404083 and parameters: {'lr': 0.00021512103835172544, 'dropout_prob': 0.32020614865149744, 'hidden_channels': 182, 'n_layers': 3, 'kernel_size': 6, 'stride': 1, 'padding': 10, 'pooling_type': 'avg', 'use_batch_norm': False}. Best is trial 52 with value: 0.3032122254371643.\n"
     ]
    },
    {
     "name": "stdout",
     "output_type": "stream",
     "text": [
      "Epoch 50/50, Training Loss: 0.2803638642653823, Validation Loss: 0.3567409813404083\n",
      "Epoch 10/50, Training Loss: 0.5722412616014481, Validation Loss: 0.5509196221828461\n",
      "Epoch 20/50, Training Loss: 0.38308188132941723, Validation Loss: 0.38992585241794586\n",
      "Epoch 30/50, Training Loss: 0.3292744755744934, Validation Loss: 0.3554895371198654\n",
      "Epoch 40/50, Training Loss: 0.30589606054127216, Validation Loss: 0.34490013867616653\n"
     ]
    },
    {
     "name": "stderr",
     "output_type": "stream",
     "text": [
      "[I 2023-10-09 18:40:46,217] Trial 69 finished with value: 0.3329513818025589 and parameters: {'lr': 0.00015273775086884926, 'dropout_prob': 0.3836296092973335, 'hidden_channels': 193, 'n_layers': 4, 'kernel_size': 6, 'stride': 2, 'padding': 9, 'pooling_type': 'avg', 'use_batch_norm': False}. Best is trial 52 with value: 0.3032122254371643.\n"
     ]
    },
    {
     "name": "stdout",
     "output_type": "stream",
     "text": [
      "Epoch 50/50, Training Loss: 0.29346392396837473, Validation Loss: 0.3329513818025589\n",
      "Epoch 10/50, Training Loss: 0.4429835733026266, Validation Loss: 0.4454257860779762\n",
      "Epoch 20/50, Training Loss: 0.3538004606962204, Validation Loss: 0.37858108431100845\n",
      "Epoch 30/50, Training Loss: 0.3117501921951771, Validation Loss: 0.3574259877204895\n",
      "Epoch 40/50, Training Loss: 0.2968294695019722, Validation Loss: 0.3340500667691231\n"
     ]
    },
    {
     "name": "stderr",
     "output_type": "stream",
     "text": [
      "[I 2023-10-09 18:42:23,364] Trial 70 finished with value: 0.32707445323467255 and parameters: {'lr': 0.00017019368702601636, 'dropout_prob': 0.3829915288104384, 'hidden_channels': 229, 'n_layers': 4, 'kernel_size': 7, 'stride': 2, 'padding': 7, 'pooling_type': 'avg', 'use_batch_norm': False}. Best is trial 52 with value: 0.3032122254371643.\n"
     ]
    },
    {
     "name": "stdout",
     "output_type": "stream",
     "text": [
      "Epoch 50/50, Training Loss: 0.2746301293373108, Validation Loss: 0.32707445323467255\n",
      "Epoch 10/50, Training Loss: 0.4281145725399256, Validation Loss: 0.4288569763302803\n",
      "Epoch 20/50, Training Loss: 0.3452270245179534, Validation Loss: 0.3637159913778305\n",
      "Epoch 30/50, Training Loss: 0.3024907745420933, Validation Loss: 0.3383101299405098\n",
      "Epoch 40/50, Training Loss: 0.27685532439500093, Validation Loss: 0.32627973705530167\n"
     ]
    },
    {
     "name": "stderr",
     "output_type": "stream",
     "text": [
      "[I 2023-10-09 18:43:43,414] Trial 71 finished with value: 0.32420527189970016 and parameters: {'lr': 0.0001737249458643997, 'dropout_prob': 0.39261791382828204, 'hidden_channels': 234, 'n_layers': 4, 'kernel_size': 8, 'stride': 2, 'padding': 7, 'pooling_type': 'avg', 'use_batch_norm': False}. Best is trial 52 with value: 0.3032122254371643.\n"
     ]
    },
    {
     "name": "stdout",
     "output_type": "stream",
     "text": [
      "Epoch 50/50, Training Loss: 0.2555298814550042, Validation Loss: 0.32420527189970016\n",
      "Epoch 10/50, Training Loss: 0.4433215744793415, Validation Loss: 0.43577852100133896\n",
      "Epoch 20/50, Training Loss: 0.36212881095707417, Validation Loss: 0.3804878666996956\n",
      "Epoch 30/50, Training Loss: 0.3211731556802988, Validation Loss: 0.3765169233083725\n",
      "Epoch 40/50, Training Loss: 0.2921134475618601, Validation Loss: 0.36766888201236725\n"
     ]
    },
    {
     "name": "stderr",
     "output_type": "stream",
     "text": [
      "[I 2023-10-09 18:47:04,079] Trial 72 finished with value: 0.35627642273902893 and parameters: {'lr': 0.0001546149922013204, 'dropout_prob': 0.35692085163262205, 'hidden_channels': 214, 'n_layers': 4, 'kernel_size': 8, 'stride': 1, 'padding': 7, 'pooling_type': 'avg', 'use_batch_norm': False}. Best is trial 52 with value: 0.3032122254371643.\n"
     ]
    },
    {
     "name": "stdout",
     "output_type": "stream",
     "text": [
      "Epoch 50/50, Training Loss: 0.26661325991153717, Validation Loss: 0.35627642273902893\n",
      "Epoch 10/50, Training Loss: 0.47191862016916275, Validation Loss: 0.47156132757663727\n",
      "Epoch 20/50, Training Loss: 0.35884017311036587, Validation Loss: 0.3856594040989876\n",
      "Epoch 30/50, Training Loss: 0.33813042007386684, Validation Loss: 0.35916879028081894\n",
      "Epoch 40/50, Training Loss: 0.3010678496211767, Validation Loss: 0.33488691598176956\n"
     ]
    },
    {
     "name": "stderr",
     "output_type": "stream",
     "text": [
      "[I 2023-10-09 18:48:18,458] Trial 73 finished with value: 0.3374013528227806 and parameters: {'lr': 0.00011101162116350237, 'dropout_prob': 0.39151520894440855, 'hidden_channels': 228, 'n_layers': 4, 'kernel_size': 8, 'stride': 2, 'padding': 7, 'pooling_type': 'avg', 'use_batch_norm': False}. Best is trial 52 with value: 0.3032122254371643.\n"
     ]
    },
    {
     "name": "stdout",
     "output_type": "stream",
     "text": [
      "Epoch 50/50, Training Loss: 0.29804325103759766, Validation Loss: 0.3374013528227806\n",
      "Epoch 10/50, Training Loss: 0.47961803525686264, Validation Loss: 0.4591061696410179\n",
      "Epoch 20/50, Training Loss: 0.36079979687929153, Validation Loss: 0.37990113347768784\n",
      "Epoch 30/50, Training Loss: 0.3341478519141674, Validation Loss: 0.3748749643564224\n",
      "Epoch 40/50, Training Loss: 0.31159383710473776, Validation Loss: 0.3624240905046463\n"
     ]
    },
    {
     "name": "stderr",
     "output_type": "stream",
     "text": [
      "[I 2023-10-09 18:49:45,377] Trial 74 finished with value: 0.34117208421230316 and parameters: {'lr': 0.00011637112633987654, 'dropout_prob': 0.39725433444220776, 'hidden_channels': 247, 'n_layers': 4, 'kernel_size': 8, 'stride': 2, 'padding': 7, 'pooling_type': 'avg', 'use_batch_norm': False}. Best is trial 52 with value: 0.3032122254371643.\n"
     ]
    },
    {
     "name": "stdout",
     "output_type": "stream",
     "text": [
      "Epoch 50/50, Training Loss: 0.29295026510953903, Validation Loss: 0.34117208421230316\n",
      "Epoch 10/50, Training Loss: 0.4310419913381338, Validation Loss: 0.44362346082925797\n",
      "Epoch 20/50, Training Loss: 0.3522138297557831, Validation Loss: 0.3653853088617325\n",
      "Epoch 30/50, Training Loss: 0.32526292838156223, Validation Loss: 0.3629058450460434\n",
      "Epoch 40/50, Training Loss: 0.2966624479740858, Validation Loss: 0.34903062134981155\n"
     ]
    },
    {
     "name": "stderr",
     "output_type": "stream",
     "text": [
      "[I 2023-10-09 18:51:04,222] Trial 75 finished with value: 0.31962958723306656 and parameters: {'lr': 0.00017063083172514512, 'dropout_prob': 0.37203133021597634, 'hidden_channels': 229, 'n_layers': 4, 'kernel_size': 9, 'stride': 2, 'padding': 6, 'pooling_type': 'avg', 'use_batch_norm': False}. Best is trial 52 with value: 0.3032122254371643.\n"
     ]
    },
    {
     "name": "stdout",
     "output_type": "stream",
     "text": [
      "Epoch 50/50, Training Loss: 0.27377648651599884, Validation Loss: 0.31962958723306656\n",
      "Epoch 10/50, Training Loss: 0.4177389480173588, Validation Loss: 0.4230189397931099\n",
      "Epoch 20/50, Training Loss: 0.35367217659950256, Validation Loss: 0.37366843968629837\n",
      "Epoch 30/50, Training Loss: 0.31531891226768494, Validation Loss: 0.3487895503640175\n",
      "Epoch 40/50, Training Loss: 0.27362235728651285, Validation Loss: 0.330894872546196\n"
     ]
    },
    {
     "name": "stderr",
     "output_type": "stream",
     "text": [
      "[I 2023-10-09 18:52:24,302] Trial 76 finished with value: 0.31611256301403046 and parameters: {'lr': 0.00017084888944069994, 'dropout_prob': 0.37995419104731815, 'hidden_channels': 228, 'n_layers': 4, 'kernel_size': 9, 'stride': 2, 'padding': 6, 'pooling_type': 'avg', 'use_batch_norm': False}. Best is trial 52 with value: 0.3032122254371643.\n"
     ]
    },
    {
     "name": "stdout",
     "output_type": "stream",
     "text": [
      "Epoch 50/50, Training Loss: 0.27165198884904385, Validation Loss: 0.31611256301403046\n",
      "Epoch 10/50, Training Loss: 0.4283348061144352, Validation Loss: 0.4196403846144676\n",
      "Epoch 20/50, Training Loss: 0.34307518787682056, Validation Loss: 0.37115179747343063\n",
      "Epoch 30/50, Training Loss: 0.3045682469382882, Validation Loss: 0.34579863399267197\n",
      "Epoch 40/50, Training Loss: 0.2818772131577134, Validation Loss: 0.33242863416671753\n"
     ]
    },
    {
     "name": "stderr",
     "output_type": "stream",
     "text": [
      "[I 2023-10-09 18:53:45,951] Trial 77 finished with value: 0.31342536956071854 and parameters: {'lr': 0.00017897697528639045, 'dropout_prob': 0.3749339757460082, 'hidden_channels': 238, 'n_layers': 4, 'kernel_size': 9, 'stride': 2, 'padding': 6, 'pooling_type': 'avg', 'use_batch_norm': False}. Best is trial 52 with value: 0.3032122254371643.\n"
     ]
    },
    {
     "name": "stdout",
     "output_type": "stream",
     "text": [
      "Epoch 50/50, Training Loss: 0.2952347695827484, Validation Loss: 0.31342536956071854\n",
      "Epoch 10/50, Training Loss: 0.4268974866718054, Validation Loss: 0.4255610853433609\n",
      "Epoch 20/50, Training Loss: 0.3127779122442007, Validation Loss: 0.34317488968372345\n",
      "Epoch 30/50, Training Loss: 0.22630445333197713, Validation Loss: 0.29894476383924484\n",
      "Epoch 40/50, Training Loss: 0.19950751028954983, Validation Loss: 0.3041791319847107\n"
     ]
    },
    {
     "name": "stderr",
     "output_type": "stream",
     "text": [
      "[I 2023-10-09 18:55:04,213] Trial 78 finished with value: 0.2890491262078285 and parameters: {'lr': 0.00016492978369834054, 'dropout_prob': 0.3666807261905017, 'hidden_channels': 228, 'n_layers': 4, 'kernel_size': 9, 'stride': 2, 'padding': 6, 'pooling_type': 'avg', 'use_batch_norm': True}. Best is trial 78 with value: 0.2890491262078285.\n"
     ]
    },
    {
     "name": "stdout",
     "output_type": "stream",
     "text": [
      "Epoch 50/50, Training Loss: 0.1651341845281422, Validation Loss: 0.2890491262078285\n",
      "Epoch 10/50, Training Loss: 0.3981152195483446, Validation Loss: 0.41624490171670914\n",
      "Epoch 20/50, Training Loss: 0.27489135693758726, Validation Loss: 0.33094707131385803\n",
      "Epoch 30/50, Training Loss: 0.22735685296356678, Validation Loss: 0.3039853051304817\n",
      "Epoch 40/50, Training Loss: 0.17796539142727852, Validation Loss: 0.28489338606595993\n"
     ]
    },
    {
     "name": "stderr",
     "output_type": "stream",
     "text": [
      "[I 2023-10-09 18:56:28,452] Trial 79 finished with value: 0.2809157706797123 and parameters: {'lr': 0.0001713208509210072, 'dropout_prob': 0.36847654411065006, 'hidden_channels': 236, 'n_layers': 4, 'kernel_size': 9, 'stride': 2, 'padding': 6, 'pooling_type': 'avg', 'use_batch_norm': True}. Best is trial 79 with value: 0.2809157706797123.\n"
     ]
    },
    {
     "name": "stdout",
     "output_type": "stream",
     "text": [
      "Epoch 50/50, Training Loss: 0.14807671355083585, Validation Loss: 0.2809157706797123\n",
      "Epoch 10/50, Training Loss: 0.41500680334866047, Validation Loss: 0.40743231773376465\n",
      "Epoch 20/50, Training Loss: 0.2988896481692791, Validation Loss: 0.3337749168276787\n",
      "Epoch 30/50, Training Loss: 0.24085162114351988, Validation Loss: 0.30094556510448456\n",
      "Epoch 40/50, Training Loss: 0.1848865277133882, Validation Loss: 0.29063916206359863\n"
     ]
    },
    {
     "name": "stderr",
     "output_type": "stream",
     "text": [
      "[I 2023-10-09 18:57:40,507] Trial 80 finished with value: 0.2834302708506584 and parameters: {'lr': 0.00017258558914256712, 'dropout_prob': 0.3484637643740119, 'hidden_channels': 227, 'n_layers': 4, 'kernel_size': 9, 'stride': 2, 'padding': 6, 'pooling_type': 'avg', 'use_batch_norm': True}. Best is trial 79 with value: 0.2809157706797123.\n"
     ]
    },
    {
     "name": "stdout",
     "output_type": "stream",
     "text": [
      "Epoch 50/50, Training Loss: 0.16035181237384677, Validation Loss: 0.2834302708506584\n",
      "Epoch 10/50, Training Loss: 0.400704575702548, Validation Loss: 0.4369296729564667\n",
      "Epoch 20/50, Training Loss: 0.27270355448126793, Validation Loss: 0.33745960891246796\n",
      "Epoch 30/50, Training Loss: 0.21748021431267262, Validation Loss: 0.2990092411637306\n",
      "Epoch 40/50, Training Loss: 0.16832383815199137, Validation Loss: 0.30090195685625076\n"
     ]
    },
    {
     "name": "stderr",
     "output_type": "stream",
     "text": [
      "[I 2023-10-09 18:59:10,915] Trial 81 finished with value: 0.2823013663291931 and parameters: {'lr': 0.0001779717618878478, 'dropout_prob': 0.3712228027384685, 'hidden_channels': 237, 'n_layers': 4, 'kernel_size': 9, 'stride': 2, 'padding': 6, 'pooling_type': 'avg', 'use_batch_norm': True}. Best is trial 79 with value: 0.2809157706797123.\n"
     ]
    },
    {
     "name": "stdout",
     "output_type": "stream",
     "text": [
      "Epoch 50/50, Training Loss: 0.1363391256891191, Validation Loss: 0.2823013663291931\n",
      "Epoch 10/50, Training Loss: 0.3809264153242111, Validation Loss: 0.3951890394091606\n",
      "Epoch 20/50, Training Loss: 0.27622014097869396, Validation Loss: 0.32845743745565414\n",
      "Epoch 30/50, Training Loss: 0.23517509642988443, Validation Loss: 0.30644095689058304\n",
      "Epoch 40/50, Training Loss: 0.18819721974432468, Validation Loss: 0.2810121178627014\n"
     ]
    },
    {
     "name": "stderr",
     "output_type": "stream",
     "text": [
      "[I 2023-10-09 19:00:15,251] Trial 82 finished with value: 0.2734515219926834 and parameters: {'lr': 0.00018137907646630452, 'dropout_prob': 0.3524356687822107, 'hidden_channels': 219, 'n_layers': 4, 'kernel_size': 9, 'stride': 2, 'padding': 6, 'pooling_type': 'avg', 'use_batch_norm': True}. Best is trial 82 with value: 0.2734515219926834.\n"
     ]
    },
    {
     "name": "stdout",
     "output_type": "stream",
     "text": [
      "Epoch 50/50, Training Loss: 0.1466558058746159, Validation Loss: 0.2734515219926834\n",
      "Epoch 10/50, Training Loss: 0.4064583145081997, Validation Loss: 0.40956828743219376\n",
      "Epoch 20/50, Training Loss: 0.28358637914061546, Validation Loss: 0.3402949273586273\n",
      "Epoch 30/50, Training Loss: 0.22278239578008652, Validation Loss: 0.3089994862675667\n",
      "Epoch 40/50, Training Loss: 0.16768233478069305, Validation Loss: 0.32149942219257355\n"
     ]
    },
    {
     "name": "stderr",
     "output_type": "stream",
     "text": [
      "[I 2023-10-09 19:03:50,124] Trial 83 finished with value: 0.33913707733154297 and parameters: {'lr': 0.00012637012401641302, 'dropout_prob': 0.3516481335931285, 'hidden_channels': 224, 'n_layers': 4, 'kernel_size': 9, 'stride': 1, 'padding': 6, 'pooling_type': 'avg', 'use_batch_norm': True}. Best is trial 82 with value: 0.2734515219926834.\n"
     ]
    },
    {
     "name": "stdout",
     "output_type": "stream",
     "text": [
      "Epoch 50/50, Training Loss: 0.1334183169528842, Validation Loss: 0.33913707733154297\n",
      "Epoch 10/50, Training Loss: 0.45787091739475727, Validation Loss: 0.4506053924560547\n",
      "Epoch 20/50, Training Loss: 0.3052073884755373, Validation Loss: 0.34468722343444824\n",
      "Epoch 30/50, Training Loss: 0.26049996074289083, Validation Loss: 0.3180992230772972\n",
      "Epoch 40/50, Training Loss: 0.2037349957972765, Validation Loss: 0.29338033497333527\n"
     ]
    },
    {
     "name": "stderr",
     "output_type": "stream",
     "text": [
      "[I 2023-10-09 19:04:52,769] Trial 84 finished with value: 0.2795315384864807 and parameters: {'lr': 0.00013118993440618137, 'dropout_prob': 0.37001961188870697, 'hidden_channels': 218, 'n_layers': 4, 'kernel_size': 9, 'stride': 2, 'padding': 6, 'pooling_type': 'avg', 'use_batch_norm': True}. Best is trial 82 with value: 0.2734515219926834.\n"
     ]
    },
    {
     "name": "stdout",
     "output_type": "stream",
     "text": [
      "Epoch 50/50, Training Loss: 0.17893151752650738, Validation Loss: 0.2795315384864807\n",
      "Epoch 10/50, Training Loss: 0.4963977728039026, Validation Loss: 0.4777345433831215\n",
      "Epoch 20/50, Training Loss: 0.29287538677453995, Validation Loss: 0.3509201556444168\n",
      "Epoch 30/50, Training Loss: 0.24303625151515007, Validation Loss: 0.3385188952088356\n",
      "Epoch 40/50, Training Loss: 0.19452702160924673, Validation Loss: 0.33268897235393524\n"
     ]
    },
    {
     "name": "stderr",
     "output_type": "stream",
     "text": [
      "[I 2023-10-09 19:08:35,140] Trial 85 finished with value: 0.32885468006134033 and parameters: {'lr': 9.454181798485124e-05, 'dropout_prob': 0.3426569749182615, 'hidden_channels': 218, 'n_layers': 4, 'kernel_size': 9, 'stride': 1, 'padding': 6, 'pooling_type': 'avg', 'use_batch_norm': True}. Best is trial 82 with value: 0.2734515219926834.\n"
     ]
    },
    {
     "name": "stdout",
     "output_type": "stream",
     "text": [
      "Epoch 50/50, Training Loss: 0.1643460327759385, Validation Loss: 0.32885468006134033\n",
      "Epoch 10/50, Training Loss: 0.4427122361958027, Validation Loss: 0.43639636039733887\n",
      "Epoch 20/50, Training Loss: 0.3073402177542448, Validation Loss: 0.34024225920438766\n",
      "Epoch 30/50, Training Loss: 0.24560235999524593, Validation Loss: 0.3135792315006256\n",
      "Epoch 40/50, Training Loss: 0.21178932953625917, Validation Loss: 0.28154490888118744\n"
     ]
    },
    {
     "name": "stderr",
     "output_type": "stream",
     "text": [
      "[I 2023-10-09 19:09:52,929] Trial 86 finished with value: 0.28135713189840317 and parameters: {'lr': 0.000132643944566865, 'dropout_prob': 0.36698944919876036, 'hidden_channels': 240, 'n_layers': 4, 'kernel_size': 9, 'stride': 2, 'padding': 6, 'pooling_type': 'avg', 'use_batch_norm': True}. Best is trial 82 with value: 0.2734515219926834.\n"
     ]
    },
    {
     "name": "stdout",
     "output_type": "stream",
     "text": [
      "Epoch 50/50, Training Loss: 0.17584322020411491, Validation Loss: 0.28135713189840317\n",
      "Epoch 10/50, Training Loss: 0.6152986101806164, Validation Loss: 0.6188092529773712\n",
      "Epoch 20/50, Training Loss: 0.39152772165834904, Validation Loss: 0.4009980484843254\n",
      "Epoch 30/50, Training Loss: 0.32489927113056183, Validation Loss: 0.39741043001413345\n",
      "Epoch 40/50, Training Loss: 0.27504438161849976, Validation Loss: 0.31981316208839417\n"
     ]
    },
    {
     "name": "stderr",
     "output_type": "stream",
     "text": [
      "[I 2023-10-09 19:11:12,947] Trial 87 finished with value: 0.2954366132616997 and parameters: {'lr': 7.46316587714972e-05, 'dropout_prob': 0.3655561673663627, 'hidden_channels': 241, 'n_layers': 5, 'kernel_size': 9, 'stride': 2, 'padding': 5, 'pooling_type': 'avg', 'use_batch_norm': True}. Best is trial 82 with value: 0.2734515219926834.\n"
     ]
    },
    {
     "name": "stdout",
     "output_type": "stream",
     "text": [
      "Epoch 50/50, Training Loss: 0.23758001998066902, Validation Loss: 0.2954366132616997\n",
      "Epoch 10/50, Training Loss: 0.6167170815169811, Validation Loss: 0.6224054396152496\n",
      "Epoch 20/50, Training Loss: 0.38439757004380226, Validation Loss: 0.412140317261219\n",
      "Epoch 30/50, Training Loss: 0.31666954047977924, Validation Loss: 0.35554089397192\n",
      "Epoch 40/50, Training Loss: 0.2781552020460367, Validation Loss: 0.315925695002079\n"
     ]
    },
    {
     "name": "stderr",
     "output_type": "stream",
     "text": [
      "[I 2023-10-09 19:12:31,307] Trial 88 finished with value: 0.2850722149014473 and parameters: {'lr': 6.32645678678293e-05, 'dropout_prob': 0.3216971658001458, 'hidden_channels': 244, 'n_layers': 5, 'kernel_size': 9, 'stride': 2, 'padding': 5, 'pooling_type': 'avg', 'use_batch_norm': True}. Best is trial 82 with value: 0.2734515219926834.\n"
     ]
    },
    {
     "name": "stdout",
     "output_type": "stream",
     "text": [
      "Epoch 50/50, Training Loss: 0.25204521231353283, Validation Loss: 0.2850722149014473\n",
      "Epoch 10/50, Training Loss: 0.6272431053221226, Validation Loss: 0.635130375623703\n",
      "Epoch 20/50, Training Loss: 0.46427614986896515, Validation Loss: 0.46135760098695755\n",
      "Epoch 30/50, Training Loss: 0.35229428112506866, Validation Loss: 0.36628711223602295\n",
      "Epoch 40/50, Training Loss: 0.3019015248864889, Validation Loss: 0.3359645754098892\n"
     ]
    },
    {
     "name": "stderr",
     "output_type": "stream",
     "text": [
      "[I 2023-10-09 19:13:55,837] Trial 89 finished with value: 0.29356319457292557 and parameters: {'lr': 5.265455511608096e-05, 'dropout_prob': 0.3158231051059832, 'hidden_channels': 243, 'n_layers': 5, 'kernel_size': 9, 'stride': 2, 'padding': 5, 'pooling_type': 'avg', 'use_batch_norm': True}. Best is trial 82 with value: 0.2734515219926834.\n"
     ]
    },
    {
     "name": "stdout",
     "output_type": "stream",
     "text": [
      "Epoch 50/50, Training Loss: 0.260681857354939, Validation Loss: 0.29356319457292557\n",
      "Epoch 10/50, Training Loss: 0.6143348291516304, Validation Loss: 0.6170153170824051\n",
      "Epoch 20/50, Training Loss: 0.3891641367226839, Validation Loss: 0.399958074092865\n",
      "Epoch 30/50, Training Loss: 0.32291520573198795, Validation Loss: 0.3486304357647896\n",
      "Epoch 40/50, Training Loss: 0.3070192188024521, Validation Loss: 0.3253485858440399\n"
     ]
    },
    {
     "name": "stderr",
     "output_type": "stream",
     "text": [
      "[I 2023-10-09 19:15:29,863] Trial 90 finished with value: 0.2832846939563751 and parameters: {'lr': 6.754984831762578e-05, 'dropout_prob': 0.31892336868645926, 'hidden_channels': 246, 'n_layers': 5, 'kernel_size': 9, 'stride': 2, 'padding': 5, 'pooling_type': 'avg', 'use_batch_norm': True}. Best is trial 82 with value: 0.2734515219926834.\n"
     ]
    },
    {
     "name": "stdout",
     "output_type": "stream",
     "text": [
      "Epoch 50/50, Training Loss: 0.24763170257210732, Validation Loss: 0.2832846939563751\n",
      "Epoch 10/50, Training Loss: 0.6226081624627113, Validation Loss: 0.6310214996337891\n",
      "Epoch 20/50, Training Loss: 0.42329064570367336, Validation Loss: 0.4276122525334358\n",
      "Epoch 30/50, Training Loss: 0.3589996248483658, Validation Loss: 0.36139631271362305\n",
      "Epoch 40/50, Training Loss: 0.29890379309654236, Validation Loss: 0.33371806144714355\n"
     ]
    },
    {
     "name": "stderr",
     "output_type": "stream",
     "text": [
      "[I 2023-10-09 19:17:04,737] Trial 91 finished with value: 0.30588508397340775 and parameters: {'lr': 5.988047413922027e-05, 'dropout_prob': 0.3204339987977701, 'hidden_channels': 245, 'n_layers': 5, 'kernel_size': 9, 'stride': 2, 'padding': 5, 'pooling_type': 'avg', 'use_batch_norm': True}. Best is trial 82 with value: 0.2734515219926834.\n"
     ]
    },
    {
     "name": "stdout",
     "output_type": "stream",
     "text": [
      "Epoch 50/50, Training Loss: 0.2698391620069742, Validation Loss: 0.30588508397340775\n",
      "Epoch 10/50, Training Loss: 0.6259044297039509, Validation Loss: 0.6350760757923126\n",
      "Epoch 20/50, Training Loss: 0.4833439774811268, Validation Loss: 0.4684761166572571\n",
      "Epoch 30/50, Training Loss: 0.35058554261922836, Validation Loss: 0.3798266723752022\n",
      "Epoch 40/50, Training Loss: 0.32260449696332216, Validation Loss: 0.34278882294893265\n"
     ]
    },
    {
     "name": "stderr",
     "output_type": "stream",
     "text": [
      "[I 2023-10-09 19:18:46,587] Trial 92 finished with value: 0.31128401309251785 and parameters: {'lr': 5.410805929630707e-05, 'dropout_prob': 0.32756859562566526, 'hidden_channels': 250, 'n_layers': 5, 'kernel_size': 9, 'stride': 2, 'padding': 4, 'pooling_type': 'avg', 'use_batch_norm': True}. Best is trial 82 with value: 0.2734515219926834.\n"
     ]
    },
    {
     "name": "stdout",
     "output_type": "stream",
     "text": [
      "Epoch 50/50, Training Loss: 0.294809359125793, Validation Loss: 0.31128401309251785\n",
      "Epoch 10/50, Training Loss: 0.3836629744619131, Validation Loss: 0.40261587500572205\n",
      "Epoch 20/50, Training Loss: 0.30903796292841434, Validation Loss: 0.3524862602353096\n",
      "Epoch 30/50, Training Loss: 0.2262860219925642, Validation Loss: 0.28245416283607483\n",
      "Epoch 40/50, Training Loss: 0.16749227326363325, Validation Loss: 0.2805190905928612\n"
     ]
    },
    {
     "name": "stderr",
     "output_type": "stream",
     "text": [
      "[I 2023-10-09 19:23:10,025] Trial 93 finished with value: 0.29825909063220024 and parameters: {'lr': 0.00010507359391244474, 'dropout_prob': 0.3054485318405692, 'hidden_channels': 239, 'n_layers': 6, 'kernel_size': 9, 'stride': 1, 'padding': 5, 'pooling_type': 'avg', 'use_batch_norm': True}. Best is trial 82 with value: 0.2734515219926834.\n"
     ]
    },
    {
     "name": "stdout",
     "output_type": "stream",
     "text": [
      "Epoch 50/50, Training Loss: 0.1317244777455926, Validation Loss: 0.29825909063220024\n",
      "Epoch 10/50, Training Loss: 0.5879749916493893, Validation Loss: 0.5673774033784866\n",
      "Epoch 20/50, Training Loss: 0.3835288677364588, Validation Loss: 0.39039888232946396\n",
      "Epoch 30/50, Training Loss: 0.3053021328523755, Validation Loss: 0.3446982651948929\n",
      "Epoch 40/50, Training Loss: 0.24610053934156895, Validation Loss: 0.30489446222782135\n"
     ]
    },
    {
     "name": "stderr",
     "output_type": "stream",
     "text": [
      "[I 2023-10-09 19:24:49,466] Trial 94 finished with value: 0.28256862610578537 and parameters: {'lr': 9.523363572858509e-05, 'dropout_prob': 0.34124297917839375, 'hidden_channels': 245, 'n_layers': 5, 'kernel_size': 9, 'stride': 2, 'padding': 5, 'pooling_type': 'avg', 'use_batch_norm': True}. Best is trial 82 with value: 0.2734515219926834.\n"
     ]
    },
    {
     "name": "stdout",
     "output_type": "stream",
     "text": [
      "Epoch 50/50, Training Loss: 0.20274591632187366, Validation Loss: 0.28256862610578537\n",
      "Epoch 10/50, Training Loss: 0.5607350505888462, Validation Loss: 0.5295019149780273\n",
      "Epoch 20/50, Training Loss: 0.32694307528436184, Validation Loss: 0.3655655160546303\n",
      "Epoch 30/50, Training Loss: 0.2642332362011075, Validation Loss: 0.3273940533399582\n",
      "Epoch 40/50, Training Loss: 0.21498896554112434, Validation Loss: 0.29626039415597916\n"
     ]
    },
    {
     "name": "stderr",
     "output_type": "stream",
     "text": [
      "[I 2023-10-09 19:26:17,048] Trial 95 finished with value: 0.29735639691352844 and parameters: {'lr': 0.00012782200609202707, 'dropout_prob': 0.3440422843082997, 'hidden_channels': 251, 'n_layers': 5, 'kernel_size': 9, 'stride': 2, 'padding': 4, 'pooling_type': 'avg', 'use_batch_norm': True}. Best is trial 82 with value: 0.2734515219926834.\n"
     ]
    },
    {
     "name": "stdout",
     "output_type": "stream",
     "text": [
      "Epoch 50/50, Training Loss: 0.18453663121908903, Validation Loss: 0.29735639691352844\n",
      "Epoch 10/50, Training Loss: 0.5808340385556221, Validation Loss: 0.563269168138504\n",
      "Epoch 20/50, Training Loss: 0.38435063138604164, Validation Loss: 0.3852425813674927\n",
      "Epoch 30/50, Training Loss: 0.2985153179615736, Validation Loss: 0.3294088691473007\n",
      "Epoch 40/50, Training Loss: 0.25740671809762716, Validation Loss: 0.2936065047979355\n"
     ]
    },
    {
     "name": "stderr",
     "output_type": "stream",
     "text": [
      "[I 2023-10-09 19:27:27,914] Trial 96 finished with value: 0.28828030079603195 and parameters: {'lr': 8.375526594306846e-05, 'dropout_prob': 0.33247995524470514, 'hidden_channels': 234, 'n_layers': 5, 'kernel_size': 9, 'stride': 2, 'padding': 6, 'pooling_type': 'avg', 'use_batch_norm': True}. Best is trial 82 with value: 0.2734515219926834.\n"
     ]
    },
    {
     "name": "stdout",
     "output_type": "stream",
     "text": [
      "Epoch 50/50, Training Loss: 0.2191999200731516, Validation Loss: 0.28828030079603195\n",
      "Epoch 10/50, Training Loss: 0.5958771891891956, Validation Loss: 0.5835735648870468\n",
      "Epoch 20/50, Training Loss: 0.37985641323029995, Validation Loss: 0.37834854423999786\n",
      "Epoch 30/50, Training Loss: 0.3394213914871216, Validation Loss: 0.3468991816043854\n",
      "Epoch 40/50, Training Loss: 0.27320175990462303, Validation Loss: 0.3892720863223076\n"
     ]
    },
    {
     "name": "stderr",
     "output_type": "stream",
     "text": [
      "[I 2023-10-09 19:28:38,045] Trial 97 finished with value: 0.2974071279168129 and parameters: {'lr': 8.37283342254321e-05, 'dropout_prob': 0.2891820260517576, 'hidden_channels': 233, 'n_layers': 5, 'kernel_size': 9, 'stride': 2, 'padding': 6, 'pooling_type': 'avg', 'use_batch_norm': True}. Best is trial 82 with value: 0.2734515219926834.\n"
     ]
    },
    {
     "name": "stdout",
     "output_type": "stream",
     "text": [
      "Epoch 50/50, Training Loss: 0.23440580163151026, Validation Loss: 0.2974071279168129\n",
      "Epoch 10/50, Training Loss: 0.3715367019176483, Validation Loss: 0.3870939686894417\n",
      "Epoch 20/50, Training Loss: 0.2523622317239642, Validation Loss: 0.3115697279572487\n",
      "Epoch 30/50, Training Loss: 0.17719637602567673, Validation Loss: 0.2849443554878235\n",
      "Epoch 40/50, Training Loss: 0.13867640169337392, Validation Loss: 0.28732798993587494\n"
     ]
    },
    {
     "name": "stderr",
     "output_type": "stream",
     "text": [
      "[I 2023-10-09 19:32:16,514] Trial 98 finished with value: 0.3419702649116516 and parameters: {'lr': 0.0001328100483506015, 'dropout_prob': 0.3366969794931325, 'hidden_channels': 218, 'n_layers': 5, 'kernel_size': 9, 'stride': 1, 'padding': 5, 'pooling_type': 'avg', 'use_batch_norm': True}. Best is trial 82 with value: 0.2734515219926834.\n"
     ]
    },
    {
     "name": "stdout",
     "output_type": "stream",
     "text": [
      "Epoch 50/50, Training Loss: 0.09788085939362645, Validation Loss: 0.3419702649116516\n",
      "Epoch 10/50, Training Loss: 0.42618376947939396, Validation Loss: 0.41551174223423004\n",
      "Epoch 20/50, Training Loss: 0.2972598932683468, Validation Loss: 0.3645159900188446\n",
      "Epoch 30/50, Training Loss: 0.2164282128214836, Validation Loss: 0.33888906985521317\n",
      "Epoch 40/50, Training Loss: 0.17236564308404922, Validation Loss: 0.32960981875658035\n"
     ]
    },
    {
     "name": "stderr",
     "output_type": "stream",
     "text": [
      "[I 2023-10-09 19:36:45,481] Trial 99 finished with value: 0.36982356011867523 and parameters: {'lr': 9.759823383670421e-05, 'dropout_prob': 0.34992630732538843, 'hidden_channels': 255, 'n_layers': 5, 'kernel_size': 8, 'stride': 1, 'padding': 6, 'pooling_type': 'avg', 'use_batch_norm': True}. Best is trial 82 with value: 0.2734515219926834.\n"
     ]
    },
    {
     "name": "stdout",
     "output_type": "stream",
     "text": [
      "Epoch 50/50, Training Loss: 0.15143727138638496, Validation Loss: 0.36982356011867523\n"
     ]
    }
   ],
   "source": [
    "# Create an Optuna study with SQLite storage and TPE pruner\n",
    "study = optuna.create_study(\n",
    "    study_name=\"Case#4: Acceleration Inner\",\n",
    "    direction=\"minimize\",  # Minimize final validation loss\n",
    "    storage=\"sqlite:///../../database_sqllite//db.sqlite3\",\n",
    "    pruner=optuna.pruners.MedianPruner(n_warmup_steps=5),  \n",
    ")\n",
    "\n",
    "# Define the number of trials (hyperparameter combinations) you want to search\n",
    "num_trials = 100  \n",
    "\n",
    "# Perform hyperparameter optimization\n",
    "study.optimize(objective, n_trials=num_trials, n_jobs=1)\n"
   ]
  },
  {
   "cell_type": "code",
   "execution_count": 12,
   "metadata": {},
   "outputs": [
    {
     "name": "stdout",
     "output_type": "stream",
     "text": [
      "Best hyperparameters:\n",
      "{'lr': 0.00018137907646630452, 'dropout_prob': 0.3524356687822107, 'hidden_channels': 219, 'n_layers': 4, 'kernel_size': 9, 'stride': 2, 'padding': 6, 'pooling_type': 'avg', 'use_batch_norm': True}\n",
      "Best final validation loss:\n",
      "0.2734515219926834\n"
     ]
    }
   ],
   "source": [
    "# Print the best hyperparameters and their associated final validation loss\n",
    "print(\"Best hyperparameters:\")\n",
    "print(study.best_params)\n",
    "print(\"Best final validation loss:\")\n",
    "print(study.best_value)"
   ]
  },
  {
   "cell_type": "code",
   "execution_count": 13,
   "metadata": {},
   "outputs": [],
   "source": [
    "# Specify the path where you want to save the JSON file\n",
    "config_file_path = \"../best_configs/acc_inner_best_configs.json\""
   ]
  },
  {
   "cell_type": "code",
   "execution_count": 15,
   "metadata": {},
   "outputs": [],
   "source": [
    "# Load the saved configuration\n",
    "with open(config_file_path, \"r\") as config_file:\n",
    "    saved_configs = json.load(config_file)\n",
    "\n",
    "# Compare the new best value with the saved one\n",
    "if study.best_value < saved_configs[\"best_value\"]:\n",
    "    print(\"New best value found. Replacing saved configuration.\")\n",
    "    saved_configs[\"best_params\"] = study.best_params\n",
    "    saved_configs[\"best_value\"] = study.best_value\n",
    "\n",
    "    # Update the saved configuration file\n",
    "    with open(config_file_path, \"w\") as config_file:\n",
    "        json.dump(saved_configs, config_file)"
   ]
  },
  {
   "cell_type": "code",
   "execution_count": 14,
   "metadata": {},
   "outputs": [],
   "source": [
    "# Save the best hyperparameters and validation loss to a JSON file\n",
    "best_configs = {\n",
    "    \"best_params\": study.best_params,\n",
    "    \"best_value\": study.best_value,\n",
    "}\n",
    "\n",
    "with open(config_file_path, \"w\") as config_file:\n",
    "    json.dump(best_configs, config_file)"
   ]
  },
  {
   "cell_type": "markdown",
   "metadata": {},
   "source": [
    "# Thank You"
   ]
  }
 ],
 "metadata": {
  "kernelspec": {
   "display_name": ".aifaps",
   "language": "python",
   "name": "python3"
  },
  "language_info": {
   "codemirror_mode": {
    "name": "ipython",
    "version": 3
   },
   "file_extension": ".py",
   "mimetype": "text/x-python",
   "name": "python",
   "nbconvert_exporter": "python",
   "pygments_lexer": "ipython3",
   "version": "3.11.4"
  },
  "orig_nbformat": 4
 },
 "nbformat": 4,
 "nbformat_minor": 2
}
